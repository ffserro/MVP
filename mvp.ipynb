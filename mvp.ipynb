{
  "cells": [
    {
      "cell_type": "markdown",
      "id": "269fe9a4",
      "metadata": {
        "id": "269fe9a4"
      },
      "source": [
        "[![Open In Colab](https://colab.research.google.com/assets/colab-badge.svg)](https://colab.research.google.com/github/ffserro/MVP/blob/master/mvp.ipynb)\n"
      ]
    },
    {
      "cell_type": "markdown",
      "source": [
        "# Regressão Linear para Series Temporais - Planejamento dos dispêndios de alimentação de militares da Marinha do Brasil"
      ],
      "metadata": {
        "id": "wL7a42D2_9De"
      },
      "id": "wL7a42D2_9De"
    },
    {
      "cell_type": "markdown",
      "source": [
        "## Contextualização\n",
        "\n"
      ],
      "metadata": {
        "id": "jkWGTW6eI5k9"
      },
      "id": "jkWGTW6eI5k9"
    },
    {
      "cell_type": "markdown",
      "source": [
        "### O que é o municiamento?\n",
        "A Gestoria de Munciamento é o conjunto dos processos responsáveis por gerir diariamente a alimentação e subsistência dos militares e servidores lotados nas organizações militares da Marinha do Brasil.\n",
        "\n",
        "As principais atividades da gestoria de municiamento são:\n",
        "- Planejamento e aquisição de gêneros alimentícios\n",
        "- Controle de estoque de gêneros alimentícios\n",
        "- Escrituração e pagamento\n",
        "- Prestação de contas\n",
        "\n",
        "\n",
        "### Orçamento público e alimentação de militares\n",
        "Por ser custeada com recursos do orçamento da União, a gestoria de municiamento se submete a um sistema rigoroso de planejamento, controle, fiscalização e transparência, para garantir que os valores sejam utilizados de forma eficiente, econômica e legal.\n",
        "\n",
        "A compra de gêneros alimentícios é uma despesa recorrente e significativa. Uma gestão eficiente garante que os recursos financeiros sejam alocados de forma inteligente, evitando gastos desnecessários.\n",
        "\n",
        "Uma boa gestão de estoques minimiza desperdícios de alimentos por validade ou má conservação.\n",
        "\n",
        "Como em qualquer gasto público, a aquisição de suprimentos deve ser transparente e seguir todas as normas de controle, visando a economia e a responsabilidade fiscal."
      ],
      "metadata": {
        "id": "JgQOsnRyiCbK"
      },
      "id": "JgQOsnRyiCbK"
    },
    {
      "cell_type": "markdown",
      "source": [
        "<div align=\"justify\">\n",
        "O planejamento eficiente dos recursos logísticos é um dos pilares para a manutenção da prontidão e da capacidade operacional das Forças Armadas. Entre os diversos insumos estratégicos, a alimentação das organizações militares desempenha papel central, tanto no aspecto orçamentário quanto no suporte direto às atividades diárias. Na Marinha do Brasil, a gestão dos estoques e dos gastos com gêneros alimentícios envolve múltiplos órgãos e abrange um volume expressivo de transações financeiras e contábeis, tornando-se um processo complexo e suscetível a variações sazonais, econômicas e administrativas.\n",
        "\n",
        "Neste cenário, prever com maior precisão os custos relacionados ao consumo de alimentos é fundamental para otimizar a alocação de recursos públicos, reduzir desperdícios, evitar rupturas de estoque e aumentar a eficiência do planejamento orçamentário. Tradicionalmente, esse processo é conduzido por meio de análises históricas e técnicas de planejamento administrativo. No entanto, tais abordagens muitas vezes não capturam adequadamente os padrões temporais e as variáveis externas que influenciam os gastos.\n",
        "\n",
        "A ciência de dados, e em particular as técnicas de modelagem de séries temporais, surge como uma alternativa poderosa para aprimorar esse processo decisório. Modelos como SARIMA, Prophet, XGBoost e LSTM permitem identificar tendências, sazonalidades e anomalias nos dados, possibilitando não apenas previsões mais robustas, mas também a geração de insights que subsidiam políticas de abastecimento e aquisição.\n",
        "\n",
        "Assim, o presente trabalho propõe a aplicação de técnicas de análise e previsão de séries temporais sobre os dados históricos de consumo de alimentos da Marinha do Brasil, com o objetivo de estimar os custos futuros e explorar padrões relevantes que possam apoiar o processo de gestão logística e orçamentária. A relevância deste estudo reside não apenas no ganho potencial de eficiência administrativa, mas também na contribuição para a transparência, a racionalização do gasto público e a modernização da gestão de suprimentos em instituições estratégicas para o país.\n",
        "</div>"
      ],
      "metadata": {
        "id": "9T92loE8Bgsx"
      },
      "id": "9T92loE8Bgsx"
    },
    {
      "cell_type": "markdown",
      "source": [
        "## Modelagem"
      ],
      "metadata": {
        "id": "EDC39fUr3nJB"
      },
      "id": "EDC39fUr3nJB"
    },
    {
      "cell_type": "markdown",
      "source": [
        "<div align=\"justify\">\n",
        " O conjunto de dados que será apresentado traz informações sobre despesas mensais com alimentação de militares e servidores de grandes organizações.\n",
        "\n",
        " O balanço de paiol do mês anterior nos traz a informação valor total dos gêneros alimentícios armazenados na organização no último dia do mês anterior.\n",
        "\n",
        " Os gêneros podem ser adquiridos pelas organizações de quatro formas diferentes:\n",
        " - adquirindo os gêneros dos depósitos de subsistência da Marinha\n",
        " - adquirindo os gêneros através de listas de fornecimento de gêneros, que são licitações centralizadas realizadas para atender toda a Marinha\n",
        " - adquirindo os gêneros através da realização de licitações próprias\n",
        " - adquirindo os gêneros através de contratação direta, sem licitação\n",
        "\n",
        " As organizações podem transferir gêneros entre seus estoques, através da realização de remessas. Os gêneros são contabilizados então no paiol através de remessas recebidas e remesas expedidas.\n",
        "\n",
        " Os gêneros consumidos durante as refeições do dia (café da manhã, almoço, janta e ceia) são contabilizados como gêneros consumidos.\n",
        "\n",
        " Os gêneros consumidos fora das refeições, como o biscoito, café e açúcar que são consumidos durante o dia, são contabilizados como vales-extra.\n",
        "\n",
        " As eventuais perdas de estoque são contabilizadas como termos de despesa.\n",
        "\n",
        " Quanto às receitas, cada comensal lotado na organização autoriza um determinado valor despesa por dia. A soma dessa despesa autorizada no mês é o valor limite dos gêneros que poderão ser retirados do paiol.\n",
        "\n",
        " A modelagem para os dispêndios com gêneros alimentícios considera as seguintes variáveis:\n",
        " - a quantidade de pessoas às quais é oferecida alimentação\n",
        " - o custo dos alimentos em paiol\n",
        " - a composição do cardápio (englobando o perfil de consumo de cada organização)\n",
        "\n",
        " Assim, o gasto mensal $Y_m$ de determinada organização no mês $m$ pode ser expresso em termos de:\n",
        " - Efetivo atendido ($N_m$)\n",
        " - Custo de aquisição dos insumos ($P_m$)\n",
        " - Composição do cardápio e perfil de consumo ($C_m$)\n",
        "\n",
        " Ou seja, $Y_m = f(N_m, P_m, C_m)\\ +\\ ϵ_m$\n",
        "\n",
        " sendo que o gasto mensal $Y_m$ é o somatório dos gastos diários $Y_d$, expressos por:\n",
        "\n",
        "\\begin{align}\n",
        "\\mathbf{Y_d} = \\sum_{i=1}^q \\ N_i \\cdot p_i \\\\ \\\\ \\mathbf{Y_m} = \\sum_{i=1}^{30} Y_{di}\n",
        "\\end{align}\n",
        "\n",
        "\n",
        "</div>"
      ],
      "metadata": {
        "id": "N_AvpbxG3uIJ"
      },
      "id": "N_AvpbxG3uIJ"
    },
    {
      "cell_type": "markdown",
      "source": [
        "## Glossário\n"
      ],
      "metadata": {
        "id": "CcOtcOjHAdVT"
      },
      "id": "CcOtcOjHAdVT"
    },
    {
      "cell_type": "markdown",
      "source": [
        "* Municiamento\n",
        "* Rancho\n",
        "* Etapa\n",
        "* Comensal\n",
        "* Série Temporal\n",
        "* Tendência\n",
        "* Sazonalidade\n",
        "* Estacionariedade\n"
      ],
      "metadata": {
        "id": "VlDqciiHAizg"
      },
      "id": "VlDqciiHAizg"
    },
    {
      "cell_type": "markdown",
      "source": [
        "## Trabalho"
      ],
      "metadata": {
        "id": "3sDv8fXfJeYN"
      },
      "id": "3sDv8fXfJeYN"
    },
    {
      "cell_type": "code",
      "source": [
        "#@title Download dos dados\n",
        "!git clone 'https://github.com/ffserro/MVP.git'\n",
        "!pip install -r '/content/MVP/requirements.txt' > '/content/pip_log.txt'\n",
        "!if grep -iq \"downloading\" '/content/pip_log.txt';then python -c \"import os;print('Por favor, reinicie a sessão e execute novamente.');os.kill(os.getpid(), 9)\"; else python -c \"print('Vamos começar!')\"; fi"
      ],
      "metadata": {
        "colab": {
          "base_uri": "https://localhost:8080/"
        },
        "id": "IcDCsWxvPIxI",
        "outputId": "f16bd1e4-a2c0-4777-e4f1-c516e75ba989",
        "cellView": "form"
      },
      "id": "IcDCsWxvPIxI",
      "execution_count": null,
      "outputs": [
        {
          "output_type": "stream",
          "name": "stdout",
          "text": [
            "fatal: destination path 'MVP' already exists and is not an empty directory.\n",
            "Vamos começar!\n"
          ]
        }
      ]
    },
    {
      "cell_type": "code",
      "execution_count": null,
      "id": "acb69f76",
      "metadata": {
        "id": "acb69f76",
        "cellView": "form"
      },
      "outputs": [],
      "source": [
        "#@title Import de bibliotecas\n",
        "from glob import glob\n",
        "\n",
        "from datetime import date as dt, timedelta as td\n",
        "\n",
        "import pandas as pd\n",
        "import numpy as np\n",
        "import matplotlib.pyplot as plt\n",
        "import seaborn as sns\n",
        "\n",
        "import plotly.express as px\n",
        "import plotly.graph_objects as go\n",
        "\n",
        "from statsmodels.tsa.stattools import adfuller\n",
        "from statsmodels.tsa.statespace.sarimax import SARIMAX\n",
        "from statsmodels.tsa.holtwinters import ExponentialSmoothing\n",
        "from sklearn.metrics import mean_absolute_error, mean_squared_error\n",
        "from sklearn.model_selection import TimeSeriesSplit\n",
        "from sklearn.preprocessing import MinMaxScaler\n",
        "from tensorflow.keras.models import Sequential\n",
        "from tensorflow.keras.layers import LSTM, Dense, Dropout\n",
        "\n",
        "from geopy.geocoders import Nominatim\n",
        "\n",
        "import pmdarima as pm\n",
        "from prophet import Prophet\n",
        "from xgboost import XGBRegressor\n",
        "\n",
        "from warnings import filterwarnings\n",
        "filterwarnings('ignore')"
      ]
    },
    {
      "cell_type": "code",
      "execution_count": null,
      "id": "c5b106c1",
      "metadata": {
        "id": "c5b106c1",
        "cellView": "form"
      },
      "outputs": [],
      "source": [
        "#@title Leitura dos dados\n",
        "mmm = pd.read_csv('/content/MVP/dados/mmm/mmm_limpo.csv')\n",
        "\n",
        "etapas = pd.read_csv('/content/MVP/dados/etapas/etapas_limpo.csv')\n",
        "\n",
        "centralizadas = pd.read_csv('/content/MVP/dados/om_centralizada_limpo.csv')\n",
        "\n",
        "om_info = pd.read_csv('/content/MVP/dados/om_info_limpo.csv')"
      ]
    },
    {
      "cell_type": "markdown",
      "source": [
        "### Verificações"
      ],
      "metadata": {
        "id": "5HTsVvFHEco_"
      },
      "id": "5HTsVvFHEco_"
    },
    {
      "cell_type": "code",
      "execution_count": null,
      "id": "fc3e4dff",
      "metadata": {
        "id": "fc3e4dff"
      },
      "outputs": [],
      "source": [
        "# Teste de estacionariedade\n",
        "\n",
        "result = adfuller(mmm_marinha.totais_balanco_paiol_despesa)\n",
        "print(f'ADF: {result[0]}, p-valor: {result[1]}')"
      ]
    },
    {
      "cell_type": "code",
      "source": [
        "# Decomposição de tendência e sazonalidade"
      ],
      "metadata": {
        "id": "mQPb3Dg5Ev5D"
      },
      "id": "mQPb3Dg5Ev5D",
      "execution_count": null,
      "outputs": []
    },
    {
      "cell_type": "code",
      "source": [
        "# Análise de autocorrelação"
      ],
      "metadata": {
        "id": "gUJDBObHEzh1"
      },
      "id": "gUJDBObHEzh1",
      "execution_count": null,
      "outputs": []
    },
    {
      "cell_type": "markdown",
      "source": [
        "### Exploração"
      ],
      "metadata": {
        "id": "sbYdXOLiEqAY"
      },
      "id": "sbYdXOLiEqAY"
    },
    {
      "cell_type": "code",
      "source": [
        "mmm.columns"
      ],
      "metadata": {
        "id": "rockQL8r2ijT",
        "outputId": "9dc3f869-22f8-4ab7-8628-440ad8ca01e7",
        "colab": {
          "base_uri": "https://localhost:8080/"
        }
      },
      "id": "rockQL8r2ijT",
      "execution_count": null,
      "outputs": [
        {
          "output_type": "execute_result",
          "data": {
            "text/plain": [
              "Index(['ano_mes', 'codigo', 'nome', 'balanco_paiol_mes_anterior',\n",
              "       'gen_depsubmrj_depnav_reg', 'gen_adq_form_extra_mb_licit1',\n",
              "       'gen_adq_form_extra_mb_licit2', 'gen_adq_form_extra_mb_slicit',\n",
              "       'remessa_recebida', 'remessa_expedida', 'vale_extra',\n",
              "       'termo_de_despesa', 'generos_consumidos',\n",
              "       'totais_balanco_paiol_receita', 'totais_balanco_paiol_despesa',\n",
              "       'saldo'],\n",
              "      dtype='object')"
            ]
          },
          "metadata": {},
          "execution_count": 23
        }
      ]
    },
    {
      "cell_type": "code",
      "source": [
        "etapas[etapas.codigo_etapa < 600].groupby(['ano', 'mes', 'codigo']).quantidade.sum().reset_index()"
      ],
      "metadata": {
        "id": "11v-tbNfPAx-"
      },
      "id": "11v-tbNfPAx-",
      "execution_count": null,
      "outputs": []
    },
    {
      "cell_type": "code",
      "execution_count": null,
      "id": "d23b319b",
      "metadata": {
        "id": "d23b319b"
      },
      "outputs": [],
      "source": [
        "mmm_marinha = mmm.groupby(['ano', 'mes'])[[col for col in mmm.columns if col not in ['ano', 'mes', 'codigo', 'nome']]].sum().reset_index()"
      ]
    },
    {
      "cell_type": "code",
      "execution_count": null,
      "id": "81640c41",
      "metadata": {
        "id": "81640c41"
      },
      "outputs": [],
      "source": [
        "mmm_marinha['mes'] = [''.join([str(i[0]), '_', str(i[1])]) for i in zip(mmm_marinha.mes.values, mmm_marinha.ano.values)]\n",
        "mmm_marinha.drop(columns=['ano'], inplace=True)\n",
        "mmm_marinha = mmm_marinha.iloc[:-2]"
      ]
    },
    {
      "cell_type": "code",
      "execution_count": null,
      "id": "0f51d785",
      "metadata": {
        "id": "0f51d785"
      },
      "outputs": [],
      "source": [
        "mmm_etapas = pd.merge(left=mmm, right=etapas, how='inner', on=['ano', 'mes', 'codigo'])"
      ]
    },
    {
      "cell_type": "code",
      "execution_count": null,
      "id": "4fe04974",
      "metadata": {
        "id": "4fe04974"
      },
      "outputs": [],
      "source": [
        "mmm_etapas[mmm_etapas.codigo_etapa.isin([103, 105])][['ano', 'mes', 'nome', 'codigo_etapa', 'quantidade']]"
      ]
    },
    {
      "cell_type": "code",
      "execution_count": null,
      "id": "f752e514",
      "metadata": {
        "id": "f752e514"
      },
      "outputs": [],
      "source": [
        "pd.DataFrame({\n",
        "    'diferenca': mmm_receita_despesa.despesa_autorizada_global - (mmm_receita_despesa.generos_consumidos + mmm_receita_despesa.vale_extra),\n",
        "    'sobra_licita': mmm_receita_despesa.sobra_licita\n",
        "})"
      ]
    },
    {
      "cell_type": "code",
      "execution_count": null,
      "id": "41d994ae",
      "metadata": {
        "id": "41d994ae"
      },
      "outputs": [],
      "source": [
        "da_marinha = da.groupby(['mes', 'ano']).despesa_autorizada_global.sum().reset_index()\n",
        "da_marinha['mes'] = ['_'.join(['{:02d}'.format(i[0]), str(i[1])]) for i in zip(da_marinha.mes.values, da_marinha.ano.values)]\n",
        "da_marinha = da_marinha.sort_values(by=['ano', 'mes']).iloc[:-2]\n",
        "fig = px.line(\n",
        "    da_marinha,\n",
        "    x = 'mes',\n",
        "    y = 'despesa_autorizada_global',\n",
        "    title='Despesa Autorizada global'\n",
        ")\n",
        "\n",
        "fig.show()"
      ]
    },
    {
      "cell_type": "code",
      "execution_count": null,
      "id": "066e46ec",
      "metadata": {
        "id": "066e46ec"
      },
      "outputs": [],
      "source": [
        "def grafico_base(titulo):\n",
        "    return px.line(\n",
        "        mmm_marinha,\n",
        "        x = 'mes',\n",
        "        y = 'totais_balanco_paiol_despesa',\n",
        "        labels = {\n",
        "            'mes': 'Mês e ano',\n",
        "            'totais_balanco_paiol_despesa': 'Totais das despesas'\n",
        "        },\n",
        "        title = titulo\n",
        "    )\n",
        "\n",
        "fig = grafico_base('Gastos com alimentação dos últimos cinco anos')\n",
        "\n",
        "fig.update_traces(mode='lines+markers', line=dict(width=2))\n",
        "fig.update_xaxes(tickangle=45)\n",
        "fig.update_layout(\n",
        "    template='plotly_white',\n",
        "    hovermode='x unified'\n",
        "    )\n",
        "\n",
        "fig.show()"
      ]
    },
    {
      "cell_type": "code",
      "execution_count": null,
      "id": "80c6cb01",
      "metadata": {
        "id": "80c6cb01"
      },
      "outputs": [],
      "source": [
        "naive_forecast = mmm_marinha.totais_balanco_paiol_despesa.shift(1)\n",
        "mae_naive = mean_absolute_error(mmm_marinha.totais_balanco_paiol_despesa.iloc[1:], naive_forecast.iloc[1:])\n",
        "print('Baseline Naïve MAE:', mae_naive)"
      ]
    },
    {
      "cell_type": "code",
      "execution_count": null,
      "id": "3cbd40b6",
      "metadata": {
        "id": "3cbd40b6"
      },
      "outputs": [],
      "source": [
        "# SARIMA\n",
        "\n",
        "train = mmm_marinha.iloc[:-12, :]\n",
        "test = mmm_marinha.iloc[-12:, :]\n",
        "\n",
        "model_auto = pm.auto_arima(train.totais_balanco_paiol_despesa, seasonal=True, m=12, stepwise=True, trace=True)\n",
        "print(model_auto.summary())"
      ]
    },
    {
      "cell_type": "code",
      "execution_count": null,
      "id": "26635981",
      "metadata": {
        "id": "26635981"
      },
      "outputs": [],
      "source": [
        "mmm"
      ]
    },
    {
      "cell_type": "code",
      "execution_count": null,
      "id": "7d0c5db5",
      "metadata": {
        "id": "7d0c5db5"
      },
      "outputs": [],
      "source": [
        "sarima_model = SARIMAX(train.totais_balanco_paiol_despesa,\n",
        "                       order=model_auto.order,\n",
        "                       seasonal_order=model_auto.seasonal_order)\n",
        "\n",
        "sarima_fit = sarima_model.fit(disp=False)\n",
        "\n",
        "forecast_sarima = sarima_fit.get_forecast(steps=12)\n",
        "pred_sarima = forecast_sarima.predicted_mean\n",
        "\n",
        "mae_sarima = mean_absolute_error(test.totais_balanco_paiol_despesa, pred_sarima)\n",
        "print('SARIMA MAE:', mae_sarima)\n",
        "\n"
      ]
    },
    {
      "cell_type": "code",
      "execution_count": null,
      "id": "fc5d37b2",
      "metadata": {
        "id": "fc5d37b2"
      },
      "outputs": [],
      "source": [
        "fig = grafico_base('Previsão temporal com o algoritmo SARIMA')\n",
        "\n",
        "fig.add_trace(\n",
        "    go.Scatter(\n",
        "        x = test.mes,\n",
        "        y = pred_sarima\n",
        "    )\n",
        ")\n",
        "\n",
        "fig.update_traces(mode='lines+markers', line=dict(width=2))\n",
        "fig.update_xaxes(tickangle=45)\n",
        "fig.update_layout(\n",
        "    template='plotly_white',\n",
        "    hovermode='x unified'\n",
        "    )\n",
        "\n",
        "fig.show()"
      ]
    },
    {
      "cell_type": "code",
      "execution_count": null,
      "id": "678e5898",
      "metadata": {
        "id": "678e5898"
      },
      "outputs": [],
      "source": [
        "# Previsão com o Prophet\n",
        "\n",
        "prophet_df = mmm_marinha[['mes', 'totais_balanco_paiol_despesa']]\n",
        "prophet_df.columns = ['ds', 'y']\n",
        "prophet_df['ds'] = pd.to_datetime(prophet_df['ds'], format='%m_%Y')\n",
        "\n",
        "model_prophet = Prophet(yearly_seasonality=True, weekly_seasonality=False, daily_seasonality=False)\n",
        "model_prophet.fit(prophet_df)\n",
        "\n",
        "future = model_prophet.make_future_dataframe(periods=12, freq='M')\n",
        "forecast = model_prophet.predict(future)\n",
        "\n",
        "forecast_test = forecast.set_index('ds').loc[pd.to_datetime(test.mes, format='%m_%Y')]\n",
        "mae_prophet = mean_absolute_error(test['totais_balanco_paiol_despesa'], forecast_test['yhat'])\n",
        "print('Prophet MAE', mae_prophet)"
      ]
    },
    {
      "cell_type": "code",
      "execution_count": null,
      "id": "2f7c19f3",
      "metadata": {
        "id": "2f7c19f3"
      },
      "outputs": [],
      "source": [
        "fig = grafico_base('Previsão temporal com o algoritmo Prophet')\n",
        "\n",
        "fig.add_trace(\n",
        "    go.Scatter(\n",
        "        x = test.mes,\n",
        "        y = forecast_test.yhat\n",
        "    )\n",
        ")\n",
        "\n",
        "fig.update_traces(mode='lines+markers', line=dict(width=2))\n",
        "fig.update_xaxes(tickangle=45)\n",
        "fig.update_layout(\n",
        "    template='plotly_white',\n",
        "    hovermode='x unified'\n",
        "    )\n",
        "\n",
        "fig.show()"
      ]
    },
    {
      "cell_type": "code",
      "execution_count": null,
      "id": "b2a4064f",
      "metadata": {
        "id": "b2a4064f"
      },
      "outputs": [],
      "source": [
        "# Regressão com XGBoost para séries temporais\n",
        "\n",
        "xg_df = mmm_marinha[['mes', 'totais_balanco_paiol_despesa']]\n",
        "xg_df['ano'] = xg_df['mes'].apply(lambda x: x.split('_')[-1]).astype(int)\n",
        "xg_df['mes'] = xg_df['mes'].apply(lambda x: x.split('_')[0]).astype(int)\n",
        "xg_df['lag1'] = xg_df['totais_balanco_paiol_despesa'].shift(1)\n",
        "xg_df['lag3'] = xg_df['totais_balanco_paiol_despesa'].shift(3)\n",
        "xg_df['lag6'] = xg_df['totais_balanco_paiol_despesa'].shift(6)\n",
        "xg_df['rolling3'] = xg_df['totais_balanco_paiol_despesa'].rolling(3).mean()\n",
        "xg_df['rolling6'] = xg_df['totais_balanco_paiol_despesa'].rolling(6).mean()\n",
        "\n",
        "xg_df = xg_df.dropna().reset_index(drop=True)"
      ]
    },
    {
      "cell_type": "code",
      "execution_count": null,
      "id": "0b9e0724",
      "metadata": {
        "id": "0b9e0724"
      },
      "outputs": [],
      "source": [
        "train_xg = xg_df.iloc[:-12]\n",
        "test_xg = xg_df.iloc[-12:]\n",
        "\n",
        "X_train = train_xg.drop(columns=['totais_balanco_paiol_despesa'])\n",
        "y_train = train_xg['totais_balanco_paiol_despesa']\n",
        "X_test = test_xg.drop(columns=['totais_balanco_paiol_despesa'])\n",
        "y_test = test_xg['totais_balanco_paiol_despesa']\n",
        "\n",
        "xgb = XGBRegressor(\n",
        "    n_estimators = 300,\n",
        "    learning_rate = 0.05,\n",
        "    max_depth = 5,\n",
        "    subsample = 0.8,\n",
        "    colsample_bytree = 0.8,\n",
        "    random_state = 42\n",
        ")\n",
        "\n",
        "xgb.fit(X_train, y_train)\n",
        "\n",
        "pred_xgb = xgb.predict(X_test)\n",
        "\n",
        "mae_xgb = mean_absolute_error(y_test, pred_xgb)\n",
        "\n",
        "print(\"XGBoost MAE:\", mae_xgb)\n"
      ]
    },
    {
      "cell_type": "code",
      "execution_count": null,
      "id": "610a55a9",
      "metadata": {
        "id": "610a55a9"
      },
      "outputs": [],
      "source": [
        "fig = grafico_base('Previsão temporal com o algoritmo XGBoost')\n",
        "\n",
        "fig.add_trace(\n",
        "    go.Scatter(\n",
        "        x = test.mes,\n",
        "        y = pred_xgb\n",
        "    )\n",
        ")\n",
        "\n",
        "fig.update_traces(mode='lines+markers', line=dict(width=2))\n",
        "fig.update_xaxes(tickangle=45)\n",
        "fig.update_layout(\n",
        "    template='plotly_white',\n",
        "    hovermode='x unified'\n",
        "    )\n",
        "\n",
        "fig.show()"
      ]
    },
    {
      "cell_type": "code",
      "execution_count": null,
      "id": "4aec5d4b",
      "metadata": {
        "id": "4aec5d4b"
      },
      "outputs": [],
      "source": [
        "hw_model = ExponentialSmoothing(\n",
        "    train['totais_balanco_paiol_despesa'],\n",
        "    trend='add',\n",
        "    seasonal='add',\n",
        "    seasonal_periods=12\n",
        ").fit()\n",
        "\n",
        "pred_hw = hw_model.forecast(12)"
      ]
    },
    {
      "cell_type": "code",
      "execution_count": null,
      "id": "8d782840",
      "metadata": {
        "id": "8d782840"
      },
      "outputs": [],
      "source": [
        "fig = grafico_base('Previsão temporal com o algoritmo ExponentialSmoothing')\n",
        "\n",
        "fig.add_trace(\n",
        "    go.Scatter(\n",
        "        x = test.mes,\n",
        "        y = pred_hw\n",
        "    )\n",
        ")\n",
        "\n",
        "fig.update_traces(mode='lines+markers', line=dict(width=2))\n",
        "fig.update_xaxes(tickangle=45)\n",
        "fig.update_layout(\n",
        "    template='plotly_white',\n",
        "    hovermode='x unified'\n",
        "    )\n",
        "\n",
        "fig.show()"
      ]
    },
    {
      "cell_type": "code",
      "execution_count": null,
      "id": "1a3bfe4c",
      "metadata": {
        "id": "1a3bfe4c"
      },
      "outputs": [],
      "source": [
        "scaler = MinMaxScaler(feature_range=(0, 1))\n",
        "despesas_scaled = scaler.fit_transform(mmm_marinha.totais_balanco_paiol_despesa.values.reshape(-1, 1))\n",
        "\n",
        "def create_sequences(data, window=12):\n",
        "    X, y = [], []\n",
        "    for i in range(len(data)- window):\n",
        "        X.append(data[i:i+window])\n",
        "        y.append(data[i+window])\n",
        "    return np.array(X), np.array(y)\n",
        "\n",
        "X, y = create_sequences(despesas_scaled)\n",
        "\n",
        "\n",
        "split = len(X) - 12\n",
        "X_train, X_test = X[:split], X[split:]\n",
        "y_train, y_test = y[:split], y[split:]\n",
        "print('Shape treino:', X_train.shape, y_train.shape)"
      ]
    },
    {
      "cell_type": "code",
      "execution_count": null,
      "id": "dd4973a6",
      "metadata": {
        "id": "dd4973a6"
      },
      "outputs": [],
      "source": [
        "model = Sequential()\n",
        "model.add(LSTM(64, activation='tanh', return_sequences=True, input_shape=(12, 1)))\n",
        "model.add(Dropout(0.2))\n",
        "model.add(LSTM(32, activation='tanh'))\n",
        "model.add(Dense(1))\n",
        "\n",
        "model.compile(optimizer='adam', loss='mae')\n",
        "\n",
        "history = model.fit(\n",
        "    X_train, y_train,\n",
        "    epochs = 200,\n",
        "    batch_size = 4,\n",
        "    validation_split = 0.1,\n",
        "    verbose = 1\n",
        ")"
      ]
    },
    {
      "cell_type": "code",
      "execution_count": null,
      "id": "8ab14322",
      "metadata": {
        "id": "8ab14322"
      },
      "outputs": [],
      "source": [
        "y_pred = model.predict(X_test)\n",
        "\n",
        "y_test_inv = scaler.inverse_transform(y_test.reshape(-1, 1))\n",
        "y_pred_inv = scaler.inverse_transform(y_pred)\n",
        "\n",
        "mae_lstm = mean_absolute_error(y_test_inv, y_pred_inv)\n",
        "print('LSTM MAE:', mae_lstm)"
      ]
    },
    {
      "cell_type": "code",
      "execution_count": null,
      "id": "bfc0090f",
      "metadata": {
        "id": "bfc0090f"
      },
      "outputs": [],
      "source": [
        "fig = grafico_base('Previsão temporal com o algoritmo LSTM')\n",
        "\n",
        "fig.add_trace(\n",
        "    go.Scatter(\n",
        "        x = test.mes,\n",
        "        y = y_pred_inv.reshape(1, -1)[0]\n",
        "    )\n",
        ")\n",
        "\n",
        "fig.update_traces(mode='lines+markers', line=dict(width=2))\n",
        "fig.update_xaxes(tickangle=45)\n",
        "fig.update_layout(\n",
        "    template='plotly_white',\n",
        "    hovermode='x unified'\n",
        "    )\n",
        "\n",
        "fig.show()"
      ]
    },
    {
      "cell_type": "code",
      "execution_count": null,
      "id": "bdf8a44c",
      "metadata": {
        "id": "bdf8a44c"
      },
      "outputs": [],
      "source": [
        "def create_sequences_multistep(data, window=12, horizon=12):\n",
        "    X, y = [], []\n",
        "    for i in range(len(data) - window - horizon + 1):\n",
        "        X.append(data[i:i+window])\n",
        "        y.append(data[i+window:i+window+horizon].flatten())\n",
        "    return np.array(X), np.array(y)\n",
        "\n",
        "window = 12\n",
        "horizon = 12\n",
        "X, y = create_sequences_multistep(despesas_scaled, window, horizon)\n",
        "\n",
        "split = int(len(X) * 0.8)\n",
        "X_train, X_test = X[:split], X[split:]\n",
        "y_train, y_test = y[:split], y[split:]\n",
        "print('X_train shape:', X_train.shape)\n",
        "print('y_train, shape:', y_train.shape)"
      ]
    },
    {
      "cell_type": "code",
      "execution_count": null,
      "id": "0d401850",
      "metadata": {
        "id": "0d401850"
      },
      "outputs": [],
      "source": [
        "model = Sequential()\n",
        "model.add(LSTM(64, activation=\"tanh\", return_sequences=True, input_shape=(window, 1)))\n",
        "model.add(Dropout(0.2))\n",
        "model.add(LSTM(32, activation=\"tanh\"))\n",
        "model.add(Dense(horizon))  # saída com 12 valores (multi-step)\n",
        "\n",
        "model.compile(optimizer=\"adam\", loss=\"mse\")\n",
        "\n",
        "history = model.fit(\n",
        "    X_train, y_train,\n",
        "    epochs=300,\n",
        "    batch_size=4,\n",
        "    validation_split=0.1,\n",
        "    verbose=1\n",
        ")"
      ]
    },
    {
      "cell_type": "code",
      "execution_count": null,
      "id": "07ef65ad",
      "metadata": {
        "id": "07ef65ad"
      },
      "outputs": [],
      "source": [
        "y_pred = model.predict(X_test)\n",
        "\n",
        "y_test_inv = scaler.inverse_transform(y_test)\n",
        "y_pred_inv = scaler.inverse_transform(y_pred)\n",
        "\n",
        "mae_lstm_multi = mean_absolute_error(y_test_inv.flatten(), y_pred_inv.flatten())\n",
        "print('LSTM Multi-step MAE:', mae_lstm_multi)"
      ]
    },
    {
      "cell_type": "code",
      "execution_count": null,
      "id": "e8cc75f2",
      "metadata": {
        "id": "e8cc75f2"
      },
      "outputs": [],
      "source": [
        "last_input_dates = pd.to_datetime(mmm_marinha.mes, format='%m_%Y').iloc[-(window + horizon):-horizon]\n",
        "future_dates = pd.date_range(start = pd.to_datetime(mmm_marinha.mes, format='%m_%Y').iloc[-horizon], periods=horizon, freq='M')"
      ]
    },
    {
      "cell_type": "code",
      "execution_count": null,
      "id": "5a3ae83a",
      "metadata": {
        "id": "5a3ae83a"
      },
      "outputs": [],
      "source": [
        "fig = grafico_base('Previsão temporal com o algoritmo LSTM Multi-step')\n",
        "\n",
        "fig.add_trace(\n",
        "    go.Scatter(\n",
        "        x = test.mes,\n",
        "        y = y_pred_inv.flatten()\n",
        "    )\n",
        ")\n",
        "\n",
        "fig.update_traces(mode='lines+markers', line=dict(width=2))\n",
        "fig.update_xaxes(tickangle=45)\n",
        "fig.update_layout(\n",
        "    template='plotly_white',\n",
        "    hovermode='x unified'\n",
        "    )\n",
        "\n",
        "fig.show()"
      ]
    },
    {
      "cell_type": "code",
      "source": [
        "teste = ['A', 'B', 'C']"
      ],
      "metadata": {
        "id": "EQR7bVNC8Kd9"
      },
      "id": "EQR7bVNC8Kd9",
      "execution_count": null,
      "outputs": []
    },
    {
      "cell_type": "code",
      "execution_count": null,
      "id": "0b707537",
      "metadata": {
        "id": "0b707537"
      },
      "outputs": [],
      "source": [
        "model = 'LSTM' #@param [\"SARIMAX\", \"prophet\", \"XGBoost\", \"ExponentialSmothing\", \"LSTM\"]\n",
        "test = 'A' #@param\n",
        "\n",
        "print(f\"Selected model: {modelo}\")\n",
        "print(f'Selected test : {test}')"
      ]
    },
    {
      "cell_type": "code",
      "source": [
        "mmm['mes_ano'] = mmm.mes.astype(str) + '_' + mmm.ano.astype(str)"
      ],
      "metadata": {
        "id": "URYpemAFF6vY"
      },
      "id": "URYpemAFF6vY",
      "execution_count": null,
      "outputs": []
    },
    {
      "cell_type": "code",
      "source": [
        "# !playwright install chromium"
      ],
      "metadata": {
        "id": "FZtznRiJp8hX"
      },
      "id": "FZtznRiJp8hX",
      "execution_count": null,
      "outputs": []
    },
    {
      "cell_type": "code",
      "source": [
        "# from playwright.async_api import async_playwright\n",
        "# import time"
      ],
      "metadata": {
        "id": "1rHdcvRhp1ke"
      },
      "id": "1rHdcvRhp1ke",
      "execution_count": null,
      "outputs": []
    },
    {
      "cell_type": "code",
      "source": [
        "# with async_playwright() as p:\n",
        "#     browser = p.chromium.launch(headless=False)\n",
        "#     page = browser.new_page()\n",
        "\n",
        "#     page.goto('https://www.maps.google.com')\n",
        "\n",
        "#     page.locator('xpath=/html/body/div[1]/div[3]/div[9]/div[3]/div[1]/div[1]/div/div[2]/form/input').fill('Avenida Rio Branco 1, Rio de Janeiro')\n",
        "#     page.keyboard.press('Enter')\n",
        "#     time.sleep(1)\n",
        "#     print(page.url())"
      ],
      "metadata": {
        "id": "wxtf-inHqCdg"
      },
      "id": "wxtf-inHqCdg",
      "execution_count": null,
      "outputs": []
    },
    {
      "cell_type": "code",
      "source": [
        "# from playwright.async_api import async_playwright\n",
        "# import asyncio\n",
        "\n",
        "# async def get_latlong(endereco):\n",
        "#   async with async_playwright() as p:\n",
        "#     browser = await p.chromium.launch()\n",
        "#     page = await browser.new_page()\n",
        "#     await page.goto('https://www.google.com/maps')\n",
        "\n",
        "#     await page.locator('#searchboxinput').fill('Avenida Rio Branco 1, Rio de Janeiro')\n",
        "#     await page.keyboard.press('Enter')\n",
        "#     await page.wait_for_timeout(5000)\n",
        "#     time.sleep(1)\n",
        "#     return page.url.split('@')[1].split(',')[:2]"
      ],
      "metadata": {
        "id": "KWhXPmg5q9Mp"
      },
      "id": "KWhXPmg5q9Mp",
      "execution_count": null,
      "outputs": []
    },
    {
      "cell_type": "code",
      "source": [
        "# enderecos = {}\n",
        "\n",
        "# for endereco in om_info.ENDERECO.unique():\n",
        "#   enderecos[endereco] = await get_latlong(endereco)"
      ],
      "metadata": {
        "id": "89NmXOr0uipJ"
      },
      "id": "89NmXOr0uipJ",
      "execution_count": null,
      "outputs": []
    },
    {
      "cell_type": "code",
      "source": [
        "enderecos"
      ],
      "metadata": {
        "id": "RrnbvulauyGU"
      },
      "id": "RrnbvulauyGU",
      "execution_count": null,
      "outputs": []
    },
    {
      "cell_type": "markdown",
      "metadata": {
        "id": "082bed44"
      },
      "source": [
        "Now that the data has been processed and the necessary transformations have been applied, we can proceed with evaluating the time series forecasting models. The notebook currently includes code for SARIMA, Prophet, XGBoost, Exponential Smoothing, and LSTM.\n",
        "\n",
        "**Next Steps:**\n",
        "\n",
        "1.  **Evaluate Models:** Run the code cells for each model to generate predictions.\n",
        "2.  **Compare Performance:** Calculate relevant evaluation metrics (e.g., Mean Absolute Error - MAE) for each model and compare their performance.\n",
        "3.  **Visualize Results:** Plot the predictions of each model against the actual data to visually assess their accuracy.\n",
        "4.  **Select Best Model:** Based on the evaluation metrics and visualizations, select the most suitable model for forecasting the food expenditures.\n",
        "5.  **Further Analysis (Optional):** Explore potential improvements or alternative models if needed."
      ],
      "id": "082bed44"
    }
  ],
  "metadata": {
    "kernelspec": {
      "display_name": "mvp",
      "language": "python",
      "name": "python3"
    },
    "language_info": {
      "codemirror_mode": {
        "name": "ipython",
        "version": 3
      },
      "file_extension": ".py",
      "mimetype": "text/x-python",
      "name": "python",
      "nbconvert_exporter": "python",
      "pygments_lexer": "ipython3",
      "version": "3.12.11"
    },
    "colab": {
      "provenance": []
    }
  },
  "nbformat": 4,
  "nbformat_minor": 5
}