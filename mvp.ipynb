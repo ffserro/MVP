{
  "cells": [
    {
      "cell_type": "markdown",
      "metadata": {
        "id": "view-in-github",
        "colab_type": "text"
      },
      "source": [
        "<a href=\"https://colab.research.google.com/github/ffserro/MVP/blob/master/mvp.ipynb\" target=\"_parent\"><img src=\"https://colab.research.google.com/assets/colab-badge.svg\" alt=\"Open In Colab\"/></a>"
      ]
    },
    {
      "cell_type": "markdown",
      "id": "269fe9a4",
      "metadata": {
        "id": "269fe9a4"
      },
      "source": [
        "[![Open In Colab](https://colab.research.google.com/assets/colab-badge.svg)](https://colab.research.google.com/github/ffserro/MVP/blob/master/mvp.ipynb)\n"
      ]
    },
    {
      "cell_type": "code",
      "source": [
        "!git clone 'https://github.com/ffserro/MVP.git'\n",
        "!pip install -r '/content/MVP/requirements.txt' > '/content/pip_log.txt'\n",
        "!if grep -iq \"restart\" '/content/pip_log.txt';then python -c \"import os;os.kill(os.getpid(), 9)\"; else python -c \"print('Vamos começar!')\"; fi"
      ],
      "metadata": {
        "id": "IcDCsWxvPIxI",
        "outputId": "a71db27a-0d90-40d5-e235-bd9a4e53e963",
        "colab": {
          "base_uri": "https://localhost:8080/"
        }
      },
      "id": "IcDCsWxvPIxI",
      "execution_count": 35,
      "outputs": [
        {
          "output_type": "stream",
          "name": "stdout",
          "text": [
            "fatal: destination path 'MVP' already exists and is not an empty directory.\n",
            "Vamos começar!\n"
          ]
        }
      ]
    },
    {
      "cell_type": "code",
      "source": [
        "!grep 'restart' '/content/test.txt'"
      ],
      "metadata": {
        "id": "3fVpm5vEVYIY"
      },
      "id": "3fVpm5vEVYIY",
      "execution_count": 26,
      "outputs": []
    },
    {
      "cell_type": "code",
      "source": [
        "!python -c \"print('hello');print('again')\""
      ],
      "metadata": {
        "id": "UJyGrs3DVuQb",
        "outputId": "46604084-c613-42d1-948b-48e878fffba4",
        "colab": {
          "base_uri": "https://localhost:8080/"
        }
      },
      "id": "UJyGrs3DVuQb",
      "execution_count": 31,
      "outputs": [
        {
          "output_type": "stream",
          "name": "stdout",
          "text": [
            "hello\n",
            "again\n"
          ]
        }
      ]
    },
    {
      "cell_type": "code",
      "source": [
        "!if grep -iq \"restart\" '/content/test.txt';then python -c \"print('its there')\"; else python -c \"print('its not')\"; fi"
      ],
      "metadata": {
        "id": "5uuM-7O3WJ1E",
        "outputId": "3e89a97a-84a8-433d-cb21-e1905c8b26cb",
        "colab": {
          "base_uri": "https://localhost:8080/"
        }
      },
      "id": "5uuM-7O3WJ1E",
      "execution_count": 34,
      "outputs": [
        {
          "output_type": "stream",
          "name": "stdout",
          "text": [
            "its not\n"
          ]
        }
      ]
    },
    {
      "cell_type": "code",
      "execution_count": 18,
      "id": "acb69f76",
      "metadata": {
        "id": "acb69f76"
      },
      "outputs": [],
      "source": [
        "from glob import glob\n",
        "\n",
        "import pandas as pd\n",
        "import numpy as np\n",
        "import matplotlib.pyplot as plt\n",
        "import seaborn as sns\n",
        "\n",
        "import plotly.express as px\n",
        "import plotly.graph_objects as go\n",
        "\n",
        "from statsmodels.tsa.stattools import adfuller\n",
        "from statsmodels.tsa.statespace.sarimax import SARIMAX\n",
        "from statsmodels.tsa.holtwinters import ExponentialSmoothing\n",
        "from sklearn.metrics import mean_absolute_error, mean_squared_error\n",
        "from sklearn.model_selection import TimeSeriesSplit\n",
        "from sklearn.preprocessing import MinMaxScaler\n",
        "from tensorflow.keras.models import Sequential\n",
        "from tensorflow.keras.layers import LSTM, Dense, Dropout\n",
        "\n",
        "\n",
        "import pmdarima as pm\n",
        "from prophet import Prophet\n",
        "from xgboost import XGBRegressor\n",
        "\n",
        "from warnings import filterwarnings\n",
        "filterwarnings('ignore')"
      ]
    },
    {
      "cell_type": "code",
      "execution_count": 19,
      "id": "c5b106c1",
      "metadata": {
        "id": "c5b106c1"
      },
      "outputs": [],
      "source": [
        "mmm = pd.DataFrame()\n",
        "mmm = pd.concat([mmm]+[pd.read_excel(d) for d in glob('/content/MVP/dados/mmm/*')]).reset_index(drop=True)\n",
        "\n",
        "etapas = pd.DataFrame()\n",
        "etapas = pd.concat([etapas]+[pd.read_excel(d) for d in glob('/content/MVP/dados/etapas/*')]).reset_index(drop=True).rename(columns={'uasg':'codigo'})\n",
        "\n",
        "da = pd.DataFrame()\n",
        "da = pd.concat([da]+[pd.read_excel(d) for d in glob('/content/MVP/dados/da/*')]).reset_index(drop=True)"
      ]
    },
    {
      "cell_type": "code",
      "execution_count": 20,
      "id": "4fb3bcc3",
      "metadata": {
        "id": "4fb3bcc3",
        "outputId": "2bbc629a-9c77-4875-af2a-ab2403b6b7d8",
        "colab": {
          "base_uri": "https://localhost:8080/",
          "height": 335
        }
      },
      "outputs": [
        {
          "output_type": "execute_result",
          "data": {
            "text/plain": [
              "count    247.000000\n",
              "mean      50.842105\n",
              "std       32.580035\n",
              "min        1.000000\n",
              "25%       13.500000\n",
              "50%       70.000000\n",
              "75%       80.000000\n",
              "max       80.000000\n",
              "Name: count, dtype: float64"
            ],
            "text/html": [
              "<div>\n",
              "<style scoped>\n",
              "    .dataframe tbody tr th:only-of-type {\n",
              "        vertical-align: middle;\n",
              "    }\n",
              "\n",
              "    .dataframe tbody tr th {\n",
              "        vertical-align: top;\n",
              "    }\n",
              "\n",
              "    .dataframe thead th {\n",
              "        text-align: right;\n",
              "    }\n",
              "</style>\n",
              "<table border=\"1\" class=\"dataframe\">\n",
              "  <thead>\n",
              "    <tr style=\"text-align: right;\">\n",
              "      <th></th>\n",
              "      <th>count</th>\n",
              "    </tr>\n",
              "  </thead>\n",
              "  <tbody>\n",
              "    <tr>\n",
              "      <th>count</th>\n",
              "      <td>247.000000</td>\n",
              "    </tr>\n",
              "    <tr>\n",
              "      <th>mean</th>\n",
              "      <td>50.842105</td>\n",
              "    </tr>\n",
              "    <tr>\n",
              "      <th>std</th>\n",
              "      <td>32.580035</td>\n",
              "    </tr>\n",
              "    <tr>\n",
              "      <th>min</th>\n",
              "      <td>1.000000</td>\n",
              "    </tr>\n",
              "    <tr>\n",
              "      <th>25%</th>\n",
              "      <td>13.500000</td>\n",
              "    </tr>\n",
              "    <tr>\n",
              "      <th>50%</th>\n",
              "      <td>70.000000</td>\n",
              "    </tr>\n",
              "    <tr>\n",
              "      <th>75%</th>\n",
              "      <td>80.000000</td>\n",
              "    </tr>\n",
              "    <tr>\n",
              "      <th>max</th>\n",
              "      <td>80.000000</td>\n",
              "    </tr>\n",
              "  </tbody>\n",
              "</table>\n",
              "</div><br><label><b>dtype:</b> float64</label>"
            ]
          },
          "metadata": {},
          "execution_count": 20
        }
      ],
      "source": [
        "mmm.codigo.value_counts().describe()"
      ]
    },
    {
      "cell_type": "code",
      "execution_count": 21,
      "id": "baca2e5e",
      "metadata": {
        "id": "baca2e5e",
        "outputId": "2b77a753-9d7e-48d2-c40b-484d0b8833b3",
        "colab": {
          "base_uri": "https://localhost:8080/",
          "height": 335
        }
      },
      "outputs": [
        {
          "output_type": "execute_result",
          "data": {
            "text/plain": [
              "count     80.000000\n",
              "mean     357.900000\n",
              "std       38.667554\n",
              "min      102.000000\n",
              "25%      334.750000\n",
              "50%      369.500000\n",
              "75%      386.000000\n",
              "max      404.000000\n",
              "Name: codigo, dtype: float64"
            ],
            "text/html": [
              "<div>\n",
              "<style scoped>\n",
              "    .dataframe tbody tr th:only-of-type {\n",
              "        vertical-align: middle;\n",
              "    }\n",
              "\n",
              "    .dataframe tbody tr th {\n",
              "        vertical-align: top;\n",
              "    }\n",
              "\n",
              "    .dataframe thead th {\n",
              "        text-align: right;\n",
              "    }\n",
              "</style>\n",
              "<table border=\"1\" class=\"dataframe\">\n",
              "  <thead>\n",
              "    <tr style=\"text-align: right;\">\n",
              "      <th></th>\n",
              "      <th>codigo</th>\n",
              "    </tr>\n",
              "  </thead>\n",
              "  <tbody>\n",
              "    <tr>\n",
              "      <th>count</th>\n",
              "      <td>80.000000</td>\n",
              "    </tr>\n",
              "    <tr>\n",
              "      <th>mean</th>\n",
              "      <td>357.900000</td>\n",
              "    </tr>\n",
              "    <tr>\n",
              "      <th>std</th>\n",
              "      <td>38.667554</td>\n",
              "    </tr>\n",
              "    <tr>\n",
              "      <th>min</th>\n",
              "      <td>102.000000</td>\n",
              "    </tr>\n",
              "    <tr>\n",
              "      <th>25%</th>\n",
              "      <td>334.750000</td>\n",
              "    </tr>\n",
              "    <tr>\n",
              "      <th>50%</th>\n",
              "      <td>369.500000</td>\n",
              "    </tr>\n",
              "    <tr>\n",
              "      <th>75%</th>\n",
              "      <td>386.000000</td>\n",
              "    </tr>\n",
              "    <tr>\n",
              "      <th>max</th>\n",
              "      <td>404.000000</td>\n",
              "    </tr>\n",
              "  </tbody>\n",
              "</table>\n",
              "</div><br><label><b>dtype:</b> float64</label>"
            ]
          },
          "metadata": {},
          "execution_count": 21
        }
      ],
      "source": [
        "da.groupby(['mes', 'ano']).codigo.count().describe()"
      ]
    },
    {
      "cell_type": "code",
      "execution_count": 22,
      "id": "72469b76",
      "metadata": {
        "id": "72469b76",
        "outputId": "4e76d631-cc26-4ec4-fad2-b7593349dbaa",
        "colab": {
          "base_uri": "https://localhost:8080/",
          "height": 304
        }
      },
      "outputs": [
        {
          "output_type": "error",
          "ename": "KeyError",
          "evalue": "\"['uasg'] not in index\"",
          "traceback": [
            "\u001b[0;31m---------------------------------------------------------------------------\u001b[0m",
            "\u001b[0;31mKeyError\u001b[0m                                  Traceback (most recent call last)",
            "\u001b[0;32m/tmp/ipython-input-239941345.py\u001b[0m in \u001b[0;36m<cell line: 0>\u001b[0;34m()\u001b[0m\n\u001b[0;32m----> 1\u001b[0;31m \u001b[0metapas\u001b[0m\u001b[0;34m[\u001b[0m\u001b[0;34m[\u001b[0m\u001b[0;34m'mes'\u001b[0m\u001b[0;34m,\u001b[0m \u001b[0;34m'ano'\u001b[0m\u001b[0;34m,\u001b[0m \u001b[0;34m'uasg'\u001b[0m\u001b[0;34m]\u001b[0m\u001b[0;34m]\u001b[0m\u001b[0;34m.\u001b[0m\u001b[0mdrop_duplicates\u001b[0m\u001b[0;34m(\u001b[0m\u001b[0;34m)\u001b[0m\u001b[0;34m.\u001b[0m\u001b[0mgroupby\u001b[0m\u001b[0;34m(\u001b[0m\u001b[0;34m[\u001b[0m\u001b[0;34m'mes'\u001b[0m\u001b[0;34m,\u001b[0m \u001b[0;34m'ano'\u001b[0m\u001b[0;34m]\u001b[0m\u001b[0;34m)\u001b[0m\u001b[0;34m.\u001b[0m\u001b[0muasg\u001b[0m\u001b[0;34m.\u001b[0m\u001b[0mcount\u001b[0m\u001b[0;34m(\u001b[0m\u001b[0;34m)\u001b[0m\u001b[0;34m.\u001b[0m\u001b[0mdescribe\u001b[0m\u001b[0;34m(\u001b[0m\u001b[0;34m)\u001b[0m\u001b[0;34m\u001b[0m\u001b[0;34m\u001b[0m\u001b[0m\n\u001b[0m",
            "\u001b[0;32m/usr/local/lib/python3.12/dist-packages/pandas/core/frame.py\u001b[0m in \u001b[0;36m__getitem__\u001b[0;34m(self, key)\u001b[0m\n\u001b[1;32m   4111\u001b[0m             \u001b[0;32mif\u001b[0m \u001b[0mis_iterator\u001b[0m\u001b[0;34m(\u001b[0m\u001b[0mkey\u001b[0m\u001b[0;34m)\u001b[0m\u001b[0;34m:\u001b[0m\u001b[0;34m\u001b[0m\u001b[0;34m\u001b[0m\u001b[0m\n\u001b[1;32m   4112\u001b[0m                 \u001b[0mkey\u001b[0m \u001b[0;34m=\u001b[0m \u001b[0mlist\u001b[0m\u001b[0;34m(\u001b[0m\u001b[0mkey\u001b[0m\u001b[0;34m)\u001b[0m\u001b[0;34m\u001b[0m\u001b[0;34m\u001b[0m\u001b[0m\n\u001b[0;32m-> 4113\u001b[0;31m             \u001b[0mindexer\u001b[0m \u001b[0;34m=\u001b[0m \u001b[0mself\u001b[0m\u001b[0;34m.\u001b[0m\u001b[0mcolumns\u001b[0m\u001b[0;34m.\u001b[0m\u001b[0m_get_indexer_strict\u001b[0m\u001b[0;34m(\u001b[0m\u001b[0mkey\u001b[0m\u001b[0;34m,\u001b[0m \u001b[0;34m\"columns\"\u001b[0m\u001b[0;34m)\u001b[0m\u001b[0;34m[\u001b[0m\u001b[0;36m1\u001b[0m\u001b[0;34m]\u001b[0m\u001b[0;34m\u001b[0m\u001b[0;34m\u001b[0m\u001b[0m\n\u001b[0m\u001b[1;32m   4114\u001b[0m \u001b[0;34m\u001b[0m\u001b[0m\n\u001b[1;32m   4115\u001b[0m         \u001b[0;31m# take() does not accept boolean indexers\u001b[0m\u001b[0;34m\u001b[0m\u001b[0;34m\u001b[0m\u001b[0m\n",
            "\u001b[0;32m/usr/local/lib/python3.12/dist-packages/pandas/core/indexes/base.py\u001b[0m in \u001b[0;36m_get_indexer_strict\u001b[0;34m(self, key, axis_name)\u001b[0m\n\u001b[1;32m   6210\u001b[0m             \u001b[0mkeyarr\u001b[0m\u001b[0;34m,\u001b[0m \u001b[0mindexer\u001b[0m\u001b[0;34m,\u001b[0m \u001b[0mnew_indexer\u001b[0m \u001b[0;34m=\u001b[0m \u001b[0mself\u001b[0m\u001b[0;34m.\u001b[0m\u001b[0m_reindex_non_unique\u001b[0m\u001b[0;34m(\u001b[0m\u001b[0mkeyarr\u001b[0m\u001b[0;34m)\u001b[0m\u001b[0;34m\u001b[0m\u001b[0;34m\u001b[0m\u001b[0m\n\u001b[1;32m   6211\u001b[0m \u001b[0;34m\u001b[0m\u001b[0m\n\u001b[0;32m-> 6212\u001b[0;31m         \u001b[0mself\u001b[0m\u001b[0;34m.\u001b[0m\u001b[0m_raise_if_missing\u001b[0m\u001b[0;34m(\u001b[0m\u001b[0mkeyarr\u001b[0m\u001b[0;34m,\u001b[0m \u001b[0mindexer\u001b[0m\u001b[0;34m,\u001b[0m \u001b[0maxis_name\u001b[0m\u001b[0;34m)\u001b[0m\u001b[0;34m\u001b[0m\u001b[0;34m\u001b[0m\u001b[0m\n\u001b[0m\u001b[1;32m   6213\u001b[0m \u001b[0;34m\u001b[0m\u001b[0m\n\u001b[1;32m   6214\u001b[0m         \u001b[0mkeyarr\u001b[0m \u001b[0;34m=\u001b[0m \u001b[0mself\u001b[0m\u001b[0;34m.\u001b[0m\u001b[0mtake\u001b[0m\u001b[0;34m(\u001b[0m\u001b[0mindexer\u001b[0m\u001b[0;34m)\u001b[0m\u001b[0;34m\u001b[0m\u001b[0;34m\u001b[0m\u001b[0m\n",
            "\u001b[0;32m/usr/local/lib/python3.12/dist-packages/pandas/core/indexes/base.py\u001b[0m in \u001b[0;36m_raise_if_missing\u001b[0;34m(self, key, indexer, axis_name)\u001b[0m\n\u001b[1;32m   6262\u001b[0m \u001b[0;34m\u001b[0m\u001b[0m\n\u001b[1;32m   6263\u001b[0m             \u001b[0mnot_found\u001b[0m \u001b[0;34m=\u001b[0m \u001b[0mlist\u001b[0m\u001b[0;34m(\u001b[0m\u001b[0mensure_index\u001b[0m\u001b[0;34m(\u001b[0m\u001b[0mkey\u001b[0m\u001b[0;34m)\u001b[0m\u001b[0;34m[\u001b[0m\u001b[0mmissing_mask\u001b[0m\u001b[0;34m.\u001b[0m\u001b[0mnonzero\u001b[0m\u001b[0;34m(\u001b[0m\u001b[0;34m)\u001b[0m\u001b[0;34m[\u001b[0m\u001b[0;36m0\u001b[0m\u001b[0;34m]\u001b[0m\u001b[0;34m]\u001b[0m\u001b[0;34m.\u001b[0m\u001b[0munique\u001b[0m\u001b[0;34m(\u001b[0m\u001b[0;34m)\u001b[0m\u001b[0;34m)\u001b[0m\u001b[0;34m\u001b[0m\u001b[0;34m\u001b[0m\u001b[0m\n\u001b[0;32m-> 6264\u001b[0;31m             \u001b[0;32mraise\u001b[0m \u001b[0mKeyError\u001b[0m\u001b[0;34m(\u001b[0m\u001b[0;34mf\"{not_found} not in index\"\u001b[0m\u001b[0;34m)\u001b[0m\u001b[0;34m\u001b[0m\u001b[0;34m\u001b[0m\u001b[0m\n\u001b[0m\u001b[1;32m   6265\u001b[0m \u001b[0;34m\u001b[0m\u001b[0m\n\u001b[1;32m   6266\u001b[0m     \u001b[0;34m@\u001b[0m\u001b[0moverload\u001b[0m\u001b[0;34m\u001b[0m\u001b[0;34m\u001b[0m\u001b[0m\n",
            "\u001b[0;31mKeyError\u001b[0m: \"['uasg'] not in index\""
          ]
        }
      ],
      "source": [
        "etapas[['mes', 'ano', 'uasg']].drop_duplicates().groupby(['mes', 'ano']).uasg.count().describe()"
      ]
    },
    {
      "cell_type": "code",
      "execution_count": null,
      "id": "d23b319b",
      "metadata": {
        "id": "d23b319b"
      },
      "outputs": [],
      "source": [
        "mmm_marinha = mmm.groupby(['ano', 'mes'])[[col for col in mmm.columns if col not in ['ano', 'mes', 'codigo', 'nome']]].sum().reset_index()"
      ]
    },
    {
      "cell_type": "code",
      "execution_count": null,
      "id": "81640c41",
      "metadata": {
        "id": "81640c41"
      },
      "outputs": [],
      "source": [
        "mmm_marinha['mes'] = [''.join([str(i[0]), '_', str(i[1])]) for i in zip(mmm_marinha.mes.values, mmm_marinha.ano.values)]\n",
        "mmm_marinha.drop(columns=['ano'], inplace=True)\n",
        "mmm_marinha = mmm_marinha.iloc[:-2]"
      ]
    },
    {
      "cell_type": "code",
      "execution_count": null,
      "id": "9688d738",
      "metadata": {
        "id": "9688d738"
      },
      "outputs": [],
      "source": [
        "mmm"
      ]
    },
    {
      "cell_type": "code",
      "execution_count": null,
      "id": "fb491ec1",
      "metadata": {
        "id": "fb491ec1"
      },
      "outputs": [],
      "source": [
        "mmm_receita_despesa = pd.merge(mmm, da, how='inner', on=['mes', 'ano', 'codigo'])"
      ]
    },
    {
      "cell_type": "code",
      "execution_count": null,
      "id": "fb070438",
      "metadata": {
        "id": "fb070438"
      },
      "outputs": [],
      "source": [
        "mmm_receita_despesa[abs((mmm_receita_despesa.despesa_autorizada_global - (mmm_receita_despesa.generos_consumidos + mmm_receita_despesa.vale_extra)) - mmm_receita_despesa.sobra_licita) < 1]"
      ]
    },
    {
      "cell_type": "code",
      "execution_count": null,
      "id": "1715b89a",
      "metadata": {
        "id": "1715b89a"
      },
      "outputs": [],
      "source": [
        "mmm_receita_despesa[mmm_receita_despesa.codigo==80000]"
      ]
    },
    {
      "cell_type": "code",
      "execution_count": null,
      "id": "8549aa2a",
      "metadata": {
        "id": "8549aa2a"
      },
      "outputs": [],
      "source": [
        "mmm_receita_despesa.codigo.value_counts()"
      ]
    },
    {
      "cell_type": "code",
      "execution_count": null,
      "id": "50ecaf6a",
      "metadata": {
        "id": "50ecaf6a"
      },
      "outputs": [],
      "source": [
        "etapas[etapas.codigo_etapa.isin([102, 104])]"
      ]
    },
    {
      "cell_type": "code",
      "execution_count": null,
      "id": "0f51d785",
      "metadata": {
        "id": "0f51d785"
      },
      "outputs": [],
      "source": [
        "mmm_etapas = pd.merge(left=mmm, right=etapas, how='inner', on=['ano', 'mes', 'codigo'])"
      ]
    },
    {
      "cell_type": "code",
      "execution_count": null,
      "id": "4fe04974",
      "metadata": {
        "id": "4fe04974"
      },
      "outputs": [],
      "source": [
        "mmm_etapas[mmm_etapas.codigo_etapa.isin([103, 105])][['ano', 'mes', 'nome', 'codigo_etapa', 'quantidade']]"
      ]
    },
    {
      "cell_type": "code",
      "execution_count": null,
      "id": "f752e514",
      "metadata": {
        "id": "f752e514"
      },
      "outputs": [],
      "source": [
        "pd.DataFrame({\n",
        "    'diferenca': mmm_receita_despesa.despesa_autorizada_global - (mmm_receita_despesa.generos_consumidos + mmm_receita_despesa.vale_extra),\n",
        "    'sobra_licita': mmm_receita_despesa.sobra_licita\n",
        "})"
      ]
    },
    {
      "cell_type": "code",
      "execution_count": null,
      "id": "41d994ae",
      "metadata": {
        "id": "41d994ae"
      },
      "outputs": [],
      "source": [
        "da_marinha = da.groupby(['mes', 'ano']).despesa_autorizada_global.sum().reset_index()\n",
        "da_marinha['mes'] = ['_'.join(['{:02d}'.format(i[0]), str(i[1])]) for i in zip(da_marinha.mes.values, da_marinha.ano.values)]\n",
        "da_marinha = da_marinha.sort_values(by=['ano', 'mes']).iloc[:-2]\n",
        "fig = px.line(\n",
        "    da_marinha,\n",
        "    x = 'mes',\n",
        "    y = 'despesa_autorizada_global',\n",
        "    title='Despesa Autorizada global'\n",
        ")\n",
        "\n",
        "fig.show()"
      ]
    },
    {
      "cell_type": "code",
      "execution_count": null,
      "id": "066e46ec",
      "metadata": {
        "id": "066e46ec"
      },
      "outputs": [],
      "source": [
        "def grafico_base(titulo):\n",
        "    return px.line(\n",
        "        mmm_marinha,\n",
        "        x = 'mes',\n",
        "        y = 'totais_balanco_paiol_despesa',\n",
        "        labels = {\n",
        "            'mes': 'Mês e ano',\n",
        "            'totais_balanco_paiol_despesa': 'Totais das despesas'\n",
        "        },\n",
        "        title = titulo\n",
        "    )\n",
        "\n",
        "fig = grafico_base('Gastos com alimentação dos últimos cinco anos')\n",
        "\n",
        "fig.update_traces(mode='lines+markers', line=dict(width=2))\n",
        "fig.update_xaxes(tickangle=45)\n",
        "fig.update_layout(\n",
        "    template='plotly_white',\n",
        "    hovermode='x unified'\n",
        "    )\n",
        "\n",
        "fig.show()"
      ]
    },
    {
      "cell_type": "code",
      "execution_count": null,
      "id": "fc3e4dff",
      "metadata": {
        "id": "fc3e4dff"
      },
      "outputs": [],
      "source": [
        "# Teste de estacionariedade\n",
        "\n",
        "result = adfuller(mmm_marinha.totais_balanco_paiol_despesa)\n",
        "print(f'ADF: {result[0]}, p-valor: {result[1]}')"
      ]
    },
    {
      "cell_type": "code",
      "execution_count": null,
      "id": "80c6cb01",
      "metadata": {
        "id": "80c6cb01"
      },
      "outputs": [],
      "source": [
        "naive_forecast = mmm_marinha.totais_balanco_paiol_despesa.shift(1)\n",
        "mae_naive = mean_absolute_error(mmm_marinha.totais_balanco_paiol_despesa.iloc[1:], naive_forecast.iloc[1:])\n",
        "print('Baseline Naïve MAE:', mae_naive)"
      ]
    },
    {
      "cell_type": "code",
      "execution_count": null,
      "id": "3cbd40b6",
      "metadata": {
        "id": "3cbd40b6"
      },
      "outputs": [],
      "source": [
        "# SARIMA\n",
        "\n",
        "train = mmm_marinha.iloc[:-12, :]\n",
        "test = mmm_marinha.iloc[-12:, :]\n",
        "\n",
        "model_auto = pm.auto_arima(train.totais_balanco_paiol_despesa, seasonal=True, m=12, stepwise=True, trace=True)\n",
        "print(model_auto.summary())"
      ]
    },
    {
      "cell_type": "code",
      "execution_count": null,
      "id": "26635981",
      "metadata": {
        "id": "26635981"
      },
      "outputs": [],
      "source": [
        "mmm"
      ]
    },
    {
      "cell_type": "code",
      "execution_count": null,
      "id": "a6b0a36f",
      "metadata": {
        "id": "a6b0a36f"
      },
      "outputs": [],
      "source": [
        "import ipywidgets as widgets\n",
        "from IPython.display import display\n",
        "\n",
        "w = widgets.Dropdown(\n",
        "    options=['Addition', 'Multiplication', 'Subtraction', 'Division'],\n",
        "    value='Addition',\n",
        "    description='Task:',\n",
        ")\n",
        "\n",
        "def on_change(change):\n",
        "    if change['type'] == 'change' and change['name'] == 'value':\n",
        "        print(\"changed to %s\" % change['new'])\n",
        "\n",
        "w.observe(on_change)\n",
        "\n",
        "display(w)"
      ]
    },
    {
      "cell_type": "code",
      "execution_count": null,
      "id": "0b707537",
      "metadata": {
        "id": "0b707537"
      },
      "outputs": [],
      "source": [
        "color = 'green' #@param [\"red\", \"green\", \"blue\"]\n",
        "print(f\"Selected color: {color}\")"
      ]
    },
    {
      "cell_type": "code",
      "execution_count": null,
      "id": "7d0c5db5",
      "metadata": {
        "id": "7d0c5db5"
      },
      "outputs": [],
      "source": [
        "sarima_model = SARIMAX(train.totais_balanco_paiol_despesa,\n",
        "                       order=model_auto.order,\n",
        "                       seasonal_order=model_auto.seasonal_order)\n",
        "\n",
        "sarima_fit = sarima_model.fit(disp=False)\n",
        "\n",
        "forecast_sarima = sarima_fit.get_forecast(steps=12)\n",
        "pred_sarima = forecast_sarima.predicted_mean\n",
        "\n",
        "mae_sarima = mean_absolute_error(test.totais_balanco_paiol_despesa, pred_sarima)\n",
        "print('SARIMA MAE:', mae_sarima)\n",
        "\n"
      ]
    },
    {
      "cell_type": "code",
      "execution_count": null,
      "id": "fc5d37b2",
      "metadata": {
        "id": "fc5d37b2"
      },
      "outputs": [],
      "source": [
        "fig = grafico_base('Previsão temporal com o algoritmo SARIMA')\n",
        "\n",
        "fig.add_trace(\n",
        "    go.Scatter(\n",
        "        x = test.mes,\n",
        "        y = pred_sarima\n",
        "    )\n",
        ")\n",
        "\n",
        "fig.update_traces(mode='lines+markers', line=dict(width=2))\n",
        "fig.update_xaxes(tickangle=45)\n",
        "fig.update_layout(\n",
        "    template='plotly_white',\n",
        "    hovermode='x unified'\n",
        "    )\n",
        "\n",
        "fig.show()"
      ]
    },
    {
      "cell_type": "code",
      "execution_count": null,
      "id": "678e5898",
      "metadata": {
        "id": "678e5898"
      },
      "outputs": [],
      "source": [
        "# Previsão com o Prophet\n",
        "\n",
        "prophet_df = mmm_marinha[['mes', 'totais_balanco_paiol_despesa']]\n",
        "prophet_df.columns = ['ds', 'y']\n",
        "prophet_df['ds'] = pd.to_datetime(prophet_df['ds'], format='%m_%Y')\n",
        "\n",
        "model_prophet = Prophet(yearly_seasonality=True, weekly_seasonality=False, daily_seasonality=False)\n",
        "model_prophet.fit(prophet_df)\n",
        "\n",
        "future = model_prophet.make_future_dataframe(periods=12, freq='M')\n",
        "forecast = model_prophet.predict(future)\n",
        "\n",
        "forecast_test = forecast.set_index('ds').loc[pd.to_datetime(test.mes, format='%m_%Y')]\n",
        "mae_prophet = mean_absolute_error(test['totais_balanco_paiol_despesa'], forecast_test['yhat'])\n",
        "print('Prophet MAE', mae_prophet)"
      ]
    },
    {
      "cell_type": "code",
      "execution_count": null,
      "id": "2f7c19f3",
      "metadata": {
        "id": "2f7c19f3"
      },
      "outputs": [],
      "source": [
        "fig = grafico_base('Previsão temporal com o algoritmo Prophet')\n",
        "\n",
        "fig.add_trace(\n",
        "    go.Scatter(\n",
        "        x = test.mes,\n",
        "        y = forecast_test.yhat\n",
        "    )\n",
        ")\n",
        "\n",
        "fig.update_traces(mode='lines+markers', line=dict(width=2))\n",
        "fig.update_xaxes(tickangle=45)\n",
        "fig.update_layout(\n",
        "    template='plotly_white',\n",
        "    hovermode='x unified'\n",
        "    )\n",
        "\n",
        "fig.show()"
      ]
    },
    {
      "cell_type": "code",
      "execution_count": null,
      "id": "b2a4064f",
      "metadata": {
        "id": "b2a4064f"
      },
      "outputs": [],
      "source": [
        "# Regressão com XGBoost para séries temporais\n",
        "\n",
        "xg_df = mmm_marinha[['mes', 'totais_balanco_paiol_despesa']]\n",
        "xg_df['ano'] = xg_df['mes'].apply(lambda x: x.split('_')[-1]).astype(int)\n",
        "xg_df['mes'] = xg_df['mes'].apply(lambda x: x.split('_')[0]).astype(int)\n",
        "xg_df['lag1'] = xg_df['totais_balanco_paiol_despesa'].shift(1)\n",
        "xg_df['lag3'] = xg_df['totais_balanco_paiol_despesa'].shift(3)\n",
        "xg_df['lag6'] = xg_df['totais_balanco_paiol_despesa'].shift(6)\n",
        "xg_df['rolling3'] = xg_df['totais_balanco_paiol_despesa'].rolling(3).mean()\n",
        "xg_df['rolling6'] = xg_df['totais_balanco_paiol_despesa'].rolling(6).mean()\n",
        "\n",
        "xg_df = xg_df.dropna().reset_index(drop=True)"
      ]
    },
    {
      "cell_type": "code",
      "execution_count": null,
      "id": "0b9e0724",
      "metadata": {
        "id": "0b9e0724"
      },
      "outputs": [],
      "source": [
        "train_xg = xg_df.iloc[:-12]\n",
        "test_xg = xg_df.iloc[-12:]\n",
        "\n",
        "X_train = train_xg.drop(columns=['totais_balanco_paiol_despesa'])\n",
        "y_train = train_xg['totais_balanco_paiol_despesa']\n",
        "X_test = test_xg.drop(columns=['totais_balanco_paiol_despesa'])\n",
        "y_test = test_xg['totais_balanco_paiol_despesa']\n",
        "\n",
        "xgb = XGBRegressor(\n",
        "    n_estimators = 300,\n",
        "    learning_rate = 0.05,\n",
        "    max_depth = 5,\n",
        "    subsample = 0.8,\n",
        "    colsample_bytree = 0.8,\n",
        "    random_state = 42\n",
        ")\n",
        "\n",
        "xgb.fit(X_train, y_train)\n",
        "\n",
        "pred_xgb = xgb.predict(X_test)\n",
        "\n",
        "mae_xgb = mean_absolute_error(y_test, pred_xgb)\n",
        "\n",
        "print(\"XGBoost MAE:\", mae_xgb)\n"
      ]
    },
    {
      "cell_type": "code",
      "execution_count": null,
      "id": "610a55a9",
      "metadata": {
        "id": "610a55a9"
      },
      "outputs": [],
      "source": [
        "fig = grafico_base('Previsão temporal com o algoritmo XGBoost')\n",
        "\n",
        "fig.add_trace(\n",
        "    go.Scatter(\n",
        "        x = test.mes,\n",
        "        y = pred_xgb\n",
        "    )\n",
        ")\n",
        "\n",
        "fig.update_traces(mode='lines+markers', line=dict(width=2))\n",
        "fig.update_xaxes(tickangle=45)\n",
        "fig.update_layout(\n",
        "    template='plotly_white',\n",
        "    hovermode='x unified'\n",
        "    )\n",
        "\n",
        "fig.show()"
      ]
    },
    {
      "cell_type": "code",
      "execution_count": null,
      "id": "4aec5d4b",
      "metadata": {
        "id": "4aec5d4b"
      },
      "outputs": [],
      "source": [
        "hw_model = ExponentialSmoothing(\n",
        "    train['totais_balanco_paiol_despesa'],\n",
        "    trend='add',\n",
        "    seasonal='add',\n",
        "    seasonal_periods=12\n",
        ").fit()\n",
        "\n",
        "pred_hw = hw_model.forecast(12)"
      ]
    },
    {
      "cell_type": "code",
      "execution_count": null,
      "id": "8d782840",
      "metadata": {
        "id": "8d782840"
      },
      "outputs": [],
      "source": [
        "fig = grafico_base('Previsão temporal com o algoritmo ExponentialSmoothing')\n",
        "\n",
        "fig.add_trace(\n",
        "    go.Scatter(\n",
        "        x = test.mes,\n",
        "        y = pred_hw\n",
        "    )\n",
        ")\n",
        "\n",
        "fig.update_traces(mode='lines+markers', line=dict(width=2))\n",
        "fig.update_xaxes(tickangle=45)\n",
        "fig.update_layout(\n",
        "    template='plotly_white',\n",
        "    hovermode='x unified'\n",
        "    )\n",
        "\n",
        "fig.show()"
      ]
    },
    {
      "cell_type": "code",
      "execution_count": null,
      "id": "1a3bfe4c",
      "metadata": {
        "id": "1a3bfe4c"
      },
      "outputs": [],
      "source": [
        "scaler = MinMaxScaler(feature_range=(0, 1))\n",
        "despesas_scaled = scaler.fit_transform(mmm_marinha.totais_balanco_paiol_despesa.values.reshape(-1, 1))\n",
        "\n",
        "def create_sequences(data, window=12):\n",
        "    X, y = [], []\n",
        "    for i in range(len(data)- window):\n",
        "        X.append(data[i:i+window])\n",
        "        y.append(data[i+window])\n",
        "    return np.array(X), np.array(y)\n",
        "\n",
        "X, y = create_sequences(despesas_scaled)\n",
        "\n",
        "\n",
        "split = len(X) - 12\n",
        "X_train, X_test = X[:split], X[split:]\n",
        "y_train, y_test = y[:split], y[split:]\n",
        "print('Shape treino:', X_train.shape, y_train.shape)"
      ]
    },
    {
      "cell_type": "code",
      "execution_count": null,
      "id": "dd4973a6",
      "metadata": {
        "id": "dd4973a6"
      },
      "outputs": [],
      "source": [
        "model = Sequential()\n",
        "model.add(LSTM(64, activation='tanh', return_sequences=True, input_shape=(12, 1)))\n",
        "model.add(Dropout(0.2))\n",
        "model.add(LSTM(32, activation='tanh'))\n",
        "model.add(Dense(1))\n",
        "\n",
        "model.compile(optimizer='adam', loss='mae')\n",
        "\n",
        "history = model.fit(\n",
        "    X_train, y_train,\n",
        "    epochs = 200,\n",
        "    batch_size = 4,\n",
        "    validation_split = 0.1,\n",
        "    verbose = 1\n",
        ")"
      ]
    },
    {
      "cell_type": "code",
      "execution_count": null,
      "id": "8ab14322",
      "metadata": {
        "id": "8ab14322"
      },
      "outputs": [],
      "source": [
        "y_pred = model.predict(X_test)\n",
        "\n",
        "y_test_inv = scaler.inverse_transform(y_test.reshape(-1, 1))\n",
        "y_pred_inv = scaler.inverse_transform(y_pred)\n",
        "\n",
        "mae_lstm = mean_absolute_error(y_test_inv, y_pred_inv)\n",
        "print('LSTM MAE:', mae_lstm)"
      ]
    },
    {
      "cell_type": "code",
      "execution_count": null,
      "id": "bfc0090f",
      "metadata": {
        "id": "bfc0090f"
      },
      "outputs": [],
      "source": [
        "fig = grafico_base('Previsão temporal com o algoritmo LSTM')\n",
        "\n",
        "fig.add_trace(\n",
        "    go.Scatter(\n",
        "        x = test.mes,\n",
        "        y = y_pred_inv.reshape(1, -1)[0]\n",
        "    )\n",
        ")\n",
        "\n",
        "fig.update_traces(mode='lines+markers', line=dict(width=2))\n",
        "fig.update_xaxes(tickangle=45)\n",
        "fig.update_layout(\n",
        "    template='plotly_white',\n",
        "    hovermode='x unified'\n",
        "    )\n",
        "\n",
        "fig.show()"
      ]
    },
    {
      "cell_type": "code",
      "execution_count": null,
      "id": "bdf8a44c",
      "metadata": {
        "id": "bdf8a44c"
      },
      "outputs": [],
      "source": [
        "def create_sequences_multistep(data, window=12, horizon=12):\n",
        "    X, y = [], []\n",
        "    for i in range(len(data) - window - horizon + 1):\n",
        "        X.append(data[i:i+window])\n",
        "        y.append(data[i+window:i+window+horizon].flatten())\n",
        "    return np.array(X), np.array(y)\n",
        "\n",
        "window = 12\n",
        "horizon = 12\n",
        "X, y = create_sequences_multistep(despesas_scaled, window, horizon)\n",
        "\n",
        "split = int(len(X) * 0.8)\n",
        "X_train, X_test = X[:split], X[split:]\n",
        "y_train, y_test = y[:split], y[split:]\n",
        "print('X_train shape:', X_train.shape)\n",
        "print('y_train, shape:', y_train.shape)"
      ]
    },
    {
      "cell_type": "code",
      "execution_count": null,
      "id": "0d401850",
      "metadata": {
        "id": "0d401850"
      },
      "outputs": [],
      "source": [
        "model = Sequential()\n",
        "model.add(LSTM(64, activation=\"tanh\", return_sequences=True, input_shape=(window, 1)))\n",
        "model.add(Dropout(0.2))\n",
        "model.add(LSTM(32, activation=\"tanh\"))\n",
        "model.add(Dense(horizon))  # saída com 12 valores (multi-step)\n",
        "\n",
        "model.compile(optimizer=\"adam\", loss=\"mse\")\n",
        "\n",
        "history = model.fit(\n",
        "    X_train, y_train,\n",
        "    epochs=300,\n",
        "    batch_size=4,\n",
        "    validation_split=0.1,\n",
        "    verbose=1\n",
        ")"
      ]
    },
    {
      "cell_type": "code",
      "execution_count": null,
      "id": "07ef65ad",
      "metadata": {
        "id": "07ef65ad"
      },
      "outputs": [],
      "source": [
        "y_pred = model.predict(X_test)\n",
        "\n",
        "y_test_inv = scaler.inverse_transform(y_test)\n",
        "y_pred_inv = scaler.inverse_transform(y_pred)\n",
        "\n",
        "mae_lstm_multi = mean_absolute_error(y_test_inv.flatten(), y_pred_inv.flatten())\n",
        "print('LSTM Multi-step MAE:', mae_lstm_multi)"
      ]
    },
    {
      "cell_type": "code",
      "execution_count": null,
      "id": "e8cc75f2",
      "metadata": {
        "id": "e8cc75f2"
      },
      "outputs": [],
      "source": [
        "last_input_dates = pd.to_datetime(mmm_marinha.mes, format='%m_%Y').iloc[-(window + horizon):-horizon]\n",
        "future_dates = pd.date_range(start = pd.to_datetime(mmm_marinha.mes, format='%m_%Y').iloc[-horizon], periods=horizon, freq='M')"
      ]
    },
    {
      "cell_type": "code",
      "execution_count": null,
      "id": "5a3ae83a",
      "metadata": {
        "id": "5a3ae83a"
      },
      "outputs": [],
      "source": [
        "fig = grafico_base('Previsão temporal com o algoritmo LSTM Multi-step')\n",
        "\n",
        "fig.add_trace(\n",
        "    go.Scatter(\n",
        "        x = test.mes,\n",
        "        y = y_pred_inv.flatten()\n",
        "    )\n",
        ")\n",
        "\n",
        "fig.update_traces(mode='lines+markers', line=dict(width=2))\n",
        "fig.update_xaxes(tickangle=45)\n",
        "fig.update_layout(\n",
        "    template='plotly_white',\n",
        "    hovermode='x unified'\n",
        "    )\n",
        "\n",
        "fig.show()"
      ]
    },
    {
      "cell_type": "code",
      "execution_count": null,
      "id": "a157bcf0",
      "metadata": {
        "id": "a157bcf0"
      },
      "outputs": [],
      "source": [
        "df['mes/ano'] = ['/'.join([str(i[0]), str(i[1])]) for i in zip(df.mes, df.ano)]\n",
        "\n",
        "plt.figure(figsize=(100, 20))\n",
        "px.line(df, x='mes/ano', y='saldo', color='nome')"
      ]
    }
  ],
  "metadata": {
    "kernelspec": {
      "display_name": "mvp",
      "language": "python",
      "name": "python3"
    },
    "language_info": {
      "codemirror_mode": {
        "name": "ipython",
        "version": 3
      },
      "file_extension": ".py",
      "mimetype": "text/x-python",
      "name": "python",
      "nbconvert_exporter": "python",
      "pygments_lexer": "ipython3",
      "version": "3.12.11"
    },
    "colab": {
      "provenance": [],
      "include_colab_link": true
    }
  },
  "nbformat": 4,
  "nbformat_minor": 5
}