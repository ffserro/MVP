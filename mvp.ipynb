{
 "cells": [
  {
   "cell_type": "code",
   "execution_count": 148,
   "id": "acb69f76",
   "metadata": {},
   "outputs": [],
   "source": [
    "import os\n",
    "\n",
    "import pandas as pd\n",
    "import numpy as np\n",
    "import matplotlib.pyplot as plt\n",
    "import seaborn as sns\n",
    "\n",
    "import plotly.express as px\n",
    "import plotly.graph_objects as go\n",
    "\n",
    "from statsmodels.tsa.stattools import adfuller\n",
    "from statsmodels.tsa.statespace.sarimax import SARIMAX\n",
    "from statsmodels.tsa.holtwinters import ExponentialSmoothing\n",
    "from sklearn.metrics import mean_absolute_error, mean_squared_error\n",
    "from sklearn.model_selection import TimeSeriesSplit\n",
    "from sklearn.preprocessing import MinMaxScaler\n",
    "from tensorflow.keras.models import Sequential\n",
    "from tensorflow.keras.layers import LSTM, Dense, Dropout\n",
    "\n",
    "\n",
    "import pmdarima as pm\n",
    "from prophet import Prophet\n",
    "from xgboost import XGBRegressor\n",
    "\n",
    "from warnings import filterwarnings\n",
    "filterwarnings('ignore')"
   ]
  },
  {
   "cell_type": "code",
   "execution_count": 173,
   "id": "c5b106c1",
   "metadata": {},
   "outputs": [],
   "source": [
    "mmm = pd.DataFrame()\n",
    "mmm = pd.concat([mmm]+[pd.read_excel(os.path.join('dados', 'mmm', arquivo)) for arquivo in os.listdir('dados/mmm')]).reset_index(drop=True)\n",
    "\n",
    "etapas = pd.DataFrame()\n",
    "etapas = pd.concat([etapas]+[pd.read_excel(os.path.join('dados', 'etapas', arquivo)) for arquivo in os.listdir('dados/etapas')]).reset_index(drop=True).rename(columns={'uasg':'codigo'})\n",
    "\n",
    "da = pd.DataFrame()\n",
    "da = pd.concat([da]+[pd.read_excel(os.path.join('dados', 'da', arquivo)) for arquivo in os.listdir('dados/da')]).reset_index(drop=True)"
   ]
  },
  {
   "cell_type": "code",
   "execution_count": 151,
   "id": "4fb3bcc3",
   "metadata": {},
   "outputs": [
    {
     "data": {
      "application/vnd.microsoft.datawrangler.viewer.v0+json": {
       "columns": [
        {
         "name": "index",
         "rawType": "object",
         "type": "string"
        },
        {
         "name": "count",
         "rawType": "float64",
         "type": "float"
        }
       ],
       "ref": "2fa4111b-479d-4121-9c8b-5d45c71d8a7c",
       "rows": [
        [
         "count",
         "247.0"
        ],
        [
         "mean",
         "50.8421052631579"
        ],
        [
         "std",
         "32.580035416570254"
        ],
        [
         "min",
         "1.0"
        ],
        [
         "25%",
         "13.5"
        ],
        [
         "50%",
         "70.0"
        ],
        [
         "75%",
         "80.0"
        ],
        [
         "max",
         "80.0"
        ]
       ],
       "shape": {
        "columns": 1,
        "rows": 8
       }
      },
      "text/plain": [
       "count    247.000000\n",
       "mean      50.842105\n",
       "std       32.580035\n",
       "min        1.000000\n",
       "25%       13.500000\n",
       "50%       70.000000\n",
       "75%       80.000000\n",
       "max       80.000000\n",
       "Name: count, dtype: float64"
      ]
     },
     "execution_count": 151,
     "metadata": {},
     "output_type": "execute_result"
    }
   ],
   "source": [
    "mmm.codigo.value_counts().describe()"
   ]
  },
  {
   "cell_type": "code",
   "execution_count": 152,
   "id": "baca2e5e",
   "metadata": {},
   "outputs": [
    {
     "data": {
      "application/vnd.microsoft.datawrangler.viewer.v0+json": {
       "columns": [
        {
         "name": "index",
         "rawType": "object",
         "type": "string"
        },
        {
         "name": "codigo",
         "rawType": "float64",
         "type": "float"
        }
       ],
       "ref": "de8764b6-6f28-4fe4-88a0-173636e1f299",
       "rows": [
        [
         "count",
         "80.0"
        ],
        [
         "mean",
         "357.9"
        ],
        [
         "std",
         "38.66755418739907"
        ],
        [
         "min",
         "102.0"
        ],
        [
         "25%",
         "334.75"
        ],
        [
         "50%",
         "369.5"
        ],
        [
         "75%",
         "386.0"
        ],
        [
         "max",
         "404.0"
        ]
       ],
       "shape": {
        "columns": 1,
        "rows": 8
       }
      },
      "text/plain": [
       "count     80.000000\n",
       "mean     357.900000\n",
       "std       38.667554\n",
       "min      102.000000\n",
       "25%      334.750000\n",
       "50%      369.500000\n",
       "75%      386.000000\n",
       "max      404.000000\n",
       "Name: codigo, dtype: float64"
      ]
     },
     "execution_count": 152,
     "metadata": {},
     "output_type": "execute_result"
    }
   ],
   "source": [
    "da.groupby(['mes', 'ano']).codigo.count().describe()"
   ]
  },
  {
   "cell_type": "code",
   "execution_count": 153,
   "id": "72469b76",
   "metadata": {},
   "outputs": [
    {
     "data": {
      "application/vnd.microsoft.datawrangler.viewer.v0+json": {
       "columns": [
        {
         "name": "index",
         "rawType": "object",
         "type": "string"
        },
        {
         "name": "uasg",
         "rawType": "float64",
         "type": "float"
        }
       ],
       "ref": "d51abd76-7acf-46eb-8b39-0780b72f9ed1",
       "rows": [
        [
         "count",
         "79.0"
        ],
        [
         "mean",
         "301.26582278481015"
        ],
        [
         "std",
         "16.60839211776453"
        ],
        [
         "min",
         "277.0"
        ],
        [
         "25%",
         "288.0"
        ],
        [
         "50%",
         "300.0"
        ],
        [
         "75%",
         "313.5"
        ],
        [
         "max",
         "335.0"
        ]
       ],
       "shape": {
        "columns": 1,
        "rows": 8
       }
      },
      "text/plain": [
       "count     79.000000\n",
       "mean     301.265823\n",
       "std       16.608392\n",
       "min      277.000000\n",
       "25%      288.000000\n",
       "50%      300.000000\n",
       "75%      313.500000\n",
       "max      335.000000\n",
       "Name: uasg, dtype: float64"
      ]
     },
     "execution_count": 153,
     "metadata": {},
     "output_type": "execute_result"
    }
   ],
   "source": [
    "etapas[['mes', 'ano', 'uasg']].drop_duplicates().groupby(['mes', 'ano']).uasg.count().describe()"
   ]
  },
  {
   "cell_type": "code",
   "execution_count": 154,
   "id": "d23b319b",
   "metadata": {},
   "outputs": [],
   "source": [
    "mmm_marinha = mmm.groupby(['ano', 'mes'])[[col for col in mmm.columns if col not in ['ano', 'mes', 'codigo', 'nome']]].sum().reset_index()"
   ]
  },
  {
   "cell_type": "code",
   "execution_count": 155,
   "id": "81640c41",
   "metadata": {},
   "outputs": [],
   "source": [
    "mmm_marinha['mes'] = [''.join([str(i[0]), '_', str(i[1])]) for i in zip(mmm_marinha.mes.values, mmm_marinha.ano.values)]\n",
    "mmm_marinha.drop(columns=['ano'], inplace=True)\n",
    "mmm_marinha = mmm_marinha.iloc[:-2]"
   ]
  },
  {
   "cell_type": "code",
   "execution_count": 156,
   "id": "9688d738",
   "metadata": {},
   "outputs": [
    {
     "data": {
      "application/vnd.microsoft.datawrangler.viewer.v0+json": {
       "columns": [
        {
         "name": "index",
         "rawType": "int64",
         "type": "integer"
        },
        {
         "name": "ano",
         "rawType": "int64",
         "type": "integer"
        },
        {
         "name": "mes",
         "rawType": "int64",
         "type": "integer"
        },
        {
         "name": "codigo",
         "rawType": "int64",
         "type": "integer"
        },
        {
         "name": "nome",
         "rawType": "object",
         "type": "string"
        },
        {
         "name": "balanco_paiol_mes_anterior",
         "rawType": "float64",
         "type": "float"
        },
        {
         "name": "gen_depsubmrj_depnav_reg",
         "rawType": "float64",
         "type": "float"
        },
        {
         "name": "gen_adq_form_extra_mb_licit1",
         "rawType": "float64",
         "type": "float"
        },
        {
         "name": "gen_adq_form_extra_mb_licit2",
         "rawType": "float64",
         "type": "float"
        },
        {
         "name": "gen_adq_form_extra_mb_slicit",
         "rawType": "float64",
         "type": "float"
        },
        {
         "name": "remessa_recebida",
         "rawType": "float64",
         "type": "float"
        },
        {
         "name": "remessa_expedida",
         "rawType": "float64",
         "type": "float"
        },
        {
         "name": "vale_extra",
         "rawType": "float64",
         "type": "float"
        },
        {
         "name": "termo_de_despesa",
         "rawType": "float64",
         "type": "float"
        },
        {
         "name": "generos_consumidos",
         "rawType": "float64",
         "type": "float"
        },
        {
         "name": "totais_balanco_paiol_receita",
         "rawType": "float64",
         "type": "float"
        },
        {
         "name": "totais_balanco_paiol_despesa",
         "rawType": "float64",
         "type": "float"
        },
        {
         "name": "saldo",
         "rawType": "float64",
         "type": "float"
        }
       ],
       "ref": "c2c2a45f-8b2e-4105-9198-85e7c1a984aa",
       "rows": [
        [
         "0",
         "2019",
         "1",
         "81200",
         "1° BATALHAO DE OPERAÇOES LITORANEAS DE FUZILEIROS NAVAIS",
         "98180.1572",
         "73516.14",
         "42111.8",
         "43376.544",
         "1174.4",
         "0.0",
         "0.0",
         "2871.75",
         "0.0",
         "162351.16",
         "258359.0412",
         "165222.91",
         "93136.1312"
        ],
        [
         "1",
         "2019",
         "1",
         "88200",
         "1º Batalhão de Operações Ribeirinhas",
         "698734.61658",
         "0.0",
         "0.0",
         "0.0",
         "158691.81",
         "0.0",
         "0.0",
         "19335.01",
         "0.0",
         "168038.208",
         "857426.42658",
         "187373.218",
         "670053.20858"
        ],
        [
         "2",
         "2019",
         "1",
         "82200",
         "2° BATALHÃO DE OPERAÇÕES LITORÂNEAS DE FUZILEIROS NAVAIS",
         "63728.7586",
         "31178.35",
         "54681.395",
         "0.0",
         "0.0",
         "0.0",
         "0.0",
         "5469.15",
         "0.0",
         "65744.78",
         "149588.5036",
         "71213.93",
         "78374.5736"
        ],
        [
         "3",
         "2019",
         "1",
         "84200",
         "2º BATALHÃO DE OPERAÇÕES RIBEIRINHAS",
         "171638.535",
         "54408.7",
         "117189.0",
         "0.0",
         "6110.1599",
         "0.0",
         "0.0",
         "4399.4",
         "0.0",
         "113672.3175",
         "349346.3949",
         "118071.7175",
         "231274.6774"
        ],
        [
         "4",
         "2019",
         "1",
         "83200",
         "3° BATALHÃO DE OPERAÇÕES LITORÂNEAS DE FUZILEIROS NAVAIS",
         "94752.65847",
         "9647.28",
         "3400.21",
         "0.0",
         "505.56",
         "0.0",
         "0.0",
         "6570.2",
         "0.0",
         "12721.57279",
         "108305.70847",
         "19291.77279",
         "89013.93568"
        ],
        [
         "5",
         "2019",
         "1",
         "87200",
         "3º BATALHÃO DE PROTEÇÃO E DEFESA NBQR",
         "266669.84266",
         "29684.62",
         "66213.2423",
         "43176.32",
         "2203.7274",
         "0.0",
         "0.0",
         "13786.89",
         "0.0",
         "103662.0045",
         "407947.75236",
         "117448.8945",
         "290498.85786"
        ],
        [
         "6",
         "2019",
         "1",
         "41000",
         "ARSENAL DE MARINHA DO RIO DE JANEIRO",
         "644859.97834",
         "117076.63",
         "127750.11",
         "234503.5",
         "30800.0533",
         "0.0",
         "0.0",
         "73565.34",
         "0.0",
         "560956.43985",
         "1154990.27164",
         "634521.77985",
         "520468.49179"
        ],
        [
         "7",
         "2019",
         "1",
         "91580",
         "BASE ALMIRANTE CASTRO E SILVA",
         "103707.749",
         "64495.59",
         "47581.09",
         "75215.192",
         "1033.1489",
         "0.0",
         "3424.18",
         "16214.26",
         "0.0",
         "193655.2",
         "292032.7699",
         "213293.64",
         "78739.1299"
        ],
        [
         "8",
         "2019",
         "1",
         "91180",
         "BASE AÉREA NAVAL DE SÃO PEDRO DA ALDEIA",
         "535621.6161",
         "207307.19",
         "224870.754",
         "0.0",
         "29927.1797",
         "0.0",
         "0.0",
         "22402.8",
         "0.0",
         "432058.64",
         "997726.7398",
         "454461.44",
         "543265.2998"
        ],
        [
         "9",
         "2019",
         "1",
         "71100",
         "BASE DE ABASTECIMENTO DA MARINHA NO RIO DE JANEIRO",
         "170463.4061",
         "101940.79",
         "92793.32",
         "19713.2",
         "12132.2178",
         "0.0",
         "0.0",
         "25542.86",
         "0.0",
         "191597.165033",
         "397042.9339",
         "217140.025033",
         "179902.908867"
        ],
        [
         "10",
         "2019",
         "1",
         "95380",
         "BASE DE FUZILEIROS NAVAIS DA ILHA DAS FLORES",
         "116668.7415",
         "70443.05",
         "73079.59846",
         "17886.312",
         "1448.3993",
         "0.0",
         "0.0",
         "5867.51",
         "0.0",
         "143673.5475",
         "279526.10126",
         "149541.0575",
         "129985.04376"
        ],
        [
         "11",
         "2019",
         "1",
         "95180",
         "BASE DE FUZILEIROS NAVAIS DA ILHA DO GOVERNADOR",
         "552113.2966",
         "305543.27",
         "225817.724",
         "4293.0",
         "12827.0051",
         "0.0",
         "0.0",
         "22460.04",
         "0.0",
         "627413.5515",
         "1100594.2957",
         "649873.5915",
         "450720.7042"
        ],
        [
         "12",
         "2019",
         "1",
         "95500",
         "BASE DE FUZILEIROS NAVAIS DO RIO MERITI",
         "184642.1520741",
         "71755.65",
         "64467.88",
         "47997.24",
         "26755.9238",
         "0.0",
         "0.0",
         "32525.83",
         "0.0",
         "211685.8809",
         "395618.8458741",
         "244211.7109",
         "151407.1349741"
        ],
        [
         "13",
         "2019",
         "1",
         "51212",
         "BASE DE HIDROGRAFIA DA MARINHA EM NITERÓI",
         "162426.6745",
         "139360.19",
         "68049.532",
         "110903.185",
         "12383.0992",
         "0.0",
         "3293.94",
         "32244.08",
         "0.0",
         "257248.088",
         "493122.6807",
         "292786.108",
         "200336.5727"
        ],
        [
         "14",
         "2019",
         "1",
         "86800",
         "BASE FLUVIAL DE LADÁRIO",
         "249444.51187",
         "72769.16",
         "88404.209",
         "93472.92375",
         "86.13",
         "0.0",
         "0.0",
         "49021.79",
         "0.0",
         "224286.06562",
         "504176.93462",
         "273307.85562",
         "230869.079"
        ],
        [
         "15",
         "2019",
         "1",
         "82801",
         "BASE NAVAL DE ARATU",
         "99924.42664",
         "112914.31",
         "156951.2431",
         "0.0",
         "9031.2517",
         "981.39",
         "0.0",
         "20312.92",
         "0.0",
         "192777.1000075",
         "379802.62144",
         "213090.0200075",
         "166712.6014325"
        ],
        [
         "16",
         "2019",
         "1",
         "83800",
         "BASE NAVAL DE NATAL",
         "167772.7484",
         "102001.65",
         "95643.1797",
         "23924.21",
         "10289.0431",
         "0.0",
         "0.0",
         "0.0",
         "0.0",
         "178245.57",
         "399630.8312",
         "178245.57",
         "221385.2612"
        ],
        [
         "17",
         "2019",
         "1",
         "84800",
         "BASE NAVAL DE VAL-DE-CÃES",
         "266978.623",
         "2247.1",
         "164851.63",
         "0.0",
         "2028.04",
         "0.0",
         "0.0",
         "1022.92",
         "0.0",
         "187911.29",
         "436105.393",
         "188934.21",
         "247171.183"
        ],
        [
         "18",
         "2019",
         "1",
         "91800",
         "BASE NAVAL DO RIO DE JANEIRO",
         "385849.92316",
         "306253.02",
         "204515.66",
         "136367.26",
         "8365.3218",
         "0.0",
         "0.0",
         "24820.63",
         "0.0",
         "447885.17",
         "1041351.18496",
         "472705.8",
         "568645.38496"
        ],
        [
         "19",
         "2019",
         "1",
         "95400",
         "BATALHÃO DE OPERAÇÕES ESPECIAIS DE FUZILEIROS NAVAIS",
         "106077.53505",
         "41686.03",
         "71892.96",
         "15827.0",
         "0.0",
         "0.0",
         "0.0",
         "8094.85",
         "0.0",
         "107190.1923",
         "235483.52505",
         "115285.0423",
         "120198.48275"
        ],
        [
         "20",
         "2019",
         "1",
         "31050",
         "BATALHÃO NAVAL",
         "219225.22508",
         "26199.05",
         "158110.46",
         "142950.0404",
         "20742.307",
         "0.0",
         "0.0",
         "29150.04",
         "0.0",
         "283520.8758",
         "567227.08248",
         "312670.9158",
         "254556.16668"
        ],
        [
         "21",
         "2019",
         "1",
         "84310",
         "CAPITANIA DOS PORTOS DA AMAZONIA ORIENTAL",
         "17092.225",
         "5561.91",
         "11079.62",
         "0.0",
         "2158.9403",
         "0.0",
         "0.0",
         "0.0",
         "0.0",
         "24699.15",
         "35892.6953",
         "24699.15",
         "11193.5453"
        ],
        [
         "22",
         "2019",
         "1",
         "83340",
         "CAPITANIA DOS PORTOS DE PERNAMBUCO",
         "18383.9929",
         "920.0",
         "29567.58622",
         "0.0",
         "753.68",
         "0.0",
         "0.0",
         "1612.03",
         "0.0",
         "28089.27828",
         "49625.25912",
         "29701.30828",
         "19923.95084"
        ],
        [
         "23",
         "2019",
         "1",
         "85340",
         "CAPITANIA DOS PORTOS DE SANTA CATARINA",
         "17211.3896",
         "0.0",
         "0.0",
         "27934.1433",
         "237.2106",
         "0.0",
         "0.0",
         "459.08",
         "0.0",
         "25396.735",
         "45382.7435",
         "25855.815",
         "19526.9285"
        ],
        [
         "24",
         "2019",
         "1",
         "83320",
         "CAPITANIA DOS PORTOS DO CEARÁ",
         "34536.42495",
         "0.0",
         "4840.74",
         "0.0",
         "7003.1904",
         "0.0",
         "0.0",
         "1787.25",
         "0.0",
         "20159.56015",
         "46380.35535",
         "21946.81015",
         "24433.5452"
        ],
        [
         "25",
         "2019",
         "1",
         "81310",
         "CAPITANIA DOS PORTOS DO ESPÍRITO SANTO",
         "48935.06104",
         "0.0",
         "41291.128",
         "0.0",
         "2951.4257",
         "0.0",
         "18285.83",
         "1774.52",
         "0.0",
         "29476.76",
         "93177.61474",
         "49537.11",
         "43640.50474"
        ],
        [
         "26",
         "2019",
         "1",
         "84320",
         "CAPITANIA DOS PORTOS DO MARANHÃO",
         "35314.79466",
         "0.0",
         "0.0",
         "11262.622",
         "1265.6188",
         "0.0",
         "0.0",
         "1334.03",
         "0.0",
         "22611.47",
         "47843.03546",
         "23945.5",
         "23897.53546"
        ],
        [
         "27",
         "2019",
         "1",
         "89330",
         "CAPITANIA DOS PORTOS DO PARANÁ",
         "38843.98181",
         "0.0",
         "0.0",
         "15218.18",
         "3720.2922",
         "0.0",
         "0.0",
         "3607.38",
         "0.0",
         "16511.546",
         "57782.45401",
         "20118.926",
         "37663.52801"
        ],
        [
         "28",
         "2019",
         "1",
         "84330",
         "CAPITANIA DOS PORTOS DO PIAUI",
         "9253.968765",
         "0.0",
         "0.0",
         "2058.98",
         "10088.6846",
         "0.0",
         "0.0",
         "911.66",
         "0.0",
         "10525.73",
         "21401.633365",
         "11437.39",
         "9964.243365"
        ],
        [
         "29",
         "2019",
         "1",
         "83350",
         "CAPITANIA DOS PORTOS DO RIO GRANDE DO NORTE",
         "14194.2021",
         "8814.57",
         "6094.05698",
         "0.0",
         "795.9695",
         "0.0",
         "0.0",
         "1380.82",
         "0.0",
         "17547.08",
         "29898.79858",
         "18927.9",
         "10970.89858"
        ],
        [
         "30",
         "2019",
         "1",
         "85350",
         "CAPITANIA FLUVIAL DE PORTO ALEGRE",
         "34324.66249",
         "2638.56",
         "0.0",
         "11647.61",
         "12586.3167",
         "0.0",
         "0.0",
         "2158.16",
         "0.0",
         "25390.40741",
         "61197.14919",
         "27548.56741",
         "33648.58178"
        ],
        [
         "31",
         "2019",
         "1",
         "87310",
         "CAPITANIA FLUVIAL DO ARAGUAIA-TOCANTINS",
         "21022.715",
         "0.0",
         "0.0",
         "7283.32",
         "7252.8734",
         "0.0",
         "0.0",
         "6489.79",
         "0.0",
         "13106.9",
         "35558.9084",
         "19596.69",
         "15962.2184"
        ],
        [
         "32",
         "2019",
         "1",
         "89300",
         "CAPITANIA FLUVIAL DO RIO PARANÁ",
         "9461.94042",
         "0.0",
         "0.0",
         "7007.40254",
         "25536.3544",
         "0.0",
         "0.0",
         "5785.25",
         "0.0",
         "23789.91",
         "42005.69736",
         "29575.16",
         "12430.53736"
        ],
        [
         "33",
         "2019",
         "1",
         "67200",
         "CASA DO MARINHEIRO",
         "33123.185",
         "15659.96",
         "15163.062",
         "12687.1166",
         "248.5578",
         "0.0",
         "0.0",
         "6476.47",
         "0.0",
         "37195.349792",
         "76881.8814",
         "43671.819792",
         "33210.061608"
        ],
        [
         "34",
         "2019",
         "1",
         "91901",
         "CENTRO DE ADESTRAMENTO ALMIRANTE MARQUES DE LEÃO",
         "61999.5053278",
         "15765.96",
         "15839.772",
         "0.0",
         "5974.412",
         "0.0",
         "0.0",
         "0.0",
         "0.0",
         "41533.07725",
         "99579.6493278",
         "41533.07725",
         "58046.5720778"
        ],
        [
         "35",
         "2019",
         "1",
         "33100",
         "CENTRO DE AVALIAÇÃO DA ILHA DA MARAMBAIA",
         "177161.5054876",
         "28172.21",
         "8073.468",
         "10770.084",
         "39539.234",
         "0.0",
         "0.0",
         "55691.31",
         "0.0",
         "41274.5474599",
         "263716.5014876",
         "96965.8574599",
         "166750.6440277"
        ],
        [
         "36",
         "2019",
         "1",
         "32400",
         "CENTRO DE EDUCAÇÃO FÍSICA ALMIRANTE ADALBERTO NUNES",
         "75202.843389",
         "40060.55",
         "33579.73995",
         "32348.0724",
         "1785.3501",
         "0.0",
         "0.0",
         "64305.28",
         "0.0",
         "57614.4858",
         "182976.555839",
         "121919.7658",
         "61056.790039"
        ],
        [
         "37",
         "2019",
         "1",
         "62600",
         "CENTRO DE INSTRUÇÃO ALMIRANTE ALEXANDRINO",
         "502512.88",
         "475646.71",
         "512111.66",
         "1015.89",
         "2312.8441",
         "0.0",
         "0.0",
         "19924.74",
         "0.0",
         "989309.17542",
         "1493599.9841",
         "1009233.91542",
         "484366.06868"
        ],
        [
         "38",
         "2019",
         "1",
         "84900",
         "CENTRO DE INSTRUÇÃO ALMIRANTE BRAZ DE AGUIAR",
         "82855.25851",
         "8648.72",
         "140484.7455",
         "0.0",
         "3827.0801",
         "0.0",
         "0.0",
         "8362.68",
         "0.0",
         "154010.82",
         "235815.80411",
         "162373.5",
         "73442.30411"
        ],
        [
         "39",
         "2019",
         "1",
         "52100",
         "CENTRO DE INSTRUÇÃO ALMIRANTE GRACA ARANHA",
         "164270.5884",
         "83180.13",
         "45255.948",
         "132952.9095",
         "0.0",
         "0.0",
         "0.0",
         "43988.72",
         "0.0",
         "251970.78045",
         "425659.5759",
         "295959.50045",
         "129700.07545"
        ],
        [
         "40",
         "2019",
         "1",
         "32200",
         "CENTRO DE INSTRUÇÃO ALMIRANTE MILCIADES PORTELA ALVES",
         "123151.8237",
         "29084.01",
         "21800.57",
         "17747.02",
         "0.0",
         "0.0",
         "0.0",
         "7215.86",
         "0.0",
         "51832.6352",
         "191783.4237",
         "59048.4952",
         "132734.9285"
        ],
        [
         "41",
         "2019",
         "1",
         "32100",
         "CENTRO DE INSTRUÇÃO ALMIRANTE SYLVIO DE CAMARGO",
         "207079.667",
         "32985.01",
         "71783.46",
         "65152.79",
         "275.0422",
         "0.0",
         "0.0",
         "4490.16",
         "0.0",
         "166184.054",
         "377275.9692",
         "170674.214",
         "206601.7552"
        ],
        [
         "42",
         "2019",
         "1",
         "62200",
         "CENTRO DE INSTRUÇÃO ALMIRANTE WANDENKOLK",
         "150709.1351",
         "63830.21",
         "51305.964",
         "91940.9408",
         "0.0",
         "0.0",
         "0.0",
         "17001.79",
         "0.0",
         "172426.944",
         "357786.2499",
         "189428.734",
         "168357.5159"
        ],
        [
         "43",
         "2019",
         "1",
         "87900",
         "CENTRO DE INSTRUÇÃO E ADESTRAMENTO DE BRASILIA ALTE DOMINGOS DE MATTOS CORTEZ",
         "152519.8329",
         "0.0",
         "3840.48",
         "58265.29",
         "33774.0576",
         "0.0",
         "0.0",
         "0.0",
         "0.0",
         "101119.9554",
         "248399.6605",
         "101119.9554",
         "147279.7051"
        ],
        [
         "44",
         "2019",
         "1",
         "14001",
         "CENTRO DE INTELIGÊNCIA DA MARINHA - RIO",
         "11168.8593",
         "5815.19",
         "6264.582",
         "0.0",
         "1289.9174",
         "0.0",
         "0.0",
         "0.0",
         "0.0",
         "16025.35",
         "24538.5487",
         "16025.35",
         "8513.1987"
        ],
        [
         "45",
         "2019",
         "1",
         "44021",
         "CENTRO DE MANUTENÇÃO DE SISTEMAS DA MARINHA",
         "123671.93125",
         "70418.22",
         "63071.833",
         "117499.9025",
         "2263.297",
         "0.0",
         "0.0",
         "31857.39",
         "0.0",
         "211844.18205",
         "376925.18375",
         "243701.57205",
         "133223.6117"
        ],
        [
         "46",
         "2019",
         "1",
         "71280",
         "CENTRO DE MUNIÇÃO DA MARINHA",
         "108752.14717",
         "33346.37",
         "3141.35",
         "30645.511",
         "5682.2825",
         "0.0",
         "0.0",
         "8928.51",
         "0.0",
         "75371.9",
         "181567.66067",
         "84300.41",
         "97267.25067"
        ],
        [
         "47",
         "2019",
         "1",
         "44030",
         "CENTRO DE MÍSSEIS E ARMAS SUBMARINAS DA MARINHA",
         "66414.769",
         "33393.69",
         "20450.66",
         "0.0",
         "1428.6478",
         "0.0",
         "0.0",
         "2722.28",
         "0.0",
         "57764.1475",
         "121687.7668",
         "60486.4275",
         "61201.3393"
        ],
        [
         "48",
         "2019",
         "1",
         "42000",
         "CENTRO TECNOLÓGICO DA MARINHA EM SÃO PAULO \"SEDE\"",
         "6632.13",
         "0.0",
         "0.0",
         "366850.03",
         "3586.802",
         "0.0",
         "340.68",
         "11178.75",
         "0.0",
         "356615.95",
         "377068.962",
         "368135.38",
         "8933.582"
        ],
        [
         "49",
         "2019",
         "1",
         "31040",
         "CENTRO TECNOLÓGICO DO CFN",
         "84184.52044",
         "46615.72",
         "26741.094",
         "1608.36",
         "10979.4044",
         "0.0",
         "0.0",
         "21221.48",
         "0.0",
         "73360.64",
         "170129.09884",
         "94582.12",
         "75546.97884"
        ]
       ],
       "shape": {
        "columns": 17,
        "rows": 12558
       }
      },
      "text/html": [
       "<div>\n",
       "<style scoped>\n",
       "    .dataframe tbody tr th:only-of-type {\n",
       "        vertical-align: middle;\n",
       "    }\n",
       "\n",
       "    .dataframe tbody tr th {\n",
       "        vertical-align: top;\n",
       "    }\n",
       "\n",
       "    .dataframe thead th {\n",
       "        text-align: right;\n",
       "    }\n",
       "</style>\n",
       "<table border=\"1\" class=\"dataframe\">\n",
       "  <thead>\n",
       "    <tr style=\"text-align: right;\">\n",
       "      <th></th>\n",
       "      <th>ano</th>\n",
       "      <th>mes</th>\n",
       "      <th>codigo</th>\n",
       "      <th>nome</th>\n",
       "      <th>balanco_paiol_mes_anterior</th>\n",
       "      <th>gen_depsubmrj_depnav_reg</th>\n",
       "      <th>gen_adq_form_extra_mb_licit1</th>\n",
       "      <th>gen_adq_form_extra_mb_licit2</th>\n",
       "      <th>gen_adq_form_extra_mb_slicit</th>\n",
       "      <th>remessa_recebida</th>\n",
       "      <th>remessa_expedida</th>\n",
       "      <th>vale_extra</th>\n",
       "      <th>termo_de_despesa</th>\n",
       "      <th>generos_consumidos</th>\n",
       "      <th>totais_balanco_paiol_receita</th>\n",
       "      <th>totais_balanco_paiol_despesa</th>\n",
       "      <th>saldo</th>\n",
       "    </tr>\n",
       "  </thead>\n",
       "  <tbody>\n",
       "    <tr>\n",
       "      <th>0</th>\n",
       "      <td>2019</td>\n",
       "      <td>1</td>\n",
       "      <td>81200</td>\n",
       "      <td>1° BATALHAO DE OPERAÇOES LITORANEAS DE FUZILEI...</td>\n",
       "      <td>98180.15720</td>\n",
       "      <td>73516.14</td>\n",
       "      <td>42111.800</td>\n",
       "      <td>43376.544</td>\n",
       "      <td>1174.4000</td>\n",
       "      <td>0.0</td>\n",
       "      <td>0.0</td>\n",
       "      <td>2871.75</td>\n",
       "      <td>0.0</td>\n",
       "      <td>162351.16000</td>\n",
       "      <td>258359.04120</td>\n",
       "      <td>165222.91000</td>\n",
       "      <td>93136.13120</td>\n",
       "    </tr>\n",
       "    <tr>\n",
       "      <th>1</th>\n",
       "      <td>2019</td>\n",
       "      <td>1</td>\n",
       "      <td>88200</td>\n",
       "      <td>1º Batalhão de Operações Ribeirinhas</td>\n",
       "      <td>698734.61658</td>\n",
       "      <td>0.00</td>\n",
       "      <td>0.000</td>\n",
       "      <td>0.000</td>\n",
       "      <td>158691.8100</td>\n",
       "      <td>0.0</td>\n",
       "      <td>0.0</td>\n",
       "      <td>19335.01</td>\n",
       "      <td>0.0</td>\n",
       "      <td>168038.20800</td>\n",
       "      <td>857426.42658</td>\n",
       "      <td>187373.21800</td>\n",
       "      <td>670053.20858</td>\n",
       "    </tr>\n",
       "    <tr>\n",
       "      <th>2</th>\n",
       "      <td>2019</td>\n",
       "      <td>1</td>\n",
       "      <td>82200</td>\n",
       "      <td>2° BATALHÃO DE OPERAÇÕES LITORÂNEAS DE FUZILEI...</td>\n",
       "      <td>63728.75860</td>\n",
       "      <td>31178.35</td>\n",
       "      <td>54681.395</td>\n",
       "      <td>0.000</td>\n",
       "      <td>0.0000</td>\n",
       "      <td>0.0</td>\n",
       "      <td>0.0</td>\n",
       "      <td>5469.15</td>\n",
       "      <td>0.0</td>\n",
       "      <td>65744.78000</td>\n",
       "      <td>149588.50360</td>\n",
       "      <td>71213.93000</td>\n",
       "      <td>78374.57360</td>\n",
       "    </tr>\n",
       "    <tr>\n",
       "      <th>3</th>\n",
       "      <td>2019</td>\n",
       "      <td>1</td>\n",
       "      <td>84200</td>\n",
       "      <td>2º BATALHÃO DE OPERAÇÕES RIBEIRINHAS</td>\n",
       "      <td>171638.53500</td>\n",
       "      <td>54408.70</td>\n",
       "      <td>117189.000</td>\n",
       "      <td>0.000</td>\n",
       "      <td>6110.1599</td>\n",
       "      <td>0.0</td>\n",
       "      <td>0.0</td>\n",
       "      <td>4399.40</td>\n",
       "      <td>0.0</td>\n",
       "      <td>113672.31750</td>\n",
       "      <td>349346.39490</td>\n",
       "      <td>118071.71750</td>\n",
       "      <td>231274.67740</td>\n",
       "    </tr>\n",
       "    <tr>\n",
       "      <th>4</th>\n",
       "      <td>2019</td>\n",
       "      <td>1</td>\n",
       "      <td>83200</td>\n",
       "      <td>3° BATALHÃO DE OPERAÇÕES LITORÂNEAS DE FUZILEI...</td>\n",
       "      <td>94752.65847</td>\n",
       "      <td>9647.28</td>\n",
       "      <td>3400.210</td>\n",
       "      <td>0.000</td>\n",
       "      <td>505.5600</td>\n",
       "      <td>0.0</td>\n",
       "      <td>0.0</td>\n",
       "      <td>6570.20</td>\n",
       "      <td>0.0</td>\n",
       "      <td>12721.57279</td>\n",
       "      <td>108305.70847</td>\n",
       "      <td>19291.77279</td>\n",
       "      <td>89013.93568</td>\n",
       "    </tr>\n",
       "    <tr>\n",
       "      <th>...</th>\n",
       "      <td>...</td>\n",
       "      <td>...</td>\n",
       "      <td>...</td>\n",
       "      <td>...</td>\n",
       "      <td>...</td>\n",
       "      <td>...</td>\n",
       "      <td>...</td>\n",
       "      <td>...</td>\n",
       "      <td>...</td>\n",
       "      <td>...</td>\n",
       "      <td>...</td>\n",
       "      <td>...</td>\n",
       "      <td>...</td>\n",
       "      <td>...</td>\n",
       "      <td>...</td>\n",
       "      <td>...</td>\n",
       "      <td>...</td>\n",
       "    </tr>\n",
       "    <tr>\n",
       "      <th>12553</th>\n",
       "      <td>2025</td>\n",
       "      <td>8</td>\n",
       "      <td>91536</td>\n",
       "      <td>Submarino Humaitá</td>\n",
       "      <td>877.08020</td>\n",
       "      <td>0.00</td>\n",
       "      <td>0.000</td>\n",
       "      <td>0.000</td>\n",
       "      <td>0.0000</td>\n",
       "      <td>0.0</td>\n",
       "      <td>0.0</td>\n",
       "      <td>0.00</td>\n",
       "      <td>0.0</td>\n",
       "      <td>0.00000</td>\n",
       "      <td>877.08020</td>\n",
       "      <td>0.00000</td>\n",
       "      <td>877.08020</td>\n",
       "    </tr>\n",
       "    <tr>\n",
       "      <th>12554</th>\n",
       "      <td>2025</td>\n",
       "      <td>8</td>\n",
       "      <td>91535</td>\n",
       "      <td>Submarino Riachuelo</td>\n",
       "      <td>7648.43200</td>\n",
       "      <td>0.00</td>\n",
       "      <td>0.000</td>\n",
       "      <td>0.000</td>\n",
       "      <td>0.0000</td>\n",
       "      <td>0.0</td>\n",
       "      <td>0.0</td>\n",
       "      <td>0.00</td>\n",
       "      <td>0.0</td>\n",
       "      <td>0.00000</td>\n",
       "      <td>7648.43200</td>\n",
       "      <td>0.00000</td>\n",
       "      <td>7648.43200</td>\n",
       "    </tr>\n",
       "    <tr>\n",
       "      <th>12555</th>\n",
       "      <td>2025</td>\n",
       "      <td>8</td>\n",
       "      <td>10100</td>\n",
       "      <td>TRIBUNAL MARÍTIMO</td>\n",
       "      <td>4763.40000</td>\n",
       "      <td>284.70</td>\n",
       "      <td>4313.600</td>\n",
       "      <td>4315.400</td>\n",
       "      <td>0.0000</td>\n",
       "      <td>0.0</td>\n",
       "      <td>0.0</td>\n",
       "      <td>0.00</td>\n",
       "      <td>0.0</td>\n",
       "      <td>0.00000</td>\n",
       "      <td>13677.10000</td>\n",
       "      <td>0.00000</td>\n",
       "      <td>13677.10000</td>\n",
       "    </tr>\n",
       "    <tr>\n",
       "      <th>12556</th>\n",
       "      <td>2025</td>\n",
       "      <td>9</td>\n",
       "      <td>88131</td>\n",
       "      <td>NAVIO PATRULHA FLUVIAL \"RONDÔNIA\"</td>\n",
       "      <td>0.00000</td>\n",
       "      <td>0.00</td>\n",
       "      <td>0.000</td>\n",
       "      <td>0.000</td>\n",
       "      <td>0.0000</td>\n",
       "      <td>0.0</td>\n",
       "      <td>0.0</td>\n",
       "      <td>0.00</td>\n",
       "      <td>0.0</td>\n",
       "      <td>0.00000</td>\n",
       "      <td>0.00000</td>\n",
       "      <td>0.00000</td>\n",
       "      <td>0.00000</td>\n",
       "    </tr>\n",
       "    <tr>\n",
       "      <th>12557</th>\n",
       "      <td>2025</td>\n",
       "      <td>9</td>\n",
       "      <td>88132</td>\n",
       "      <td>NAVIO-PATRULHA FLUVIAL AMAPÁ</td>\n",
       "      <td>28188.49740</td>\n",
       "      <td>0.00</td>\n",
       "      <td>0.000</td>\n",
       "      <td>0.000</td>\n",
       "      <td>0.0000</td>\n",
       "      <td>0.0</td>\n",
       "      <td>0.0</td>\n",
       "      <td>0.00</td>\n",
       "      <td>0.0</td>\n",
       "      <td>0.00000</td>\n",
       "      <td>28188.49740</td>\n",
       "      <td>0.00000</td>\n",
       "      <td>28188.49740</td>\n",
       "    </tr>\n",
       "  </tbody>\n",
       "</table>\n",
       "<p>12558 rows × 17 columns</p>\n",
       "</div>"
      ],
      "text/plain": [
       "        ano  mes  codigo                                               nome  \\\n",
       "0      2019    1   81200  1° BATALHAO DE OPERAÇOES LITORANEAS DE FUZILEI...   \n",
       "1      2019    1   88200               1º Batalhão de Operações Ribeirinhas   \n",
       "2      2019    1   82200  2° BATALHÃO DE OPERAÇÕES LITORÂNEAS DE FUZILEI...   \n",
       "3      2019    1   84200               2º BATALHÃO DE OPERAÇÕES RIBEIRINHAS   \n",
       "4      2019    1   83200  3° BATALHÃO DE OPERAÇÕES LITORÂNEAS DE FUZILEI...   \n",
       "...     ...  ...     ...                                                ...   \n",
       "12553  2025    8   91536                                  Submarino Humaitá   \n",
       "12554  2025    8   91535                                Submarino Riachuelo   \n",
       "12555  2025    8   10100                                  TRIBUNAL MARÍTIMO   \n",
       "12556  2025    9   88131                  NAVIO PATRULHA FLUVIAL \"RONDÔNIA\"   \n",
       "12557  2025    9   88132                       NAVIO-PATRULHA FLUVIAL AMAPÁ   \n",
       "\n",
       "       balanco_paiol_mes_anterior  gen_depsubmrj_depnav_reg  \\\n",
       "0                     98180.15720                  73516.14   \n",
       "1                    698734.61658                      0.00   \n",
       "2                     63728.75860                  31178.35   \n",
       "3                    171638.53500                  54408.70   \n",
       "4                     94752.65847                   9647.28   \n",
       "...                           ...                       ...   \n",
       "12553                   877.08020                      0.00   \n",
       "12554                  7648.43200                      0.00   \n",
       "12555                  4763.40000                    284.70   \n",
       "12556                     0.00000                      0.00   \n",
       "12557                 28188.49740                      0.00   \n",
       "\n",
       "       gen_adq_form_extra_mb_licit1  gen_adq_form_extra_mb_licit2  \\\n",
       "0                         42111.800                     43376.544   \n",
       "1                             0.000                         0.000   \n",
       "2                         54681.395                         0.000   \n",
       "3                        117189.000                         0.000   \n",
       "4                          3400.210                         0.000   \n",
       "...                             ...                           ...   \n",
       "12553                         0.000                         0.000   \n",
       "12554                         0.000                         0.000   \n",
       "12555                      4313.600                      4315.400   \n",
       "12556                         0.000                         0.000   \n",
       "12557                         0.000                         0.000   \n",
       "\n",
       "       gen_adq_form_extra_mb_slicit  remessa_recebida  remessa_expedida  \\\n",
       "0                         1174.4000               0.0               0.0   \n",
       "1                       158691.8100               0.0               0.0   \n",
       "2                            0.0000               0.0               0.0   \n",
       "3                         6110.1599               0.0               0.0   \n",
       "4                          505.5600               0.0               0.0   \n",
       "...                             ...               ...               ...   \n",
       "12553                        0.0000               0.0               0.0   \n",
       "12554                        0.0000               0.0               0.0   \n",
       "12555                        0.0000               0.0               0.0   \n",
       "12556                        0.0000               0.0               0.0   \n",
       "12557                        0.0000               0.0               0.0   \n",
       "\n",
       "       vale_extra  termo_de_despesa  generos_consumidos  \\\n",
       "0         2871.75               0.0        162351.16000   \n",
       "1        19335.01               0.0        168038.20800   \n",
       "2         5469.15               0.0         65744.78000   \n",
       "3         4399.40               0.0        113672.31750   \n",
       "4         6570.20               0.0         12721.57279   \n",
       "...           ...               ...                 ...   \n",
       "12553        0.00               0.0             0.00000   \n",
       "12554        0.00               0.0             0.00000   \n",
       "12555        0.00               0.0             0.00000   \n",
       "12556        0.00               0.0             0.00000   \n",
       "12557        0.00               0.0             0.00000   \n",
       "\n",
       "       totais_balanco_paiol_receita  totais_balanco_paiol_despesa  \\\n",
       "0                      258359.04120                  165222.91000   \n",
       "1                      857426.42658                  187373.21800   \n",
       "2                      149588.50360                   71213.93000   \n",
       "3                      349346.39490                  118071.71750   \n",
       "4                      108305.70847                   19291.77279   \n",
       "...                             ...                           ...   \n",
       "12553                     877.08020                       0.00000   \n",
       "12554                    7648.43200                       0.00000   \n",
       "12555                   13677.10000                       0.00000   \n",
       "12556                       0.00000                       0.00000   \n",
       "12557                   28188.49740                       0.00000   \n",
       "\n",
       "              saldo  \n",
       "0       93136.13120  \n",
       "1      670053.20858  \n",
       "2       78374.57360  \n",
       "3      231274.67740  \n",
       "4       89013.93568  \n",
       "...             ...  \n",
       "12553     877.08020  \n",
       "12554    7648.43200  \n",
       "12555   13677.10000  \n",
       "12556       0.00000  \n",
       "12557   28188.49740  \n",
       "\n",
       "[12558 rows x 17 columns]"
      ]
     },
     "execution_count": 156,
     "metadata": {},
     "output_type": "execute_result"
    }
   ],
   "source": [
    "mmm"
   ]
  },
  {
   "cell_type": "code",
   "execution_count": 157,
   "id": "fb491ec1",
   "metadata": {},
   "outputs": [],
   "source": [
    "mmm_receita_despesa = pd.merge(mmm, da, how='inner', on=['mes', 'ano', 'codigo'])"
   ]
  },
  {
   "cell_type": "code",
   "execution_count": 164,
   "id": "fb070438",
   "metadata": {},
   "outputs": [
    {
     "data": {
      "application/vnd.microsoft.datawrangler.viewer.v0+json": {
       "columns": [
        {
         "name": "index",
         "rawType": "int64",
         "type": "integer"
        },
        {
         "name": "ano",
         "rawType": "int64",
         "type": "integer"
        },
        {
         "name": "mes",
         "rawType": "int64",
         "type": "integer"
        },
        {
         "name": "codigo",
         "rawType": "int64",
         "type": "integer"
        },
        {
         "name": "nome",
         "rawType": "object",
         "type": "string"
        },
        {
         "name": "balanco_paiol_mes_anterior",
         "rawType": "float64",
         "type": "float"
        },
        {
         "name": "gen_depsubmrj_depnav_reg",
         "rawType": "float64",
         "type": "float"
        },
        {
         "name": "gen_adq_form_extra_mb_licit1",
         "rawType": "float64",
         "type": "float"
        },
        {
         "name": "gen_adq_form_extra_mb_licit2",
         "rawType": "float64",
         "type": "float"
        },
        {
         "name": "gen_adq_form_extra_mb_slicit",
         "rawType": "float64",
         "type": "float"
        },
        {
         "name": "remessa_recebida",
         "rawType": "float64",
         "type": "float"
        },
        {
         "name": "remessa_expedida",
         "rawType": "float64",
         "type": "float"
        },
        {
         "name": "vale_extra",
         "rawType": "float64",
         "type": "float"
        },
        {
         "name": "termo_de_despesa",
         "rawType": "float64",
         "type": "float"
        },
        {
         "name": "generos_consumidos",
         "rawType": "float64",
         "type": "float"
        },
        {
         "name": "totais_balanco_paiol_receita",
         "rawType": "float64",
         "type": "float"
        },
        {
         "name": "totais_balanco_paiol_despesa",
         "rawType": "float64",
         "type": "float"
        },
        {
         "name": "saldo",
         "rawType": "float64",
         "type": "float"
        },
        {
         "name": "sigla",
         "rawType": "object",
         "type": "string"
        },
        {
         "name": "om_id",
         "rawType": "int64",
         "type": "integer"
        },
        {
         "name": "despesa_autorizada_global",
         "rawType": "float64",
         "type": "float"
        },
        {
         "name": "sobra_licita",
         "rawType": "float64",
         "type": "float"
        },
        {
         "name": "sobra_licita_ajustada",
         "rawType": "float64",
         "type": "float"
        }
       ],
       "ref": "48719332-10d9-46e6-b47e-7093c3baf54a",
       "rows": [
        [
         "0",
         "2019",
         "1",
         "81200",
         "1° BATALHAO DE OPERAÇOES LITORANEAS DE FUZILEIROS NAVAIS",
         "98180.1572",
         "73516.14",
         "42111.8",
         "43376.544",
         "1174.4",
         "0.0",
         "0.0",
         "2871.75",
         "0.0",
         "162351.16",
         "258359.0412",
         "165222.91",
         "93136.1312",
         "GptFNRJ",
         "10220",
         "189626.0",
         "24403.07",
         "0.0"
        ],
        [
         "1",
         "2019",
         "1",
         "88200",
         "1º Batalhão de Operações Ribeirinhas",
         "698734.61658",
         "0.0",
         "0.0",
         "0.0",
         "158691.81",
         "0.0",
         "0.0",
         "19335.01",
         "0.0",
         "168038.208",
         "857426.42658",
         "187373.218",
         "670053.20858",
         "1º BtlOpRib",
         "10251",
         "192259.9",
         "4886.67",
         "0.0"
        ],
        [
         "2",
         "2019",
         "1",
         "82200",
         "2° BATALHÃO DE OPERAÇÕES LITORÂNEAS DE FUZILEIROS NAVAIS",
         "63728.7586",
         "31178.35",
         "54681.395",
         "0.0",
         "0.0",
         "0.0",
         "0.0",
         "5469.15",
         "0.0",
         "65744.78",
         "149588.5036",
         "71213.93",
         "78374.5736",
         "2°BtlOpLitFN",
         "10112",
         "75417.0",
         "4203.05",
         "0.0"
        ],
        [
         "4",
         "2019",
         "1",
         "84200",
         "2º BATALHÃO DE OPERAÇÕES RIBEIRINHAS",
         "171638.535",
         "54408.7",
         "117189.0",
         "0.0",
         "6110.1599",
         "0.0",
         "0.0",
         "4399.4",
         "0.0",
         "113672.3175",
         "349346.3949",
         "118071.7175",
         "231274.6774",
         "2º BtlOpRib",
         "10302",
         "120572.4",
         "2500.68",
         "0.0"
        ],
        [
         "5",
         "2019",
         "1",
         "83200",
         "3° BATALHÃO DE OPERAÇÕES LITORÂNEAS DE FUZILEIROS NAVAIS",
         "94752.65847",
         "9647.28",
         "3400.21",
         "0.0",
         "505.56",
         "0.0",
         "0.0",
         "6570.2",
         "0.0",
         "12721.57279",
         "108305.70847",
         "19291.77279",
         "89013.93568",
         "3°BtlOpLitFN",
         "10395",
         "33859.5",
         "14567.74",
         "0.0"
        ],
        [
         "6",
         "2019",
         "1",
         "87200",
         "3º BATALHÃO DE PROTEÇÃO E DEFESA NBQR",
         "266669.84266",
         "29684.62",
         "66213.2423",
         "43176.32",
         "2203.7274",
         "0.0",
         "0.0",
         "13786.89",
         "0.0",
         "103662.0045",
         "407947.75236",
         "117448.8945",
         "290498.85786",
         "GptFNB",
         "10261",
         "131333.7",
         "13884.74",
         "0.0"
        ],
        [
         "20",
         "2019",
         "1",
         "95400",
         "BATALHÃO DE OPERAÇÕES ESPECIAIS DE FUZILEIROS NAVAIS",
         "106077.53505",
         "41686.03",
         "71892.96",
         "15827.0",
         "0.0",
         "0.0",
         "0.0",
         "8094.85",
         "0.0",
         "107190.1923",
         "235483.52505",
         "115285.0423",
         "120198.48275",
         "BtlOpEspFuzNav",
         "10354",
         "138065.5",
         "22780.45",
         "0.0"
        ],
        [
         "23",
         "2019",
         "1",
         "84310",
         "CAPITANIA DOS PORTOS DA AMAZONIA ORIENTAL",
         "17092.225",
         "5561.91",
         "11079.62",
         "0.0",
         "2158.9403",
         "0.0",
         "0.0",
         "0.0",
         "0.0",
         "24699.15",
         "35892.6953",
         "24699.15",
         "11193.5453",
         "CPAOR",
         "10025",
         "33902.4",
         "9203.26",
         "0.0"
        ],
        [
         "24",
         "2019",
         "1",
         "83340",
         "CAPITANIA DOS PORTOS DE PERNAMBUCO",
         "18383.9929",
         "920.0",
         "29567.58622",
         "0.0",
         "753.68",
         "0.0",
         "0.0",
         "1612.03",
         "0.0",
         "28089.27828",
         "49625.25912",
         "29701.30828",
         "19923.95084",
         "CPPE",
         "10380",
         "39472.2",
         "9770.9",
         "0.0"
        ],
        [
         "25",
         "2019",
         "1",
         "85340",
         "CAPITANIA DOS PORTOS DE SANTA CATARINA",
         "17211.3896",
         "0.0",
         "0.0",
         "27934.1433",
         "237.2106",
         "0.0",
         "0.0",
         "459.08",
         "0.0",
         "25396.735",
         "45382.7435",
         "25855.815",
         "19526.9285",
         "CPSC",
         "10111",
         "29031.0",
         "3175.18",
         "0.0"
        ],
        [
         "26",
         "2019",
         "1",
         "83320",
         "CAPITANIA DOS PORTOS DO CEARÁ",
         "34536.42495",
         "0.0",
         "4840.74",
         "0.0",
         "7003.1904",
         "0.0",
         "0.0",
         "1787.25",
         "0.0",
         "20159.56015",
         "46380.35535",
         "21946.81015",
         "24433.5452",
         "CPCE",
         "10276",
         "28496.5",
         "6549.68",
         "0.0"
        ],
        [
         "27",
         "2019",
         "1",
         "81310",
         "CAPITANIA DOS PORTOS DO ESPÍRITO SANTO",
         "48935.06104",
         "0.0",
         "41291.128",
         "0.0",
         "2951.4257",
         "0.0",
         "18285.83",
         "1774.52",
         "0.0",
         "29476.76",
         "93177.61474",
         "49537.11",
         "43640.50474",
         "CPES",
         "10344",
         "42390.0",
         "11138.7",
         "0.0"
        ],
        [
         "28",
         "2019",
         "1",
         "84320",
         "CAPITANIA DOS PORTOS DO MARANHÃO",
         "35314.79466",
         "0.0",
         "0.0",
         "11262.622",
         "1265.6188",
         "0.0",
         "0.0",
         "1334.03",
         "0.0",
         "22611.47",
         "47843.03546",
         "23945.5",
         "23897.53546",
         "CPMA",
         "10001",
         "27866.32",
         "3920.84",
         "0.0"
        ],
        [
         "29",
         "2019",
         "1",
         "89330",
         "CAPITANIA DOS PORTOS DO PARANÁ",
         "38843.98181",
         "0.0",
         "0.0",
         "15218.18",
         "3720.2922",
         "0.0",
         "0.0",
         "3607.38",
         "0.0",
         "16511.546",
         "57782.45401",
         "20118.926",
         "37663.52801",
         "CPPR",
         "10069",
         "24861.0",
         "4742.09",
         "0.0"
        ],
        [
         "30",
         "2019",
         "1",
         "84330",
         "CAPITANIA DOS PORTOS DO PIAUI",
         "9253.968765",
         "0.0",
         "0.0",
         "2058.98",
         "10088.6846",
         "0.0",
         "0.0",
         "911.66",
         "0.0",
         "10525.73",
         "21401.633365",
         "11437.39",
         "9964.243365",
         "CPPI",
         "10037",
         "15763.2",
         "4325.8",
         "0.0"
        ],
        [
         "31",
         "2019",
         "1",
         "83350",
         "CAPITANIA DOS PORTOS DO RIO GRANDE DO NORTE",
         "14194.2021",
         "8814.57",
         "6094.05698",
         "0.0",
         "795.9695",
         "0.0",
         "0.0",
         "1380.82",
         "0.0",
         "17547.08",
         "29898.79858",
         "18927.9",
         "10970.89858",
         "CPRN",
         "10016",
         "22004.3",
         "3076.38",
         "0.0"
        ],
        [
         "32",
         "2019",
         "1",
         "85350",
         "CAPITANIA FLUVIAL DE PORTO ALEGRE",
         "34324.66249",
         "2638.56",
         "0.0",
         "11647.61",
         "12586.3167",
         "0.0",
         "0.0",
         "2158.16",
         "0.0",
         "25390.40741",
         "61197.14919",
         "27548.56741",
         "33648.58178",
         "CFPA",
         "10050",
         "27717.8",
         "169.24",
         "0.0"
        ],
        [
         "33",
         "2019",
         "1",
         "87310",
         "CAPITANIA FLUVIAL DO ARAGUAIA-TOCANTINS",
         "21022.715",
         "0.0",
         "0.0",
         "7283.32",
         "7252.8734",
         "0.0",
         "0.0",
         "6489.79",
         "0.0",
         "13106.9",
         "35558.9084",
         "19596.69",
         "15962.2184",
         "CFAT",
         "10212",
         "26030.0",
         "6433.31",
         "0.0"
        ],
        [
         "34",
         "2019",
         "1",
         "89300",
         "CAPITANIA FLUVIAL DO RIO PARANÁ",
         "9461.94042",
         "0.0",
         "0.0",
         "7007.40254",
         "25536.3544",
         "0.0",
         "0.0",
         "5785.25",
         "0.0",
         "23789.91",
         "42005.69736",
         "29575.16",
         "12430.53736",
         "CFRP",
         "10035",
         "32786.6",
         "3211.44",
         "0.0"
        ],
        [
         "35",
         "2019",
         "1",
         "67200",
         "CASA DO MARINHEIRO",
         "33123.185",
         "15659.96",
         "15163.062",
         "12687.1166",
         "248.5578",
         "0.0",
         "0.0",
         "6476.47",
         "0.0",
         "37195.349792",
         "76881.8814",
         "43671.819792",
         "33210.061608",
         "CMN",
         "10182",
         "44126.0",
         "454.18",
         "0.0"
        ],
        [
         "36",
         "2019",
         "1",
         "91901",
         "CENTRO DE ADESTRAMENTO ALMIRANTE MARQUES DE LEÃO",
         "61999.5053278",
         "15765.96",
         "15839.772",
         "0.0",
         "5974.412",
         "0.0",
         "0.0",
         "0.0",
         "0.0",
         "41533.07725",
         "99579.6493278",
         "41533.07725",
         "58046.5720778",
         "CAAML",
         "10044",
         "66984.0",
         "25450.93",
         "0.0"
        ],
        [
         "38",
         "2019",
         "1",
         "33100",
         "CENTRO DE AVALIAÇÃO DA ILHA DA MARAMBAIA",
         "177161.5054876",
         "28172.21",
         "8073.468",
         "10770.084",
         "39539.234",
         "0.0",
         "0.0",
         "55691.31",
         "0.0",
         "41274.5474599",
         "263716.5014876",
         "96965.8574599",
         "166750.6440277",
         "CADIM",
         "10070",
         "178804.18",
         "81838.24",
         "0.0"
        ],
        [
         "39",
         "2019",
         "1",
         "32400",
         "CENTRO DE EDUCAÇÃO FÍSICA ALMIRANTE ADALBERTO NUNES",
         "75202.843389",
         "40060.55",
         "33579.73995",
         "32348.0724",
         "1785.3501",
         "0.0",
         "0.0",
         "64305.28",
         "0.0",
         "57614.4858",
         "182976.555839",
         "121919.7658",
         "61056.790039",
         "CEFAN",
         "10295",
         "191786.78",
         "69867.03",
         "0.0"
        ],
        [
         "41",
         "2019",
         "1",
         "84900",
         "CENTRO DE INSTRUÇÃO ALMIRANTE BRAZ DE AGUIAR",
         "82855.25851",
         "8648.72",
         "140484.7455",
         "0.0",
         "3827.0801",
         "0.0",
         "0.0",
         "8362.68",
         "0.0",
         "154010.82",
         "235815.80411",
         "162373.5",
         "73442.30411",
         "CIABA",
         "10041",
         "228229.8",
         "65856.29",
         "0.0"
        ],
        [
         "42",
         "2019",
         "1",
         "52100",
         "CENTRO DE INSTRUÇÃO ALMIRANTE GRACA ARANHA",
         "164270.5884",
         "83180.13",
         "45255.948",
         "132952.9095",
         "0.0",
         "0.0",
         "0.0",
         "43988.72",
         "0.0",
         "251970.78045",
         "425659.5759",
         "295959.50045",
         "129700.07545",
         "CIAGA",
         "10228",
         "337055.4",
         "41095.88",
         "0.0"
        ],
        [
         "44",
         "2019",
         "1",
         "32100",
         "CENTRO DE INSTRUÇÃO ALMIRANTE SYLVIO DE CAMARGO",
         "207079.667",
         "32985.01",
         "71783.46",
         "65152.79",
         "275.0422",
         "0.0",
         "0.0",
         "4490.16",
         "0.0",
         "166184.054",
         "377275.9692",
         "170674.214",
         "206601.7552",
         "CIASC",
         "10107",
         "430432.8",
         "259758.51",
         "0.0"
        ],
        [
         "45",
         "2019",
         "1",
         "62200",
         "CENTRO DE INSTRUÇÃO ALMIRANTE WANDENKOLK",
         "150709.1351",
         "63830.21",
         "51305.964",
         "91940.9408",
         "0.0",
         "0.0",
         "0.0",
         "17001.79",
         "0.0",
         "172426.944",
         "357786.2499",
         "189428.734",
         "168357.5159",
         "CIAW",
         "10159",
         "209653.5",
         "20224.73",
         "0.0"
        ],
        [
         "46",
         "2019",
         "1",
         "87900",
         "CENTRO DE INSTRUÇÃO E ADESTRAMENTO DE BRASILIA ALTE DOMINGOS DE MATTOS CORTEZ",
         "152519.8329",
         "0.0",
         "3840.48",
         "58265.29",
         "33774.0576",
         "0.0",
         "0.0",
         "0.0",
         "0.0",
         "101119.9554",
         "248399.6605",
         "101119.9554",
         "147279.7051",
         "CIAB",
         "10399",
         "117430.0",
         "16310.0",
         "0.0"
        ],
        [
         "49",
         "2019",
         "1",
         "71280",
         "CENTRO DE MUNIÇÃO DA MARINHA",
         "108752.14717",
         "33346.37",
         "3141.35",
         "30645.511",
         "5682.2825",
         "0.0",
         "0.0",
         "8928.51",
         "0.0",
         "75371.9",
         "181567.66067",
         "84300.41",
         "97267.25067",
         "CMM",
         "10275",
         "109328.0",
         "25027.57",
         "0.0"
        ],
        [
         "50",
         "2019",
         "1",
         "44030",
         "CENTRO DE MÍSSEIS E ARMAS SUBMARINAS DA MARINHA",
         "66414.769",
         "33393.69",
         "20450.66",
         "0.0",
         "1428.6478",
         "0.0",
         "0.0",
         "2722.28",
         "0.0",
         "57764.1475",
         "121687.7668",
         "60486.4275",
         "61201.3393",
         "CMASM",
         "10085",
         "65570.0",
         "5083.56",
         "0.0"
        ],
        [
         "51",
         "2019",
         "1",
         "42000",
         "CENTRO TECNOLÓGICO DA MARINHA EM SÃO PAULO \"SEDE\"",
         "6632.13",
         "0.0",
         "0.0",
         "366850.03",
         "3586.802",
         "0.0",
         "340.68",
         "11178.75",
         "0.0",
         "356615.95",
         "377068.962",
         "368135.38",
         "8933.582",
         "CTMSP",
         "10110",
         "455883.56",
         "88088.87",
         "0.0"
        ],
        [
         "52",
         "2019",
         "1",
         "31040",
         "CENTRO TECNOLÓGICO DO CFN",
         "84184.52044",
         "46615.72",
         "26741.094",
         "1608.36",
         "10979.4044",
         "0.0",
         "0.0",
         "21221.48",
         "0.0",
         "73360.64",
         "170129.09884",
         "94582.12",
         "75546.97884",
         "CTecCFN",
         "10393",
         "108063.0",
         "13480.86",
         "0.0"
        ],
        [
         "54",
         "2019",
         "1",
         "80000",
         "COMANDO DE OPERAÇÕES NAVAIS",
         "17232.724",
         "4407.42",
         "8350.328",
         "0.0",
         "5923.1544",
         "0.0",
         "0.0",
         "1274.71",
         "0.0",
         "19196.77412",
         "35913.6264",
         "20471.48412",
         "15442.14228",
         "ComOpNav",
         "10137",
         "43372.0",
         "22900.55",
         "0.0"
        ],
        [
         "58",
         "2019",
         "1",
         "83000",
         "COMANDO DO 3º DISTRITO NAVAL",
         "38241.9842",
         "20099.1",
         "44447.13532",
         "6729.15",
         "4094.4964",
         "0.0",
         "0.0",
         "15150.66",
         "0.0",
         "56520.1505",
         "113611.86592",
         "71670.8105",
         "41941.05542",
         "Com3ºDN",
         "10147",
         "72242.0",
         "571.14",
         "0.0"
        ],
        [
         "60",
         "2019",
         "1",
         "84000",
         "COMANDO DO 4º DISTRITO NAVAL",
         "91906.3077",
         "19704.48",
         "37634.45",
         "0.0",
         "10554.5715",
         "0.0",
         "0.0",
         "14016.44",
         "0.0",
         "54244.07",
         "159799.8092",
         "68260.51",
         "91539.2992",
         "Com4ºDN",
         "10167",
         "81650.0",
         "13389.49",
         "0.0"
        ],
        [
         "63",
         "2019",
         "1",
         "89000",
         "COMANDO DO 8º DISTRITO NAVAL",
         "48213.29134",
         "35770.4",
         "0.0",
         "24349.11084",
         "5822.2528",
         "0.0",
         "0.0",
         "4513.56",
         "0.0",
         "56848.048",
         "114155.05498",
         "61361.608",
         "52793.44698",
         "Com8ºDN",
         "10257",
         "66140.0",
         "4778.42",
         "0.0"
        ],
        [
         "66",
         "2019",
         "1",
         "82019",
         "CORVETA CABOCLO",
         "38560.16445",
         "8324.73",
         "6806.2711",
         "0.0",
         "5231.4902",
         "0.0",
         "0.0",
         "426.99",
         "0.0",
         "21544.7668",
         "58922.65575",
         "21971.7568",
         "36950.89895",
         "CvCaboclo",
         "10119",
         "33691.85",
         "11720.11",
         "0.0"
        ],
        [
         "67",
         "2019",
         "1",
         "91618",
         "CORVETA JACEGUAI",
         "31663.80252",
         "16529.12",
         "6746.09",
         "0.0",
         "6712.7725",
         "0.0",
         "0.0",
         "7380.18",
         "0.0",
         "26140.85",
         "61651.78502",
         "33521.03",
         "28130.75502",
         "CVJACEGUAI",
         "10047",
         "50391.0",
         "16870.0",
         "0.0"
        ],
        [
         "68",
         "2019",
         "1",
         "91619",
         "CORVETA JULIO DE NORONHA",
         "25926.46426",
         "26995.92",
         "5861.26",
         "1805.1",
         "23997.0351",
         "0.0",
         "0.0",
         "2284.78",
         "0.0",
         "50805.74",
         "84585.77936",
         "53090.52",
         "31495.25936",
         "CvJNoronha",
         "10225",
         "58349.6",
         "5259.1",
         "0.0"
        ],
        [
         "70",
         "2019",
         "1",
         "85344",
         "DELEGACIA DA CAPITANIA DOS PORTOS EM ITAJAÍ",
         "7050.461",
         "0.0",
         "0.0",
         "17378.765",
         "4255.3586",
         "0.0",
         "0.0",
         "4136.05",
         "0.0",
         "17058.47",
         "28684.5846",
         "21194.52",
         "7490.0646",
         "DELITAJAI",
         "10378",
         "40821.0",
         "19626.47",
         "0.0"
        ],
        [
         "71",
         "2019",
         "1",
         "85342",
         "DELEGACIA DA CAPITANIA DOS PORTOS EM SÃO FRANCISCO DO SUL",
         "5456.04444",
         "0.0",
         "0.0",
         "0.0",
         "16936.2216",
         "0.0",
         "0.0",
         "0.0",
         "0.0",
         "12361.59",
         "22392.26604",
         "12361.59",
         "10030.67604",
         "DelSFSul",
         "10115",
         "12726.0",
         "364.45",
         "0.0"
        ],
        [
         "72",
         "2019",
         "1",
         "71210",
         "DEPÓSITO DE COMBUSTÍVEIS DA MARINHA NO RIO DE JANEIRO",
         "33207.2381252",
         "20438.8",
         "13934.168",
         "0.0",
         "1486.32",
         "0.0",
         "0.0",
         "4326.24",
         "3187.21",
         "29348.2",
         "69066.5261252",
         "36861.65",
         "32204.8761252",
         "DepCMRJ",
         "10177",
         "46239.0",
         "12564.54",
         "0.0"
        ],
        [
         "79",
         "2019",
         "1",
         "64000",
         "DIRETORIA DO PESSOAL DA MARINHA",
         "25092.07395",
         "5796.5",
         "8941.55",
         "18184.319",
         "3856.2684",
         "0.0",
         "0.0",
         "14151.36",
         "0.0",
         "24290.97",
         "61870.71135",
         "38442.33",
         "23428.38135",
         "DPM",
         "10250",
         "43586.0",
         "5143.67",
         "0.0"
        ],
        [
         "81",
         "2019",
         "1",
         "60000",
         "DIRETORIA-GERAL DO PESSOAL DA MARINHA",
         "13998.6233629",
         "6600.13",
         "4302.53",
         "21393.51457",
         "11470.8858",
         "0.0",
         "0.0",
         "1705.67",
         "0.0",
         "35085.75",
         "57765.6837329",
         "36791.42",
         "20974.2637329",
         "DGPM",
         "10304",
         "36955.0",
         "163.59",
         "0.0"
        ],
        [
         "82",
         "2019",
         "1",
         "83602",
         "ESCOLA DE APRENDIZES-MARINHEIROS DE PERNAMBUCO",
         "184861.7249",
         "0.0",
         "41819.297",
         "0.0",
         "188.0",
         "60911.23",
         "0.0",
         "1490.52",
         "0.0",
         "85544.053",
         "287780.2519",
         "87034.573",
         "200745.6789",
         "EAMPE",
         "10059",
         "129700.2",
         "42665.63",
         "0.0"
        ],
        [
         "83",
         "2019",
         "1",
         "85600",
         "ESCOLA DE APRENDIZES-MARINHEIROS DE SANTA CATARINA",
         "86843.71288",
         "0.0",
         "0.0",
         "89825.3128",
         "2155.591",
         "0.0",
         "0.0",
         "12970.36",
         "0.0",
         "87305.2268",
         "178824.61668",
         "100275.5868",
         "78549.02988",
         "EAMSC",
         "10236",
         "139125.25",
         "38849.66",
         "0.0"
        ],
        [
         "84",
         "2019",
         "1",
         "83601",
         "ESCOLA DE APRENDIZES-MARINHEIROS DO CEARÁ",
         "272639.8773",
         "0.0",
         "92700.74",
         "0.0",
         "9686.47",
         "0.0",
         "0.0",
         "3924.62",
         "0.0",
         "146129.42",
         "375027.0873",
         "150054.04",
         "224973.0473",
         "EAMCE",
         "10269",
         "156868.25",
         "6814.21",
         "0.0"
        ],
        [
         "85",
         "2019",
         "1",
         "81600",
         "ESCOLA DE APRENDIZES-MARINHEIROS DO ESPÍRITO SANTO",
         "136246.33337",
         "0.0",
         "136102.54567",
         "0.0",
         "1200.0",
         "0.0",
         "0.0",
         "9672.29",
         "695.4",
         "108776.97",
         "273548.87904",
         "119144.66",
         "154404.21904",
         "EAMES",
         "10368",
         "142638.6",
         "24189.37",
         "0.0"
        ],
        [
         "86",
         "2019",
         "1",
         "21000",
         "ESCOLA DE GUERRA NAVAL",
         "97296.5929352",
         "20960.05",
         "29696.462",
         "12597.56",
         "4507.89",
         "0.0",
         "0.0",
         "13741.24",
         "0.0",
         "60819.628116",
         "165058.5549352",
         "74560.868116",
         "90497.6868192",
         "EGN",
         "10058",
         "105672.5",
         "31111.6",
         "0.0"
        ],
        [
         "87",
         "2019",
         "1",
         "62400",
         "ESCOLA NAVAL",
         "268744.028",
         "156177.54",
         "265764.8469",
         "544814.9068",
         "9885.0657",
         "18285.84",
         "0.0",
         "144218.36",
         "0.0",
         "532049.34144",
         "1263672.2274",
         "676267.70144",
         "587404.52596",
         "EN",
         "10004",
         "928918.0",
         "252650.27",
         "0.0"
        ]
       ],
       "shape": {
        "columns": 22,
        "rows": 9006
       }
      },
      "text/html": [
       "<div>\n",
       "<style scoped>\n",
       "    .dataframe tbody tr th:only-of-type {\n",
       "        vertical-align: middle;\n",
       "    }\n",
       "\n",
       "    .dataframe tbody tr th {\n",
       "        vertical-align: top;\n",
       "    }\n",
       "\n",
       "    .dataframe thead th {\n",
       "        text-align: right;\n",
       "    }\n",
       "</style>\n",
       "<table border=\"1\" class=\"dataframe\">\n",
       "  <thead>\n",
       "    <tr style=\"text-align: right;\">\n",
       "      <th></th>\n",
       "      <th>ano</th>\n",
       "      <th>mes</th>\n",
       "      <th>codigo</th>\n",
       "      <th>nome</th>\n",
       "      <th>balanco_paiol_mes_anterior</th>\n",
       "      <th>gen_depsubmrj_depnav_reg</th>\n",
       "      <th>gen_adq_form_extra_mb_licit1</th>\n",
       "      <th>gen_adq_form_extra_mb_licit2</th>\n",
       "      <th>gen_adq_form_extra_mb_slicit</th>\n",
       "      <th>remessa_recebida</th>\n",
       "      <th>...</th>\n",
       "      <th>termo_de_despesa</th>\n",
       "      <th>generos_consumidos</th>\n",
       "      <th>totais_balanco_paiol_receita</th>\n",
       "      <th>totais_balanco_paiol_despesa</th>\n",
       "      <th>saldo</th>\n",
       "      <th>sigla</th>\n",
       "      <th>om_id</th>\n",
       "      <th>despesa_autorizada_global</th>\n",
       "      <th>sobra_licita</th>\n",
       "      <th>sobra_licita_ajustada</th>\n",
       "    </tr>\n",
       "  </thead>\n",
       "  <tbody>\n",
       "    <tr>\n",
       "      <th>0</th>\n",
       "      <td>2019</td>\n",
       "      <td>1</td>\n",
       "      <td>81200</td>\n",
       "      <td>1° BATALHAO DE OPERAÇOES LITORANEAS DE FUZILEI...</td>\n",
       "      <td>98180.15720</td>\n",
       "      <td>73516.14</td>\n",
       "      <td>42111.8000</td>\n",
       "      <td>43376.544</td>\n",
       "      <td>1174.4000</td>\n",
       "      <td>0.00</td>\n",
       "      <td>...</td>\n",
       "      <td>0.0</td>\n",
       "      <td>162351.16000</td>\n",
       "      <td>258359.04120</td>\n",
       "      <td>165222.91000</td>\n",
       "      <td>93136.13120</td>\n",
       "      <td>GptFNRJ</td>\n",
       "      <td>10220</td>\n",
       "      <td>189626.0</td>\n",
       "      <td>24403.07</td>\n",
       "      <td>0.00</td>\n",
       "    </tr>\n",
       "    <tr>\n",
       "      <th>1</th>\n",
       "      <td>2019</td>\n",
       "      <td>1</td>\n",
       "      <td>88200</td>\n",
       "      <td>1º Batalhão de Operações Ribeirinhas</td>\n",
       "      <td>698734.61658</td>\n",
       "      <td>0.00</td>\n",
       "      <td>0.0000</td>\n",
       "      <td>0.000</td>\n",
       "      <td>158691.8100</td>\n",
       "      <td>0.00</td>\n",
       "      <td>...</td>\n",
       "      <td>0.0</td>\n",
       "      <td>168038.20800</td>\n",
       "      <td>857426.42658</td>\n",
       "      <td>187373.21800</td>\n",
       "      <td>670053.20858</td>\n",
       "      <td>1º BtlOpRib</td>\n",
       "      <td>10251</td>\n",
       "      <td>192259.9</td>\n",
       "      <td>4886.67</td>\n",
       "      <td>0.00</td>\n",
       "    </tr>\n",
       "    <tr>\n",
       "      <th>2</th>\n",
       "      <td>2019</td>\n",
       "      <td>1</td>\n",
       "      <td>82200</td>\n",
       "      <td>2° BATALHÃO DE OPERAÇÕES LITORÂNEAS DE FUZILEI...</td>\n",
       "      <td>63728.75860</td>\n",
       "      <td>31178.35</td>\n",
       "      <td>54681.3950</td>\n",
       "      <td>0.000</td>\n",
       "      <td>0.0000</td>\n",
       "      <td>0.00</td>\n",
       "      <td>...</td>\n",
       "      <td>0.0</td>\n",
       "      <td>65744.78000</td>\n",
       "      <td>149588.50360</td>\n",
       "      <td>71213.93000</td>\n",
       "      <td>78374.57360</td>\n",
       "      <td>2°BtlOpLitFN</td>\n",
       "      <td>10112</td>\n",
       "      <td>75417.0</td>\n",
       "      <td>4203.05</td>\n",
       "      <td>0.00</td>\n",
       "    </tr>\n",
       "    <tr>\n",
       "      <th>4</th>\n",
       "      <td>2019</td>\n",
       "      <td>1</td>\n",
       "      <td>84200</td>\n",
       "      <td>2º BATALHÃO DE OPERAÇÕES RIBEIRINHAS</td>\n",
       "      <td>171638.53500</td>\n",
       "      <td>54408.70</td>\n",
       "      <td>117189.0000</td>\n",
       "      <td>0.000</td>\n",
       "      <td>6110.1599</td>\n",
       "      <td>0.00</td>\n",
       "      <td>...</td>\n",
       "      <td>0.0</td>\n",
       "      <td>113672.31750</td>\n",
       "      <td>349346.39490</td>\n",
       "      <td>118071.71750</td>\n",
       "      <td>231274.67740</td>\n",
       "      <td>2º BtlOpRib</td>\n",
       "      <td>10302</td>\n",
       "      <td>120572.4</td>\n",
       "      <td>2500.68</td>\n",
       "      <td>0.00</td>\n",
       "    </tr>\n",
       "    <tr>\n",
       "      <th>5</th>\n",
       "      <td>2019</td>\n",
       "      <td>1</td>\n",
       "      <td>83200</td>\n",
       "      <td>3° BATALHÃO DE OPERAÇÕES LITORÂNEAS DE FUZILEI...</td>\n",
       "      <td>94752.65847</td>\n",
       "      <td>9647.28</td>\n",
       "      <td>3400.2100</td>\n",
       "      <td>0.000</td>\n",
       "      <td>505.5600</td>\n",
       "      <td>0.00</td>\n",
       "      <td>...</td>\n",
       "      <td>0.0</td>\n",
       "      <td>12721.57279</td>\n",
       "      <td>108305.70847</td>\n",
       "      <td>19291.77279</td>\n",
       "      <td>89013.93568</td>\n",
       "      <td>3°BtlOpLitFN</td>\n",
       "      <td>10395</td>\n",
       "      <td>33859.5</td>\n",
       "      <td>14567.74</td>\n",
       "      <td>0.00</td>\n",
       "    </tr>\n",
       "    <tr>\n",
       "      <th>...</th>\n",
       "      <td>...</td>\n",
       "      <td>...</td>\n",
       "      <td>...</td>\n",
       "      <td>...</td>\n",
       "      <td>...</td>\n",
       "      <td>...</td>\n",
       "      <td>...</td>\n",
       "      <td>...</td>\n",
       "      <td>...</td>\n",
       "      <td>...</td>\n",
       "      <td>...</td>\n",
       "      <td>...</td>\n",
       "      <td>...</td>\n",
       "      <td>...</td>\n",
       "      <td>...</td>\n",
       "      <td>...</td>\n",
       "      <td>...</td>\n",
       "      <td>...</td>\n",
       "      <td>...</td>\n",
       "      <td>...</td>\n",
       "      <td>...</td>\n",
       "    </tr>\n",
       "    <tr>\n",
       "      <th>14090</th>\n",
       "      <td>2025</td>\n",
       "      <td>7</td>\n",
       "      <td>91535</td>\n",
       "      <td>Submarino Riachuelo</td>\n",
       "      <td>27408.97720</td>\n",
       "      <td>0.00</td>\n",
       "      <td>4607.1000</td>\n",
       "      <td>0.000</td>\n",
       "      <td>0.0000</td>\n",
       "      <td>0.00</td>\n",
       "      <td>...</td>\n",
       "      <td>0.0</td>\n",
       "      <td>11056.49000</td>\n",
       "      <td>32016.07720</td>\n",
       "      <td>24367.65000</td>\n",
       "      <td>7648.42720</td>\n",
       "      <td>SRiachuelo</td>\n",
       "      <td>14120</td>\n",
       "      <td>14670.0</td>\n",
       "      <td>3613.51</td>\n",
       "      <td>3613.51</td>\n",
       "    </tr>\n",
       "    <tr>\n",
       "      <th>14102</th>\n",
       "      <td>2025</td>\n",
       "      <td>8</td>\n",
       "      <td>80000</td>\n",
       "      <td>COMANDO DE OPERAÇÕES NAVAIS</td>\n",
       "      <td>42942.07960</td>\n",
       "      <td>48835.43</td>\n",
       "      <td>15137.8016</td>\n",
       "      <td>33032.340</td>\n",
       "      <td>4769.1902</td>\n",
       "      <td>0.00</td>\n",
       "      <td>...</td>\n",
       "      <td>0.0</td>\n",
       "      <td>75096.59000</td>\n",
       "      <td>144716.84140</td>\n",
       "      <td>82393.27000</td>\n",
       "      <td>62323.57140</td>\n",
       "      <td>ComOpNav</td>\n",
       "      <td>10137</td>\n",
       "      <td>100103.5</td>\n",
       "      <td>17710.24</td>\n",
       "      <td>17710.24</td>\n",
       "    </tr>\n",
       "    <tr>\n",
       "      <th>14106</th>\n",
       "      <td>2025</td>\n",
       "      <td>8</td>\n",
       "      <td>91619</td>\n",
       "      <td>CORVETA JULIO DE NORONHA</td>\n",
       "      <td>3144.12000</td>\n",
       "      <td>1906.24</td>\n",
       "      <td>0.0000</td>\n",
       "      <td>0.000</td>\n",
       "      <td>1482.6000</td>\n",
       "      <td>0.00</td>\n",
       "      <td>...</td>\n",
       "      <td>0.0</td>\n",
       "      <td>0.00000</td>\n",
       "      <td>6532.96000</td>\n",
       "      <td>0.00000</td>\n",
       "      <td>6532.96000</td>\n",
       "      <td>CvJNoronha</td>\n",
       "      <td>10225</td>\n",
       "      <td>0.0</td>\n",
       "      <td>0.00</td>\n",
       "      <td>0.00</td>\n",
       "    </tr>\n",
       "    <tr>\n",
       "      <th>14117</th>\n",
       "      <td>2025</td>\n",
       "      <td>8</td>\n",
       "      <td>51214</td>\n",
       "      <td>NAVIO HIDROCEANOGRÁFICO AMORIM DO VALLE</td>\n",
       "      <td>21534.21500</td>\n",
       "      <td>19056.02</td>\n",
       "      <td>2022.4300</td>\n",
       "      <td>129.500</td>\n",
       "      <td>4097.8360</td>\n",
       "      <td>804.38</td>\n",
       "      <td>...</td>\n",
       "      <td>0.0</td>\n",
       "      <td>0.00000</td>\n",
       "      <td>47644.38100</td>\n",
       "      <td>0.00000</td>\n",
       "      <td>47644.38100</td>\n",
       "      <td>NHoAValle</td>\n",
       "      <td>10024</td>\n",
       "      <td>0.0</td>\n",
       "      <td>0.00</td>\n",
       "      <td>0.00</td>\n",
       "    </tr>\n",
       "    <tr>\n",
       "      <th>14123</th>\n",
       "      <td>2025</td>\n",
       "      <td>8</td>\n",
       "      <td>82117</td>\n",
       "      <td>NAVIO-VARREDOR ATALAIA</td>\n",
       "      <td>20375.02554</td>\n",
       "      <td>7983.96</td>\n",
       "      <td>0.0000</td>\n",
       "      <td>0.000</td>\n",
       "      <td>0.0000</td>\n",
       "      <td>0.00</td>\n",
       "      <td>...</td>\n",
       "      <td>0.0</td>\n",
       "      <td>0.00000</td>\n",
       "      <td>28358.98554</td>\n",
       "      <td>0.00000</td>\n",
       "      <td>28358.98554</td>\n",
       "      <td>NVAtalaia</td>\n",
       "      <td>10254</td>\n",
       "      <td>0.0</td>\n",
       "      <td>0.00</td>\n",
       "      <td>0.00</td>\n",
       "    </tr>\n",
       "  </tbody>\n",
       "</table>\n",
       "<p>9006 rows × 22 columns</p>\n",
       "</div>"
      ],
      "text/plain": [
       "        ano  mes  codigo                                               nome  \\\n",
       "0      2019    1   81200  1° BATALHAO DE OPERAÇOES LITORANEAS DE FUZILEI...   \n",
       "1      2019    1   88200               1º Batalhão de Operações Ribeirinhas   \n",
       "2      2019    1   82200  2° BATALHÃO DE OPERAÇÕES LITORÂNEAS DE FUZILEI...   \n",
       "4      2019    1   84200               2º BATALHÃO DE OPERAÇÕES RIBEIRINHAS   \n",
       "5      2019    1   83200  3° BATALHÃO DE OPERAÇÕES LITORÂNEAS DE FUZILEI...   \n",
       "...     ...  ...     ...                                                ...   \n",
       "14090  2025    7   91535                                Submarino Riachuelo   \n",
       "14102  2025    8   80000                        COMANDO DE OPERAÇÕES NAVAIS   \n",
       "14106  2025    8   91619                           CORVETA JULIO DE NORONHA   \n",
       "14117  2025    8   51214            NAVIO HIDROCEANOGRÁFICO AMORIM DO VALLE   \n",
       "14123  2025    8   82117                             NAVIO-VARREDOR ATALAIA   \n",
       "\n",
       "       balanco_paiol_mes_anterior  gen_depsubmrj_depnav_reg  \\\n",
       "0                     98180.15720                  73516.14   \n",
       "1                    698734.61658                      0.00   \n",
       "2                     63728.75860                  31178.35   \n",
       "4                    171638.53500                  54408.70   \n",
       "5                     94752.65847                   9647.28   \n",
       "...                           ...                       ...   \n",
       "14090                 27408.97720                      0.00   \n",
       "14102                 42942.07960                  48835.43   \n",
       "14106                  3144.12000                   1906.24   \n",
       "14117                 21534.21500                  19056.02   \n",
       "14123                 20375.02554                   7983.96   \n",
       "\n",
       "       gen_adq_form_extra_mb_licit1  gen_adq_form_extra_mb_licit2  \\\n",
       "0                        42111.8000                     43376.544   \n",
       "1                            0.0000                         0.000   \n",
       "2                        54681.3950                         0.000   \n",
       "4                       117189.0000                         0.000   \n",
       "5                         3400.2100                         0.000   \n",
       "...                             ...                           ...   \n",
       "14090                     4607.1000                         0.000   \n",
       "14102                    15137.8016                     33032.340   \n",
       "14106                        0.0000                         0.000   \n",
       "14117                     2022.4300                       129.500   \n",
       "14123                        0.0000                         0.000   \n",
       "\n",
       "       gen_adq_form_extra_mb_slicit  remessa_recebida  ...  termo_de_despesa  \\\n",
       "0                         1174.4000              0.00  ...               0.0   \n",
       "1                       158691.8100              0.00  ...               0.0   \n",
       "2                            0.0000              0.00  ...               0.0   \n",
       "4                         6110.1599              0.00  ...               0.0   \n",
       "5                          505.5600              0.00  ...               0.0   \n",
       "...                             ...               ...  ...               ...   \n",
       "14090                        0.0000              0.00  ...               0.0   \n",
       "14102                     4769.1902              0.00  ...               0.0   \n",
       "14106                     1482.6000              0.00  ...               0.0   \n",
       "14117                     4097.8360            804.38  ...               0.0   \n",
       "14123                        0.0000              0.00  ...               0.0   \n",
       "\n",
       "       generos_consumidos  totais_balanco_paiol_receita  \\\n",
       "0            162351.16000                  258359.04120   \n",
       "1            168038.20800                  857426.42658   \n",
       "2             65744.78000                  149588.50360   \n",
       "4            113672.31750                  349346.39490   \n",
       "5             12721.57279                  108305.70847   \n",
       "...                   ...                           ...   \n",
       "14090         11056.49000                   32016.07720   \n",
       "14102         75096.59000                  144716.84140   \n",
       "14106             0.00000                    6532.96000   \n",
       "14117             0.00000                   47644.38100   \n",
       "14123             0.00000                   28358.98554   \n",
       "\n",
       "       totais_balanco_paiol_despesa         saldo         sigla  om_id  \\\n",
       "0                      165222.91000   93136.13120       GptFNRJ  10220   \n",
       "1                      187373.21800  670053.20858   1º BtlOpRib  10251   \n",
       "2                       71213.93000   78374.57360  2°BtlOpLitFN  10112   \n",
       "4                      118071.71750  231274.67740   2º BtlOpRib  10302   \n",
       "5                       19291.77279   89013.93568  3°BtlOpLitFN  10395   \n",
       "...                             ...           ...           ...    ...   \n",
       "14090                   24367.65000    7648.42720    SRiachuelo  14120   \n",
       "14102                   82393.27000   62323.57140      ComOpNav  10137   \n",
       "14106                       0.00000    6532.96000    CvJNoronha  10225   \n",
       "14117                       0.00000   47644.38100     NHoAValle  10024   \n",
       "14123                       0.00000   28358.98554     NVAtalaia  10254   \n",
       "\n",
       "      despesa_autorizada_global  sobra_licita  sobra_licita_ajustada  \n",
       "0                      189626.0      24403.07                   0.00  \n",
       "1                      192259.9       4886.67                   0.00  \n",
       "2                       75417.0       4203.05                   0.00  \n",
       "4                      120572.4       2500.68                   0.00  \n",
       "5                       33859.5      14567.74                   0.00  \n",
       "...                         ...           ...                    ...  \n",
       "14090                   14670.0       3613.51                3613.51  \n",
       "14102                  100103.5      17710.24               17710.24  \n",
       "14106                       0.0          0.00                   0.00  \n",
       "14117                       0.0          0.00                   0.00  \n",
       "14123                       0.0          0.00                   0.00  \n",
       "\n",
       "[9006 rows x 22 columns]"
      ]
     },
     "execution_count": 164,
     "metadata": {},
     "output_type": "execute_result"
    }
   ],
   "source": [
    "mmm_receita_despesa[abs((mmm_receita_despesa.despesa_autorizada_global - (mmm_receita_despesa.generos_consumidos + mmm_receita_despesa.vale_extra)) - mmm_receita_despesa.sobra_licita) < 1]"
   ]
  },
  {
   "cell_type": "code",
   "execution_count": 168,
   "id": "1715b89a",
   "metadata": {},
   "outputs": [
    {
     "data": {
      "application/vnd.microsoft.datawrangler.viewer.v0+json": {
       "columns": [
        {
         "name": "index",
         "rawType": "int64",
         "type": "integer"
        },
        {
         "name": "ano",
         "rawType": "int64",
         "type": "integer"
        },
        {
         "name": "mes",
         "rawType": "int64",
         "type": "integer"
        },
        {
         "name": "codigo",
         "rawType": "int64",
         "type": "integer"
        },
        {
         "name": "nome",
         "rawType": "object",
         "type": "string"
        },
        {
         "name": "balanco_paiol_mes_anterior",
         "rawType": "float64",
         "type": "float"
        },
        {
         "name": "gen_depsubmrj_depnav_reg",
         "rawType": "float64",
         "type": "float"
        },
        {
         "name": "gen_adq_form_extra_mb_licit1",
         "rawType": "float64",
         "type": "float"
        },
        {
         "name": "gen_adq_form_extra_mb_licit2",
         "rawType": "float64",
         "type": "float"
        },
        {
         "name": "gen_adq_form_extra_mb_slicit",
         "rawType": "float64",
         "type": "float"
        },
        {
         "name": "remessa_recebida",
         "rawType": "float64",
         "type": "float"
        },
        {
         "name": "remessa_expedida",
         "rawType": "float64",
         "type": "float"
        },
        {
         "name": "vale_extra",
         "rawType": "float64",
         "type": "float"
        },
        {
         "name": "termo_de_despesa",
         "rawType": "float64",
         "type": "float"
        },
        {
         "name": "generos_consumidos",
         "rawType": "float64",
         "type": "float"
        },
        {
         "name": "totais_balanco_paiol_receita",
         "rawType": "float64",
         "type": "float"
        },
        {
         "name": "totais_balanco_paiol_despesa",
         "rawType": "float64",
         "type": "float"
        },
        {
         "name": "saldo",
         "rawType": "float64",
         "type": "float"
        },
        {
         "name": "sigla",
         "rawType": "object",
         "type": "string"
        },
        {
         "name": "om_id",
         "rawType": "int64",
         "type": "integer"
        },
        {
         "name": "despesa_autorizada_global",
         "rawType": "float64",
         "type": "float"
        },
        {
         "name": "sobra_licita",
         "rawType": "float64",
         "type": "float"
        },
        {
         "name": "sobra_licita_ajustada",
         "rawType": "float64",
         "type": "float"
        }
       ],
       "ref": "b814408c-8502-4c43-806b-b0dd74b2570c",
       "rows": [
        [
         "54",
         "2019",
         "1",
         "80000",
         "COMANDO DE OPERAÇÕES NAVAIS",
         "17232.724",
         "4407.42",
         "8350.328",
         "0.0",
         "5923.1544",
         "0.0",
         "0.0",
         "1274.71",
         "0.0",
         "19196.77412",
         "35913.6264",
         "20471.48412",
         "15442.14228",
         "ComOpNav",
         "10137",
         "43372.0",
         "22900.55",
         "0.0"
        ],
        [
         "55",
         "2019",
         "1",
         "80000",
         "COMANDO DE OPERAÇÕES NAVAIS",
         "17232.724",
         "4407.42",
         "8350.328",
         "0.0",
         "5923.1544",
         "0.0",
         "0.0",
         "1274.71",
         "0.0",
         "19196.77412",
         "35913.6264",
         "20471.48412",
         "15442.14228",
         "ComOpNav",
         "10137",
         "60543.0",
         "750.18",
         "0.0"
        ],
        [
         "217",
         "2019",
         "2",
         "80000",
         "COMANDO DE OPERAÇÕES NAVAIS",
         "15442.17536",
         "7809.27",
         "11877.491",
         "0.0",
         "27220.3437",
         "0.0",
         "0.0",
         "4268.31",
         "0.0",
         "42820.1221",
         "62349.28006",
         "47088.4321",
         "15260.84796",
         "ComOpNav",
         "10137",
         "55734.0",
         "8645.58",
         "0.0"
        ],
        [
         "218",
         "2019",
         "2",
         "80000",
         "COMANDO DE OPERAÇÕES NAVAIS",
         "15442.17536",
         "7809.27",
         "11877.491",
         "0.0",
         "27220.3437",
         "0.0",
         "0.0",
         "4268.31",
         "0.0",
         "42820.1221",
         "62349.28006",
         "47088.4321",
         "15260.84796",
         "ComOpNav",
         "10137",
         "52128.0",
         "1076.06",
         "0.0"
        ],
        [
         "380",
         "2019",
         "3",
         "80000",
         "COMANDO DE OPERAÇÕES NAVAIS",
         "15260.851",
         "8378.9",
         "10830.54",
         "4601.5025",
         "8617.3273",
         "0.0",
         "0.0",
         "4291.08",
         "0.0",
         "23620.653",
         "47689.1208",
         "27911.733",
         "19777.3878",
         "ComOpNav",
         "10137",
         "55886.0",
         "27974.28",
         "0.0"
        ],
        [
         "381",
         "2019",
         "3",
         "80000",
         "COMANDO DE OPERAÇÕES NAVAIS",
         "15260.851",
         "8378.9",
         "10830.54",
         "4601.5025",
         "8617.3273",
         "0.0",
         "0.0",
         "4291.08",
         "0.0",
         "23620.653",
         "47689.1208",
         "27911.733",
         "19777.3878",
         "ComOpNav",
         "10137",
         "53856.0",
         "1425.09",
         "0.0"
        ],
        [
         "545",
         "2019",
         "4",
         "80000",
         "COMANDO DE OPERAÇÕES NAVAIS",
         "19777.40303",
         "6205.72",
         "14085.744",
         "9663.369",
         "17873.2561",
         "0.0",
         "0.0",
         "5502.7",
         "0.0",
         "41598.35588",
         "67605.49213",
         "47101.05588",
         "20504.43625",
         "ComOpNav",
         "10137",
         "55385.0",
         "8283.92",
         "0.0"
        ],
        [
         "546",
         "2019",
         "4",
         "80000",
         "COMANDO DE OPERAÇÕES NAVAIS",
         "19777.40303",
         "6205.72",
         "14085.744",
         "9663.369",
         "17873.2561",
         "0.0",
         "0.0",
         "5502.7",
         "0.0",
         "41598.35588",
         "67605.49213",
         "47101.05588",
         "20504.43625",
         "ComOpNav",
         "10137",
         "54648.0",
         "1368.54",
         "0.0"
        ],
        [
         "710",
         "2019",
         "5",
         "80000",
         "COMANDO DE OPERAÇÕES NAVAIS",
         "20504.41294",
         "3715.56",
         "11044.52",
         "8773.948",
         "8854.153",
         "0.0",
         "0.0",
         "2467.27",
         "0.0",
         "33557.547",
         "52892.59394",
         "36024.817",
         "16867.77694",
         "ComOpNav",
         "10137",
         "67131.0",
         "700.58",
         "0.0"
        ],
        [
         "711",
         "2019",
         "5",
         "80000",
         "COMANDO DE OPERAÇÕES NAVAIS",
         "20504.41294",
         "3715.56",
         "11044.52",
         "8773.948",
         "8854.153",
         "0.0",
         "0.0",
         "2467.27",
         "0.0",
         "33557.547",
         "52892.59394",
         "36024.817",
         "16867.77694",
         "ComOpNav",
         "10137",
         "62168.0",
         "26143.15",
         "0.0"
        ],
        [
         "872",
         "2019",
         "6",
         "80000",
         "COMANDO DE OPERAÇÕES NAVAIS",
         "16867.74055",
         "3765.6",
         "14497.9088",
         "10472.6055",
         "17382.5413",
         "0.0",
         "0.0",
         "3434.07",
         "0.0",
         "35426.9456",
         "62986.39615",
         "38861.0156",
         "24125.38055",
         "ComOpNav",
         "10137",
         "50149.0",
         "11287.97",
         "0.0"
        ],
        [
         "873",
         "2019",
         "6",
         "80000",
         "COMANDO DE OPERAÇÕES NAVAIS",
         "16867.74055",
         "3765.6",
         "14497.9088",
         "10472.6055",
         "17382.5413",
         "0.0",
         "0.0",
         "3434.07",
         "0.0",
         "35426.9456",
         "62986.39615",
         "38861.0156",
         "24125.38055",
         "ComOpNav",
         "10137",
         "62964.0",
         "1242.2",
         "0.0"
        ],
        [
         "1034",
         "2019",
         "7",
         "80000",
         "COMANDO DE OPERAÇÕES NAVAIS",
         "24125.36895",
         "1864.8",
         "18039.74",
         "8389.07127",
         "11300.8037",
         "0.0",
         "0.0",
         "4859.92",
         "0.0",
         "34180.2563",
         "63719.78392",
         "39040.1763",
         "24679.60762",
         "ComOpNav",
         "10137",
         "64458.0",
         "820.75",
         "0.0"
        ],
        [
         "1035",
         "2019",
         "7",
         "80000",
         "COMANDO DE OPERAÇÕES NAVAIS",
         "24125.36895",
         "1864.8",
         "18039.74",
         "8389.07127",
         "11300.8037",
         "0.0",
         "0.0",
         "4859.92",
         "0.0",
         "34180.2563",
         "63719.78392",
         "39040.1763",
         "24679.60762",
         "ComOpNav",
         "10137",
         "54132.0",
         "15091.8",
         "0.0"
        ],
        [
         "1195",
         "2019",
         "8",
         "80000",
         "COMANDO DE OPERAÇÕES NAVAIS",
         "24679.5854",
         "1461.87",
         "14155.722",
         "9793.5165",
         "19086.6481",
         "0.0",
         "0.0",
         "3996.98",
         "0.0",
         "44251.11",
         "69177.342",
         "48248.09",
         "20929.252",
         "ComOpNav",
         "10137",
         "65373.0",
         "17124.85",
         "0.0"
        ],
        [
         "1196",
         "2019",
         "8",
         "80000",
         "COMANDO DE OPERAÇÕES NAVAIS",
         "24679.5854",
         "1461.87",
         "14155.722",
         "9793.5165",
         "19086.6481",
         "0.0",
         "0.0",
         "3996.98",
         "0.0",
         "44251.11",
         "69177.342",
         "48248.09",
         "20929.252",
         "ComOpNav",
         "10137",
         "64116.0",
         "995.1",
         "0.0"
        ],
        [
         "1355",
         "2019",
         "9",
         "80000",
         "COMANDO DE OPERAÇÕES NAVAIS",
         "20929.19",
         "0.0",
         "14843.037",
         "6781.6815",
         "12148.248",
         "0.0",
         "0.0",
         "5779.49",
         "0.0",
         "34607.47",
         "54702.1565",
         "40386.96",
         "14315.1965",
         "ComOpNav",
         "10137",
         "77522.0",
         "37135.01",
         "0.0"
        ],
        [
         "1356",
         "2019",
         "9",
         "80000",
         "COMANDO DE OPERAÇÕES NAVAIS",
         "20929.19",
         "0.0",
         "14843.037",
         "6781.6815",
         "12148.248",
         "0.0",
         "0.0",
         "5779.49",
         "0.0",
         "34607.47",
         "54702.1565",
         "40386.96",
         "14315.1965",
         "ComOpNav",
         "10137",
         "60462.0",
         "1298.72",
         "0.0"
        ],
        [
         "1516",
         "2019",
         "10",
         "80000",
         "COMANDO DE OPERAÇÕES NAVAIS",
         "14315.16896",
         "10958.74",
         "17263.941",
         "7129.111",
         "11031.6321",
         "0.0",
         "0.0",
         "4149.3",
         "0.0",
         "42362.95",
         "60698.59306",
         "46512.25",
         "14186.34306",
         "ComOpNav",
         "10137",
         "60906.0",
         "14393.74",
         "0.0"
        ],
        [
         "1517",
         "2019",
         "10",
         "80000",
         "COMANDO DE OPERAÇÕES NAVAIS",
         "14315.16896",
         "10958.74",
         "17263.941",
         "7129.111",
         "11031.6321",
         "0.0",
         "0.0",
         "4149.3",
         "0.0",
         "42362.95",
         "60698.59306",
         "46512.25",
         "14186.34306",
         "ComOpNav",
         "10137",
         "64206.0",
         "1270.04",
         "0.0"
        ],
        [
         "1677",
         "2019",
         "11",
         "80000",
         "COMANDO DE OPERAÇÕES NAVAIS",
         "14186.3277",
         "3010.47",
         "11150.429",
         "19419.125",
         "8346.5457",
         "0.0",
         "0.0",
         "2936.95",
         "0.0",
         "35777.68",
         "56112.8974",
         "38714.63",
         "17398.2674",
         "ComOpNav",
         "10137",
         "72004.0",
         "33289.39",
         "0.0"
        ],
        [
         "1678",
         "2019",
         "11",
         "80000",
         "COMANDO DE OPERAÇÕES NAVAIS",
         "14186.3277",
         "3010.47",
         "11150.429",
         "19419.125",
         "8346.5457",
         "0.0",
         "0.0",
         "2936.95",
         "0.0",
         "35777.68",
         "56112.8974",
         "38714.63",
         "17398.2674",
         "ComOpNav",
         "10137",
         "57402.0",
         "1728.2",
         "0.0"
        ],
        [
         "1840",
         "2019",
         "12",
         "80000",
         "COMANDO DE OPERAÇÕES NAVAIS",
         "17398.2871",
         "3371.38",
         "26216.23",
         "0.0",
         "23452.9521",
         "0.0",
         "0.0",
         "3001.96",
         "0.0",
         "47542.201",
         "70438.8492",
         "50544.161",
         "19894.6882",
         "ComOpNav",
         "10137",
         "76364.0",
         "25819.83",
         "0.0"
        ],
        [
         "1841",
         "2019",
         "12",
         "80000",
         "COMANDO DE OPERAÇÕES NAVAIS",
         "17398.2871",
         "3371.38",
         "26216.23",
         "0.0",
         "23452.9521",
         "0.0",
         "0.0",
         "3001.96",
         "0.0",
         "47542.201",
         "70438.8492",
         "50544.161",
         "19894.6882",
         "ComOpNav",
         "10137",
         "57411.0",
         "1804.73",
         "0.0"
        ],
        [
         "2002",
         "2020",
         "1",
         "80000",
         "COMANDO DE OPERAÇÕES NAVAIS",
         "19894.685995",
         "9287.28",
         "35853.99612",
         "0.0",
         "5214.6271",
         "0.0",
         "0.0",
         "2715.59",
         "0.0",
         "42571.84325",
         "70250.589215",
         "45287.43325",
         "24963.155965",
         "ComOpNav",
         "10137",
         "46305.0",
         "610.84",
         "0.0"
        ],
        [
         "2003",
         "2020",
         "1",
         "80000",
         "COMANDO DE OPERAÇÕES NAVAIS",
         "19894.685995",
         "9287.28",
         "35853.99612",
         "0.0",
         "5214.6271",
         "0.0",
         "0.0",
         "2715.59",
         "0.0",
         "42571.84325",
         "70250.589215",
         "45287.43325",
         "24963.155965",
         "ComOpNav",
         "10137",
         "48068.0",
         "2780.55",
         "0.0"
        ],
        [
         "2168",
         "2020",
         "2",
         "80000",
         "COMANDO DE OPERAÇÕES NAVAIS",
         "24963.135225",
         "4071.11",
         "17157.34",
         "184.5",
         "0.0",
         "0.0",
         "0.0",
         "846.3",
         "0.0",
         "33802.014",
         "46376.085225",
         "34648.314",
         "11727.771225",
         "ComOpNav",
         "10137",
         "43957.0",
         "9308.7",
         "0.0"
        ],
        [
         "2169",
         "2020",
         "2",
         "80000",
         "COMANDO DE OPERAÇÕES NAVAIS",
         "24963.135225",
         "4071.11",
         "17157.34",
         "184.5",
         "0.0",
         "0.0",
         "0.0",
         "846.3",
         "0.0",
         "33802.014",
         "46376.085225",
         "34648.314",
         "11727.771225",
         "ComOpNav",
         "10137",
         "35694.0",
         "719.2",
         "0.0"
        ],
        [
         "2330",
         "2020",
         "3",
         "80000",
         "COMANDO DE OPERAÇÕES NAVAIS",
         "11727.78648",
         "7663.06",
         "12733.737",
         "5475.814",
         "6560.1576",
         "0.0",
         "0.0",
         "783.05",
         "0.0",
         "23295.1789",
         "44160.55508",
         "24078.2289",
         "20082.32618",
         "ComOpNav",
         "10137",
         "49955.0",
         "25876.76",
         "0.0"
        ],
        [
         "2331",
         "2020",
         "3",
         "80000",
         "COMANDO DE OPERAÇÕES NAVAIS",
         "11727.78648",
         "7663.06",
         "12733.737",
         "5475.814",
         "6560.1576",
         "0.0",
         "0.0",
         "783.05",
         "0.0",
         "23295.1789",
         "44160.55508",
         "24078.2289",
         "20082.32618",
         "ComOpNav",
         "10137",
         "41949.0",
         "880.07",
         "0.0"
        ],
        [
         "2493",
         "2020",
         "4",
         "80000",
         "COMANDO DE OPERAÇÕES NAVAIS",
         "20082.30884",
         "4415.3",
         "11379.523",
         "7213.9935",
         "0.0",
         "0.0",
         "0.0",
         "1751.82",
         "0.0",
         "25796.26",
         "43091.12534",
         "27548.08",
         "15543.04534",
         "ComOpNav",
         "10137",
         "51516.0",
         "23967.94",
         "0.0"
        ],
        [
         "2494",
         "2020",
         "4",
         "80000",
         "COMANDO DE OPERAÇÕES NAVAIS",
         "20082.30884",
         "4415.3",
         "11379.523",
         "7213.9935",
         "0.0",
         "0.0",
         "0.0",
         "1751.82",
         "0.0",
         "25796.26",
         "43091.12534",
         "27548.08",
         "15543.04534",
         "ComOpNav",
         "10137",
         "45009.0",
         "11378.64",
         "0.0"
        ],
        [
         "2657",
         "2020",
         "5",
         "80000",
         "COMANDO DE OPERAÇÕES NAVAIS",
         "15543.0715",
         "6890.72",
         "7953.063",
         "8845.752",
         "0.0",
         "0.0",
         "0.0",
         "1377.51",
         "0.0",
         "24638.598",
         "39232.6065",
         "26016.108",
         "13216.4985",
         "ComOpNav",
         "10137",
         "52956.0",
         "26939.89",
         "0.0"
        ],
        [
         "2658",
         "2020",
         "5",
         "80000",
         "COMANDO DE OPERAÇÕES NAVAIS",
         "15543.0715",
         "6890.72",
         "7953.063",
         "8845.752",
         "0.0",
         "0.0",
         "0.0",
         "1377.51",
         "0.0",
         "24638.598",
         "39232.6065",
         "26016.108",
         "13216.4985",
         "ComOpNav",
         "10137",
         "42975.0",
         "4240.05",
         "0.0"
        ],
        [
         "2823",
         "2020",
         "6",
         "80000",
         "COMANDO DE OPERAÇÕES NAVAIS",
         "13216.4939",
         "6273.7",
         "12711.41",
         "12483.553",
         "356.0",
         "0.0",
         "0.0",
         "1093.92",
         "0.0",
         "35529.305",
         "45041.1569",
         "36623.225",
         "8417.9319",
         "ComOpNav",
         "10137",
         "70803.0",
         "34179.78",
         "0.0"
        ],
        [
         "2824",
         "2020",
         "6",
         "80000",
         "COMANDO DE OPERAÇÕES NAVAIS",
         "13216.4939",
         "6273.7",
         "12711.41",
         "12483.553",
         "356.0",
         "0.0",
         "0.0",
         "1093.92",
         "0.0",
         "35529.305",
         "45041.1569",
         "36623.225",
         "8417.9319",
         "ComOpNav",
         "10137",
         "55080.0",
         "21388.89",
         "0.0"
        ],
        [
         "2987",
         "2020",
         "7",
         "80000",
         "COMANDO DE OPERAÇÕES NAVAIS",
         "8417.9285",
         "6502.99",
         "19964.66",
         "13243.817",
         "0.0",
         "0.0",
         "0.0",
         "1047.63",
         "0.0",
         "37975.765",
         "48129.3955",
         "39023.395",
         "9106.0005",
         "ComOpNav",
         "10137",
         "70911.0",
         "31887.57",
         "0.0"
        ],
        [
         "2988",
         "2020",
         "7",
         "80000",
         "COMANDO DE OPERAÇÕES NAVAIS",
         "8417.9285",
         "6502.99",
         "19964.66",
         "13243.817",
         "0.0",
         "0.0",
         "0.0",
         "1047.63",
         "0.0",
         "37975.765",
         "48129.3955",
         "39023.395",
         "9106.0005",
         "ComOpNav",
         "10137",
         "56277.0",
         "24546.84",
         "0.0"
        ],
        [
         "3152",
         "2020",
         "8",
         "80000",
         "COMANDO DE OPERAÇÕES NAVAIS",
         "9105.9555",
         "1759.63",
         "17408.57",
         "16556.64",
         "3243.56",
         "0.0",
         "0.0",
         "634.38",
         "0.0",
         "36675.428",
         "48074.3555",
         "37309.808",
         "10764.5475",
         "ComOpNav",
         "10137",
         "74286.0",
         "36976.15",
         "0.0"
        ],
        [
         "3153",
         "2020",
         "8",
         "80000",
         "COMANDO DE OPERAÇÕES NAVAIS",
         "9105.9555",
         "1759.63",
         "17408.57",
         "16556.64",
         "3243.56",
         "0.0",
         "0.0",
         "634.38",
         "0.0",
         "36675.428",
         "48074.3555",
         "37309.808",
         "10764.5475",
         "ComOpNav",
         "10137",
         "55908.0",
         "13195.86",
         "0.0"
        ],
        [
         "3319",
         "2020",
         "9",
         "80000",
         "COMANDO DE OPERAÇÕES NAVAIS",
         "10764.5117",
         "490.85",
         "8796.6445",
         "25081.02",
         "0.0",
         "0.0",
         "0.0",
         "994.76",
         "0.0",
         "35590.673",
         "45133.0262",
         "36585.433",
         "8547.5932",
         "ComOpNav",
         "10137",
         "65574.0",
         "28988.53",
         "0.0"
        ],
        [
         "3320",
         "2020",
         "9",
         "80000",
         "COMANDO DE OPERAÇÕES NAVAIS",
         "10764.5117",
         "490.85",
         "8796.6445",
         "25081.02",
         "0.0",
         "0.0",
         "0.0",
         "994.76",
         "0.0",
         "35590.673",
         "45133.0262",
         "36585.433",
         "8547.5932",
         "ComOpNav",
         "10137",
         "60732.0",
         "26578.34",
         "0.0"
        ],
        [
         "3485",
         "2020",
         "10",
         "80000",
         "COMANDO DE OPERAÇÕES NAVAIS",
         "8547.5581",
         "2764.93",
         "12492.75",
         "20004.25",
         "2060.0",
         "0.0",
         "0.0",
         "301.94",
         "0.0",
         "39364.542",
         "45869.4881",
         "39666.482",
         "6203.0061",
         "ComOpNav",
         "10137",
         "65746.0",
         "26079.51",
         "0.0"
        ],
        [
         "3486",
         "2020",
         "10",
         "80000",
         "COMANDO DE OPERAÇÕES NAVAIS",
         "8547.5581",
         "2764.93",
         "12492.75",
         "20004.25",
         "2060.0",
         "0.0",
         "0.0",
         "301.94",
         "0.0",
         "39364.542",
         "45869.4881",
         "39666.482",
         "6203.0061",
         "ComOpNav",
         "10137",
         "53739.0",
         "26954.09",
         "0.0"
        ],
        [
         "3652",
         "2020",
         "11",
         "80000",
         "COMANDO DE OPERAÇÕES NAVAIS",
         "6202.9961",
         "1654.04",
         "24652.4",
         "10784.6",
         "0.0",
         "0.0",
         "0.0",
         "174.74",
         "0.0",
         "37562.96",
         "43294.0361",
         "37737.7",
         "5556.3361",
         "ComOpNav",
         "10137",
         "64315.0",
         "26577.28",
         "0.0"
        ],
        [
         "3653",
         "2020",
         "11",
         "80000",
         "COMANDO DE OPERAÇÕES NAVAIS",
         "6202.9961",
         "1654.04",
         "24652.4",
         "10784.6",
         "0.0",
         "0.0",
         "0.0",
         "174.74",
         "0.0",
         "37562.96",
         "43294.0361",
         "37737.7",
         "5556.3361",
         "ComOpNav",
         "10137",
         "54342.0",
         "21309.06",
         "0.0"
        ],
        [
         "3820",
         "2020",
         "12",
         "80000",
         "COMANDO DE OPERAÇÕES NAVAIS",
         "5556.322",
         "789.23",
         "9795.582",
         "11734.7",
         "0.0",
         "0.0",
         "0.0",
         "121.84",
         "0.0",
         "23021.968",
         "27875.834",
         "23143.808",
         "4732.026",
         "ComOpNav",
         "10137",
         "70480.0",
         "47336.19",
         "0.0"
        ],
        [
         "3821",
         "2020",
         "12",
         "80000",
         "COMANDO DE OPERAÇÕES NAVAIS",
         "5556.322",
         "789.23",
         "9795.582",
         "11734.7",
         "0.0",
         "0.0",
         "0.0",
         "121.84",
         "0.0",
         "23021.968",
         "27875.834",
         "23143.808",
         "4732.026",
         "ComOpNav",
         "10137",
         "56322.0",
         "20887.59",
         "0.0"
        ],
        [
         "3989",
         "2021",
         "1",
         "80000",
         "COMANDO DE OPERAÇÕES NAVAIS",
         "4732.016",
         "0.0",
         "34947.945",
         "4890.0",
         "0.0",
         "0.0",
         "0.0",
         "371.36",
         "0.0",
         "41229.145",
         "44569.961",
         "41600.505",
         "2969.456",
         "ComOpNav",
         "10137",
         "57880.0",
         "16279.49",
         "0.0"
        ],
        [
         "3990",
         "2021",
         "1",
         "80000",
         "COMANDO DE OPERAÇÕES NAVAIS",
         "4732.016",
         "0.0",
         "34947.945",
         "4890.0",
         "0.0",
         "0.0",
         "0.0",
         "371.36",
         "0.0",
         "41229.145",
         "44569.961",
         "41600.505",
         "2969.456",
         "ComOpNav",
         "10137",
         "36243.0",
         "1783.75",
         "0.0"
        ]
       ],
       "shape": {
        "columns": 22,
        "rows": 180
       }
      },
      "text/html": [
       "<div>\n",
       "<style scoped>\n",
       "    .dataframe tbody tr th:only-of-type {\n",
       "        vertical-align: middle;\n",
       "    }\n",
       "\n",
       "    .dataframe tbody tr th {\n",
       "        vertical-align: top;\n",
       "    }\n",
       "\n",
       "    .dataframe thead th {\n",
       "        text-align: right;\n",
       "    }\n",
       "</style>\n",
       "<table border=\"1\" class=\"dataframe\">\n",
       "  <thead>\n",
       "    <tr style=\"text-align: right;\">\n",
       "      <th></th>\n",
       "      <th>ano</th>\n",
       "      <th>mes</th>\n",
       "      <th>codigo</th>\n",
       "      <th>nome</th>\n",
       "      <th>balanco_paiol_mes_anterior</th>\n",
       "      <th>gen_depsubmrj_depnav_reg</th>\n",
       "      <th>gen_adq_form_extra_mb_licit1</th>\n",
       "      <th>gen_adq_form_extra_mb_licit2</th>\n",
       "      <th>gen_adq_form_extra_mb_slicit</th>\n",
       "      <th>remessa_recebida</th>\n",
       "      <th>...</th>\n",
       "      <th>termo_de_despesa</th>\n",
       "      <th>generos_consumidos</th>\n",
       "      <th>totais_balanco_paiol_receita</th>\n",
       "      <th>totais_balanco_paiol_despesa</th>\n",
       "      <th>saldo</th>\n",
       "      <th>sigla</th>\n",
       "      <th>om_id</th>\n",
       "      <th>despesa_autorizada_global</th>\n",
       "      <th>sobra_licita</th>\n",
       "      <th>sobra_licita_ajustada</th>\n",
       "    </tr>\n",
       "  </thead>\n",
       "  <tbody>\n",
       "    <tr>\n",
       "      <th>54</th>\n",
       "      <td>2019</td>\n",
       "      <td>1</td>\n",
       "      <td>80000</td>\n",
       "      <td>COMANDO DE OPERAÇÕES NAVAIS</td>\n",
       "      <td>17232.72400</td>\n",
       "      <td>4407.42</td>\n",
       "      <td>8350.3280</td>\n",
       "      <td>0.0000</td>\n",
       "      <td>5923.1544</td>\n",
       "      <td>0.0</td>\n",
       "      <td>...</td>\n",
       "      <td>0.0</td>\n",
       "      <td>19196.77412</td>\n",
       "      <td>35913.62640</td>\n",
       "      <td>20471.48412</td>\n",
       "      <td>15442.14228</td>\n",
       "      <td>ComOpNav</td>\n",
       "      <td>10137</td>\n",
       "      <td>43372.0</td>\n",
       "      <td>22900.55</td>\n",
       "      <td>0.00</td>\n",
       "    </tr>\n",
       "    <tr>\n",
       "      <th>55</th>\n",
       "      <td>2019</td>\n",
       "      <td>1</td>\n",
       "      <td>80000</td>\n",
       "      <td>COMANDO DE OPERAÇÕES NAVAIS</td>\n",
       "      <td>17232.72400</td>\n",
       "      <td>4407.42</td>\n",
       "      <td>8350.3280</td>\n",
       "      <td>0.0000</td>\n",
       "      <td>5923.1544</td>\n",
       "      <td>0.0</td>\n",
       "      <td>...</td>\n",
       "      <td>0.0</td>\n",
       "      <td>19196.77412</td>\n",
       "      <td>35913.62640</td>\n",
       "      <td>20471.48412</td>\n",
       "      <td>15442.14228</td>\n",
       "      <td>ComOpNav</td>\n",
       "      <td>10137</td>\n",
       "      <td>60543.0</td>\n",
       "      <td>750.18</td>\n",
       "      <td>0.00</td>\n",
       "    </tr>\n",
       "    <tr>\n",
       "      <th>217</th>\n",
       "      <td>2019</td>\n",
       "      <td>2</td>\n",
       "      <td>80000</td>\n",
       "      <td>COMANDO DE OPERAÇÕES NAVAIS</td>\n",
       "      <td>15442.17536</td>\n",
       "      <td>7809.27</td>\n",
       "      <td>11877.4910</td>\n",
       "      <td>0.0000</td>\n",
       "      <td>27220.3437</td>\n",
       "      <td>0.0</td>\n",
       "      <td>...</td>\n",
       "      <td>0.0</td>\n",
       "      <td>42820.12210</td>\n",
       "      <td>62349.28006</td>\n",
       "      <td>47088.43210</td>\n",
       "      <td>15260.84796</td>\n",
       "      <td>ComOpNav</td>\n",
       "      <td>10137</td>\n",
       "      <td>55734.0</td>\n",
       "      <td>8645.58</td>\n",
       "      <td>0.00</td>\n",
       "    </tr>\n",
       "    <tr>\n",
       "      <th>218</th>\n",
       "      <td>2019</td>\n",
       "      <td>2</td>\n",
       "      <td>80000</td>\n",
       "      <td>COMANDO DE OPERAÇÕES NAVAIS</td>\n",
       "      <td>15442.17536</td>\n",
       "      <td>7809.27</td>\n",
       "      <td>11877.4910</td>\n",
       "      <td>0.0000</td>\n",
       "      <td>27220.3437</td>\n",
       "      <td>0.0</td>\n",
       "      <td>...</td>\n",
       "      <td>0.0</td>\n",
       "      <td>42820.12210</td>\n",
       "      <td>62349.28006</td>\n",
       "      <td>47088.43210</td>\n",
       "      <td>15260.84796</td>\n",
       "      <td>ComOpNav</td>\n",
       "      <td>10137</td>\n",
       "      <td>52128.0</td>\n",
       "      <td>1076.06</td>\n",
       "      <td>0.00</td>\n",
       "    </tr>\n",
       "    <tr>\n",
       "      <th>380</th>\n",
       "      <td>2019</td>\n",
       "      <td>3</td>\n",
       "      <td>80000</td>\n",
       "      <td>COMANDO DE OPERAÇÕES NAVAIS</td>\n",
       "      <td>15260.85100</td>\n",
       "      <td>8378.90</td>\n",
       "      <td>10830.5400</td>\n",
       "      <td>4601.5025</td>\n",
       "      <td>8617.3273</td>\n",
       "      <td>0.0</td>\n",
       "      <td>...</td>\n",
       "      <td>0.0</td>\n",
       "      <td>23620.65300</td>\n",
       "      <td>47689.12080</td>\n",
       "      <td>27911.73300</td>\n",
       "      <td>19777.38780</td>\n",
       "      <td>ComOpNav</td>\n",
       "      <td>10137</td>\n",
       "      <td>55886.0</td>\n",
       "      <td>27974.28</td>\n",
       "      <td>0.00</td>\n",
       "    </tr>\n",
       "    <tr>\n",
       "      <th>...</th>\n",
       "      <td>...</td>\n",
       "      <td>...</td>\n",
       "      <td>...</td>\n",
       "      <td>...</td>\n",
       "      <td>...</td>\n",
       "      <td>...</td>\n",
       "      <td>...</td>\n",
       "      <td>...</td>\n",
       "      <td>...</td>\n",
       "      <td>...</td>\n",
       "      <td>...</td>\n",
       "      <td>...</td>\n",
       "      <td>...</td>\n",
       "      <td>...</td>\n",
       "      <td>...</td>\n",
       "      <td>...</td>\n",
       "      <td>...</td>\n",
       "      <td>...</td>\n",
       "      <td>...</td>\n",
       "      <td>...</td>\n",
       "      <td>...</td>\n",
       "    </tr>\n",
       "    <tr>\n",
       "      <th>13782</th>\n",
       "      <td>2025</td>\n",
       "      <td>6</td>\n",
       "      <td>80000</td>\n",
       "      <td>COMANDO DE OPERAÇÕES NAVAIS</td>\n",
       "      <td>18323.57000</td>\n",
       "      <td>42537.44</td>\n",
       "      <td>15940.0400</td>\n",
       "      <td>5082.9200</td>\n",
       "      <td>360.0000</td>\n",
       "      <td>0.0</td>\n",
       "      <td>...</td>\n",
       "      <td>0.0</td>\n",
       "      <td>68869.51100</td>\n",
       "      <td>82243.97000</td>\n",
       "      <td>70877.24100</td>\n",
       "      <td>11366.72900</td>\n",
       "      <td>ComOpNav</td>\n",
       "      <td>10137</td>\n",
       "      <td>105675.0</td>\n",
       "      <td>26505.12</td>\n",
       "      <td>26418.75</td>\n",
       "    </tr>\n",
       "    <tr>\n",
       "      <th>13973</th>\n",
       "      <td>2025</td>\n",
       "      <td>7</td>\n",
       "      <td>80000</td>\n",
       "      <td>COMANDO DE OPERAÇÕES NAVAIS</td>\n",
       "      <td>11366.74000</td>\n",
       "      <td>54831.99</td>\n",
       "      <td>19355.8840</td>\n",
       "      <td>31994.1690</td>\n",
       "      <td>2553.1600</td>\n",
       "      <td>0.0</td>\n",
       "      <td>...</td>\n",
       "      <td>0.0</td>\n",
       "      <td>75330.22000</td>\n",
       "      <td>120101.94300</td>\n",
       "      <td>77159.85000</td>\n",
       "      <td>42942.09300</td>\n",
       "      <td>ComOpNav</td>\n",
       "      <td>10137</td>\n",
       "      <td>110520.0</td>\n",
       "      <td>24261.87</td>\n",
       "      <td>24261.87</td>\n",
       "    </tr>\n",
       "    <tr>\n",
       "      <th>13974</th>\n",
       "      <td>2025</td>\n",
       "      <td>7</td>\n",
       "      <td>80000</td>\n",
       "      <td>COMANDO DE OPERAÇÕES NAVAIS</td>\n",
       "      <td>11366.74000</td>\n",
       "      <td>54831.99</td>\n",
       "      <td>19355.8840</td>\n",
       "      <td>31994.1690</td>\n",
       "      <td>2553.1600</td>\n",
       "      <td>0.0</td>\n",
       "      <td>...</td>\n",
       "      <td>0.0</td>\n",
       "      <td>75330.22000</td>\n",
       "      <td>120101.94300</td>\n",
       "      <td>77159.85000</td>\n",
       "      <td>42942.09300</td>\n",
       "      <td>ComOpNav</td>\n",
       "      <td>10137</td>\n",
       "      <td>101362.0</td>\n",
       "      <td>24202.15</td>\n",
       "      <td>24202.15</td>\n",
       "    </tr>\n",
       "    <tr>\n",
       "      <th>14102</th>\n",
       "      <td>2025</td>\n",
       "      <td>8</td>\n",
       "      <td>80000</td>\n",
       "      <td>COMANDO DE OPERAÇÕES NAVAIS</td>\n",
       "      <td>42942.07960</td>\n",
       "      <td>48835.43</td>\n",
       "      <td>15137.8016</td>\n",
       "      <td>33032.3400</td>\n",
       "      <td>4769.1902</td>\n",
       "      <td>0.0</td>\n",
       "      <td>...</td>\n",
       "      <td>0.0</td>\n",
       "      <td>75096.59000</td>\n",
       "      <td>144716.84140</td>\n",
       "      <td>82393.27000</td>\n",
       "      <td>62323.57140</td>\n",
       "      <td>ComOpNav</td>\n",
       "      <td>10137</td>\n",
       "      <td>100103.5</td>\n",
       "      <td>17710.24</td>\n",
       "      <td>17710.24</td>\n",
       "    </tr>\n",
       "    <tr>\n",
       "      <th>14103</th>\n",
       "      <td>2025</td>\n",
       "      <td>8</td>\n",
       "      <td>80000</td>\n",
       "      <td>COMANDO DE OPERAÇÕES NAVAIS</td>\n",
       "      <td>42942.07960</td>\n",
       "      <td>48835.43</td>\n",
       "      <td>15137.8016</td>\n",
       "      <td>33032.3400</td>\n",
       "      <td>4769.1902</td>\n",
       "      <td>0.0</td>\n",
       "      <td>...</td>\n",
       "      <td>0.0</td>\n",
       "      <td>75096.59000</td>\n",
       "      <td>144716.84140</td>\n",
       "      <td>82393.27000</td>\n",
       "      <td>62323.57140</td>\n",
       "      <td>ComOpNav</td>\n",
       "      <td>10137</td>\n",
       "      <td>109479.0</td>\n",
       "      <td>98531.10</td>\n",
       "      <td>27369.75</td>\n",
       "    </tr>\n",
       "  </tbody>\n",
       "</table>\n",
       "<p>180 rows × 22 columns</p>\n",
       "</div>"
      ],
      "text/plain": [
       "        ano  mes  codigo                         nome  \\\n",
       "54     2019    1   80000  COMANDO DE OPERAÇÕES NAVAIS   \n",
       "55     2019    1   80000  COMANDO DE OPERAÇÕES NAVAIS   \n",
       "217    2019    2   80000  COMANDO DE OPERAÇÕES NAVAIS   \n",
       "218    2019    2   80000  COMANDO DE OPERAÇÕES NAVAIS   \n",
       "380    2019    3   80000  COMANDO DE OPERAÇÕES NAVAIS   \n",
       "...     ...  ...     ...                          ...   \n",
       "13782  2025    6   80000  COMANDO DE OPERAÇÕES NAVAIS   \n",
       "13973  2025    7   80000  COMANDO DE OPERAÇÕES NAVAIS   \n",
       "13974  2025    7   80000  COMANDO DE OPERAÇÕES NAVAIS   \n",
       "14102  2025    8   80000  COMANDO DE OPERAÇÕES NAVAIS   \n",
       "14103  2025    8   80000  COMANDO DE OPERAÇÕES NAVAIS   \n",
       "\n",
       "       balanco_paiol_mes_anterior  gen_depsubmrj_depnav_reg  \\\n",
       "54                    17232.72400                   4407.42   \n",
       "55                    17232.72400                   4407.42   \n",
       "217                   15442.17536                   7809.27   \n",
       "218                   15442.17536                   7809.27   \n",
       "380                   15260.85100                   8378.90   \n",
       "...                           ...                       ...   \n",
       "13782                 18323.57000                  42537.44   \n",
       "13973                 11366.74000                  54831.99   \n",
       "13974                 11366.74000                  54831.99   \n",
       "14102                 42942.07960                  48835.43   \n",
       "14103                 42942.07960                  48835.43   \n",
       "\n",
       "       gen_adq_form_extra_mb_licit1  gen_adq_form_extra_mb_licit2  \\\n",
       "54                        8350.3280                        0.0000   \n",
       "55                        8350.3280                        0.0000   \n",
       "217                      11877.4910                        0.0000   \n",
       "218                      11877.4910                        0.0000   \n",
       "380                      10830.5400                     4601.5025   \n",
       "...                             ...                           ...   \n",
       "13782                    15940.0400                     5082.9200   \n",
       "13973                    19355.8840                    31994.1690   \n",
       "13974                    19355.8840                    31994.1690   \n",
       "14102                    15137.8016                    33032.3400   \n",
       "14103                    15137.8016                    33032.3400   \n",
       "\n",
       "       gen_adq_form_extra_mb_slicit  remessa_recebida  ...  termo_de_despesa  \\\n",
       "54                        5923.1544               0.0  ...               0.0   \n",
       "55                        5923.1544               0.0  ...               0.0   \n",
       "217                      27220.3437               0.0  ...               0.0   \n",
       "218                      27220.3437               0.0  ...               0.0   \n",
       "380                       8617.3273               0.0  ...               0.0   \n",
       "...                             ...               ...  ...               ...   \n",
       "13782                      360.0000               0.0  ...               0.0   \n",
       "13973                     2553.1600               0.0  ...               0.0   \n",
       "13974                     2553.1600               0.0  ...               0.0   \n",
       "14102                     4769.1902               0.0  ...               0.0   \n",
       "14103                     4769.1902               0.0  ...               0.0   \n",
       "\n",
       "       generos_consumidos  totais_balanco_paiol_receita  \\\n",
       "54            19196.77412                   35913.62640   \n",
       "55            19196.77412                   35913.62640   \n",
       "217           42820.12210                   62349.28006   \n",
       "218           42820.12210                   62349.28006   \n",
       "380           23620.65300                   47689.12080   \n",
       "...                   ...                           ...   \n",
       "13782         68869.51100                   82243.97000   \n",
       "13973         75330.22000                  120101.94300   \n",
       "13974         75330.22000                  120101.94300   \n",
       "14102         75096.59000                  144716.84140   \n",
       "14103         75096.59000                  144716.84140   \n",
       "\n",
       "       totais_balanco_paiol_despesa        saldo     sigla  om_id  \\\n",
       "54                      20471.48412  15442.14228  ComOpNav  10137   \n",
       "55                      20471.48412  15442.14228  ComOpNav  10137   \n",
       "217                     47088.43210  15260.84796  ComOpNav  10137   \n",
       "218                     47088.43210  15260.84796  ComOpNav  10137   \n",
       "380                     27911.73300  19777.38780  ComOpNav  10137   \n",
       "...                             ...          ...       ...    ...   \n",
       "13782                   70877.24100  11366.72900  ComOpNav  10137   \n",
       "13973                   77159.85000  42942.09300  ComOpNav  10137   \n",
       "13974                   77159.85000  42942.09300  ComOpNav  10137   \n",
       "14102                   82393.27000  62323.57140  ComOpNav  10137   \n",
       "14103                   82393.27000  62323.57140  ComOpNav  10137   \n",
       "\n",
       "      despesa_autorizada_global  sobra_licita  sobra_licita_ajustada  \n",
       "54                      43372.0      22900.55                   0.00  \n",
       "55                      60543.0        750.18                   0.00  \n",
       "217                     55734.0       8645.58                   0.00  \n",
       "218                     52128.0       1076.06                   0.00  \n",
       "380                     55886.0      27974.28                   0.00  \n",
       "...                         ...           ...                    ...  \n",
       "13782                  105675.0      26505.12               26418.75  \n",
       "13973                  110520.0      24261.87               24261.87  \n",
       "13974                  101362.0      24202.15               24202.15  \n",
       "14102                  100103.5      17710.24               17710.24  \n",
       "14103                  109479.0      98531.10               27369.75  \n",
       "\n",
       "[180 rows x 22 columns]"
      ]
     },
     "execution_count": 168,
     "metadata": {},
     "output_type": "execute_result"
    }
   ],
   "source": [
    "mmm_receita_despesa[mmm_receita_despesa.codigo==80000]"
   ]
  },
  {
   "cell_type": "code",
   "execution_count": 166,
   "id": "8549aa2a",
   "metadata": {},
   "outputs": [
    {
     "data": {
      "application/vnd.microsoft.datawrangler.viewer.v0+json": {
       "columns": [
        {
         "name": "codigo",
         "rawType": "int64",
         "type": "integer"
        },
        {
         "name": "count",
         "rawType": "int64",
         "type": "integer"
        }
       ],
       "ref": "53a16fa8-b2b2-4fd2-9225-536e55850cae",
       "rows": [
        [
         "71000",
         "257"
        ],
        [
         "80000",
         "180"
        ],
        [
         "62000",
         "177"
        ],
        [
         "62500",
         "177"
        ],
        [
         "64000",
         "177"
        ],
        [
         "11000",
         "159"
        ],
        [
         "91901",
         "159"
        ],
        [
         "10100",
         "158"
        ],
        [
         "88000",
         "158"
        ],
        [
         "84700",
         "158"
        ],
        [
         "84310",
         "157"
        ],
        [
         "84000",
         "157"
        ],
        [
         "84200",
         "153"
        ],
        [
         "11100",
         "135"
        ],
        [
         "20000",
         "120"
        ],
        [
         "65701",
         "115"
        ],
        [
         "20001",
         "115"
        ],
        [
         "91619",
         "106"
        ],
        [
         "91645",
         "99"
        ],
        [
         "81000",
         "98"
        ],
        [
         "91613",
         "98"
        ],
        [
         "44021",
         "95"
        ],
        [
         "91624",
         "88"
        ],
        [
         "81147",
         "87"
        ],
        [
         "70000",
         "87"
        ],
        [
         "51214",
         "86"
        ],
        [
         "91665",
         "86"
        ],
        [
         "91661",
         "84"
        ],
        [
         "85000",
         "80"
        ],
        [
         "95380",
         "80"
        ],
        [
         "32200",
         "80"
        ],
        [
         "65706",
         "80"
        ],
        [
         "32400",
         "80"
        ],
        [
         "85200",
         "80"
        ],
        [
         "81600",
         "80"
        ],
        [
         "67200",
         "80"
        ],
        [
         "88133",
         "80"
        ],
        [
         "14000",
         "80"
        ],
        [
         "89144",
         "80"
        ],
        [
         "82117",
         "80"
        ],
        [
         "53000",
         "80"
        ],
        [
         "82200",
         "80"
        ],
        [
         "82700",
         "79"
        ],
        [
         "81402",
         "79"
        ],
        [
         "81401",
         "79"
        ],
        [
         "83702",
         "79"
        ],
        [
         "83701",
         "79"
        ],
        [
         "11001",
         "79"
        ],
        [
         "83401",
         "79"
        ],
        [
         "85400",
         "79"
        ]
       ],
       "shape": {
        "columns": 1,
        "rows": 239
       }
      },
      "text/plain": [
       "codigo\n",
       "71000    257\n",
       "80000    180\n",
       "62000    177\n",
       "62500    177\n",
       "64000    177\n",
       "        ... \n",
       "11129      1\n",
       "11131      1\n",
       "11132      1\n",
       "11134      1\n",
       "84120      1\n",
       "Name: count, Length: 239, dtype: int64"
      ]
     },
     "execution_count": 166,
     "metadata": {},
     "output_type": "execute_result"
    }
   ],
   "source": [
    "mmm_receita_despesa.codigo.value_counts()"
   ]
  },
  {
   "cell_type": "code",
   "execution_count": 178,
   "id": "50ecaf6a",
   "metadata": {},
   "outputs": [
    {
     "data": {
      "application/vnd.microsoft.datawrangler.viewer.v0+json": {
       "columns": [
        {
         "name": "index",
         "rawType": "int64",
         "type": "integer"
        },
        {
         "name": "mes",
         "rawType": "int64",
         "type": "integer"
        },
        {
         "name": "ano",
         "rawType": "int64",
         "type": "integer"
        },
        {
         "name": "codigo",
         "rawType": "int64",
         "type": "integer"
        },
        {
         "name": "codigo_etapa",
         "rawType": "int64",
         "type": "integer"
        },
        {
         "name": "quantidade",
         "rawType": "float64",
         "type": "float"
        }
       ],
       "ref": "94f4c9bd-ab1a-4070-b904-a1e2020a9f85",
       "rows": [
        [
         "204",
         "1",
         "2019",
         "51207",
         "102",
         "129.0"
        ],
        [
         "206",
         "1",
         "2019",
         "51207",
         "104",
         "138.0"
        ],
        [
         "214",
         "1",
         "2019",
         "51210",
         "102",
         "1227.0"
        ],
        [
         "216",
         "1",
         "2019",
         "51210",
         "104",
         "1345.0"
        ],
        [
         "341",
         "1",
         "2019",
         "65705",
         "102",
         "2.0"
        ],
        [
         "343",
         "1",
         "2019",
         "65705",
         "104",
         "1.0"
        ],
        [
         "513",
         "1",
         "2019",
         "81148",
         "102",
         "191.0"
        ],
        [
         "515",
         "1",
         "2019",
         "81148",
         "104",
         "246.0"
        ],
        [
         "553",
         "1",
         "2019",
         "82019",
         "102",
         "696.0"
        ],
        [
         "555",
         "1",
         "2019",
         "82019",
         "104",
         "345.0"
        ],
        [
         "560",
         "1",
         "2019",
         "82024",
         "102",
         "98.0"
        ],
        [
         "562",
         "1",
         "2019",
         "82024",
         "104",
         "91.0"
        ],
        [
         "566",
         "1",
         "2019",
         "82025",
         "102",
         "140.0"
        ],
        [
         "568",
         "1",
         "2019",
         "82025",
         "104",
         "69.0"
        ],
        [
         "601",
         "1",
         "2019",
         "82512",
         "102",
         "147.0"
        ],
        [
         "603",
         "1",
         "2019",
         "82512",
         "104",
         "144.0"
        ],
        [
         "635",
         "1",
         "2019",
         "83140",
         "102",
         "76.0"
        ],
        [
         "637",
         "1",
         "2019",
         "83140",
         "104",
         "32.0"
        ],
        [
         "641",
         "1",
         "2019",
         "83142",
         "102",
         "469.0"
        ],
        [
         "642",
         "1",
         "2019",
         "83142",
         "104",
         "274.0"
        ],
        [
         "657",
         "1",
         "2019",
         "83340",
         "102",
         "62.0"
        ],
        [
         "659",
         "1",
         "2019",
         "83340",
         "104",
         "145.0"
        ],
        [
         "676",
         "1",
         "2019",
         "83511",
         "102",
         "411.0"
        ],
        [
         "677",
         "1",
         "2019",
         "83511",
         "104",
         "411.0"
        ],
        [
         "719",
         "1",
         "2019",
         "84115",
         "102",
         "8.0"
        ],
        [
         "721",
         "1",
         "2019",
         "84115",
         "104",
         "9.0"
        ],
        [
         "728",
         "1",
         "2019",
         "84122",
         "102",
         "285.0"
        ],
        [
         "730",
         "1",
         "2019",
         "84122",
         "104",
         "230.0"
        ],
        [
         "736",
         "1",
         "2019",
         "84124",
         "102",
         "529.0"
        ],
        [
         "738",
         "1",
         "2019",
         "84124",
         "104",
         "379.0"
        ],
        [
         "839",
         "1",
         "2019",
         "85511",
         "102",
         "97.0"
        ],
        [
         "841",
         "1",
         "2019",
         "85511",
         "104",
         "105.0"
        ],
        [
         "876",
         "1",
         "2019",
         "86200",
         "102",
         "47.0"
        ],
        [
         "878",
         "1",
         "2019",
         "86200",
         "104",
         "351.0"
        ],
        [
         "946",
         "1",
         "2019",
         "88133",
         "102",
         "1200.0"
        ],
        [
         "948",
         "1",
         "2019",
         "88133",
         "104",
         "699.0"
        ],
        [
         "991",
         "1",
         "2019",
         "89145",
         "102",
         "9.0"
        ],
        [
         "993",
         "1",
         "2019",
         "89145",
         "104",
         "17.0"
        ],
        [
         "1076",
         "1",
         "2019",
         "91613",
         "102",
         "442.0"
        ],
        [
         "1078",
         "1",
         "2019",
         "91613",
         "104",
         "855.0"
        ],
        [
         "1084",
         "1",
         "2019",
         "91619",
         "102",
         "1068.0"
        ],
        [
         "1086",
         "1",
         "2019",
         "91619",
         "104",
         "938.0"
        ],
        [
         "1094",
         "1",
         "2019",
         "91624",
         "102",
         "1505.0"
        ],
        [
         "1096",
         "1",
         "2019",
         "91624",
         "104",
         "1917.0"
        ],
        [
         "1122",
         "1",
         "2019",
         "91902",
         "104",
         "1.0"
        ],
        [
         "1158",
         "1",
         "2019",
         "95320",
         "102",
         "72.0"
        ],
        [
         "1160",
         "1",
         "2019",
         "95320",
         "104",
         "58.0"
        ],
        [
         "1395",
         "2",
         "2019",
         "51207",
         "102",
         "440.0"
        ],
        [
         "1397",
         "2",
         "2019",
         "51207",
         "104",
         "540.0"
        ],
        [
         "1404",
         "2",
         "2019",
         "51210",
         "102",
         "1108.0"
        ]
       ],
       "shape": {
        "columns": 5,
        "rows": 4875
       }
      },
      "text/html": [
       "<div>\n",
       "<style scoped>\n",
       "    .dataframe tbody tr th:only-of-type {\n",
       "        vertical-align: middle;\n",
       "    }\n",
       "\n",
       "    .dataframe tbody tr th {\n",
       "        vertical-align: top;\n",
       "    }\n",
       "\n",
       "    .dataframe thead th {\n",
       "        text-align: right;\n",
       "    }\n",
       "</style>\n",
       "<table border=\"1\" class=\"dataframe\">\n",
       "  <thead>\n",
       "    <tr style=\"text-align: right;\">\n",
       "      <th></th>\n",
       "      <th>mes</th>\n",
       "      <th>ano</th>\n",
       "      <th>codigo</th>\n",
       "      <th>codigo_etapa</th>\n",
       "      <th>quantidade</th>\n",
       "    </tr>\n",
       "  </thead>\n",
       "  <tbody>\n",
       "    <tr>\n",
       "      <th>204</th>\n",
       "      <td>1</td>\n",
       "      <td>2019</td>\n",
       "      <td>51207</td>\n",
       "      <td>102</td>\n",
       "      <td>129.0</td>\n",
       "    </tr>\n",
       "    <tr>\n",
       "      <th>206</th>\n",
       "      <td>1</td>\n",
       "      <td>2019</td>\n",
       "      <td>51207</td>\n",
       "      <td>104</td>\n",
       "      <td>138.0</td>\n",
       "    </tr>\n",
       "    <tr>\n",
       "      <th>214</th>\n",
       "      <td>1</td>\n",
       "      <td>2019</td>\n",
       "      <td>51210</td>\n",
       "      <td>102</td>\n",
       "      <td>1227.0</td>\n",
       "    </tr>\n",
       "    <tr>\n",
       "      <th>216</th>\n",
       "      <td>1</td>\n",
       "      <td>2019</td>\n",
       "      <td>51210</td>\n",
       "      <td>104</td>\n",
       "      <td>1345.0</td>\n",
       "    </tr>\n",
       "    <tr>\n",
       "      <th>341</th>\n",
       "      <td>1</td>\n",
       "      <td>2019</td>\n",
       "      <td>65705</td>\n",
       "      <td>102</td>\n",
       "      <td>2.0</td>\n",
       "    </tr>\n",
       "    <tr>\n",
       "      <th>...</th>\n",
       "      <td>...</td>\n",
       "      <td>...</td>\n",
       "      <td>...</td>\n",
       "      <td>...</td>\n",
       "      <td>...</td>\n",
       "    </tr>\n",
       "    <tr>\n",
       "      <th>105384</th>\n",
       "      <td>7</td>\n",
       "      <td>2025</td>\n",
       "      <td>91613</td>\n",
       "      <td>104</td>\n",
       "      <td>261.0</td>\n",
       "    </tr>\n",
       "    <tr>\n",
       "      <th>105388</th>\n",
       "      <td>7</td>\n",
       "      <td>2025</td>\n",
       "      <td>91615</td>\n",
       "      <td>102</td>\n",
       "      <td>1185.0</td>\n",
       "    </tr>\n",
       "    <tr>\n",
       "      <th>105390</th>\n",
       "      <td>7</td>\n",
       "      <td>2025</td>\n",
       "      <td>91615</td>\n",
       "      <td>104</td>\n",
       "      <td>637.0</td>\n",
       "    </tr>\n",
       "    <tr>\n",
       "      <th>105460</th>\n",
       "      <td>7</td>\n",
       "      <td>2025</td>\n",
       "      <td>95140</td>\n",
       "      <td>102</td>\n",
       "      <td>192.0</td>\n",
       "    </tr>\n",
       "    <tr>\n",
       "      <th>105462</th>\n",
       "      <td>7</td>\n",
       "      <td>2025</td>\n",
       "      <td>95140</td>\n",
       "      <td>104</td>\n",
       "      <td>741.0</td>\n",
       "    </tr>\n",
       "  </tbody>\n",
       "</table>\n",
       "<p>4875 rows × 5 columns</p>\n",
       "</div>"
      ],
      "text/plain": [
       "        mes   ano  codigo  codigo_etapa  quantidade\n",
       "204       1  2019   51207           102       129.0\n",
       "206       1  2019   51207           104       138.0\n",
       "214       1  2019   51210           102      1227.0\n",
       "216       1  2019   51210           104      1345.0\n",
       "341       1  2019   65705           102         2.0\n",
       "...     ...   ...     ...           ...         ...\n",
       "105384    7  2025   91613           104       261.0\n",
       "105388    7  2025   91615           102      1185.0\n",
       "105390    7  2025   91615           104       637.0\n",
       "105460    7  2025   95140           102       192.0\n",
       "105462    7  2025   95140           104       741.0\n",
       "\n",
       "[4875 rows x 5 columns]"
      ]
     },
     "execution_count": 178,
     "metadata": {},
     "output_type": "execute_result"
    }
   ],
   "source": [
    "etapas[etapas.codigo_etapa.isin([102, 104])]"
   ]
  },
  {
   "cell_type": "code",
   "execution_count": 179,
   "id": "0f51d785",
   "metadata": {},
   "outputs": [],
   "source": [
    "mmm_etapas = pd.merge(left=mmm, right=etapas, how='inner', on=['ano', 'mes', 'codigo'])"
   ]
  },
  {
   "cell_type": "code",
   "execution_count": 182,
   "id": "4fe04974",
   "metadata": {},
   "outputs": [
    {
     "data": {
      "application/vnd.microsoft.datawrangler.viewer.v0+json": {
       "columns": [
        {
         "name": "index",
         "rawType": "int64",
         "type": "integer"
        },
        {
         "name": "ano",
         "rawType": "int64",
         "type": "integer"
        },
        {
         "name": "mes",
         "rawType": "int64",
         "type": "integer"
        },
        {
         "name": "nome",
         "rawType": "object",
         "type": "string"
        },
        {
         "name": "codigo_etapa",
         "rawType": "int64",
         "type": "integer"
        },
        {
         "name": "quantidade",
         "rawType": "float64",
         "type": "float"
        }
       ],
       "ref": "7cdb41f1-a7e2-43fb-9d7e-ab619b18542d",
       "rows": [
        [
         "1",
         "2019",
         "1",
         "1° BATALHAO DE OPERAÇOES LITORANEAS DE FUZILEIROS NAVAIS",
         "103",
         "19537.0"
        ],
        [
         "3",
         "2019",
         "1",
         "1º Batalhão de Operações Ribeirinhas",
         "103",
         "11422.0"
        ],
        [
         "8",
         "2019",
         "1",
         "2° BATALHÃO DE OPERAÇÕES LITORÂNEAS DE FUZILEIROS NAVAIS",
         "103",
         "5767.0"
        ],
        [
         "9",
         "2019",
         "1",
         "2° BATALHÃO DE OPERAÇÕES LITORÂNEAS DE FUZILEIROS NAVAIS",
         "105",
         "42.0"
        ],
        [
         "12",
         "2019",
         "1",
         "2º BATALHÃO DE OPERAÇÕES RIBEIRINHAS",
         "103",
         "8768.0"
        ],
        [
         "15",
         "2019",
         "1",
         "3° BATALHÃO DE OPERAÇÕES LITORÂNEAS DE FUZILEIROS NAVAIS",
         "103",
         "2624.0"
        ],
        [
         "19",
         "2019",
         "1",
         "3º BATALHÃO DE PROTEÇÃO E DEFESA NBQR",
         "103",
         "8122.0"
        ],
        [
         "20",
         "2019",
         "1",
         "3º BATALHÃO DE PROTEÇÃO E DEFESA NBQR",
         "105",
         "23.0"
        ],
        [
         "24",
         "2019",
         "1",
         "ARSENAL DE MARINHA DO RIO DE JANEIRO",
         "103",
         "20080.0"
        ],
        [
         "25",
         "2019",
         "1",
         "ARSENAL DE MARINHA DO RIO DE JANEIRO",
         "105",
         "10786.0"
        ],
        [
         "31",
         "2019",
         "1",
         "BASE ALMIRANTE CASTRO E SILVA",
         "103",
         "5925.0"
        ],
        [
         "32",
         "2019",
         "1",
         "BASE ALMIRANTE CASTRO E SILVA",
         "105",
         "161.0"
        ],
        [
         "35",
         "2019",
         "1",
         "BASE AÉREA NAVAL DE SÃO PEDRO DA ALDEIA",
         "103",
         "5069.0"
        ],
        [
         "36",
         "2019",
         "1",
         "BASE AÉREA NAVAL DE SÃO PEDRO DA ALDEIA",
         "105",
         "547.0"
        ],
        [
         "39",
         "2019",
         "1",
         "BASE DE ABASTECIMENTO DA MARINHA NO RIO DE JANEIRO",
         "103",
         "1849.0"
        ],
        [
         "40",
         "2019",
         "1",
         "BASE DE ABASTECIMENTO DA MARINHA NO RIO DE JANEIRO",
         "105",
         "349.0"
        ],
        [
         "44",
         "2019",
         "1",
         "BASE DE FUZILEIROS NAVAIS DA ILHA DAS FLORES",
         "103",
         "4175.0"
        ],
        [
         "46",
         "2019",
         "1",
         "BASE DE FUZILEIROS NAVAIS DA ILHA DO GOVERNADOR",
         "103",
         "4613.0"
        ],
        [
         "47",
         "2019",
         "1",
         "BASE DE FUZILEIROS NAVAIS DA ILHA DO GOVERNADOR",
         "105",
         "4.0"
        ],
        [
         "49",
         "2019",
         "1",
         "BASE DE FUZILEIROS NAVAIS DO RIO MERITI",
         "103",
         "4374.0"
        ],
        [
         "53",
         "2019",
         "1",
         "BASE DE HIDROGRAFIA DA MARINHA EM NITERÓI",
         "103",
         "3484.0"
        ],
        [
         "54",
         "2019",
         "1",
         "BASE DE HIDROGRAFIA DA MARINHA EM NITERÓI",
         "105",
         "1298.0"
        ],
        [
         "58",
         "2019",
         "1",
         "BASE FLUVIAL DE LADÁRIO",
         "103",
         "3233.0"
        ],
        [
         "59",
         "2019",
         "1",
         "BASE FLUVIAL DE LADÁRIO",
         "105",
         "198.0"
        ],
        [
         "64",
         "2019",
         "1",
         "BASE NAVAL DE ARATU",
         "103",
         "8111.0"
        ],
        [
         "65",
         "2019",
         "1",
         "BASE NAVAL DE ARATU",
         "105",
         "1734.0"
        ],
        [
         "70",
         "2019",
         "1",
         "BASE NAVAL DE NATAL",
         "103",
         "8602.0"
        ],
        [
         "71",
         "2019",
         "1",
         "BASE NAVAL DE NATAL",
         "105",
         "852.0"
        ],
        [
         "75",
         "2019",
         "1",
         "BASE NAVAL DE VAL-DE-CÃES",
         "103",
         "7119.0"
        ],
        [
         "76",
         "2019",
         "1",
         "BASE NAVAL DE VAL-DE-CÃES",
         "105",
         "1775.0"
        ],
        [
         "80",
         "2019",
         "1",
         "BASE NAVAL DO RIO DE JANEIRO",
         "103",
         "11573.0"
        ],
        [
         "81",
         "2019",
         "1",
         "BASE NAVAL DO RIO DE JANEIRO",
         "105",
         "161.0"
        ],
        [
         "84",
         "2019",
         "1",
         "BATALHÃO DE OPERAÇÕES ESPECIAIS DE FUZILEIROS NAVAIS",
         "103",
         "4093.0"
        ],
        [
         "87",
         "2019",
         "1",
         "BATALHÃO NAVAL",
         "103",
         "4613.0"
        ],
        [
         "89",
         "2019",
         "1",
         "CAPITANIA DOS PORTOS DA AMAZONIA ORIENTAL",
         "103",
         "1477.0"
        ],
        [
         "90",
         "2019",
         "1",
         "CAPITANIA DOS PORTOS DA AMAZONIA ORIENTAL",
         "105",
         "294.0"
        ],
        [
         "95",
         "2019",
         "1",
         "CAPITANIA DOS PORTOS DE PERNAMBUCO",
         "103",
         "2042.0"
        ],
        [
         "97",
         "2019",
         "1",
         "CAPITANIA DOS PORTOS DE PERNAMBUCO",
         "105",
         "105.0"
        ],
        [
         "101",
         "2019",
         "1",
         "CAPITANIA DOS PORTOS DE SANTA CATARINA",
         "103",
         "1233.0"
        ],
        [
         "102",
         "2019",
         "1",
         "CAPITANIA DOS PORTOS DE SANTA CATARINA",
         "105",
         "5.0"
        ],
        [
         "105",
         "2019",
         "1",
         "CAPITANIA DOS PORTOS DO CEARÁ",
         "103",
         "1364.0"
        ],
        [
         "106",
         "2019",
         "1",
         "CAPITANIA DOS PORTOS DO CEARÁ",
         "105",
         "54.0"
        ],
        [
         "110",
         "2019",
         "1",
         "CAPITANIA DOS PORTOS DO ESPÍRITO SANTO",
         "103",
         "1372.0"
        ],
        [
         "111",
         "2019",
         "1",
         "CAPITANIA DOS PORTOS DO ESPÍRITO SANTO",
         "105",
         "242.0"
        ],
        [
         "115",
         "2019",
         "1",
         "CAPITANIA DOS PORTOS DO MARANHÃO",
         "103",
         "629.0"
        ],
        [
         "116",
         "2019",
         "1",
         "CAPITANIA DOS PORTOS DO MARANHÃO",
         "105",
         "207.0"
        ],
        [
         "120",
         "2019",
         "1",
         "CAPITANIA DOS PORTOS DO PARANÁ",
         "103",
         "886.0"
        ],
        [
         "121",
         "2019",
         "1",
         "CAPITANIA DOS PORTOS DO PARANÁ",
         "105",
         "132.0"
        ],
        [
         "124",
         "2019",
         "1",
         "CAPITANIA DOS PORTOS DO PIAUI",
         "103",
         "414.0"
        ],
        [
         "125",
         "2019",
         "1",
         "CAPITANIA DOS PORTOS DO PIAUI",
         "105",
         "155.0"
        ]
       ],
       "shape": {
        "columns": 5,
        "rows": 17101
       }
      },
      "text/html": [
       "<div>\n",
       "<style scoped>\n",
       "    .dataframe tbody tr th:only-of-type {\n",
       "        vertical-align: middle;\n",
       "    }\n",
       "\n",
       "    .dataframe tbody tr th {\n",
       "        vertical-align: top;\n",
       "    }\n",
       "\n",
       "    .dataframe thead th {\n",
       "        text-align: right;\n",
       "    }\n",
       "</style>\n",
       "<table border=\"1\" class=\"dataframe\">\n",
       "  <thead>\n",
       "    <tr style=\"text-align: right;\">\n",
       "      <th></th>\n",
       "      <th>ano</th>\n",
       "      <th>mes</th>\n",
       "      <th>nome</th>\n",
       "      <th>codigo_etapa</th>\n",
       "      <th>quantidade</th>\n",
       "    </tr>\n",
       "  </thead>\n",
       "  <tbody>\n",
       "    <tr>\n",
       "      <th>1</th>\n",
       "      <td>2019</td>\n",
       "      <td>1</td>\n",
       "      <td>1° BATALHAO DE OPERAÇOES LITORANEAS DE FUZILEI...</td>\n",
       "      <td>103</td>\n",
       "      <td>19537.0</td>\n",
       "    </tr>\n",
       "    <tr>\n",
       "      <th>3</th>\n",
       "      <td>2019</td>\n",
       "      <td>1</td>\n",
       "      <td>1º Batalhão de Operações Ribeirinhas</td>\n",
       "      <td>103</td>\n",
       "      <td>11422.0</td>\n",
       "    </tr>\n",
       "    <tr>\n",
       "      <th>8</th>\n",
       "      <td>2019</td>\n",
       "      <td>1</td>\n",
       "      <td>2° BATALHÃO DE OPERAÇÕES LITORÂNEAS DE FUZILEI...</td>\n",
       "      <td>103</td>\n",
       "      <td>5767.0</td>\n",
       "    </tr>\n",
       "    <tr>\n",
       "      <th>9</th>\n",
       "      <td>2019</td>\n",
       "      <td>1</td>\n",
       "      <td>2° BATALHÃO DE OPERAÇÕES LITORÂNEAS DE FUZILEI...</td>\n",
       "      <td>105</td>\n",
       "      <td>42.0</td>\n",
       "    </tr>\n",
       "    <tr>\n",
       "      <th>12</th>\n",
       "      <td>2019</td>\n",
       "      <td>1</td>\n",
       "      <td>2º BATALHÃO DE OPERAÇÕES RIBEIRINHAS</td>\n",
       "      <td>103</td>\n",
       "      <td>8768.0</td>\n",
       "    </tr>\n",
       "    <tr>\n",
       "      <th>...</th>\n",
       "      <td>...</td>\n",
       "      <td>...</td>\n",
       "      <td>...</td>\n",
       "      <td>...</td>\n",
       "      <td>...</td>\n",
       "    </tr>\n",
       "    <tr>\n",
       "      <th>60071</th>\n",
       "      <td>2025</td>\n",
       "      <td>7</td>\n",
       "      <td>SUBMARINO TUPI</td>\n",
       "      <td>103</td>\n",
       "      <td>624.0</td>\n",
       "    </tr>\n",
       "    <tr>\n",
       "      <th>60074</th>\n",
       "      <td>2025</td>\n",
       "      <td>7</td>\n",
       "      <td>Submarino Humaitá</td>\n",
       "      <td>103</td>\n",
       "      <td>132.0</td>\n",
       "    </tr>\n",
       "    <tr>\n",
       "      <th>60077</th>\n",
       "      <td>2025</td>\n",
       "      <td>7</td>\n",
       "      <td>Submarino Riachuelo</td>\n",
       "      <td>103</td>\n",
       "      <td>206.0</td>\n",
       "    </tr>\n",
       "    <tr>\n",
       "      <th>60080</th>\n",
       "      <td>2025</td>\n",
       "      <td>7</td>\n",
       "      <td>TRIBUNAL MARÍTIMO</td>\n",
       "      <td>103</td>\n",
       "      <td>490.0</td>\n",
       "    </tr>\n",
       "    <tr>\n",
       "      <th>60081</th>\n",
       "      <td>2025</td>\n",
       "      <td>7</td>\n",
       "      <td>TRIBUNAL MARÍTIMO</td>\n",
       "      <td>105</td>\n",
       "      <td>171.0</td>\n",
       "    </tr>\n",
       "  </tbody>\n",
       "</table>\n",
       "<p>17101 rows × 5 columns</p>\n",
       "</div>"
      ],
      "text/plain": [
       "        ano  mes                                               nome  \\\n",
       "1      2019    1  1° BATALHAO DE OPERAÇOES LITORANEAS DE FUZILEI...   \n",
       "3      2019    1               1º Batalhão de Operações Ribeirinhas   \n",
       "8      2019    1  2° BATALHÃO DE OPERAÇÕES LITORÂNEAS DE FUZILEI...   \n",
       "9      2019    1  2° BATALHÃO DE OPERAÇÕES LITORÂNEAS DE FUZILEI...   \n",
       "12     2019    1               2º BATALHÃO DE OPERAÇÕES RIBEIRINHAS   \n",
       "...     ...  ...                                                ...   \n",
       "60071  2025    7                                     SUBMARINO TUPI   \n",
       "60074  2025    7                                  Submarino Humaitá   \n",
       "60077  2025    7                                Submarino Riachuelo   \n",
       "60080  2025    7                                  TRIBUNAL MARÍTIMO   \n",
       "60081  2025    7                                  TRIBUNAL MARÍTIMO   \n",
       "\n",
       "       codigo_etapa  quantidade  \n",
       "1               103     19537.0  \n",
       "3               103     11422.0  \n",
       "8               103      5767.0  \n",
       "9               105        42.0  \n",
       "12              103      8768.0  \n",
       "...             ...         ...  \n",
       "60071           103       624.0  \n",
       "60074           103       132.0  \n",
       "60077           103       206.0  \n",
       "60080           103       490.0  \n",
       "60081           105       171.0  \n",
       "\n",
       "[17101 rows x 5 columns]"
      ]
     },
     "execution_count": 182,
     "metadata": {},
     "output_type": "execute_result"
    }
   ],
   "source": [
    "mmm_etapas[mmm_etapas.codigo_etapa.isin([103, 105])][['ano', 'mes', 'nome', 'codigo_etapa', 'quantidade']]"
   ]
  },
  {
   "cell_type": "code",
   "execution_count": 143,
   "id": "f752e514",
   "metadata": {},
   "outputs": [
    {
     "data": {
      "application/vnd.microsoft.datawrangler.viewer.v0+json": {
       "columns": [
        {
         "name": "index",
         "rawType": "int64",
         "type": "integer"
        },
        {
         "name": "diferenca",
         "rawType": "float64",
         "type": "float"
        },
        {
         "name": "sobra_licita",
         "rawType": "float64",
         "type": "float"
        }
       ],
       "ref": "b3c0267b-a364-47e5-9eb4-72f269e3f1db",
       "rows": [
        [
         "0",
         "24403.089999999997",
         "24403.07"
        ],
        [
         "1",
         "4886.681999999972",
         "4886.67"
        ],
        [
         "2",
         "4203.070000000007",
         "4203.05"
        ],
        [
         "3",
         "2500.6824999999953",
         "2500.68"
        ],
        [
         "4",
         "14567.727210000001",
         "14567.74"
        ],
        [
         "5",
         "13884.805500000017",
         "13884.74"
        ],
        [
         "6",
         "-80217.47984999989",
         "97532.68"
        ],
        [
         "7",
         "-83689.46000000002",
         "34838.43"
        ],
        [
         "8",
         "-272778.44",
         "100062.33"
        ],
        [
         "9",
         "-130761.02503299998",
         "32295.89"
        ],
        [
         "10",
         "-86145.0575",
         "24121.38"
        ],
        [
         "11",
         "-553493.9915",
         "22773.53"
        ],
        [
         "12",
         "-122841.1109",
         "46137.14"
        ],
        [
         "13",
         "-178227.968",
         "21925.9"
        ],
        [
         "14",
         "-214579.85562",
         "21658.83"
        ],
        [
         "15",
         "-21645.020007500018",
         "25707.49"
        ],
        [
         "16",
         "-7871.369999999995",
         "30960.86"
        ],
        [
         "17",
         "-59036.610000000015",
         "9530.99"
        ],
        [
         "18",
         "-225862.8",
         "71397.31"
        ],
        [
         "19",
         "22780.4577",
         "22780.45"
        ],
        [
         "20",
         "-187444.91579999996",
         "31451.68"
        ],
        [
         "21",
         "9203.25",
         "9203.26"
        ],
        [
         "22",
         "9770.89172",
         "9770.9"
        ],
        [
         "23",
         "3175.1849999999977",
         "3175.18"
        ],
        [
         "24",
         "6549.689849999999",
         "6549.68"
        ],
        [
         "25",
         "11138.720000000001",
         "11138.7"
        ],
        [
         "26",
         "3920.8199999999997",
         "3920.84"
        ],
        [
         "27",
         "4742.0740000000005",
         "4742.09"
        ],
        [
         "28",
         "4325.810000000001",
         "4325.8"
        ],
        [
         "29",
         "3076.399999999998",
         "3076.38"
        ],
        [
         "30",
         "169.23258999999962",
         "169.24"
        ],
        [
         "31",
         "6433.310000000001",
         "6433.31"
        ],
        [
         "32",
         "3211.4399999999987",
         "3211.44"
        ],
        [
         "33",
         "454.18020799999795",
         "454.18"
        ],
        [
         "34",
         "25450.922749999998",
         "25450.93"
        ],
        [
         "35",
         "81838.3225401",
         "81838.24"
        ],
        [
         "36",
         "69867.0142",
         "69867.03"
        ],
        [
         "37",
         "76418.68458000012",
         "101348.51"
        ],
        [
         "38",
         "65856.29999999999",
         "65856.29"
        ],
        [
         "39",
         "41095.89955000003",
         "41095.88"
        ],
        [
         "40",
         "97508.5048",
         "111200.05"
        ],
        [
         "41",
         "259758.58599999998",
         "259758.51"
        ],
        [
         "42",
         "20224.766000000003",
         "20224.73"
        ],
        [
         "43",
         "16310.044599999994",
         "16310.0"
        ],
        [
         "44",
         "-3224.3500000000004",
         "766.8"
        ],
        [
         "45",
         "-41178.642050000024",
         "8582.35"
        ],
        [
         "46",
         "25027.59000000001",
         "25027.57"
        ],
        [
         "47",
         "5083.572500000002",
         "5083.56"
        ],
        [
         "48",
         "88088.85999999999",
         "88088.87"
        ],
        [
         "49",
         "13480.880000000005",
         "13480.86"
        ]
       ],
       "shape": {
        "columns": 2,
        "rows": 12284
       }
      },
      "text/html": [
       "<div>\n",
       "<style scoped>\n",
       "    .dataframe tbody tr th:only-of-type {\n",
       "        vertical-align: middle;\n",
       "    }\n",
       "\n",
       "    .dataframe tbody tr th {\n",
       "        vertical-align: top;\n",
       "    }\n",
       "\n",
       "    .dataframe thead th {\n",
       "        text-align: right;\n",
       "    }\n",
       "</style>\n",
       "<table border=\"1\" class=\"dataframe\">\n",
       "  <thead>\n",
       "    <tr style=\"text-align: right;\">\n",
       "      <th></th>\n",
       "      <th>diferenca</th>\n",
       "      <th>sobra_licita</th>\n",
       "    </tr>\n",
       "  </thead>\n",
       "  <tbody>\n",
       "    <tr>\n",
       "      <th>0</th>\n",
       "      <td>24403.09000</td>\n",
       "      <td>24403.07</td>\n",
       "    </tr>\n",
       "    <tr>\n",
       "      <th>1</th>\n",
       "      <td>4886.68200</td>\n",
       "      <td>4886.67</td>\n",
       "    </tr>\n",
       "    <tr>\n",
       "      <th>2</th>\n",
       "      <td>4203.07000</td>\n",
       "      <td>4203.05</td>\n",
       "    </tr>\n",
       "    <tr>\n",
       "      <th>3</th>\n",
       "      <td>2500.68250</td>\n",
       "      <td>2500.68</td>\n",
       "    </tr>\n",
       "    <tr>\n",
       "      <th>4</th>\n",
       "      <td>14567.72721</td>\n",
       "      <td>14567.74</td>\n",
       "    </tr>\n",
       "    <tr>\n",
       "      <th>...</th>\n",
       "      <td>...</td>\n",
       "      <td>...</td>\n",
       "    </tr>\n",
       "    <tr>\n",
       "      <th>12279</th>\n",
       "      <td>0.00000</td>\n",
       "      <td>NaN</td>\n",
       "    </tr>\n",
       "    <tr>\n",
       "      <th>12280</th>\n",
       "      <td>0.00000</td>\n",
       "      <td>0.00</td>\n",
       "    </tr>\n",
       "    <tr>\n",
       "      <th>12281</th>\n",
       "      <td>11299.59000</td>\n",
       "      <td>NaN</td>\n",
       "    </tr>\n",
       "    <tr>\n",
       "      <th>12282</th>\n",
       "      <td>27553.50000</td>\n",
       "      <td>24798.15</td>\n",
       "    </tr>\n",
       "    <tr>\n",
       "      <th>12283</th>\n",
       "      <td>40905.00000</td>\n",
       "      <td>7960.04</td>\n",
       "    </tr>\n",
       "  </tbody>\n",
       "</table>\n",
       "<p>12284 rows × 2 columns</p>\n",
       "</div>"
      ],
      "text/plain": [
       "         diferenca  sobra_licita\n",
       "0      24403.09000      24403.07\n",
       "1       4886.68200       4886.67\n",
       "2       4203.07000       4203.05\n",
       "3       2500.68250       2500.68\n",
       "4      14567.72721      14567.74\n",
       "...            ...           ...\n",
       "12279      0.00000           NaN\n",
       "12280      0.00000          0.00\n",
       "12281  11299.59000           NaN\n",
       "12282  27553.50000      24798.15\n",
       "12283  40905.00000       7960.04\n",
       "\n",
       "[12284 rows x 2 columns]"
      ]
     },
     "execution_count": 143,
     "metadata": {},
     "output_type": "execute_result"
    }
   ],
   "source": [
    "pd.DataFrame({\n",
    "    'diferenca': mmm_receita_despesa.despesa_autorizada_global - (mmm_receita_despesa.generos_consumidos + mmm_receita_despesa.vale_extra),\n",
    "    'sobra_licita': mmm_receita_despesa.sobra_licita\n",
    "})"
   ]
  },
  {
   "cell_type": "code",
   "execution_count": 89,
   "id": "41d994ae",
   "metadata": {},
   "outputs": [
    {
     "data": {
      "application/vnd.plotly.v1+json": {
       "config": {
        "plotlyServerURL": "https://plot.ly"
       },
       "data": [
        {
         "hovertemplate": "mes=%{x}<br>despesa_autorizada_global=%{y}<extra></extra>",
         "legendgroup": "",
         "line": {
          "color": "#636efa",
          "dash": "solid"
         },
         "marker": {
          "symbol": "circle"
         },
         "mode": "lines",
         "name": "",
         "orientation": "v",
         "showlegend": false,
         "type": "scatter",
         "x": [
          "01_2019",
          "02_2019",
          "03_2019",
          "04_2019",
          "05_2019",
          "06_2019",
          "07_2019",
          "08_2019",
          "09_2019",
          "10_2019",
          "11_2019",
          "12_2019",
          "01_2020",
          "02_2020",
          "03_2020",
          "04_2020",
          "05_2020",
          "06_2020",
          "07_2020",
          "08_2020",
          "09_2020",
          "10_2020",
          "11_2020",
          "12_2020",
          "01_2021",
          "02_2021",
          "03_2021",
          "04_2021",
          "05_2021",
          "06_2021",
          "07_2021",
          "08_2021",
          "09_2021",
          "10_2021",
          "11_2021",
          "12_2021",
          "01_2022",
          "02_2022",
          "03_2022",
          "04_2022",
          "05_2022",
          "06_2022",
          "07_2022",
          "08_2022",
          "09_2022",
          "10_2022",
          "11_2022",
          "12_2022",
          "01_2023",
          "02_2023",
          "03_2023",
          "04_2023",
          "05_2023",
          "06_2023",
          "07_2023",
          "08_2023",
          "09_2023",
          "10_2023",
          "11_2023",
          "12_2023",
          "01_2024",
          "02_2024",
          "03_2024",
          "04_2024",
          "05_2024",
          "06_2024",
          "07_2024",
          "08_2024",
          "09_2024",
          "10_2024",
          "11_2024",
          "12_2024",
          "01_2025",
          "02_2025",
          "03_2025",
          "04_2025",
          "05_2025",
          "06_2025"
         ],
         "xaxis": "x",
         "y": {
          "bdata": "pHA97q6cdEFSuB7RsutzQXE9Cieai3VBFK5H4VDLdUFSuB6dZKd6QR+F6yEYA3hB9ihcw4mvd0FSuB6RpKl4QZqZmcU7+XdBmpmZZf3MeUE9Ctcj1EZ4QcP1KNAwrHZBuB6FM7KQdEHXo3BpIClyQQrXo6zXBnRBZmZm9pqNckHD9ShsndVxQXsUrmdDNnVBFa5HJdPVdUEfhesZ5bB1QfYoXH/AUXVB16Nwufq1eEEAAABgW4V2QaRwPV4pQHRBexSuV2flcUGamZkVJN5wQWZmZkY8fnNBKVyPTruAckGPwvVM+8ByQTMzM4c2XHJBzczMCHOTdUHD9SiM0VB3QfYoXDdtkXtBZmZmaseKdkEpXI+ClBp2QVK4Hhmn4nNB61G4dpgcdEGkcD1axd5yQT0K14NgnnVBPQrXN8T6dEH2KFyDUUZ2QQAAAKArsnVBw/UoACTSdUGPwvVYK5J2QSlcj2poWnVBzczMKNcNdkG4HoUjMLd0QdejcDmUxXNBZmZmrqv5c0Fcj8JZCQZzQfYoXJPrSHZBzczMBGocdUFI4XoEz9h2QcP1KGxugHVBPQrXc9c6dkH2KFwny/R2QT0K1xOqiHZBSOF66E4md0GkcD3eH+52QXsUri8twnVBMzMzN0P7dUFI4Xos6X10QYXrUXhBE3dBMzMzAzNwdkHD9Sgg9Qh3QQrXozigJ3ZBCtej0DOBdkEzMzP/3TR3QZqZmU0KX3ZBj8L1EAftdkFcj8LNYdJ1QeF6FJIkOHRBexSuJ/C2fUH2KFzP2cN8QY/C9VY5cIBBMzMz11j7fkGF61GUm4R/QY/C9dx8531B",
          "dtype": "f8"
         },
         "yaxis": "y"
        }
       ],
       "layout": {
        "legend": {
         "tracegroupgap": 0
        },
        "template": {
         "data": {
          "bar": [
           {
            "error_x": {
             "color": "#2a3f5f"
            },
            "error_y": {
             "color": "#2a3f5f"
            },
            "marker": {
             "line": {
              "color": "#E5ECF6",
              "width": 0.5
             },
             "pattern": {
              "fillmode": "overlay",
              "size": 10,
              "solidity": 0.2
             }
            },
            "type": "bar"
           }
          ],
          "barpolar": [
           {
            "marker": {
             "line": {
              "color": "#E5ECF6",
              "width": 0.5
             },
             "pattern": {
              "fillmode": "overlay",
              "size": 10,
              "solidity": 0.2
             }
            },
            "type": "barpolar"
           }
          ],
          "carpet": [
           {
            "aaxis": {
             "endlinecolor": "#2a3f5f",
             "gridcolor": "white",
             "linecolor": "white",
             "minorgridcolor": "white",
             "startlinecolor": "#2a3f5f"
            },
            "baxis": {
             "endlinecolor": "#2a3f5f",
             "gridcolor": "white",
             "linecolor": "white",
             "minorgridcolor": "white",
             "startlinecolor": "#2a3f5f"
            },
            "type": "carpet"
           }
          ],
          "choropleth": [
           {
            "colorbar": {
             "outlinewidth": 0,
             "ticks": ""
            },
            "type": "choropleth"
           }
          ],
          "contour": [
           {
            "colorbar": {
             "outlinewidth": 0,
             "ticks": ""
            },
            "colorscale": [
             [
              0,
              "#0d0887"
             ],
             [
              0.1111111111111111,
              "#46039f"
             ],
             [
              0.2222222222222222,
              "#7201a8"
             ],
             [
              0.3333333333333333,
              "#9c179e"
             ],
             [
              0.4444444444444444,
              "#bd3786"
             ],
             [
              0.5555555555555556,
              "#d8576b"
             ],
             [
              0.6666666666666666,
              "#ed7953"
             ],
             [
              0.7777777777777778,
              "#fb9f3a"
             ],
             [
              0.8888888888888888,
              "#fdca26"
             ],
             [
              1,
              "#f0f921"
             ]
            ],
            "type": "contour"
           }
          ],
          "contourcarpet": [
           {
            "colorbar": {
             "outlinewidth": 0,
             "ticks": ""
            },
            "type": "contourcarpet"
           }
          ],
          "heatmap": [
           {
            "colorbar": {
             "outlinewidth": 0,
             "ticks": ""
            },
            "colorscale": [
             [
              0,
              "#0d0887"
             ],
             [
              0.1111111111111111,
              "#46039f"
             ],
             [
              0.2222222222222222,
              "#7201a8"
             ],
             [
              0.3333333333333333,
              "#9c179e"
             ],
             [
              0.4444444444444444,
              "#bd3786"
             ],
             [
              0.5555555555555556,
              "#d8576b"
             ],
             [
              0.6666666666666666,
              "#ed7953"
             ],
             [
              0.7777777777777778,
              "#fb9f3a"
             ],
             [
              0.8888888888888888,
              "#fdca26"
             ],
             [
              1,
              "#f0f921"
             ]
            ],
            "type": "heatmap"
           }
          ],
          "histogram": [
           {
            "marker": {
             "pattern": {
              "fillmode": "overlay",
              "size": 10,
              "solidity": 0.2
             }
            },
            "type": "histogram"
           }
          ],
          "histogram2d": [
           {
            "colorbar": {
             "outlinewidth": 0,
             "ticks": ""
            },
            "colorscale": [
             [
              0,
              "#0d0887"
             ],
             [
              0.1111111111111111,
              "#46039f"
             ],
             [
              0.2222222222222222,
              "#7201a8"
             ],
             [
              0.3333333333333333,
              "#9c179e"
             ],
             [
              0.4444444444444444,
              "#bd3786"
             ],
             [
              0.5555555555555556,
              "#d8576b"
             ],
             [
              0.6666666666666666,
              "#ed7953"
             ],
             [
              0.7777777777777778,
              "#fb9f3a"
             ],
             [
              0.8888888888888888,
              "#fdca26"
             ],
             [
              1,
              "#f0f921"
             ]
            ],
            "type": "histogram2d"
           }
          ],
          "histogram2dcontour": [
           {
            "colorbar": {
             "outlinewidth": 0,
             "ticks": ""
            },
            "colorscale": [
             [
              0,
              "#0d0887"
             ],
             [
              0.1111111111111111,
              "#46039f"
             ],
             [
              0.2222222222222222,
              "#7201a8"
             ],
             [
              0.3333333333333333,
              "#9c179e"
             ],
             [
              0.4444444444444444,
              "#bd3786"
             ],
             [
              0.5555555555555556,
              "#d8576b"
             ],
             [
              0.6666666666666666,
              "#ed7953"
             ],
             [
              0.7777777777777778,
              "#fb9f3a"
             ],
             [
              0.8888888888888888,
              "#fdca26"
             ],
             [
              1,
              "#f0f921"
             ]
            ],
            "type": "histogram2dcontour"
           }
          ],
          "mesh3d": [
           {
            "colorbar": {
             "outlinewidth": 0,
             "ticks": ""
            },
            "type": "mesh3d"
           }
          ],
          "parcoords": [
           {
            "line": {
             "colorbar": {
              "outlinewidth": 0,
              "ticks": ""
             }
            },
            "type": "parcoords"
           }
          ],
          "pie": [
           {
            "automargin": true,
            "type": "pie"
           }
          ],
          "scatter": [
           {
            "fillpattern": {
             "fillmode": "overlay",
             "size": 10,
             "solidity": 0.2
            },
            "type": "scatter"
           }
          ],
          "scatter3d": [
           {
            "line": {
             "colorbar": {
              "outlinewidth": 0,
              "ticks": ""
             }
            },
            "marker": {
             "colorbar": {
              "outlinewidth": 0,
              "ticks": ""
             }
            },
            "type": "scatter3d"
           }
          ],
          "scattercarpet": [
           {
            "marker": {
             "colorbar": {
              "outlinewidth": 0,
              "ticks": ""
             }
            },
            "type": "scattercarpet"
           }
          ],
          "scattergeo": [
           {
            "marker": {
             "colorbar": {
              "outlinewidth": 0,
              "ticks": ""
             }
            },
            "type": "scattergeo"
           }
          ],
          "scattergl": [
           {
            "marker": {
             "colorbar": {
              "outlinewidth": 0,
              "ticks": ""
             }
            },
            "type": "scattergl"
           }
          ],
          "scattermap": [
           {
            "marker": {
             "colorbar": {
              "outlinewidth": 0,
              "ticks": ""
             }
            },
            "type": "scattermap"
           }
          ],
          "scattermapbox": [
           {
            "marker": {
             "colorbar": {
              "outlinewidth": 0,
              "ticks": ""
             }
            },
            "type": "scattermapbox"
           }
          ],
          "scatterpolar": [
           {
            "marker": {
             "colorbar": {
              "outlinewidth": 0,
              "ticks": ""
             }
            },
            "type": "scatterpolar"
           }
          ],
          "scatterpolargl": [
           {
            "marker": {
             "colorbar": {
              "outlinewidth": 0,
              "ticks": ""
             }
            },
            "type": "scatterpolargl"
           }
          ],
          "scatterternary": [
           {
            "marker": {
             "colorbar": {
              "outlinewidth": 0,
              "ticks": ""
             }
            },
            "type": "scatterternary"
           }
          ],
          "surface": [
           {
            "colorbar": {
             "outlinewidth": 0,
             "ticks": ""
            },
            "colorscale": [
             [
              0,
              "#0d0887"
             ],
             [
              0.1111111111111111,
              "#46039f"
             ],
             [
              0.2222222222222222,
              "#7201a8"
             ],
             [
              0.3333333333333333,
              "#9c179e"
             ],
             [
              0.4444444444444444,
              "#bd3786"
             ],
             [
              0.5555555555555556,
              "#d8576b"
             ],
             [
              0.6666666666666666,
              "#ed7953"
             ],
             [
              0.7777777777777778,
              "#fb9f3a"
             ],
             [
              0.8888888888888888,
              "#fdca26"
             ],
             [
              1,
              "#f0f921"
             ]
            ],
            "type": "surface"
           }
          ],
          "table": [
           {
            "cells": {
             "fill": {
              "color": "#EBF0F8"
             },
             "line": {
              "color": "white"
             }
            },
            "header": {
             "fill": {
              "color": "#C8D4E3"
             },
             "line": {
              "color": "white"
             }
            },
            "type": "table"
           }
          ]
         },
         "layout": {
          "annotationdefaults": {
           "arrowcolor": "#2a3f5f",
           "arrowhead": 0,
           "arrowwidth": 1
          },
          "autotypenumbers": "strict",
          "coloraxis": {
           "colorbar": {
            "outlinewidth": 0,
            "ticks": ""
           }
          },
          "colorscale": {
           "diverging": [
            [
             0,
             "#8e0152"
            ],
            [
             0.1,
             "#c51b7d"
            ],
            [
             0.2,
             "#de77ae"
            ],
            [
             0.3,
             "#f1b6da"
            ],
            [
             0.4,
             "#fde0ef"
            ],
            [
             0.5,
             "#f7f7f7"
            ],
            [
             0.6,
             "#e6f5d0"
            ],
            [
             0.7,
             "#b8e186"
            ],
            [
             0.8,
             "#7fbc41"
            ],
            [
             0.9,
             "#4d9221"
            ],
            [
             1,
             "#276419"
            ]
           ],
           "sequential": [
            [
             0,
             "#0d0887"
            ],
            [
             0.1111111111111111,
             "#46039f"
            ],
            [
             0.2222222222222222,
             "#7201a8"
            ],
            [
             0.3333333333333333,
             "#9c179e"
            ],
            [
             0.4444444444444444,
             "#bd3786"
            ],
            [
             0.5555555555555556,
             "#d8576b"
            ],
            [
             0.6666666666666666,
             "#ed7953"
            ],
            [
             0.7777777777777778,
             "#fb9f3a"
            ],
            [
             0.8888888888888888,
             "#fdca26"
            ],
            [
             1,
             "#f0f921"
            ]
           ],
           "sequentialminus": [
            [
             0,
             "#0d0887"
            ],
            [
             0.1111111111111111,
             "#46039f"
            ],
            [
             0.2222222222222222,
             "#7201a8"
            ],
            [
             0.3333333333333333,
             "#9c179e"
            ],
            [
             0.4444444444444444,
             "#bd3786"
            ],
            [
             0.5555555555555556,
             "#d8576b"
            ],
            [
             0.6666666666666666,
             "#ed7953"
            ],
            [
             0.7777777777777778,
             "#fb9f3a"
            ],
            [
             0.8888888888888888,
             "#fdca26"
            ],
            [
             1,
             "#f0f921"
            ]
           ]
          },
          "colorway": [
           "#636efa",
           "#EF553B",
           "#00cc96",
           "#ab63fa",
           "#FFA15A",
           "#19d3f3",
           "#FF6692",
           "#B6E880",
           "#FF97FF",
           "#FECB52"
          ],
          "font": {
           "color": "#2a3f5f"
          },
          "geo": {
           "bgcolor": "white",
           "lakecolor": "white",
           "landcolor": "#E5ECF6",
           "showlakes": true,
           "showland": true,
           "subunitcolor": "white"
          },
          "hoverlabel": {
           "align": "left"
          },
          "hovermode": "closest",
          "mapbox": {
           "style": "light"
          },
          "paper_bgcolor": "white",
          "plot_bgcolor": "#E5ECF6",
          "polar": {
           "angularaxis": {
            "gridcolor": "white",
            "linecolor": "white",
            "ticks": ""
           },
           "bgcolor": "#E5ECF6",
           "radialaxis": {
            "gridcolor": "white",
            "linecolor": "white",
            "ticks": ""
           }
          },
          "scene": {
           "xaxis": {
            "backgroundcolor": "#E5ECF6",
            "gridcolor": "white",
            "gridwidth": 2,
            "linecolor": "white",
            "showbackground": true,
            "ticks": "",
            "zerolinecolor": "white"
           },
           "yaxis": {
            "backgroundcolor": "#E5ECF6",
            "gridcolor": "white",
            "gridwidth": 2,
            "linecolor": "white",
            "showbackground": true,
            "ticks": "",
            "zerolinecolor": "white"
           },
           "zaxis": {
            "backgroundcolor": "#E5ECF6",
            "gridcolor": "white",
            "gridwidth": 2,
            "linecolor": "white",
            "showbackground": true,
            "ticks": "",
            "zerolinecolor": "white"
           }
          },
          "shapedefaults": {
           "line": {
            "color": "#2a3f5f"
           }
          },
          "ternary": {
           "aaxis": {
            "gridcolor": "white",
            "linecolor": "white",
            "ticks": ""
           },
           "baxis": {
            "gridcolor": "white",
            "linecolor": "white",
            "ticks": ""
           },
           "bgcolor": "#E5ECF6",
           "caxis": {
            "gridcolor": "white",
            "linecolor": "white",
            "ticks": ""
           }
          },
          "title": {
           "x": 0.05
          },
          "xaxis": {
           "automargin": true,
           "gridcolor": "white",
           "linecolor": "white",
           "ticks": "",
           "title": {
            "standoff": 15
           },
           "zerolinecolor": "white",
           "zerolinewidth": 2
          },
          "yaxis": {
           "automargin": true,
           "gridcolor": "white",
           "linecolor": "white",
           "ticks": "",
           "title": {
            "standoff": 15
           },
           "zerolinecolor": "white",
           "zerolinewidth": 2
          }
         }
        },
        "title": {
         "text": "Despesa Autorizada global"
        },
        "xaxis": {
         "anchor": "y",
         "domain": [
          0,
          1
         ],
         "title": {
          "text": "mes"
         }
        },
        "yaxis": {
         "anchor": "x",
         "domain": [
          0,
          1
         ],
         "title": {
          "text": "despesa_autorizada_global"
         }
        }
       }
      }
     },
     "metadata": {},
     "output_type": "display_data"
    }
   ],
   "source": [
    "da_marinha = da.groupby(['mes', 'ano']).despesa_autorizada_global.sum().reset_index()\n",
    "da_marinha['mes'] = ['_'.join(['{:02d}'.format(i[0]), str(i[1])]) for i in zip(da_marinha.mes.values, da_marinha.ano.values)]\n",
    "da_marinha = da_marinha.sort_values(by=['ano', 'mes']).iloc[:-2]\n",
    "fig = px.line(\n",
    "    da_marinha,\n",
    "    x = 'mes',\n",
    "    y = 'despesa_autorizada_global',\n",
    "    title='Despesa Autorizada global'\n",
    ")\n",
    "\n",
    "fig.show()"
   ]
  },
  {
   "cell_type": "code",
   "execution_count": null,
   "id": "066e46ec",
   "metadata": {},
   "outputs": [
    {
     "data": {
      "application/vnd.plotly.v1+json": {
       "config": {
        "plotlyServerURL": "https://plot.ly"
       },
       "data": [
        {
         "hovertemplate": "Mês e ano=%{x}<br>Totais das despesas=%{y}<extra></extra>",
         "legendgroup": "",
         "line": {
          "color": "#636efa",
          "dash": "solid",
          "width": 2
         },
         "marker": {
          "symbol": "circle"
         },
         "mode": "lines+markers",
         "name": "",
         "orientation": "v",
         "showlegend": false,
         "type": "scatter",
         "x": [
          "1_2019",
          "2_2019",
          "3_2019",
          "4_2019",
          "5_2019",
          "6_2019",
          "7_2019",
          "8_2019",
          "9_2019",
          "10_2019",
          "11_2019",
          "12_2019",
          "1_2020",
          "2_2020",
          "3_2020",
          "4_2020",
          "5_2020",
          "6_2020",
          "7_2020",
          "8_2020",
          "9_2020",
          "10_2020",
          "11_2020",
          "12_2020",
          "1_2021",
          "2_2021",
          "3_2021",
          "4_2021",
          "5_2021",
          "6_2021",
          "7_2021",
          "8_2021",
          "9_2021",
          "10_2021",
          "11_2021",
          "12_2021",
          "1_2022",
          "2_2022",
          "3_2022",
          "4_2022",
          "5_2022",
          "6_2022",
          "7_2022",
          "8_2022",
          "9_2022",
          "10_2022",
          "11_2022",
          "12_2022",
          "1_2023",
          "2_2023",
          "3_2023",
          "4_2023",
          "5_2023",
          "6_2023",
          "7_2023",
          "8_2023",
          "9_2023",
          "10_2023",
          "11_2023",
          "12_2023",
          "1_2024",
          "2_2024",
          "3_2024",
          "4_2024",
          "5_2024",
          "6_2024",
          "7_2024",
          "8_2024",
          "9_2024",
          "10_2024",
          "11_2024",
          "12_2024",
          "1_2025",
          "2_2025",
          "3_2025",
          "4_2025",
          "5_2025",
          "6_2025",
          "7_2025"
         ],
         "xaxis": "x",
         "y": {
          "bdata": "I9ZH8iJtb0FtsfZ2LPRuQemhkfIl4W5BKEwzSaGicEGNHilIVihyQRDbZ4suX3BBe+3jT2lHcUE6aEXbnatxQagM0kyy9XBBT+V5W871cUEycZAUqXNwQTxy2pFkZWxBeTrX+F9WbUE2XKQV2L5pQTEUJlZx8WtBhoLjJeEhZUHapt10UxRkQSp/7XaQiGRByRqa8VxXZ0H+8iTGukFoQTH2lKKxuGhBPT1bh7isakE2vdVYOGtpQc1BKyy562ZBt9RcyifGZkFtx1QslENnQebiFFGy1mtBhnYOnExXaUGhhBnOH/pqQYBJKl0MD2pBpivYWTUxbUHZB1lS4NxvQS4sCTp+nG1B2Ls/cYfRbEHRIAVs4fJtQRAGnrtgZGtB4e6sqIxOb0EYCW3KtLtvQW3F/g9ZanJBNV46I+w2cUEsZRnhzOxzQRv1kM8RNHJBlMHRjTRWckHxEbH0hAh0QXqlrKizsHJB3dJqsn1xckGOAVm9hz1xQXctIWojM29BH2gFSO4gcUH3qpWNgy9vQYsaTHWbUXRBkGas9fsnckGjh+vd0hR1Qdxj6dKMz3NBJscdqppjc0H129cEwFt0QX50aiJ9f3NB8Ut9MCsrdEGfdvj530NzQad0MC4jV3BBeTtCzthPckE/b6op9aZwQcoyRBF+tXRBTzv8F20gdEHZfFx0hlR0Qfz7DL1tRHNBAtnrQiRkdEFau23y8/J0Qcu5lJPyFnRBS+XtizcDdEHSAF6aLZ1xQRBAarvZTm5BtDwPhYDEckH+t5JAdZVzQWdhTyUygXRBIatbmOttdUE6HrOLvHN4QYHPDxSthXZBXdxGIyRkd0E=",
          "dtype": "f8"
         },
         "yaxis": "y"
        }
       ],
       "layout": {
        "hovermode": "x unified",
        "legend": {
         "tracegroupgap": 0
        },
        "template": {
         "data": {
          "bar": [
           {
            "error_x": {
             "color": "#2a3f5f"
            },
            "error_y": {
             "color": "#2a3f5f"
            },
            "marker": {
             "line": {
              "color": "white",
              "width": 0.5
             },
             "pattern": {
              "fillmode": "overlay",
              "size": 10,
              "solidity": 0.2
             }
            },
            "type": "bar"
           }
          ],
          "barpolar": [
           {
            "marker": {
             "line": {
              "color": "white",
              "width": 0.5
             },
             "pattern": {
              "fillmode": "overlay",
              "size": 10,
              "solidity": 0.2
             }
            },
            "type": "barpolar"
           }
          ],
          "carpet": [
           {
            "aaxis": {
             "endlinecolor": "#2a3f5f",
             "gridcolor": "#C8D4E3",
             "linecolor": "#C8D4E3",
             "minorgridcolor": "#C8D4E3",
             "startlinecolor": "#2a3f5f"
            },
            "baxis": {
             "endlinecolor": "#2a3f5f",
             "gridcolor": "#C8D4E3",
             "linecolor": "#C8D4E3",
             "minorgridcolor": "#C8D4E3",
             "startlinecolor": "#2a3f5f"
            },
            "type": "carpet"
           }
          ],
          "choropleth": [
           {
            "colorbar": {
             "outlinewidth": 0,
             "ticks": ""
            },
            "type": "choropleth"
           }
          ],
          "contour": [
           {
            "colorbar": {
             "outlinewidth": 0,
             "ticks": ""
            },
            "colorscale": [
             [
              0,
              "#0d0887"
             ],
             [
              0.1111111111111111,
              "#46039f"
             ],
             [
              0.2222222222222222,
              "#7201a8"
             ],
             [
              0.3333333333333333,
              "#9c179e"
             ],
             [
              0.4444444444444444,
              "#bd3786"
             ],
             [
              0.5555555555555556,
              "#d8576b"
             ],
             [
              0.6666666666666666,
              "#ed7953"
             ],
             [
              0.7777777777777778,
              "#fb9f3a"
             ],
             [
              0.8888888888888888,
              "#fdca26"
             ],
             [
              1,
              "#f0f921"
             ]
            ],
            "type": "contour"
           }
          ],
          "contourcarpet": [
           {
            "colorbar": {
             "outlinewidth": 0,
             "ticks": ""
            },
            "type": "contourcarpet"
           }
          ],
          "heatmap": [
           {
            "colorbar": {
             "outlinewidth": 0,
             "ticks": ""
            },
            "colorscale": [
             [
              0,
              "#0d0887"
             ],
             [
              0.1111111111111111,
              "#46039f"
             ],
             [
              0.2222222222222222,
              "#7201a8"
             ],
             [
              0.3333333333333333,
              "#9c179e"
             ],
             [
              0.4444444444444444,
              "#bd3786"
             ],
             [
              0.5555555555555556,
              "#d8576b"
             ],
             [
              0.6666666666666666,
              "#ed7953"
             ],
             [
              0.7777777777777778,
              "#fb9f3a"
             ],
             [
              0.8888888888888888,
              "#fdca26"
             ],
             [
              1,
              "#f0f921"
             ]
            ],
            "type": "heatmap"
           }
          ],
          "histogram": [
           {
            "marker": {
             "pattern": {
              "fillmode": "overlay",
              "size": 10,
              "solidity": 0.2
             }
            },
            "type": "histogram"
           }
          ],
          "histogram2d": [
           {
            "colorbar": {
             "outlinewidth": 0,
             "ticks": ""
            },
            "colorscale": [
             [
              0,
              "#0d0887"
             ],
             [
              0.1111111111111111,
              "#46039f"
             ],
             [
              0.2222222222222222,
              "#7201a8"
             ],
             [
              0.3333333333333333,
              "#9c179e"
             ],
             [
              0.4444444444444444,
              "#bd3786"
             ],
             [
              0.5555555555555556,
              "#d8576b"
             ],
             [
              0.6666666666666666,
              "#ed7953"
             ],
             [
              0.7777777777777778,
              "#fb9f3a"
             ],
             [
              0.8888888888888888,
              "#fdca26"
             ],
             [
              1,
              "#f0f921"
             ]
            ],
            "type": "histogram2d"
           }
          ],
          "histogram2dcontour": [
           {
            "colorbar": {
             "outlinewidth": 0,
             "ticks": ""
            },
            "colorscale": [
             [
              0,
              "#0d0887"
             ],
             [
              0.1111111111111111,
              "#46039f"
             ],
             [
              0.2222222222222222,
              "#7201a8"
             ],
             [
              0.3333333333333333,
              "#9c179e"
             ],
             [
              0.4444444444444444,
              "#bd3786"
             ],
             [
              0.5555555555555556,
              "#d8576b"
             ],
             [
              0.6666666666666666,
              "#ed7953"
             ],
             [
              0.7777777777777778,
              "#fb9f3a"
             ],
             [
              0.8888888888888888,
              "#fdca26"
             ],
             [
              1,
              "#f0f921"
             ]
            ],
            "type": "histogram2dcontour"
           }
          ],
          "mesh3d": [
           {
            "colorbar": {
             "outlinewidth": 0,
             "ticks": ""
            },
            "type": "mesh3d"
           }
          ],
          "parcoords": [
           {
            "line": {
             "colorbar": {
              "outlinewidth": 0,
              "ticks": ""
             }
            },
            "type": "parcoords"
           }
          ],
          "pie": [
           {
            "automargin": true,
            "type": "pie"
           }
          ],
          "scatter": [
           {
            "fillpattern": {
             "fillmode": "overlay",
             "size": 10,
             "solidity": 0.2
            },
            "type": "scatter"
           }
          ],
          "scatter3d": [
           {
            "line": {
             "colorbar": {
              "outlinewidth": 0,
              "ticks": ""
             }
            },
            "marker": {
             "colorbar": {
              "outlinewidth": 0,
              "ticks": ""
             }
            },
            "type": "scatter3d"
           }
          ],
          "scattercarpet": [
           {
            "marker": {
             "colorbar": {
              "outlinewidth": 0,
              "ticks": ""
             }
            },
            "type": "scattercarpet"
           }
          ],
          "scattergeo": [
           {
            "marker": {
             "colorbar": {
              "outlinewidth": 0,
              "ticks": ""
             }
            },
            "type": "scattergeo"
           }
          ],
          "scattergl": [
           {
            "marker": {
             "colorbar": {
              "outlinewidth": 0,
              "ticks": ""
             }
            },
            "type": "scattergl"
           }
          ],
          "scattermap": [
           {
            "marker": {
             "colorbar": {
              "outlinewidth": 0,
              "ticks": ""
             }
            },
            "type": "scattermap"
           }
          ],
          "scattermapbox": [
           {
            "marker": {
             "colorbar": {
              "outlinewidth": 0,
              "ticks": ""
             }
            },
            "type": "scattermapbox"
           }
          ],
          "scatterpolar": [
           {
            "marker": {
             "colorbar": {
              "outlinewidth": 0,
              "ticks": ""
             }
            },
            "type": "scatterpolar"
           }
          ],
          "scatterpolargl": [
           {
            "marker": {
             "colorbar": {
              "outlinewidth": 0,
              "ticks": ""
             }
            },
            "type": "scatterpolargl"
           }
          ],
          "scatterternary": [
           {
            "marker": {
             "colorbar": {
              "outlinewidth": 0,
              "ticks": ""
             }
            },
            "type": "scatterternary"
           }
          ],
          "surface": [
           {
            "colorbar": {
             "outlinewidth": 0,
             "ticks": ""
            },
            "colorscale": [
             [
              0,
              "#0d0887"
             ],
             [
              0.1111111111111111,
              "#46039f"
             ],
             [
              0.2222222222222222,
              "#7201a8"
             ],
             [
              0.3333333333333333,
              "#9c179e"
             ],
             [
              0.4444444444444444,
              "#bd3786"
             ],
             [
              0.5555555555555556,
              "#d8576b"
             ],
             [
              0.6666666666666666,
              "#ed7953"
             ],
             [
              0.7777777777777778,
              "#fb9f3a"
             ],
             [
              0.8888888888888888,
              "#fdca26"
             ],
             [
              1,
              "#f0f921"
             ]
            ],
            "type": "surface"
           }
          ],
          "table": [
           {
            "cells": {
             "fill": {
              "color": "#EBF0F8"
             },
             "line": {
              "color": "white"
             }
            },
            "header": {
             "fill": {
              "color": "#C8D4E3"
             },
             "line": {
              "color": "white"
             }
            },
            "type": "table"
           }
          ]
         },
         "layout": {
          "annotationdefaults": {
           "arrowcolor": "#2a3f5f",
           "arrowhead": 0,
           "arrowwidth": 1
          },
          "autotypenumbers": "strict",
          "coloraxis": {
           "colorbar": {
            "outlinewidth": 0,
            "ticks": ""
           }
          },
          "colorscale": {
           "diverging": [
            [
             0,
             "#8e0152"
            ],
            [
             0.1,
             "#c51b7d"
            ],
            [
             0.2,
             "#de77ae"
            ],
            [
             0.3,
             "#f1b6da"
            ],
            [
             0.4,
             "#fde0ef"
            ],
            [
             0.5,
             "#f7f7f7"
            ],
            [
             0.6,
             "#e6f5d0"
            ],
            [
             0.7,
             "#b8e186"
            ],
            [
             0.8,
             "#7fbc41"
            ],
            [
             0.9,
             "#4d9221"
            ],
            [
             1,
             "#276419"
            ]
           ],
           "sequential": [
            [
             0,
             "#0d0887"
            ],
            [
             0.1111111111111111,
             "#46039f"
            ],
            [
             0.2222222222222222,
             "#7201a8"
            ],
            [
             0.3333333333333333,
             "#9c179e"
            ],
            [
             0.4444444444444444,
             "#bd3786"
            ],
            [
             0.5555555555555556,
             "#d8576b"
            ],
            [
             0.6666666666666666,
             "#ed7953"
            ],
            [
             0.7777777777777778,
             "#fb9f3a"
            ],
            [
             0.8888888888888888,
             "#fdca26"
            ],
            [
             1,
             "#f0f921"
            ]
           ],
           "sequentialminus": [
            [
             0,
             "#0d0887"
            ],
            [
             0.1111111111111111,
             "#46039f"
            ],
            [
             0.2222222222222222,
             "#7201a8"
            ],
            [
             0.3333333333333333,
             "#9c179e"
            ],
            [
             0.4444444444444444,
             "#bd3786"
            ],
            [
             0.5555555555555556,
             "#d8576b"
            ],
            [
             0.6666666666666666,
             "#ed7953"
            ],
            [
             0.7777777777777778,
             "#fb9f3a"
            ],
            [
             0.8888888888888888,
             "#fdca26"
            ],
            [
             1,
             "#f0f921"
            ]
           ]
          },
          "colorway": [
           "#636efa",
           "#EF553B",
           "#00cc96",
           "#ab63fa",
           "#FFA15A",
           "#19d3f3",
           "#FF6692",
           "#B6E880",
           "#FF97FF",
           "#FECB52"
          ],
          "font": {
           "color": "#2a3f5f"
          },
          "geo": {
           "bgcolor": "white",
           "lakecolor": "white",
           "landcolor": "white",
           "showlakes": true,
           "showland": true,
           "subunitcolor": "#C8D4E3"
          },
          "hoverlabel": {
           "align": "left"
          },
          "hovermode": "closest",
          "mapbox": {
           "style": "light"
          },
          "paper_bgcolor": "white",
          "plot_bgcolor": "white",
          "polar": {
           "angularaxis": {
            "gridcolor": "#EBF0F8",
            "linecolor": "#EBF0F8",
            "ticks": ""
           },
           "bgcolor": "white",
           "radialaxis": {
            "gridcolor": "#EBF0F8",
            "linecolor": "#EBF0F8",
            "ticks": ""
           }
          },
          "scene": {
           "xaxis": {
            "backgroundcolor": "white",
            "gridcolor": "#DFE8F3",
            "gridwidth": 2,
            "linecolor": "#EBF0F8",
            "showbackground": true,
            "ticks": "",
            "zerolinecolor": "#EBF0F8"
           },
           "yaxis": {
            "backgroundcolor": "white",
            "gridcolor": "#DFE8F3",
            "gridwidth": 2,
            "linecolor": "#EBF0F8",
            "showbackground": true,
            "ticks": "",
            "zerolinecolor": "#EBF0F8"
           },
           "zaxis": {
            "backgroundcolor": "white",
            "gridcolor": "#DFE8F3",
            "gridwidth": 2,
            "linecolor": "#EBF0F8",
            "showbackground": true,
            "ticks": "",
            "zerolinecolor": "#EBF0F8"
           }
          },
          "shapedefaults": {
           "line": {
            "color": "#2a3f5f"
           }
          },
          "ternary": {
           "aaxis": {
            "gridcolor": "#DFE8F3",
            "linecolor": "#A2B1C6",
            "ticks": ""
           },
           "baxis": {
            "gridcolor": "#DFE8F3",
            "linecolor": "#A2B1C6",
            "ticks": ""
           },
           "bgcolor": "white",
           "caxis": {
            "gridcolor": "#DFE8F3",
            "linecolor": "#A2B1C6",
            "ticks": ""
           }
          },
          "title": {
           "x": 0.05
          },
          "xaxis": {
           "automargin": true,
           "gridcolor": "#EBF0F8",
           "linecolor": "#EBF0F8",
           "ticks": "",
           "title": {
            "standoff": 15
           },
           "zerolinecolor": "#EBF0F8",
           "zerolinewidth": 2
          },
          "yaxis": {
           "automargin": true,
           "gridcolor": "#EBF0F8",
           "linecolor": "#EBF0F8",
           "ticks": "",
           "title": {
            "standoff": 15
           },
           "zerolinecolor": "#EBF0F8",
           "zerolinewidth": 2
          }
         }
        },
        "title": {
         "text": "Gastos com alimentação dos últimos cinco anos"
        },
        "xaxis": {
         "anchor": "y",
         "domain": [
          0,
          1
         ],
         "tickangle": 45,
         "title": {
          "text": "Mês e ano"
         }
        },
        "yaxis": {
         "anchor": "x",
         "domain": [
          0,
          1
         ],
         "title": {
          "text": "Totais das despesas"
         }
        }
       }
      }
     },
     "metadata": {},
     "output_type": "display_data"
    }
   ],
   "source": [
    "def grafico_base(titulo):\n",
    "    return px.line(\n",
    "        mmm_marinha,\n",
    "        x = 'mes',\n",
    "        y = 'totais_balanco_paiol_despesa',\n",
    "        labels = {\n",
    "            'mes': 'Mês e ano',\n",
    "            'totais_balanco_paiol_despesa': 'Totais das despesas'\n",
    "        },\n",
    "        title = titulo\n",
    "    )\n",
    "\n",
    "fig = grafico_base('Gastos com alimentação dos últimos cinco anos')\n",
    "\n",
    "fig.update_traces(mode='lines+markers', line=dict(width=2))\n",
    "fig.update_xaxes(tickangle=45)\n",
    "fig.update_layout(\n",
    "    template='plotly_white',\n",
    "    hovermode='x unified'\n",
    "    )\n",
    "\n",
    "fig.show()"
   ]
  },
  {
   "cell_type": "code",
   "execution_count": null,
   "id": "fc3e4dff",
   "metadata": {},
   "outputs": [
    {
     "name": "stdout",
     "output_type": "stream",
     "text": [
      "ADF: -0.7929840099869884, p-valor: 0.8211742792131471\n"
     ]
    }
   ],
   "source": [
    "# Teste de estacionariedade\n",
    "\n",
    "result = adfuller(mmm_marinha.totais_balanco_paiol_despesa)\n",
    "print(f'ADF: {result[0]}, p-valor: {result[1]}')"
   ]
  },
  {
   "cell_type": "code",
   "execution_count": null,
   "id": "80c6cb01",
   "metadata": {},
   "outputs": [
    {
     "name": "stdout",
     "output_type": "stream",
     "text": [
      "Baseline Naïve MAE: 1371822.7820545628\n"
     ]
    }
   ],
   "source": [
    "naive_forecast = mmm_marinha.totais_balanco_paiol_despesa.shift(1)\n",
    "mae_naive = mean_absolute_error(mmm_marinha.totais_balanco_paiol_despesa.iloc[1:], naive_forecast.iloc[1:])\n",
    "print('Baseline Naïve MAE:', mae_naive)"
   ]
  },
  {
   "cell_type": "code",
   "execution_count": null,
   "id": "3cbd40b6",
   "metadata": {},
   "outputs": [
    {
     "name": "stdout",
     "output_type": "stream",
     "text": [
      "Performing stepwise search to minimize aic\n",
      " ARIMA(2,1,2)(1,0,1)[12] intercept   : AIC=2075.426, Time=0.17 sec\n",
      " ARIMA(0,1,0)(0,0,0)[12] intercept   : AIC=2081.293, Time=0.00 sec\n",
      " ARIMA(1,1,0)(1,0,0)[12] intercept   : AIC=2071.938, Time=0.03 sec\n",
      " ARIMA(0,1,1)(0,0,1)[12] intercept   : AIC=2073.317, Time=0.02 sec\n",
      " ARIMA(0,1,0)(0,0,0)[12]             : AIC=2079.434, Time=0.00 sec\n",
      " ARIMA(1,1,0)(0,0,0)[12] intercept   : AIC=2077.323, Time=0.01 sec\n",
      " ARIMA(1,1,0)(2,0,0)[12] intercept   : AIC=2073.498, Time=0.09 sec\n",
      " ARIMA(1,1,0)(1,0,1)[12] intercept   : AIC=2072.305, Time=0.05 sec\n",
      " ARIMA(1,1,0)(0,0,1)[12] intercept   : AIC=2072.411, Time=0.02 sec\n",
      " ARIMA(1,1,0)(2,0,1)[12] intercept   : AIC=2074.220, Time=0.10 sec\n",
      " ARIMA(0,1,0)(1,0,0)[12] intercept   : AIC=2073.821, Time=0.02 sec\n",
      " ARIMA(2,1,0)(1,0,0)[12] intercept   : AIC=2073.333, Time=0.04 sec\n",
      " ARIMA(1,1,1)(1,0,0)[12] intercept   : AIC=2073.515, Time=0.06 sec\n",
      " ARIMA(0,1,1)(1,0,0)[12] intercept   : AIC=2072.829, Time=0.03 sec\n",
      " ARIMA(2,1,1)(1,0,0)[12] intercept   : AIC=2075.024, Time=0.10 sec\n",
      " ARIMA(1,1,0)(1,0,0)[12]             : AIC=2069.891, Time=0.03 sec\n",
      " ARIMA(1,1,0)(0,0,0)[12]             : AIC=2075.784, Time=0.01 sec\n",
      " ARIMA(1,1,0)(2,0,0)[12]             : AIC=2071.318, Time=0.08 sec\n",
      " ARIMA(1,1,0)(1,0,1)[12]             : AIC=2066.508, Time=0.05 sec\n",
      " ARIMA(1,1,0)(0,0,1)[12]             : AIC=2070.523, Time=0.02 sec\n",
      " ARIMA(1,1,0)(2,0,1)[12]             : AIC=inf, Time=0.13 sec\n",
      " ARIMA(1,1,0)(1,0,2)[12]             : AIC=inf, Time=0.16 sec\n",
      " ARIMA(1,1,0)(0,0,2)[12]             : AIC=2072.365, Time=0.04 sec\n",
      " ARIMA(1,1,0)(2,0,2)[12]             : AIC=inf, Time=0.21 sec\n",
      " ARIMA(0,1,0)(1,0,1)[12]             : AIC=inf, Time=0.10 sec\n",
      " ARIMA(2,1,0)(1,0,1)[12]             : AIC=2068.339, Time=0.07 sec\n",
      " ARIMA(1,1,1)(1,0,1)[12]             : AIC=2068.320, Time=0.09 sec\n",
      " ARIMA(0,1,1)(1,0,1)[12]             : AIC=2068.027, Time=0.05 sec\n",
      " ARIMA(2,1,1)(1,0,1)[12]             : AIC=2070.001, Time=0.14 sec\n",
      "\n",
      "Best model:  ARIMA(1,1,0)(1,0,1)[12]          \n",
      "Total fit time: 1.934 seconds\n",
      "                                      SARIMAX Results                                       \n",
      "============================================================================================\n",
      "Dep. Variable:                                    y   No. Observations:                   67\n",
      "Model:             SARIMAX(1, 1, 0)x(1, 0, [1], 12)   Log Likelihood               -1029.254\n",
      "Date:                              ter, 02 set 2025   AIC                           2066.508\n",
      "Time:                                      18:40:51   BIC                           2075.267\n",
      "Sample:                                           0   HQIC                          2069.969\n",
      "                                               - 67                                         \n",
      "Covariance Type:                                opg                                         \n",
      "==============================================================================\n",
      "                 coef    std err          z      P>|z|      [0.025      0.975]\n",
      "------------------------------------------------------------------------------\n",
      "ar.L1         -0.1211      0.075     -1.624      0.104      -0.267       0.025\n",
      "ar.S.L12       0.9473      0.284      3.336      0.001       0.391       1.504\n",
      "ma.S.L12      -0.8566      0.443     -1.933      0.053      -1.725       0.012\n",
      "sigma2      2.219e+12   3.38e-13   6.57e+24      0.000    2.22e+12    2.22e+12\n",
      "===================================================================================\n",
      "Ljung-Box (L1) (Q):                   0.74   Jarque-Bera (JB):                 1.29\n",
      "Prob(Q):                              0.39   Prob(JB):                         0.52\n",
      "Heteroskedasticity (H):               1.07   Skew:                             0.32\n",
      "Prob(H) (two-sided):                  0.87   Kurtosis:                         3.27\n",
      "===================================================================================\n",
      "\n",
      "Warnings:\n",
      "[1] Covariance matrix calculated using the outer product of gradients (complex-step).\n",
      "[2] Covariance matrix is singular or near-singular, with condition number 1.51e+40. Standard errors may be unstable.\n"
     ]
    }
   ],
   "source": [
    "# SARIMA\n",
    "\n",
    "train = mmm_marinha.iloc[:-12, :]\n",
    "test = mmm_marinha.iloc[-12:, :]\n",
    "\n",
    "model_auto = pm.auto_arima(train.totais_balanco_paiol_despesa, seasonal=True, m=12, stepwise=True, trace=True)\n",
    "print(model_auto.summary())"
   ]
  },
  {
   "cell_type": "code",
   "execution_count": 184,
   "id": "26635981",
   "metadata": {},
   "outputs": [
    {
     "data": {
      "application/vnd.microsoft.datawrangler.viewer.v0+json": {
       "columns": [
        {
         "name": "index",
         "rawType": "int64",
         "type": "integer"
        },
        {
         "name": "ano",
         "rawType": "int64",
         "type": "integer"
        },
        {
         "name": "mes",
         "rawType": "int64",
         "type": "integer"
        },
        {
         "name": "codigo",
         "rawType": "int64",
         "type": "integer"
        },
        {
         "name": "nome",
         "rawType": "object",
         "type": "string"
        },
        {
         "name": "balanco_paiol_mes_anterior",
         "rawType": "float64",
         "type": "float"
        },
        {
         "name": "gen_depsubmrj_depnav_reg",
         "rawType": "float64",
         "type": "float"
        },
        {
         "name": "gen_adq_form_extra_mb_licit1",
         "rawType": "float64",
         "type": "float"
        },
        {
         "name": "gen_adq_form_extra_mb_licit2",
         "rawType": "float64",
         "type": "float"
        },
        {
         "name": "gen_adq_form_extra_mb_slicit",
         "rawType": "float64",
         "type": "float"
        },
        {
         "name": "remessa_recebida",
         "rawType": "float64",
         "type": "float"
        },
        {
         "name": "remessa_expedida",
         "rawType": "float64",
         "type": "float"
        },
        {
         "name": "vale_extra",
         "rawType": "float64",
         "type": "float"
        },
        {
         "name": "termo_de_despesa",
         "rawType": "float64",
         "type": "float"
        },
        {
         "name": "generos_consumidos",
         "rawType": "float64",
         "type": "float"
        },
        {
         "name": "totais_balanco_paiol_receita",
         "rawType": "float64",
         "type": "float"
        },
        {
         "name": "totais_balanco_paiol_despesa",
         "rawType": "float64",
         "type": "float"
        },
        {
         "name": "saldo",
         "rawType": "float64",
         "type": "float"
        }
       ],
       "ref": "27b1815d-5122-4471-b78a-e176e55e76c4",
       "rows": [
        [
         "0",
         "2019",
         "1",
         "81200",
         "1° BATALHAO DE OPERAÇOES LITORANEAS DE FUZILEIROS NAVAIS",
         "98180.1572",
         "73516.14",
         "42111.8",
         "43376.544",
         "1174.4",
         "0.0",
         "0.0",
         "2871.75",
         "0.0",
         "162351.16",
         "258359.0412",
         "165222.91",
         "93136.1312"
        ],
        [
         "1",
         "2019",
         "1",
         "88200",
         "1º Batalhão de Operações Ribeirinhas",
         "698734.61658",
         "0.0",
         "0.0",
         "0.0",
         "158691.81",
         "0.0",
         "0.0",
         "19335.01",
         "0.0",
         "168038.208",
         "857426.42658",
         "187373.218",
         "670053.20858"
        ],
        [
         "2",
         "2019",
         "1",
         "82200",
         "2° BATALHÃO DE OPERAÇÕES LITORÂNEAS DE FUZILEIROS NAVAIS",
         "63728.7586",
         "31178.35",
         "54681.395",
         "0.0",
         "0.0",
         "0.0",
         "0.0",
         "5469.15",
         "0.0",
         "65744.78",
         "149588.5036",
         "71213.93",
         "78374.5736"
        ],
        [
         "3",
         "2019",
         "1",
         "84200",
         "2º BATALHÃO DE OPERAÇÕES RIBEIRINHAS",
         "171638.535",
         "54408.7",
         "117189.0",
         "0.0",
         "6110.1599",
         "0.0",
         "0.0",
         "4399.4",
         "0.0",
         "113672.3175",
         "349346.3949",
         "118071.7175",
         "231274.6774"
        ],
        [
         "4",
         "2019",
         "1",
         "83200",
         "3° BATALHÃO DE OPERAÇÕES LITORÂNEAS DE FUZILEIROS NAVAIS",
         "94752.65847",
         "9647.28",
         "3400.21",
         "0.0",
         "505.56",
         "0.0",
         "0.0",
         "6570.2",
         "0.0",
         "12721.57279",
         "108305.70847",
         "19291.77279",
         "89013.93568"
        ],
        [
         "5",
         "2019",
         "1",
         "87200",
         "3º BATALHÃO DE PROTEÇÃO E DEFESA NBQR",
         "266669.84266",
         "29684.62",
         "66213.2423",
         "43176.32",
         "2203.7274",
         "0.0",
         "0.0",
         "13786.89",
         "0.0",
         "103662.0045",
         "407947.75236",
         "117448.8945",
         "290498.85786"
        ],
        [
         "6",
         "2019",
         "1",
         "41000",
         "ARSENAL DE MARINHA DO RIO DE JANEIRO",
         "644859.97834",
         "117076.63",
         "127750.11",
         "234503.5",
         "30800.0533",
         "0.0",
         "0.0",
         "73565.34",
         "0.0",
         "560956.43985",
         "1154990.27164",
         "634521.77985",
         "520468.49179"
        ],
        [
         "7",
         "2019",
         "1",
         "91580",
         "BASE ALMIRANTE CASTRO E SILVA",
         "103707.749",
         "64495.59",
         "47581.09",
         "75215.192",
         "1033.1489",
         "0.0",
         "3424.18",
         "16214.26",
         "0.0",
         "193655.2",
         "292032.7699",
         "213293.64",
         "78739.1299"
        ],
        [
         "8",
         "2019",
         "1",
         "91180",
         "BASE AÉREA NAVAL DE SÃO PEDRO DA ALDEIA",
         "535621.6161",
         "207307.19",
         "224870.754",
         "0.0",
         "29927.1797",
         "0.0",
         "0.0",
         "22402.8",
         "0.0",
         "432058.64",
         "997726.7398",
         "454461.44",
         "543265.2998"
        ],
        [
         "9",
         "2019",
         "1",
         "71100",
         "BASE DE ABASTECIMENTO DA MARINHA NO RIO DE JANEIRO",
         "170463.4061",
         "101940.79",
         "92793.32",
         "19713.2",
         "12132.2178",
         "0.0",
         "0.0",
         "25542.86",
         "0.0",
         "191597.165033",
         "397042.9339",
         "217140.025033",
         "179902.908867"
        ],
        [
         "10",
         "2019",
         "1",
         "95380",
         "BASE DE FUZILEIROS NAVAIS DA ILHA DAS FLORES",
         "116668.7415",
         "70443.05",
         "73079.59846",
         "17886.312",
         "1448.3993",
         "0.0",
         "0.0",
         "5867.51",
         "0.0",
         "143673.5475",
         "279526.10126",
         "149541.0575",
         "129985.04376"
        ],
        [
         "11",
         "2019",
         "1",
         "95180",
         "BASE DE FUZILEIROS NAVAIS DA ILHA DO GOVERNADOR",
         "552113.2966",
         "305543.27",
         "225817.724",
         "4293.0",
         "12827.0051",
         "0.0",
         "0.0",
         "22460.04",
         "0.0",
         "627413.5515",
         "1100594.2957",
         "649873.5915",
         "450720.7042"
        ],
        [
         "12",
         "2019",
         "1",
         "95500",
         "BASE DE FUZILEIROS NAVAIS DO RIO MERITI",
         "184642.1520741",
         "71755.65",
         "64467.88",
         "47997.24",
         "26755.9238",
         "0.0",
         "0.0",
         "32525.83",
         "0.0",
         "211685.8809",
         "395618.8458741",
         "244211.7109",
         "151407.1349741"
        ],
        [
         "13",
         "2019",
         "1",
         "51212",
         "BASE DE HIDROGRAFIA DA MARINHA EM NITERÓI",
         "162426.6745",
         "139360.19",
         "68049.532",
         "110903.185",
         "12383.0992",
         "0.0",
         "3293.94",
         "32244.08",
         "0.0",
         "257248.088",
         "493122.6807",
         "292786.108",
         "200336.5727"
        ],
        [
         "14",
         "2019",
         "1",
         "86800",
         "BASE FLUVIAL DE LADÁRIO",
         "249444.51187",
         "72769.16",
         "88404.209",
         "93472.92375",
         "86.13",
         "0.0",
         "0.0",
         "49021.79",
         "0.0",
         "224286.06562",
         "504176.93462",
         "273307.85562",
         "230869.079"
        ],
        [
         "15",
         "2019",
         "1",
         "82801",
         "BASE NAVAL DE ARATU",
         "99924.42664",
         "112914.31",
         "156951.2431",
         "0.0",
         "9031.2517",
         "981.39",
         "0.0",
         "20312.92",
         "0.0",
         "192777.1000075",
         "379802.62144",
         "213090.0200075",
         "166712.6014325"
        ],
        [
         "16",
         "2019",
         "1",
         "83800",
         "BASE NAVAL DE NATAL",
         "167772.7484",
         "102001.65",
         "95643.1797",
         "23924.21",
         "10289.0431",
         "0.0",
         "0.0",
         "0.0",
         "0.0",
         "178245.57",
         "399630.8312",
         "178245.57",
         "221385.2612"
        ],
        [
         "17",
         "2019",
         "1",
         "84800",
         "BASE NAVAL DE VAL-DE-CÃES",
         "266978.623",
         "2247.1",
         "164851.63",
         "0.0",
         "2028.04",
         "0.0",
         "0.0",
         "1022.92",
         "0.0",
         "187911.29",
         "436105.393",
         "188934.21",
         "247171.183"
        ],
        [
         "18",
         "2019",
         "1",
         "91800",
         "BASE NAVAL DO RIO DE JANEIRO",
         "385849.92316",
         "306253.02",
         "204515.66",
         "136367.26",
         "8365.3218",
         "0.0",
         "0.0",
         "24820.63",
         "0.0",
         "447885.17",
         "1041351.18496",
         "472705.8",
         "568645.38496"
        ],
        [
         "19",
         "2019",
         "1",
         "95400",
         "BATALHÃO DE OPERAÇÕES ESPECIAIS DE FUZILEIROS NAVAIS",
         "106077.53505",
         "41686.03",
         "71892.96",
         "15827.0",
         "0.0",
         "0.0",
         "0.0",
         "8094.85",
         "0.0",
         "107190.1923",
         "235483.52505",
         "115285.0423",
         "120198.48275"
        ],
        [
         "20",
         "2019",
         "1",
         "31050",
         "BATALHÃO NAVAL",
         "219225.22508",
         "26199.05",
         "158110.46",
         "142950.0404",
         "20742.307",
         "0.0",
         "0.0",
         "29150.04",
         "0.0",
         "283520.8758",
         "567227.08248",
         "312670.9158",
         "254556.16668"
        ],
        [
         "21",
         "2019",
         "1",
         "84310",
         "CAPITANIA DOS PORTOS DA AMAZONIA ORIENTAL",
         "17092.225",
         "5561.91",
         "11079.62",
         "0.0",
         "2158.9403",
         "0.0",
         "0.0",
         "0.0",
         "0.0",
         "24699.15",
         "35892.6953",
         "24699.15",
         "11193.5453"
        ],
        [
         "22",
         "2019",
         "1",
         "83340",
         "CAPITANIA DOS PORTOS DE PERNAMBUCO",
         "18383.9929",
         "920.0",
         "29567.58622",
         "0.0",
         "753.68",
         "0.0",
         "0.0",
         "1612.03",
         "0.0",
         "28089.27828",
         "49625.25912",
         "29701.30828",
         "19923.95084"
        ],
        [
         "23",
         "2019",
         "1",
         "85340",
         "CAPITANIA DOS PORTOS DE SANTA CATARINA",
         "17211.3896",
         "0.0",
         "0.0",
         "27934.1433",
         "237.2106",
         "0.0",
         "0.0",
         "459.08",
         "0.0",
         "25396.735",
         "45382.7435",
         "25855.815",
         "19526.9285"
        ],
        [
         "24",
         "2019",
         "1",
         "83320",
         "CAPITANIA DOS PORTOS DO CEARÁ",
         "34536.42495",
         "0.0",
         "4840.74",
         "0.0",
         "7003.1904",
         "0.0",
         "0.0",
         "1787.25",
         "0.0",
         "20159.56015",
         "46380.35535",
         "21946.81015",
         "24433.5452"
        ],
        [
         "25",
         "2019",
         "1",
         "81310",
         "CAPITANIA DOS PORTOS DO ESPÍRITO SANTO",
         "48935.06104",
         "0.0",
         "41291.128",
         "0.0",
         "2951.4257",
         "0.0",
         "18285.83",
         "1774.52",
         "0.0",
         "29476.76",
         "93177.61474",
         "49537.11",
         "43640.50474"
        ],
        [
         "26",
         "2019",
         "1",
         "84320",
         "CAPITANIA DOS PORTOS DO MARANHÃO",
         "35314.79466",
         "0.0",
         "0.0",
         "11262.622",
         "1265.6188",
         "0.0",
         "0.0",
         "1334.03",
         "0.0",
         "22611.47",
         "47843.03546",
         "23945.5",
         "23897.53546"
        ],
        [
         "27",
         "2019",
         "1",
         "89330",
         "CAPITANIA DOS PORTOS DO PARANÁ",
         "38843.98181",
         "0.0",
         "0.0",
         "15218.18",
         "3720.2922",
         "0.0",
         "0.0",
         "3607.38",
         "0.0",
         "16511.546",
         "57782.45401",
         "20118.926",
         "37663.52801"
        ],
        [
         "28",
         "2019",
         "1",
         "84330",
         "CAPITANIA DOS PORTOS DO PIAUI",
         "9253.968765",
         "0.0",
         "0.0",
         "2058.98",
         "10088.6846",
         "0.0",
         "0.0",
         "911.66",
         "0.0",
         "10525.73",
         "21401.633365",
         "11437.39",
         "9964.243365"
        ],
        [
         "29",
         "2019",
         "1",
         "83350",
         "CAPITANIA DOS PORTOS DO RIO GRANDE DO NORTE",
         "14194.2021",
         "8814.57",
         "6094.05698",
         "0.0",
         "795.9695",
         "0.0",
         "0.0",
         "1380.82",
         "0.0",
         "17547.08",
         "29898.79858",
         "18927.9",
         "10970.89858"
        ],
        [
         "30",
         "2019",
         "1",
         "85350",
         "CAPITANIA FLUVIAL DE PORTO ALEGRE",
         "34324.66249",
         "2638.56",
         "0.0",
         "11647.61",
         "12586.3167",
         "0.0",
         "0.0",
         "2158.16",
         "0.0",
         "25390.40741",
         "61197.14919",
         "27548.56741",
         "33648.58178"
        ],
        [
         "31",
         "2019",
         "1",
         "87310",
         "CAPITANIA FLUVIAL DO ARAGUAIA-TOCANTINS",
         "21022.715",
         "0.0",
         "0.0",
         "7283.32",
         "7252.8734",
         "0.0",
         "0.0",
         "6489.79",
         "0.0",
         "13106.9",
         "35558.9084",
         "19596.69",
         "15962.2184"
        ],
        [
         "32",
         "2019",
         "1",
         "89300",
         "CAPITANIA FLUVIAL DO RIO PARANÁ",
         "9461.94042",
         "0.0",
         "0.0",
         "7007.40254",
         "25536.3544",
         "0.0",
         "0.0",
         "5785.25",
         "0.0",
         "23789.91",
         "42005.69736",
         "29575.16",
         "12430.53736"
        ],
        [
         "33",
         "2019",
         "1",
         "67200",
         "CASA DO MARINHEIRO",
         "33123.185",
         "15659.96",
         "15163.062",
         "12687.1166",
         "248.5578",
         "0.0",
         "0.0",
         "6476.47",
         "0.0",
         "37195.349792",
         "76881.8814",
         "43671.819792",
         "33210.061608"
        ],
        [
         "34",
         "2019",
         "1",
         "91901",
         "CENTRO DE ADESTRAMENTO ALMIRANTE MARQUES DE LEÃO",
         "61999.5053278",
         "15765.96",
         "15839.772",
         "0.0",
         "5974.412",
         "0.0",
         "0.0",
         "0.0",
         "0.0",
         "41533.07725",
         "99579.6493278",
         "41533.07725",
         "58046.5720778"
        ],
        [
         "35",
         "2019",
         "1",
         "33100",
         "CENTRO DE AVALIAÇÃO DA ILHA DA MARAMBAIA",
         "177161.5054876",
         "28172.21",
         "8073.468",
         "10770.084",
         "39539.234",
         "0.0",
         "0.0",
         "55691.31",
         "0.0",
         "41274.5474599",
         "263716.5014876",
         "96965.8574599",
         "166750.6440277"
        ],
        [
         "36",
         "2019",
         "1",
         "32400",
         "CENTRO DE EDUCAÇÃO FÍSICA ALMIRANTE ADALBERTO NUNES",
         "75202.843389",
         "40060.55",
         "33579.73995",
         "32348.0724",
         "1785.3501",
         "0.0",
         "0.0",
         "64305.28",
         "0.0",
         "57614.4858",
         "182976.555839",
         "121919.7658",
         "61056.790039"
        ],
        [
         "37",
         "2019",
         "1",
         "62600",
         "CENTRO DE INSTRUÇÃO ALMIRANTE ALEXANDRINO",
         "502512.88",
         "475646.71",
         "512111.66",
         "1015.89",
         "2312.8441",
         "0.0",
         "0.0",
         "19924.74",
         "0.0",
         "989309.17542",
         "1493599.9841",
         "1009233.91542",
         "484366.06868"
        ],
        [
         "38",
         "2019",
         "1",
         "84900",
         "CENTRO DE INSTRUÇÃO ALMIRANTE BRAZ DE AGUIAR",
         "82855.25851",
         "8648.72",
         "140484.7455",
         "0.0",
         "3827.0801",
         "0.0",
         "0.0",
         "8362.68",
         "0.0",
         "154010.82",
         "235815.80411",
         "162373.5",
         "73442.30411"
        ],
        [
         "39",
         "2019",
         "1",
         "52100",
         "CENTRO DE INSTRUÇÃO ALMIRANTE GRACA ARANHA",
         "164270.5884",
         "83180.13",
         "45255.948",
         "132952.9095",
         "0.0",
         "0.0",
         "0.0",
         "43988.72",
         "0.0",
         "251970.78045",
         "425659.5759",
         "295959.50045",
         "129700.07545"
        ],
        [
         "40",
         "2019",
         "1",
         "32200",
         "CENTRO DE INSTRUÇÃO ALMIRANTE MILCIADES PORTELA ALVES",
         "123151.8237",
         "29084.01",
         "21800.57",
         "17747.02",
         "0.0",
         "0.0",
         "0.0",
         "7215.86",
         "0.0",
         "51832.6352",
         "191783.4237",
         "59048.4952",
         "132734.9285"
        ],
        [
         "41",
         "2019",
         "1",
         "32100",
         "CENTRO DE INSTRUÇÃO ALMIRANTE SYLVIO DE CAMARGO",
         "207079.667",
         "32985.01",
         "71783.46",
         "65152.79",
         "275.0422",
         "0.0",
         "0.0",
         "4490.16",
         "0.0",
         "166184.054",
         "377275.9692",
         "170674.214",
         "206601.7552"
        ],
        [
         "42",
         "2019",
         "1",
         "62200",
         "CENTRO DE INSTRUÇÃO ALMIRANTE WANDENKOLK",
         "150709.1351",
         "63830.21",
         "51305.964",
         "91940.9408",
         "0.0",
         "0.0",
         "0.0",
         "17001.79",
         "0.0",
         "172426.944",
         "357786.2499",
         "189428.734",
         "168357.5159"
        ],
        [
         "43",
         "2019",
         "1",
         "87900",
         "CENTRO DE INSTRUÇÃO E ADESTRAMENTO DE BRASILIA ALTE DOMINGOS DE MATTOS CORTEZ",
         "152519.8329",
         "0.0",
         "3840.48",
         "58265.29",
         "33774.0576",
         "0.0",
         "0.0",
         "0.0",
         "0.0",
         "101119.9554",
         "248399.6605",
         "101119.9554",
         "147279.7051"
        ],
        [
         "44",
         "2019",
         "1",
         "14001",
         "CENTRO DE INTELIGÊNCIA DA MARINHA - RIO",
         "11168.8593",
         "5815.19",
         "6264.582",
         "0.0",
         "1289.9174",
         "0.0",
         "0.0",
         "0.0",
         "0.0",
         "16025.35",
         "24538.5487",
         "16025.35",
         "8513.1987"
        ],
        [
         "45",
         "2019",
         "1",
         "44021",
         "CENTRO DE MANUTENÇÃO DE SISTEMAS DA MARINHA",
         "123671.93125",
         "70418.22",
         "63071.833",
         "117499.9025",
         "2263.297",
         "0.0",
         "0.0",
         "31857.39",
         "0.0",
         "211844.18205",
         "376925.18375",
         "243701.57205",
         "133223.6117"
        ],
        [
         "46",
         "2019",
         "1",
         "71280",
         "CENTRO DE MUNIÇÃO DA MARINHA",
         "108752.14717",
         "33346.37",
         "3141.35",
         "30645.511",
         "5682.2825",
         "0.0",
         "0.0",
         "8928.51",
         "0.0",
         "75371.9",
         "181567.66067",
         "84300.41",
         "97267.25067"
        ],
        [
         "47",
         "2019",
         "1",
         "44030",
         "CENTRO DE MÍSSEIS E ARMAS SUBMARINAS DA MARINHA",
         "66414.769",
         "33393.69",
         "20450.66",
         "0.0",
         "1428.6478",
         "0.0",
         "0.0",
         "2722.28",
         "0.0",
         "57764.1475",
         "121687.7668",
         "60486.4275",
         "61201.3393"
        ],
        [
         "48",
         "2019",
         "1",
         "42000",
         "CENTRO TECNOLÓGICO DA MARINHA EM SÃO PAULO \"SEDE\"",
         "6632.13",
         "0.0",
         "0.0",
         "366850.03",
         "3586.802",
         "0.0",
         "340.68",
         "11178.75",
         "0.0",
         "356615.95",
         "377068.962",
         "368135.38",
         "8933.582"
        ],
        [
         "49",
         "2019",
         "1",
         "31040",
         "CENTRO TECNOLÓGICO DO CFN",
         "84184.52044",
         "46615.72",
         "26741.094",
         "1608.36",
         "10979.4044",
         "0.0",
         "0.0",
         "21221.48",
         "0.0",
         "73360.64",
         "170129.09884",
         "94582.12",
         "75546.97884"
        ]
       ],
       "shape": {
        "columns": 17,
        "rows": 12558
       }
      },
      "text/html": [
       "<div>\n",
       "<style scoped>\n",
       "    .dataframe tbody tr th:only-of-type {\n",
       "        vertical-align: middle;\n",
       "    }\n",
       "\n",
       "    .dataframe tbody tr th {\n",
       "        vertical-align: top;\n",
       "    }\n",
       "\n",
       "    .dataframe thead th {\n",
       "        text-align: right;\n",
       "    }\n",
       "</style>\n",
       "<table border=\"1\" class=\"dataframe\">\n",
       "  <thead>\n",
       "    <tr style=\"text-align: right;\">\n",
       "      <th></th>\n",
       "      <th>ano</th>\n",
       "      <th>mes</th>\n",
       "      <th>codigo</th>\n",
       "      <th>nome</th>\n",
       "      <th>balanco_paiol_mes_anterior</th>\n",
       "      <th>gen_depsubmrj_depnav_reg</th>\n",
       "      <th>gen_adq_form_extra_mb_licit1</th>\n",
       "      <th>gen_adq_form_extra_mb_licit2</th>\n",
       "      <th>gen_adq_form_extra_mb_slicit</th>\n",
       "      <th>remessa_recebida</th>\n",
       "      <th>remessa_expedida</th>\n",
       "      <th>vale_extra</th>\n",
       "      <th>termo_de_despesa</th>\n",
       "      <th>generos_consumidos</th>\n",
       "      <th>totais_balanco_paiol_receita</th>\n",
       "      <th>totais_balanco_paiol_despesa</th>\n",
       "      <th>saldo</th>\n",
       "    </tr>\n",
       "  </thead>\n",
       "  <tbody>\n",
       "    <tr>\n",
       "      <th>0</th>\n",
       "      <td>2019</td>\n",
       "      <td>1</td>\n",
       "      <td>81200</td>\n",
       "      <td>1° BATALHAO DE OPERAÇOES LITORANEAS DE FUZILEI...</td>\n",
       "      <td>98180.15720</td>\n",
       "      <td>73516.14</td>\n",
       "      <td>42111.800</td>\n",
       "      <td>43376.544</td>\n",
       "      <td>1174.4000</td>\n",
       "      <td>0.0</td>\n",
       "      <td>0.0</td>\n",
       "      <td>2871.75</td>\n",
       "      <td>0.0</td>\n",
       "      <td>162351.16000</td>\n",
       "      <td>258359.04120</td>\n",
       "      <td>165222.91000</td>\n",
       "      <td>93136.13120</td>\n",
       "    </tr>\n",
       "    <tr>\n",
       "      <th>1</th>\n",
       "      <td>2019</td>\n",
       "      <td>1</td>\n",
       "      <td>88200</td>\n",
       "      <td>1º Batalhão de Operações Ribeirinhas</td>\n",
       "      <td>698734.61658</td>\n",
       "      <td>0.00</td>\n",
       "      <td>0.000</td>\n",
       "      <td>0.000</td>\n",
       "      <td>158691.8100</td>\n",
       "      <td>0.0</td>\n",
       "      <td>0.0</td>\n",
       "      <td>19335.01</td>\n",
       "      <td>0.0</td>\n",
       "      <td>168038.20800</td>\n",
       "      <td>857426.42658</td>\n",
       "      <td>187373.21800</td>\n",
       "      <td>670053.20858</td>\n",
       "    </tr>\n",
       "    <tr>\n",
       "      <th>2</th>\n",
       "      <td>2019</td>\n",
       "      <td>1</td>\n",
       "      <td>82200</td>\n",
       "      <td>2° BATALHÃO DE OPERAÇÕES LITORÂNEAS DE FUZILEI...</td>\n",
       "      <td>63728.75860</td>\n",
       "      <td>31178.35</td>\n",
       "      <td>54681.395</td>\n",
       "      <td>0.000</td>\n",
       "      <td>0.0000</td>\n",
       "      <td>0.0</td>\n",
       "      <td>0.0</td>\n",
       "      <td>5469.15</td>\n",
       "      <td>0.0</td>\n",
       "      <td>65744.78000</td>\n",
       "      <td>149588.50360</td>\n",
       "      <td>71213.93000</td>\n",
       "      <td>78374.57360</td>\n",
       "    </tr>\n",
       "    <tr>\n",
       "      <th>3</th>\n",
       "      <td>2019</td>\n",
       "      <td>1</td>\n",
       "      <td>84200</td>\n",
       "      <td>2º BATALHÃO DE OPERAÇÕES RIBEIRINHAS</td>\n",
       "      <td>171638.53500</td>\n",
       "      <td>54408.70</td>\n",
       "      <td>117189.000</td>\n",
       "      <td>0.000</td>\n",
       "      <td>6110.1599</td>\n",
       "      <td>0.0</td>\n",
       "      <td>0.0</td>\n",
       "      <td>4399.40</td>\n",
       "      <td>0.0</td>\n",
       "      <td>113672.31750</td>\n",
       "      <td>349346.39490</td>\n",
       "      <td>118071.71750</td>\n",
       "      <td>231274.67740</td>\n",
       "    </tr>\n",
       "    <tr>\n",
       "      <th>4</th>\n",
       "      <td>2019</td>\n",
       "      <td>1</td>\n",
       "      <td>83200</td>\n",
       "      <td>3° BATALHÃO DE OPERAÇÕES LITORÂNEAS DE FUZILEI...</td>\n",
       "      <td>94752.65847</td>\n",
       "      <td>9647.28</td>\n",
       "      <td>3400.210</td>\n",
       "      <td>0.000</td>\n",
       "      <td>505.5600</td>\n",
       "      <td>0.0</td>\n",
       "      <td>0.0</td>\n",
       "      <td>6570.20</td>\n",
       "      <td>0.0</td>\n",
       "      <td>12721.57279</td>\n",
       "      <td>108305.70847</td>\n",
       "      <td>19291.77279</td>\n",
       "      <td>89013.93568</td>\n",
       "    </tr>\n",
       "    <tr>\n",
       "      <th>...</th>\n",
       "      <td>...</td>\n",
       "      <td>...</td>\n",
       "      <td>...</td>\n",
       "      <td>...</td>\n",
       "      <td>...</td>\n",
       "      <td>...</td>\n",
       "      <td>...</td>\n",
       "      <td>...</td>\n",
       "      <td>...</td>\n",
       "      <td>...</td>\n",
       "      <td>...</td>\n",
       "      <td>...</td>\n",
       "      <td>...</td>\n",
       "      <td>...</td>\n",
       "      <td>...</td>\n",
       "      <td>...</td>\n",
       "      <td>...</td>\n",
       "    </tr>\n",
       "    <tr>\n",
       "      <th>12553</th>\n",
       "      <td>2025</td>\n",
       "      <td>8</td>\n",
       "      <td>91536</td>\n",
       "      <td>Submarino Humaitá</td>\n",
       "      <td>877.08020</td>\n",
       "      <td>0.00</td>\n",
       "      <td>0.000</td>\n",
       "      <td>0.000</td>\n",
       "      <td>0.0000</td>\n",
       "      <td>0.0</td>\n",
       "      <td>0.0</td>\n",
       "      <td>0.00</td>\n",
       "      <td>0.0</td>\n",
       "      <td>0.00000</td>\n",
       "      <td>877.08020</td>\n",
       "      <td>0.00000</td>\n",
       "      <td>877.08020</td>\n",
       "    </tr>\n",
       "    <tr>\n",
       "      <th>12554</th>\n",
       "      <td>2025</td>\n",
       "      <td>8</td>\n",
       "      <td>91535</td>\n",
       "      <td>Submarino Riachuelo</td>\n",
       "      <td>7648.43200</td>\n",
       "      <td>0.00</td>\n",
       "      <td>0.000</td>\n",
       "      <td>0.000</td>\n",
       "      <td>0.0000</td>\n",
       "      <td>0.0</td>\n",
       "      <td>0.0</td>\n",
       "      <td>0.00</td>\n",
       "      <td>0.0</td>\n",
       "      <td>0.00000</td>\n",
       "      <td>7648.43200</td>\n",
       "      <td>0.00000</td>\n",
       "      <td>7648.43200</td>\n",
       "    </tr>\n",
       "    <tr>\n",
       "      <th>12555</th>\n",
       "      <td>2025</td>\n",
       "      <td>8</td>\n",
       "      <td>10100</td>\n",
       "      <td>TRIBUNAL MARÍTIMO</td>\n",
       "      <td>4763.40000</td>\n",
       "      <td>284.70</td>\n",
       "      <td>4313.600</td>\n",
       "      <td>4315.400</td>\n",
       "      <td>0.0000</td>\n",
       "      <td>0.0</td>\n",
       "      <td>0.0</td>\n",
       "      <td>0.00</td>\n",
       "      <td>0.0</td>\n",
       "      <td>0.00000</td>\n",
       "      <td>13677.10000</td>\n",
       "      <td>0.00000</td>\n",
       "      <td>13677.10000</td>\n",
       "    </tr>\n",
       "    <tr>\n",
       "      <th>12556</th>\n",
       "      <td>2025</td>\n",
       "      <td>9</td>\n",
       "      <td>88131</td>\n",
       "      <td>NAVIO PATRULHA FLUVIAL \"RONDÔNIA\"</td>\n",
       "      <td>0.00000</td>\n",
       "      <td>0.00</td>\n",
       "      <td>0.000</td>\n",
       "      <td>0.000</td>\n",
       "      <td>0.0000</td>\n",
       "      <td>0.0</td>\n",
       "      <td>0.0</td>\n",
       "      <td>0.00</td>\n",
       "      <td>0.0</td>\n",
       "      <td>0.00000</td>\n",
       "      <td>0.00000</td>\n",
       "      <td>0.00000</td>\n",
       "      <td>0.00000</td>\n",
       "    </tr>\n",
       "    <tr>\n",
       "      <th>12557</th>\n",
       "      <td>2025</td>\n",
       "      <td>9</td>\n",
       "      <td>88132</td>\n",
       "      <td>NAVIO-PATRULHA FLUVIAL AMAPÁ</td>\n",
       "      <td>28188.49740</td>\n",
       "      <td>0.00</td>\n",
       "      <td>0.000</td>\n",
       "      <td>0.000</td>\n",
       "      <td>0.0000</td>\n",
       "      <td>0.0</td>\n",
       "      <td>0.0</td>\n",
       "      <td>0.00</td>\n",
       "      <td>0.0</td>\n",
       "      <td>0.00000</td>\n",
       "      <td>28188.49740</td>\n",
       "      <td>0.00000</td>\n",
       "      <td>28188.49740</td>\n",
       "    </tr>\n",
       "  </tbody>\n",
       "</table>\n",
       "<p>12558 rows × 17 columns</p>\n",
       "</div>"
      ],
      "text/plain": [
       "        ano  mes  codigo                                               nome  \\\n",
       "0      2019    1   81200  1° BATALHAO DE OPERAÇOES LITORANEAS DE FUZILEI...   \n",
       "1      2019    1   88200               1º Batalhão de Operações Ribeirinhas   \n",
       "2      2019    1   82200  2° BATALHÃO DE OPERAÇÕES LITORÂNEAS DE FUZILEI...   \n",
       "3      2019    1   84200               2º BATALHÃO DE OPERAÇÕES RIBEIRINHAS   \n",
       "4      2019    1   83200  3° BATALHÃO DE OPERAÇÕES LITORÂNEAS DE FUZILEI...   \n",
       "...     ...  ...     ...                                                ...   \n",
       "12553  2025    8   91536                                  Submarino Humaitá   \n",
       "12554  2025    8   91535                                Submarino Riachuelo   \n",
       "12555  2025    8   10100                                  TRIBUNAL MARÍTIMO   \n",
       "12556  2025    9   88131                  NAVIO PATRULHA FLUVIAL \"RONDÔNIA\"   \n",
       "12557  2025    9   88132                       NAVIO-PATRULHA FLUVIAL AMAPÁ   \n",
       "\n",
       "       balanco_paiol_mes_anterior  gen_depsubmrj_depnav_reg  \\\n",
       "0                     98180.15720                  73516.14   \n",
       "1                    698734.61658                      0.00   \n",
       "2                     63728.75860                  31178.35   \n",
       "3                    171638.53500                  54408.70   \n",
       "4                     94752.65847                   9647.28   \n",
       "...                           ...                       ...   \n",
       "12553                   877.08020                      0.00   \n",
       "12554                  7648.43200                      0.00   \n",
       "12555                  4763.40000                    284.70   \n",
       "12556                     0.00000                      0.00   \n",
       "12557                 28188.49740                      0.00   \n",
       "\n",
       "       gen_adq_form_extra_mb_licit1  gen_adq_form_extra_mb_licit2  \\\n",
       "0                         42111.800                     43376.544   \n",
       "1                             0.000                         0.000   \n",
       "2                         54681.395                         0.000   \n",
       "3                        117189.000                         0.000   \n",
       "4                          3400.210                         0.000   \n",
       "...                             ...                           ...   \n",
       "12553                         0.000                         0.000   \n",
       "12554                         0.000                         0.000   \n",
       "12555                      4313.600                      4315.400   \n",
       "12556                         0.000                         0.000   \n",
       "12557                         0.000                         0.000   \n",
       "\n",
       "       gen_adq_form_extra_mb_slicit  remessa_recebida  remessa_expedida  \\\n",
       "0                         1174.4000               0.0               0.0   \n",
       "1                       158691.8100               0.0               0.0   \n",
       "2                            0.0000               0.0               0.0   \n",
       "3                         6110.1599               0.0               0.0   \n",
       "4                          505.5600               0.0               0.0   \n",
       "...                             ...               ...               ...   \n",
       "12553                        0.0000               0.0               0.0   \n",
       "12554                        0.0000               0.0               0.0   \n",
       "12555                        0.0000               0.0               0.0   \n",
       "12556                        0.0000               0.0               0.0   \n",
       "12557                        0.0000               0.0               0.0   \n",
       "\n",
       "       vale_extra  termo_de_despesa  generos_consumidos  \\\n",
       "0         2871.75               0.0        162351.16000   \n",
       "1        19335.01               0.0        168038.20800   \n",
       "2         5469.15               0.0         65744.78000   \n",
       "3         4399.40               0.0        113672.31750   \n",
       "4         6570.20               0.0         12721.57279   \n",
       "...           ...               ...                 ...   \n",
       "12553        0.00               0.0             0.00000   \n",
       "12554        0.00               0.0             0.00000   \n",
       "12555        0.00               0.0             0.00000   \n",
       "12556        0.00               0.0             0.00000   \n",
       "12557        0.00               0.0             0.00000   \n",
       "\n",
       "       totais_balanco_paiol_receita  totais_balanco_paiol_despesa  \\\n",
       "0                      258359.04120                  165222.91000   \n",
       "1                      857426.42658                  187373.21800   \n",
       "2                      149588.50360                   71213.93000   \n",
       "3                      349346.39490                  118071.71750   \n",
       "4                      108305.70847                   19291.77279   \n",
       "...                             ...                           ...   \n",
       "12553                     877.08020                       0.00000   \n",
       "12554                    7648.43200                       0.00000   \n",
       "12555                   13677.10000                       0.00000   \n",
       "12556                       0.00000                       0.00000   \n",
       "12557                   28188.49740                       0.00000   \n",
       "\n",
       "              saldo  \n",
       "0       93136.13120  \n",
       "1      670053.20858  \n",
       "2       78374.57360  \n",
       "3      231274.67740  \n",
       "4       89013.93568  \n",
       "...             ...  \n",
       "12553     877.08020  \n",
       "12554    7648.43200  \n",
       "12555   13677.10000  \n",
       "12556       0.00000  \n",
       "12557   28188.49740  \n",
       "\n",
       "[12558 rows x 17 columns]"
      ]
     },
     "execution_count": 184,
     "metadata": {},
     "output_type": "execute_result"
    }
   ],
   "source": [
    "mmm"
   ]
  },
  {
   "cell_type": "code",
   "execution_count": 186,
   "id": "a6b0a36f",
   "metadata": {},
   "outputs": [
    {
     "data": {
      "application/vnd.jupyter.widget-view+json": {
       "model_id": "f155ad676f4940c2b68e7126fefe57b5",
       "version_major": 2,
       "version_minor": 0
      },
      "text/plain": [
       "Dropdown(description='Task:', options=('Addition', 'Multiplication', 'Subtraction', 'Division'), value='Additi…"
      ]
     },
     "metadata": {},
     "output_type": "display_data"
    }
   ],
   "source": [
    "import ipywidgets as widgets\n",
    "from IPython.display import display\n",
    "\n",
    "w = widgets.Dropdown(\n",
    "    options=['Addition', 'Multiplication', 'Subtraction', 'Division'],\n",
    "    value='Addition',\n",
    "    description='Task:',\n",
    ")\n",
    "\n",
    "def on_change(change):\n",
    "    if change['type'] == 'change' and change['name'] == 'value':\n",
    "        print(\"changed to %s\" % change['new'])\n",
    "\n",
    "w.observe(on_change)\n",
    "\n",
    "display(w)"
   ]
  },
  {
   "cell_type": "code",
   "execution_count": 187,
   "id": "0b707537",
   "metadata": {},
   "outputs": [
    {
     "name": "stdout",
     "output_type": "stream",
     "text": [
      "Selected color: green\n"
     ]
    }
   ],
   "source": [
    "color = 'green' #@param [\"red\", \"green\", \"blue\"]\n",
    "print(f\"Selected color: {color}\")"
   ]
  },
  {
   "cell_type": "code",
   "execution_count": 36,
   "id": "7d0c5db5",
   "metadata": {},
   "outputs": [
    {
     "name": "stdout",
     "output_type": "stream",
     "text": [
      "SARIMA MAE: 1582296.4842019656\n"
     ]
    }
   ],
   "source": [
    "sarima_model = SARIMAX(train.totais_balanco_paiol_despesa,\n",
    "                       order=model_auto.order,\n",
    "                       seasonal_order=model_auto.seasonal_order)\n",
    "\n",
    "sarima_fit = sarima_model.fit(disp=False)\n",
    "\n",
    "forecast_sarima = sarima_fit.get_forecast(steps=12)\n",
    "pred_sarima = forecast_sarima.predicted_mean\n",
    "\n",
    "mae_sarima = mean_absolute_error(test.totais_balanco_paiol_despesa, pred_sarima)\n",
    "print('SARIMA MAE:', mae_sarima)\n",
    "\n"
   ]
  },
  {
   "cell_type": "code",
   "execution_count": 37,
   "id": "fc5d37b2",
   "metadata": {},
   "outputs": [
    {
     "data": {
      "application/vnd.plotly.v1+json": {
       "config": {
        "plotlyServerURL": "https://plot.ly"
       },
       "data": [
        {
         "hovertemplate": "Mês e ano=%{x}<br>Totais das despesas=%{y}<extra></extra>",
         "legendgroup": "",
         "line": {
          "color": "#636efa",
          "dash": "solid",
          "width": 2
         },
         "marker": {
          "symbol": "circle"
         },
         "mode": "lines+markers",
         "name": "",
         "orientation": "v",
         "showlegend": false,
         "type": "scatter",
         "x": [
          "1_2019",
          "2_2019",
          "3_2019",
          "4_2019",
          "5_2019",
          "6_2019",
          "7_2019",
          "8_2019",
          "9_2019",
          "10_2019",
          "11_2019",
          "12_2019",
          "1_2020",
          "2_2020",
          "3_2020",
          "4_2020",
          "5_2020",
          "6_2020",
          "7_2020",
          "8_2020",
          "9_2020",
          "10_2020",
          "11_2020",
          "12_2020",
          "1_2021",
          "2_2021",
          "3_2021",
          "4_2021",
          "5_2021",
          "6_2021",
          "7_2021",
          "8_2021",
          "9_2021",
          "10_2021",
          "11_2021",
          "12_2021",
          "1_2022",
          "2_2022",
          "3_2022",
          "4_2022",
          "5_2022",
          "6_2022",
          "7_2022",
          "8_2022",
          "9_2022",
          "10_2022",
          "11_2022",
          "12_2022",
          "1_2023",
          "2_2023",
          "3_2023",
          "4_2023",
          "5_2023",
          "6_2023",
          "7_2023",
          "8_2023",
          "9_2023",
          "10_2023",
          "11_2023",
          "12_2023",
          "1_2024",
          "2_2024",
          "3_2024",
          "4_2024",
          "5_2024",
          "6_2024",
          "7_2024",
          "8_2024",
          "9_2024",
          "10_2024",
          "11_2024",
          "12_2024",
          "1_2025",
          "2_2025",
          "3_2025",
          "4_2025",
          "5_2025",
          "6_2025",
          "7_2025"
         ],
         "xaxis": "x",
         "y": {
          "bdata": "I9ZH8iJtb0FtsfZ2LPRuQemhkfIl4W5BKEwzSaGicEGNHilIVihyQRDbZ4suX3BBe+3jT2lHcUE6aEXbnatxQagM0kyy9XBBT+V5W871cUEycZAUqXNwQTxy2pFkZWxBeTrX+F9WbUE2XKQV2L5pQTEUJlZx8WtBhoLjJeEhZUHapt10UxRkQSp/7XaQiGRByRqa8VxXZ0H+8iTGukFoQTH2lKKxuGhBPT1bh7isakE2vdVYOGtpQc1BKyy562ZBt9RcyifGZkFtx1QslENnQebiFFGy1mtBhnYOnExXaUGhhBnOH/pqQYBJKl0MD2pBpivYWTUxbUHZB1lS4NxvQS4sCTp+nG1B2Ls/cYfRbEHRIAVs4fJtQRAGnrtgZGtB4e6sqIxOb0EYCW3KtLtvQW3F/g9ZanJBNV46I+w2cUEsZRnhzOxzQRv1kM8RNHJBlMHRjTRWckHxEbH0hAh0QXqlrKizsHJB3dJqsn1xckGOAVm9hz1xQXctIWojM29BH2gFSO4gcUH3qpWNgy9vQYsaTHWbUXRBkGas9fsnckGjh+vd0hR1Qdxj6dKMz3NBJscdqppjc0H129cEwFt0QX50aiJ9f3NB8Ut9MCsrdEGfdvj530NzQad0MC4jV3BBeTtCzthPckE/b6op9aZwQcoyRBF+tXRBTzv8F20gdEHZfFx0hlR0Qfz7DL1tRHNBAtnrQiRkdEFau23y8/J0Qcu5lJPyFnRBS+XtizcDdEHSAF6aLZ1xQRBAarvZTm5BtDwPhYDEckH+t5JAdZVzQWdhTyUygXRBIatbmOttdUE6HrOLvHN4QYHPDxSthXZBXdxGIyRkd0E=",
          "dtype": "f8"
         },
         "yaxis": "y"
        },
        {
         "line": {
          "width": 2
         },
         "mode": "lines+markers",
         "type": "scatter",
         "x": [
          "8_2024",
          "9_2024",
          "10_2024",
          "11_2024",
          "12_2024",
          "1_2025",
          "2_2025",
          "3_2025",
          "4_2025",
          "5_2025",
          "6_2025",
          "7_2025"
         ],
         "y": {
          "bdata": "ZLzRIEO7dEEwNJr2IWV0QZu7M6ANjnRB8flvY3w/dEHYCSOr70tzQdgYOJMUyHRBFqY8OQRgdEHIWvlPEqh1QUUGN91aEHVBMzEEXwqvdUGnXmI80jF1QZhWtJYqi3VB",
          "dtype": "f8"
         }
        }
       ],
       "layout": {
        "hovermode": "x unified",
        "legend": {
         "tracegroupgap": 0
        },
        "template": {
         "data": {
          "bar": [
           {
            "error_x": {
             "color": "#2a3f5f"
            },
            "error_y": {
             "color": "#2a3f5f"
            },
            "marker": {
             "line": {
              "color": "white",
              "width": 0.5
             },
             "pattern": {
              "fillmode": "overlay",
              "size": 10,
              "solidity": 0.2
             }
            },
            "type": "bar"
           }
          ],
          "barpolar": [
           {
            "marker": {
             "line": {
              "color": "white",
              "width": 0.5
             },
             "pattern": {
              "fillmode": "overlay",
              "size": 10,
              "solidity": 0.2
             }
            },
            "type": "barpolar"
           }
          ],
          "carpet": [
           {
            "aaxis": {
             "endlinecolor": "#2a3f5f",
             "gridcolor": "#C8D4E3",
             "linecolor": "#C8D4E3",
             "minorgridcolor": "#C8D4E3",
             "startlinecolor": "#2a3f5f"
            },
            "baxis": {
             "endlinecolor": "#2a3f5f",
             "gridcolor": "#C8D4E3",
             "linecolor": "#C8D4E3",
             "minorgridcolor": "#C8D4E3",
             "startlinecolor": "#2a3f5f"
            },
            "type": "carpet"
           }
          ],
          "choropleth": [
           {
            "colorbar": {
             "outlinewidth": 0,
             "ticks": ""
            },
            "type": "choropleth"
           }
          ],
          "contour": [
           {
            "colorbar": {
             "outlinewidth": 0,
             "ticks": ""
            },
            "colorscale": [
             [
              0,
              "#0d0887"
             ],
             [
              0.1111111111111111,
              "#46039f"
             ],
             [
              0.2222222222222222,
              "#7201a8"
             ],
             [
              0.3333333333333333,
              "#9c179e"
             ],
             [
              0.4444444444444444,
              "#bd3786"
             ],
             [
              0.5555555555555556,
              "#d8576b"
             ],
             [
              0.6666666666666666,
              "#ed7953"
             ],
             [
              0.7777777777777778,
              "#fb9f3a"
             ],
             [
              0.8888888888888888,
              "#fdca26"
             ],
             [
              1,
              "#f0f921"
             ]
            ],
            "type": "contour"
           }
          ],
          "contourcarpet": [
           {
            "colorbar": {
             "outlinewidth": 0,
             "ticks": ""
            },
            "type": "contourcarpet"
           }
          ],
          "heatmap": [
           {
            "colorbar": {
             "outlinewidth": 0,
             "ticks": ""
            },
            "colorscale": [
             [
              0,
              "#0d0887"
             ],
             [
              0.1111111111111111,
              "#46039f"
             ],
             [
              0.2222222222222222,
              "#7201a8"
             ],
             [
              0.3333333333333333,
              "#9c179e"
             ],
             [
              0.4444444444444444,
              "#bd3786"
             ],
             [
              0.5555555555555556,
              "#d8576b"
             ],
             [
              0.6666666666666666,
              "#ed7953"
             ],
             [
              0.7777777777777778,
              "#fb9f3a"
             ],
             [
              0.8888888888888888,
              "#fdca26"
             ],
             [
              1,
              "#f0f921"
             ]
            ],
            "type": "heatmap"
           }
          ],
          "histogram": [
           {
            "marker": {
             "pattern": {
              "fillmode": "overlay",
              "size": 10,
              "solidity": 0.2
             }
            },
            "type": "histogram"
           }
          ],
          "histogram2d": [
           {
            "colorbar": {
             "outlinewidth": 0,
             "ticks": ""
            },
            "colorscale": [
             [
              0,
              "#0d0887"
             ],
             [
              0.1111111111111111,
              "#46039f"
             ],
             [
              0.2222222222222222,
              "#7201a8"
             ],
             [
              0.3333333333333333,
              "#9c179e"
             ],
             [
              0.4444444444444444,
              "#bd3786"
             ],
             [
              0.5555555555555556,
              "#d8576b"
             ],
             [
              0.6666666666666666,
              "#ed7953"
             ],
             [
              0.7777777777777778,
              "#fb9f3a"
             ],
             [
              0.8888888888888888,
              "#fdca26"
             ],
             [
              1,
              "#f0f921"
             ]
            ],
            "type": "histogram2d"
           }
          ],
          "histogram2dcontour": [
           {
            "colorbar": {
             "outlinewidth": 0,
             "ticks": ""
            },
            "colorscale": [
             [
              0,
              "#0d0887"
             ],
             [
              0.1111111111111111,
              "#46039f"
             ],
             [
              0.2222222222222222,
              "#7201a8"
             ],
             [
              0.3333333333333333,
              "#9c179e"
             ],
             [
              0.4444444444444444,
              "#bd3786"
             ],
             [
              0.5555555555555556,
              "#d8576b"
             ],
             [
              0.6666666666666666,
              "#ed7953"
             ],
             [
              0.7777777777777778,
              "#fb9f3a"
             ],
             [
              0.8888888888888888,
              "#fdca26"
             ],
             [
              1,
              "#f0f921"
             ]
            ],
            "type": "histogram2dcontour"
           }
          ],
          "mesh3d": [
           {
            "colorbar": {
             "outlinewidth": 0,
             "ticks": ""
            },
            "type": "mesh3d"
           }
          ],
          "parcoords": [
           {
            "line": {
             "colorbar": {
              "outlinewidth": 0,
              "ticks": ""
             }
            },
            "type": "parcoords"
           }
          ],
          "pie": [
           {
            "automargin": true,
            "type": "pie"
           }
          ],
          "scatter": [
           {
            "fillpattern": {
             "fillmode": "overlay",
             "size": 10,
             "solidity": 0.2
            },
            "type": "scatter"
           }
          ],
          "scatter3d": [
           {
            "line": {
             "colorbar": {
              "outlinewidth": 0,
              "ticks": ""
             }
            },
            "marker": {
             "colorbar": {
              "outlinewidth": 0,
              "ticks": ""
             }
            },
            "type": "scatter3d"
           }
          ],
          "scattercarpet": [
           {
            "marker": {
             "colorbar": {
              "outlinewidth": 0,
              "ticks": ""
             }
            },
            "type": "scattercarpet"
           }
          ],
          "scattergeo": [
           {
            "marker": {
             "colorbar": {
              "outlinewidth": 0,
              "ticks": ""
             }
            },
            "type": "scattergeo"
           }
          ],
          "scattergl": [
           {
            "marker": {
             "colorbar": {
              "outlinewidth": 0,
              "ticks": ""
             }
            },
            "type": "scattergl"
           }
          ],
          "scattermap": [
           {
            "marker": {
             "colorbar": {
              "outlinewidth": 0,
              "ticks": ""
             }
            },
            "type": "scattermap"
           }
          ],
          "scattermapbox": [
           {
            "marker": {
             "colorbar": {
              "outlinewidth": 0,
              "ticks": ""
             }
            },
            "type": "scattermapbox"
           }
          ],
          "scatterpolar": [
           {
            "marker": {
             "colorbar": {
              "outlinewidth": 0,
              "ticks": ""
             }
            },
            "type": "scatterpolar"
           }
          ],
          "scatterpolargl": [
           {
            "marker": {
             "colorbar": {
              "outlinewidth": 0,
              "ticks": ""
             }
            },
            "type": "scatterpolargl"
           }
          ],
          "scatterternary": [
           {
            "marker": {
             "colorbar": {
              "outlinewidth": 0,
              "ticks": ""
             }
            },
            "type": "scatterternary"
           }
          ],
          "surface": [
           {
            "colorbar": {
             "outlinewidth": 0,
             "ticks": ""
            },
            "colorscale": [
             [
              0,
              "#0d0887"
             ],
             [
              0.1111111111111111,
              "#46039f"
             ],
             [
              0.2222222222222222,
              "#7201a8"
             ],
             [
              0.3333333333333333,
              "#9c179e"
             ],
             [
              0.4444444444444444,
              "#bd3786"
             ],
             [
              0.5555555555555556,
              "#d8576b"
             ],
             [
              0.6666666666666666,
              "#ed7953"
             ],
             [
              0.7777777777777778,
              "#fb9f3a"
             ],
             [
              0.8888888888888888,
              "#fdca26"
             ],
             [
              1,
              "#f0f921"
             ]
            ],
            "type": "surface"
           }
          ],
          "table": [
           {
            "cells": {
             "fill": {
              "color": "#EBF0F8"
             },
             "line": {
              "color": "white"
             }
            },
            "header": {
             "fill": {
              "color": "#C8D4E3"
             },
             "line": {
              "color": "white"
             }
            },
            "type": "table"
           }
          ]
         },
         "layout": {
          "annotationdefaults": {
           "arrowcolor": "#2a3f5f",
           "arrowhead": 0,
           "arrowwidth": 1
          },
          "autotypenumbers": "strict",
          "coloraxis": {
           "colorbar": {
            "outlinewidth": 0,
            "ticks": ""
           }
          },
          "colorscale": {
           "diverging": [
            [
             0,
             "#8e0152"
            ],
            [
             0.1,
             "#c51b7d"
            ],
            [
             0.2,
             "#de77ae"
            ],
            [
             0.3,
             "#f1b6da"
            ],
            [
             0.4,
             "#fde0ef"
            ],
            [
             0.5,
             "#f7f7f7"
            ],
            [
             0.6,
             "#e6f5d0"
            ],
            [
             0.7,
             "#b8e186"
            ],
            [
             0.8,
             "#7fbc41"
            ],
            [
             0.9,
             "#4d9221"
            ],
            [
             1,
             "#276419"
            ]
           ],
           "sequential": [
            [
             0,
             "#0d0887"
            ],
            [
             0.1111111111111111,
             "#46039f"
            ],
            [
             0.2222222222222222,
             "#7201a8"
            ],
            [
             0.3333333333333333,
             "#9c179e"
            ],
            [
             0.4444444444444444,
             "#bd3786"
            ],
            [
             0.5555555555555556,
             "#d8576b"
            ],
            [
             0.6666666666666666,
             "#ed7953"
            ],
            [
             0.7777777777777778,
             "#fb9f3a"
            ],
            [
             0.8888888888888888,
             "#fdca26"
            ],
            [
             1,
             "#f0f921"
            ]
           ],
           "sequentialminus": [
            [
             0,
             "#0d0887"
            ],
            [
             0.1111111111111111,
             "#46039f"
            ],
            [
             0.2222222222222222,
             "#7201a8"
            ],
            [
             0.3333333333333333,
             "#9c179e"
            ],
            [
             0.4444444444444444,
             "#bd3786"
            ],
            [
             0.5555555555555556,
             "#d8576b"
            ],
            [
             0.6666666666666666,
             "#ed7953"
            ],
            [
             0.7777777777777778,
             "#fb9f3a"
            ],
            [
             0.8888888888888888,
             "#fdca26"
            ],
            [
             1,
             "#f0f921"
            ]
           ]
          },
          "colorway": [
           "#636efa",
           "#EF553B",
           "#00cc96",
           "#ab63fa",
           "#FFA15A",
           "#19d3f3",
           "#FF6692",
           "#B6E880",
           "#FF97FF",
           "#FECB52"
          ],
          "font": {
           "color": "#2a3f5f"
          },
          "geo": {
           "bgcolor": "white",
           "lakecolor": "white",
           "landcolor": "white",
           "showlakes": true,
           "showland": true,
           "subunitcolor": "#C8D4E3"
          },
          "hoverlabel": {
           "align": "left"
          },
          "hovermode": "closest",
          "mapbox": {
           "style": "light"
          },
          "paper_bgcolor": "white",
          "plot_bgcolor": "white",
          "polar": {
           "angularaxis": {
            "gridcolor": "#EBF0F8",
            "linecolor": "#EBF0F8",
            "ticks": ""
           },
           "bgcolor": "white",
           "radialaxis": {
            "gridcolor": "#EBF0F8",
            "linecolor": "#EBF0F8",
            "ticks": ""
           }
          },
          "scene": {
           "xaxis": {
            "backgroundcolor": "white",
            "gridcolor": "#DFE8F3",
            "gridwidth": 2,
            "linecolor": "#EBF0F8",
            "showbackground": true,
            "ticks": "",
            "zerolinecolor": "#EBF0F8"
           },
           "yaxis": {
            "backgroundcolor": "white",
            "gridcolor": "#DFE8F3",
            "gridwidth": 2,
            "linecolor": "#EBF0F8",
            "showbackground": true,
            "ticks": "",
            "zerolinecolor": "#EBF0F8"
           },
           "zaxis": {
            "backgroundcolor": "white",
            "gridcolor": "#DFE8F3",
            "gridwidth": 2,
            "linecolor": "#EBF0F8",
            "showbackground": true,
            "ticks": "",
            "zerolinecolor": "#EBF0F8"
           }
          },
          "shapedefaults": {
           "line": {
            "color": "#2a3f5f"
           }
          },
          "ternary": {
           "aaxis": {
            "gridcolor": "#DFE8F3",
            "linecolor": "#A2B1C6",
            "ticks": ""
           },
           "baxis": {
            "gridcolor": "#DFE8F3",
            "linecolor": "#A2B1C6",
            "ticks": ""
           },
           "bgcolor": "white",
           "caxis": {
            "gridcolor": "#DFE8F3",
            "linecolor": "#A2B1C6",
            "ticks": ""
           }
          },
          "title": {
           "x": 0.05
          },
          "xaxis": {
           "automargin": true,
           "gridcolor": "#EBF0F8",
           "linecolor": "#EBF0F8",
           "ticks": "",
           "title": {
            "standoff": 15
           },
           "zerolinecolor": "#EBF0F8",
           "zerolinewidth": 2
          },
          "yaxis": {
           "automargin": true,
           "gridcolor": "#EBF0F8",
           "linecolor": "#EBF0F8",
           "ticks": "",
           "title": {
            "standoff": 15
           },
           "zerolinecolor": "#EBF0F8",
           "zerolinewidth": 2
          }
         }
        },
        "title": {
         "text": "Previsão temporal com o algoritmo SARIMA"
        },
        "xaxis": {
         "anchor": "y",
         "domain": [
          0,
          1
         ],
         "tickangle": 45,
         "title": {
          "text": "Mês e ano"
         }
        },
        "yaxis": {
         "anchor": "x",
         "domain": [
          0,
          1
         ],
         "title": {
          "text": "Totais das despesas"
         }
        }
       }
      }
     },
     "metadata": {},
     "output_type": "display_data"
    }
   ],
   "source": [
    "fig = grafico_base('Previsão temporal com o algoritmo SARIMA')\n",
    "\n",
    "fig.add_trace(\n",
    "    go.Scatter(\n",
    "        x = test.mes,\n",
    "        y = pred_sarima\n",
    "    )\n",
    ")\n",
    "\n",
    "fig.update_traces(mode='lines+markers', line=dict(width=2))\n",
    "fig.update_xaxes(tickangle=45)\n",
    "fig.update_layout(\n",
    "    template='plotly_white',\n",
    "    hovermode='x unified'\n",
    "    )\n",
    "\n",
    "fig.show()"
   ]
  },
  {
   "cell_type": "code",
   "execution_count": null,
   "id": "678e5898",
   "metadata": {},
   "outputs": [
    {
     "name": "stderr",
     "output_type": "stream",
     "text": [
      "18:40:51 - cmdstanpy - INFO - Chain [1] start processing\n",
      "18:40:52 - cmdstanpy - INFO - Chain [1] done processing\n"
     ]
    },
    {
     "name": "stdout",
     "output_type": "stream",
     "text": [
      "Prophet MAE 1378543.2568654409\n"
     ]
    }
   ],
   "source": [
    "# Previsão com o Prophet\n",
    "\n",
    "prophet_df = mmm_marinha[['mes', 'totais_balanco_paiol_despesa']]\n",
    "prophet_df.columns = ['ds', 'y']\n",
    "prophet_df['ds'] = pd.to_datetime(prophet_df['ds'], format='%m_%Y')\n",
    "\n",
    "model_prophet = Prophet(yearly_seasonality=True, weekly_seasonality=False, daily_seasonality=False)\n",
    "model_prophet.fit(prophet_df)\n",
    "\n",
    "future = model_prophet.make_future_dataframe(periods=12, freq='M')\n",
    "forecast = model_prophet.predict(future)\n",
    "\n",
    "forecast_test = forecast.set_index('ds').loc[pd.to_datetime(test.mes, format='%m_%Y')]\n",
    "mae_prophet = mean_absolute_error(test['totais_balanco_paiol_despesa'], forecast_test['yhat'])\n",
    "print('Prophet MAE', mae_prophet)"
   ]
  },
  {
   "cell_type": "code",
   "execution_count": 39,
   "id": "2f7c19f3",
   "metadata": {},
   "outputs": [
    {
     "data": {
      "application/vnd.plotly.v1+json": {
       "config": {
        "plotlyServerURL": "https://plot.ly"
       },
       "data": [
        {
         "hovertemplate": "Mês e ano=%{x}<br>Totais das despesas=%{y}<extra></extra>",
         "legendgroup": "",
         "line": {
          "color": "#636efa",
          "dash": "solid",
          "width": 2
         },
         "marker": {
          "symbol": "circle"
         },
         "mode": "lines+markers",
         "name": "",
         "orientation": "v",
         "showlegend": false,
         "type": "scatter",
         "x": [
          "1_2019",
          "2_2019",
          "3_2019",
          "4_2019",
          "5_2019",
          "6_2019",
          "7_2019",
          "8_2019",
          "9_2019",
          "10_2019",
          "11_2019",
          "12_2019",
          "1_2020",
          "2_2020",
          "3_2020",
          "4_2020",
          "5_2020",
          "6_2020",
          "7_2020",
          "8_2020",
          "9_2020",
          "10_2020",
          "11_2020",
          "12_2020",
          "1_2021",
          "2_2021",
          "3_2021",
          "4_2021",
          "5_2021",
          "6_2021",
          "7_2021",
          "8_2021",
          "9_2021",
          "10_2021",
          "11_2021",
          "12_2021",
          "1_2022",
          "2_2022",
          "3_2022",
          "4_2022",
          "5_2022",
          "6_2022",
          "7_2022",
          "8_2022",
          "9_2022",
          "10_2022",
          "11_2022",
          "12_2022",
          "1_2023",
          "2_2023",
          "3_2023",
          "4_2023",
          "5_2023",
          "6_2023",
          "7_2023",
          "8_2023",
          "9_2023",
          "10_2023",
          "11_2023",
          "12_2023",
          "1_2024",
          "2_2024",
          "3_2024",
          "4_2024",
          "5_2024",
          "6_2024",
          "7_2024",
          "8_2024",
          "9_2024",
          "10_2024",
          "11_2024",
          "12_2024",
          "1_2025",
          "2_2025",
          "3_2025",
          "4_2025",
          "5_2025",
          "6_2025",
          "7_2025"
         ],
         "xaxis": "x",
         "y": {
          "bdata": "I9ZH8iJtb0FtsfZ2LPRuQemhkfIl4W5BKEwzSaGicEGNHilIVihyQRDbZ4suX3BBe+3jT2lHcUE6aEXbnatxQagM0kyy9XBBT+V5W871cUEycZAUqXNwQTxy2pFkZWxBeTrX+F9WbUE2XKQV2L5pQTEUJlZx8WtBhoLjJeEhZUHapt10UxRkQSp/7XaQiGRByRqa8VxXZ0H+8iTGukFoQTH2lKKxuGhBPT1bh7isakE2vdVYOGtpQc1BKyy562ZBt9RcyifGZkFtx1QslENnQebiFFGy1mtBhnYOnExXaUGhhBnOH/pqQYBJKl0MD2pBpivYWTUxbUHZB1lS4NxvQS4sCTp+nG1B2Ls/cYfRbEHRIAVs4fJtQRAGnrtgZGtB4e6sqIxOb0EYCW3KtLtvQW3F/g9ZanJBNV46I+w2cUEsZRnhzOxzQRv1kM8RNHJBlMHRjTRWckHxEbH0hAh0QXqlrKizsHJB3dJqsn1xckGOAVm9hz1xQXctIWojM29BH2gFSO4gcUH3qpWNgy9vQYsaTHWbUXRBkGas9fsnckGjh+vd0hR1Qdxj6dKMz3NBJscdqppjc0H129cEwFt0QX50aiJ9f3NB8Ut9MCsrdEGfdvj530NzQad0MC4jV3BBeTtCzthPckE/b6op9aZwQcoyRBF+tXRBTzv8F20gdEHZfFx0hlR0Qfz7DL1tRHNBAtnrQiRkdEFau23y8/J0Qcu5lJPyFnRBS+XtizcDdEHSAF6aLZ1xQRBAarvZTm5BtDwPhYDEckH+t5JAdZVzQWdhTyUygXRBIatbmOttdUE6HrOLvHN4QYHPDxSthXZBXdxGIyRkd0E=",
          "dtype": "f8"
         },
         "yaxis": "y"
        },
        {
         "line": {
          "width": 2
         },
         "mode": "lines+markers",
         "type": "scatter",
         "x": [
          "8_2024",
          "9_2024",
          "10_2024",
          "11_2024",
          "12_2024",
          "1_2025",
          "2_2025",
          "3_2025",
          "4_2025",
          "5_2025",
          "6_2025",
          "7_2025"
         ],
         "y": {
          "bdata": "A0Y+0sbIdUFrhPo2GEZ1QVpbp3zBJ3VB0MYKf7jTc0HiHfZWyPdxQb0X84dbtXNBLZnDg6B7dEFad0Qg7Pd1QSaosbX6AnVBbxwYgk9edkHQWqkrx4h1QfJDiJndmHZB",
          "dtype": "f8"
         }
        }
       ],
       "layout": {
        "hovermode": "x unified",
        "legend": {
         "tracegroupgap": 0
        },
        "template": {
         "data": {
          "bar": [
           {
            "error_x": {
             "color": "#2a3f5f"
            },
            "error_y": {
             "color": "#2a3f5f"
            },
            "marker": {
             "line": {
              "color": "white",
              "width": 0.5
             },
             "pattern": {
              "fillmode": "overlay",
              "size": 10,
              "solidity": 0.2
             }
            },
            "type": "bar"
           }
          ],
          "barpolar": [
           {
            "marker": {
             "line": {
              "color": "white",
              "width": 0.5
             },
             "pattern": {
              "fillmode": "overlay",
              "size": 10,
              "solidity": 0.2
             }
            },
            "type": "barpolar"
           }
          ],
          "carpet": [
           {
            "aaxis": {
             "endlinecolor": "#2a3f5f",
             "gridcolor": "#C8D4E3",
             "linecolor": "#C8D4E3",
             "minorgridcolor": "#C8D4E3",
             "startlinecolor": "#2a3f5f"
            },
            "baxis": {
             "endlinecolor": "#2a3f5f",
             "gridcolor": "#C8D4E3",
             "linecolor": "#C8D4E3",
             "minorgridcolor": "#C8D4E3",
             "startlinecolor": "#2a3f5f"
            },
            "type": "carpet"
           }
          ],
          "choropleth": [
           {
            "colorbar": {
             "outlinewidth": 0,
             "ticks": ""
            },
            "type": "choropleth"
           }
          ],
          "contour": [
           {
            "colorbar": {
             "outlinewidth": 0,
             "ticks": ""
            },
            "colorscale": [
             [
              0,
              "#0d0887"
             ],
             [
              0.1111111111111111,
              "#46039f"
             ],
             [
              0.2222222222222222,
              "#7201a8"
             ],
             [
              0.3333333333333333,
              "#9c179e"
             ],
             [
              0.4444444444444444,
              "#bd3786"
             ],
             [
              0.5555555555555556,
              "#d8576b"
             ],
             [
              0.6666666666666666,
              "#ed7953"
             ],
             [
              0.7777777777777778,
              "#fb9f3a"
             ],
             [
              0.8888888888888888,
              "#fdca26"
             ],
             [
              1,
              "#f0f921"
             ]
            ],
            "type": "contour"
           }
          ],
          "contourcarpet": [
           {
            "colorbar": {
             "outlinewidth": 0,
             "ticks": ""
            },
            "type": "contourcarpet"
           }
          ],
          "heatmap": [
           {
            "colorbar": {
             "outlinewidth": 0,
             "ticks": ""
            },
            "colorscale": [
             [
              0,
              "#0d0887"
             ],
             [
              0.1111111111111111,
              "#46039f"
             ],
             [
              0.2222222222222222,
              "#7201a8"
             ],
             [
              0.3333333333333333,
              "#9c179e"
             ],
             [
              0.4444444444444444,
              "#bd3786"
             ],
             [
              0.5555555555555556,
              "#d8576b"
             ],
             [
              0.6666666666666666,
              "#ed7953"
             ],
             [
              0.7777777777777778,
              "#fb9f3a"
             ],
             [
              0.8888888888888888,
              "#fdca26"
             ],
             [
              1,
              "#f0f921"
             ]
            ],
            "type": "heatmap"
           }
          ],
          "histogram": [
           {
            "marker": {
             "pattern": {
              "fillmode": "overlay",
              "size": 10,
              "solidity": 0.2
             }
            },
            "type": "histogram"
           }
          ],
          "histogram2d": [
           {
            "colorbar": {
             "outlinewidth": 0,
             "ticks": ""
            },
            "colorscale": [
             [
              0,
              "#0d0887"
             ],
             [
              0.1111111111111111,
              "#46039f"
             ],
             [
              0.2222222222222222,
              "#7201a8"
             ],
             [
              0.3333333333333333,
              "#9c179e"
             ],
             [
              0.4444444444444444,
              "#bd3786"
             ],
             [
              0.5555555555555556,
              "#d8576b"
             ],
             [
              0.6666666666666666,
              "#ed7953"
             ],
             [
              0.7777777777777778,
              "#fb9f3a"
             ],
             [
              0.8888888888888888,
              "#fdca26"
             ],
             [
              1,
              "#f0f921"
             ]
            ],
            "type": "histogram2d"
           }
          ],
          "histogram2dcontour": [
           {
            "colorbar": {
             "outlinewidth": 0,
             "ticks": ""
            },
            "colorscale": [
             [
              0,
              "#0d0887"
             ],
             [
              0.1111111111111111,
              "#46039f"
             ],
             [
              0.2222222222222222,
              "#7201a8"
             ],
             [
              0.3333333333333333,
              "#9c179e"
             ],
             [
              0.4444444444444444,
              "#bd3786"
             ],
             [
              0.5555555555555556,
              "#d8576b"
             ],
             [
              0.6666666666666666,
              "#ed7953"
             ],
             [
              0.7777777777777778,
              "#fb9f3a"
             ],
             [
              0.8888888888888888,
              "#fdca26"
             ],
             [
              1,
              "#f0f921"
             ]
            ],
            "type": "histogram2dcontour"
           }
          ],
          "mesh3d": [
           {
            "colorbar": {
             "outlinewidth": 0,
             "ticks": ""
            },
            "type": "mesh3d"
           }
          ],
          "parcoords": [
           {
            "line": {
             "colorbar": {
              "outlinewidth": 0,
              "ticks": ""
             }
            },
            "type": "parcoords"
           }
          ],
          "pie": [
           {
            "automargin": true,
            "type": "pie"
           }
          ],
          "scatter": [
           {
            "fillpattern": {
             "fillmode": "overlay",
             "size": 10,
             "solidity": 0.2
            },
            "type": "scatter"
           }
          ],
          "scatter3d": [
           {
            "line": {
             "colorbar": {
              "outlinewidth": 0,
              "ticks": ""
             }
            },
            "marker": {
             "colorbar": {
              "outlinewidth": 0,
              "ticks": ""
             }
            },
            "type": "scatter3d"
           }
          ],
          "scattercarpet": [
           {
            "marker": {
             "colorbar": {
              "outlinewidth": 0,
              "ticks": ""
             }
            },
            "type": "scattercarpet"
           }
          ],
          "scattergeo": [
           {
            "marker": {
             "colorbar": {
              "outlinewidth": 0,
              "ticks": ""
             }
            },
            "type": "scattergeo"
           }
          ],
          "scattergl": [
           {
            "marker": {
             "colorbar": {
              "outlinewidth": 0,
              "ticks": ""
             }
            },
            "type": "scattergl"
           }
          ],
          "scattermap": [
           {
            "marker": {
             "colorbar": {
              "outlinewidth": 0,
              "ticks": ""
             }
            },
            "type": "scattermap"
           }
          ],
          "scattermapbox": [
           {
            "marker": {
             "colorbar": {
              "outlinewidth": 0,
              "ticks": ""
             }
            },
            "type": "scattermapbox"
           }
          ],
          "scatterpolar": [
           {
            "marker": {
             "colorbar": {
              "outlinewidth": 0,
              "ticks": ""
             }
            },
            "type": "scatterpolar"
           }
          ],
          "scatterpolargl": [
           {
            "marker": {
             "colorbar": {
              "outlinewidth": 0,
              "ticks": ""
             }
            },
            "type": "scatterpolargl"
           }
          ],
          "scatterternary": [
           {
            "marker": {
             "colorbar": {
              "outlinewidth": 0,
              "ticks": ""
             }
            },
            "type": "scatterternary"
           }
          ],
          "surface": [
           {
            "colorbar": {
             "outlinewidth": 0,
             "ticks": ""
            },
            "colorscale": [
             [
              0,
              "#0d0887"
             ],
             [
              0.1111111111111111,
              "#46039f"
             ],
             [
              0.2222222222222222,
              "#7201a8"
             ],
             [
              0.3333333333333333,
              "#9c179e"
             ],
             [
              0.4444444444444444,
              "#bd3786"
             ],
             [
              0.5555555555555556,
              "#d8576b"
             ],
             [
              0.6666666666666666,
              "#ed7953"
             ],
             [
              0.7777777777777778,
              "#fb9f3a"
             ],
             [
              0.8888888888888888,
              "#fdca26"
             ],
             [
              1,
              "#f0f921"
             ]
            ],
            "type": "surface"
           }
          ],
          "table": [
           {
            "cells": {
             "fill": {
              "color": "#EBF0F8"
             },
             "line": {
              "color": "white"
             }
            },
            "header": {
             "fill": {
              "color": "#C8D4E3"
             },
             "line": {
              "color": "white"
             }
            },
            "type": "table"
           }
          ]
         },
         "layout": {
          "annotationdefaults": {
           "arrowcolor": "#2a3f5f",
           "arrowhead": 0,
           "arrowwidth": 1
          },
          "autotypenumbers": "strict",
          "coloraxis": {
           "colorbar": {
            "outlinewidth": 0,
            "ticks": ""
           }
          },
          "colorscale": {
           "diverging": [
            [
             0,
             "#8e0152"
            ],
            [
             0.1,
             "#c51b7d"
            ],
            [
             0.2,
             "#de77ae"
            ],
            [
             0.3,
             "#f1b6da"
            ],
            [
             0.4,
             "#fde0ef"
            ],
            [
             0.5,
             "#f7f7f7"
            ],
            [
             0.6,
             "#e6f5d0"
            ],
            [
             0.7,
             "#b8e186"
            ],
            [
             0.8,
             "#7fbc41"
            ],
            [
             0.9,
             "#4d9221"
            ],
            [
             1,
             "#276419"
            ]
           ],
           "sequential": [
            [
             0,
             "#0d0887"
            ],
            [
             0.1111111111111111,
             "#46039f"
            ],
            [
             0.2222222222222222,
             "#7201a8"
            ],
            [
             0.3333333333333333,
             "#9c179e"
            ],
            [
             0.4444444444444444,
             "#bd3786"
            ],
            [
             0.5555555555555556,
             "#d8576b"
            ],
            [
             0.6666666666666666,
             "#ed7953"
            ],
            [
             0.7777777777777778,
             "#fb9f3a"
            ],
            [
             0.8888888888888888,
             "#fdca26"
            ],
            [
             1,
             "#f0f921"
            ]
           ],
           "sequentialminus": [
            [
             0,
             "#0d0887"
            ],
            [
             0.1111111111111111,
             "#46039f"
            ],
            [
             0.2222222222222222,
             "#7201a8"
            ],
            [
             0.3333333333333333,
             "#9c179e"
            ],
            [
             0.4444444444444444,
             "#bd3786"
            ],
            [
             0.5555555555555556,
             "#d8576b"
            ],
            [
             0.6666666666666666,
             "#ed7953"
            ],
            [
             0.7777777777777778,
             "#fb9f3a"
            ],
            [
             0.8888888888888888,
             "#fdca26"
            ],
            [
             1,
             "#f0f921"
            ]
           ]
          },
          "colorway": [
           "#636efa",
           "#EF553B",
           "#00cc96",
           "#ab63fa",
           "#FFA15A",
           "#19d3f3",
           "#FF6692",
           "#B6E880",
           "#FF97FF",
           "#FECB52"
          ],
          "font": {
           "color": "#2a3f5f"
          },
          "geo": {
           "bgcolor": "white",
           "lakecolor": "white",
           "landcolor": "white",
           "showlakes": true,
           "showland": true,
           "subunitcolor": "#C8D4E3"
          },
          "hoverlabel": {
           "align": "left"
          },
          "hovermode": "closest",
          "mapbox": {
           "style": "light"
          },
          "paper_bgcolor": "white",
          "plot_bgcolor": "white",
          "polar": {
           "angularaxis": {
            "gridcolor": "#EBF0F8",
            "linecolor": "#EBF0F8",
            "ticks": ""
           },
           "bgcolor": "white",
           "radialaxis": {
            "gridcolor": "#EBF0F8",
            "linecolor": "#EBF0F8",
            "ticks": ""
           }
          },
          "scene": {
           "xaxis": {
            "backgroundcolor": "white",
            "gridcolor": "#DFE8F3",
            "gridwidth": 2,
            "linecolor": "#EBF0F8",
            "showbackground": true,
            "ticks": "",
            "zerolinecolor": "#EBF0F8"
           },
           "yaxis": {
            "backgroundcolor": "white",
            "gridcolor": "#DFE8F3",
            "gridwidth": 2,
            "linecolor": "#EBF0F8",
            "showbackground": true,
            "ticks": "",
            "zerolinecolor": "#EBF0F8"
           },
           "zaxis": {
            "backgroundcolor": "white",
            "gridcolor": "#DFE8F3",
            "gridwidth": 2,
            "linecolor": "#EBF0F8",
            "showbackground": true,
            "ticks": "",
            "zerolinecolor": "#EBF0F8"
           }
          },
          "shapedefaults": {
           "line": {
            "color": "#2a3f5f"
           }
          },
          "ternary": {
           "aaxis": {
            "gridcolor": "#DFE8F3",
            "linecolor": "#A2B1C6",
            "ticks": ""
           },
           "baxis": {
            "gridcolor": "#DFE8F3",
            "linecolor": "#A2B1C6",
            "ticks": ""
           },
           "bgcolor": "white",
           "caxis": {
            "gridcolor": "#DFE8F3",
            "linecolor": "#A2B1C6",
            "ticks": ""
           }
          },
          "title": {
           "x": 0.05
          },
          "xaxis": {
           "automargin": true,
           "gridcolor": "#EBF0F8",
           "linecolor": "#EBF0F8",
           "ticks": "",
           "title": {
            "standoff": 15
           },
           "zerolinecolor": "#EBF0F8",
           "zerolinewidth": 2
          },
          "yaxis": {
           "automargin": true,
           "gridcolor": "#EBF0F8",
           "linecolor": "#EBF0F8",
           "ticks": "",
           "title": {
            "standoff": 15
           },
           "zerolinecolor": "#EBF0F8",
           "zerolinewidth": 2
          }
         }
        },
        "title": {
         "text": "Previsão temporal com o algoritmo Prophet"
        },
        "xaxis": {
         "anchor": "y",
         "domain": [
          0,
          1
         ],
         "tickangle": 45,
         "title": {
          "text": "Mês e ano"
         }
        },
        "yaxis": {
         "anchor": "x",
         "domain": [
          0,
          1
         ],
         "title": {
          "text": "Totais das despesas"
         }
        }
       }
      }
     },
     "metadata": {},
     "output_type": "display_data"
    }
   ],
   "source": [
    "fig = grafico_base('Previsão temporal com o algoritmo Prophet')\n",
    "\n",
    "fig.add_trace(\n",
    "    go.Scatter(\n",
    "        x = test.mes,\n",
    "        y = forecast_test.yhat\n",
    "    )\n",
    ")\n",
    "\n",
    "fig.update_traces(mode='lines+markers', line=dict(width=2))\n",
    "fig.update_xaxes(tickangle=45)\n",
    "fig.update_layout(\n",
    "    template='plotly_white',\n",
    "    hovermode='x unified'\n",
    "    )\n",
    "\n",
    "fig.show()"
   ]
  },
  {
   "cell_type": "code",
   "execution_count": null,
   "id": "b2a4064f",
   "metadata": {},
   "outputs": [],
   "source": [
    "# Regressão com XGBoost para séries temporais\n",
    "\n",
    "xg_df = mmm_marinha[['mes', 'totais_balanco_paiol_despesa']]\n",
    "xg_df['ano'] = xg_df['mes'].apply(lambda x: x.split('_')[-1]).astype(int)\n",
    "xg_df['mes'] = xg_df['mes'].apply(lambda x: x.split('_')[0]).astype(int)\n",
    "xg_df['lag1'] = xg_df['totais_balanco_paiol_despesa'].shift(1)\n",
    "xg_df['lag3'] = xg_df['totais_balanco_paiol_despesa'].shift(3)\n",
    "xg_df['lag6'] = xg_df['totais_balanco_paiol_despesa'].shift(6)\n",
    "xg_df['rolling3'] = xg_df['totais_balanco_paiol_despesa'].rolling(3).mean()\n",
    "xg_df['rolling6'] = xg_df['totais_balanco_paiol_despesa'].rolling(6).mean()\n",
    "\n",
    "xg_df = xg_df.dropna().reset_index(drop=True)"
   ]
  },
  {
   "cell_type": "code",
   "execution_count": 41,
   "id": "0b9e0724",
   "metadata": {},
   "outputs": [
    {
     "name": "stdout",
     "output_type": "stream",
     "text": [
      "XGBoost MAE: 1814813.112411666\n"
     ]
    }
   ],
   "source": [
    "train_xg = xg_df.iloc[:-12]\n",
    "test_xg = xg_df.iloc[-12:]\n",
    "\n",
    "X_train = train_xg.drop(columns=['totais_balanco_paiol_despesa'])\n",
    "y_train = train_xg['totais_balanco_paiol_despesa']\n",
    "X_test = test_xg.drop(columns=['totais_balanco_paiol_despesa'])\n",
    "y_test = test_xg['totais_balanco_paiol_despesa']\n",
    "\n",
    "xgb = XGBRegressor(\n",
    "    n_estimators = 300,\n",
    "    learning_rate = 0.05,\n",
    "    max_depth = 5,\n",
    "    subsample = 0.8,\n",
    "    colsample_bytree = 0.8,\n",
    "    random_state = 42\n",
    ")\n",
    "\n",
    "xgb.fit(X_train, y_train)\n",
    "\n",
    "pred_xgb = xgb.predict(X_test)\n",
    "\n",
    "mae_xgb = mean_absolute_error(y_test, pred_xgb)\n",
    "\n",
    "print(\"XGBoost MAE:\", mae_xgb)\n"
   ]
  },
  {
   "cell_type": "code",
   "execution_count": 42,
   "id": "610a55a9",
   "metadata": {},
   "outputs": [
    {
     "data": {
      "application/vnd.plotly.v1+json": {
       "config": {
        "plotlyServerURL": "https://plot.ly"
       },
       "data": [
        {
         "hovertemplate": "Mês e ano=%{x}<br>Totais das despesas=%{y}<extra></extra>",
         "legendgroup": "",
         "line": {
          "color": "#636efa",
          "dash": "solid",
          "width": 2
         },
         "marker": {
          "symbol": "circle"
         },
         "mode": "lines+markers",
         "name": "",
         "orientation": "v",
         "showlegend": false,
         "type": "scatter",
         "x": [
          "1_2019",
          "2_2019",
          "3_2019",
          "4_2019",
          "5_2019",
          "6_2019",
          "7_2019",
          "8_2019",
          "9_2019",
          "10_2019",
          "11_2019",
          "12_2019",
          "1_2020",
          "2_2020",
          "3_2020",
          "4_2020",
          "5_2020",
          "6_2020",
          "7_2020",
          "8_2020",
          "9_2020",
          "10_2020",
          "11_2020",
          "12_2020",
          "1_2021",
          "2_2021",
          "3_2021",
          "4_2021",
          "5_2021",
          "6_2021",
          "7_2021",
          "8_2021",
          "9_2021",
          "10_2021",
          "11_2021",
          "12_2021",
          "1_2022",
          "2_2022",
          "3_2022",
          "4_2022",
          "5_2022",
          "6_2022",
          "7_2022",
          "8_2022",
          "9_2022",
          "10_2022",
          "11_2022",
          "12_2022",
          "1_2023",
          "2_2023",
          "3_2023",
          "4_2023",
          "5_2023",
          "6_2023",
          "7_2023",
          "8_2023",
          "9_2023",
          "10_2023",
          "11_2023",
          "12_2023",
          "1_2024",
          "2_2024",
          "3_2024",
          "4_2024",
          "5_2024",
          "6_2024",
          "7_2024",
          "8_2024",
          "9_2024",
          "10_2024",
          "11_2024",
          "12_2024",
          "1_2025",
          "2_2025",
          "3_2025",
          "4_2025",
          "5_2025",
          "6_2025",
          "7_2025"
         ],
         "xaxis": "x",
         "y": {
          "bdata": "I9ZH8iJtb0FtsfZ2LPRuQemhkfIl4W5BKEwzSaGicEGNHilIVihyQRDbZ4suX3BBe+3jT2lHcUE6aEXbnatxQagM0kyy9XBBT+V5W871cUEycZAUqXNwQTxy2pFkZWxBeTrX+F9WbUE2XKQV2L5pQTEUJlZx8WtBhoLjJeEhZUHapt10UxRkQSp/7XaQiGRByRqa8VxXZ0H+8iTGukFoQTH2lKKxuGhBPT1bh7isakE2vdVYOGtpQc1BKyy562ZBt9RcyifGZkFtx1QslENnQebiFFGy1mtBhnYOnExXaUGhhBnOH/pqQYBJKl0MD2pBpivYWTUxbUHZB1lS4NxvQS4sCTp+nG1B2Ls/cYfRbEHRIAVs4fJtQRAGnrtgZGtB4e6sqIxOb0EYCW3KtLtvQW3F/g9ZanJBNV46I+w2cUEsZRnhzOxzQRv1kM8RNHJBlMHRjTRWckHxEbH0hAh0QXqlrKizsHJB3dJqsn1xckGOAVm9hz1xQXctIWojM29BH2gFSO4gcUH3qpWNgy9vQYsaTHWbUXRBkGas9fsnckGjh+vd0hR1Qdxj6dKMz3NBJscdqppjc0H129cEwFt0QX50aiJ9f3NB8Ut9MCsrdEGfdvj530NzQad0MC4jV3BBeTtCzthPckE/b6op9aZwQcoyRBF+tXRBTzv8F20gdEHZfFx0hlR0Qfz7DL1tRHNBAtnrQiRkdEFau23y8/J0Qcu5lJPyFnRBS+XtizcDdEHSAF6aLZ1xQRBAarvZTm5BtDwPhYDEckH+t5JAdZVzQWdhTyUygXRBIatbmOttdUE6HrOLvHN4QYHPDxSthXZBXdxGIyRkd0E=",
          "dtype": "f8"
         },
         "yaxis": "y"
        },
        {
         "line": {
          "width": 2
         },
         "mode": "lines+markers",
         "type": "scatter",
         "x": [
          "8_2024",
          "9_2024",
          "10_2024",
          "11_2024",
          "12_2024",
          "1_2025",
          "2_2025",
          "3_2025",
          "4_2025",
          "5_2025",
          "6_2025",
          "7_2025"
         ],
         "y": {
          "bdata": "UT6eS/yWnUuhap1L32KYSx9phEtqSIZLGI6PSySHpUuYW6BLFXCgSxwFnks/q51L",
          "dtype": "f4"
         }
        }
       ],
       "layout": {
        "hovermode": "x unified",
        "legend": {
         "tracegroupgap": 0
        },
        "template": {
         "data": {
          "bar": [
           {
            "error_x": {
             "color": "#2a3f5f"
            },
            "error_y": {
             "color": "#2a3f5f"
            },
            "marker": {
             "line": {
              "color": "white",
              "width": 0.5
             },
             "pattern": {
              "fillmode": "overlay",
              "size": 10,
              "solidity": 0.2
             }
            },
            "type": "bar"
           }
          ],
          "barpolar": [
           {
            "marker": {
             "line": {
              "color": "white",
              "width": 0.5
             },
             "pattern": {
              "fillmode": "overlay",
              "size": 10,
              "solidity": 0.2
             }
            },
            "type": "barpolar"
           }
          ],
          "carpet": [
           {
            "aaxis": {
             "endlinecolor": "#2a3f5f",
             "gridcolor": "#C8D4E3",
             "linecolor": "#C8D4E3",
             "minorgridcolor": "#C8D4E3",
             "startlinecolor": "#2a3f5f"
            },
            "baxis": {
             "endlinecolor": "#2a3f5f",
             "gridcolor": "#C8D4E3",
             "linecolor": "#C8D4E3",
             "minorgridcolor": "#C8D4E3",
             "startlinecolor": "#2a3f5f"
            },
            "type": "carpet"
           }
          ],
          "choropleth": [
           {
            "colorbar": {
             "outlinewidth": 0,
             "ticks": ""
            },
            "type": "choropleth"
           }
          ],
          "contour": [
           {
            "colorbar": {
             "outlinewidth": 0,
             "ticks": ""
            },
            "colorscale": [
             [
              0,
              "#0d0887"
             ],
             [
              0.1111111111111111,
              "#46039f"
             ],
             [
              0.2222222222222222,
              "#7201a8"
             ],
             [
              0.3333333333333333,
              "#9c179e"
             ],
             [
              0.4444444444444444,
              "#bd3786"
             ],
             [
              0.5555555555555556,
              "#d8576b"
             ],
             [
              0.6666666666666666,
              "#ed7953"
             ],
             [
              0.7777777777777778,
              "#fb9f3a"
             ],
             [
              0.8888888888888888,
              "#fdca26"
             ],
             [
              1,
              "#f0f921"
             ]
            ],
            "type": "contour"
           }
          ],
          "contourcarpet": [
           {
            "colorbar": {
             "outlinewidth": 0,
             "ticks": ""
            },
            "type": "contourcarpet"
           }
          ],
          "heatmap": [
           {
            "colorbar": {
             "outlinewidth": 0,
             "ticks": ""
            },
            "colorscale": [
             [
              0,
              "#0d0887"
             ],
             [
              0.1111111111111111,
              "#46039f"
             ],
             [
              0.2222222222222222,
              "#7201a8"
             ],
             [
              0.3333333333333333,
              "#9c179e"
             ],
             [
              0.4444444444444444,
              "#bd3786"
             ],
             [
              0.5555555555555556,
              "#d8576b"
             ],
             [
              0.6666666666666666,
              "#ed7953"
             ],
             [
              0.7777777777777778,
              "#fb9f3a"
             ],
             [
              0.8888888888888888,
              "#fdca26"
             ],
             [
              1,
              "#f0f921"
             ]
            ],
            "type": "heatmap"
           }
          ],
          "histogram": [
           {
            "marker": {
             "pattern": {
              "fillmode": "overlay",
              "size": 10,
              "solidity": 0.2
             }
            },
            "type": "histogram"
           }
          ],
          "histogram2d": [
           {
            "colorbar": {
             "outlinewidth": 0,
             "ticks": ""
            },
            "colorscale": [
             [
              0,
              "#0d0887"
             ],
             [
              0.1111111111111111,
              "#46039f"
             ],
             [
              0.2222222222222222,
              "#7201a8"
             ],
             [
              0.3333333333333333,
              "#9c179e"
             ],
             [
              0.4444444444444444,
              "#bd3786"
             ],
             [
              0.5555555555555556,
              "#d8576b"
             ],
             [
              0.6666666666666666,
              "#ed7953"
             ],
             [
              0.7777777777777778,
              "#fb9f3a"
             ],
             [
              0.8888888888888888,
              "#fdca26"
             ],
             [
              1,
              "#f0f921"
             ]
            ],
            "type": "histogram2d"
           }
          ],
          "histogram2dcontour": [
           {
            "colorbar": {
             "outlinewidth": 0,
             "ticks": ""
            },
            "colorscale": [
             [
              0,
              "#0d0887"
             ],
             [
              0.1111111111111111,
              "#46039f"
             ],
             [
              0.2222222222222222,
              "#7201a8"
             ],
             [
              0.3333333333333333,
              "#9c179e"
             ],
             [
              0.4444444444444444,
              "#bd3786"
             ],
             [
              0.5555555555555556,
              "#d8576b"
             ],
             [
              0.6666666666666666,
              "#ed7953"
             ],
             [
              0.7777777777777778,
              "#fb9f3a"
             ],
             [
              0.8888888888888888,
              "#fdca26"
             ],
             [
              1,
              "#f0f921"
             ]
            ],
            "type": "histogram2dcontour"
           }
          ],
          "mesh3d": [
           {
            "colorbar": {
             "outlinewidth": 0,
             "ticks": ""
            },
            "type": "mesh3d"
           }
          ],
          "parcoords": [
           {
            "line": {
             "colorbar": {
              "outlinewidth": 0,
              "ticks": ""
             }
            },
            "type": "parcoords"
           }
          ],
          "pie": [
           {
            "automargin": true,
            "type": "pie"
           }
          ],
          "scatter": [
           {
            "fillpattern": {
             "fillmode": "overlay",
             "size": 10,
             "solidity": 0.2
            },
            "type": "scatter"
           }
          ],
          "scatter3d": [
           {
            "line": {
             "colorbar": {
              "outlinewidth": 0,
              "ticks": ""
             }
            },
            "marker": {
             "colorbar": {
              "outlinewidth": 0,
              "ticks": ""
             }
            },
            "type": "scatter3d"
           }
          ],
          "scattercarpet": [
           {
            "marker": {
             "colorbar": {
              "outlinewidth": 0,
              "ticks": ""
             }
            },
            "type": "scattercarpet"
           }
          ],
          "scattergeo": [
           {
            "marker": {
             "colorbar": {
              "outlinewidth": 0,
              "ticks": ""
             }
            },
            "type": "scattergeo"
           }
          ],
          "scattergl": [
           {
            "marker": {
             "colorbar": {
              "outlinewidth": 0,
              "ticks": ""
             }
            },
            "type": "scattergl"
           }
          ],
          "scattermap": [
           {
            "marker": {
             "colorbar": {
              "outlinewidth": 0,
              "ticks": ""
             }
            },
            "type": "scattermap"
           }
          ],
          "scattermapbox": [
           {
            "marker": {
             "colorbar": {
              "outlinewidth": 0,
              "ticks": ""
             }
            },
            "type": "scattermapbox"
           }
          ],
          "scatterpolar": [
           {
            "marker": {
             "colorbar": {
              "outlinewidth": 0,
              "ticks": ""
             }
            },
            "type": "scatterpolar"
           }
          ],
          "scatterpolargl": [
           {
            "marker": {
             "colorbar": {
              "outlinewidth": 0,
              "ticks": ""
             }
            },
            "type": "scatterpolargl"
           }
          ],
          "scatterternary": [
           {
            "marker": {
             "colorbar": {
              "outlinewidth": 0,
              "ticks": ""
             }
            },
            "type": "scatterternary"
           }
          ],
          "surface": [
           {
            "colorbar": {
             "outlinewidth": 0,
             "ticks": ""
            },
            "colorscale": [
             [
              0,
              "#0d0887"
             ],
             [
              0.1111111111111111,
              "#46039f"
             ],
             [
              0.2222222222222222,
              "#7201a8"
             ],
             [
              0.3333333333333333,
              "#9c179e"
             ],
             [
              0.4444444444444444,
              "#bd3786"
             ],
             [
              0.5555555555555556,
              "#d8576b"
             ],
             [
              0.6666666666666666,
              "#ed7953"
             ],
             [
              0.7777777777777778,
              "#fb9f3a"
             ],
             [
              0.8888888888888888,
              "#fdca26"
             ],
             [
              1,
              "#f0f921"
             ]
            ],
            "type": "surface"
           }
          ],
          "table": [
           {
            "cells": {
             "fill": {
              "color": "#EBF0F8"
             },
             "line": {
              "color": "white"
             }
            },
            "header": {
             "fill": {
              "color": "#C8D4E3"
             },
             "line": {
              "color": "white"
             }
            },
            "type": "table"
           }
          ]
         },
         "layout": {
          "annotationdefaults": {
           "arrowcolor": "#2a3f5f",
           "arrowhead": 0,
           "arrowwidth": 1
          },
          "autotypenumbers": "strict",
          "coloraxis": {
           "colorbar": {
            "outlinewidth": 0,
            "ticks": ""
           }
          },
          "colorscale": {
           "diverging": [
            [
             0,
             "#8e0152"
            ],
            [
             0.1,
             "#c51b7d"
            ],
            [
             0.2,
             "#de77ae"
            ],
            [
             0.3,
             "#f1b6da"
            ],
            [
             0.4,
             "#fde0ef"
            ],
            [
             0.5,
             "#f7f7f7"
            ],
            [
             0.6,
             "#e6f5d0"
            ],
            [
             0.7,
             "#b8e186"
            ],
            [
             0.8,
             "#7fbc41"
            ],
            [
             0.9,
             "#4d9221"
            ],
            [
             1,
             "#276419"
            ]
           ],
           "sequential": [
            [
             0,
             "#0d0887"
            ],
            [
             0.1111111111111111,
             "#46039f"
            ],
            [
             0.2222222222222222,
             "#7201a8"
            ],
            [
             0.3333333333333333,
             "#9c179e"
            ],
            [
             0.4444444444444444,
             "#bd3786"
            ],
            [
             0.5555555555555556,
             "#d8576b"
            ],
            [
             0.6666666666666666,
             "#ed7953"
            ],
            [
             0.7777777777777778,
             "#fb9f3a"
            ],
            [
             0.8888888888888888,
             "#fdca26"
            ],
            [
             1,
             "#f0f921"
            ]
           ],
           "sequentialminus": [
            [
             0,
             "#0d0887"
            ],
            [
             0.1111111111111111,
             "#46039f"
            ],
            [
             0.2222222222222222,
             "#7201a8"
            ],
            [
             0.3333333333333333,
             "#9c179e"
            ],
            [
             0.4444444444444444,
             "#bd3786"
            ],
            [
             0.5555555555555556,
             "#d8576b"
            ],
            [
             0.6666666666666666,
             "#ed7953"
            ],
            [
             0.7777777777777778,
             "#fb9f3a"
            ],
            [
             0.8888888888888888,
             "#fdca26"
            ],
            [
             1,
             "#f0f921"
            ]
           ]
          },
          "colorway": [
           "#636efa",
           "#EF553B",
           "#00cc96",
           "#ab63fa",
           "#FFA15A",
           "#19d3f3",
           "#FF6692",
           "#B6E880",
           "#FF97FF",
           "#FECB52"
          ],
          "font": {
           "color": "#2a3f5f"
          },
          "geo": {
           "bgcolor": "white",
           "lakecolor": "white",
           "landcolor": "white",
           "showlakes": true,
           "showland": true,
           "subunitcolor": "#C8D4E3"
          },
          "hoverlabel": {
           "align": "left"
          },
          "hovermode": "closest",
          "mapbox": {
           "style": "light"
          },
          "paper_bgcolor": "white",
          "plot_bgcolor": "white",
          "polar": {
           "angularaxis": {
            "gridcolor": "#EBF0F8",
            "linecolor": "#EBF0F8",
            "ticks": ""
           },
           "bgcolor": "white",
           "radialaxis": {
            "gridcolor": "#EBF0F8",
            "linecolor": "#EBF0F8",
            "ticks": ""
           }
          },
          "scene": {
           "xaxis": {
            "backgroundcolor": "white",
            "gridcolor": "#DFE8F3",
            "gridwidth": 2,
            "linecolor": "#EBF0F8",
            "showbackground": true,
            "ticks": "",
            "zerolinecolor": "#EBF0F8"
           },
           "yaxis": {
            "backgroundcolor": "white",
            "gridcolor": "#DFE8F3",
            "gridwidth": 2,
            "linecolor": "#EBF0F8",
            "showbackground": true,
            "ticks": "",
            "zerolinecolor": "#EBF0F8"
           },
           "zaxis": {
            "backgroundcolor": "white",
            "gridcolor": "#DFE8F3",
            "gridwidth": 2,
            "linecolor": "#EBF0F8",
            "showbackground": true,
            "ticks": "",
            "zerolinecolor": "#EBF0F8"
           }
          },
          "shapedefaults": {
           "line": {
            "color": "#2a3f5f"
           }
          },
          "ternary": {
           "aaxis": {
            "gridcolor": "#DFE8F3",
            "linecolor": "#A2B1C6",
            "ticks": ""
           },
           "baxis": {
            "gridcolor": "#DFE8F3",
            "linecolor": "#A2B1C6",
            "ticks": ""
           },
           "bgcolor": "white",
           "caxis": {
            "gridcolor": "#DFE8F3",
            "linecolor": "#A2B1C6",
            "ticks": ""
           }
          },
          "title": {
           "x": 0.05
          },
          "xaxis": {
           "automargin": true,
           "gridcolor": "#EBF0F8",
           "linecolor": "#EBF0F8",
           "ticks": "",
           "title": {
            "standoff": 15
           },
           "zerolinecolor": "#EBF0F8",
           "zerolinewidth": 2
          },
          "yaxis": {
           "automargin": true,
           "gridcolor": "#EBF0F8",
           "linecolor": "#EBF0F8",
           "ticks": "",
           "title": {
            "standoff": 15
           },
           "zerolinecolor": "#EBF0F8",
           "zerolinewidth": 2
          }
         }
        },
        "title": {
         "text": "Previsão temporal com o algoritmo XGBoost"
        },
        "xaxis": {
         "anchor": "y",
         "domain": [
          0,
          1
         ],
         "tickangle": 45,
         "title": {
          "text": "Mês e ano"
         }
        },
        "yaxis": {
         "anchor": "x",
         "domain": [
          0,
          1
         ],
         "title": {
          "text": "Totais das despesas"
         }
        }
       }
      }
     },
     "metadata": {},
     "output_type": "display_data"
    }
   ],
   "source": [
    "fig = grafico_base('Previsão temporal com o algoritmo XGBoost')\n",
    "\n",
    "fig.add_trace(\n",
    "    go.Scatter(\n",
    "        x = test.mes,\n",
    "        y = pred_xgb\n",
    "    )\n",
    ")\n",
    "\n",
    "fig.update_traces(mode='lines+markers', line=dict(width=2))\n",
    "fig.update_xaxes(tickangle=45)\n",
    "fig.update_layout(\n",
    "    template='plotly_white',\n",
    "    hovermode='x unified'\n",
    "    )\n",
    "\n",
    "fig.show()"
   ]
  },
  {
   "cell_type": "code",
   "execution_count": 43,
   "id": "4aec5d4b",
   "metadata": {},
   "outputs": [],
   "source": [
    "hw_model = ExponentialSmoothing(\n",
    "    train['totais_balanco_paiol_despesa'],\n",
    "    trend='add',\n",
    "    seasonal='add',\n",
    "    seasonal_periods=12\n",
    ").fit()\n",
    "\n",
    "pred_hw = hw_model.forecast(12)"
   ]
  },
  {
   "cell_type": "code",
   "execution_count": 44,
   "id": "8d782840",
   "metadata": {},
   "outputs": [
    {
     "data": {
      "application/vnd.plotly.v1+json": {
       "config": {
        "plotlyServerURL": "https://plot.ly"
       },
       "data": [
        {
         "hovertemplate": "Mês e ano=%{x}<br>Totais das despesas=%{y}<extra></extra>",
         "legendgroup": "",
         "line": {
          "color": "#636efa",
          "dash": "solid",
          "width": 2
         },
         "marker": {
          "symbol": "circle"
         },
         "mode": "lines+markers",
         "name": "",
         "orientation": "v",
         "showlegend": false,
         "type": "scatter",
         "x": [
          "1_2019",
          "2_2019",
          "3_2019",
          "4_2019",
          "5_2019",
          "6_2019",
          "7_2019",
          "8_2019",
          "9_2019",
          "10_2019",
          "11_2019",
          "12_2019",
          "1_2020",
          "2_2020",
          "3_2020",
          "4_2020",
          "5_2020",
          "6_2020",
          "7_2020",
          "8_2020",
          "9_2020",
          "10_2020",
          "11_2020",
          "12_2020",
          "1_2021",
          "2_2021",
          "3_2021",
          "4_2021",
          "5_2021",
          "6_2021",
          "7_2021",
          "8_2021",
          "9_2021",
          "10_2021",
          "11_2021",
          "12_2021",
          "1_2022",
          "2_2022",
          "3_2022",
          "4_2022",
          "5_2022",
          "6_2022",
          "7_2022",
          "8_2022",
          "9_2022",
          "10_2022",
          "11_2022",
          "12_2022",
          "1_2023",
          "2_2023",
          "3_2023",
          "4_2023",
          "5_2023",
          "6_2023",
          "7_2023",
          "8_2023",
          "9_2023",
          "10_2023",
          "11_2023",
          "12_2023",
          "1_2024",
          "2_2024",
          "3_2024",
          "4_2024",
          "5_2024",
          "6_2024",
          "7_2024",
          "8_2024",
          "9_2024",
          "10_2024",
          "11_2024",
          "12_2024",
          "1_2025",
          "2_2025",
          "3_2025",
          "4_2025",
          "5_2025",
          "6_2025",
          "7_2025"
         ],
         "xaxis": "x",
         "y": {
          "bdata": "I9ZH8iJtb0FtsfZ2LPRuQemhkfIl4W5BKEwzSaGicEGNHilIVihyQRDbZ4suX3BBe+3jT2lHcUE6aEXbnatxQagM0kyy9XBBT+V5W871cUEycZAUqXNwQTxy2pFkZWxBeTrX+F9WbUE2XKQV2L5pQTEUJlZx8WtBhoLjJeEhZUHapt10UxRkQSp/7XaQiGRByRqa8VxXZ0H+8iTGukFoQTH2lKKxuGhBPT1bh7isakE2vdVYOGtpQc1BKyy562ZBt9RcyifGZkFtx1QslENnQebiFFGy1mtBhnYOnExXaUGhhBnOH/pqQYBJKl0MD2pBpivYWTUxbUHZB1lS4NxvQS4sCTp+nG1B2Ls/cYfRbEHRIAVs4fJtQRAGnrtgZGtB4e6sqIxOb0EYCW3KtLtvQW3F/g9ZanJBNV46I+w2cUEsZRnhzOxzQRv1kM8RNHJBlMHRjTRWckHxEbH0hAh0QXqlrKizsHJB3dJqsn1xckGOAVm9hz1xQXctIWojM29BH2gFSO4gcUH3qpWNgy9vQYsaTHWbUXRBkGas9fsnckGjh+vd0hR1Qdxj6dKMz3NBJscdqppjc0H129cEwFt0QX50aiJ9f3NB8Ut9MCsrdEGfdvj530NzQad0MC4jV3BBeTtCzthPckE/b6op9aZwQcoyRBF+tXRBTzv8F20gdEHZfFx0hlR0Qfz7DL1tRHNBAtnrQiRkdEFau23y8/J0Qcu5lJPyFnRBS+XtizcDdEHSAF6aLZ1xQRBAarvZTm5BtDwPhYDEckH+t5JAdZVzQWdhTyUygXRBIatbmOttdUE6HrOLvHN4QYHPDxSthXZBXdxGIyRkd0E=",
          "dtype": "f8"
         },
         "yaxis": "y"
        },
        {
         "line": {
          "width": 2
         },
         "mode": "lines+markers",
         "type": "scatter",
         "x": [
          "8_2024",
          "9_2024",
          "10_2024",
          "11_2024",
          "12_2024",
          "1_2025",
          "2_2025",
          "3_2025",
          "4_2025",
          "5_2025",
          "6_2025",
          "7_2025"
         ],
         "y": {
          "bdata": "YaI4KzpOdUGV42HUcY50QfTP52vf+HRB/94rlKVvdEF+mQGi1JVyQSAEsmCywXNBT1VtYSAjc0GjYOZoq4N1QXpvwtfxQ3RB62KgDhJ2dUGtYLCUp5Z0QZRg6QJ9f3VB",
          "dtype": "f8"
         }
        }
       ],
       "layout": {
        "hovermode": "x unified",
        "legend": {
         "tracegroupgap": 0
        },
        "template": {
         "data": {
          "bar": [
           {
            "error_x": {
             "color": "#2a3f5f"
            },
            "error_y": {
             "color": "#2a3f5f"
            },
            "marker": {
             "line": {
              "color": "white",
              "width": 0.5
             },
             "pattern": {
              "fillmode": "overlay",
              "size": 10,
              "solidity": 0.2
             }
            },
            "type": "bar"
           }
          ],
          "barpolar": [
           {
            "marker": {
             "line": {
              "color": "white",
              "width": 0.5
             },
             "pattern": {
              "fillmode": "overlay",
              "size": 10,
              "solidity": 0.2
             }
            },
            "type": "barpolar"
           }
          ],
          "carpet": [
           {
            "aaxis": {
             "endlinecolor": "#2a3f5f",
             "gridcolor": "#C8D4E3",
             "linecolor": "#C8D4E3",
             "minorgridcolor": "#C8D4E3",
             "startlinecolor": "#2a3f5f"
            },
            "baxis": {
             "endlinecolor": "#2a3f5f",
             "gridcolor": "#C8D4E3",
             "linecolor": "#C8D4E3",
             "minorgridcolor": "#C8D4E3",
             "startlinecolor": "#2a3f5f"
            },
            "type": "carpet"
           }
          ],
          "choropleth": [
           {
            "colorbar": {
             "outlinewidth": 0,
             "ticks": ""
            },
            "type": "choropleth"
           }
          ],
          "contour": [
           {
            "colorbar": {
             "outlinewidth": 0,
             "ticks": ""
            },
            "colorscale": [
             [
              0,
              "#0d0887"
             ],
             [
              0.1111111111111111,
              "#46039f"
             ],
             [
              0.2222222222222222,
              "#7201a8"
             ],
             [
              0.3333333333333333,
              "#9c179e"
             ],
             [
              0.4444444444444444,
              "#bd3786"
             ],
             [
              0.5555555555555556,
              "#d8576b"
             ],
             [
              0.6666666666666666,
              "#ed7953"
             ],
             [
              0.7777777777777778,
              "#fb9f3a"
             ],
             [
              0.8888888888888888,
              "#fdca26"
             ],
             [
              1,
              "#f0f921"
             ]
            ],
            "type": "contour"
           }
          ],
          "contourcarpet": [
           {
            "colorbar": {
             "outlinewidth": 0,
             "ticks": ""
            },
            "type": "contourcarpet"
           }
          ],
          "heatmap": [
           {
            "colorbar": {
             "outlinewidth": 0,
             "ticks": ""
            },
            "colorscale": [
             [
              0,
              "#0d0887"
             ],
             [
              0.1111111111111111,
              "#46039f"
             ],
             [
              0.2222222222222222,
              "#7201a8"
             ],
             [
              0.3333333333333333,
              "#9c179e"
             ],
             [
              0.4444444444444444,
              "#bd3786"
             ],
             [
              0.5555555555555556,
              "#d8576b"
             ],
             [
              0.6666666666666666,
              "#ed7953"
             ],
             [
              0.7777777777777778,
              "#fb9f3a"
             ],
             [
              0.8888888888888888,
              "#fdca26"
             ],
             [
              1,
              "#f0f921"
             ]
            ],
            "type": "heatmap"
           }
          ],
          "histogram": [
           {
            "marker": {
             "pattern": {
              "fillmode": "overlay",
              "size": 10,
              "solidity": 0.2
             }
            },
            "type": "histogram"
           }
          ],
          "histogram2d": [
           {
            "colorbar": {
             "outlinewidth": 0,
             "ticks": ""
            },
            "colorscale": [
             [
              0,
              "#0d0887"
             ],
             [
              0.1111111111111111,
              "#46039f"
             ],
             [
              0.2222222222222222,
              "#7201a8"
             ],
             [
              0.3333333333333333,
              "#9c179e"
             ],
             [
              0.4444444444444444,
              "#bd3786"
             ],
             [
              0.5555555555555556,
              "#d8576b"
             ],
             [
              0.6666666666666666,
              "#ed7953"
             ],
             [
              0.7777777777777778,
              "#fb9f3a"
             ],
             [
              0.8888888888888888,
              "#fdca26"
             ],
             [
              1,
              "#f0f921"
             ]
            ],
            "type": "histogram2d"
           }
          ],
          "histogram2dcontour": [
           {
            "colorbar": {
             "outlinewidth": 0,
             "ticks": ""
            },
            "colorscale": [
             [
              0,
              "#0d0887"
             ],
             [
              0.1111111111111111,
              "#46039f"
             ],
             [
              0.2222222222222222,
              "#7201a8"
             ],
             [
              0.3333333333333333,
              "#9c179e"
             ],
             [
              0.4444444444444444,
              "#bd3786"
             ],
             [
              0.5555555555555556,
              "#d8576b"
             ],
             [
              0.6666666666666666,
              "#ed7953"
             ],
             [
              0.7777777777777778,
              "#fb9f3a"
             ],
             [
              0.8888888888888888,
              "#fdca26"
             ],
             [
              1,
              "#f0f921"
             ]
            ],
            "type": "histogram2dcontour"
           }
          ],
          "mesh3d": [
           {
            "colorbar": {
             "outlinewidth": 0,
             "ticks": ""
            },
            "type": "mesh3d"
           }
          ],
          "parcoords": [
           {
            "line": {
             "colorbar": {
              "outlinewidth": 0,
              "ticks": ""
             }
            },
            "type": "parcoords"
           }
          ],
          "pie": [
           {
            "automargin": true,
            "type": "pie"
           }
          ],
          "scatter": [
           {
            "fillpattern": {
             "fillmode": "overlay",
             "size": 10,
             "solidity": 0.2
            },
            "type": "scatter"
           }
          ],
          "scatter3d": [
           {
            "line": {
             "colorbar": {
              "outlinewidth": 0,
              "ticks": ""
             }
            },
            "marker": {
             "colorbar": {
              "outlinewidth": 0,
              "ticks": ""
             }
            },
            "type": "scatter3d"
           }
          ],
          "scattercarpet": [
           {
            "marker": {
             "colorbar": {
              "outlinewidth": 0,
              "ticks": ""
             }
            },
            "type": "scattercarpet"
           }
          ],
          "scattergeo": [
           {
            "marker": {
             "colorbar": {
              "outlinewidth": 0,
              "ticks": ""
             }
            },
            "type": "scattergeo"
           }
          ],
          "scattergl": [
           {
            "marker": {
             "colorbar": {
              "outlinewidth": 0,
              "ticks": ""
             }
            },
            "type": "scattergl"
           }
          ],
          "scattermap": [
           {
            "marker": {
             "colorbar": {
              "outlinewidth": 0,
              "ticks": ""
             }
            },
            "type": "scattermap"
           }
          ],
          "scattermapbox": [
           {
            "marker": {
             "colorbar": {
              "outlinewidth": 0,
              "ticks": ""
             }
            },
            "type": "scattermapbox"
           }
          ],
          "scatterpolar": [
           {
            "marker": {
             "colorbar": {
              "outlinewidth": 0,
              "ticks": ""
             }
            },
            "type": "scatterpolar"
           }
          ],
          "scatterpolargl": [
           {
            "marker": {
             "colorbar": {
              "outlinewidth": 0,
              "ticks": ""
             }
            },
            "type": "scatterpolargl"
           }
          ],
          "scatterternary": [
           {
            "marker": {
             "colorbar": {
              "outlinewidth": 0,
              "ticks": ""
             }
            },
            "type": "scatterternary"
           }
          ],
          "surface": [
           {
            "colorbar": {
             "outlinewidth": 0,
             "ticks": ""
            },
            "colorscale": [
             [
              0,
              "#0d0887"
             ],
             [
              0.1111111111111111,
              "#46039f"
             ],
             [
              0.2222222222222222,
              "#7201a8"
             ],
             [
              0.3333333333333333,
              "#9c179e"
             ],
             [
              0.4444444444444444,
              "#bd3786"
             ],
             [
              0.5555555555555556,
              "#d8576b"
             ],
             [
              0.6666666666666666,
              "#ed7953"
             ],
             [
              0.7777777777777778,
              "#fb9f3a"
             ],
             [
              0.8888888888888888,
              "#fdca26"
             ],
             [
              1,
              "#f0f921"
             ]
            ],
            "type": "surface"
           }
          ],
          "table": [
           {
            "cells": {
             "fill": {
              "color": "#EBF0F8"
             },
             "line": {
              "color": "white"
             }
            },
            "header": {
             "fill": {
              "color": "#C8D4E3"
             },
             "line": {
              "color": "white"
             }
            },
            "type": "table"
           }
          ]
         },
         "layout": {
          "annotationdefaults": {
           "arrowcolor": "#2a3f5f",
           "arrowhead": 0,
           "arrowwidth": 1
          },
          "autotypenumbers": "strict",
          "coloraxis": {
           "colorbar": {
            "outlinewidth": 0,
            "ticks": ""
           }
          },
          "colorscale": {
           "diverging": [
            [
             0,
             "#8e0152"
            ],
            [
             0.1,
             "#c51b7d"
            ],
            [
             0.2,
             "#de77ae"
            ],
            [
             0.3,
             "#f1b6da"
            ],
            [
             0.4,
             "#fde0ef"
            ],
            [
             0.5,
             "#f7f7f7"
            ],
            [
             0.6,
             "#e6f5d0"
            ],
            [
             0.7,
             "#b8e186"
            ],
            [
             0.8,
             "#7fbc41"
            ],
            [
             0.9,
             "#4d9221"
            ],
            [
             1,
             "#276419"
            ]
           ],
           "sequential": [
            [
             0,
             "#0d0887"
            ],
            [
             0.1111111111111111,
             "#46039f"
            ],
            [
             0.2222222222222222,
             "#7201a8"
            ],
            [
             0.3333333333333333,
             "#9c179e"
            ],
            [
             0.4444444444444444,
             "#bd3786"
            ],
            [
             0.5555555555555556,
             "#d8576b"
            ],
            [
             0.6666666666666666,
             "#ed7953"
            ],
            [
             0.7777777777777778,
             "#fb9f3a"
            ],
            [
             0.8888888888888888,
             "#fdca26"
            ],
            [
             1,
             "#f0f921"
            ]
           ],
           "sequentialminus": [
            [
             0,
             "#0d0887"
            ],
            [
             0.1111111111111111,
             "#46039f"
            ],
            [
             0.2222222222222222,
             "#7201a8"
            ],
            [
             0.3333333333333333,
             "#9c179e"
            ],
            [
             0.4444444444444444,
             "#bd3786"
            ],
            [
             0.5555555555555556,
             "#d8576b"
            ],
            [
             0.6666666666666666,
             "#ed7953"
            ],
            [
             0.7777777777777778,
             "#fb9f3a"
            ],
            [
             0.8888888888888888,
             "#fdca26"
            ],
            [
             1,
             "#f0f921"
            ]
           ]
          },
          "colorway": [
           "#636efa",
           "#EF553B",
           "#00cc96",
           "#ab63fa",
           "#FFA15A",
           "#19d3f3",
           "#FF6692",
           "#B6E880",
           "#FF97FF",
           "#FECB52"
          ],
          "font": {
           "color": "#2a3f5f"
          },
          "geo": {
           "bgcolor": "white",
           "lakecolor": "white",
           "landcolor": "white",
           "showlakes": true,
           "showland": true,
           "subunitcolor": "#C8D4E3"
          },
          "hoverlabel": {
           "align": "left"
          },
          "hovermode": "closest",
          "mapbox": {
           "style": "light"
          },
          "paper_bgcolor": "white",
          "plot_bgcolor": "white",
          "polar": {
           "angularaxis": {
            "gridcolor": "#EBF0F8",
            "linecolor": "#EBF0F8",
            "ticks": ""
           },
           "bgcolor": "white",
           "radialaxis": {
            "gridcolor": "#EBF0F8",
            "linecolor": "#EBF0F8",
            "ticks": ""
           }
          },
          "scene": {
           "xaxis": {
            "backgroundcolor": "white",
            "gridcolor": "#DFE8F3",
            "gridwidth": 2,
            "linecolor": "#EBF0F8",
            "showbackground": true,
            "ticks": "",
            "zerolinecolor": "#EBF0F8"
           },
           "yaxis": {
            "backgroundcolor": "white",
            "gridcolor": "#DFE8F3",
            "gridwidth": 2,
            "linecolor": "#EBF0F8",
            "showbackground": true,
            "ticks": "",
            "zerolinecolor": "#EBF0F8"
           },
           "zaxis": {
            "backgroundcolor": "white",
            "gridcolor": "#DFE8F3",
            "gridwidth": 2,
            "linecolor": "#EBF0F8",
            "showbackground": true,
            "ticks": "",
            "zerolinecolor": "#EBF0F8"
           }
          },
          "shapedefaults": {
           "line": {
            "color": "#2a3f5f"
           }
          },
          "ternary": {
           "aaxis": {
            "gridcolor": "#DFE8F3",
            "linecolor": "#A2B1C6",
            "ticks": ""
           },
           "baxis": {
            "gridcolor": "#DFE8F3",
            "linecolor": "#A2B1C6",
            "ticks": ""
           },
           "bgcolor": "white",
           "caxis": {
            "gridcolor": "#DFE8F3",
            "linecolor": "#A2B1C6",
            "ticks": ""
           }
          },
          "title": {
           "x": 0.05
          },
          "xaxis": {
           "automargin": true,
           "gridcolor": "#EBF0F8",
           "linecolor": "#EBF0F8",
           "ticks": "",
           "title": {
            "standoff": 15
           },
           "zerolinecolor": "#EBF0F8",
           "zerolinewidth": 2
          },
          "yaxis": {
           "automargin": true,
           "gridcolor": "#EBF0F8",
           "linecolor": "#EBF0F8",
           "ticks": "",
           "title": {
            "standoff": 15
           },
           "zerolinecolor": "#EBF0F8",
           "zerolinewidth": 2
          }
         }
        },
        "title": {
         "text": "Previsão temporal com o algoritmo ExponentialSmoothing"
        },
        "xaxis": {
         "anchor": "y",
         "domain": [
          0,
          1
         ],
         "tickangle": 45,
         "title": {
          "text": "Mês e ano"
         }
        },
        "yaxis": {
         "anchor": "x",
         "domain": [
          0,
          1
         ],
         "title": {
          "text": "Totais das despesas"
         }
        }
       }
      }
     },
     "metadata": {},
     "output_type": "display_data"
    }
   ],
   "source": [
    "fig = grafico_base('Previsão temporal com o algoritmo ExponentialSmoothing')\n",
    "\n",
    "fig.add_trace(\n",
    "    go.Scatter(\n",
    "        x = test.mes,\n",
    "        y = pred_hw\n",
    "    )\n",
    ")\n",
    "\n",
    "fig.update_traces(mode='lines+markers', line=dict(width=2))\n",
    "fig.update_xaxes(tickangle=45)\n",
    "fig.update_layout(\n",
    "    template='plotly_white',\n",
    "    hovermode='x unified'\n",
    "    )\n",
    "\n",
    "fig.show()"
   ]
  },
  {
   "cell_type": "code",
   "execution_count": null,
   "id": "1a3bfe4c",
   "metadata": {},
   "outputs": [
    {
     "name": "stdout",
     "output_type": "stream",
     "text": [
      "Shape treino: (55, 12, 1) (55, 1)\n"
     ]
    }
   ],
   "source": [
    "scaler = MinMaxScaler(feature_range=(0, 1))\n",
    "despesas_scaled = scaler.fit_transform(mmm_marinha.totais_balanco_paiol_despesa.values.reshape(-1, 1))\n",
    "\n",
    "def create_sequences(data, window=12):\n",
    "    X, y = [], []\n",
    "    for i in range(len(data)- window):\n",
    "        X.append(data[i:i+window])\n",
    "        y.append(data[i+window])\n",
    "    return np.array(X), np.array(y)\n",
    "\n",
    "X, y = create_sequences(despesas_scaled)\n",
    "\n",
    "\n",
    "split = len(X) - 12\n",
    "X_train, X_test = X[:split], X[split:]\n",
    "y_train, y_test = y[:split], y[split:]\n",
    "print('Shape treino:', X_train.shape, y_train.shape)"
   ]
  },
  {
   "cell_type": "code",
   "execution_count": 46,
   "id": "dd4973a6",
   "metadata": {},
   "outputs": [
    {
     "name": "stdout",
     "output_type": "stream",
     "text": [
      "Epoch 1/200\n",
      "\u001b[1m13/13\u001b[0m \u001b[32m━━━━━━━━━━━━━━━━━━━━\u001b[0m\u001b[37m\u001b[0m \u001b[1m1s\u001b[0m 16ms/step - loss: 0.2467 - val_loss: 0.1305\n",
      "Epoch 2/200\n",
      "\u001b[1m13/13\u001b[0m \u001b[32m━━━━━━━━━━━━━━━━━━━━\u001b[0m\u001b[37m\u001b[0m \u001b[1m0s\u001b[0m 5ms/step - loss: 0.1683 - val_loss: 0.2326\n",
      "Epoch 3/200\n",
      "\u001b[1m13/13\u001b[0m \u001b[32m━━━━━━━━━━━━━━━━━━━━\u001b[0m\u001b[37m\u001b[0m \u001b[1m0s\u001b[0m 6ms/step - loss: 0.1610 - val_loss: 0.1421\n",
      "Epoch 4/200\n",
      "\u001b[1m13/13\u001b[0m \u001b[32m━━━━━━━━━━━━━━━━━━━━\u001b[0m\u001b[37m\u001b[0m \u001b[1m0s\u001b[0m 5ms/step - loss: 0.1315 - val_loss: 0.0670\n",
      "Epoch 5/200\n",
      "\u001b[1m13/13\u001b[0m \u001b[32m━━━━━━━━━━━━━━━━━━━━\u001b[0m\u001b[37m\u001b[0m \u001b[1m0s\u001b[0m 5ms/step - loss: 0.1298 - val_loss: 0.1068\n",
      "Epoch 6/200\n",
      "\u001b[1m13/13\u001b[0m \u001b[32m━━━━━━━━━━━━━━━━━━━━\u001b[0m\u001b[37m\u001b[0m \u001b[1m0s\u001b[0m 5ms/step - loss: 0.1297 - val_loss: 0.0861\n",
      "Epoch 7/200\n",
      "\u001b[1m13/13\u001b[0m \u001b[32m━━━━━━━━━━━━━━━━━━━━\u001b[0m\u001b[37m\u001b[0m \u001b[1m0s\u001b[0m 5ms/step - loss: 0.1283 - val_loss: 0.1027\n",
      "Epoch 8/200\n",
      "\u001b[1m13/13\u001b[0m \u001b[32m━━━━━━━━━━━━━━━━━━━━\u001b[0m\u001b[37m\u001b[0m \u001b[1m0s\u001b[0m 5ms/step - loss: 0.1323 - val_loss: 0.1590\n",
      "Epoch 9/200\n",
      "\u001b[1m13/13\u001b[0m \u001b[32m━━━━━━━━━━━━━━━━━━━━\u001b[0m\u001b[37m\u001b[0m \u001b[1m0s\u001b[0m 5ms/step - loss: 0.1211 - val_loss: 0.0636\n",
      "Epoch 10/200\n",
      "\u001b[1m13/13\u001b[0m \u001b[32m━━━━━━━━━━━━━━━━━━━━\u001b[0m\u001b[37m\u001b[0m \u001b[1m0s\u001b[0m 5ms/step - loss: 0.1309 - val_loss: 0.1023\n",
      "Epoch 11/200\n",
      "\u001b[1m13/13\u001b[0m \u001b[32m━━━━━━━━━━━━━━━━━━━━\u001b[0m\u001b[37m\u001b[0m \u001b[1m0s\u001b[0m 5ms/step - loss: 0.1198 - val_loss: 0.0958\n",
      "Epoch 12/200\n",
      "\u001b[1m13/13\u001b[0m \u001b[32m━━━━━━━━━━━━━━━━━━━━\u001b[0m\u001b[37m\u001b[0m \u001b[1m0s\u001b[0m 5ms/step - loss: 0.1148 - val_loss: 0.1005\n",
      "Epoch 13/200\n",
      "\u001b[1m13/13\u001b[0m \u001b[32m━━━━━━━━━━━━━━━━━━━━\u001b[0m\u001b[37m\u001b[0m \u001b[1m0s\u001b[0m 5ms/step - loss: 0.1237 - val_loss: 0.1248\n",
      "Epoch 14/200\n",
      "\u001b[1m13/13\u001b[0m \u001b[32m━━━━━━━━━━━━━━━━━━━━\u001b[0m\u001b[37m\u001b[0m \u001b[1m0s\u001b[0m 5ms/step - loss: 0.1245 - val_loss: 0.1557\n",
      "Epoch 15/200\n",
      "\u001b[1m13/13\u001b[0m \u001b[32m━━━━━━━━━━━━━━━━━━━━\u001b[0m\u001b[37m\u001b[0m \u001b[1m0s\u001b[0m 5ms/step - loss: 0.1278 - val_loss: 0.0933\n",
      "Epoch 16/200\n",
      "\u001b[1m13/13\u001b[0m \u001b[32m━━━━━━━━━━━━━━━━━━━━\u001b[0m\u001b[37m\u001b[0m \u001b[1m0s\u001b[0m 6ms/step - loss: 0.1286 - val_loss: 0.1556\n",
      "Epoch 17/200\n",
      "\u001b[1m13/13\u001b[0m \u001b[32m━━━━━━━━━━━━━━━━━━━━\u001b[0m\u001b[37m\u001b[0m \u001b[1m0s\u001b[0m 5ms/step - loss: 0.1091 - val_loss: 0.0814\n",
      "Epoch 18/200\n",
      "\u001b[1m13/13\u001b[0m \u001b[32m━━━━━━━━━━━━━━━━━━━━\u001b[0m\u001b[37m\u001b[0m \u001b[1m0s\u001b[0m 5ms/step - loss: 0.1072 - val_loss: 0.1490\n",
      "Epoch 19/200\n",
      "\u001b[1m13/13\u001b[0m \u001b[32m━━━━━━━━━━━━━━━━━━━━\u001b[0m\u001b[37m\u001b[0m \u001b[1m0s\u001b[0m 5ms/step - loss: 0.1191 - val_loss: 0.1510\n",
      "Epoch 20/200\n",
      "\u001b[1m13/13\u001b[0m \u001b[32m━━━━━━━━━━━━━━━━━━━━\u001b[0m\u001b[37m\u001b[0m \u001b[1m0s\u001b[0m 5ms/step - loss: 0.1120 - val_loss: 0.1154\n",
      "Epoch 21/200\n",
      "\u001b[1m13/13\u001b[0m \u001b[32m━━━━━━━━━━━━━━━━━━━━\u001b[0m\u001b[37m\u001b[0m \u001b[1m0s\u001b[0m 5ms/step - loss: 0.1029 - val_loss: 0.1658\n",
      "Epoch 22/200\n",
      "\u001b[1m13/13\u001b[0m \u001b[32m━━━━━━━━━━━━━━━━━━━━\u001b[0m\u001b[37m\u001b[0m \u001b[1m0s\u001b[0m 5ms/step - loss: 0.1060 - val_loss: 0.1359\n",
      "Epoch 23/200\n",
      "\u001b[1m13/13\u001b[0m \u001b[32m━━━━━━━━━━━━━━━━━━━━\u001b[0m\u001b[37m\u001b[0m \u001b[1m0s\u001b[0m 5ms/step - loss: 0.0968 - val_loss: 0.1324\n",
      "Epoch 24/200\n",
      "\u001b[1m13/13\u001b[0m \u001b[32m━━━━━━━━━━━━━━━━━━━━\u001b[0m\u001b[37m\u001b[0m \u001b[1m0s\u001b[0m 5ms/step - loss: 0.0990 - val_loss: 0.1494\n",
      "Epoch 25/200\n",
      "\u001b[1m13/13\u001b[0m \u001b[32m━━━━━━━━━━━━━━━━━━━━\u001b[0m\u001b[37m\u001b[0m \u001b[1m0s\u001b[0m 5ms/step - loss: 0.0988 - val_loss: 0.1115\n",
      "Epoch 26/200\n",
      "\u001b[1m13/13\u001b[0m \u001b[32m━━━━━━━━━━━━━━━━━━━━\u001b[0m\u001b[37m\u001b[0m \u001b[1m0s\u001b[0m 5ms/step - loss: 0.0961 - val_loss: 0.1515\n",
      "Epoch 27/200\n",
      "\u001b[1m13/13\u001b[0m \u001b[32m━━━━━━━━━━━━━━━━━━━━\u001b[0m\u001b[37m\u001b[0m \u001b[1m0s\u001b[0m 5ms/step - loss: 0.1000 - val_loss: 0.1251\n",
      "Epoch 28/200\n",
      "\u001b[1m13/13\u001b[0m \u001b[32m━━━━━━━━━━━━━━━━━━━━\u001b[0m\u001b[37m\u001b[0m \u001b[1m0s\u001b[0m 5ms/step - loss: 0.0944 - val_loss: 0.1034\n",
      "Epoch 29/200\n",
      "\u001b[1m13/13\u001b[0m \u001b[32m━━━━━━━━━━━━━━━━━━━━\u001b[0m\u001b[37m\u001b[0m \u001b[1m0s\u001b[0m 5ms/step - loss: 0.0971 - val_loss: 0.1080\n",
      "Epoch 30/200\n",
      "\u001b[1m13/13\u001b[0m \u001b[32m━━━━━━━━━━━━━━━━━━━━\u001b[0m\u001b[37m\u001b[0m \u001b[1m0s\u001b[0m 5ms/step - loss: 0.0930 - val_loss: 0.1099\n",
      "Epoch 31/200\n",
      "\u001b[1m13/13\u001b[0m \u001b[32m━━━━━━━━━━━━━━━━━━━━\u001b[0m\u001b[37m\u001b[0m \u001b[1m0s\u001b[0m 5ms/step - loss: 0.0939 - val_loss: 0.0973\n",
      "Epoch 32/200\n",
      "\u001b[1m13/13\u001b[0m \u001b[32m━━━━━━━━━━━━━━━━━━━━\u001b[0m\u001b[37m\u001b[0m \u001b[1m0s\u001b[0m 6ms/step - loss: 0.0883 - val_loss: 0.1842\n",
      "Epoch 33/200\n",
      "\u001b[1m13/13\u001b[0m \u001b[32m━━━━━━━━━━━━━━━━━━━━\u001b[0m\u001b[37m\u001b[0m \u001b[1m0s\u001b[0m 5ms/step - loss: 0.1000 - val_loss: 0.1045\n",
      "Epoch 34/200\n",
      "\u001b[1m13/13\u001b[0m \u001b[32m━━━━━━━━━━━━━━━━━━━━\u001b[0m\u001b[37m\u001b[0m \u001b[1m0s\u001b[0m 5ms/step - loss: 0.0897 - val_loss: 0.1616\n",
      "Epoch 35/200\n",
      "\u001b[1m13/13\u001b[0m \u001b[32m━━━━━━━━━━━━━━━━━━━━\u001b[0m\u001b[37m\u001b[0m \u001b[1m0s\u001b[0m 5ms/step - loss: 0.0956 - val_loss: 0.1069\n",
      "Epoch 36/200\n",
      "\u001b[1m13/13\u001b[0m \u001b[32m━━━━━━━━━━━━━━━━━━━━\u001b[0m\u001b[37m\u001b[0m \u001b[1m0s\u001b[0m 5ms/step - loss: 0.0850 - val_loss: 0.1220\n",
      "Epoch 37/200\n",
      "\u001b[1m13/13\u001b[0m \u001b[32m━━━━━━━━━━━━━━━━━━━━\u001b[0m\u001b[37m\u001b[0m \u001b[1m0s\u001b[0m 5ms/step - loss: 0.0887 - val_loss: 0.1214\n",
      "Epoch 38/200\n",
      "\u001b[1m13/13\u001b[0m \u001b[32m━━━━━━━━━━━━━━━━━━━━\u001b[0m\u001b[37m\u001b[0m \u001b[1m0s\u001b[0m 5ms/step - loss: 0.0879 - val_loss: 0.1296\n",
      "Epoch 39/200\n",
      "\u001b[1m13/13\u001b[0m \u001b[32m━━━━━━━━━━━━━━━━━━━━\u001b[0m\u001b[37m\u001b[0m \u001b[1m0s\u001b[0m 5ms/step - loss: 0.1016 - val_loss: 0.1277\n",
      "Epoch 40/200\n",
      "\u001b[1m13/13\u001b[0m \u001b[32m━━━━━━━━━━━━━━━━━━━━\u001b[0m\u001b[37m\u001b[0m \u001b[1m0s\u001b[0m 5ms/step - loss: 0.0877 - val_loss: 0.1028\n",
      "Epoch 41/200\n",
      "\u001b[1m13/13\u001b[0m \u001b[32m━━━━━━━━━━━━━━━━━━━━\u001b[0m\u001b[37m\u001b[0m \u001b[1m0s\u001b[0m 5ms/step - loss: 0.0885 - val_loss: 0.0877\n",
      "Epoch 42/200\n",
      "\u001b[1m13/13\u001b[0m \u001b[32m━━━━━━━━━━━━━━━━━━━━\u001b[0m\u001b[37m\u001b[0m \u001b[1m0s\u001b[0m 5ms/step - loss: 0.0902 - val_loss: 0.1241\n",
      "Epoch 43/200\n",
      "\u001b[1m13/13\u001b[0m \u001b[32m━━━━━━━━━━━━━━━━━━━━\u001b[0m\u001b[37m\u001b[0m \u001b[1m0s\u001b[0m 5ms/step - loss: 0.0997 - val_loss: 0.0956\n",
      "Epoch 44/200\n",
      "\u001b[1m13/13\u001b[0m \u001b[32m━━━━━━━━━━━━━━━━━━━━\u001b[0m\u001b[37m\u001b[0m \u001b[1m0s\u001b[0m 5ms/step - loss: 0.0898 - val_loss: 0.1185\n",
      "Epoch 45/200\n",
      "\u001b[1m13/13\u001b[0m \u001b[32m━━━━━━━━━━━━━━━━━━━━\u001b[0m\u001b[37m\u001b[0m \u001b[1m0s\u001b[0m 5ms/step - loss: 0.0916 - val_loss: 0.0953\n",
      "Epoch 46/200\n",
      "\u001b[1m13/13\u001b[0m \u001b[32m━━━━━━━━━━━━━━━━━━━━\u001b[0m\u001b[37m\u001b[0m \u001b[1m0s\u001b[0m 6ms/step - loss: 0.0820 - val_loss: 0.1179\n",
      "Epoch 47/200\n",
      "\u001b[1m13/13\u001b[0m \u001b[32m━━━━━━━━━━━━━━━━━━━━\u001b[0m\u001b[37m\u001b[0m \u001b[1m0s\u001b[0m 5ms/step - loss: 0.0863 - val_loss: 0.1096\n",
      "Epoch 48/200\n",
      "\u001b[1m13/13\u001b[0m \u001b[32m━━━━━━━━━━━━━━━━━━━━\u001b[0m\u001b[37m\u001b[0m \u001b[1m0s\u001b[0m 5ms/step - loss: 0.0814 - val_loss: 0.1008\n",
      "Epoch 49/200\n",
      "\u001b[1m13/13\u001b[0m \u001b[32m━━━━━━━━━━━━━━━━━━━━\u001b[0m\u001b[37m\u001b[0m \u001b[1m0s\u001b[0m 5ms/step - loss: 0.0922 - val_loss: 0.1014\n",
      "Epoch 50/200\n",
      "\u001b[1m13/13\u001b[0m \u001b[32m━━━━━━━━━━━━━━━━━━━━\u001b[0m\u001b[37m\u001b[0m \u001b[1m0s\u001b[0m 5ms/step - loss: 0.0827 - val_loss: 0.1088\n",
      "Epoch 51/200\n",
      "\u001b[1m13/13\u001b[0m \u001b[32m━━━━━━━━━━━━━━━━━━━━\u001b[0m\u001b[37m\u001b[0m \u001b[1m0s\u001b[0m 5ms/step - loss: 0.0853 - val_loss: 0.1057\n",
      "Epoch 52/200\n",
      "\u001b[1m13/13\u001b[0m \u001b[32m━━━━━━━━━━━━━━━━━━━━\u001b[0m\u001b[37m\u001b[0m \u001b[1m0s\u001b[0m 5ms/step - loss: 0.1033 - val_loss: 0.1081\n",
      "Epoch 53/200\n",
      "\u001b[1m13/13\u001b[0m \u001b[32m━━━━━━━━━━━━━━━━━━━━\u001b[0m\u001b[37m\u001b[0m \u001b[1m0s\u001b[0m 5ms/step - loss: 0.0909 - val_loss: 0.0916\n",
      "Epoch 54/200\n",
      "\u001b[1m13/13\u001b[0m \u001b[32m━━━━━━━━━━━━━━━━━━━━\u001b[0m\u001b[37m\u001b[0m \u001b[1m0s\u001b[0m 5ms/step - loss: 0.0878 - val_loss: 0.1061\n",
      "Epoch 55/200\n",
      "\u001b[1m13/13\u001b[0m \u001b[32m━━━━━━━━━━━━━━━━━━━━\u001b[0m\u001b[37m\u001b[0m \u001b[1m0s\u001b[0m 5ms/step - loss: 0.0847 - val_loss: 0.0924\n",
      "Epoch 56/200\n",
      "\u001b[1m13/13\u001b[0m \u001b[32m━━━━━━━━━━━━━━━━━━━━\u001b[0m\u001b[37m\u001b[0m \u001b[1m0s\u001b[0m 5ms/step - loss: 0.0919 - val_loss: 0.0972\n",
      "Epoch 57/200\n",
      "\u001b[1m13/13\u001b[0m \u001b[32m━━━━━━━━━━━━━━━━━━━━\u001b[0m\u001b[37m\u001b[0m \u001b[1m0s\u001b[0m 5ms/step - loss: 0.0876 - val_loss: 0.1027\n",
      "Epoch 58/200\n",
      "\u001b[1m13/13\u001b[0m \u001b[32m━━━━━━━━━━━━━━━━━━━━\u001b[0m\u001b[37m\u001b[0m \u001b[1m0s\u001b[0m 5ms/step - loss: 0.0822 - val_loss: 0.0922\n",
      "Epoch 59/200\n",
      "\u001b[1m13/13\u001b[0m \u001b[32m━━━━━━━━━━━━━━━━━━━━\u001b[0m\u001b[37m\u001b[0m \u001b[1m0s\u001b[0m 5ms/step - loss: 0.0850 - val_loss: 0.1106\n",
      "Epoch 60/200\n",
      "\u001b[1m13/13\u001b[0m \u001b[32m━━━━━━━━━━━━━━━━━━━━\u001b[0m\u001b[37m\u001b[0m \u001b[1m0s\u001b[0m 5ms/step - loss: 0.0925 - val_loss: 0.0953\n",
      "Epoch 61/200\n",
      "\u001b[1m13/13\u001b[0m \u001b[32m━━━━━━━━━━━━━━━━━━━━\u001b[0m\u001b[37m\u001b[0m \u001b[1m0s\u001b[0m 5ms/step - loss: 0.0964 - val_loss: 0.0882\n",
      "Epoch 62/200\n",
      "\u001b[1m13/13\u001b[0m \u001b[32m━━━━━━━━━━━━━━━━━━━━\u001b[0m\u001b[37m\u001b[0m \u001b[1m0s\u001b[0m 5ms/step - loss: 0.0845 - val_loss: 0.1040\n",
      "Epoch 63/200\n",
      "\u001b[1m13/13\u001b[0m \u001b[32m━━━━━━━━━━━━━━━━━━━━\u001b[0m\u001b[37m\u001b[0m \u001b[1m0s\u001b[0m 5ms/step - loss: 0.0768 - val_loss: 0.0874\n",
      "Epoch 64/200\n",
      "\u001b[1m13/13\u001b[0m \u001b[32m━━━━━━━━━━━━━━━━━━━━\u001b[0m\u001b[37m\u001b[0m \u001b[1m0s\u001b[0m 5ms/step - loss: 0.0778 - val_loss: 0.1159\n",
      "Epoch 65/200\n",
      "\u001b[1m13/13\u001b[0m \u001b[32m━━━━━━━━━━━━━━━━━━━━\u001b[0m\u001b[37m\u001b[0m \u001b[1m0s\u001b[0m 5ms/step - loss: 0.0858 - val_loss: 0.0915\n",
      "Epoch 66/200\n",
      "\u001b[1m13/13\u001b[0m \u001b[32m━━━━━━━━━━━━━━━━━━━━\u001b[0m\u001b[37m\u001b[0m \u001b[1m0s\u001b[0m 5ms/step - loss: 0.0863 - val_loss: 0.0859\n",
      "Epoch 67/200\n",
      "\u001b[1m13/13\u001b[0m \u001b[32m━━━━━━━━━━━━━━━━━━━━\u001b[0m\u001b[37m\u001b[0m \u001b[1m0s\u001b[0m 6ms/step - loss: 0.0933 - val_loss: 0.1032\n",
      "Epoch 68/200\n",
      "\u001b[1m13/13\u001b[0m \u001b[32m━━━━━━━━━━━━━━━━━━━━\u001b[0m\u001b[37m\u001b[0m \u001b[1m0s\u001b[0m 5ms/step - loss: 0.0802 - val_loss: 0.0922\n",
      "Epoch 69/200\n",
      "\u001b[1m13/13\u001b[0m \u001b[32m━━━━━━━━━━━━━━━━━━━━\u001b[0m\u001b[37m\u001b[0m \u001b[1m0s\u001b[0m 5ms/step - loss: 0.0850 - val_loss: 0.0925\n",
      "Epoch 70/200\n",
      "\u001b[1m13/13\u001b[0m \u001b[32m━━━━━━━━━━━━━━━━━━━━\u001b[0m\u001b[37m\u001b[0m \u001b[1m0s\u001b[0m 5ms/step - loss: 0.0782 - val_loss: 0.1014\n",
      "Epoch 71/200\n",
      "\u001b[1m13/13\u001b[0m \u001b[32m━━━━━━━━━━━━━━━━━━━━\u001b[0m\u001b[37m\u001b[0m \u001b[1m0s\u001b[0m 5ms/step - loss: 0.0786 - val_loss: 0.0913\n",
      "Epoch 72/200\n",
      "\u001b[1m13/13\u001b[0m \u001b[32m━━━━━━━━━━━━━━━━━━━━\u001b[0m\u001b[37m\u001b[0m \u001b[1m0s\u001b[0m 6ms/step - loss: 0.0852 - val_loss: 0.1089\n",
      "Epoch 73/200\n",
      "\u001b[1m13/13\u001b[0m \u001b[32m━━━━━━━━━━━━━━━━━━━━\u001b[0m\u001b[37m\u001b[0m \u001b[1m0s\u001b[0m 5ms/step - loss: 0.0858 - val_loss: 0.0885\n",
      "Epoch 74/200\n",
      "\u001b[1m13/13\u001b[0m \u001b[32m━━━━━━━━━━━━━━━━━━━━\u001b[0m\u001b[37m\u001b[0m \u001b[1m0s\u001b[0m 5ms/step - loss: 0.0931 - val_loss: 0.1063\n",
      "Epoch 75/200\n",
      "\u001b[1m13/13\u001b[0m \u001b[32m━━━━━━━━━━━━━━━━━━━━\u001b[0m\u001b[37m\u001b[0m \u001b[1m0s\u001b[0m 5ms/step - loss: 0.1047 - val_loss: 0.0977\n",
      "Epoch 76/200\n",
      "\u001b[1m13/13\u001b[0m \u001b[32m━━━━━━━━━━━━━━━━━━━━\u001b[0m\u001b[37m\u001b[0m \u001b[1m0s\u001b[0m 5ms/step - loss: 0.0880 - val_loss: 0.0966\n",
      "Epoch 77/200\n",
      "\u001b[1m13/13\u001b[0m \u001b[32m━━━━━━━━━━━━━━━━━━━━\u001b[0m\u001b[37m\u001b[0m \u001b[1m0s\u001b[0m 5ms/step - loss: 0.0838 - val_loss: 0.0893\n",
      "Epoch 78/200\n",
      "\u001b[1m13/13\u001b[0m \u001b[32m━━━━━━━━━━━━━━━━━━━━\u001b[0m\u001b[37m\u001b[0m \u001b[1m0s\u001b[0m 5ms/step - loss: 0.0830 - val_loss: 0.0880\n",
      "Epoch 79/200\n",
      "\u001b[1m13/13\u001b[0m \u001b[32m━━━━━━━━━━━━━━━━━━━━\u001b[0m\u001b[37m\u001b[0m \u001b[1m0s\u001b[0m 5ms/step - loss: 0.0788 - val_loss: 0.1006\n",
      "Epoch 80/200\n",
      "\u001b[1m13/13\u001b[0m \u001b[32m━━━━━━━━━━━━━━━━━━━━\u001b[0m\u001b[37m\u001b[0m \u001b[1m0s\u001b[0m 5ms/step - loss: 0.0810 - val_loss: 0.0866\n",
      "Epoch 81/200\n",
      "\u001b[1m13/13\u001b[0m \u001b[32m━━━━━━━━━━━━━━━━━━━━\u001b[0m\u001b[37m\u001b[0m \u001b[1m0s\u001b[0m 5ms/step - loss: 0.0904 - val_loss: 0.0995\n",
      "Epoch 82/200\n",
      "\u001b[1m13/13\u001b[0m \u001b[32m━━━━━━━━━━━━━━━━━━━━\u001b[0m\u001b[37m\u001b[0m \u001b[1m0s\u001b[0m 5ms/step - loss: 0.0824 - val_loss: 0.1004\n",
      "Epoch 83/200\n",
      "\u001b[1m13/13\u001b[0m \u001b[32m━━━━━━━━━━━━━━━━━━━━\u001b[0m\u001b[37m\u001b[0m \u001b[1m0s\u001b[0m 5ms/step - loss: 0.0813 - val_loss: 0.1016\n",
      "Epoch 84/200\n",
      "\u001b[1m13/13\u001b[0m \u001b[32m━━━━━━━━━━━━━━━━━━━━\u001b[0m\u001b[37m\u001b[0m \u001b[1m0s\u001b[0m 5ms/step - loss: 0.0863 - val_loss: 0.0954\n",
      "Epoch 85/200\n",
      "\u001b[1m13/13\u001b[0m \u001b[32m━━━━━━━━━━━━━━━━━━━━\u001b[0m\u001b[37m\u001b[0m \u001b[1m0s\u001b[0m 5ms/step - loss: 0.0851 - val_loss: 0.0959\n",
      "Epoch 86/200\n",
      "\u001b[1m13/13\u001b[0m \u001b[32m━━━━━━━━━━━━━━━━━━━━\u001b[0m\u001b[37m\u001b[0m \u001b[1m0s\u001b[0m 6ms/step - loss: 0.0782 - val_loss: 0.0829\n",
      "Epoch 87/200\n",
      "\u001b[1m13/13\u001b[0m \u001b[32m━━━━━━━━━━━━━━━━━━━━\u001b[0m\u001b[37m\u001b[0m \u001b[1m0s\u001b[0m 5ms/step - loss: 0.0819 - val_loss: 0.0926\n",
      "Epoch 88/200\n",
      "\u001b[1m13/13\u001b[0m \u001b[32m━━━━━━━━━━━━━━━━━━━━\u001b[0m\u001b[37m\u001b[0m \u001b[1m0s\u001b[0m 5ms/step - loss: 0.0862 - val_loss: 0.0923\n",
      "Epoch 89/200\n",
      "\u001b[1m13/13\u001b[0m \u001b[32m━━━━━━━━━━━━━━━━━━━━\u001b[0m\u001b[37m\u001b[0m \u001b[1m0s\u001b[0m 5ms/step - loss: 0.0789 - val_loss: 0.0957\n",
      "Epoch 90/200\n",
      "\u001b[1m13/13\u001b[0m \u001b[32m━━━━━━━━━━━━━━━━━━━━\u001b[0m\u001b[37m\u001b[0m \u001b[1m0s\u001b[0m 5ms/step - loss: 0.0840 - val_loss: 0.0852\n",
      "Epoch 91/200\n",
      "\u001b[1m13/13\u001b[0m \u001b[32m━━━━━━━━━━━━━━━━━━━━\u001b[0m\u001b[37m\u001b[0m \u001b[1m0s\u001b[0m 5ms/step - loss: 0.0785 - val_loss: 0.0985\n",
      "Epoch 92/200\n",
      "\u001b[1m13/13\u001b[0m \u001b[32m━━━━━━━━━━━━━━━━━━━━\u001b[0m\u001b[37m\u001b[0m \u001b[1m0s\u001b[0m 5ms/step - loss: 0.0759 - val_loss: 0.0877\n",
      "Epoch 93/200\n",
      "\u001b[1m13/13\u001b[0m \u001b[32m━━━━━━━━━━━━━━━━━━━━\u001b[0m\u001b[37m\u001b[0m \u001b[1m0s\u001b[0m 5ms/step - loss: 0.0922 - val_loss: 0.0875\n",
      "Epoch 94/200\n",
      "\u001b[1m13/13\u001b[0m \u001b[32m━━━━━━━━━━━━━━━━━━━━\u001b[0m\u001b[37m\u001b[0m \u001b[1m0s\u001b[0m 5ms/step - loss: 0.0792 - val_loss: 0.0908\n",
      "Epoch 95/200\n",
      "\u001b[1m13/13\u001b[0m \u001b[32m━━━━━━━━━━━━━━━━━━━━\u001b[0m\u001b[37m\u001b[0m \u001b[1m0s\u001b[0m 5ms/step - loss: 0.0814 - val_loss: 0.0969\n",
      "Epoch 96/200\n",
      "\u001b[1m13/13\u001b[0m \u001b[32m━━━━━━━━━━━━━━━━━━━━\u001b[0m\u001b[37m\u001b[0m \u001b[1m0s\u001b[0m 5ms/step - loss: 0.0842 - val_loss: 0.1044\n",
      "Epoch 97/200\n",
      "\u001b[1m13/13\u001b[0m \u001b[32m━━━━━━━━━━━━━━━━━━━━\u001b[0m\u001b[37m\u001b[0m \u001b[1m0s\u001b[0m 5ms/step - loss: 0.0837 - val_loss: 0.0843\n",
      "Epoch 98/200\n",
      "\u001b[1m13/13\u001b[0m \u001b[32m━━━━━━━━━━━━━━━━━━━━\u001b[0m\u001b[37m\u001b[0m \u001b[1m0s\u001b[0m 5ms/step - loss: 0.0782 - val_loss: 0.0910\n",
      "Epoch 99/200\n",
      "\u001b[1m13/13\u001b[0m \u001b[32m━━━━━━━━━━━━━━━━━━━━\u001b[0m\u001b[37m\u001b[0m \u001b[1m0s\u001b[0m 5ms/step - loss: 0.0825 - val_loss: 0.0852\n",
      "Epoch 100/200\n",
      "\u001b[1m13/13\u001b[0m \u001b[32m━━━━━━━━━━━━━━━━━━━━\u001b[0m\u001b[37m\u001b[0m \u001b[1m0s\u001b[0m 5ms/step - loss: 0.0835 - val_loss: 0.0974\n",
      "Epoch 101/200\n",
      "\u001b[1m13/13\u001b[0m \u001b[32m━━━━━━━━━━━━━━━━━━━━\u001b[0m\u001b[37m\u001b[0m \u001b[1m0s\u001b[0m 5ms/step - loss: 0.0743 - val_loss: 0.0894\n",
      "Epoch 102/200\n",
      "\u001b[1m13/13\u001b[0m \u001b[32m━━━━━━━━━━━━━━━━━━━━\u001b[0m\u001b[37m\u001b[0m \u001b[1m0s\u001b[0m 5ms/step - loss: 0.0876 - val_loss: 0.1162\n",
      "Epoch 103/200\n",
      "\u001b[1m13/13\u001b[0m \u001b[32m━━━━━━━━━━━━━━━━━━━━\u001b[0m\u001b[37m\u001b[0m \u001b[1m0s\u001b[0m 5ms/step - loss: 0.0914 - val_loss: 0.0899\n",
      "Epoch 104/200\n",
      "\u001b[1m13/13\u001b[0m \u001b[32m━━━━━━━━━━━━━━━━━━━━\u001b[0m\u001b[37m\u001b[0m \u001b[1m0s\u001b[0m 5ms/step - loss: 0.0801 - val_loss: 0.1066\n",
      "Epoch 105/200\n",
      "\u001b[1m13/13\u001b[0m \u001b[32m━━━━━━━━━━━━━━━━━━━━\u001b[0m\u001b[37m\u001b[0m \u001b[1m0s\u001b[0m 5ms/step - loss: 0.0792 - val_loss: 0.0865\n",
      "Epoch 106/200\n",
      "\u001b[1m13/13\u001b[0m \u001b[32m━━━━━━━━━━━━━━━━━━━━\u001b[0m\u001b[37m\u001b[0m \u001b[1m0s\u001b[0m 5ms/step - loss: 0.0895 - val_loss: 0.0844\n",
      "Epoch 107/200\n",
      "\u001b[1m13/13\u001b[0m \u001b[32m━━━━━━━━━━━━━━━━━━━━\u001b[0m\u001b[37m\u001b[0m \u001b[1m0s\u001b[0m 5ms/step - loss: 0.0934 - val_loss: 0.1003\n",
      "Epoch 108/200\n",
      "\u001b[1m13/13\u001b[0m \u001b[32m━━━━━━━━━━━━━━━━━━━━\u001b[0m\u001b[37m\u001b[0m \u001b[1m0s\u001b[0m 5ms/step - loss: 0.0862 - val_loss: 0.0948\n",
      "Epoch 109/200\n",
      "\u001b[1m13/13\u001b[0m \u001b[32m━━━━━━━━━━━━━━━━━━━━\u001b[0m\u001b[37m\u001b[0m \u001b[1m0s\u001b[0m 5ms/step - loss: 0.0759 - val_loss: 0.0893\n",
      "Epoch 110/200\n",
      "\u001b[1m13/13\u001b[0m \u001b[32m━━━━━━━━━━━━━━━━━━━━\u001b[0m\u001b[37m\u001b[0m \u001b[1m0s\u001b[0m 5ms/step - loss: 0.0844 - val_loss: 0.0896\n",
      "Epoch 111/200\n",
      "\u001b[1m13/13\u001b[0m \u001b[32m━━━━━━━━━━━━━━━━━━━━\u001b[0m\u001b[37m\u001b[0m \u001b[1m0s\u001b[0m 5ms/step - loss: 0.0781 - val_loss: 0.0860\n",
      "Epoch 112/200\n",
      "\u001b[1m13/13\u001b[0m \u001b[32m━━━━━━━━━━━━━━━━━━━━\u001b[0m\u001b[37m\u001b[0m \u001b[1m0s\u001b[0m 5ms/step - loss: 0.0806 - val_loss: 0.0998\n",
      "Epoch 113/200\n",
      "\u001b[1m13/13\u001b[0m \u001b[32m━━━━━━━━━━━━━━━━━━━━\u001b[0m\u001b[37m\u001b[0m \u001b[1m0s\u001b[0m 5ms/step - loss: 0.0771 - val_loss: 0.0963\n",
      "Epoch 114/200\n",
      "\u001b[1m13/13\u001b[0m \u001b[32m━━━━━━━━━━━━━━━━━━━━\u001b[0m\u001b[37m\u001b[0m \u001b[1m0s\u001b[0m 5ms/step - loss: 0.0814 - val_loss: 0.0881\n",
      "Epoch 115/200\n",
      "\u001b[1m13/13\u001b[0m \u001b[32m━━━━━━━━━━━━━━━━━━━━\u001b[0m\u001b[37m\u001b[0m \u001b[1m0s\u001b[0m 5ms/step - loss: 0.0730 - val_loss: 0.0877\n",
      "Epoch 116/200\n",
      "\u001b[1m13/13\u001b[0m \u001b[32m━━━━━━━━━━━━━━━━━━━━\u001b[0m\u001b[37m\u001b[0m \u001b[1m0s\u001b[0m 5ms/step - loss: 0.0827 - val_loss: 0.1099\n",
      "Epoch 117/200\n",
      "\u001b[1m13/13\u001b[0m \u001b[32m━━━━━━━━━━━━━━━━━━━━\u001b[0m\u001b[37m\u001b[0m \u001b[1m0s\u001b[0m 5ms/step - loss: 0.0849 - val_loss: 0.0843\n",
      "Epoch 118/200\n",
      "\u001b[1m13/13\u001b[0m \u001b[32m━━━━━━━━━━━━━━━━━━━━\u001b[0m\u001b[37m\u001b[0m \u001b[1m0s\u001b[0m 5ms/step - loss: 0.0808 - val_loss: 0.0854\n",
      "Epoch 119/200\n",
      "\u001b[1m13/13\u001b[0m \u001b[32m━━━━━━━━━━━━━━━━━━━━\u001b[0m\u001b[37m\u001b[0m \u001b[1m0s\u001b[0m 5ms/step - loss: 0.0781 - val_loss: 0.0898\n",
      "Epoch 120/200\n",
      "\u001b[1m13/13\u001b[0m \u001b[32m━━━━━━━━━━━━━━━━━━━━\u001b[0m\u001b[37m\u001b[0m \u001b[1m0s\u001b[0m 5ms/step - loss: 0.0771 - val_loss: 0.0982\n",
      "Epoch 121/200\n",
      "\u001b[1m13/13\u001b[0m \u001b[32m━━━━━━━━━━━━━━━━━━━━\u001b[0m\u001b[37m\u001b[0m \u001b[1m0s\u001b[0m 5ms/step - loss: 0.0853 - val_loss: 0.0916\n",
      "Epoch 122/200\n",
      "\u001b[1m13/13\u001b[0m \u001b[32m━━━━━━━━━━━━━━━━━━━━\u001b[0m\u001b[37m\u001b[0m \u001b[1m0s\u001b[0m 5ms/step - loss: 0.0822 - val_loss: 0.0842\n",
      "Epoch 123/200\n",
      "\u001b[1m13/13\u001b[0m \u001b[32m━━━━━━━━━━━━━━━━━━━━\u001b[0m\u001b[37m\u001b[0m \u001b[1m0s\u001b[0m 5ms/step - loss: 0.0867 - val_loss: 0.1199\n",
      "Epoch 124/200\n",
      "\u001b[1m13/13\u001b[0m \u001b[32m━━━━━━━━━━━━━━━━━━━━\u001b[0m\u001b[37m\u001b[0m \u001b[1m0s\u001b[0m 5ms/step - loss: 0.0766 - val_loss: 0.0851\n",
      "Epoch 125/200\n",
      "\u001b[1m13/13\u001b[0m \u001b[32m━━━━━━━━━━━━━━━━━━━━\u001b[0m\u001b[37m\u001b[0m \u001b[1m0s\u001b[0m 6ms/step - loss: 0.0886 - val_loss: 0.0913\n",
      "Epoch 126/200\n",
      "\u001b[1m13/13\u001b[0m \u001b[32m━━━━━━━━━━━━━━━━━━━━\u001b[0m\u001b[37m\u001b[0m \u001b[1m0s\u001b[0m 5ms/step - loss: 0.0846 - val_loss: 0.0942\n",
      "Epoch 127/200\n",
      "\u001b[1m13/13\u001b[0m \u001b[32m━━━━━━━━━━━━━━━━━━━━\u001b[0m\u001b[37m\u001b[0m \u001b[1m0s\u001b[0m 5ms/step - loss: 0.0831 - val_loss: 0.0837\n",
      "Epoch 128/200\n",
      "\u001b[1m13/13\u001b[0m \u001b[32m━━━━━━━━━━━━━━━━━━━━\u001b[0m\u001b[37m\u001b[0m \u001b[1m0s\u001b[0m 5ms/step - loss: 0.0800 - val_loss: 0.0919\n",
      "Epoch 129/200\n",
      "\u001b[1m13/13\u001b[0m \u001b[32m━━━━━━━━━━━━━━━━━━━━\u001b[0m\u001b[37m\u001b[0m \u001b[1m0s\u001b[0m 5ms/step - loss: 0.0796 - val_loss: 0.0885\n",
      "Epoch 130/200\n",
      "\u001b[1m13/13\u001b[0m \u001b[32m━━━━━━━━━━━━━━━━━━━━\u001b[0m\u001b[37m\u001b[0m \u001b[1m0s\u001b[0m 5ms/step - loss: 0.0785 - val_loss: 0.0939\n",
      "Epoch 131/200\n",
      "\u001b[1m13/13\u001b[0m \u001b[32m━━━━━━━━━━━━━━━━━━━━\u001b[0m\u001b[37m\u001b[0m \u001b[1m0s\u001b[0m 5ms/step - loss: 0.0776 - val_loss: 0.0832\n",
      "Epoch 132/200\n",
      "\u001b[1m13/13\u001b[0m \u001b[32m━━━━━━━━━━━━━━━━━━━━\u001b[0m\u001b[37m\u001b[0m \u001b[1m0s\u001b[0m 5ms/step - loss: 0.0919 - val_loss: 0.0848\n",
      "Epoch 133/200\n",
      "\u001b[1m13/13\u001b[0m \u001b[32m━━━━━━━━━━━━━━━━━━━━\u001b[0m\u001b[37m\u001b[0m \u001b[1m0s\u001b[0m 5ms/step - loss: 0.0781 - val_loss: 0.1023\n",
      "Epoch 134/200\n",
      "\u001b[1m13/13\u001b[0m \u001b[32m━━━━━━━━━━━━━━━━━━━━\u001b[0m\u001b[37m\u001b[0m \u001b[1m0s\u001b[0m 5ms/step - loss: 0.0811 - val_loss: 0.0864\n",
      "Epoch 135/200\n",
      "\u001b[1m13/13\u001b[0m \u001b[32m━━━━━━━━━━━━━━━━━━━━\u001b[0m\u001b[37m\u001b[0m \u001b[1m0s\u001b[0m 5ms/step - loss: 0.0796 - val_loss: 0.0884\n",
      "Epoch 136/200\n",
      "\u001b[1m13/13\u001b[0m \u001b[32m━━━━━━━━━━━━━━━━━━━━\u001b[0m\u001b[37m\u001b[0m \u001b[1m0s\u001b[0m 5ms/step - loss: 0.0792 - val_loss: 0.0841\n",
      "Epoch 137/200\n",
      "\u001b[1m13/13\u001b[0m \u001b[32m━━━━━━━━━━━━━━━━━━━━\u001b[0m\u001b[37m\u001b[0m \u001b[1m0s\u001b[0m 5ms/step - loss: 0.0800 - val_loss: 0.0874\n",
      "Epoch 138/200\n",
      "\u001b[1m13/13\u001b[0m \u001b[32m━━━━━━━━━━━━━━━━━━━━\u001b[0m\u001b[37m\u001b[0m \u001b[1m0s\u001b[0m 5ms/step - loss: 0.0844 - val_loss: 0.0968\n",
      "Epoch 139/200\n",
      "\u001b[1m13/13\u001b[0m \u001b[32m━━━━━━━━━━━━━━━━━━━━\u001b[0m\u001b[37m\u001b[0m \u001b[1m0s\u001b[0m 5ms/step - loss: 0.0765 - val_loss: 0.0867\n",
      "Epoch 140/200\n",
      "\u001b[1m13/13\u001b[0m \u001b[32m━━━━━━━━━━━━━━━━━━━━\u001b[0m\u001b[37m\u001b[0m \u001b[1m0s\u001b[0m 5ms/step - loss: 0.0733 - val_loss: 0.0895\n",
      "Epoch 141/200\n",
      "\u001b[1m13/13\u001b[0m \u001b[32m━━━━━━━━━━━━━━━━━━━━\u001b[0m\u001b[37m\u001b[0m \u001b[1m0s\u001b[0m 5ms/step - loss: 0.0800 - val_loss: 0.0918\n",
      "Epoch 142/200\n",
      "\u001b[1m13/13\u001b[0m \u001b[32m━━━━━━━━━━━━━━━━━━━━\u001b[0m\u001b[37m\u001b[0m \u001b[1m0s\u001b[0m 5ms/step - loss: 0.0743 - val_loss: 0.0846\n",
      "Epoch 143/200\n",
      "\u001b[1m13/13\u001b[0m \u001b[32m━━━━━━━━━━━━━━━━━━━━\u001b[0m\u001b[37m\u001b[0m \u001b[1m0s\u001b[0m 5ms/step - loss: 0.0779 - val_loss: 0.0888\n",
      "Epoch 144/200\n",
      "\u001b[1m13/13\u001b[0m \u001b[32m━━━━━━━━━━━━━━━━━━━━\u001b[0m\u001b[37m\u001b[0m \u001b[1m0s\u001b[0m 5ms/step - loss: 0.0766 - val_loss: 0.0864\n",
      "Epoch 145/200\n",
      "\u001b[1m13/13\u001b[0m \u001b[32m━━━━━━━━━━━━━━━━━━━━\u001b[0m\u001b[37m\u001b[0m \u001b[1m0s\u001b[0m 5ms/step - loss: 0.0828 - val_loss: 0.0985\n",
      "Epoch 146/200\n",
      "\u001b[1m13/13\u001b[0m \u001b[32m━━━━━━━━━━━━━━━━━━━━\u001b[0m\u001b[37m\u001b[0m \u001b[1m0s\u001b[0m 5ms/step - loss: 0.0839 - val_loss: 0.0834\n",
      "Epoch 147/200\n",
      "\u001b[1m13/13\u001b[0m \u001b[32m━━━━━━━━━━━━━━━━━━━━\u001b[0m\u001b[37m\u001b[0m \u001b[1m0s\u001b[0m 5ms/step - loss: 0.0730 - val_loss: 0.0891\n",
      "Epoch 148/200\n",
      "\u001b[1m13/13\u001b[0m \u001b[32m━━━━━━━━━━━━━━━━━━━━\u001b[0m\u001b[37m\u001b[0m \u001b[1m0s\u001b[0m 5ms/step - loss: 0.0808 - val_loss: 0.0854\n",
      "Epoch 149/200\n",
      "\u001b[1m13/13\u001b[0m \u001b[32m━━━━━━━━━━━━━━━━━━━━\u001b[0m\u001b[37m\u001b[0m \u001b[1m0s\u001b[0m 5ms/step - loss: 0.0866 - val_loss: 0.0969\n",
      "Epoch 150/200\n",
      "\u001b[1m13/13\u001b[0m \u001b[32m━━━━━━━━━━━━━━━━━━━━\u001b[0m\u001b[37m\u001b[0m \u001b[1m0s\u001b[0m 5ms/step - loss: 0.0857 - val_loss: 0.0978\n",
      "Epoch 151/200\n",
      "\u001b[1m13/13\u001b[0m \u001b[32m━━━━━━━━━━━━━━━━━━━━\u001b[0m\u001b[37m\u001b[0m \u001b[1m0s\u001b[0m 5ms/step - loss: 0.0835 - val_loss: 0.0948\n",
      "Epoch 152/200\n",
      "\u001b[1m13/13\u001b[0m \u001b[32m━━━━━━━━━━━━━━━━━━━━\u001b[0m\u001b[37m\u001b[0m \u001b[1m0s\u001b[0m 5ms/step - loss: 0.0825 - val_loss: 0.0945\n",
      "Epoch 153/200\n",
      "\u001b[1m13/13\u001b[0m \u001b[32m━━━━━━━━━━━━━━━━━━━━\u001b[0m\u001b[37m\u001b[0m \u001b[1m0s\u001b[0m 5ms/step - loss: 0.0768 - val_loss: 0.0829\n",
      "Epoch 154/200\n",
      "\u001b[1m13/13\u001b[0m \u001b[32m━━━━━━━━━━━━━━━━━━━━\u001b[0m\u001b[37m\u001b[0m \u001b[1m0s\u001b[0m 5ms/step - loss: 0.0860 - val_loss: 0.0995\n",
      "Epoch 155/200\n",
      "\u001b[1m13/13\u001b[0m \u001b[32m━━━━━━━━━━━━━━━━━━━━\u001b[0m\u001b[37m\u001b[0m \u001b[1m0s\u001b[0m 5ms/step - loss: 0.0737 - val_loss: 0.0887\n",
      "Epoch 156/200\n",
      "\u001b[1m13/13\u001b[0m \u001b[32m━━━━━━━━━━━━━━━━━━━━\u001b[0m\u001b[37m\u001b[0m \u001b[1m0s\u001b[0m 5ms/step - loss: 0.0822 - val_loss: 0.1000\n",
      "Epoch 157/200\n",
      "\u001b[1m13/13\u001b[0m \u001b[32m━━━━━━━━━━━━━━━━━━━━\u001b[0m\u001b[37m\u001b[0m \u001b[1m0s\u001b[0m 5ms/step - loss: 0.0752 - val_loss: 0.0914\n",
      "Epoch 158/200\n",
      "\u001b[1m13/13\u001b[0m \u001b[32m━━━━━━━━━━━━━━━━━━━━\u001b[0m\u001b[37m\u001b[0m \u001b[1m0s\u001b[0m 5ms/step - loss: 0.0793 - val_loss: 0.0947\n",
      "Epoch 159/200\n",
      "\u001b[1m13/13\u001b[0m \u001b[32m━━━━━━━━━━━━━━━━━━━━\u001b[0m\u001b[37m\u001b[0m \u001b[1m0s\u001b[0m 5ms/step - loss: 0.0808 - val_loss: 0.0844\n",
      "Epoch 160/200\n",
      "\u001b[1m13/13\u001b[0m \u001b[32m━━━━━━━━━━━━━━━━━━━━\u001b[0m\u001b[37m\u001b[0m \u001b[1m0s\u001b[0m 5ms/step - loss: 0.0766 - val_loss: 0.0963\n",
      "Epoch 161/200\n",
      "\u001b[1m13/13\u001b[0m \u001b[32m━━━━━━━━━━━━━━━━━━━━\u001b[0m\u001b[37m\u001b[0m \u001b[1m0s\u001b[0m 5ms/step - loss: 0.0836 - val_loss: 0.0842\n",
      "Epoch 162/200\n",
      "\u001b[1m13/13\u001b[0m \u001b[32m━━━━━━━━━━━━━━━━━━━━\u001b[0m\u001b[37m\u001b[0m \u001b[1m0s\u001b[0m 5ms/step - loss: 0.0778 - val_loss: 0.1010\n",
      "Epoch 163/200\n",
      "\u001b[1m13/13\u001b[0m \u001b[32m━━━━━━━━━━━━━━━━━━━━\u001b[0m\u001b[37m\u001b[0m \u001b[1m0s\u001b[0m 5ms/step - loss: 0.0801 - val_loss: 0.0960\n",
      "Epoch 164/200\n",
      "\u001b[1m13/13\u001b[0m \u001b[32m━━━━━━━━━━━━━━━━━━━━\u001b[0m\u001b[37m\u001b[0m \u001b[1m0s\u001b[0m 6ms/step - loss: 0.0821 - val_loss: 0.0858\n",
      "Epoch 165/200\n",
      "\u001b[1m13/13\u001b[0m \u001b[32m━━━━━━━━━━━━━━━━━━━━\u001b[0m\u001b[37m\u001b[0m \u001b[1m0s\u001b[0m 5ms/step - loss: 0.0813 - val_loss: 0.0931\n",
      "Epoch 166/200\n",
      "\u001b[1m13/13\u001b[0m \u001b[32m━━━━━━━━━━━━━━━━━━━━\u001b[0m\u001b[37m\u001b[0m \u001b[1m0s\u001b[0m 5ms/step - loss: 0.0782 - val_loss: 0.0884\n",
      "Epoch 167/200\n",
      "\u001b[1m13/13\u001b[0m \u001b[32m━━━━━━━━━━━━━━━━━━━━\u001b[0m\u001b[37m\u001b[0m \u001b[1m0s\u001b[0m 5ms/step - loss: 0.0824 - val_loss: 0.0838\n",
      "Epoch 168/200\n",
      "\u001b[1m13/13\u001b[0m \u001b[32m━━━━━━━━━━━━━━━━━━━━\u001b[0m\u001b[37m\u001b[0m \u001b[1m0s\u001b[0m 5ms/step - loss: 0.0769 - val_loss: 0.0920\n",
      "Epoch 169/200\n",
      "\u001b[1m13/13\u001b[0m \u001b[32m━━━━━━━━━━━━━━━━━━━━\u001b[0m\u001b[37m\u001b[0m \u001b[1m0s\u001b[0m 5ms/step - loss: 0.0776 - val_loss: 0.0994\n",
      "Epoch 170/200\n",
      "\u001b[1m13/13\u001b[0m \u001b[32m━━━━━━━━━━━━━━━━━━━━\u001b[0m\u001b[37m\u001b[0m \u001b[1m0s\u001b[0m 5ms/step - loss: 0.0832 - val_loss: 0.0828\n",
      "Epoch 171/200\n",
      "\u001b[1m13/13\u001b[0m \u001b[32m━━━━━━━━━━━━━━━━━━━━\u001b[0m\u001b[37m\u001b[0m \u001b[1m0s\u001b[0m 5ms/step - loss: 0.0824 - val_loss: 0.0906\n",
      "Epoch 172/200\n",
      "\u001b[1m13/13\u001b[0m \u001b[32m━━━━━━━━━━━━━━━━━━━━\u001b[0m\u001b[37m\u001b[0m \u001b[1m0s\u001b[0m 5ms/step - loss: 0.0754 - val_loss: 0.0941\n",
      "Epoch 173/200\n",
      "\u001b[1m13/13\u001b[0m \u001b[32m━━━━━━━━━━━━━━━━━━━━\u001b[0m\u001b[37m\u001b[0m \u001b[1m0s\u001b[0m 5ms/step - loss: 0.0740 - val_loss: 0.0831\n",
      "Epoch 174/200\n",
      "\u001b[1m13/13\u001b[0m \u001b[32m━━━━━━━━━━━━━━━━━━━━\u001b[0m\u001b[37m\u001b[0m \u001b[1m0s\u001b[0m 5ms/step - loss: 0.0793 - val_loss: 0.0908\n",
      "Epoch 175/200\n",
      "\u001b[1m13/13\u001b[0m \u001b[32m━━━━━━━━━━━━━━━━━━━━\u001b[0m\u001b[37m\u001b[0m \u001b[1m0s\u001b[0m 5ms/step - loss: 0.0749 - val_loss: 0.0839\n",
      "Epoch 176/200\n",
      "\u001b[1m13/13\u001b[0m \u001b[32m━━━━━━━━━━━━━━━━━━━━\u001b[0m\u001b[37m\u001b[0m \u001b[1m0s\u001b[0m 5ms/step - loss: 0.0839 - val_loss: 0.0932\n",
      "Epoch 177/200\n",
      "\u001b[1m13/13\u001b[0m \u001b[32m━━━━━━━━━━━━━━━━━━━━\u001b[0m\u001b[37m\u001b[0m \u001b[1m0s\u001b[0m 5ms/step - loss: 0.0741 - val_loss: 0.0875\n",
      "Epoch 178/200\n",
      "\u001b[1m13/13\u001b[0m \u001b[32m━━━━━━━━━━━━━━━━━━━━\u001b[0m\u001b[37m\u001b[0m \u001b[1m0s\u001b[0m 5ms/step - loss: 0.0807 - val_loss: 0.0855\n",
      "Epoch 179/200\n",
      "\u001b[1m13/13\u001b[0m \u001b[32m━━━━━━━━━━━━━━━━━━━━\u001b[0m\u001b[37m\u001b[0m \u001b[1m0s\u001b[0m 6ms/step - loss: 0.0772 - val_loss: 0.0897\n",
      "Epoch 180/200\n",
      "\u001b[1m13/13\u001b[0m \u001b[32m━━━━━━━━━━━━━━━━━━━━\u001b[0m\u001b[37m\u001b[0m \u001b[1m0s\u001b[0m 6ms/step - loss: 0.0795 - val_loss: 0.1048\n",
      "Epoch 181/200\n",
      "\u001b[1m13/13\u001b[0m \u001b[32m━━━━━━━━━━━━━━━━━━━━\u001b[0m\u001b[37m\u001b[0m \u001b[1m0s\u001b[0m 5ms/step - loss: 0.0830 - val_loss: 0.0887\n",
      "Epoch 182/200\n",
      "\u001b[1m13/13\u001b[0m \u001b[32m━━━━━━━━━━━━━━━━━━━━\u001b[0m\u001b[37m\u001b[0m \u001b[1m0s\u001b[0m 6ms/step - loss: 0.0842 - val_loss: 0.0863\n",
      "Epoch 183/200\n",
      "\u001b[1m13/13\u001b[0m \u001b[32m━━━━━━━━━━━━━━━━━━━━\u001b[0m\u001b[37m\u001b[0m \u001b[1m0s\u001b[0m 5ms/step - loss: 0.0850 - val_loss: 0.1141\n",
      "Epoch 184/200\n",
      "\u001b[1m13/13\u001b[0m \u001b[32m━━━━━━━━━━━━━━━━━━━━\u001b[0m\u001b[37m\u001b[0m \u001b[1m0s\u001b[0m 5ms/step - loss: 0.0818 - val_loss: 0.0975\n",
      "Epoch 185/200\n",
      "\u001b[1m13/13\u001b[0m \u001b[32m━━━━━━━━━━━━━━━━━━━━\u001b[0m\u001b[37m\u001b[0m \u001b[1m0s\u001b[0m 5ms/step - loss: 0.0758 - val_loss: 0.1018\n",
      "Epoch 186/200\n",
      "\u001b[1m13/13\u001b[0m \u001b[32m━━━━━━━━━━━━━━━━━━━━\u001b[0m\u001b[37m\u001b[0m \u001b[1m0s\u001b[0m 5ms/step - loss: 0.0772 - val_loss: 0.0917\n",
      "Epoch 187/200\n",
      "\u001b[1m13/13\u001b[0m \u001b[32m━━━━━━━━━━━━━━━━━━━━\u001b[0m\u001b[37m\u001b[0m \u001b[1m0s\u001b[0m 6ms/step - loss: 0.0787 - val_loss: 0.1053\n",
      "Epoch 188/200\n",
      "\u001b[1m13/13\u001b[0m \u001b[32m━━━━━━━━━━━━━━━━━━━━\u001b[0m\u001b[37m\u001b[0m \u001b[1m0s\u001b[0m 5ms/step - loss: 0.0769 - val_loss: 0.0947\n",
      "Epoch 189/200\n",
      "\u001b[1m13/13\u001b[0m \u001b[32m━━━━━━━━━━━━━━━━━━━━\u001b[0m\u001b[37m\u001b[0m \u001b[1m0s\u001b[0m 6ms/step - loss: 0.0762 - val_loss: 0.0932\n",
      "Epoch 190/200\n",
      "\u001b[1m13/13\u001b[0m \u001b[32m━━━━━━━━━━━━━━━━━━━━\u001b[0m\u001b[37m\u001b[0m \u001b[1m0s\u001b[0m 5ms/step - loss: 0.0804 - val_loss: 0.0930\n",
      "Epoch 191/200\n",
      "\u001b[1m13/13\u001b[0m \u001b[32m━━━━━━━━━━━━━━━━━━━━\u001b[0m\u001b[37m\u001b[0m \u001b[1m0s\u001b[0m 5ms/step - loss: 0.0775 - val_loss: 0.0975\n",
      "Epoch 192/200\n",
      "\u001b[1m13/13\u001b[0m \u001b[32m━━━━━━━━━━━━━━━━━━━━\u001b[0m\u001b[37m\u001b[0m \u001b[1m0s\u001b[0m 6ms/step - loss: 0.0731 - val_loss: 0.0942\n",
      "Epoch 193/200\n",
      "\u001b[1m13/13\u001b[0m \u001b[32m━━━━━━━━━━━━━━━━━━━━\u001b[0m\u001b[37m\u001b[0m \u001b[1m0s\u001b[0m 5ms/step - loss: 0.0782 - val_loss: 0.0985\n",
      "Epoch 194/200\n",
      "\u001b[1m13/13\u001b[0m \u001b[32m━━━━━━━━━━━━━━━━━━━━\u001b[0m\u001b[37m\u001b[0m \u001b[1m0s\u001b[0m 5ms/step - loss: 0.0858 - val_loss: 0.0984\n",
      "Epoch 195/200\n",
      "\u001b[1m13/13\u001b[0m \u001b[32m━━━━━━━━━━━━━━━━━━━━\u001b[0m\u001b[37m\u001b[0m \u001b[1m0s\u001b[0m 5ms/step - loss: 0.0849 - val_loss: 0.1077\n",
      "Epoch 196/200\n",
      "\u001b[1m13/13\u001b[0m \u001b[32m━━━━━━━━━━━━━━━━━━━━\u001b[0m\u001b[37m\u001b[0m \u001b[1m0s\u001b[0m 5ms/step - loss: 0.0774 - val_loss: 0.0862\n",
      "Epoch 197/200\n",
      "\u001b[1m13/13\u001b[0m \u001b[32m━━━━━━━━━━━━━━━━━━━━\u001b[0m\u001b[37m\u001b[0m \u001b[1m0s\u001b[0m 5ms/step - loss: 0.0812 - val_loss: 0.1010\n",
      "Epoch 198/200\n",
      "\u001b[1m13/13\u001b[0m \u001b[32m━━━━━━━━━━━━━━━━━━━━\u001b[0m\u001b[37m\u001b[0m \u001b[1m0s\u001b[0m 6ms/step - loss: 0.0816 - val_loss: 0.0946\n",
      "Epoch 199/200\n",
      "\u001b[1m13/13\u001b[0m \u001b[32m━━━━━━━━━━━━━━━━━━━━\u001b[0m\u001b[37m\u001b[0m \u001b[1m0s\u001b[0m 5ms/step - loss: 0.0806 - val_loss: 0.0929\n",
      "Epoch 200/200\n",
      "\u001b[1m13/13\u001b[0m \u001b[32m━━━━━━━━━━━━━━━━━━━━\u001b[0m\u001b[37m\u001b[0m \u001b[1m0s\u001b[0m 5ms/step - loss: 0.0726 - val_loss: 0.0916\n"
     ]
    }
   ],
   "source": [
    "model = Sequential()\n",
    "model.add(LSTM(64, activation='tanh', return_sequences=True, input_shape=(12, 1)))\n",
    "model.add(Dropout(0.2))\n",
    "model.add(LSTM(32, activation='tanh'))\n",
    "model.add(Dense(1))\n",
    "\n",
    "model.compile(optimizer='adam', loss='mae')\n",
    "\n",
    "history = model.fit(\n",
    "    X_train, y_train,\n",
    "    epochs = 200,\n",
    "    batch_size = 4,\n",
    "    validation_split = 0.1, \n",
    "    verbose = 1\n",
    ")"
   ]
  },
  {
   "cell_type": "code",
   "execution_count": 47,
   "id": "8ab14322",
   "metadata": {},
   "outputs": [
    {
     "name": "stdout",
     "output_type": "stream",
     "text": [
      "\u001b[1m1/1\u001b[0m \u001b[32m━━━━━━━━━━━━━━━━━━━━\u001b[0m\u001b[37m\u001b[0m \u001b[1m0s\u001b[0m 104ms/step\n",
      "LSTM MAE: 1737220.0047799994\n"
     ]
    }
   ],
   "source": [
    "y_pred = model.predict(X_test)\n",
    "\n",
    "y_test_inv = scaler.inverse_transform(y_test.reshape(-1, 1))\n",
    "y_pred_inv = scaler.inverse_transform(y_pred)\n",
    "\n",
    "mae_lstm = mean_absolute_error(y_test_inv, y_pred_inv)\n",
    "print('LSTM MAE:', mae_lstm)"
   ]
  },
  {
   "cell_type": "code",
   "execution_count": 48,
   "id": "bfc0090f",
   "metadata": {},
   "outputs": [
    {
     "data": {
      "application/vnd.plotly.v1+json": {
       "config": {
        "plotlyServerURL": "https://plot.ly"
       },
       "data": [
        {
         "hovertemplate": "Mês e ano=%{x}<br>Totais das despesas=%{y}<extra></extra>",
         "legendgroup": "",
         "line": {
          "color": "#636efa",
          "dash": "solid",
          "width": 2
         },
         "marker": {
          "symbol": "circle"
         },
         "mode": "lines+markers",
         "name": "",
         "orientation": "v",
         "showlegend": false,
         "type": "scatter",
         "x": [
          "1_2019",
          "2_2019",
          "3_2019",
          "4_2019",
          "5_2019",
          "6_2019",
          "7_2019",
          "8_2019",
          "9_2019",
          "10_2019",
          "11_2019",
          "12_2019",
          "1_2020",
          "2_2020",
          "3_2020",
          "4_2020",
          "5_2020",
          "6_2020",
          "7_2020",
          "8_2020",
          "9_2020",
          "10_2020",
          "11_2020",
          "12_2020",
          "1_2021",
          "2_2021",
          "3_2021",
          "4_2021",
          "5_2021",
          "6_2021",
          "7_2021",
          "8_2021",
          "9_2021",
          "10_2021",
          "11_2021",
          "12_2021",
          "1_2022",
          "2_2022",
          "3_2022",
          "4_2022",
          "5_2022",
          "6_2022",
          "7_2022",
          "8_2022",
          "9_2022",
          "10_2022",
          "11_2022",
          "12_2022",
          "1_2023",
          "2_2023",
          "3_2023",
          "4_2023",
          "5_2023",
          "6_2023",
          "7_2023",
          "8_2023",
          "9_2023",
          "10_2023",
          "11_2023",
          "12_2023",
          "1_2024",
          "2_2024",
          "3_2024",
          "4_2024",
          "5_2024",
          "6_2024",
          "7_2024",
          "8_2024",
          "9_2024",
          "10_2024",
          "11_2024",
          "12_2024",
          "1_2025",
          "2_2025",
          "3_2025",
          "4_2025",
          "5_2025",
          "6_2025",
          "7_2025"
         ],
         "xaxis": "x",
         "y": {
          "bdata": "I9ZH8iJtb0FtsfZ2LPRuQemhkfIl4W5BKEwzSaGicEGNHilIVihyQRDbZ4suX3BBe+3jT2lHcUE6aEXbnatxQagM0kyy9XBBT+V5W871cUEycZAUqXNwQTxy2pFkZWxBeTrX+F9WbUE2XKQV2L5pQTEUJlZx8WtBhoLjJeEhZUHapt10UxRkQSp/7XaQiGRByRqa8VxXZ0H+8iTGukFoQTH2lKKxuGhBPT1bh7isakE2vdVYOGtpQc1BKyy562ZBt9RcyifGZkFtx1QslENnQebiFFGy1mtBhnYOnExXaUGhhBnOH/pqQYBJKl0MD2pBpivYWTUxbUHZB1lS4NxvQS4sCTp+nG1B2Ls/cYfRbEHRIAVs4fJtQRAGnrtgZGtB4e6sqIxOb0EYCW3KtLtvQW3F/g9ZanJBNV46I+w2cUEsZRnhzOxzQRv1kM8RNHJBlMHRjTRWckHxEbH0hAh0QXqlrKizsHJB3dJqsn1xckGOAVm9hz1xQXctIWojM29BH2gFSO4gcUH3qpWNgy9vQYsaTHWbUXRBkGas9fsnckGjh+vd0hR1Qdxj6dKMz3NBJscdqppjc0H129cEwFt0QX50aiJ9f3NB8Ut9MCsrdEGfdvj530NzQad0MC4jV3BBeTtCzthPckE/b6op9aZwQcoyRBF+tXRBTzv8F20gdEHZfFx0hlR0Qfz7DL1tRHNBAtnrQiRkdEFau23y8/J0Qcu5lJPyFnRBS+XtizcDdEHSAF6aLZ1xQRBAarvZTm5BtDwPhYDEckH+t5JAdZVzQWdhTyUygXRBIatbmOttdUE6HrOLvHN4QYHPDxSthXZBXdxGIyRkd0E=",
          "dtype": "f8"
         },
         "yaxis": "y"
        },
        {
         "line": {
          "width": 2
         },
         "mode": "lines+markers",
         "type": "scatter",
         "x": [
          "8_2024",
          "9_2024",
          "10_2024",
          "11_2024",
          "12_2024",
          "1_2025",
          "2_2025",
          "3_2025",
          "4_2025",
          "5_2025",
          "6_2025",
          "7_2025"
         ],
         "y": {
          "bdata": "gUadS4zBoEvOZZ9L0eecSyL8kEvbXHxLFYGFSzlIlEu9PKBLUJGoSwBzt0t8SbdL",
          "dtype": "f4"
         }
        }
       ],
       "layout": {
        "hovermode": "x unified",
        "legend": {
         "tracegroupgap": 0
        },
        "template": {
         "data": {
          "bar": [
           {
            "error_x": {
             "color": "#2a3f5f"
            },
            "error_y": {
             "color": "#2a3f5f"
            },
            "marker": {
             "line": {
              "color": "white",
              "width": 0.5
             },
             "pattern": {
              "fillmode": "overlay",
              "size": 10,
              "solidity": 0.2
             }
            },
            "type": "bar"
           }
          ],
          "barpolar": [
           {
            "marker": {
             "line": {
              "color": "white",
              "width": 0.5
             },
             "pattern": {
              "fillmode": "overlay",
              "size": 10,
              "solidity": 0.2
             }
            },
            "type": "barpolar"
           }
          ],
          "carpet": [
           {
            "aaxis": {
             "endlinecolor": "#2a3f5f",
             "gridcolor": "#C8D4E3",
             "linecolor": "#C8D4E3",
             "minorgridcolor": "#C8D4E3",
             "startlinecolor": "#2a3f5f"
            },
            "baxis": {
             "endlinecolor": "#2a3f5f",
             "gridcolor": "#C8D4E3",
             "linecolor": "#C8D4E3",
             "minorgridcolor": "#C8D4E3",
             "startlinecolor": "#2a3f5f"
            },
            "type": "carpet"
           }
          ],
          "choropleth": [
           {
            "colorbar": {
             "outlinewidth": 0,
             "ticks": ""
            },
            "type": "choropleth"
           }
          ],
          "contour": [
           {
            "colorbar": {
             "outlinewidth": 0,
             "ticks": ""
            },
            "colorscale": [
             [
              0,
              "#0d0887"
             ],
             [
              0.1111111111111111,
              "#46039f"
             ],
             [
              0.2222222222222222,
              "#7201a8"
             ],
             [
              0.3333333333333333,
              "#9c179e"
             ],
             [
              0.4444444444444444,
              "#bd3786"
             ],
             [
              0.5555555555555556,
              "#d8576b"
             ],
             [
              0.6666666666666666,
              "#ed7953"
             ],
             [
              0.7777777777777778,
              "#fb9f3a"
             ],
             [
              0.8888888888888888,
              "#fdca26"
             ],
             [
              1,
              "#f0f921"
             ]
            ],
            "type": "contour"
           }
          ],
          "contourcarpet": [
           {
            "colorbar": {
             "outlinewidth": 0,
             "ticks": ""
            },
            "type": "contourcarpet"
           }
          ],
          "heatmap": [
           {
            "colorbar": {
             "outlinewidth": 0,
             "ticks": ""
            },
            "colorscale": [
             [
              0,
              "#0d0887"
             ],
             [
              0.1111111111111111,
              "#46039f"
             ],
             [
              0.2222222222222222,
              "#7201a8"
             ],
             [
              0.3333333333333333,
              "#9c179e"
             ],
             [
              0.4444444444444444,
              "#bd3786"
             ],
             [
              0.5555555555555556,
              "#d8576b"
             ],
             [
              0.6666666666666666,
              "#ed7953"
             ],
             [
              0.7777777777777778,
              "#fb9f3a"
             ],
             [
              0.8888888888888888,
              "#fdca26"
             ],
             [
              1,
              "#f0f921"
             ]
            ],
            "type": "heatmap"
           }
          ],
          "histogram": [
           {
            "marker": {
             "pattern": {
              "fillmode": "overlay",
              "size": 10,
              "solidity": 0.2
             }
            },
            "type": "histogram"
           }
          ],
          "histogram2d": [
           {
            "colorbar": {
             "outlinewidth": 0,
             "ticks": ""
            },
            "colorscale": [
             [
              0,
              "#0d0887"
             ],
             [
              0.1111111111111111,
              "#46039f"
             ],
             [
              0.2222222222222222,
              "#7201a8"
             ],
             [
              0.3333333333333333,
              "#9c179e"
             ],
             [
              0.4444444444444444,
              "#bd3786"
             ],
             [
              0.5555555555555556,
              "#d8576b"
             ],
             [
              0.6666666666666666,
              "#ed7953"
             ],
             [
              0.7777777777777778,
              "#fb9f3a"
             ],
             [
              0.8888888888888888,
              "#fdca26"
             ],
             [
              1,
              "#f0f921"
             ]
            ],
            "type": "histogram2d"
           }
          ],
          "histogram2dcontour": [
           {
            "colorbar": {
             "outlinewidth": 0,
             "ticks": ""
            },
            "colorscale": [
             [
              0,
              "#0d0887"
             ],
             [
              0.1111111111111111,
              "#46039f"
             ],
             [
              0.2222222222222222,
              "#7201a8"
             ],
             [
              0.3333333333333333,
              "#9c179e"
             ],
             [
              0.4444444444444444,
              "#bd3786"
             ],
             [
              0.5555555555555556,
              "#d8576b"
             ],
             [
              0.6666666666666666,
              "#ed7953"
             ],
             [
              0.7777777777777778,
              "#fb9f3a"
             ],
             [
              0.8888888888888888,
              "#fdca26"
             ],
             [
              1,
              "#f0f921"
             ]
            ],
            "type": "histogram2dcontour"
           }
          ],
          "mesh3d": [
           {
            "colorbar": {
             "outlinewidth": 0,
             "ticks": ""
            },
            "type": "mesh3d"
           }
          ],
          "parcoords": [
           {
            "line": {
             "colorbar": {
              "outlinewidth": 0,
              "ticks": ""
             }
            },
            "type": "parcoords"
           }
          ],
          "pie": [
           {
            "automargin": true,
            "type": "pie"
           }
          ],
          "scatter": [
           {
            "fillpattern": {
             "fillmode": "overlay",
             "size": 10,
             "solidity": 0.2
            },
            "type": "scatter"
           }
          ],
          "scatter3d": [
           {
            "line": {
             "colorbar": {
              "outlinewidth": 0,
              "ticks": ""
             }
            },
            "marker": {
             "colorbar": {
              "outlinewidth": 0,
              "ticks": ""
             }
            },
            "type": "scatter3d"
           }
          ],
          "scattercarpet": [
           {
            "marker": {
             "colorbar": {
              "outlinewidth": 0,
              "ticks": ""
             }
            },
            "type": "scattercarpet"
           }
          ],
          "scattergeo": [
           {
            "marker": {
             "colorbar": {
              "outlinewidth": 0,
              "ticks": ""
             }
            },
            "type": "scattergeo"
           }
          ],
          "scattergl": [
           {
            "marker": {
             "colorbar": {
              "outlinewidth": 0,
              "ticks": ""
             }
            },
            "type": "scattergl"
           }
          ],
          "scattermap": [
           {
            "marker": {
             "colorbar": {
              "outlinewidth": 0,
              "ticks": ""
             }
            },
            "type": "scattermap"
           }
          ],
          "scattermapbox": [
           {
            "marker": {
             "colorbar": {
              "outlinewidth": 0,
              "ticks": ""
             }
            },
            "type": "scattermapbox"
           }
          ],
          "scatterpolar": [
           {
            "marker": {
             "colorbar": {
              "outlinewidth": 0,
              "ticks": ""
             }
            },
            "type": "scatterpolar"
           }
          ],
          "scatterpolargl": [
           {
            "marker": {
             "colorbar": {
              "outlinewidth": 0,
              "ticks": ""
             }
            },
            "type": "scatterpolargl"
           }
          ],
          "scatterternary": [
           {
            "marker": {
             "colorbar": {
              "outlinewidth": 0,
              "ticks": ""
             }
            },
            "type": "scatterternary"
           }
          ],
          "surface": [
           {
            "colorbar": {
             "outlinewidth": 0,
             "ticks": ""
            },
            "colorscale": [
             [
              0,
              "#0d0887"
             ],
             [
              0.1111111111111111,
              "#46039f"
             ],
             [
              0.2222222222222222,
              "#7201a8"
             ],
             [
              0.3333333333333333,
              "#9c179e"
             ],
             [
              0.4444444444444444,
              "#bd3786"
             ],
             [
              0.5555555555555556,
              "#d8576b"
             ],
             [
              0.6666666666666666,
              "#ed7953"
             ],
             [
              0.7777777777777778,
              "#fb9f3a"
             ],
             [
              0.8888888888888888,
              "#fdca26"
             ],
             [
              1,
              "#f0f921"
             ]
            ],
            "type": "surface"
           }
          ],
          "table": [
           {
            "cells": {
             "fill": {
              "color": "#EBF0F8"
             },
             "line": {
              "color": "white"
             }
            },
            "header": {
             "fill": {
              "color": "#C8D4E3"
             },
             "line": {
              "color": "white"
             }
            },
            "type": "table"
           }
          ]
         },
         "layout": {
          "annotationdefaults": {
           "arrowcolor": "#2a3f5f",
           "arrowhead": 0,
           "arrowwidth": 1
          },
          "autotypenumbers": "strict",
          "coloraxis": {
           "colorbar": {
            "outlinewidth": 0,
            "ticks": ""
           }
          },
          "colorscale": {
           "diverging": [
            [
             0,
             "#8e0152"
            ],
            [
             0.1,
             "#c51b7d"
            ],
            [
             0.2,
             "#de77ae"
            ],
            [
             0.3,
             "#f1b6da"
            ],
            [
             0.4,
             "#fde0ef"
            ],
            [
             0.5,
             "#f7f7f7"
            ],
            [
             0.6,
             "#e6f5d0"
            ],
            [
             0.7,
             "#b8e186"
            ],
            [
             0.8,
             "#7fbc41"
            ],
            [
             0.9,
             "#4d9221"
            ],
            [
             1,
             "#276419"
            ]
           ],
           "sequential": [
            [
             0,
             "#0d0887"
            ],
            [
             0.1111111111111111,
             "#46039f"
            ],
            [
             0.2222222222222222,
             "#7201a8"
            ],
            [
             0.3333333333333333,
             "#9c179e"
            ],
            [
             0.4444444444444444,
             "#bd3786"
            ],
            [
             0.5555555555555556,
             "#d8576b"
            ],
            [
             0.6666666666666666,
             "#ed7953"
            ],
            [
             0.7777777777777778,
             "#fb9f3a"
            ],
            [
             0.8888888888888888,
             "#fdca26"
            ],
            [
             1,
             "#f0f921"
            ]
           ],
           "sequentialminus": [
            [
             0,
             "#0d0887"
            ],
            [
             0.1111111111111111,
             "#46039f"
            ],
            [
             0.2222222222222222,
             "#7201a8"
            ],
            [
             0.3333333333333333,
             "#9c179e"
            ],
            [
             0.4444444444444444,
             "#bd3786"
            ],
            [
             0.5555555555555556,
             "#d8576b"
            ],
            [
             0.6666666666666666,
             "#ed7953"
            ],
            [
             0.7777777777777778,
             "#fb9f3a"
            ],
            [
             0.8888888888888888,
             "#fdca26"
            ],
            [
             1,
             "#f0f921"
            ]
           ]
          },
          "colorway": [
           "#636efa",
           "#EF553B",
           "#00cc96",
           "#ab63fa",
           "#FFA15A",
           "#19d3f3",
           "#FF6692",
           "#B6E880",
           "#FF97FF",
           "#FECB52"
          ],
          "font": {
           "color": "#2a3f5f"
          },
          "geo": {
           "bgcolor": "white",
           "lakecolor": "white",
           "landcolor": "white",
           "showlakes": true,
           "showland": true,
           "subunitcolor": "#C8D4E3"
          },
          "hoverlabel": {
           "align": "left"
          },
          "hovermode": "closest",
          "mapbox": {
           "style": "light"
          },
          "paper_bgcolor": "white",
          "plot_bgcolor": "white",
          "polar": {
           "angularaxis": {
            "gridcolor": "#EBF0F8",
            "linecolor": "#EBF0F8",
            "ticks": ""
           },
           "bgcolor": "white",
           "radialaxis": {
            "gridcolor": "#EBF0F8",
            "linecolor": "#EBF0F8",
            "ticks": ""
           }
          },
          "scene": {
           "xaxis": {
            "backgroundcolor": "white",
            "gridcolor": "#DFE8F3",
            "gridwidth": 2,
            "linecolor": "#EBF0F8",
            "showbackground": true,
            "ticks": "",
            "zerolinecolor": "#EBF0F8"
           },
           "yaxis": {
            "backgroundcolor": "white",
            "gridcolor": "#DFE8F3",
            "gridwidth": 2,
            "linecolor": "#EBF0F8",
            "showbackground": true,
            "ticks": "",
            "zerolinecolor": "#EBF0F8"
           },
           "zaxis": {
            "backgroundcolor": "white",
            "gridcolor": "#DFE8F3",
            "gridwidth": 2,
            "linecolor": "#EBF0F8",
            "showbackground": true,
            "ticks": "",
            "zerolinecolor": "#EBF0F8"
           }
          },
          "shapedefaults": {
           "line": {
            "color": "#2a3f5f"
           }
          },
          "ternary": {
           "aaxis": {
            "gridcolor": "#DFE8F3",
            "linecolor": "#A2B1C6",
            "ticks": ""
           },
           "baxis": {
            "gridcolor": "#DFE8F3",
            "linecolor": "#A2B1C6",
            "ticks": ""
           },
           "bgcolor": "white",
           "caxis": {
            "gridcolor": "#DFE8F3",
            "linecolor": "#A2B1C6",
            "ticks": ""
           }
          },
          "title": {
           "x": 0.05
          },
          "xaxis": {
           "automargin": true,
           "gridcolor": "#EBF0F8",
           "linecolor": "#EBF0F8",
           "ticks": "",
           "title": {
            "standoff": 15
           },
           "zerolinecolor": "#EBF0F8",
           "zerolinewidth": 2
          },
          "yaxis": {
           "automargin": true,
           "gridcolor": "#EBF0F8",
           "linecolor": "#EBF0F8",
           "ticks": "",
           "title": {
            "standoff": 15
           },
           "zerolinecolor": "#EBF0F8",
           "zerolinewidth": 2
          }
         }
        },
        "title": {
         "text": "Previsão temporal com o algoritmo LSTM"
        },
        "xaxis": {
         "anchor": "y",
         "domain": [
          0,
          1
         ],
         "tickangle": 45,
         "title": {
          "text": "Mês e ano"
         }
        },
        "yaxis": {
         "anchor": "x",
         "domain": [
          0,
          1
         ],
         "title": {
          "text": "Totais das despesas"
         }
        }
       }
      }
     },
     "metadata": {},
     "output_type": "display_data"
    }
   ],
   "source": [
    "fig = grafico_base('Previsão temporal com o algoritmo LSTM')\n",
    "\n",
    "fig.add_trace(\n",
    "    go.Scatter(\n",
    "        x = test.mes,\n",
    "        y = y_pred_inv.reshape(1, -1)[0]\n",
    "    )\n",
    ")\n",
    "\n",
    "fig.update_traces(mode='lines+markers', line=dict(width=2))\n",
    "fig.update_xaxes(tickangle=45)\n",
    "fig.update_layout(\n",
    "    template='plotly_white',\n",
    "    hovermode='x unified'\n",
    "    )\n",
    "\n",
    "fig.show()"
   ]
  },
  {
   "cell_type": "code",
   "execution_count": 49,
   "id": "bdf8a44c",
   "metadata": {},
   "outputs": [
    {
     "name": "stdout",
     "output_type": "stream",
     "text": [
      "X_train shape: (44, 12, 1)\n",
      "y_train, shape: (44, 12)\n"
     ]
    }
   ],
   "source": [
    "def create_sequences_multistep(data, window=12, horizon=12):\n",
    "    X, y = [], []\n",
    "    for i in range(len(data) - window - horizon + 1):\n",
    "        X.append(data[i:i+window])\n",
    "        y.append(data[i+window:i+window+horizon].flatten())\n",
    "    return np.array(X), np.array(y)\n",
    "\n",
    "window = 12\n",
    "horizon = 12\n",
    "X, y = create_sequences_multistep(despesas_scaled, window, horizon)\n",
    "\n",
    "split = int(len(X) * 0.8)\n",
    "X_train, X_test = X[:split], X[split:]\n",
    "y_train, y_test = y[:split], y[split:]\n",
    "print('X_train shape:', X_train.shape)\n",
    "print('y_train, shape:', y_train.shape)"
   ]
  },
  {
   "cell_type": "code",
   "execution_count": 50,
   "id": "0d401850",
   "metadata": {},
   "outputs": [
    {
     "name": "stdout",
     "output_type": "stream",
     "text": [
      "Epoch 1/300\n",
      "\u001b[1m10/10\u001b[0m \u001b[32m━━━━━━━━━━━━━━━━━━━━\u001b[0m\u001b[37m\u001b[0m \u001b[1m1s\u001b[0m 20ms/step - loss: 0.1682 - val_loss: 0.2689\n",
      "Epoch 2/300\n",
      "\u001b[1m10/10\u001b[0m \u001b[32m━━━━━━━━━━━━━━━━━━━━\u001b[0m\u001b[37m\u001b[0m \u001b[1m0s\u001b[0m 6ms/step - loss: 0.1084 - val_loss: 0.1282\n",
      "Epoch 3/300\n",
      "\u001b[1m10/10\u001b[0m \u001b[32m━━━━━━━━━━━━━━━━━━━━\u001b[0m\u001b[37m\u001b[0m \u001b[1m0s\u001b[0m 6ms/step - loss: 0.0656 - val_loss: 0.0741\n",
      "Epoch 4/300\n",
      "\u001b[1m10/10\u001b[0m \u001b[32m━━━━━━━━━━━━━━━━━━━━\u001b[0m\u001b[37m\u001b[0m \u001b[1m0s\u001b[0m 6ms/step - loss: 0.0490 - val_loss: 0.0362\n",
      "Epoch 5/300\n",
      "\u001b[1m10/10\u001b[0m \u001b[32m━━━━━━━━━━━━━━━━━━━━\u001b[0m\u001b[37m\u001b[0m \u001b[1m0s\u001b[0m 6ms/step - loss: 0.0448 - val_loss: 0.0282\n",
      "Epoch 6/300\n",
      "\u001b[1m10/10\u001b[0m \u001b[32m━━━━━━━━━━━━━━━━━━━━\u001b[0m\u001b[37m\u001b[0m \u001b[1m0s\u001b[0m 6ms/step - loss: 0.0435 - val_loss: 0.0580\n",
      "Epoch 7/300\n",
      "\u001b[1m10/10\u001b[0m \u001b[32m━━━━━━━━━━━━━━━━━━━━\u001b[0m\u001b[37m\u001b[0m \u001b[1m0s\u001b[0m 6ms/step - loss: 0.0452 - val_loss: 0.0233\n",
      "Epoch 8/300\n",
      "\u001b[1m10/10\u001b[0m \u001b[32m━━━━━━━━━━━━━━━━━━━━\u001b[0m\u001b[37m\u001b[0m \u001b[1m0s\u001b[0m 6ms/step - loss: 0.0399 - val_loss: 0.0510\n",
      "Epoch 9/300\n",
      "\u001b[1m10/10\u001b[0m \u001b[32m━━━━━━━━━━━━━━━━━━━━\u001b[0m\u001b[37m\u001b[0m \u001b[1m0s\u001b[0m 6ms/step - loss: 0.0375 - val_loss: 0.0330\n",
      "Epoch 10/300\n",
      "\u001b[1m10/10\u001b[0m \u001b[32m━━━━━━━━━━━━━━━━━━━━\u001b[0m\u001b[37m\u001b[0m \u001b[1m0s\u001b[0m 6ms/step - loss: 0.0376 - val_loss: 0.0310\n",
      "Epoch 11/300\n",
      "\u001b[1m10/10\u001b[0m \u001b[32m━━━━━━━━━━━━━━━━━━━━\u001b[0m\u001b[37m\u001b[0m \u001b[1m0s\u001b[0m 6ms/step - loss: 0.0371 - val_loss: 0.0463\n",
      "Epoch 12/300\n",
      "\u001b[1m10/10\u001b[0m \u001b[32m━━━━━━━━━━━━━━━━━━━━\u001b[0m\u001b[37m\u001b[0m \u001b[1m0s\u001b[0m 6ms/step - loss: 0.0367 - val_loss: 0.0391\n",
      "Epoch 13/300\n",
      "\u001b[1m10/10\u001b[0m \u001b[32m━━━━━━━━━━━━━━━━━━━━\u001b[0m\u001b[37m\u001b[0m \u001b[1m0s\u001b[0m 6ms/step - loss: 0.0349 - val_loss: 0.0306\n",
      "Epoch 14/300\n",
      "\u001b[1m10/10\u001b[0m \u001b[32m━━━━━━━━━━━━━━━━━━━━\u001b[0m\u001b[37m\u001b[0m \u001b[1m0s\u001b[0m 6ms/step - loss: 0.0350 - val_loss: 0.0432\n",
      "Epoch 15/300\n",
      "\u001b[1m10/10\u001b[0m \u001b[32m━━━━━━━━━━━━━━━━━━━━\u001b[0m\u001b[37m\u001b[0m \u001b[1m0s\u001b[0m 6ms/step - loss: 0.0348 - val_loss: 0.0355\n",
      "Epoch 16/300\n",
      "\u001b[1m10/10\u001b[0m \u001b[32m━━━━━━━━━━━━━━━━━━━━\u001b[0m\u001b[37m\u001b[0m \u001b[1m0s\u001b[0m 6ms/step - loss: 0.0332 - val_loss: 0.0393\n",
      "Epoch 17/300\n",
      "\u001b[1m10/10\u001b[0m \u001b[32m━━━━━━━━━━━━━━━━━━━━\u001b[0m\u001b[37m\u001b[0m \u001b[1m0s\u001b[0m 6ms/step - loss: 0.0325 - val_loss: 0.0511\n",
      "Epoch 18/300\n",
      "\u001b[1m10/10\u001b[0m \u001b[32m━━━━━━━━━━━━━━━━━━━━\u001b[0m\u001b[37m\u001b[0m \u001b[1m0s\u001b[0m 6ms/step - loss: 0.0321 - val_loss: 0.0404\n",
      "Epoch 19/300\n",
      "\u001b[1m10/10\u001b[0m \u001b[32m━━━━━━━━━━━━━━━━━━━━\u001b[0m\u001b[37m\u001b[0m \u001b[1m0s\u001b[0m 6ms/step - loss: 0.0308 - val_loss: 0.0508\n",
      "Epoch 20/300\n",
      "\u001b[1m10/10\u001b[0m \u001b[32m━━━━━━━━━━━━━━━━━━━━\u001b[0m\u001b[37m\u001b[0m \u001b[1m0s\u001b[0m 6ms/step - loss: 0.0285 - val_loss: 0.0643\n",
      "Epoch 21/300\n",
      "\u001b[1m10/10\u001b[0m \u001b[32m━━━━━━━━━━━━━━━━━━━━\u001b[0m\u001b[37m\u001b[0m \u001b[1m0s\u001b[0m 6ms/step - loss: 0.0286 - val_loss: 0.0693\n",
      "Epoch 22/300\n",
      "\u001b[1m10/10\u001b[0m \u001b[32m━━━━━━━━━━━━━━━━━━━━\u001b[0m\u001b[37m\u001b[0m \u001b[1m0s\u001b[0m 6ms/step - loss: 0.0265 - val_loss: 0.0450\n",
      "Epoch 23/300\n",
      "\u001b[1m10/10\u001b[0m \u001b[32m━━━━━━━━━━━━━━━━━━━━\u001b[0m\u001b[37m\u001b[0m \u001b[1m0s\u001b[0m 6ms/step - loss: 0.0269 - val_loss: 0.0477\n",
      "Epoch 24/300\n",
      "\u001b[1m10/10\u001b[0m \u001b[32m━━━━━━━━━━━━━━━━━━━━\u001b[0m\u001b[37m\u001b[0m \u001b[1m0s\u001b[0m 6ms/step - loss: 0.0255 - val_loss: 0.0783\n",
      "Epoch 25/300\n",
      "\u001b[1m10/10\u001b[0m \u001b[32m━━━━━━━━━━━━━━━━━━━━\u001b[0m\u001b[37m\u001b[0m \u001b[1m0s\u001b[0m 6ms/step - loss: 0.0280 - val_loss: 0.0320\n",
      "Epoch 26/300\n",
      "\u001b[1m10/10\u001b[0m \u001b[32m━━━━━━━━━━━━━━━━━━━━\u001b[0m\u001b[37m\u001b[0m \u001b[1m0s\u001b[0m 6ms/step - loss: 0.0245 - val_loss: 0.0945\n",
      "Epoch 27/300\n",
      "\u001b[1m10/10\u001b[0m \u001b[32m━━━━━━━━━━━━━━━━━━━━\u001b[0m\u001b[37m\u001b[0m \u001b[1m0s\u001b[0m 6ms/step - loss: 0.0285 - val_loss: 0.0315\n",
      "Epoch 28/300\n",
      "\u001b[1m10/10\u001b[0m \u001b[32m━━━━━━━━━━━━━━━━━━━━\u001b[0m\u001b[37m\u001b[0m \u001b[1m0s\u001b[0m 6ms/step - loss: 0.0262 - val_loss: 0.1074\n",
      "Epoch 29/300\n",
      "\u001b[1m10/10\u001b[0m \u001b[32m━━━━━━━━━━━━━━━━━━━━\u001b[0m\u001b[37m\u001b[0m \u001b[1m0s\u001b[0m 6ms/step - loss: 0.0321 - val_loss: 0.0394\n",
      "Epoch 30/300\n",
      "\u001b[1m10/10\u001b[0m \u001b[32m━━━━━━━━━━━━━━━━━━━━\u001b[0m\u001b[37m\u001b[0m \u001b[1m0s\u001b[0m 6ms/step - loss: 0.0265 - val_loss: 0.0551\n",
      "Epoch 31/300\n",
      "\u001b[1m10/10\u001b[0m \u001b[32m━━━━━━━━━━━━━━━━━━━━\u001b[0m\u001b[37m\u001b[0m \u001b[1m0s\u001b[0m 6ms/step - loss: 0.0244 - val_loss: 0.0658\n",
      "Epoch 32/300\n",
      "\u001b[1m10/10\u001b[0m \u001b[32m━━━━━━━━━━━━━━━━━━━━\u001b[0m\u001b[37m\u001b[0m \u001b[1m0s\u001b[0m 6ms/step - loss: 0.0228 - val_loss: 0.0491\n",
      "Epoch 33/300\n",
      "\u001b[1m10/10\u001b[0m \u001b[32m━━━━━━━━━━━━━━━━━━━━\u001b[0m\u001b[37m\u001b[0m \u001b[1m0s\u001b[0m 6ms/step - loss: 0.0237 - val_loss: 0.0707\n",
      "Epoch 34/300\n",
      "\u001b[1m10/10\u001b[0m \u001b[32m━━━━━━━━━━━━━━━━━━━━\u001b[0m\u001b[37m\u001b[0m \u001b[1m0s\u001b[0m 6ms/step - loss: 0.0252 - val_loss: 0.0727\n",
      "Epoch 35/300\n",
      "\u001b[1m10/10\u001b[0m \u001b[32m━━━━━━━━━━━━━━━━━━━━\u001b[0m\u001b[37m\u001b[0m \u001b[1m0s\u001b[0m 6ms/step - loss: 0.0225 - val_loss: 0.0556\n",
      "Epoch 36/300\n",
      "\u001b[1m10/10\u001b[0m \u001b[32m━━━━━━━━━━━━━━━━━━━━\u001b[0m\u001b[37m\u001b[0m \u001b[1m0s\u001b[0m 6ms/step - loss: 0.0257 - val_loss: 0.0608\n",
      "Epoch 37/300\n",
      "\u001b[1m10/10\u001b[0m \u001b[32m━━━━━━━━━━━━━━━━━━━━\u001b[0m\u001b[37m\u001b[0m \u001b[1m0s\u001b[0m 6ms/step - loss: 0.0243 - val_loss: 0.0533\n",
      "Epoch 38/300\n",
      "\u001b[1m10/10\u001b[0m \u001b[32m━━━━━━━━━━━━━━━━━━━━\u001b[0m\u001b[37m\u001b[0m \u001b[1m0s\u001b[0m 6ms/step - loss: 0.0233 - val_loss: 0.0533\n",
      "Epoch 39/300\n",
      "\u001b[1m10/10\u001b[0m \u001b[32m━━━━━━━━━━━━━━━━━━━━\u001b[0m\u001b[37m\u001b[0m \u001b[1m0s\u001b[0m 6ms/step - loss: 0.0227 - val_loss: 0.0389\n",
      "Epoch 40/300\n",
      "\u001b[1m10/10\u001b[0m \u001b[32m━━━━━━━━━━━━━━━━━━━━\u001b[0m\u001b[37m\u001b[0m \u001b[1m0s\u001b[0m 6ms/step - loss: 0.0226 - val_loss: 0.0652\n",
      "Epoch 41/300\n",
      "\u001b[1m10/10\u001b[0m \u001b[32m━━━━━━━━━━━━━━━━━━━━\u001b[0m\u001b[37m\u001b[0m \u001b[1m0s\u001b[0m 6ms/step - loss: 0.0243 - val_loss: 0.0520\n",
      "Epoch 42/300\n",
      "\u001b[1m10/10\u001b[0m \u001b[32m━━━━━━━━━━━━━━━━━━━━\u001b[0m\u001b[37m\u001b[0m \u001b[1m0s\u001b[0m 6ms/step - loss: 0.0237 - val_loss: 0.0760\n",
      "Epoch 43/300\n",
      "\u001b[1m10/10\u001b[0m \u001b[32m━━━━━━━━━━━━━━━━━━━━\u001b[0m\u001b[37m\u001b[0m \u001b[1m0s\u001b[0m 6ms/step - loss: 0.0228 - val_loss: 0.0468\n",
      "Epoch 44/300\n",
      "\u001b[1m10/10\u001b[0m \u001b[32m━━━━━━━━━━━━━━━━━━━━\u001b[0m\u001b[37m\u001b[0m \u001b[1m0s\u001b[0m 6ms/step - loss: 0.0229 - val_loss: 0.0602\n",
      "Epoch 45/300\n",
      "\u001b[1m10/10\u001b[0m \u001b[32m━━━━━━━━━━━━━━━━━━━━\u001b[0m\u001b[37m\u001b[0m \u001b[1m0s\u001b[0m 6ms/step - loss: 0.0210 - val_loss: 0.0496\n",
      "Epoch 46/300\n",
      "\u001b[1m10/10\u001b[0m \u001b[32m━━━━━━━━━━━━━━━━━━━━\u001b[0m\u001b[37m\u001b[0m \u001b[1m0s\u001b[0m 6ms/step - loss: 0.0220 - val_loss: 0.0525\n",
      "Epoch 47/300\n",
      "\u001b[1m10/10\u001b[0m \u001b[32m━━━━━━━━━━━━━━━━━━━━\u001b[0m\u001b[37m\u001b[0m \u001b[1m0s\u001b[0m 6ms/step - loss: 0.0214 - val_loss: 0.0582\n",
      "Epoch 48/300\n",
      "\u001b[1m10/10\u001b[0m \u001b[32m━━━━━━━━━━━━━━━━━━━━\u001b[0m\u001b[37m\u001b[0m \u001b[1m0s\u001b[0m 6ms/step - loss: 0.0215 - val_loss: 0.0590\n",
      "Epoch 49/300\n",
      "\u001b[1m10/10\u001b[0m \u001b[32m━━━━━━━━━━━━━━━━━━━━\u001b[0m\u001b[37m\u001b[0m \u001b[1m0s\u001b[0m 6ms/step - loss: 0.0232 - val_loss: 0.0458\n",
      "Epoch 50/300\n",
      "\u001b[1m10/10\u001b[0m \u001b[32m━━━━━━━━━━━━━━━━━━━━\u001b[0m\u001b[37m\u001b[0m \u001b[1m0s\u001b[0m 6ms/step - loss: 0.0208 - val_loss: 0.0482\n",
      "Epoch 51/300\n",
      "\u001b[1m10/10\u001b[0m \u001b[32m━━━━━━━━━━━━━━━━━━━━\u001b[0m\u001b[37m\u001b[0m \u001b[1m0s\u001b[0m 6ms/step - loss: 0.0221 - val_loss: 0.0643\n",
      "Epoch 52/300\n",
      "\u001b[1m10/10\u001b[0m \u001b[32m━━━━━━━━━━━━━━━━━━━━\u001b[0m\u001b[37m\u001b[0m \u001b[1m0s\u001b[0m 6ms/step - loss: 0.0252 - val_loss: 0.0386\n",
      "Epoch 53/300\n",
      "\u001b[1m10/10\u001b[0m \u001b[32m━━━━━━━━━━━━━━━━━━━━\u001b[0m\u001b[37m\u001b[0m \u001b[1m0s\u001b[0m 7ms/step - loss: 0.0222 - val_loss: 0.0651\n",
      "Epoch 54/300\n",
      "\u001b[1m10/10\u001b[0m \u001b[32m━━━━━━━━━━━━━━━━━━━━\u001b[0m\u001b[37m\u001b[0m \u001b[1m0s\u001b[0m 6ms/step - loss: 0.0212 - val_loss: 0.0453\n",
      "Epoch 55/300\n",
      "\u001b[1m10/10\u001b[0m \u001b[32m━━━━━━━━━━━━━━━━━━━━\u001b[0m\u001b[37m\u001b[0m \u001b[1m0s\u001b[0m 6ms/step - loss: 0.0211 - val_loss: 0.0610\n",
      "Epoch 56/300\n",
      "\u001b[1m10/10\u001b[0m \u001b[32m━━━━━━━━━━━━━━━━━━━━\u001b[0m\u001b[37m\u001b[0m \u001b[1m0s\u001b[0m 6ms/step - loss: 0.0209 - val_loss: 0.0502\n",
      "Epoch 57/300\n",
      "\u001b[1m10/10\u001b[0m \u001b[32m━━━━━━━━━━━━━━━━━━━━\u001b[0m\u001b[37m\u001b[0m \u001b[1m0s\u001b[0m 6ms/step - loss: 0.0209 - val_loss: 0.0414\n",
      "Epoch 58/300\n",
      "\u001b[1m10/10\u001b[0m \u001b[32m━━━━━━━━━━━━━━━━━━━━\u001b[0m\u001b[37m\u001b[0m \u001b[1m0s\u001b[0m 6ms/step - loss: 0.0252 - val_loss: 0.0592\n",
      "Epoch 59/300\n",
      "\u001b[1m10/10\u001b[0m \u001b[32m━━━━━━━━━━━━━━━━━━━━\u001b[0m\u001b[37m\u001b[0m \u001b[1m0s\u001b[0m 6ms/step - loss: 0.0205 - val_loss: 0.0455\n",
      "Epoch 60/300\n",
      "\u001b[1m10/10\u001b[0m \u001b[32m━━━━━━━━━━━━━━━━━━━━\u001b[0m\u001b[37m\u001b[0m \u001b[1m0s\u001b[0m 6ms/step - loss: 0.0205 - val_loss: 0.0422\n",
      "Epoch 61/300\n",
      "\u001b[1m10/10\u001b[0m \u001b[32m━━━━━━━━━━━━━━━━━━━━\u001b[0m\u001b[37m\u001b[0m \u001b[1m0s\u001b[0m 6ms/step - loss: 0.0213 - val_loss: 0.0537\n",
      "Epoch 62/300\n",
      "\u001b[1m10/10\u001b[0m \u001b[32m━━━━━━━━━━━━━━━━━━━━\u001b[0m\u001b[37m\u001b[0m \u001b[1m0s\u001b[0m 6ms/step - loss: 0.0202 - val_loss: 0.0419\n",
      "Epoch 63/300\n",
      "\u001b[1m10/10\u001b[0m \u001b[32m━━━━━━━━━━━━━━━━━━━━\u001b[0m\u001b[37m\u001b[0m \u001b[1m0s\u001b[0m 6ms/step - loss: 0.0210 - val_loss: 0.0497\n",
      "Epoch 64/300\n",
      "\u001b[1m10/10\u001b[0m \u001b[32m━━━━━━━━━━━━━━━━━━━━\u001b[0m\u001b[37m\u001b[0m \u001b[1m0s\u001b[0m 6ms/step - loss: 0.0220 - val_loss: 0.0446\n",
      "Epoch 65/300\n",
      "\u001b[1m10/10\u001b[0m \u001b[32m━━━━━━━━━━━━━━━━━━━━\u001b[0m\u001b[37m\u001b[0m \u001b[1m0s\u001b[0m 6ms/step - loss: 0.0199 - val_loss: 0.0565\n",
      "Epoch 66/300\n",
      "\u001b[1m10/10\u001b[0m \u001b[32m━━━━━━━━━━━━━━━━━━━━\u001b[0m\u001b[37m\u001b[0m \u001b[1m0s\u001b[0m 6ms/step - loss: 0.0209 - val_loss: 0.0468\n",
      "Epoch 67/300\n",
      "\u001b[1m10/10\u001b[0m \u001b[32m━━━━━━━━━━━━━━━━━━━━\u001b[0m\u001b[37m\u001b[0m \u001b[1m0s\u001b[0m 6ms/step - loss: 0.0229 - val_loss: 0.0507\n",
      "Epoch 68/300\n",
      "\u001b[1m10/10\u001b[0m \u001b[32m━━━━━━━━━━━━━━━━━━━━\u001b[0m\u001b[37m\u001b[0m \u001b[1m0s\u001b[0m 6ms/step - loss: 0.0227 - val_loss: 0.0366\n",
      "Epoch 69/300\n",
      "\u001b[1m10/10\u001b[0m \u001b[32m━━━━━━━━━━━━━━━━━━━━\u001b[0m\u001b[37m\u001b[0m \u001b[1m0s\u001b[0m 6ms/step - loss: 0.0206 - val_loss: 0.0504\n",
      "Epoch 70/300\n",
      "\u001b[1m10/10\u001b[0m \u001b[32m━━━━━━━━━━━━━━━━━━━━\u001b[0m\u001b[37m\u001b[0m \u001b[1m0s\u001b[0m 6ms/step - loss: 0.0227 - val_loss: 0.0486\n",
      "Epoch 71/300\n",
      "\u001b[1m10/10\u001b[0m \u001b[32m━━━━━━━━━━━━━━━━━━━━\u001b[0m\u001b[37m\u001b[0m \u001b[1m0s\u001b[0m 6ms/step - loss: 0.0246 - val_loss: 0.0584\n",
      "Epoch 72/300\n",
      "\u001b[1m10/10\u001b[0m \u001b[32m━━━━━━━━━━━━━━━━━━━━\u001b[0m\u001b[37m\u001b[0m \u001b[1m0s\u001b[0m 6ms/step - loss: 0.0210 - val_loss: 0.0328\n",
      "Epoch 73/300\n",
      "\u001b[1m10/10\u001b[0m \u001b[32m━━━━━━━━━━━━━━━━━━━━\u001b[0m\u001b[37m\u001b[0m \u001b[1m0s\u001b[0m 6ms/step - loss: 0.0225 - val_loss: 0.0503\n",
      "Epoch 74/300\n",
      "\u001b[1m10/10\u001b[0m \u001b[32m━━━━━━━━━━━━━━━━━━━━\u001b[0m\u001b[37m\u001b[0m \u001b[1m0s\u001b[0m 6ms/step - loss: 0.0218 - val_loss: 0.0336\n",
      "Epoch 75/300\n",
      "\u001b[1m10/10\u001b[0m \u001b[32m━━━━━━━━━━━━━━━━━━━━\u001b[0m\u001b[37m\u001b[0m \u001b[1m0s\u001b[0m 6ms/step - loss: 0.0217 - val_loss: 0.0492\n",
      "Epoch 76/300\n",
      "\u001b[1m10/10\u001b[0m \u001b[32m━━━━━━━━━━━━━━━━━━━━\u001b[0m\u001b[37m\u001b[0m \u001b[1m0s\u001b[0m 6ms/step - loss: 0.0204 - val_loss: 0.0393\n",
      "Epoch 77/300\n",
      "\u001b[1m10/10\u001b[0m \u001b[32m━━━━━━━━━━━━━━━━━━━━\u001b[0m\u001b[37m\u001b[0m \u001b[1m0s\u001b[0m 6ms/step - loss: 0.0196 - val_loss: 0.0434\n",
      "Epoch 78/300\n",
      "\u001b[1m10/10\u001b[0m \u001b[32m━━━━━━━━━━━━━━━━━━━━\u001b[0m\u001b[37m\u001b[0m \u001b[1m0s\u001b[0m 6ms/step - loss: 0.0226 - val_loss: 0.0455\n",
      "Epoch 79/300\n",
      "\u001b[1m10/10\u001b[0m \u001b[32m━━━━━━━━━━━━━━━━━━━━\u001b[0m\u001b[37m\u001b[0m \u001b[1m0s\u001b[0m 6ms/step - loss: 0.0205 - val_loss: 0.0295\n",
      "Epoch 80/300\n",
      "\u001b[1m10/10\u001b[0m \u001b[32m━━━━━━━━━━━━━━━━━━━━\u001b[0m\u001b[37m\u001b[0m \u001b[1m0s\u001b[0m 6ms/step - loss: 0.0202 - val_loss: 0.0539\n",
      "Epoch 81/300\n",
      "\u001b[1m10/10\u001b[0m \u001b[32m━━━━━━━━━━━━━━━━━━━━\u001b[0m\u001b[37m\u001b[0m \u001b[1m0s\u001b[0m 6ms/step - loss: 0.0203 - val_loss: 0.0387\n",
      "Epoch 82/300\n",
      "\u001b[1m10/10\u001b[0m \u001b[32m━━━━━━━━━━━━━━━━━━━━\u001b[0m\u001b[37m\u001b[0m \u001b[1m0s\u001b[0m 6ms/step - loss: 0.0201 - val_loss: 0.0268\n",
      "Epoch 83/300\n",
      "\u001b[1m10/10\u001b[0m \u001b[32m━━━━━━━━━━━━━━━━━━━━\u001b[0m\u001b[37m\u001b[0m \u001b[1m0s\u001b[0m 6ms/step - loss: 0.0219 - val_loss: 0.0377\n",
      "Epoch 84/300\n",
      "\u001b[1m10/10\u001b[0m \u001b[32m━━━━━━━━━━━━━━━━━━━━\u001b[0m\u001b[37m\u001b[0m \u001b[1m0s\u001b[0m 6ms/step - loss: 0.0200 - val_loss: 0.0491\n",
      "Epoch 85/300\n",
      "\u001b[1m10/10\u001b[0m \u001b[32m━━━━━━━━━━━━━━━━━━━━\u001b[0m\u001b[37m\u001b[0m \u001b[1m0s\u001b[0m 6ms/step - loss: 0.0183 - val_loss: 0.0236\n",
      "Epoch 86/300\n",
      "\u001b[1m10/10\u001b[0m \u001b[32m━━━━━━━━━━━━━━━━━━━━\u001b[0m\u001b[37m\u001b[0m \u001b[1m0s\u001b[0m 6ms/step - loss: 0.0185 - val_loss: 0.0377\n",
      "Epoch 87/300\n",
      "\u001b[1m10/10\u001b[0m \u001b[32m━━━━━━━━━━━━━━━━━━━━\u001b[0m\u001b[37m\u001b[0m \u001b[1m0s\u001b[0m 6ms/step - loss: 0.0191 - val_loss: 0.0245\n",
      "Epoch 88/300\n",
      "\u001b[1m10/10\u001b[0m \u001b[32m━━━━━━━━━━━━━━━━━━━━\u001b[0m\u001b[37m\u001b[0m \u001b[1m0s\u001b[0m 6ms/step - loss: 0.0188 - val_loss: 0.0279\n",
      "Epoch 89/300\n",
      "\u001b[1m10/10\u001b[0m \u001b[32m━━━━━━━━━━━━━━━━━━━━\u001b[0m\u001b[37m\u001b[0m \u001b[1m0s\u001b[0m 6ms/step - loss: 0.0166 - val_loss: 0.0389\n",
      "Epoch 90/300\n",
      "\u001b[1m10/10\u001b[0m \u001b[32m━━━━━━━━━━━━━━━━━━━━\u001b[0m\u001b[37m\u001b[0m \u001b[1m0s\u001b[0m 6ms/step - loss: 0.0198 - val_loss: 0.0180\n",
      "Epoch 91/300\n",
      "\u001b[1m10/10\u001b[0m \u001b[32m━━━━━━━━━━━━━━━━━━━━\u001b[0m\u001b[37m\u001b[0m \u001b[1m0s\u001b[0m 6ms/step - loss: 0.0185 - val_loss: 0.0326\n",
      "Epoch 92/300\n",
      "\u001b[1m10/10\u001b[0m \u001b[32m━━━━━━━━━━━━━━━━━━━━\u001b[0m\u001b[37m\u001b[0m \u001b[1m0s\u001b[0m 6ms/step - loss: 0.0179 - val_loss: 0.0185\n",
      "Epoch 93/300\n",
      "\u001b[1m10/10\u001b[0m \u001b[32m━━━━━━━━━━━━━━━━━━━━\u001b[0m\u001b[37m\u001b[0m \u001b[1m0s\u001b[0m 6ms/step - loss: 0.0175 - val_loss: 0.0379\n",
      "Epoch 94/300\n",
      "\u001b[1m10/10\u001b[0m \u001b[32m━━━━━━━━━━━━━━━━━━━━\u001b[0m\u001b[37m\u001b[0m \u001b[1m0s\u001b[0m 6ms/step - loss: 0.0226 - val_loss: 0.0477\n",
      "Epoch 95/300\n",
      "\u001b[1m10/10\u001b[0m \u001b[32m━━━━━━━━━━━━━━━━━━━━\u001b[0m\u001b[37m\u001b[0m \u001b[1m0s\u001b[0m 6ms/step - loss: 0.0207 - val_loss: 0.0724\n",
      "Epoch 96/300\n",
      "\u001b[1m10/10\u001b[0m \u001b[32m━━━━━━━━━━━━━━━━━━━━\u001b[0m\u001b[37m\u001b[0m \u001b[1m0s\u001b[0m 6ms/step - loss: 0.0204 - val_loss: 0.0269\n",
      "Epoch 97/300\n",
      "\u001b[1m10/10\u001b[0m \u001b[32m━━━━━━━━━━━━━━━━━━━━\u001b[0m\u001b[37m\u001b[0m \u001b[1m0s\u001b[0m 6ms/step - loss: 0.0213 - val_loss: 0.0219\n",
      "Epoch 98/300\n",
      "\u001b[1m10/10\u001b[0m \u001b[32m━━━━━━━━━━━━━━━━━━━━\u001b[0m\u001b[37m\u001b[0m \u001b[1m0s\u001b[0m 6ms/step - loss: 0.0175 - val_loss: 0.0399\n",
      "Epoch 99/300\n",
      "\u001b[1m10/10\u001b[0m \u001b[32m━━━━━━━━━━━━━━━━━━━━\u001b[0m\u001b[37m\u001b[0m \u001b[1m0s\u001b[0m 6ms/step - loss: 0.0190 - val_loss: 0.0211\n",
      "Epoch 100/300\n",
      "\u001b[1m10/10\u001b[0m \u001b[32m━━━━━━━━━━━━━━━━━━━━\u001b[0m\u001b[37m\u001b[0m \u001b[1m0s\u001b[0m 6ms/step - loss: 0.0168 - val_loss: 0.0182\n",
      "Epoch 101/300\n",
      "\u001b[1m10/10\u001b[0m \u001b[32m━━━━━━━━━━━━━━━━━━━━\u001b[0m\u001b[37m\u001b[0m \u001b[1m0s\u001b[0m 6ms/step - loss: 0.0185 - val_loss: 0.0194\n",
      "Epoch 102/300\n",
      "\u001b[1m10/10\u001b[0m \u001b[32m━━━━━━━━━━━━━━━━━━━━\u001b[0m\u001b[37m\u001b[0m \u001b[1m0s\u001b[0m 6ms/step - loss: 0.0164 - val_loss: 0.0215\n",
      "Epoch 103/300\n",
      "\u001b[1m10/10\u001b[0m \u001b[32m━━━━━━━━━━━━━━━━━━━━\u001b[0m\u001b[37m\u001b[0m \u001b[1m0s\u001b[0m 6ms/step - loss: 0.0151 - val_loss: 0.0243\n",
      "Epoch 104/300\n",
      "\u001b[1m10/10\u001b[0m \u001b[32m━━━━━━━━━━━━━━━━━━━━\u001b[0m\u001b[37m\u001b[0m \u001b[1m0s\u001b[0m 6ms/step - loss: 0.0156 - val_loss: 0.0474\n",
      "Epoch 105/300\n",
      "\u001b[1m10/10\u001b[0m \u001b[32m━━━━━━━━━━━━━━━━━━━━\u001b[0m\u001b[37m\u001b[0m \u001b[1m0s\u001b[0m 6ms/step - loss: 0.0159 - val_loss: 0.0461\n",
      "Epoch 106/300\n",
      "\u001b[1m10/10\u001b[0m \u001b[32m━━━━━━━━━━━━━━━━━━━━\u001b[0m\u001b[37m\u001b[0m \u001b[1m0s\u001b[0m 6ms/step - loss: 0.0153 - val_loss: 0.0364\n",
      "Epoch 107/300\n",
      "\u001b[1m10/10\u001b[0m \u001b[32m━━━━━━━━━━━━━━━━━━━━\u001b[0m\u001b[37m\u001b[0m \u001b[1m0s\u001b[0m 6ms/step - loss: 0.0146 - val_loss: 0.0216\n",
      "Epoch 108/300\n",
      "\u001b[1m10/10\u001b[0m \u001b[32m━━━━━━━━━━━━━━━━━━━━\u001b[0m\u001b[37m\u001b[0m \u001b[1m0s\u001b[0m 6ms/step - loss: 0.0128 - val_loss: 0.0173\n",
      "Epoch 109/300\n",
      "\u001b[1m10/10\u001b[0m \u001b[32m━━━━━━━━━━━━━━━━━━━━\u001b[0m\u001b[37m\u001b[0m \u001b[1m0s\u001b[0m 6ms/step - loss: 0.0143 - val_loss: 0.0187\n",
      "Epoch 110/300\n",
      "\u001b[1m10/10\u001b[0m \u001b[32m━━━━━━━━━━━━━━━━━━━━\u001b[0m\u001b[37m\u001b[0m \u001b[1m0s\u001b[0m 6ms/step - loss: 0.0184 - val_loss: 0.0729\n",
      "Epoch 111/300\n",
      "\u001b[1m10/10\u001b[0m \u001b[32m━━━━━━━━━━━━━━━━━━━━\u001b[0m\u001b[37m\u001b[0m \u001b[1m0s\u001b[0m 6ms/step - loss: 0.0166 - val_loss: 0.0549\n",
      "Epoch 112/300\n",
      "\u001b[1m10/10\u001b[0m \u001b[32m━━━━━━━━━━━━━━━━━━━━\u001b[0m\u001b[37m\u001b[0m \u001b[1m0s\u001b[0m 6ms/step - loss: 0.0205 - val_loss: 0.0458\n",
      "Epoch 113/300\n",
      "\u001b[1m10/10\u001b[0m \u001b[32m━━━━━━━━━━━━━━━━━━━━\u001b[0m\u001b[37m\u001b[0m \u001b[1m0s\u001b[0m 6ms/step - loss: 0.0134 - val_loss: 0.0288\n",
      "Epoch 114/300\n",
      "\u001b[1m10/10\u001b[0m \u001b[32m━━━━━━━━━━━━━━━━━━━━\u001b[0m\u001b[37m\u001b[0m \u001b[1m0s\u001b[0m 6ms/step - loss: 0.0157 - val_loss: 0.0318\n",
      "Epoch 115/300\n",
      "\u001b[1m10/10\u001b[0m \u001b[32m━━━━━━━━━━━━━━━━━━━━\u001b[0m\u001b[37m\u001b[0m \u001b[1m0s\u001b[0m 6ms/step - loss: 0.0160 - val_loss: 0.0170\n",
      "Epoch 116/300\n",
      "\u001b[1m10/10\u001b[0m \u001b[32m━━━━━━━━━━━━━━━━━━━━\u001b[0m\u001b[37m\u001b[0m \u001b[1m0s\u001b[0m 6ms/step - loss: 0.0133 - val_loss: 0.0173\n",
      "Epoch 117/300\n",
      "\u001b[1m10/10\u001b[0m \u001b[32m━━━━━━━━━━━━━━━━━━━━\u001b[0m\u001b[37m\u001b[0m \u001b[1m0s\u001b[0m 6ms/step - loss: 0.0128 - val_loss: 0.0389\n",
      "Epoch 118/300\n",
      "\u001b[1m10/10\u001b[0m \u001b[32m━━━━━━━━━━━━━━━━━━━━\u001b[0m\u001b[37m\u001b[0m \u001b[1m0s\u001b[0m 6ms/step - loss: 0.0130 - val_loss: 0.0170\n",
      "Epoch 119/300\n",
      "\u001b[1m10/10\u001b[0m \u001b[32m━━━━━━━━━━━━━━━━━━━━\u001b[0m\u001b[37m\u001b[0m \u001b[1m0s\u001b[0m 6ms/step - loss: 0.0121 - val_loss: 0.0418\n",
      "Epoch 120/300\n",
      "\u001b[1m10/10\u001b[0m \u001b[32m━━━━━━━━━━━━━━━━━━━━\u001b[0m\u001b[37m\u001b[0m \u001b[1m0s\u001b[0m 6ms/step - loss: 0.0132 - val_loss: 0.0174\n",
      "Epoch 121/300\n",
      "\u001b[1m10/10\u001b[0m \u001b[32m━━━━━━━━━━━━━━━━━━━━\u001b[0m\u001b[37m\u001b[0m \u001b[1m0s\u001b[0m 6ms/step - loss: 0.0124 - val_loss: 0.0331\n",
      "Epoch 122/300\n",
      "\u001b[1m10/10\u001b[0m \u001b[32m━━━━━━━━━━━━━━━━━━━━\u001b[0m\u001b[37m\u001b[0m \u001b[1m0s\u001b[0m 6ms/step - loss: 0.0118 - val_loss: 0.0234\n",
      "Epoch 123/300\n",
      "\u001b[1m10/10\u001b[0m \u001b[32m━━━━━━━━━━━━━━━━━━━━\u001b[0m\u001b[37m\u001b[0m \u001b[1m0s\u001b[0m 6ms/step - loss: 0.0112 - val_loss: 0.0636\n",
      "Epoch 124/300\n",
      "\u001b[1m10/10\u001b[0m \u001b[32m━━━━━━━━━━━━━━━━━━━━\u001b[0m\u001b[37m\u001b[0m \u001b[1m0s\u001b[0m 6ms/step - loss: 0.0141 - val_loss: 0.0477\n",
      "Epoch 125/300\n",
      "\u001b[1m10/10\u001b[0m \u001b[32m━━━━━━━━━━━━━━━━━━━━\u001b[0m\u001b[37m\u001b[0m \u001b[1m0s\u001b[0m 6ms/step - loss: 0.0159 - val_loss: 0.0318\n",
      "Epoch 126/300\n",
      "\u001b[1m10/10\u001b[0m \u001b[32m━━━━━━━━━━━━━━━━━━━━\u001b[0m\u001b[37m\u001b[0m \u001b[1m0s\u001b[0m 6ms/step - loss: 0.0133 - val_loss: 0.0178\n",
      "Epoch 127/300\n",
      "\u001b[1m10/10\u001b[0m \u001b[32m━━━━━━━━━━━━━━━━━━━━\u001b[0m\u001b[37m\u001b[0m \u001b[1m0s\u001b[0m 6ms/step - loss: 0.0130 - val_loss: 0.0357\n",
      "Epoch 128/300\n",
      "\u001b[1m10/10\u001b[0m \u001b[32m━━━━━━━━━━━━━━━━━━━━\u001b[0m\u001b[37m\u001b[0m \u001b[1m0s\u001b[0m 6ms/step - loss: 0.0147 - val_loss: 0.0194\n",
      "Epoch 129/300\n",
      "\u001b[1m10/10\u001b[0m \u001b[32m━━━━━━━━━━━━━━━━━━━━\u001b[0m\u001b[37m\u001b[0m \u001b[1m0s\u001b[0m 6ms/step - loss: 0.0123 - val_loss: 0.0336\n",
      "Epoch 130/300\n",
      "\u001b[1m10/10\u001b[0m \u001b[32m━━━━━━━━━━━━━━━━━━━━\u001b[0m\u001b[37m\u001b[0m \u001b[1m0s\u001b[0m 6ms/step - loss: 0.0127 - val_loss: 0.0186\n",
      "Epoch 131/300\n",
      "\u001b[1m10/10\u001b[0m \u001b[32m━━━━━━━━━━━━━━━━━━━━\u001b[0m\u001b[37m\u001b[0m \u001b[1m0s\u001b[0m 6ms/step - loss: 0.0124 - val_loss: 0.0216\n",
      "Epoch 132/300\n",
      "\u001b[1m10/10\u001b[0m \u001b[32m━━━━━━━━━━━━━━━━━━━━\u001b[0m\u001b[37m\u001b[0m \u001b[1m0s\u001b[0m 6ms/step - loss: 0.0116 - val_loss: 0.0162\n",
      "Epoch 133/300\n",
      "\u001b[1m10/10\u001b[0m \u001b[32m━━━━━━━━━━━━━━━━━━━━\u001b[0m\u001b[37m\u001b[0m \u001b[1m0s\u001b[0m 6ms/step - loss: 0.0127 - val_loss: 0.0217\n",
      "Epoch 134/300\n",
      "\u001b[1m10/10\u001b[0m \u001b[32m━━━━━━━━━━━━━━━━━━━━\u001b[0m\u001b[37m\u001b[0m \u001b[1m0s\u001b[0m 6ms/step - loss: 0.0104 - val_loss: 0.0187\n",
      "Epoch 135/300\n",
      "\u001b[1m10/10\u001b[0m \u001b[32m━━━━━━━━━━━━━━━━━━━━\u001b[0m\u001b[37m\u001b[0m \u001b[1m0s\u001b[0m 6ms/step - loss: 0.0110 - val_loss: 0.0250\n",
      "Epoch 136/300\n",
      "\u001b[1m10/10\u001b[0m \u001b[32m━━━━━━━━━━━━━━━━━━━━\u001b[0m\u001b[37m\u001b[0m \u001b[1m0s\u001b[0m 6ms/step - loss: 0.0104 - val_loss: 0.0170\n",
      "Epoch 137/300\n",
      "\u001b[1m10/10\u001b[0m \u001b[32m━━━━━━━━━━━━━━━━━━━━\u001b[0m\u001b[37m\u001b[0m \u001b[1m0s\u001b[0m 6ms/step - loss: 0.0097 - val_loss: 0.0172\n",
      "Epoch 138/300\n",
      "\u001b[1m10/10\u001b[0m \u001b[32m━━━━━━━━━━━━━━━━━━━━\u001b[0m\u001b[37m\u001b[0m \u001b[1m0s\u001b[0m 6ms/step - loss: 0.0100 - val_loss: 0.0204\n",
      "Epoch 139/300\n",
      "\u001b[1m10/10\u001b[0m \u001b[32m━━━━━━━━━━━━━━━━━━━━\u001b[0m\u001b[37m\u001b[0m \u001b[1m0s\u001b[0m 6ms/step - loss: 0.0092 - val_loss: 0.0200\n",
      "Epoch 140/300\n",
      "\u001b[1m10/10\u001b[0m \u001b[32m━━━━━━━━━━━━━━━━━━━━\u001b[0m\u001b[37m\u001b[0m \u001b[1m0s\u001b[0m 6ms/step - loss: 0.0128 - val_loss: 0.0368\n",
      "Epoch 141/300\n",
      "\u001b[1m10/10\u001b[0m \u001b[32m━━━━━━━━━━━━━━━━━━━━\u001b[0m\u001b[37m\u001b[0m \u001b[1m0s\u001b[0m 6ms/step - loss: 0.0126 - val_loss: 0.0263\n",
      "Epoch 142/300\n",
      "\u001b[1m10/10\u001b[0m \u001b[32m━━━━━━━━━━━━━━━━━━━━\u001b[0m\u001b[37m\u001b[0m \u001b[1m0s\u001b[0m 7ms/step - loss: 0.0121 - val_loss: 0.0268\n",
      "Epoch 143/300\n",
      "\u001b[1m10/10\u001b[0m \u001b[32m━━━━━━━━━━━━━━━━━━━━\u001b[0m\u001b[37m\u001b[0m \u001b[1m0s\u001b[0m 6ms/step - loss: 0.0103 - val_loss: 0.0178\n",
      "Epoch 144/300\n",
      "\u001b[1m10/10\u001b[0m \u001b[32m━━━━━━━━━━━━━━━━━━━━\u001b[0m\u001b[37m\u001b[0m \u001b[1m0s\u001b[0m 6ms/step - loss: 0.0090 - val_loss: 0.0368\n",
      "Epoch 145/300\n",
      "\u001b[1m10/10\u001b[0m \u001b[32m━━━━━━━━━━━━━━━━━━━━\u001b[0m\u001b[37m\u001b[0m \u001b[1m0s\u001b[0m 6ms/step - loss: 0.0089 - val_loss: 0.0211\n",
      "Epoch 146/300\n",
      "\u001b[1m10/10\u001b[0m \u001b[32m━━━━━━━━━━━━━━━━━━━━\u001b[0m\u001b[37m\u001b[0m \u001b[1m0s\u001b[0m 6ms/step - loss: 0.0099 - val_loss: 0.0257\n",
      "Epoch 147/300\n",
      "\u001b[1m10/10\u001b[0m \u001b[32m━━━━━━━━━━━━━━━━━━━━\u001b[0m\u001b[37m\u001b[0m \u001b[1m0s\u001b[0m 6ms/step - loss: 0.0089 - val_loss: 0.0205\n",
      "Epoch 148/300\n",
      "\u001b[1m10/10\u001b[0m \u001b[32m━━━━━━━━━━━━━━━━━━━━\u001b[0m\u001b[37m\u001b[0m \u001b[1m0s\u001b[0m 7ms/step - loss: 0.0081 - val_loss: 0.0229\n",
      "Epoch 149/300\n",
      "\u001b[1m10/10\u001b[0m \u001b[32m━━━━━━━━━━━━━━━━━━━━\u001b[0m\u001b[37m\u001b[0m \u001b[1m0s\u001b[0m 6ms/step - loss: 0.0093 - val_loss: 0.0178\n",
      "Epoch 150/300\n",
      "\u001b[1m10/10\u001b[0m \u001b[32m━━━━━━━━━━━━━━━━━━━━\u001b[0m\u001b[37m\u001b[0m \u001b[1m0s\u001b[0m 6ms/step - loss: 0.0103 - val_loss: 0.0223\n",
      "Epoch 151/300\n",
      "\u001b[1m10/10\u001b[0m \u001b[32m━━━━━━━━━━━━━━━━━━━━\u001b[0m\u001b[37m\u001b[0m \u001b[1m0s\u001b[0m 6ms/step - loss: 0.0100 - val_loss: 0.0307\n",
      "Epoch 152/300\n",
      "\u001b[1m10/10\u001b[0m \u001b[32m━━━━━━━━━━━━━━━━━━━━\u001b[0m\u001b[37m\u001b[0m \u001b[1m0s\u001b[0m 7ms/step - loss: 0.0094 - val_loss: 0.0205\n",
      "Epoch 153/300\n",
      "\u001b[1m10/10\u001b[0m \u001b[32m━━━━━━━━━━━━━━━━━━━━\u001b[0m\u001b[37m\u001b[0m \u001b[1m0s\u001b[0m 6ms/step - loss: 0.0084 - val_loss: 0.0321\n",
      "Epoch 154/300\n",
      "\u001b[1m10/10\u001b[0m \u001b[32m━━━━━━━━━━━━━━━━━━━━\u001b[0m\u001b[37m\u001b[0m \u001b[1m0s\u001b[0m 6ms/step - loss: 0.0107 - val_loss: 0.0152\n",
      "Epoch 155/300\n",
      "\u001b[1m10/10\u001b[0m \u001b[32m━━━━━━━━━━━━━━━━━━━━\u001b[0m\u001b[37m\u001b[0m \u001b[1m0s\u001b[0m 6ms/step - loss: 0.0079 - val_loss: 0.0184\n",
      "Epoch 156/300\n",
      "\u001b[1m10/10\u001b[0m \u001b[32m━━━━━━━━━━━━━━━━━━━━\u001b[0m\u001b[37m\u001b[0m \u001b[1m0s\u001b[0m 6ms/step - loss: 0.0088 - val_loss: 0.0194\n",
      "Epoch 157/300\n",
      "\u001b[1m10/10\u001b[0m \u001b[32m━━━━━━━━━━━━━━━━━━━━\u001b[0m\u001b[37m\u001b[0m \u001b[1m0s\u001b[0m 6ms/step - loss: 0.0082 - val_loss: 0.0215\n",
      "Epoch 158/300\n",
      "\u001b[1m10/10\u001b[0m \u001b[32m━━━━━━━━━━━━━━━━━━━━\u001b[0m\u001b[37m\u001b[0m \u001b[1m0s\u001b[0m 6ms/step - loss: 0.0082 - val_loss: 0.0179\n",
      "Epoch 159/300\n",
      "\u001b[1m10/10\u001b[0m \u001b[32m━━━━━━━━━━━━━━━━━━━━\u001b[0m\u001b[37m\u001b[0m \u001b[1m0s\u001b[0m 6ms/step - loss: 0.0085 - val_loss: 0.0268\n",
      "Epoch 160/300\n",
      "\u001b[1m10/10\u001b[0m \u001b[32m━━━━━━━━━━━━━━━━━━━━\u001b[0m\u001b[37m\u001b[0m \u001b[1m0s\u001b[0m 6ms/step - loss: 0.0081 - val_loss: 0.0199\n",
      "Epoch 161/300\n",
      "\u001b[1m10/10\u001b[0m \u001b[32m━━━━━━━━━━━━━━━━━━━━\u001b[0m\u001b[37m\u001b[0m \u001b[1m0s\u001b[0m 6ms/step - loss: 0.0083 - val_loss: 0.0257\n",
      "Epoch 162/300\n",
      "\u001b[1m10/10\u001b[0m \u001b[32m━━━━━━━━━━━━━━━━━━━━\u001b[0m\u001b[37m\u001b[0m \u001b[1m0s\u001b[0m 6ms/step - loss: 0.0083 - val_loss: 0.0197\n",
      "Epoch 163/300\n",
      "\u001b[1m10/10\u001b[0m \u001b[32m━━━━━━━━━━━━━━━━━━━━\u001b[0m\u001b[37m\u001b[0m \u001b[1m0s\u001b[0m 6ms/step - loss: 0.0078 - val_loss: 0.0228\n",
      "Epoch 164/300\n",
      "\u001b[1m10/10\u001b[0m \u001b[32m━━━━━━━━━━━━━━━━━━━━\u001b[0m\u001b[37m\u001b[0m \u001b[1m0s\u001b[0m 6ms/step - loss: 0.0085 - val_loss: 0.0185\n",
      "Epoch 165/300\n",
      "\u001b[1m10/10\u001b[0m \u001b[32m━━━━━━━━━━━━━━━━━━━━\u001b[0m\u001b[37m\u001b[0m \u001b[1m0s\u001b[0m 6ms/step - loss: 0.0075 - val_loss: 0.0193\n",
      "Epoch 166/300\n",
      "\u001b[1m10/10\u001b[0m \u001b[32m━━━━━━━━━━━━━━━━━━━━\u001b[0m\u001b[37m\u001b[0m \u001b[1m0s\u001b[0m 6ms/step - loss: 0.0083 - val_loss: 0.0171\n",
      "Epoch 167/300\n",
      "\u001b[1m10/10\u001b[0m \u001b[32m━━━━━━━━━━━━━━━━━━━━\u001b[0m\u001b[37m\u001b[0m \u001b[1m0s\u001b[0m 6ms/step - loss: 0.0076 - val_loss: 0.0172\n",
      "Epoch 168/300\n",
      "\u001b[1m10/10\u001b[0m \u001b[32m━━━━━━━━━━━━━━━━━━━━\u001b[0m\u001b[37m\u001b[0m \u001b[1m0s\u001b[0m 6ms/step - loss: 0.0075 - val_loss: 0.0244\n",
      "Epoch 169/300\n",
      "\u001b[1m10/10\u001b[0m \u001b[32m━━━━━━━━━━━━━━━━━━━━\u001b[0m\u001b[37m\u001b[0m \u001b[1m0s\u001b[0m 6ms/step - loss: 0.0073 - val_loss: 0.0187\n",
      "Epoch 170/300\n",
      "\u001b[1m10/10\u001b[0m \u001b[32m━━━━━━━━━━━━━━━━━━━━\u001b[0m\u001b[37m\u001b[0m \u001b[1m0s\u001b[0m 6ms/step - loss: 0.0073 - val_loss: 0.0332\n",
      "Epoch 171/300\n",
      "\u001b[1m10/10\u001b[0m \u001b[32m━━━━━━━━━━━━━━━━━━━━\u001b[0m\u001b[37m\u001b[0m \u001b[1m0s\u001b[0m 6ms/step - loss: 0.0087 - val_loss: 0.0165\n",
      "Epoch 172/300\n",
      "\u001b[1m10/10\u001b[0m \u001b[32m━━━━━━━━━━━━━━━━━━━━\u001b[0m\u001b[37m\u001b[0m \u001b[1m0s\u001b[0m 6ms/step - loss: 0.0077 - val_loss: 0.0231\n",
      "Epoch 173/300\n",
      "\u001b[1m10/10\u001b[0m \u001b[32m━━━━━━━━━━━━━━━━━━━━\u001b[0m\u001b[37m\u001b[0m \u001b[1m0s\u001b[0m 6ms/step - loss: 0.0078 - val_loss: 0.0201\n",
      "Epoch 174/300\n",
      "\u001b[1m10/10\u001b[0m \u001b[32m━━━━━━━━━━━━━━━━━━━━\u001b[0m\u001b[37m\u001b[0m \u001b[1m0s\u001b[0m 6ms/step - loss: 0.0070 - val_loss: 0.0213\n",
      "Epoch 175/300\n",
      "\u001b[1m10/10\u001b[0m \u001b[32m━━━━━━━━━━━━━━━━━━━━\u001b[0m\u001b[37m\u001b[0m \u001b[1m0s\u001b[0m 6ms/step - loss: 0.0071 - val_loss: 0.0170\n",
      "Epoch 176/300\n",
      "\u001b[1m10/10\u001b[0m \u001b[32m━━━━━━━━━━━━━━━━━━━━\u001b[0m\u001b[37m\u001b[0m \u001b[1m0s\u001b[0m 6ms/step - loss: 0.0073 - val_loss: 0.0245\n",
      "Epoch 177/300\n",
      "\u001b[1m10/10\u001b[0m \u001b[32m━━━━━━━━━━━━━━━━━━━━\u001b[0m\u001b[37m\u001b[0m \u001b[1m0s\u001b[0m 6ms/step - loss: 0.0071 - val_loss: 0.0177\n",
      "Epoch 178/300\n",
      "\u001b[1m10/10\u001b[0m \u001b[32m━━━━━━━━━━━━━━━━━━━━\u001b[0m\u001b[37m\u001b[0m \u001b[1m0s\u001b[0m 6ms/step - loss: 0.0071 - val_loss: 0.0249\n",
      "Epoch 179/300\n",
      "\u001b[1m10/10\u001b[0m \u001b[32m━━━━━━━━━━━━━━━━━━━━\u001b[0m\u001b[37m\u001b[0m \u001b[1m0s\u001b[0m 6ms/step - loss: 0.0068 - val_loss: 0.0214\n",
      "Epoch 180/300\n",
      "\u001b[1m10/10\u001b[0m \u001b[32m━━━━━━━━━━━━━━━━━━━━\u001b[0m\u001b[37m\u001b[0m \u001b[1m0s\u001b[0m 6ms/step - loss: 0.0076 - val_loss: 0.0353\n",
      "Epoch 181/300\n",
      "\u001b[1m10/10\u001b[0m \u001b[32m━━━━━━━━━━━━━━━━━━━━\u001b[0m\u001b[37m\u001b[0m \u001b[1m0s\u001b[0m 6ms/step - loss: 0.0073 - val_loss: 0.0193\n",
      "Epoch 182/300\n",
      "\u001b[1m10/10\u001b[0m \u001b[32m━━━━━━━━━━━━━━━━━━━━\u001b[0m\u001b[37m\u001b[0m \u001b[1m0s\u001b[0m 6ms/step - loss: 0.0078 - val_loss: 0.0179\n",
      "Epoch 183/300\n",
      "\u001b[1m10/10\u001b[0m \u001b[32m━━━━━━━━━━━━━━━━━━━━\u001b[0m\u001b[37m\u001b[0m \u001b[1m0s\u001b[0m 6ms/step - loss: 0.0073 - val_loss: 0.0260\n",
      "Epoch 184/300\n",
      "\u001b[1m10/10\u001b[0m \u001b[32m━━━━━━━━━━━━━━━━━━━━\u001b[0m\u001b[37m\u001b[0m \u001b[1m0s\u001b[0m 6ms/step - loss: 0.0068 - val_loss: 0.0370\n",
      "Epoch 185/300\n",
      "\u001b[1m10/10\u001b[0m \u001b[32m━━━━━━━━━━━━━━━━━━━━\u001b[0m\u001b[37m\u001b[0m \u001b[1m0s\u001b[0m 6ms/step - loss: 0.0067 - val_loss: 0.0207\n",
      "Epoch 186/300\n",
      "\u001b[1m10/10\u001b[0m \u001b[32m━━━━━━━━━━━━━━━━━━━━\u001b[0m\u001b[37m\u001b[0m \u001b[1m0s\u001b[0m 6ms/step - loss: 0.0066 - val_loss: 0.0214\n",
      "Epoch 187/300\n",
      "\u001b[1m10/10\u001b[0m \u001b[32m━━━━━━━━━━━━━━━━━━━━\u001b[0m\u001b[37m\u001b[0m \u001b[1m0s\u001b[0m 6ms/step - loss: 0.0068 - val_loss: 0.0263\n",
      "Epoch 188/300\n",
      "\u001b[1m10/10\u001b[0m \u001b[32m━━━━━━━━━━━━━━━━━━━━\u001b[0m\u001b[37m\u001b[0m \u001b[1m0s\u001b[0m 6ms/step - loss: 0.0069 - val_loss: 0.0343\n",
      "Epoch 189/300\n",
      "\u001b[1m10/10\u001b[0m \u001b[32m━━━━━━━━━━━━━━━━━━━━\u001b[0m\u001b[37m\u001b[0m \u001b[1m0s\u001b[0m 6ms/step - loss: 0.0069 - val_loss: 0.0265\n",
      "Epoch 190/300\n",
      "\u001b[1m10/10\u001b[0m \u001b[32m━━━━━━━━━━━━━━━━━━━━\u001b[0m\u001b[37m\u001b[0m \u001b[1m0s\u001b[0m 6ms/step - loss: 0.0064 - val_loss: 0.0239\n",
      "Epoch 191/300\n",
      "\u001b[1m10/10\u001b[0m \u001b[32m━━━━━━━━━━━━━━━━━━━━\u001b[0m\u001b[37m\u001b[0m \u001b[1m0s\u001b[0m 6ms/step - loss: 0.0068 - val_loss: 0.0178\n",
      "Epoch 192/300\n",
      "\u001b[1m10/10\u001b[0m \u001b[32m━━━━━━━━━━━━━━━━━━━━\u001b[0m\u001b[37m\u001b[0m \u001b[1m0s\u001b[0m 6ms/step - loss: 0.0066 - val_loss: 0.0289\n",
      "Epoch 193/300\n",
      "\u001b[1m10/10\u001b[0m \u001b[32m━━━━━━━━━━━━━━━━━━━━\u001b[0m\u001b[37m\u001b[0m \u001b[1m0s\u001b[0m 6ms/step - loss: 0.0068 - val_loss: 0.0222\n",
      "Epoch 194/300\n",
      "\u001b[1m10/10\u001b[0m \u001b[32m━━━━━━━━━━━━━━━━━━━━\u001b[0m\u001b[37m\u001b[0m \u001b[1m0s\u001b[0m 7ms/step - loss: 0.0067 - val_loss: 0.0245\n",
      "Epoch 195/300\n",
      "\u001b[1m10/10\u001b[0m \u001b[32m━━━━━━━━━━━━━━━━━━━━\u001b[0m\u001b[37m\u001b[0m \u001b[1m0s\u001b[0m 6ms/step - loss: 0.0067 - val_loss: 0.0186\n",
      "Epoch 196/300\n",
      "\u001b[1m10/10\u001b[0m \u001b[32m━━━━━━━━━━━━━━━━━━━━\u001b[0m\u001b[37m\u001b[0m \u001b[1m0s\u001b[0m 6ms/step - loss: 0.0067 - val_loss: 0.0256\n",
      "Epoch 197/300\n",
      "\u001b[1m10/10\u001b[0m \u001b[32m━━━━━━━━━━━━━━━━━━━━\u001b[0m\u001b[37m\u001b[0m \u001b[1m0s\u001b[0m 6ms/step - loss: 0.0063 - val_loss: 0.0223\n",
      "Epoch 198/300\n",
      "\u001b[1m10/10\u001b[0m \u001b[32m━━━━━━━━━━━━━━━━━━━━\u001b[0m\u001b[37m\u001b[0m \u001b[1m0s\u001b[0m 6ms/step - loss: 0.0066 - val_loss: 0.0190\n",
      "Epoch 199/300\n",
      "\u001b[1m10/10\u001b[0m \u001b[32m━━━━━━━━━━━━━━━━━━━━\u001b[0m\u001b[37m\u001b[0m \u001b[1m0s\u001b[0m 6ms/step - loss: 0.0066 - val_loss: 0.0189\n",
      "Epoch 200/300\n",
      "\u001b[1m10/10\u001b[0m \u001b[32m━━━━━━━━━━━━━━━━━━━━\u001b[0m\u001b[37m\u001b[0m \u001b[1m0s\u001b[0m 6ms/step - loss: 0.0064 - val_loss: 0.0188\n",
      "Epoch 201/300\n",
      "\u001b[1m10/10\u001b[0m \u001b[32m━━━━━━━━━━━━━━━━━━━━\u001b[0m\u001b[37m\u001b[0m \u001b[1m0s\u001b[0m 6ms/step - loss: 0.0060 - val_loss: 0.0198\n",
      "Epoch 202/300\n",
      "\u001b[1m10/10\u001b[0m \u001b[32m━━━━━━━━━━━━━━━━━━━━\u001b[0m\u001b[37m\u001b[0m \u001b[1m0s\u001b[0m 6ms/step - loss: 0.0064 - val_loss: 0.0194\n",
      "Epoch 203/300\n",
      "\u001b[1m10/10\u001b[0m \u001b[32m━━━━━━━━━━━━━━━━━━━━\u001b[0m\u001b[37m\u001b[0m \u001b[1m0s\u001b[0m 6ms/step - loss: 0.0065 - val_loss: 0.0310\n",
      "Epoch 204/300\n",
      "\u001b[1m10/10\u001b[0m \u001b[32m━━━━━━━━━━━━━━━━━━━━\u001b[0m\u001b[37m\u001b[0m \u001b[1m0s\u001b[0m 6ms/step - loss: 0.0063 - val_loss: 0.0193\n",
      "Epoch 205/300\n",
      "\u001b[1m10/10\u001b[0m \u001b[32m━━━━━━━━━━━━━━━━━━━━\u001b[0m\u001b[37m\u001b[0m \u001b[1m0s\u001b[0m 6ms/step - loss: 0.0065 - val_loss: 0.0229\n",
      "Epoch 206/300\n",
      "\u001b[1m10/10\u001b[0m \u001b[32m━━━━━━━━━━━━━━━━━━━━\u001b[0m\u001b[37m\u001b[0m \u001b[1m0s\u001b[0m 6ms/step - loss: 0.0060 - val_loss: 0.0223\n",
      "Epoch 207/300\n",
      "\u001b[1m10/10\u001b[0m \u001b[32m━━━━━━━━━━━━━━━━━━━━\u001b[0m\u001b[37m\u001b[0m \u001b[1m0s\u001b[0m 6ms/step - loss: 0.0060 - val_loss: 0.0206\n",
      "Epoch 208/300\n",
      "\u001b[1m10/10\u001b[0m \u001b[32m━━━━━━━━━━━━━━━━━━━━\u001b[0m\u001b[37m\u001b[0m \u001b[1m0s\u001b[0m 6ms/step - loss: 0.0062 - val_loss: 0.0291\n",
      "Epoch 209/300\n",
      "\u001b[1m10/10\u001b[0m \u001b[32m━━━━━━━━━━━━━━━━━━━━\u001b[0m\u001b[37m\u001b[0m \u001b[1m0s\u001b[0m 6ms/step - loss: 0.0063 - val_loss: 0.0199\n",
      "Epoch 210/300\n",
      "\u001b[1m10/10\u001b[0m \u001b[32m━━━━━━━━━━━━━━━━━━━━\u001b[0m\u001b[37m\u001b[0m \u001b[1m0s\u001b[0m 6ms/step - loss: 0.0058 - val_loss: 0.0364\n",
      "Epoch 211/300\n",
      "\u001b[1m10/10\u001b[0m \u001b[32m━━━━━━━━━━━━━━━━━━━━\u001b[0m\u001b[37m\u001b[0m \u001b[1m0s\u001b[0m 6ms/step - loss: 0.0060 - val_loss: 0.0215\n",
      "Epoch 212/300\n",
      "\u001b[1m10/10\u001b[0m \u001b[32m━━━━━━━━━━━━━━━━━━━━\u001b[0m\u001b[37m\u001b[0m \u001b[1m0s\u001b[0m 6ms/step - loss: 0.0064 - val_loss: 0.0285\n",
      "Epoch 213/300\n",
      "\u001b[1m10/10\u001b[0m \u001b[32m━━━━━━━━━━━━━━━━━━━━\u001b[0m\u001b[37m\u001b[0m \u001b[1m0s\u001b[0m 6ms/step - loss: 0.0066 - val_loss: 0.0188\n",
      "Epoch 214/300\n",
      "\u001b[1m10/10\u001b[0m \u001b[32m━━━━━━━━━━━━━━━━━━━━\u001b[0m\u001b[37m\u001b[0m \u001b[1m0s\u001b[0m 6ms/step - loss: 0.0063 - val_loss: 0.0190\n",
      "Epoch 215/300\n",
      "\u001b[1m10/10\u001b[0m \u001b[32m━━━━━━━━━━━━━━━━━━━━\u001b[0m\u001b[37m\u001b[0m \u001b[1m0s\u001b[0m 6ms/step - loss: 0.0073 - val_loss: 0.0535\n",
      "Epoch 216/300\n",
      "\u001b[1m10/10\u001b[0m \u001b[32m━━━━━━━━━━━━━━━━━━━━\u001b[0m\u001b[37m\u001b[0m \u001b[1m0s\u001b[0m 6ms/step - loss: 0.0075 - val_loss: 0.0192\n",
      "Epoch 217/300\n",
      "\u001b[1m10/10\u001b[0m \u001b[32m━━━━━━━━━━━━━━━━━━━━\u001b[0m\u001b[37m\u001b[0m \u001b[1m0s\u001b[0m 6ms/step - loss: 0.0061 - val_loss: 0.0345\n",
      "Epoch 218/300\n",
      "\u001b[1m10/10\u001b[0m \u001b[32m━━━━━━━━━━━━━━━━━━━━\u001b[0m\u001b[37m\u001b[0m \u001b[1m0s\u001b[0m 6ms/step - loss: 0.0063 - val_loss: 0.0188\n",
      "Epoch 219/300\n",
      "\u001b[1m10/10\u001b[0m \u001b[32m━━━━━━━━━━━━━━━━━━━━\u001b[0m\u001b[37m\u001b[0m \u001b[1m0s\u001b[0m 6ms/step - loss: 0.0063 - val_loss: 0.0253\n",
      "Epoch 220/300\n",
      "\u001b[1m10/10\u001b[0m \u001b[32m━━━━━━━━━━━━━━━━━━━━\u001b[0m\u001b[37m\u001b[0m \u001b[1m0s\u001b[0m 6ms/step - loss: 0.0060 - val_loss: 0.0187\n",
      "Epoch 221/300\n",
      "\u001b[1m10/10\u001b[0m \u001b[32m━━━━━━━━━━━━━━━━━━━━\u001b[0m\u001b[37m\u001b[0m \u001b[1m0s\u001b[0m 6ms/step - loss: 0.0059 - val_loss: 0.0321\n",
      "Epoch 222/300\n",
      "\u001b[1m10/10\u001b[0m \u001b[32m━━━━━━━━━━━━━━━━━━━━\u001b[0m\u001b[37m\u001b[0m \u001b[1m0s\u001b[0m 6ms/step - loss: 0.0060 - val_loss: 0.0209\n",
      "Epoch 223/300\n",
      "\u001b[1m10/10\u001b[0m \u001b[32m━━━━━━━━━━━━━━━━━━━━\u001b[0m\u001b[37m\u001b[0m \u001b[1m0s\u001b[0m 6ms/step - loss: 0.0059 - val_loss: 0.0263\n",
      "Epoch 224/300\n",
      "\u001b[1m10/10\u001b[0m \u001b[32m━━━━━━━━━━━━━━━━━━━━\u001b[0m\u001b[37m\u001b[0m \u001b[1m0s\u001b[0m 6ms/step - loss: 0.0062 - val_loss: 0.0209\n",
      "Epoch 225/300\n",
      "\u001b[1m10/10\u001b[0m \u001b[32m━━━━━━━━━━━━━━━━━━━━\u001b[0m\u001b[37m\u001b[0m \u001b[1m0s\u001b[0m 7ms/step - loss: 0.0058 - val_loss: 0.0207\n",
      "Epoch 226/300\n",
      "\u001b[1m10/10\u001b[0m \u001b[32m━━━━━━━━━━━━━━━━━━━━\u001b[0m\u001b[37m\u001b[0m \u001b[1m0s\u001b[0m 6ms/step - loss: 0.0059 - val_loss: 0.0199\n",
      "Epoch 227/300\n",
      "\u001b[1m10/10\u001b[0m \u001b[32m━━━━━━━━━━━━━━━━━━━━\u001b[0m\u001b[37m\u001b[0m \u001b[1m0s\u001b[0m 6ms/step - loss: 0.0055 - val_loss: 0.0202\n",
      "Epoch 228/300\n",
      "\u001b[1m10/10\u001b[0m \u001b[32m━━━━━━━━━━━━━━━━━━━━\u001b[0m\u001b[37m\u001b[0m \u001b[1m0s\u001b[0m 6ms/step - loss: 0.0059 - val_loss: 0.0315\n",
      "Epoch 229/300\n",
      "\u001b[1m10/10\u001b[0m \u001b[32m━━━━━━━━━━━━━━━━━━━━\u001b[0m\u001b[37m\u001b[0m \u001b[1m0s\u001b[0m 6ms/step - loss: 0.0061 - val_loss: 0.0219\n",
      "Epoch 230/300\n",
      "\u001b[1m10/10\u001b[0m \u001b[32m━━━━━━━━━━━━━━━━━━━━\u001b[0m\u001b[37m\u001b[0m \u001b[1m0s\u001b[0m 6ms/step - loss: 0.0060 - val_loss: 0.0218\n",
      "Epoch 231/300\n",
      "\u001b[1m10/10\u001b[0m \u001b[32m━━━━━━━━━━━━━━━━━━━━\u001b[0m\u001b[37m\u001b[0m \u001b[1m0s\u001b[0m 6ms/step - loss: 0.0056 - val_loss: 0.0201\n",
      "Epoch 232/300\n",
      "\u001b[1m10/10\u001b[0m \u001b[32m━━━━━━━━━━━━━━━━━━━━\u001b[0m\u001b[37m\u001b[0m \u001b[1m0s\u001b[0m 6ms/step - loss: 0.0059 - val_loss: 0.0221\n",
      "Epoch 233/300\n",
      "\u001b[1m10/10\u001b[0m \u001b[32m━━━━━━━━━━━━━━━━━━━━\u001b[0m\u001b[37m\u001b[0m \u001b[1m0s\u001b[0m 6ms/step - loss: 0.0056 - val_loss: 0.0222\n",
      "Epoch 234/300\n",
      "\u001b[1m10/10\u001b[0m \u001b[32m━━━━━━━━━━━━━━━━━━━━\u001b[0m\u001b[37m\u001b[0m \u001b[1m0s\u001b[0m 6ms/step - loss: 0.0058 - val_loss: 0.0170\n",
      "Epoch 235/300\n",
      "\u001b[1m10/10\u001b[0m \u001b[32m━━━━━━━━━━━━━━━━━━━━\u001b[0m\u001b[37m\u001b[0m \u001b[1m0s\u001b[0m 6ms/step - loss: 0.0055 - val_loss: 0.0309\n",
      "Epoch 236/300\n",
      "\u001b[1m10/10\u001b[0m \u001b[32m━━━━━━━━━━━━━━━━━━━━\u001b[0m\u001b[37m\u001b[0m \u001b[1m0s\u001b[0m 6ms/step - loss: 0.0058 - val_loss: 0.0228\n",
      "Epoch 237/300\n",
      "\u001b[1m10/10\u001b[0m \u001b[32m━━━━━━━━━━━━━━━━━━━━\u001b[0m\u001b[37m\u001b[0m \u001b[1m0s\u001b[0m 6ms/step - loss: 0.0056 - val_loss: 0.0218\n",
      "Epoch 238/300\n",
      "\u001b[1m10/10\u001b[0m \u001b[32m━━━━━━━━━━━━━━━━━━━━\u001b[0m\u001b[37m\u001b[0m \u001b[1m0s\u001b[0m 6ms/step - loss: 0.0060 - val_loss: 0.0241\n",
      "Epoch 239/300\n",
      "\u001b[1m10/10\u001b[0m \u001b[32m━━━━━━━━━━━━━━━━━━━━\u001b[0m\u001b[37m\u001b[0m \u001b[1m0s\u001b[0m 6ms/step - loss: 0.0055 - val_loss: 0.0222\n",
      "Epoch 240/300\n",
      "\u001b[1m10/10\u001b[0m \u001b[32m━━━━━━━━━━━━━━━━━━━━\u001b[0m\u001b[37m\u001b[0m \u001b[1m0s\u001b[0m 6ms/step - loss: 0.0057 - val_loss: 0.0400\n",
      "Epoch 241/300\n",
      "\u001b[1m10/10\u001b[0m \u001b[32m━━━━━━━━━━━━━━━━━━━━\u001b[0m\u001b[37m\u001b[0m \u001b[1m0s\u001b[0m 6ms/step - loss: 0.0054 - val_loss: 0.0175\n",
      "Epoch 242/300\n",
      "\u001b[1m10/10\u001b[0m \u001b[32m━━━━━━━━━━━━━━━━━━━━\u001b[0m\u001b[37m\u001b[0m \u001b[1m0s\u001b[0m 6ms/step - loss: 0.0060 - val_loss: 0.0231\n",
      "Epoch 243/300\n",
      "\u001b[1m10/10\u001b[0m \u001b[32m━━━━━━━━━━━━━━━━━━━━\u001b[0m\u001b[37m\u001b[0m \u001b[1m0s\u001b[0m 6ms/step - loss: 0.0054 - val_loss: 0.0233\n",
      "Epoch 244/300\n",
      "\u001b[1m10/10\u001b[0m \u001b[32m━━━━━━━━━━━━━━━━━━━━\u001b[0m\u001b[37m\u001b[0m \u001b[1m0s\u001b[0m 6ms/step - loss: 0.0058 - val_loss: 0.0206\n",
      "Epoch 245/300\n",
      "\u001b[1m10/10\u001b[0m \u001b[32m━━━━━━━━━━━━━━━━━━━━\u001b[0m\u001b[37m\u001b[0m \u001b[1m0s\u001b[0m 6ms/step - loss: 0.0054 - val_loss: 0.0251\n",
      "Epoch 246/300\n",
      "\u001b[1m10/10\u001b[0m \u001b[32m━━━━━━━━━━━━━━━━━━━━\u001b[0m\u001b[37m\u001b[0m \u001b[1m0s\u001b[0m 6ms/step - loss: 0.0056 - val_loss: 0.0209\n",
      "Epoch 247/300\n",
      "\u001b[1m10/10\u001b[0m \u001b[32m━━━━━━━━━━━━━━━━━━━━\u001b[0m\u001b[37m\u001b[0m \u001b[1m0s\u001b[0m 6ms/step - loss: 0.0056 - val_loss: 0.0182\n",
      "Epoch 248/300\n",
      "\u001b[1m10/10\u001b[0m \u001b[32m━━━━━━━━━━━━━━━━━━━━\u001b[0m\u001b[37m\u001b[0m \u001b[1m0s\u001b[0m 6ms/step - loss: 0.0060 - val_loss: 0.0255\n",
      "Epoch 249/300\n",
      "\u001b[1m10/10\u001b[0m \u001b[32m━━━━━━━━━━━━━━━━━━━━\u001b[0m\u001b[37m\u001b[0m \u001b[1m0s\u001b[0m 6ms/step - loss: 0.0059 - val_loss: 0.0240\n",
      "Epoch 250/300\n",
      "\u001b[1m10/10\u001b[0m \u001b[32m━━━━━━━━━━━━━━━━━━━━\u001b[0m\u001b[37m\u001b[0m \u001b[1m0s\u001b[0m 6ms/step - loss: 0.0058 - val_loss: 0.0265\n",
      "Epoch 251/300\n",
      "\u001b[1m10/10\u001b[0m \u001b[32m━━━━━━━━━━━━━━━━━━━━\u001b[0m\u001b[37m\u001b[0m \u001b[1m0s\u001b[0m 6ms/step - loss: 0.0053 - val_loss: 0.0193\n",
      "Epoch 252/300\n",
      "\u001b[1m10/10\u001b[0m \u001b[32m━━━━━━━━━━━━━━━━━━━━\u001b[0m\u001b[37m\u001b[0m \u001b[1m0s\u001b[0m 6ms/step - loss: 0.0053 - val_loss: 0.0252\n",
      "Epoch 253/300\n",
      "\u001b[1m10/10\u001b[0m \u001b[32m━━━━━━━━━━━━━━━━━━━━\u001b[0m\u001b[37m\u001b[0m \u001b[1m0s\u001b[0m 6ms/step - loss: 0.0057 - val_loss: 0.0204\n",
      "Epoch 254/300\n",
      "\u001b[1m10/10\u001b[0m \u001b[32m━━━━━━━━━━━━━━━━━━━━\u001b[0m\u001b[37m\u001b[0m \u001b[1m0s\u001b[0m 6ms/step - loss: 0.0064 - val_loss: 0.0754\n",
      "Epoch 255/300\n",
      "\u001b[1m10/10\u001b[0m \u001b[32m━━━━━━━━━━━━━━━━━━━━\u001b[0m\u001b[37m\u001b[0m \u001b[1m0s\u001b[0m 6ms/step - loss: 0.0063 - val_loss: 0.0179\n",
      "Epoch 256/300\n",
      "\u001b[1m10/10\u001b[0m \u001b[32m━━━━━━━━━━━━━━━━━━━━\u001b[0m\u001b[37m\u001b[0m \u001b[1m0s\u001b[0m 6ms/step - loss: 0.0058 - val_loss: 0.0227\n",
      "Epoch 257/300\n",
      "\u001b[1m10/10\u001b[0m \u001b[32m━━━━━━━━━━━━━━━━━━━━\u001b[0m\u001b[37m\u001b[0m \u001b[1m0s\u001b[0m 6ms/step - loss: 0.0051 - val_loss: 0.0216\n",
      "Epoch 258/300\n",
      "\u001b[1m10/10\u001b[0m \u001b[32m━━━━━━━━━━━━━━━━━━━━\u001b[0m\u001b[37m\u001b[0m \u001b[1m0s\u001b[0m 7ms/step - loss: 0.0052 - val_loss: 0.0180\n",
      "Epoch 259/300\n",
      "\u001b[1m10/10\u001b[0m \u001b[32m━━━━━━━━━━━━━━━━━━━━\u001b[0m\u001b[37m\u001b[0m \u001b[1m0s\u001b[0m 7ms/step - loss: 0.0054 - val_loss: 0.0194\n",
      "Epoch 260/300\n",
      "\u001b[1m10/10\u001b[0m \u001b[32m━━━━━━━━━━━━━━━━━━━━\u001b[0m\u001b[37m\u001b[0m \u001b[1m0s\u001b[0m 6ms/step - loss: 0.0052 - val_loss: 0.0219\n",
      "Epoch 261/300\n",
      "\u001b[1m10/10\u001b[0m \u001b[32m━━━━━━━━━━━━━━━━━━━━\u001b[0m\u001b[37m\u001b[0m \u001b[1m0s\u001b[0m 6ms/step - loss: 0.0050 - val_loss: 0.0188\n",
      "Epoch 262/300\n",
      "\u001b[1m10/10\u001b[0m \u001b[32m━━━━━━━━━━━━━━━━━━━━\u001b[0m\u001b[37m\u001b[0m \u001b[1m0s\u001b[0m 6ms/step - loss: 0.0053 - val_loss: 0.0202\n",
      "Epoch 263/300\n",
      "\u001b[1m10/10\u001b[0m \u001b[32m━━━━━━━━━━━━━━━━━━━━\u001b[0m\u001b[37m\u001b[0m \u001b[1m0s\u001b[0m 6ms/step - loss: 0.0053 - val_loss: 0.0223\n",
      "Epoch 264/300\n",
      "\u001b[1m10/10\u001b[0m \u001b[32m━━━━━━━━━━━━━━━━━━━━\u001b[0m\u001b[37m\u001b[0m \u001b[1m0s\u001b[0m 6ms/step - loss: 0.0052 - val_loss: 0.0192\n",
      "Epoch 265/300\n",
      "\u001b[1m10/10\u001b[0m \u001b[32m━━━━━━━━━━━━━━━━━━━━\u001b[0m\u001b[37m\u001b[0m \u001b[1m0s\u001b[0m 6ms/step - loss: 0.0054 - val_loss: 0.0209\n",
      "Epoch 266/300\n",
      "\u001b[1m10/10\u001b[0m \u001b[32m━━━━━━━━━━━━━━━━━━━━\u001b[0m\u001b[37m\u001b[0m \u001b[1m0s\u001b[0m 6ms/step - loss: 0.0052 - val_loss: 0.0191\n",
      "Epoch 267/300\n",
      "\u001b[1m10/10\u001b[0m \u001b[32m━━━━━━━━━━━━━━━━━━━━\u001b[0m\u001b[37m\u001b[0m \u001b[1m0s\u001b[0m 6ms/step - loss: 0.0052 - val_loss: 0.0218\n",
      "Epoch 268/300\n",
      "\u001b[1m10/10\u001b[0m \u001b[32m━━━━━━━━━━━━━━━━━━━━\u001b[0m\u001b[37m\u001b[0m \u001b[1m0s\u001b[0m 6ms/step - loss: 0.0050 - val_loss: 0.0182\n",
      "Epoch 269/300\n",
      "\u001b[1m10/10\u001b[0m \u001b[32m━━━━━━━━━━━━━━━━━━━━\u001b[0m\u001b[37m\u001b[0m \u001b[1m0s\u001b[0m 7ms/step - loss: 0.0052 - val_loss: 0.0203\n",
      "Epoch 270/300\n",
      "\u001b[1m10/10\u001b[0m \u001b[32m━━━━━━━━━━━━━━━━━━━━\u001b[0m\u001b[37m\u001b[0m \u001b[1m0s\u001b[0m 6ms/step - loss: 0.0049 - val_loss: 0.0250\n",
      "Epoch 271/300\n",
      "\u001b[1m10/10\u001b[0m \u001b[32m━━━━━━━━━━━━━━━━━━━━\u001b[0m\u001b[37m\u001b[0m \u001b[1m0s\u001b[0m 6ms/step - loss: 0.0052 - val_loss: 0.0215\n",
      "Epoch 272/300\n",
      "\u001b[1m10/10\u001b[0m \u001b[32m━━━━━━━━━━━━━━━━━━━━\u001b[0m\u001b[37m\u001b[0m \u001b[1m0s\u001b[0m 6ms/step - loss: 0.0052 - val_loss: 0.0175\n",
      "Epoch 273/300\n",
      "\u001b[1m10/10\u001b[0m \u001b[32m━━━━━━━━━━━━━━━━━━━━\u001b[0m\u001b[37m\u001b[0m \u001b[1m0s\u001b[0m 6ms/step - loss: 0.0055 - val_loss: 0.0341\n",
      "Epoch 274/300\n",
      "\u001b[1m10/10\u001b[0m \u001b[32m━━━━━━━━━━━━━━━━━━━━\u001b[0m\u001b[37m\u001b[0m \u001b[1m0s\u001b[0m 6ms/step - loss: 0.0049 - val_loss: 0.0229\n",
      "Epoch 275/300\n",
      "\u001b[1m10/10\u001b[0m \u001b[32m━━━━━━━━━━━━━━━━━━━━\u001b[0m\u001b[37m\u001b[0m \u001b[1m0s\u001b[0m 6ms/step - loss: 0.0051 - val_loss: 0.0238\n",
      "Epoch 276/300\n",
      "\u001b[1m10/10\u001b[0m \u001b[32m━━━━━━━━━━━━━━━━━━━━\u001b[0m\u001b[37m\u001b[0m \u001b[1m0s\u001b[0m 6ms/step - loss: 0.0048 - val_loss: 0.0246\n",
      "Epoch 277/300\n",
      "\u001b[1m10/10\u001b[0m \u001b[32m━━━━━━━━━━━━━━━━━━━━\u001b[0m\u001b[37m\u001b[0m \u001b[1m0s\u001b[0m 6ms/step - loss: 0.0052 - val_loss: 0.0245\n",
      "Epoch 278/300\n",
      "\u001b[1m10/10\u001b[0m \u001b[32m━━━━━━━━━━━━━━━━━━━━\u001b[0m\u001b[37m\u001b[0m \u001b[1m0s\u001b[0m 6ms/step - loss: 0.0049 - val_loss: 0.0225\n",
      "Epoch 279/300\n",
      "\u001b[1m10/10\u001b[0m \u001b[32m━━━━━━━━━━━━━━━━━━━━\u001b[0m\u001b[37m\u001b[0m \u001b[1m0s\u001b[0m 7ms/step - loss: 0.0050 - val_loss: 0.0198\n",
      "Epoch 280/300\n",
      "\u001b[1m10/10\u001b[0m \u001b[32m━━━━━━━━━━━━━━━━━━━━\u001b[0m\u001b[37m\u001b[0m \u001b[1m0s\u001b[0m 6ms/step - loss: 0.0052 - val_loss: 0.0176\n",
      "Epoch 281/300\n",
      "\u001b[1m10/10\u001b[0m \u001b[32m━━━━━━━━━━━━━━━━━━━━\u001b[0m\u001b[37m\u001b[0m \u001b[1m0s\u001b[0m 6ms/step - loss: 0.0053 - val_loss: 0.0203\n",
      "Epoch 282/300\n",
      "\u001b[1m10/10\u001b[0m \u001b[32m━━━━━━━━━━━━━━━━━━━━\u001b[0m\u001b[37m\u001b[0m \u001b[1m0s\u001b[0m 7ms/step - loss: 0.0051 - val_loss: 0.0204\n",
      "Epoch 283/300\n",
      "\u001b[1m10/10\u001b[0m \u001b[32m━━━━━━━━━━━━━━━━━━━━\u001b[0m\u001b[37m\u001b[0m \u001b[1m0s\u001b[0m 7ms/step - loss: 0.0048 - val_loss: 0.0220\n",
      "Epoch 284/300\n",
      "\u001b[1m10/10\u001b[0m \u001b[32m━━━━━━━━━━━━━━━━━━━━\u001b[0m\u001b[37m\u001b[0m \u001b[1m0s\u001b[0m 7ms/step - loss: 0.0049 - val_loss: 0.0261\n",
      "Epoch 285/300\n",
      "\u001b[1m10/10\u001b[0m \u001b[32m━━━━━━━━━━━━━━━━━━━━\u001b[0m\u001b[37m\u001b[0m \u001b[1m0s\u001b[0m 6ms/step - loss: 0.0048 - val_loss: 0.0193\n",
      "Epoch 286/300\n",
      "\u001b[1m10/10\u001b[0m \u001b[32m━━━━━━━━━━━━━━━━━━━━\u001b[0m\u001b[37m\u001b[0m \u001b[1m0s\u001b[0m 6ms/step - loss: 0.0049 - val_loss: 0.0285\n",
      "Epoch 287/300\n",
      "\u001b[1m10/10\u001b[0m \u001b[32m━━━━━━━━━━━━━━━━━━━━\u001b[0m\u001b[37m\u001b[0m \u001b[1m0s\u001b[0m 6ms/step - loss: 0.0048 - val_loss: 0.0188\n",
      "Epoch 288/300\n",
      "\u001b[1m10/10\u001b[0m \u001b[32m━━━━━━━━━━━━━━━━━━━━\u001b[0m\u001b[37m\u001b[0m \u001b[1m0s\u001b[0m 6ms/step - loss: 0.0052 - val_loss: 0.0375\n",
      "Epoch 289/300\n",
      "\u001b[1m10/10\u001b[0m \u001b[32m━━━━━━━━━━━━━━━━━━━━\u001b[0m\u001b[37m\u001b[0m \u001b[1m0s\u001b[0m 6ms/step - loss: 0.0052 - val_loss: 0.0193\n",
      "Epoch 290/300\n",
      "\u001b[1m10/10\u001b[0m \u001b[32m━━━━━━━━━━━━━━━━━━━━\u001b[0m\u001b[37m\u001b[0m \u001b[1m0s\u001b[0m 6ms/step - loss: 0.0050 - val_loss: 0.0279\n",
      "Epoch 291/300\n",
      "\u001b[1m10/10\u001b[0m \u001b[32m━━━━━━━━━━━━━━━━━━━━\u001b[0m\u001b[37m\u001b[0m \u001b[1m0s\u001b[0m 7ms/step - loss: 0.0049 - val_loss: 0.0185\n",
      "Epoch 292/300\n",
      "\u001b[1m10/10\u001b[0m \u001b[32m━━━━━━━━━━━━━━━━━━━━\u001b[0m\u001b[37m\u001b[0m \u001b[1m0s\u001b[0m 6ms/step - loss: 0.0051 - val_loss: 0.0229\n",
      "Epoch 293/300\n",
      "\u001b[1m10/10\u001b[0m \u001b[32m━━━━━━━━━━━━━━━━━━━━\u001b[0m\u001b[37m\u001b[0m \u001b[1m0s\u001b[0m 6ms/step - loss: 0.0049 - val_loss: 0.0203\n",
      "Epoch 294/300\n",
      "\u001b[1m10/10\u001b[0m \u001b[32m━━━━━━━━━━━━━━━━━━━━\u001b[0m\u001b[37m\u001b[0m \u001b[1m0s\u001b[0m 6ms/step - loss: 0.0051 - val_loss: 0.0220\n",
      "Epoch 295/300\n",
      "\u001b[1m10/10\u001b[0m \u001b[32m━━━━━━━━━━━━━━━━━━━━\u001b[0m\u001b[37m\u001b[0m \u001b[1m0s\u001b[0m 6ms/step - loss: 0.0052 - val_loss: 0.0203\n",
      "Epoch 296/300\n",
      "\u001b[1m10/10\u001b[0m \u001b[32m━━━━━━━━━━━━━━━━━━━━\u001b[0m\u001b[37m\u001b[0m \u001b[1m0s\u001b[0m 6ms/step - loss: 0.0049 - val_loss: 0.0225\n",
      "Epoch 297/300\n",
      "\u001b[1m10/10\u001b[0m \u001b[32m━━━━━━━━━━━━━━━━━━━━\u001b[0m\u001b[37m\u001b[0m \u001b[1m0s\u001b[0m 6ms/step - loss: 0.0050 - val_loss: 0.0208\n",
      "Epoch 298/300\n",
      "\u001b[1m10/10\u001b[0m \u001b[32m━━━━━━━━━━━━━━━━━━━━\u001b[0m\u001b[37m\u001b[0m \u001b[1m0s\u001b[0m 6ms/step - loss: 0.0048 - val_loss: 0.0213\n",
      "Epoch 299/300\n",
      "\u001b[1m10/10\u001b[0m \u001b[32m━━━━━━━━━━━━━━━━━━━━\u001b[0m\u001b[37m\u001b[0m \u001b[1m0s\u001b[0m 6ms/step - loss: 0.0049 - val_loss: 0.0210\n",
      "Epoch 300/300\n",
      "\u001b[1m10/10\u001b[0m \u001b[32m━━━━━━━━━━━━━━━━━━━━\u001b[0m\u001b[37m\u001b[0m \u001b[1m0s\u001b[0m 6ms/step - loss: 0.0050 - val_loss: 0.0228\n"
     ]
    }
   ],
   "source": [
    "model = Sequential()\n",
    "model.add(LSTM(64, activation=\"tanh\", return_sequences=True, input_shape=(window, 1)))\n",
    "model.add(Dropout(0.2))\n",
    "model.add(LSTM(32, activation=\"tanh\"))\n",
    "model.add(Dense(horizon))  # saída com 12 valores (multi-step)\n",
    "\n",
    "model.compile(optimizer=\"adam\", loss=\"mse\")\n",
    "\n",
    "history = model.fit(\n",
    "    X_train, y_train,\n",
    "    epochs=300,\n",
    "    batch_size=4,\n",
    "    validation_split=0.1,\n",
    "    verbose=1\n",
    ")"
   ]
  },
  {
   "cell_type": "code",
   "execution_count": 51,
   "id": "07ef65ad",
   "metadata": {},
   "outputs": [
    {
     "name": "stdout",
     "output_type": "stream",
     "text": [
      "\u001b[1m1/1\u001b[0m \u001b[32m━━━━━━━━━━━━━━━━━━━━\u001b[0m\u001b[37m\u001b[0m \u001b[1m0s\u001b[0m 105ms/step\n",
      "LSTM Multi-step MAE: 1976546.0605149998\n"
     ]
    }
   ],
   "source": [
    "y_pred = model.predict(X_test)\n",
    "\n",
    "y_test_inv = scaler.inverse_transform(y_test)\n",
    "y_pred_inv = scaler.inverse_transform(y_pred)\n",
    "\n",
    "mae_lstm_multi = mean_absolute_error(y_test_inv.flatten(), y_pred_inv.flatten())\n",
    "print('LSTM Multi-step MAE:', mae_lstm_multi)"
   ]
  },
  {
   "cell_type": "code",
   "execution_count": null,
   "id": "e8cc75f2",
   "metadata": {},
   "outputs": [],
   "source": [
    "last_input_dates = pd.to_datetime(mmm_marinha.mes, format='%m_%Y').iloc[-(window + horizon):-horizon]\n",
    "future_dates = pd.date_range(start = pd.to_datetime(mmm_marinha.mes, format='%m_%Y').iloc[-horizon], periods=horizon, freq='M')"
   ]
  },
  {
   "cell_type": "code",
   "execution_count": 53,
   "id": "5a3ae83a",
   "metadata": {},
   "outputs": [
    {
     "data": {
      "application/vnd.plotly.v1+json": {
       "config": {
        "plotlyServerURL": "https://plot.ly"
       },
       "data": [
        {
         "hovertemplate": "Mês e ano=%{x}<br>Totais das despesas=%{y}<extra></extra>",
         "legendgroup": "",
         "line": {
          "color": "#636efa",
          "dash": "solid",
          "width": 2
         },
         "marker": {
          "symbol": "circle"
         },
         "mode": "lines+markers",
         "name": "",
         "orientation": "v",
         "showlegend": false,
         "type": "scatter",
         "x": [
          "1_2019",
          "2_2019",
          "3_2019",
          "4_2019",
          "5_2019",
          "6_2019",
          "7_2019",
          "8_2019",
          "9_2019",
          "10_2019",
          "11_2019",
          "12_2019",
          "1_2020",
          "2_2020",
          "3_2020",
          "4_2020",
          "5_2020",
          "6_2020",
          "7_2020",
          "8_2020",
          "9_2020",
          "10_2020",
          "11_2020",
          "12_2020",
          "1_2021",
          "2_2021",
          "3_2021",
          "4_2021",
          "5_2021",
          "6_2021",
          "7_2021",
          "8_2021",
          "9_2021",
          "10_2021",
          "11_2021",
          "12_2021",
          "1_2022",
          "2_2022",
          "3_2022",
          "4_2022",
          "5_2022",
          "6_2022",
          "7_2022",
          "8_2022",
          "9_2022",
          "10_2022",
          "11_2022",
          "12_2022",
          "1_2023",
          "2_2023",
          "3_2023",
          "4_2023",
          "5_2023",
          "6_2023",
          "7_2023",
          "8_2023",
          "9_2023",
          "10_2023",
          "11_2023",
          "12_2023",
          "1_2024",
          "2_2024",
          "3_2024",
          "4_2024",
          "5_2024",
          "6_2024",
          "7_2024",
          "8_2024",
          "9_2024",
          "10_2024",
          "11_2024",
          "12_2024",
          "1_2025",
          "2_2025",
          "3_2025",
          "4_2025",
          "5_2025",
          "6_2025",
          "7_2025"
         ],
         "xaxis": "x",
         "y": {
          "bdata": "I9ZH8iJtb0FtsfZ2LPRuQemhkfIl4W5BKEwzSaGicEGNHilIVihyQRDbZ4suX3BBe+3jT2lHcUE6aEXbnatxQagM0kyy9XBBT+V5W871cUEycZAUqXNwQTxy2pFkZWxBeTrX+F9WbUE2XKQV2L5pQTEUJlZx8WtBhoLjJeEhZUHapt10UxRkQSp/7XaQiGRByRqa8VxXZ0H+8iTGukFoQTH2lKKxuGhBPT1bh7isakE2vdVYOGtpQc1BKyy562ZBt9RcyifGZkFtx1QslENnQebiFFGy1mtBhnYOnExXaUGhhBnOH/pqQYBJKl0MD2pBpivYWTUxbUHZB1lS4NxvQS4sCTp+nG1B2Ls/cYfRbEHRIAVs4fJtQRAGnrtgZGtB4e6sqIxOb0EYCW3KtLtvQW3F/g9ZanJBNV46I+w2cUEsZRnhzOxzQRv1kM8RNHJBlMHRjTRWckHxEbH0hAh0QXqlrKizsHJB3dJqsn1xckGOAVm9hz1xQXctIWojM29BH2gFSO4gcUH3qpWNgy9vQYsaTHWbUXRBkGas9fsnckGjh+vd0hR1Qdxj6dKMz3NBJscdqppjc0H129cEwFt0QX50aiJ9f3NB8Ut9MCsrdEGfdvj530NzQad0MC4jV3BBeTtCzthPckE/b6op9aZwQcoyRBF+tXRBTzv8F20gdEHZfFx0hlR0Qfz7DL1tRHNBAtnrQiRkdEFau23y8/J0Qcu5lJPyFnRBS+XtizcDdEHSAF6aLZ1xQRBAarvZTm5BtDwPhYDEckH+t5JAdZVzQWdhTyUygXRBIatbmOttdUE6HrOLvHN4QYHPDxSthXZBXdxGIyRkd0E=",
          "dtype": "f8"
         },
         "yaxis": "y"
        },
        {
         "line": {
          "width": 2
         },
         "mode": "lines+markers",
         "type": "scatter",
         "x": [
          "8_2024",
          "9_2024",
          "10_2024",
          "11_2024",
          "12_2024",
          "1_2025",
          "2_2025",
          "3_2025",
          "4_2025",
          "5_2025",
          "6_2025",
          "7_2025"
         ],
         "y": {
          "bdata": "j0duSz3LZUt5MVhLJSdaS3nXbkvkLntLJ5N9S/5hhEuaCIlLLVCHS8OCgUtnHWxLB7J+SxNKfUsZJ4VL6diRS9ysl0uaYp5LMsSdS7d/nUszXp5LURKeS8S2lEvax5BLgTmMS0I6kktVbpFLX8WjS0t0n0sloKVLN+qjS4E5o0uI455LYsSdS1SOlUsxAZZL0cKRS/W7mUvnpJdL+9mmS2PBn0sFYKNLEkKiS3XeoktIv5xLwliXS4CQjkswkZFLfhGUS0XunEv+C51Lhy+mS+7EnksdbJ9L8JCeS8fZoEtyd5pL6sqPS5Bthktx/IpLyVKVS0/6nksd6Z9Lp3ylS5MEnksgAZ1LZ1KcS7yYn0t82phLEl6LS52mgUuqMYdLmJaWS/59oEv2GKNL1y2kS//jnEt9yZlLqtaYS1q6nUsKOJdLELiFS48veEvEhYJLnr2WS0oUoUvT2aJLqJ6kS40ZnUvjTJpLPG2ZS7aFnUtyoJZLYzKGS25ZeEs+uIJL8mWXS5DqoUvujaNLVI6kS0unnEtHaZlLfUOYS97InEuktpVLOGuES90wdEtxaoFLW9yWS4dhoUtPcqJLlVelS0lJnUvq1ppLcoqZS08ynUvPJZZLZXaGSzALeEv384JLalyWS7zDoEt97KFLcKilS4mfnUumeZtLle+ZS5pbnUuMjpZLn2CHS7YHektmlYNLdM2VS3tGoEsMKqFL+hymS6XcnUsfMJxLjVyaS5yMnUtvspZL/YeIS2q7e0smSoRL",
          "dtype": "f4"
         }
        }
       ],
       "layout": {
        "hovermode": "x unified",
        "legend": {
         "tracegroupgap": 0
        },
        "template": {
         "data": {
          "bar": [
           {
            "error_x": {
             "color": "#2a3f5f"
            },
            "error_y": {
             "color": "#2a3f5f"
            },
            "marker": {
             "line": {
              "color": "white",
              "width": 0.5
             },
             "pattern": {
              "fillmode": "overlay",
              "size": 10,
              "solidity": 0.2
             }
            },
            "type": "bar"
           }
          ],
          "barpolar": [
           {
            "marker": {
             "line": {
              "color": "white",
              "width": 0.5
             },
             "pattern": {
              "fillmode": "overlay",
              "size": 10,
              "solidity": 0.2
             }
            },
            "type": "barpolar"
           }
          ],
          "carpet": [
           {
            "aaxis": {
             "endlinecolor": "#2a3f5f",
             "gridcolor": "#C8D4E3",
             "linecolor": "#C8D4E3",
             "minorgridcolor": "#C8D4E3",
             "startlinecolor": "#2a3f5f"
            },
            "baxis": {
             "endlinecolor": "#2a3f5f",
             "gridcolor": "#C8D4E3",
             "linecolor": "#C8D4E3",
             "minorgridcolor": "#C8D4E3",
             "startlinecolor": "#2a3f5f"
            },
            "type": "carpet"
           }
          ],
          "choropleth": [
           {
            "colorbar": {
             "outlinewidth": 0,
             "ticks": ""
            },
            "type": "choropleth"
           }
          ],
          "contour": [
           {
            "colorbar": {
             "outlinewidth": 0,
             "ticks": ""
            },
            "colorscale": [
             [
              0,
              "#0d0887"
             ],
             [
              0.1111111111111111,
              "#46039f"
             ],
             [
              0.2222222222222222,
              "#7201a8"
             ],
             [
              0.3333333333333333,
              "#9c179e"
             ],
             [
              0.4444444444444444,
              "#bd3786"
             ],
             [
              0.5555555555555556,
              "#d8576b"
             ],
             [
              0.6666666666666666,
              "#ed7953"
             ],
             [
              0.7777777777777778,
              "#fb9f3a"
             ],
             [
              0.8888888888888888,
              "#fdca26"
             ],
             [
              1,
              "#f0f921"
             ]
            ],
            "type": "contour"
           }
          ],
          "contourcarpet": [
           {
            "colorbar": {
             "outlinewidth": 0,
             "ticks": ""
            },
            "type": "contourcarpet"
           }
          ],
          "heatmap": [
           {
            "colorbar": {
             "outlinewidth": 0,
             "ticks": ""
            },
            "colorscale": [
             [
              0,
              "#0d0887"
             ],
             [
              0.1111111111111111,
              "#46039f"
             ],
             [
              0.2222222222222222,
              "#7201a8"
             ],
             [
              0.3333333333333333,
              "#9c179e"
             ],
             [
              0.4444444444444444,
              "#bd3786"
             ],
             [
              0.5555555555555556,
              "#d8576b"
             ],
             [
              0.6666666666666666,
              "#ed7953"
             ],
             [
              0.7777777777777778,
              "#fb9f3a"
             ],
             [
              0.8888888888888888,
              "#fdca26"
             ],
             [
              1,
              "#f0f921"
             ]
            ],
            "type": "heatmap"
           }
          ],
          "histogram": [
           {
            "marker": {
             "pattern": {
              "fillmode": "overlay",
              "size": 10,
              "solidity": 0.2
             }
            },
            "type": "histogram"
           }
          ],
          "histogram2d": [
           {
            "colorbar": {
             "outlinewidth": 0,
             "ticks": ""
            },
            "colorscale": [
             [
              0,
              "#0d0887"
             ],
             [
              0.1111111111111111,
              "#46039f"
             ],
             [
              0.2222222222222222,
              "#7201a8"
             ],
             [
              0.3333333333333333,
              "#9c179e"
             ],
             [
              0.4444444444444444,
              "#bd3786"
             ],
             [
              0.5555555555555556,
              "#d8576b"
             ],
             [
              0.6666666666666666,
              "#ed7953"
             ],
             [
              0.7777777777777778,
              "#fb9f3a"
             ],
             [
              0.8888888888888888,
              "#fdca26"
             ],
             [
              1,
              "#f0f921"
             ]
            ],
            "type": "histogram2d"
           }
          ],
          "histogram2dcontour": [
           {
            "colorbar": {
             "outlinewidth": 0,
             "ticks": ""
            },
            "colorscale": [
             [
              0,
              "#0d0887"
             ],
             [
              0.1111111111111111,
              "#46039f"
             ],
             [
              0.2222222222222222,
              "#7201a8"
             ],
             [
              0.3333333333333333,
              "#9c179e"
             ],
             [
              0.4444444444444444,
              "#bd3786"
             ],
             [
              0.5555555555555556,
              "#d8576b"
             ],
             [
              0.6666666666666666,
              "#ed7953"
             ],
             [
              0.7777777777777778,
              "#fb9f3a"
             ],
             [
              0.8888888888888888,
              "#fdca26"
             ],
             [
              1,
              "#f0f921"
             ]
            ],
            "type": "histogram2dcontour"
           }
          ],
          "mesh3d": [
           {
            "colorbar": {
             "outlinewidth": 0,
             "ticks": ""
            },
            "type": "mesh3d"
           }
          ],
          "parcoords": [
           {
            "line": {
             "colorbar": {
              "outlinewidth": 0,
              "ticks": ""
             }
            },
            "type": "parcoords"
           }
          ],
          "pie": [
           {
            "automargin": true,
            "type": "pie"
           }
          ],
          "scatter": [
           {
            "fillpattern": {
             "fillmode": "overlay",
             "size": 10,
             "solidity": 0.2
            },
            "type": "scatter"
           }
          ],
          "scatter3d": [
           {
            "line": {
             "colorbar": {
              "outlinewidth": 0,
              "ticks": ""
             }
            },
            "marker": {
             "colorbar": {
              "outlinewidth": 0,
              "ticks": ""
             }
            },
            "type": "scatter3d"
           }
          ],
          "scattercarpet": [
           {
            "marker": {
             "colorbar": {
              "outlinewidth": 0,
              "ticks": ""
             }
            },
            "type": "scattercarpet"
           }
          ],
          "scattergeo": [
           {
            "marker": {
             "colorbar": {
              "outlinewidth": 0,
              "ticks": ""
             }
            },
            "type": "scattergeo"
           }
          ],
          "scattergl": [
           {
            "marker": {
             "colorbar": {
              "outlinewidth": 0,
              "ticks": ""
             }
            },
            "type": "scattergl"
           }
          ],
          "scattermap": [
           {
            "marker": {
             "colorbar": {
              "outlinewidth": 0,
              "ticks": ""
             }
            },
            "type": "scattermap"
           }
          ],
          "scattermapbox": [
           {
            "marker": {
             "colorbar": {
              "outlinewidth": 0,
              "ticks": ""
             }
            },
            "type": "scattermapbox"
           }
          ],
          "scatterpolar": [
           {
            "marker": {
             "colorbar": {
              "outlinewidth": 0,
              "ticks": ""
             }
            },
            "type": "scatterpolar"
           }
          ],
          "scatterpolargl": [
           {
            "marker": {
             "colorbar": {
              "outlinewidth": 0,
              "ticks": ""
             }
            },
            "type": "scatterpolargl"
           }
          ],
          "scatterternary": [
           {
            "marker": {
             "colorbar": {
              "outlinewidth": 0,
              "ticks": ""
             }
            },
            "type": "scatterternary"
           }
          ],
          "surface": [
           {
            "colorbar": {
             "outlinewidth": 0,
             "ticks": ""
            },
            "colorscale": [
             [
              0,
              "#0d0887"
             ],
             [
              0.1111111111111111,
              "#46039f"
             ],
             [
              0.2222222222222222,
              "#7201a8"
             ],
             [
              0.3333333333333333,
              "#9c179e"
             ],
             [
              0.4444444444444444,
              "#bd3786"
             ],
             [
              0.5555555555555556,
              "#d8576b"
             ],
             [
              0.6666666666666666,
              "#ed7953"
             ],
             [
              0.7777777777777778,
              "#fb9f3a"
             ],
             [
              0.8888888888888888,
              "#fdca26"
             ],
             [
              1,
              "#f0f921"
             ]
            ],
            "type": "surface"
           }
          ],
          "table": [
           {
            "cells": {
             "fill": {
              "color": "#EBF0F8"
             },
             "line": {
              "color": "white"
             }
            },
            "header": {
             "fill": {
              "color": "#C8D4E3"
             },
             "line": {
              "color": "white"
             }
            },
            "type": "table"
           }
          ]
         },
         "layout": {
          "annotationdefaults": {
           "arrowcolor": "#2a3f5f",
           "arrowhead": 0,
           "arrowwidth": 1
          },
          "autotypenumbers": "strict",
          "coloraxis": {
           "colorbar": {
            "outlinewidth": 0,
            "ticks": ""
           }
          },
          "colorscale": {
           "diverging": [
            [
             0,
             "#8e0152"
            ],
            [
             0.1,
             "#c51b7d"
            ],
            [
             0.2,
             "#de77ae"
            ],
            [
             0.3,
             "#f1b6da"
            ],
            [
             0.4,
             "#fde0ef"
            ],
            [
             0.5,
             "#f7f7f7"
            ],
            [
             0.6,
             "#e6f5d0"
            ],
            [
             0.7,
             "#b8e186"
            ],
            [
             0.8,
             "#7fbc41"
            ],
            [
             0.9,
             "#4d9221"
            ],
            [
             1,
             "#276419"
            ]
           ],
           "sequential": [
            [
             0,
             "#0d0887"
            ],
            [
             0.1111111111111111,
             "#46039f"
            ],
            [
             0.2222222222222222,
             "#7201a8"
            ],
            [
             0.3333333333333333,
             "#9c179e"
            ],
            [
             0.4444444444444444,
             "#bd3786"
            ],
            [
             0.5555555555555556,
             "#d8576b"
            ],
            [
             0.6666666666666666,
             "#ed7953"
            ],
            [
             0.7777777777777778,
             "#fb9f3a"
            ],
            [
             0.8888888888888888,
             "#fdca26"
            ],
            [
             1,
             "#f0f921"
            ]
           ],
           "sequentialminus": [
            [
             0,
             "#0d0887"
            ],
            [
             0.1111111111111111,
             "#46039f"
            ],
            [
             0.2222222222222222,
             "#7201a8"
            ],
            [
             0.3333333333333333,
             "#9c179e"
            ],
            [
             0.4444444444444444,
             "#bd3786"
            ],
            [
             0.5555555555555556,
             "#d8576b"
            ],
            [
             0.6666666666666666,
             "#ed7953"
            ],
            [
             0.7777777777777778,
             "#fb9f3a"
            ],
            [
             0.8888888888888888,
             "#fdca26"
            ],
            [
             1,
             "#f0f921"
            ]
           ]
          },
          "colorway": [
           "#636efa",
           "#EF553B",
           "#00cc96",
           "#ab63fa",
           "#FFA15A",
           "#19d3f3",
           "#FF6692",
           "#B6E880",
           "#FF97FF",
           "#FECB52"
          ],
          "font": {
           "color": "#2a3f5f"
          },
          "geo": {
           "bgcolor": "white",
           "lakecolor": "white",
           "landcolor": "white",
           "showlakes": true,
           "showland": true,
           "subunitcolor": "#C8D4E3"
          },
          "hoverlabel": {
           "align": "left"
          },
          "hovermode": "closest",
          "mapbox": {
           "style": "light"
          },
          "paper_bgcolor": "white",
          "plot_bgcolor": "white",
          "polar": {
           "angularaxis": {
            "gridcolor": "#EBF0F8",
            "linecolor": "#EBF0F8",
            "ticks": ""
           },
           "bgcolor": "white",
           "radialaxis": {
            "gridcolor": "#EBF0F8",
            "linecolor": "#EBF0F8",
            "ticks": ""
           }
          },
          "scene": {
           "xaxis": {
            "backgroundcolor": "white",
            "gridcolor": "#DFE8F3",
            "gridwidth": 2,
            "linecolor": "#EBF0F8",
            "showbackground": true,
            "ticks": "",
            "zerolinecolor": "#EBF0F8"
           },
           "yaxis": {
            "backgroundcolor": "white",
            "gridcolor": "#DFE8F3",
            "gridwidth": 2,
            "linecolor": "#EBF0F8",
            "showbackground": true,
            "ticks": "",
            "zerolinecolor": "#EBF0F8"
           },
           "zaxis": {
            "backgroundcolor": "white",
            "gridcolor": "#DFE8F3",
            "gridwidth": 2,
            "linecolor": "#EBF0F8",
            "showbackground": true,
            "ticks": "",
            "zerolinecolor": "#EBF0F8"
           }
          },
          "shapedefaults": {
           "line": {
            "color": "#2a3f5f"
           }
          },
          "ternary": {
           "aaxis": {
            "gridcolor": "#DFE8F3",
            "linecolor": "#A2B1C6",
            "ticks": ""
           },
           "baxis": {
            "gridcolor": "#DFE8F3",
            "linecolor": "#A2B1C6",
            "ticks": ""
           },
           "bgcolor": "white",
           "caxis": {
            "gridcolor": "#DFE8F3",
            "linecolor": "#A2B1C6",
            "ticks": ""
           }
          },
          "title": {
           "x": 0.05
          },
          "xaxis": {
           "automargin": true,
           "gridcolor": "#EBF0F8",
           "linecolor": "#EBF0F8",
           "ticks": "",
           "title": {
            "standoff": 15
           },
           "zerolinecolor": "#EBF0F8",
           "zerolinewidth": 2
          },
          "yaxis": {
           "automargin": true,
           "gridcolor": "#EBF0F8",
           "linecolor": "#EBF0F8",
           "ticks": "",
           "title": {
            "standoff": 15
           },
           "zerolinecolor": "#EBF0F8",
           "zerolinewidth": 2
          }
         }
        },
        "title": {
         "text": "Previsão temporal com o algoritmo LSTM Multi-step"
        },
        "xaxis": {
         "anchor": "y",
         "domain": [
          0,
          1
         ],
         "tickangle": 45,
         "title": {
          "text": "Mês e ano"
         }
        },
        "yaxis": {
         "anchor": "x",
         "domain": [
          0,
          1
         ],
         "title": {
          "text": "Totais das despesas"
         }
        }
       }
      }
     },
     "metadata": {},
     "output_type": "display_data"
    }
   ],
   "source": [
    "fig = grafico_base('Previsão temporal com o algoritmo LSTM Multi-step')\n",
    "\n",
    "fig.add_trace(\n",
    "    go.Scatter(\n",
    "        x = test.mes,\n",
    "        y = y_pred_inv.flatten()\n",
    "    )\n",
    ")\n",
    "\n",
    "fig.update_traces(mode='lines+markers', line=dict(width=2))\n",
    "fig.update_xaxes(tickangle=45)\n",
    "fig.update_layout(\n",
    "    template='plotly_white',\n",
    "    hovermode='x unified'\n",
    "    )\n",
    "\n",
    "fig.show()"
   ]
  },
  {
   "cell_type": "code",
   "execution_count": 54,
   "id": "a157bcf0",
   "metadata": {},
   "outputs": [
    {
     "ename": "NameError",
     "evalue": "name 'df' is not defined",
     "output_type": "error",
     "traceback": [
      "\u001b[31m---------------------------------------------------------------------------\u001b[39m",
      "\u001b[31mNameError\u001b[39m                                 Traceback (most recent call last)",
      "\u001b[36mCell\u001b[39m\u001b[36m \u001b[39m\u001b[32mIn[54]\u001b[39m\u001b[32m, line 1\u001b[39m\n\u001b[32m----> \u001b[39m\u001b[32m1\u001b[39m df[\u001b[33m'\u001b[39m\u001b[33mmes/ano\u001b[39m\u001b[33m'\u001b[39m] = [\u001b[33m'\u001b[39m\u001b[33m/\u001b[39m\u001b[33m'\u001b[39m.join([\u001b[38;5;28mstr\u001b[39m(i[\u001b[32m0\u001b[39m]), \u001b[38;5;28mstr\u001b[39m(i[\u001b[32m1\u001b[39m])]) \u001b[38;5;28;01mfor\u001b[39;00m i \u001b[38;5;129;01min\u001b[39;00m \u001b[38;5;28mzip\u001b[39m(\u001b[43mdf\u001b[49m.mes, df.ano)]\n\u001b[32m      3\u001b[39m plt.figure(figsize=(\u001b[32m100\u001b[39m, \u001b[32m20\u001b[39m))\n\u001b[32m      4\u001b[39m px.line(df, x=\u001b[33m'\u001b[39m\u001b[33mmes/ano\u001b[39m\u001b[33m'\u001b[39m, y=\u001b[33m'\u001b[39m\u001b[33msaldo\u001b[39m\u001b[33m'\u001b[39m, color=\u001b[33m'\u001b[39m\u001b[33mnome\u001b[39m\u001b[33m'\u001b[39m)\n",
      "\u001b[31mNameError\u001b[39m: name 'df' is not defined"
     ]
    }
   ],
   "source": [
    "df['mes/ano'] = ['/'.join([str(i[0]), str(i[1])]) for i in zip(df.mes, df.ano)]\n",
    "\n",
    "plt.figure(figsize=(100, 20))\n",
    "px.line(df, x='mes/ano', y='saldo', color='nome')"
   ]
  }
 ],
 "metadata": {
  "kernelspec": {
   "display_name": "mvp",
   "language": "python",
   "name": "python3"
  },
  "language_info": {
   "codemirror_mode": {
    "name": "ipython",
    "version": 3
   },
   "file_extension": ".py",
   "mimetype": "text/x-python",
   "name": "python",
   "nbconvert_exporter": "python",
   "pygments_lexer": "ipython3",
   "version": "3.12.11"
  }
 },
 "nbformat": 4,
 "nbformat_minor": 5
}
