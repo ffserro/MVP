{
  "cells": [
    {
      "cell_type": "markdown",
      "id": "269fe9a4",
      "metadata": {
        "id": "269fe9a4"
      },
      "source": [
        "[![Open In Colab](https://colab.research.google.com/assets/colab-badge.svg)](https://colab.research.google.com/github/ffserro/MVP/blob/master/mvp.ipynb)\n"
      ]
    },
    {
      "cell_type": "markdown",
      "source": [
        "# Regressão Linear para Series Temporais - Planejamento dos dispêndios de alimentação de militares da Marinha do Brasil"
      ],
      "metadata": {
        "id": "wL7a42D2_9De"
      },
      "id": "wL7a42D2_9De"
    },
    {
      "cell_type": "markdown",
      "source": [
        "## Contextualização\n",
        "\n"
      ],
      "metadata": {
        "id": "jkWGTW6eI5k9"
      },
      "id": "jkWGTW6eI5k9"
    },
    {
      "cell_type": "markdown",
      "source": [
        "<div align=\"justify\" font-size=\"40px\">\n",
        "O planejamento eficiente dos recursos logísticos é um dos pilares para a manutenção da prontidão e da capacidade operacional das Forças Armadas. Entre os diversos insumos estratégicos, a alimentação das organizações militares desempenha papel central, tanto no aspecto orçamentário quanto no suporte direto às atividades diárias. Na Marinha do Brasil, a gestão dos estoques e dos gastos com gêneros alimentícios envolve múltiplos órgãos e abrange um volume expressivo de transações financeiras e contábeis, tornando-se um processo complexo e suscetível a variações sazonais, econômicas e administrativas.\n",
        "\n",
        "Neste cenário, prever com maior precisão os custos relacionados ao consumo de alimentos é fundamental para otimizar a alocação de recursos públicos, reduzir desperdícios, evitar rupturas de estoque e aumentar a eficiência do planejamento orçamentário. Tradicionalmente, esse processo é conduzido por meio de análises históricas e técnicas de planejamento administrativo. No entanto, tais abordagens muitas vezes não capturam adequadamente os padrões temporais e as variáveis externas que influenciam os gastos.\n",
        "\n",
        "A ciência de dados, e em particular as técnicas de modelagem de séries temporais, surge como uma alternativa poderosa para aprimorar esse processo decisório. Modelos como SARIMA, Prophet, XGBoost e LSTM permitem identificar tendências, sazonalidades e anomalias nos dados, possibilitando não apenas previsões mais robustas, mas também a geração de insights que subsidiam políticas de abastecimento e aquisição.\n",
        "\n",
        "Assim, o presente trabalho propõe a aplicação de técnicas de análise e previsão de séries temporais sobre os dados históricos de consumo de alimentos da Marinha do Brasil, com o objetivo de estimar os custos futuros e explorar padrões relevantes que possam apoiar o processo de gestão logística e orçamentária. A relevância deste estudo reside não apenas no ganho potencial de eficiência administrativa, mas também na contribuição para a transparência, a racionalização do gasto público e a modernização da gestão de suprimentos em instituições estratégicas para o país.\n",
        "</div>"
      ],
      "metadata": {
        "id": "9T92loE8Bgsx"
      },
      "id": "9T92loE8Bgsx"
    },
    {
      "cell_type": "markdown",
      "source": [
        "## Glossário\n"
      ],
      "metadata": {
        "id": "CcOtcOjHAdVT"
      },
      "id": "CcOtcOjHAdVT"
    },
    {
      "cell_type": "markdown",
      "source": [
        "* Municiamento\n",
        "* Rancho\n",
        "* Etapa\n",
        "* Comensal\n",
        "* Série Temporal\n",
        "* Tendência\n",
        "* Sazonalidade\n",
        "* Estacionariedade\n"
      ],
      "metadata": {
        "id": "VlDqciiHAizg"
      },
      "id": "VlDqciiHAizg"
    },
    {
      "cell_type": "markdown",
      "source": [
        "## Trabalho"
      ],
      "metadata": {
        "id": "3sDv8fXfJeYN"
      },
      "id": "3sDv8fXfJeYN"
    },
    {
      "cell_type": "code",
      "source": [
        "#@title Download dos dados\n",
        "!git clone 'https://github.com/ffserro/MVP.git'\n",
        "!pip install -r '/content/MVP/requirements.txt' > '/content/pip_log.txt'\n",
        "!if grep -iq \"downloading\" '/content/pip_log.txt';then python -c \"import os;print('Por favor, reinicie a sessão e execute novamente.');os.kill(os.getpid(), 9)\"; else python -c \"print('Vamos começar!')\"; fi"
      ],
      "metadata": {
        "colab": {
          "base_uri": "https://localhost:8080/"
        },
        "id": "IcDCsWxvPIxI",
        "outputId": "85f06d8d-ca0b-45f1-d3b8-f8c510d5f331",
        "cellView": "form"
      },
      "id": "IcDCsWxvPIxI",
      "execution_count": 203,
      "outputs": [
        {
          "output_type": "stream",
          "name": "stdout",
          "text": [
            "fatal: destination path 'MVP' already exists and is not an empty directory.\n",
            "Vamos começar!\n"
          ]
        }
      ]
    },
    {
      "cell_type": "code",
      "execution_count": 204,
      "id": "acb69f76",
      "metadata": {
        "id": "acb69f76"
      },
      "outputs": [],
      "source": [
        "#@title Import de bibliotecas\n",
        "from glob import glob\n",
        "\n",
        "from datetime import date as dt, timedelta as td\n",
        "\n",
        "import pandas as pd\n",
        "import numpy as np\n",
        "import matplotlib.pyplot as plt\n",
        "import seaborn as sns\n",
        "\n",
        "import plotly.express as px\n",
        "import plotly.graph_objects as go\n",
        "\n",
        "from statsmodels.tsa.stattools import adfuller\n",
        "from statsmodels.tsa.statespace.sarimax import SARIMAX\n",
        "from statsmodels.tsa.holtwinters import ExponentialSmoothing\n",
        "from sklearn.metrics import mean_absolute_error, mean_squared_error\n",
        "from sklearn.model_selection import TimeSeriesSplit\n",
        "from sklearn.preprocessing import MinMaxScaler\n",
        "from tensorflow.keras.models import Sequential\n",
        "from tensorflow.keras.layers import LSTM, Dense, Dropout\n",
        "\n",
        "from geopy.geocoders import Nominatim\n",
        "\n",
        "import pmdarima as pm\n",
        "from prophet import Prophet\n",
        "from xgboost import XGBRegressor\n",
        "\n",
        "from warnings import filterwarnings\n",
        "filterwarnings('ignore')"
      ]
    },
    {
      "cell_type": "code",
      "execution_count": 209,
      "id": "c5b106c1",
      "metadata": {
        "id": "c5b106c1"
      },
      "outputs": [],
      "source": [
        "mmm = pd.DataFrame()\n",
        "mmm = pd.concat([mmm]+[pd.read_excel(d, parse_dates=[['ano', 'mes']]) for d in glob('/content/MVP/dados/mmm/*')]).reset_index(drop=True)\n",
        "\n",
        "etapas = pd.DataFrame()\n",
        "etapas = pd.concat([etapas]+[pd.read_excel(d, parse_dates=[['ano', 'mes']]) for d in glob('/content/MVP/dados/etapas/*')]).reset_index(drop=True).rename(columns={'uasg':'codigo'})\n",
        "\n",
        "centralizadas = pd.read_csv('/content/MVP/dados/REL_OM_CENTRALIZADA_202509051127.csv', parse_dates=['DATA_INICIO', 'DATA_FIM'])\n",
        "centralizadas = centralizadas[~(centralizadas.TIPO_CENTRALIZACAO_ID==4)]\n",
        "centralizadas.drop(columns=['CONTATO', 'TELEFONE', 'CRIACAO', 'MODIFICACAO', 'TIPO_CENTRALIZACAO_ID', 'GESTORIA_ID'], inplace=True)\n",
        "for codigo in centralizadas.OM_CENTRALIZADA_ID.unique():\n",
        "  if centralizadas.OM_CENTRALIZADA_ID.value_counts().loc[codigo] > 1:\n",
        "    centralizadas.loc[centralizadas[centralizadas.OM_CENTRALIZADA_ID==codigo].sort_values(by='DATA_INICIO').index, 'DATA_FIM'] = centralizadas[centralizadas.OM_CENTRALIZADA_ID==codigo].sort_values(by='DATA_INICIO').DATA_INICIO.shift(-1)\n",
        "centralizadas.DATA_FIM.fillna(dt(2026, 1,1), inplace=True) # preenchendo os Not a Time com uma data no futuro. (É o caso das que não tem data fim)\n",
        "\n",
        "om_info = pd.read_csv('/content/MVP/dados/OM_202509051130.csv')"
      ]
    },
    {
      "cell_type": "code",
      "source": [
        "om_info.head()"
      ],
      "metadata": {
        "colab": {
          "base_uri": "https://localhost:8080/",
          "height": 516
        },
        "id": "vhzUZmg7a326",
        "outputId": "04fc6fef-985d-4670-f298-887f84a73827"
      },
      "id": "vhzUZmg7a326",
      "execution_count": 226,
      "outputs": [
        {
          "output_type": "execute_result",
          "data": {
            "text/plain": [
              "   DN_ID  AREA_ID     ID  CODIGO  \\\n",
              "0    4.0      2.0  10037   84330   \n",
              "1    1.0      2.0  10039   91622   \n",
              "2    7.0      2.0  10043   10000   \n",
              "3    1.0      2.0  10044   91901   \n",
              "4    1.0      2.0  10045   91600   \n",
              "\n",
              "                                               NOME TIPO INDICATIVO_NAVAL  \\\n",
              "0                     CAPITANIA DOS PORTOS DO PIAUI    T           CPPARN   \n",
              "1                                 FRAGATA DODSWORTH    N           FDODSW   \n",
              "2                             COMANDANTE DA MARINHA    T           COMMAR   \n",
              "3  CENTRO DE ADESTRAMENTO ALMIRANTE MARQUES DE LEÃO    I           CALEAO   \n",
              "4                    COMANDO DA FORÇA DE SUPERFÍCIE    T           FORPER   \n",
              "\n",
              "        SIGLA  COMIMSUP      ODS  ... COD_SQ_LOCAL TIPO_CONEXAO          CNPJ  \\\n",
              "0        CPPI       NaN  84000.0  ...         37.0            C  3.945020e+11   \n",
              "1  FDODSWORTH       NaN      NaN  ...         39.0            C           NaN   \n",
              "2          CM       NaN      NaN  ...         43.0            C           NaN   \n",
              "3       CAAML       NaN      NaN  ...         44.0            C  3.945020e+11   \n",
              "4   ComForSup       NaN      NaN  ...         45.0            C  3.945020e+11   \n",
              "\n",
              "                                            ENDERECO                  BAIRRO  \\\n",
              "0                  AVENIDA DAS NAÇÕES UNIDAS, Nº 530  NOSSA SENHORA DO CARMO   \n",
              "1                                                NaN                     NaN   \n",
              "2  ESPLANADA DOS MINISTERIOS - BLOCO N - 2o e 3o ...                     NaN   \n",
              "3                             ILHA DO MOCANGUÊ, S/Nº                 NITERÓI   \n",
              "4                                   ILHA DE MOCANGUÊ                  CENTRO   \n",
              "\n",
              "     CIDADE   UF       CEP                                TELEFONE SUB_DN_ID  \n",
              "0  PARNAIBA   PI  64200040                          (86) 3321.2770       4.0  \n",
              "1       NaN  NaN       NaN                                     NaN       1.0  \n",
              "2  BRASÍLIA   DF  70055900                                     NaN       7.0  \n",
              "3   NITERÓI   RJ  24040300  (0 XX 21) 2716-1325 Retelma: 8116-1325      30.0  \n",
              "4   NITERÓI   RJ  24040300                                     NaN       1.0  \n",
              "\n",
              "[5 rows x 22 columns]"
            ],
            "text/html": [
              "\n",
              "  <div id=\"df-9785ae6b-6487-4472-bced-aa26dbb3b849\" class=\"colab-df-container\">\n",
              "    <div>\n",
              "<style scoped>\n",
              "    .dataframe tbody tr th:only-of-type {\n",
              "        vertical-align: middle;\n",
              "    }\n",
              "\n",
              "    .dataframe tbody tr th {\n",
              "        vertical-align: top;\n",
              "    }\n",
              "\n",
              "    .dataframe thead th {\n",
              "        text-align: right;\n",
              "    }\n",
              "</style>\n",
              "<table border=\"1\" class=\"dataframe\">\n",
              "  <thead>\n",
              "    <tr style=\"text-align: right;\">\n",
              "      <th></th>\n",
              "      <th>DN_ID</th>\n",
              "      <th>AREA_ID</th>\n",
              "      <th>ID</th>\n",
              "      <th>CODIGO</th>\n",
              "      <th>NOME</th>\n",
              "      <th>TIPO</th>\n",
              "      <th>INDICATIVO_NAVAL</th>\n",
              "      <th>SIGLA</th>\n",
              "      <th>COMIMSUP</th>\n",
              "      <th>ODS</th>\n",
              "      <th>...</th>\n",
              "      <th>COD_SQ_LOCAL</th>\n",
              "      <th>TIPO_CONEXAO</th>\n",
              "      <th>CNPJ</th>\n",
              "      <th>ENDERECO</th>\n",
              "      <th>BAIRRO</th>\n",
              "      <th>CIDADE</th>\n",
              "      <th>UF</th>\n",
              "      <th>CEP</th>\n",
              "      <th>TELEFONE</th>\n",
              "      <th>SUB_DN_ID</th>\n",
              "    </tr>\n",
              "  </thead>\n",
              "  <tbody>\n",
              "    <tr>\n",
              "      <th>0</th>\n",
              "      <td>4.0</td>\n",
              "      <td>2.0</td>\n",
              "      <td>10037</td>\n",
              "      <td>84330</td>\n",
              "      <td>CAPITANIA DOS PORTOS DO PIAUI</td>\n",
              "      <td>T</td>\n",
              "      <td>CPPARN</td>\n",
              "      <td>CPPI</td>\n",
              "      <td>NaN</td>\n",
              "      <td>84000.0</td>\n",
              "      <td>...</td>\n",
              "      <td>37.0</td>\n",
              "      <td>C</td>\n",
              "      <td>3.945020e+11</td>\n",
              "      <td>AVENIDA DAS NAÇÕES UNIDAS, Nº 530</td>\n",
              "      <td>NOSSA SENHORA DO CARMO</td>\n",
              "      <td>PARNAIBA</td>\n",
              "      <td>PI</td>\n",
              "      <td>64200040</td>\n",
              "      <td>(86) 3321.2770</td>\n",
              "      <td>4.0</td>\n",
              "    </tr>\n",
              "    <tr>\n",
              "      <th>1</th>\n",
              "      <td>1.0</td>\n",
              "      <td>2.0</td>\n",
              "      <td>10039</td>\n",
              "      <td>91622</td>\n",
              "      <td>FRAGATA DODSWORTH</td>\n",
              "      <td>N</td>\n",
              "      <td>FDODSW</td>\n",
              "      <td>FDODSWORTH</td>\n",
              "      <td>NaN</td>\n",
              "      <td>NaN</td>\n",
              "      <td>...</td>\n",
              "      <td>39.0</td>\n",
              "      <td>C</td>\n",
              "      <td>NaN</td>\n",
              "      <td>NaN</td>\n",
              "      <td>NaN</td>\n",
              "      <td>NaN</td>\n",
              "      <td>NaN</td>\n",
              "      <td>NaN</td>\n",
              "      <td>NaN</td>\n",
              "      <td>1.0</td>\n",
              "    </tr>\n",
              "    <tr>\n",
              "      <th>2</th>\n",
              "      <td>7.0</td>\n",
              "      <td>2.0</td>\n",
              "      <td>10043</td>\n",
              "      <td>10000</td>\n",
              "      <td>COMANDANTE DA MARINHA</td>\n",
              "      <td>T</td>\n",
              "      <td>COMMAR</td>\n",
              "      <td>CM</td>\n",
              "      <td>NaN</td>\n",
              "      <td>NaN</td>\n",
              "      <td>...</td>\n",
              "      <td>43.0</td>\n",
              "      <td>C</td>\n",
              "      <td>NaN</td>\n",
              "      <td>ESPLANADA DOS MINISTERIOS - BLOCO N - 2o e 3o ...</td>\n",
              "      <td>NaN</td>\n",
              "      <td>BRASÍLIA</td>\n",
              "      <td>DF</td>\n",
              "      <td>70055900</td>\n",
              "      <td>NaN</td>\n",
              "      <td>7.0</td>\n",
              "    </tr>\n",
              "    <tr>\n",
              "      <th>3</th>\n",
              "      <td>1.0</td>\n",
              "      <td>2.0</td>\n",
              "      <td>10044</td>\n",
              "      <td>91901</td>\n",
              "      <td>CENTRO DE ADESTRAMENTO ALMIRANTE MARQUES DE LEÃO</td>\n",
              "      <td>I</td>\n",
              "      <td>CALEAO</td>\n",
              "      <td>CAAML</td>\n",
              "      <td>NaN</td>\n",
              "      <td>NaN</td>\n",
              "      <td>...</td>\n",
              "      <td>44.0</td>\n",
              "      <td>C</td>\n",
              "      <td>3.945020e+11</td>\n",
              "      <td>ILHA DO MOCANGUÊ, S/Nº</td>\n",
              "      <td>NITERÓI</td>\n",
              "      <td>NITERÓI</td>\n",
              "      <td>RJ</td>\n",
              "      <td>24040300</td>\n",
              "      <td>(0 XX 21) 2716-1325 Retelma: 8116-1325</td>\n",
              "      <td>30.0</td>\n",
              "    </tr>\n",
              "    <tr>\n",
              "      <th>4</th>\n",
              "      <td>1.0</td>\n",
              "      <td>2.0</td>\n",
              "      <td>10045</td>\n",
              "      <td>91600</td>\n",
              "      <td>COMANDO DA FORÇA DE SUPERFÍCIE</td>\n",
              "      <td>T</td>\n",
              "      <td>FORPER</td>\n",
              "      <td>ComForSup</td>\n",
              "      <td>NaN</td>\n",
              "      <td>NaN</td>\n",
              "      <td>...</td>\n",
              "      <td>45.0</td>\n",
              "      <td>C</td>\n",
              "      <td>3.945020e+11</td>\n",
              "      <td>ILHA DE MOCANGUÊ</td>\n",
              "      <td>CENTRO</td>\n",
              "      <td>NITERÓI</td>\n",
              "      <td>RJ</td>\n",
              "      <td>24040300</td>\n",
              "      <td>NaN</td>\n",
              "      <td>1.0</td>\n",
              "    </tr>\n",
              "  </tbody>\n",
              "</table>\n",
              "<p>5 rows × 22 columns</p>\n",
              "</div>\n",
              "    <div class=\"colab-df-buttons\">\n",
              "\n",
              "  <div class=\"colab-df-container\">\n",
              "    <button class=\"colab-df-convert\" onclick=\"convertToInteractive('df-9785ae6b-6487-4472-bced-aa26dbb3b849')\"\n",
              "            title=\"Convert this dataframe to an interactive table.\"\n",
              "            style=\"display:none;\">\n",
              "\n",
              "  <svg xmlns=\"http://www.w3.org/2000/svg\" height=\"24px\" viewBox=\"0 -960 960 960\">\n",
              "    <path d=\"M120-120v-720h720v720H120Zm60-500h600v-160H180v160Zm220 220h160v-160H400v160Zm0 220h160v-160H400v160ZM180-400h160v-160H180v160Zm440 0h160v-160H620v160ZM180-180h160v-160H180v160Zm440 0h160v-160H620v160Z\"/>\n",
              "  </svg>\n",
              "    </button>\n",
              "\n",
              "  <style>\n",
              "    .colab-df-container {\n",
              "      display:flex;\n",
              "      gap: 12px;\n",
              "    }\n",
              "\n",
              "    .colab-df-convert {\n",
              "      background-color: #E8F0FE;\n",
              "      border: none;\n",
              "      border-radius: 50%;\n",
              "      cursor: pointer;\n",
              "      display: none;\n",
              "      fill: #1967D2;\n",
              "      height: 32px;\n",
              "      padding: 0 0 0 0;\n",
              "      width: 32px;\n",
              "    }\n",
              "\n",
              "    .colab-df-convert:hover {\n",
              "      background-color: #E2EBFA;\n",
              "      box-shadow: 0px 1px 2px rgba(60, 64, 67, 0.3), 0px 1px 3px 1px rgba(60, 64, 67, 0.15);\n",
              "      fill: #174EA6;\n",
              "    }\n",
              "\n",
              "    .colab-df-buttons div {\n",
              "      margin-bottom: 4px;\n",
              "    }\n",
              "\n",
              "    [theme=dark] .colab-df-convert {\n",
              "      background-color: #3B4455;\n",
              "      fill: #D2E3FC;\n",
              "    }\n",
              "\n",
              "    [theme=dark] .colab-df-convert:hover {\n",
              "      background-color: #434B5C;\n",
              "      box-shadow: 0px 1px 3px 1px rgba(0, 0, 0, 0.15);\n",
              "      filter: drop-shadow(0px 1px 2px rgba(0, 0, 0, 0.3));\n",
              "      fill: #FFFFFF;\n",
              "    }\n",
              "  </style>\n",
              "\n",
              "    <script>\n",
              "      const buttonEl =\n",
              "        document.querySelector('#df-9785ae6b-6487-4472-bced-aa26dbb3b849 button.colab-df-convert');\n",
              "      buttonEl.style.display =\n",
              "        google.colab.kernel.accessAllowed ? 'block' : 'none';\n",
              "\n",
              "      async function convertToInteractive(key) {\n",
              "        const element = document.querySelector('#df-9785ae6b-6487-4472-bced-aa26dbb3b849');\n",
              "        const dataTable =\n",
              "          await google.colab.kernel.invokeFunction('convertToInteractive',\n",
              "                                                    [key], {});\n",
              "        if (!dataTable) return;\n",
              "\n",
              "        const docLinkHtml = 'Like what you see? Visit the ' +\n",
              "          '<a target=\"_blank\" href=https://colab.research.google.com/notebooks/data_table.ipynb>data table notebook</a>'\n",
              "          + ' to learn more about interactive tables.';\n",
              "        element.innerHTML = '';\n",
              "        dataTable['output_type'] = 'display_data';\n",
              "        await google.colab.output.renderOutput(dataTable, element);\n",
              "        const docLink = document.createElement('div');\n",
              "        docLink.innerHTML = docLinkHtml;\n",
              "        element.appendChild(docLink);\n",
              "      }\n",
              "    </script>\n",
              "  </div>\n",
              "\n",
              "\n",
              "    <div id=\"df-3a80e407-2685-43b2-a0ae-8cf0cb99f89b\">\n",
              "      <button class=\"colab-df-quickchart\" onclick=\"quickchart('df-3a80e407-2685-43b2-a0ae-8cf0cb99f89b')\"\n",
              "                title=\"Suggest charts\"\n",
              "                style=\"display:none;\">\n",
              "\n",
              "<svg xmlns=\"http://www.w3.org/2000/svg\" height=\"24px\"viewBox=\"0 0 24 24\"\n",
              "     width=\"24px\">\n",
              "    <g>\n",
              "        <path d=\"M19 3H5c-1.1 0-2 .9-2 2v14c0 1.1.9 2 2 2h14c1.1 0 2-.9 2-2V5c0-1.1-.9-2-2-2zM9 17H7v-7h2v7zm4 0h-2V7h2v10zm4 0h-2v-4h2v4z\"/>\n",
              "    </g>\n",
              "</svg>\n",
              "      </button>\n",
              "\n",
              "<style>\n",
              "  .colab-df-quickchart {\n",
              "      --bg-color: #E8F0FE;\n",
              "      --fill-color: #1967D2;\n",
              "      --hover-bg-color: #E2EBFA;\n",
              "      --hover-fill-color: #174EA6;\n",
              "      --disabled-fill-color: #AAA;\n",
              "      --disabled-bg-color: #DDD;\n",
              "  }\n",
              "\n",
              "  [theme=dark] .colab-df-quickchart {\n",
              "      --bg-color: #3B4455;\n",
              "      --fill-color: #D2E3FC;\n",
              "      --hover-bg-color: #434B5C;\n",
              "      --hover-fill-color: #FFFFFF;\n",
              "      --disabled-bg-color: #3B4455;\n",
              "      --disabled-fill-color: #666;\n",
              "  }\n",
              "\n",
              "  .colab-df-quickchart {\n",
              "    background-color: var(--bg-color);\n",
              "    border: none;\n",
              "    border-radius: 50%;\n",
              "    cursor: pointer;\n",
              "    display: none;\n",
              "    fill: var(--fill-color);\n",
              "    height: 32px;\n",
              "    padding: 0;\n",
              "    width: 32px;\n",
              "  }\n",
              "\n",
              "  .colab-df-quickchart:hover {\n",
              "    background-color: var(--hover-bg-color);\n",
              "    box-shadow: 0 1px 2px rgba(60, 64, 67, 0.3), 0 1px 3px 1px rgba(60, 64, 67, 0.15);\n",
              "    fill: var(--button-hover-fill-color);\n",
              "  }\n",
              "\n",
              "  .colab-df-quickchart-complete:disabled,\n",
              "  .colab-df-quickchart-complete:disabled:hover {\n",
              "    background-color: var(--disabled-bg-color);\n",
              "    fill: var(--disabled-fill-color);\n",
              "    box-shadow: none;\n",
              "  }\n",
              "\n",
              "  .colab-df-spinner {\n",
              "    border: 2px solid var(--fill-color);\n",
              "    border-color: transparent;\n",
              "    border-bottom-color: var(--fill-color);\n",
              "    animation:\n",
              "      spin 1s steps(1) infinite;\n",
              "  }\n",
              "\n",
              "  @keyframes spin {\n",
              "    0% {\n",
              "      border-color: transparent;\n",
              "      border-bottom-color: var(--fill-color);\n",
              "      border-left-color: var(--fill-color);\n",
              "    }\n",
              "    20% {\n",
              "      border-color: transparent;\n",
              "      border-left-color: var(--fill-color);\n",
              "      border-top-color: var(--fill-color);\n",
              "    }\n",
              "    30% {\n",
              "      border-color: transparent;\n",
              "      border-left-color: var(--fill-color);\n",
              "      border-top-color: var(--fill-color);\n",
              "      border-right-color: var(--fill-color);\n",
              "    }\n",
              "    40% {\n",
              "      border-color: transparent;\n",
              "      border-right-color: var(--fill-color);\n",
              "      border-top-color: var(--fill-color);\n",
              "    }\n",
              "    60% {\n",
              "      border-color: transparent;\n",
              "      border-right-color: var(--fill-color);\n",
              "    }\n",
              "    80% {\n",
              "      border-color: transparent;\n",
              "      border-right-color: var(--fill-color);\n",
              "      border-bottom-color: var(--fill-color);\n",
              "    }\n",
              "    90% {\n",
              "      border-color: transparent;\n",
              "      border-bottom-color: var(--fill-color);\n",
              "    }\n",
              "  }\n",
              "</style>\n",
              "\n",
              "      <script>\n",
              "        async function quickchart(key) {\n",
              "          const quickchartButtonEl =\n",
              "            document.querySelector('#' + key + ' button');\n",
              "          quickchartButtonEl.disabled = true;  // To prevent multiple clicks.\n",
              "          quickchartButtonEl.classList.add('colab-df-spinner');\n",
              "          try {\n",
              "            const charts = await google.colab.kernel.invokeFunction(\n",
              "                'suggestCharts', [key], {});\n",
              "          } catch (error) {\n",
              "            console.error('Error during call to suggestCharts:', error);\n",
              "          }\n",
              "          quickchartButtonEl.classList.remove('colab-df-spinner');\n",
              "          quickchartButtonEl.classList.add('colab-df-quickchart-complete');\n",
              "        }\n",
              "        (() => {\n",
              "          let quickchartButtonEl =\n",
              "            document.querySelector('#df-3a80e407-2685-43b2-a0ae-8cf0cb99f89b button');\n",
              "          quickchartButtonEl.style.display =\n",
              "            google.colab.kernel.accessAllowed ? 'block' : 'none';\n",
              "        })();\n",
              "      </script>\n",
              "    </div>\n",
              "\n",
              "    </div>\n",
              "  </div>\n"
            ],
            "application/vnd.google.colaboratory.intrinsic+json": {
              "type": "dataframe",
              "variable_name": "om_info"
            }
          },
          "metadata": {},
          "execution_count": 226
        }
      ]
    },
    {
      "cell_type": "code",
      "source": [
        "import requests\n",
        "url = 'https://maps.googleapis.com/maps/api/geocode/json'\n",
        "params = {'sensor': 'false', 'address': 'Avenida Rio Branco 1, Rio de Janeiro'}\n",
        "r = requests.get(url, params=params)"
      ],
      "metadata": {
        "id": "6Y4vslA2oYOJ"
      },
      "id": "6Y4vslA2oYOJ",
      "execution_count": 259,
      "outputs": []
    },
    {
      "cell_type": "code",
      "source": [
        "r.json()"
      ],
      "metadata": {
        "id": "cDLu6N98pPTh",
        "outputId": "d117096d-b04b-4ece-9d6c-789c560f7f64",
        "colab": {
          "base_uri": "https://localhost:8080/"
        }
      },
      "id": "cDLu6N98pPTh",
      "execution_count": 261,
      "outputs": [
        {
          "output_type": "execute_result",
          "data": {
            "text/plain": [
              "{'error_message': 'You must use an API key to authenticate each request to Google Maps Platform APIs. For additional information, please refer to http://g.co/dev/maps-no-account',\n",
              " 'results': [],\n",
              " 'status': 'REQUEST_DENIED'}"
            ]
          },
          "metadata": {},
          "execution_count": 261
        }
      ]
    },
    {
      "cell_type": "code",
      "source": [
        "om_info.ENDERECO"
      ],
      "metadata": {
        "id": "CRC94TcNodyP",
        "outputId": "3a236c5f-880c-4f43-e92b-643b3602f1ae",
        "colab": {
          "base_uri": "https://localhost:8080/",
          "height": 458
        }
      },
      "id": "CRC94TcNodyP",
      "execution_count": 256,
      "outputs": [
        {
          "output_type": "execute_result",
          "data": {
            "text/plain": [
              "0                      AVENIDA DAS NAÇÕES UNIDAS, Nº 530\n",
              "1                                                    NaN\n",
              "2      ESPLANADA DOS MINISTERIOS - BLOCO N - 2o e 3o ...\n",
              "3                                 ILHA DO MOCANGUÊ, S/Nº\n",
              "4                                       ILHA DE MOCANGUÊ\n",
              "                             ...                        \n",
              "546                        Ilha de Mocanguê Grande, nº 0\n",
              "547         Estrada Prefeito Wilson Pedro Francisco S/Nº\n",
              "548                       Avenida Cidade de Santos, S/N°\n",
              "549                      Ilha de Mocanguê Pequeno - S/N°\n",
              "550                      Rua da Ponte, s/nº, Edifício 23\n",
              "Name: ENDERECO, Length: 551, dtype: object"
            ],
            "text/html": [
              "<div>\n",
              "<style scoped>\n",
              "    .dataframe tbody tr th:only-of-type {\n",
              "        vertical-align: middle;\n",
              "    }\n",
              "\n",
              "    .dataframe tbody tr th {\n",
              "        vertical-align: top;\n",
              "    }\n",
              "\n",
              "    .dataframe thead th {\n",
              "        text-align: right;\n",
              "    }\n",
              "</style>\n",
              "<table border=\"1\" class=\"dataframe\">\n",
              "  <thead>\n",
              "    <tr style=\"text-align: right;\">\n",
              "      <th></th>\n",
              "      <th>ENDERECO</th>\n",
              "    </tr>\n",
              "  </thead>\n",
              "  <tbody>\n",
              "    <tr>\n",
              "      <th>0</th>\n",
              "      <td>AVENIDA DAS NAÇÕES UNIDAS, Nº 530</td>\n",
              "    </tr>\n",
              "    <tr>\n",
              "      <th>1</th>\n",
              "      <td>NaN</td>\n",
              "    </tr>\n",
              "    <tr>\n",
              "      <th>2</th>\n",
              "      <td>ESPLANADA DOS MINISTERIOS - BLOCO N - 2o e 3o ...</td>\n",
              "    </tr>\n",
              "    <tr>\n",
              "      <th>3</th>\n",
              "      <td>ILHA DO MOCANGUÊ, S/Nº</td>\n",
              "    </tr>\n",
              "    <tr>\n",
              "      <th>4</th>\n",
              "      <td>ILHA DE MOCANGUÊ</td>\n",
              "    </tr>\n",
              "    <tr>\n",
              "      <th>...</th>\n",
              "      <td>...</td>\n",
              "    </tr>\n",
              "    <tr>\n",
              "      <th>546</th>\n",
              "      <td>Ilha de Mocanguê Grande, nº 0</td>\n",
              "    </tr>\n",
              "    <tr>\n",
              "      <th>547</th>\n",
              "      <td>Estrada Prefeito Wilson Pedro Francisco S/Nº</td>\n",
              "    </tr>\n",
              "    <tr>\n",
              "      <th>548</th>\n",
              "      <td>Avenida Cidade de Santos, S/N°</td>\n",
              "    </tr>\n",
              "    <tr>\n",
              "      <th>549</th>\n",
              "      <td>Ilha de Mocanguê Pequeno - S/N°</td>\n",
              "    </tr>\n",
              "    <tr>\n",
              "      <th>550</th>\n",
              "      <td>Rua da Ponte, s/nº, Edifício 23</td>\n",
              "    </tr>\n",
              "  </tbody>\n",
              "</table>\n",
              "<p>551 rows × 1 columns</p>\n",
              "</div><br><label><b>dtype:</b> object</label>"
            ]
          },
          "metadata": {},
          "execution_count": 256
        }
      ]
    },
    {
      "cell_type": "code",
      "source": [
        "from geopy.geocoders import Nominatim\n",
        "import time\n",
        "from warnings import filterwarnings\n",
        "filterwarnings('ignore')\n",
        "\n",
        "from geo\n",
        "\n",
        "geolocator = Nominatim(user_agent=\"cep_om\", timeout=10)\n",
        "\n",
        "locations = {}\n",
        "for i, cep in enumerate(om_info.CEP.unique()):\n",
        "  locations[cep] = geolocator.geocode(cep)\n",
        "  print(i)\n",
        "  time.sleep(1)"
      ],
      "metadata": {
        "id": "Prh96tTfkXKT",
        "outputId": "49e60d2c-5f38-4f51-ffc9-f3496c144a67",
        "colab": {
          "base_uri": "https://localhost:8080/",
          "height": 845
        }
      },
      "id": "Prh96tTfkXKT",
      "execution_count": 255,
      "outputs": [
        {
          "output_type": "stream",
          "name": "stderr",
          "text": [
            "WARNING:urllib3.connectionpool:Retrying (Retry(total=1, connect=None, read=None, redirect=None, status=None)) after connection broken by 'NewConnectionError('<urllib3.connection.HTTPSConnection object at 0x7c6af98e5190>: Failed to establish a new connection: [Errno 111] Connection refused')': /search?q=64200040&format=json&limit=1\n",
            "WARNING:urllib3.connectionpool:Retrying (Retry(total=0, connect=None, read=None, redirect=None, status=None)) after connection broken by 'NewConnectionError('<urllib3.connection.HTTPSConnection object at 0x7c6af99f3aa0>: Failed to establish a new connection: [Errno 111] Connection refused')': /search?q=64200040&format=json&limit=1\n"
          ]
        },
        {
          "output_type": "error",
          "ename": "GeocoderUnavailable",
          "evalue": "HTTPSConnectionPool(host='nominatim.openstreetmap.org', port=443): Max retries exceeded with url: /search?q=64200040&format=json&limit=1 (Caused by NewConnectionError('<urllib3.connection.HTTPSConnection object at 0x7c6af98e4d10>: Failed to establish a new connection: [Errno 111] Connection refused'))",
          "traceback": [
            "\u001b[0;31m---------------------------------------------------------------------------\u001b[0m",
            "\u001b[0;31mConnectionRefusedError\u001b[0m                    Traceback (most recent call last)",
            "\u001b[0;32m/usr/local/lib/python3.12/dist-packages/urllib3/connection.py\u001b[0m in \u001b[0;36m_new_conn\u001b[0;34m(self)\u001b[0m\n\u001b[1;32m    197\u001b[0m         \u001b[0;32mtry\u001b[0m\u001b[0;34m:\u001b[0m\u001b[0;34m\u001b[0m\u001b[0;34m\u001b[0m\u001b[0m\n\u001b[0;32m--> 198\u001b[0;31m             sock = connection.create_connection(\n\u001b[0m\u001b[1;32m    199\u001b[0m                 \u001b[0;34m(\u001b[0m\u001b[0mself\u001b[0m\u001b[0;34m.\u001b[0m\u001b[0m_dns_host\u001b[0m\u001b[0;34m,\u001b[0m \u001b[0mself\u001b[0m\u001b[0;34m.\u001b[0m\u001b[0mport\u001b[0m\u001b[0;34m)\u001b[0m\u001b[0;34m,\u001b[0m\u001b[0;34m\u001b[0m\u001b[0;34m\u001b[0m\u001b[0m\n",
            "\u001b[0;32m/usr/local/lib/python3.12/dist-packages/urllib3/util/connection.py\u001b[0m in \u001b[0;36mcreate_connection\u001b[0;34m(address, timeout, source_address, socket_options)\u001b[0m\n\u001b[1;32m     84\u001b[0m         \u001b[0;32mtry\u001b[0m\u001b[0;34m:\u001b[0m\u001b[0;34m\u001b[0m\u001b[0;34m\u001b[0m\u001b[0m\n\u001b[0;32m---> 85\u001b[0;31m             \u001b[0;32mraise\u001b[0m \u001b[0merr\u001b[0m\u001b[0;34m\u001b[0m\u001b[0;34m\u001b[0m\u001b[0m\n\u001b[0m\u001b[1;32m     86\u001b[0m         \u001b[0;32mfinally\u001b[0m\u001b[0;34m:\u001b[0m\u001b[0;34m\u001b[0m\u001b[0;34m\u001b[0m\u001b[0m\n",
            "\u001b[0;32m/usr/local/lib/python3.12/dist-packages/urllib3/util/connection.py\u001b[0m in \u001b[0;36mcreate_connection\u001b[0;34m(address, timeout, source_address, socket_options)\u001b[0m\n\u001b[1;32m     72\u001b[0m                 \u001b[0msock\u001b[0m\u001b[0;34m.\u001b[0m\u001b[0mbind\u001b[0m\u001b[0;34m(\u001b[0m\u001b[0msource_address\u001b[0m\u001b[0;34m)\u001b[0m\u001b[0;34m\u001b[0m\u001b[0;34m\u001b[0m\u001b[0m\n\u001b[0;32m---> 73\u001b[0;31m             \u001b[0msock\u001b[0m\u001b[0;34m.\u001b[0m\u001b[0mconnect\u001b[0m\u001b[0;34m(\u001b[0m\u001b[0msa\u001b[0m\u001b[0;34m)\u001b[0m\u001b[0;34m\u001b[0m\u001b[0;34m\u001b[0m\u001b[0m\n\u001b[0m\u001b[1;32m     74\u001b[0m             \u001b[0;31m# Break explicitly a reference cycle\u001b[0m\u001b[0;34m\u001b[0m\u001b[0;34m\u001b[0m\u001b[0m\n",
            "\u001b[0;31mConnectionRefusedError\u001b[0m: [Errno 111] Connection refused",
            "\nThe above exception was the direct cause of the following exception:\n",
            "\u001b[0;31mNewConnectionError\u001b[0m                        Traceback (most recent call last)",
            "\u001b[0;32m/usr/local/lib/python3.12/dist-packages/urllib3/connectionpool.py\u001b[0m in \u001b[0;36murlopen\u001b[0;34m(self, method, url, body, headers, retries, redirect, assert_same_host, timeout, pool_timeout, release_conn, chunked, body_pos, preload_content, decode_content, **response_kw)\u001b[0m\n\u001b[1;32m    786\u001b[0m             \u001b[0;31m# Make the request on the HTTPConnection object\u001b[0m\u001b[0;34m\u001b[0m\u001b[0;34m\u001b[0m\u001b[0m\n\u001b[0;32m--> 787\u001b[0;31m             response = self._make_request(\n\u001b[0m\u001b[1;32m    788\u001b[0m                 \u001b[0mconn\u001b[0m\u001b[0;34m,\u001b[0m\u001b[0;34m\u001b[0m\u001b[0;34m\u001b[0m\u001b[0m\n",
            "\u001b[0;32m/usr/local/lib/python3.12/dist-packages/urllib3/connectionpool.py\u001b[0m in \u001b[0;36m_make_request\u001b[0;34m(self, conn, method, url, body, headers, retries, timeout, chunked, response_conn, preload_content, decode_content, enforce_content_length)\u001b[0m\n\u001b[1;32m    487\u001b[0m                 \u001b[0mnew_e\u001b[0m \u001b[0;34m=\u001b[0m \u001b[0m_wrap_proxy_error\u001b[0m\u001b[0;34m(\u001b[0m\u001b[0mnew_e\u001b[0m\u001b[0;34m,\u001b[0m \u001b[0mconn\u001b[0m\u001b[0;34m.\u001b[0m\u001b[0mproxy\u001b[0m\u001b[0;34m.\u001b[0m\u001b[0mscheme\u001b[0m\u001b[0;34m)\u001b[0m\u001b[0;34m\u001b[0m\u001b[0;34m\u001b[0m\u001b[0m\n\u001b[0;32m--> 488\u001b[0;31m             \u001b[0;32mraise\u001b[0m \u001b[0mnew_e\u001b[0m\u001b[0;34m\u001b[0m\u001b[0;34m\u001b[0m\u001b[0m\n\u001b[0m\u001b[1;32m    489\u001b[0m \u001b[0;34m\u001b[0m\u001b[0m\n",
            "\u001b[0;32m/usr/local/lib/python3.12/dist-packages/urllib3/connectionpool.py\u001b[0m in \u001b[0;36m_make_request\u001b[0;34m(self, conn, method, url, body, headers, retries, timeout, chunked, response_conn, preload_content, decode_content, enforce_content_length)\u001b[0m\n\u001b[1;32m    463\u001b[0m             \u001b[0;32mtry\u001b[0m\u001b[0;34m:\u001b[0m\u001b[0;34m\u001b[0m\u001b[0;34m\u001b[0m\u001b[0m\n\u001b[0;32m--> 464\u001b[0;31m                 \u001b[0mself\u001b[0m\u001b[0;34m.\u001b[0m\u001b[0m_validate_conn\u001b[0m\u001b[0;34m(\u001b[0m\u001b[0mconn\u001b[0m\u001b[0;34m)\u001b[0m\u001b[0;34m\u001b[0m\u001b[0;34m\u001b[0m\u001b[0m\n\u001b[0m\u001b[1;32m    465\u001b[0m             \u001b[0;32mexcept\u001b[0m \u001b[0;34m(\u001b[0m\u001b[0mSocketTimeout\u001b[0m\u001b[0;34m,\u001b[0m \u001b[0mBaseSSLError\u001b[0m\u001b[0;34m)\u001b[0m \u001b[0;32mas\u001b[0m \u001b[0me\u001b[0m\u001b[0;34m:\u001b[0m\u001b[0;34m\u001b[0m\u001b[0;34m\u001b[0m\u001b[0m\n",
            "\u001b[0;32m/usr/local/lib/python3.12/dist-packages/urllib3/connectionpool.py\u001b[0m in \u001b[0;36m_validate_conn\u001b[0;34m(self, conn)\u001b[0m\n\u001b[1;32m   1092\u001b[0m         \u001b[0;32mif\u001b[0m \u001b[0mconn\u001b[0m\u001b[0;34m.\u001b[0m\u001b[0mis_closed\u001b[0m\u001b[0;34m:\u001b[0m\u001b[0;34m\u001b[0m\u001b[0;34m\u001b[0m\u001b[0m\n\u001b[0;32m-> 1093\u001b[0;31m             \u001b[0mconn\u001b[0m\u001b[0;34m.\u001b[0m\u001b[0mconnect\u001b[0m\u001b[0;34m(\u001b[0m\u001b[0;34m)\u001b[0m\u001b[0;34m\u001b[0m\u001b[0;34m\u001b[0m\u001b[0m\n\u001b[0m\u001b[1;32m   1094\u001b[0m \u001b[0;34m\u001b[0m\u001b[0m\n",
            "\u001b[0;32m/usr/local/lib/python3.12/dist-packages/urllib3/connection.py\u001b[0m in \u001b[0;36mconnect\u001b[0;34m(self)\u001b[0m\n\u001b[1;32m    752\u001b[0m             \u001b[0msock\u001b[0m\u001b[0;34m:\u001b[0m \u001b[0msocket\u001b[0m\u001b[0;34m.\u001b[0m\u001b[0msocket\u001b[0m \u001b[0;34m|\u001b[0m \u001b[0mssl\u001b[0m\u001b[0;34m.\u001b[0m\u001b[0mSSLSocket\u001b[0m\u001b[0;34m\u001b[0m\u001b[0;34m\u001b[0m\u001b[0m\n\u001b[0;32m--> 753\u001b[0;31m             \u001b[0mself\u001b[0m\u001b[0;34m.\u001b[0m\u001b[0msock\u001b[0m \u001b[0;34m=\u001b[0m \u001b[0msock\u001b[0m \u001b[0;34m=\u001b[0m \u001b[0mself\u001b[0m\u001b[0;34m.\u001b[0m\u001b[0m_new_conn\u001b[0m\u001b[0;34m(\u001b[0m\u001b[0;34m)\u001b[0m\u001b[0;34m\u001b[0m\u001b[0;34m\u001b[0m\u001b[0m\n\u001b[0m\u001b[1;32m    754\u001b[0m             \u001b[0mserver_hostname\u001b[0m\u001b[0;34m:\u001b[0m \u001b[0mstr\u001b[0m \u001b[0;34m=\u001b[0m \u001b[0mself\u001b[0m\u001b[0;34m.\u001b[0m\u001b[0mhost\u001b[0m\u001b[0;34m\u001b[0m\u001b[0;34m\u001b[0m\u001b[0m\n",
            "\u001b[0;32m/usr/local/lib/python3.12/dist-packages/urllib3/connection.py\u001b[0m in \u001b[0;36m_new_conn\u001b[0;34m(self)\u001b[0m\n\u001b[1;32m    212\u001b[0m         \u001b[0;32mexcept\u001b[0m \u001b[0mOSError\u001b[0m \u001b[0;32mas\u001b[0m \u001b[0me\u001b[0m\u001b[0;34m:\u001b[0m\u001b[0;34m\u001b[0m\u001b[0;34m\u001b[0m\u001b[0m\n\u001b[0;32m--> 213\u001b[0;31m             raise NewConnectionError(\n\u001b[0m\u001b[1;32m    214\u001b[0m                 \u001b[0mself\u001b[0m\u001b[0;34m,\u001b[0m \u001b[0;34mf\"Failed to establish a new connection: {e}\"\u001b[0m\u001b[0;34m\u001b[0m\u001b[0;34m\u001b[0m\u001b[0m\n",
            "\u001b[0;31mNewConnectionError\u001b[0m: <urllib3.connection.HTTPSConnection object at 0x7c6af98e4d10>: Failed to establish a new connection: [Errno 111] Connection refused",
            "\nThe above exception was the direct cause of the following exception:\n",
            "\u001b[0;31mMaxRetryError\u001b[0m                             Traceback (most recent call last)",
            "\u001b[0;32m/usr/local/lib/python3.12/dist-packages/requests/adapters.py\u001b[0m in \u001b[0;36msend\u001b[0;34m(self, request, stream, timeout, verify, cert, proxies)\u001b[0m\n\u001b[1;32m    666\u001b[0m         \u001b[0;32mtry\u001b[0m\u001b[0;34m:\u001b[0m\u001b[0;34m\u001b[0m\u001b[0;34m\u001b[0m\u001b[0m\n\u001b[0;32m--> 667\u001b[0;31m             resp = conn.urlopen(\n\u001b[0m\u001b[1;32m    668\u001b[0m                 \u001b[0mmethod\u001b[0m\u001b[0;34m=\u001b[0m\u001b[0mrequest\u001b[0m\u001b[0;34m.\u001b[0m\u001b[0mmethod\u001b[0m\u001b[0;34m,\u001b[0m\u001b[0;34m\u001b[0m\u001b[0;34m\u001b[0m\u001b[0m\n",
            "\u001b[0;32m/usr/local/lib/python3.12/dist-packages/urllib3/connectionpool.py\u001b[0m in \u001b[0;36murlopen\u001b[0;34m(self, method, url, body, headers, retries, redirect, assert_same_host, timeout, pool_timeout, release_conn, chunked, body_pos, preload_content, decode_content, **response_kw)\u001b[0m\n\u001b[1;32m    870\u001b[0m             )\n\u001b[0;32m--> 871\u001b[0;31m             return self.urlopen(\n\u001b[0m\u001b[1;32m    872\u001b[0m                 \u001b[0mmethod\u001b[0m\u001b[0;34m,\u001b[0m\u001b[0;34m\u001b[0m\u001b[0;34m\u001b[0m\u001b[0m\n",
            "\u001b[0;32m/usr/local/lib/python3.12/dist-packages/urllib3/connectionpool.py\u001b[0m in \u001b[0;36murlopen\u001b[0;34m(self, method, url, body, headers, retries, redirect, assert_same_host, timeout, pool_timeout, release_conn, chunked, body_pos, preload_content, decode_content, **response_kw)\u001b[0m\n\u001b[1;32m    870\u001b[0m             )\n\u001b[0;32m--> 871\u001b[0;31m             return self.urlopen(\n\u001b[0m\u001b[1;32m    872\u001b[0m                 \u001b[0mmethod\u001b[0m\u001b[0;34m,\u001b[0m\u001b[0;34m\u001b[0m\u001b[0;34m\u001b[0m\u001b[0m\n",
            "\u001b[0;32m/usr/local/lib/python3.12/dist-packages/urllib3/connectionpool.py\u001b[0m in \u001b[0;36murlopen\u001b[0;34m(self, method, url, body, headers, retries, redirect, assert_same_host, timeout, pool_timeout, release_conn, chunked, body_pos, preload_content, decode_content, **response_kw)\u001b[0m\n\u001b[1;32m    840\u001b[0m \u001b[0;34m\u001b[0m\u001b[0m\n\u001b[0;32m--> 841\u001b[0;31m             retries = retries.increment(\n\u001b[0m\u001b[1;32m    842\u001b[0m                 \u001b[0mmethod\u001b[0m\u001b[0;34m,\u001b[0m \u001b[0murl\u001b[0m\u001b[0;34m,\u001b[0m \u001b[0merror\u001b[0m\u001b[0;34m=\u001b[0m\u001b[0mnew_e\u001b[0m\u001b[0;34m,\u001b[0m \u001b[0m_pool\u001b[0m\u001b[0;34m=\u001b[0m\u001b[0mself\u001b[0m\u001b[0;34m,\u001b[0m \u001b[0m_stacktrace\u001b[0m\u001b[0;34m=\u001b[0m\u001b[0msys\u001b[0m\u001b[0;34m.\u001b[0m\u001b[0mexc_info\u001b[0m\u001b[0;34m(\u001b[0m\u001b[0;34m)\u001b[0m\u001b[0;34m[\u001b[0m\u001b[0;36m2\u001b[0m\u001b[0;34m]\u001b[0m\u001b[0;34m\u001b[0m\u001b[0;34m\u001b[0m\u001b[0m\n",
            "\u001b[0;32m/usr/local/lib/python3.12/dist-packages/urllib3/util/retry.py\u001b[0m in \u001b[0;36mincrement\u001b[0;34m(self, method, url, response, error, _pool, _stacktrace)\u001b[0m\n\u001b[1;32m    518\u001b[0m             \u001b[0mreason\u001b[0m \u001b[0;34m=\u001b[0m \u001b[0merror\u001b[0m \u001b[0;32mor\u001b[0m \u001b[0mResponseError\u001b[0m\u001b[0;34m(\u001b[0m\u001b[0mcause\u001b[0m\u001b[0;34m)\u001b[0m\u001b[0;34m\u001b[0m\u001b[0;34m\u001b[0m\u001b[0m\n\u001b[0;32m--> 519\u001b[0;31m             \u001b[0;32mraise\u001b[0m \u001b[0mMaxRetryError\u001b[0m\u001b[0;34m(\u001b[0m\u001b[0m_pool\u001b[0m\u001b[0;34m,\u001b[0m \u001b[0murl\u001b[0m\u001b[0;34m,\u001b[0m \u001b[0mreason\u001b[0m\u001b[0;34m)\u001b[0m \u001b[0;32mfrom\u001b[0m \u001b[0mreason\u001b[0m  \u001b[0;31m# type: ignore[arg-type]\u001b[0m\u001b[0;34m\u001b[0m\u001b[0;34m\u001b[0m\u001b[0m\n\u001b[0m\u001b[1;32m    520\u001b[0m \u001b[0;34m\u001b[0m\u001b[0m\n",
            "\u001b[0;31mMaxRetryError\u001b[0m: HTTPSConnectionPool(host='nominatim.openstreetmap.org', port=443): Max retries exceeded with url: /search?q=64200040&format=json&limit=1 (Caused by NewConnectionError('<urllib3.connection.HTTPSConnection object at 0x7c6af98e4d10>: Failed to establish a new connection: [Errno 111] Connection refused'))",
            "\nDuring handling of the above exception, another exception occurred:\n",
            "\u001b[0;31mConnectionError\u001b[0m                           Traceback (most recent call last)",
            "\u001b[0;32m/usr/local/lib/python3.12/dist-packages/geopy/adapters.py\u001b[0m in \u001b[0;36m_request\u001b[0;34m(self, url, timeout, headers)\u001b[0m\n\u001b[1;32m    481\u001b[0m         \u001b[0;32mtry\u001b[0m\u001b[0;34m:\u001b[0m\u001b[0;34m\u001b[0m\u001b[0;34m\u001b[0m\u001b[0m\n\u001b[0;32m--> 482\u001b[0;31m             \u001b[0mresp\u001b[0m \u001b[0;34m=\u001b[0m \u001b[0mself\u001b[0m\u001b[0;34m.\u001b[0m\u001b[0msession\u001b[0m\u001b[0;34m.\u001b[0m\u001b[0mget\u001b[0m\u001b[0;34m(\u001b[0m\u001b[0murl\u001b[0m\u001b[0;34m,\u001b[0m \u001b[0mtimeout\u001b[0m\u001b[0;34m=\u001b[0m\u001b[0mtimeout\u001b[0m\u001b[0;34m,\u001b[0m \u001b[0mheaders\u001b[0m\u001b[0;34m=\u001b[0m\u001b[0mheaders\u001b[0m\u001b[0;34m)\u001b[0m\u001b[0;34m\u001b[0m\u001b[0;34m\u001b[0m\u001b[0m\n\u001b[0m\u001b[1;32m    483\u001b[0m         \u001b[0;32mexcept\u001b[0m \u001b[0mException\u001b[0m \u001b[0;32mas\u001b[0m \u001b[0merror\u001b[0m\u001b[0;34m:\u001b[0m\u001b[0;34m\u001b[0m\u001b[0;34m\u001b[0m\u001b[0m\n",
            "\u001b[0;32m/usr/local/lib/python3.12/dist-packages/requests/sessions.py\u001b[0m in \u001b[0;36mget\u001b[0;34m(self, url, **kwargs)\u001b[0m\n\u001b[1;32m    601\u001b[0m         \u001b[0mkwargs\u001b[0m\u001b[0;34m.\u001b[0m\u001b[0msetdefault\u001b[0m\u001b[0;34m(\u001b[0m\u001b[0;34m\"allow_redirects\"\u001b[0m\u001b[0;34m,\u001b[0m \u001b[0;32mTrue\u001b[0m\u001b[0;34m)\u001b[0m\u001b[0;34m\u001b[0m\u001b[0;34m\u001b[0m\u001b[0m\n\u001b[0;32m--> 602\u001b[0;31m         \u001b[0;32mreturn\u001b[0m \u001b[0mself\u001b[0m\u001b[0;34m.\u001b[0m\u001b[0mrequest\u001b[0m\u001b[0;34m(\u001b[0m\u001b[0;34m\"GET\"\u001b[0m\u001b[0;34m,\u001b[0m \u001b[0murl\u001b[0m\u001b[0;34m,\u001b[0m \u001b[0;34m**\u001b[0m\u001b[0mkwargs\u001b[0m\u001b[0;34m)\u001b[0m\u001b[0;34m\u001b[0m\u001b[0;34m\u001b[0m\u001b[0m\n\u001b[0m\u001b[1;32m    603\u001b[0m \u001b[0;34m\u001b[0m\u001b[0m\n",
            "\u001b[0;32m/usr/local/lib/python3.12/dist-packages/requests/sessions.py\u001b[0m in \u001b[0;36mrequest\u001b[0;34m(self, method, url, params, data, headers, cookies, files, auth, timeout, allow_redirects, proxies, hooks, stream, verify, cert, json)\u001b[0m\n\u001b[1;32m    588\u001b[0m         \u001b[0msend_kwargs\u001b[0m\u001b[0;34m.\u001b[0m\u001b[0mupdate\u001b[0m\u001b[0;34m(\u001b[0m\u001b[0msettings\u001b[0m\u001b[0;34m)\u001b[0m\u001b[0;34m\u001b[0m\u001b[0;34m\u001b[0m\u001b[0m\n\u001b[0;32m--> 589\u001b[0;31m         \u001b[0mresp\u001b[0m \u001b[0;34m=\u001b[0m \u001b[0mself\u001b[0m\u001b[0;34m.\u001b[0m\u001b[0msend\u001b[0m\u001b[0;34m(\u001b[0m\u001b[0mprep\u001b[0m\u001b[0;34m,\u001b[0m \u001b[0;34m**\u001b[0m\u001b[0msend_kwargs\u001b[0m\u001b[0;34m)\u001b[0m\u001b[0;34m\u001b[0m\u001b[0;34m\u001b[0m\u001b[0m\n\u001b[0m\u001b[1;32m    590\u001b[0m \u001b[0;34m\u001b[0m\u001b[0m\n",
            "\u001b[0;32m/usr/local/lib/python3.12/dist-packages/requests/sessions.py\u001b[0m in \u001b[0;36msend\u001b[0;34m(self, request, **kwargs)\u001b[0m\n\u001b[1;32m    702\u001b[0m         \u001b[0;31m# Send the request\u001b[0m\u001b[0;34m\u001b[0m\u001b[0;34m\u001b[0m\u001b[0m\n\u001b[0;32m--> 703\u001b[0;31m         \u001b[0mr\u001b[0m \u001b[0;34m=\u001b[0m \u001b[0madapter\u001b[0m\u001b[0;34m.\u001b[0m\u001b[0msend\u001b[0m\u001b[0;34m(\u001b[0m\u001b[0mrequest\u001b[0m\u001b[0;34m,\u001b[0m \u001b[0;34m**\u001b[0m\u001b[0mkwargs\u001b[0m\u001b[0;34m)\u001b[0m\u001b[0;34m\u001b[0m\u001b[0;34m\u001b[0m\u001b[0m\n\u001b[0m\u001b[1;32m    704\u001b[0m \u001b[0;34m\u001b[0m\u001b[0m\n",
            "\u001b[0;32m/usr/local/lib/python3.12/dist-packages/requests/adapters.py\u001b[0m in \u001b[0;36msend\u001b[0;34m(self, request, stream, timeout, verify, cert, proxies)\u001b[0m\n\u001b[1;32m    699\u001b[0m \u001b[0;34m\u001b[0m\u001b[0m\n\u001b[0;32m--> 700\u001b[0;31m             \u001b[0;32mraise\u001b[0m \u001b[0mConnectionError\u001b[0m\u001b[0;34m(\u001b[0m\u001b[0me\u001b[0m\u001b[0;34m,\u001b[0m \u001b[0mrequest\u001b[0m\u001b[0;34m=\u001b[0m\u001b[0mrequest\u001b[0m\u001b[0;34m)\u001b[0m\u001b[0;34m\u001b[0m\u001b[0;34m\u001b[0m\u001b[0m\n\u001b[0m\u001b[1;32m    701\u001b[0m \u001b[0;34m\u001b[0m\u001b[0m\n",
            "\u001b[0;31mConnectionError\u001b[0m: HTTPSConnectionPool(host='nominatim.openstreetmap.org', port=443): Max retries exceeded with url: /search?q=64200040&format=json&limit=1 (Caused by NewConnectionError('<urllib3.connection.HTTPSConnection object at 0x7c6af98e4d10>: Failed to establish a new connection: [Errno 111] Connection refused'))",
            "\nDuring handling of the above exception, another exception occurred:\n",
            "\u001b[0;31mGeocoderUnavailable\u001b[0m                       Traceback (most recent call last)",
            "\u001b[0;32m/tmp/ipython-input-2781487902.py\u001b[0m in \u001b[0;36m<cell line: 0>\u001b[0;34m()\u001b[0m\n\u001b[1;32m      8\u001b[0m \u001b[0mlocations\u001b[0m \u001b[0;34m=\u001b[0m \u001b[0;34m{\u001b[0m\u001b[0;34m}\u001b[0m\u001b[0;34m\u001b[0m\u001b[0;34m\u001b[0m\u001b[0m\n\u001b[1;32m      9\u001b[0m \u001b[0;32mfor\u001b[0m \u001b[0mi\u001b[0m\u001b[0;34m,\u001b[0m \u001b[0mcep\u001b[0m \u001b[0;32min\u001b[0m \u001b[0menumerate\u001b[0m\u001b[0;34m(\u001b[0m\u001b[0mom_info\u001b[0m\u001b[0;34m.\u001b[0m\u001b[0mCEP\u001b[0m\u001b[0;34m.\u001b[0m\u001b[0munique\u001b[0m\u001b[0;34m(\u001b[0m\u001b[0;34m)\u001b[0m\u001b[0;34m)\u001b[0m\u001b[0;34m:\u001b[0m\u001b[0;34m\u001b[0m\u001b[0;34m\u001b[0m\u001b[0m\n\u001b[0;32m---> 10\u001b[0;31m   \u001b[0mlocations\u001b[0m\u001b[0;34m[\u001b[0m\u001b[0mcep\u001b[0m\u001b[0;34m]\u001b[0m \u001b[0;34m=\u001b[0m \u001b[0mgeolocator\u001b[0m\u001b[0;34m.\u001b[0m\u001b[0mgeocode\u001b[0m\u001b[0;34m(\u001b[0m\u001b[0mcep\u001b[0m\u001b[0;34m)\u001b[0m\u001b[0;34m\u001b[0m\u001b[0;34m\u001b[0m\u001b[0m\n\u001b[0m\u001b[1;32m     11\u001b[0m   \u001b[0mprint\u001b[0m\u001b[0;34m(\u001b[0m\u001b[0mi\u001b[0m\u001b[0;34m)\u001b[0m\u001b[0;34m\u001b[0m\u001b[0;34m\u001b[0m\u001b[0m\n\u001b[1;32m     12\u001b[0m   \u001b[0mtime\u001b[0m\u001b[0;34m.\u001b[0m\u001b[0msleep\u001b[0m\u001b[0;34m(\u001b[0m\u001b[0;36m1\u001b[0m\u001b[0;34m)\u001b[0m\u001b[0;34m\u001b[0m\u001b[0;34m\u001b[0m\u001b[0m\n",
            "\u001b[0;32m/usr/local/lib/python3.12/dist-packages/geopy/geocoders/nominatim.py\u001b[0m in \u001b[0;36mgeocode\u001b[0;34m(self, query, exactly_one, timeout, limit, addressdetails, language, geometry, extratags, country_codes, viewbox, bounded, featuretype, namedetails)\u001b[0m\n\u001b[1;32m    295\u001b[0m         \u001b[0mlogger\u001b[0m\u001b[0;34m.\u001b[0m\u001b[0mdebug\u001b[0m\u001b[0;34m(\u001b[0m\u001b[0;34m\"%s.geocode: %s\"\u001b[0m\u001b[0;34m,\u001b[0m \u001b[0mself\u001b[0m\u001b[0;34m.\u001b[0m\u001b[0m__class__\u001b[0m\u001b[0;34m.\u001b[0m\u001b[0m__name__\u001b[0m\u001b[0;34m,\u001b[0m \u001b[0murl\u001b[0m\u001b[0;34m)\u001b[0m\u001b[0;34m\u001b[0m\u001b[0;34m\u001b[0m\u001b[0m\n\u001b[1;32m    296\u001b[0m         \u001b[0mcallback\u001b[0m \u001b[0;34m=\u001b[0m \u001b[0mpartial\u001b[0m\u001b[0;34m(\u001b[0m\u001b[0mself\u001b[0m\u001b[0;34m.\u001b[0m\u001b[0m_parse_json\u001b[0m\u001b[0;34m,\u001b[0m \u001b[0mexactly_one\u001b[0m\u001b[0;34m=\u001b[0m\u001b[0mexactly_one\u001b[0m\u001b[0;34m)\u001b[0m\u001b[0;34m\u001b[0m\u001b[0;34m\u001b[0m\u001b[0m\n\u001b[0;32m--> 297\u001b[0;31m         \u001b[0;32mreturn\u001b[0m \u001b[0mself\u001b[0m\u001b[0;34m.\u001b[0m\u001b[0m_call_geocoder\u001b[0m\u001b[0;34m(\u001b[0m\u001b[0murl\u001b[0m\u001b[0;34m,\u001b[0m \u001b[0mcallback\u001b[0m\u001b[0;34m,\u001b[0m \u001b[0mtimeout\u001b[0m\u001b[0;34m=\u001b[0m\u001b[0mtimeout\u001b[0m\u001b[0;34m)\u001b[0m\u001b[0;34m\u001b[0m\u001b[0;34m\u001b[0m\u001b[0m\n\u001b[0m\u001b[1;32m    298\u001b[0m \u001b[0;34m\u001b[0m\u001b[0m\n\u001b[1;32m    299\u001b[0m     def reverse(\n",
            "\u001b[0;32m/usr/local/lib/python3.12/dist-packages/geopy/geocoders/base.py\u001b[0m in \u001b[0;36m_call_geocoder\u001b[0;34m(self, url, callback, timeout, is_json, headers)\u001b[0m\n\u001b[1;32m    366\u001b[0m         \u001b[0;32mtry\u001b[0m\u001b[0;34m:\u001b[0m\u001b[0;34m\u001b[0m\u001b[0;34m\u001b[0m\u001b[0m\n\u001b[1;32m    367\u001b[0m             \u001b[0;32mif\u001b[0m \u001b[0mis_json\u001b[0m\u001b[0;34m:\u001b[0m\u001b[0;34m\u001b[0m\u001b[0;34m\u001b[0m\u001b[0m\n\u001b[0;32m--> 368\u001b[0;31m                 \u001b[0mresult\u001b[0m \u001b[0;34m=\u001b[0m \u001b[0mself\u001b[0m\u001b[0;34m.\u001b[0m\u001b[0madapter\u001b[0m\u001b[0;34m.\u001b[0m\u001b[0mget_json\u001b[0m\u001b[0;34m(\u001b[0m\u001b[0murl\u001b[0m\u001b[0;34m,\u001b[0m \u001b[0mtimeout\u001b[0m\u001b[0;34m=\u001b[0m\u001b[0mtimeout\u001b[0m\u001b[0;34m,\u001b[0m \u001b[0mheaders\u001b[0m\u001b[0;34m=\u001b[0m\u001b[0mreq_headers\u001b[0m\u001b[0;34m)\u001b[0m\u001b[0;34m\u001b[0m\u001b[0;34m\u001b[0m\u001b[0m\n\u001b[0m\u001b[1;32m    369\u001b[0m             \u001b[0;32melse\u001b[0m\u001b[0;34m:\u001b[0m\u001b[0;34m\u001b[0m\u001b[0;34m\u001b[0m\u001b[0m\n\u001b[1;32m    370\u001b[0m                 \u001b[0mresult\u001b[0m \u001b[0;34m=\u001b[0m \u001b[0mself\u001b[0m\u001b[0;34m.\u001b[0m\u001b[0madapter\u001b[0m\u001b[0;34m.\u001b[0m\u001b[0mget_text\u001b[0m\u001b[0;34m(\u001b[0m\u001b[0murl\u001b[0m\u001b[0;34m,\u001b[0m \u001b[0mtimeout\u001b[0m\u001b[0;34m=\u001b[0m\u001b[0mtimeout\u001b[0m\u001b[0;34m,\u001b[0m \u001b[0mheaders\u001b[0m\u001b[0;34m=\u001b[0m\u001b[0mreq_headers\u001b[0m\u001b[0;34m)\u001b[0m\u001b[0;34m\u001b[0m\u001b[0;34m\u001b[0m\u001b[0m\n",
            "\u001b[0;32m/usr/local/lib/python3.12/dist-packages/geopy/adapters.py\u001b[0m in \u001b[0;36mget_json\u001b[0;34m(self, url, timeout, headers)\u001b[0m\n\u001b[1;32m    470\u001b[0m \u001b[0;34m\u001b[0m\u001b[0m\n\u001b[1;32m    471\u001b[0m     \u001b[0;32mdef\u001b[0m \u001b[0mget_json\u001b[0m\u001b[0;34m(\u001b[0m\u001b[0mself\u001b[0m\u001b[0;34m,\u001b[0m \u001b[0murl\u001b[0m\u001b[0;34m,\u001b[0m \u001b[0;34m*\u001b[0m\u001b[0;34m,\u001b[0m \u001b[0mtimeout\u001b[0m\u001b[0;34m,\u001b[0m \u001b[0mheaders\u001b[0m\u001b[0;34m)\u001b[0m\u001b[0;34m:\u001b[0m\u001b[0;34m\u001b[0m\u001b[0;34m\u001b[0m\u001b[0m\n\u001b[0;32m--> 472\u001b[0;31m         \u001b[0mresp\u001b[0m \u001b[0;34m=\u001b[0m \u001b[0mself\u001b[0m\u001b[0;34m.\u001b[0m\u001b[0m_request\u001b[0m\u001b[0;34m(\u001b[0m\u001b[0murl\u001b[0m\u001b[0;34m,\u001b[0m \u001b[0mtimeout\u001b[0m\u001b[0;34m=\u001b[0m\u001b[0mtimeout\u001b[0m\u001b[0;34m,\u001b[0m \u001b[0mheaders\u001b[0m\u001b[0;34m=\u001b[0m\u001b[0mheaders\u001b[0m\u001b[0;34m)\u001b[0m\u001b[0;34m\u001b[0m\u001b[0;34m\u001b[0m\u001b[0m\n\u001b[0m\u001b[1;32m    473\u001b[0m         \u001b[0;32mtry\u001b[0m\u001b[0;34m:\u001b[0m\u001b[0;34m\u001b[0m\u001b[0;34m\u001b[0m\u001b[0m\n\u001b[1;32m    474\u001b[0m             \u001b[0;32mreturn\u001b[0m \u001b[0mresp\u001b[0m\u001b[0;34m.\u001b[0m\u001b[0mjson\u001b[0m\u001b[0;34m(\u001b[0m\u001b[0;34m)\u001b[0m\u001b[0;34m\u001b[0m\u001b[0;34m\u001b[0m\u001b[0m\n",
            "\u001b[0;32m/usr/local/lib/python3.12/dist-packages/geopy/adapters.py\u001b[0m in \u001b[0;36m_request\u001b[0;34m(self, url, timeout, headers)\u001b[0m\n\u001b[1;32m    492\u001b[0m                     \u001b[0;32mraise\u001b[0m \u001b[0mGeocoderServiceError\u001b[0m\u001b[0;34m(\u001b[0m\u001b[0mmessage\u001b[0m\u001b[0;34m)\u001b[0m\u001b[0;34m\u001b[0m\u001b[0;34m\u001b[0m\u001b[0m\n\u001b[1;32m    493\u001b[0m                 \u001b[0;32melse\u001b[0m\u001b[0;34m:\u001b[0m\u001b[0;34m\u001b[0m\u001b[0;34m\u001b[0m\u001b[0m\n\u001b[0;32m--> 494\u001b[0;31m                     \u001b[0;32mraise\u001b[0m \u001b[0mGeocoderUnavailable\u001b[0m\u001b[0;34m(\u001b[0m\u001b[0mmessage\u001b[0m\u001b[0;34m)\u001b[0m\u001b[0;34m\u001b[0m\u001b[0;34m\u001b[0m\u001b[0m\n\u001b[0m\u001b[1;32m    495\u001b[0m             \u001b[0;32melif\u001b[0m \u001b[0misinstance\u001b[0m\u001b[0;34m(\u001b[0m\u001b[0merror\u001b[0m\u001b[0;34m,\u001b[0m \u001b[0mrequests\u001b[0m\u001b[0;34m.\u001b[0m\u001b[0mTimeout\u001b[0m\u001b[0;34m)\u001b[0m\u001b[0;34m:\u001b[0m\u001b[0;34m\u001b[0m\u001b[0;34m\u001b[0m\u001b[0m\n\u001b[1;32m    496\u001b[0m                 \u001b[0;32mraise\u001b[0m \u001b[0mGeocoderTimedOut\u001b[0m\u001b[0;34m(\u001b[0m\u001b[0;34m\"Service timed out\"\u001b[0m\u001b[0;34m)\u001b[0m\u001b[0;34m\u001b[0m\u001b[0;34m\u001b[0m\u001b[0m\n",
            "\u001b[0;31mGeocoderUnavailable\u001b[0m: HTTPSConnectionPool(host='nominatim.openstreetmap.org', port=443): Max retries exceeded with url: /search?q=64200040&format=json&limit=1 (Caused by NewConnectionError('<urllib3.connection.HTTPSConnection object at 0x7c6af98e4d10>: Failed to establish a new connection: [Errno 111] Connection refused'))"
          ]
        }
      ]
    },
    {
      "cell_type": "code",
      "source": [
        "(len(om_info.CEP))"
      ],
      "metadata": {
        "id": "K8w_QUlBmx0W",
        "outputId": "6896bcb1-6c43-4c9f-ce39-a0ac23375e7b",
        "colab": {
          "base_uri": "https://localhost:8080/"
        }
      },
      "id": "K8w_QUlBmx0W",
      "execution_count": 249,
      "outputs": [
        {
          "output_type": "execute_result",
          "data": {
            "text/plain": [
              "551"
            ]
          },
          "metadata": {},
          "execution_count": 249
        }
      ]
    },
    {
      "cell_type": "code",
      "source": [
        "locations = {}\n",
        "\n",
        "for cep in om_info.CEP.unique():\n",
        "  if cep not in locations:\n",
        "    locations[cep] = Thread(target=get_loc, args=(cep,))\n",
        "    locations[cep].start()"
      ],
      "metadata": {
        "id": "XVl5rhpglNrk",
        "outputId": "19fd8f13-4303-4f64-99ab-98c0da8b81c7",
        "colab": {
          "base_uri": "https://localhost:8080/"
        }
      },
      "id": "XVl5rhpglNrk",
      "execution_count": 247,
      "outputs": [
        {
          "output_type": "stream",
          "name": "stderr",
          "text": [
            "Exception in thread Thread-4 (get_loc):\n",
            "Traceback (most recent call last):\n",
            "  File \"/usr/local/lib/python3.12/dist-packages/geopy/geocoders/base.py\", line 368, in _call_geocoder\n",
            "    result = self.adapter.get_json(url, timeout=timeout, headers=req_headers)\n",
            "             ^^^^^^^^^^^^^^^^^^^^^^^^^^^^^^^^^^^^^^^^^^^^^^^^^^^^^^^^^^^^^^^^\n",
            "  File \"/usr/local/lib/python3.12/dist-packages/geopy/adapters.py\", line 472, in get_json\n",
            "    resp = self._request(url, timeout=timeout, headers=headers)\n",
            "           ^^^^^^^^^^^^^^^^^^^^^^^^^^^^^^^^^^^^^^^^^^^^^^^^^^^^\n",
            "  File \"/usr/local/lib/python3.12/dist-packages/geopy/adapters.py\", line 500, in _request\n",
            "    raise AdapterHTTPError(\n",
            "geopy.adapters.AdapterHTTPError: Non-successful status code 403\n",
            "\n",
            "The above exception was the direct cause of the following exception:\n",
            "\n",
            "Traceback (most recent call last):\n",
            "  File \"/usr/lib/python3.12/threading.py\", line 1075, in _bootstrap_inner\n",
            "    self.run()\n",
            "  File \"/usr/local/lib/python3.12/dist-packages/ipykernel/ipkernel.py\", line 772, in run_closure\n",
            "    _threading_Thread_run(self)\n",
            "  File \"/usr/lib/python3.12/threading.py\", line 1012, in run\n",
            "    self._target(*self._args, **self._kwargs)\n",
            "  File \"/tmp/ipython-input-3655363106.py\", line 7, in get_loc\n",
            "  File \"/usr/local/lib/python3.12/dist-packages/geopy/geocoders/nominatim.py\", line 297, in geocode\n",
            "    return self._call_geocoder(url, callback, timeout=timeout)\n",
            "           ^^^^^^^^^^^^^^^^^^^^^^^^^^^^^^^^^^^^^^^^^^^^^^^^^^^\n",
            "  File \"/usr/local/lib/python3.12/dist-packages/geopy/geocoders/base.py\", line 388, in _call_geocoder\n",
            "    res = self._adapter_error_handler(error)\n",
            "          ^^^^^^^^^^^^^^^^^^^^^^^^^^^^^^^^^^\n",
            "  File \"/usr/local/lib/python3.12/dist-packages/geopy/geocoders/base.py\", line 411, in _adapter_error_handler\n",
            "    raise exc_cls(str(error)) from error\n",
            "geopy.exc.GeocoderInsufficientPrivileges: Non-successful status code 403\n",
            "Exception in thread Thread-18 (get_loc):\n",
            "Traceback (most recent call last):\n",
            "  File \"/usr/local/lib/python3.12/dist-packages/geopy/geocoders/base.py\", line 368, in _call_geocoder\n",
            "    result = self.adapter.get_json(url, timeout=timeout, headers=req_headers)\n",
            "             ^^^^^^^^^^^^^^^^^^^^^^^^^^^^^^^^^^^^^^^^^^^^^^^^^^^^^^^^^^^^^^^^\n",
            "  File \"/usr/local/lib/python3.12/dist-packages/geopy/adapters.py\", line 472, in get_json\n",
            "    resp = self._request(url, timeout=timeout, headers=headers)\n",
            "           ^^^^^^^^^^^^^^^^^^^^^^^^^^^^^^^^^^^^^^^^^^^^^^^^^^^^\n",
            "  File \"/usr/local/lib/python3.12/dist-packages/geopy/adapters.py\", line 500, in _request\n",
            "    raise AdapterHTTPError(\n",
            "geopy.adapters.AdapterHTTPError: Non-successful status code 503\n",
            "\n",
            "The above exception was the direct cause of the following exception:\n",
            "\n",
            "Traceback (most recent call last):\n",
            "  File \"/usr/lib/python3.12/threading.py\", line 1075, in _bootstrap_inner\n",
            "    self.run()\n",
            "  File \"/usr/local/lib/python3.12/dist-packages/ipykernel/ipkernel.py\", line 772, in run_closure\n",
            "    _threading_Thread_run(self)\n",
            "  File \"/usr/lib/python3.12/threading.py\", line 1012, in run\n",
            "    self._target(*self._args, **self._kwargs)\n",
            "  File \"/tmp/ipython-input-3655363106.py\", line 7, in get_loc\n",
            "Exception in thread Thread-12 (get_loc):\n",
            "Traceback (most recent call last):\n",
            "  File \"/usr/local/lib/python3.12/dist-packages/geopy/geocoders/base.py\", line 368, in _call_geocoder\n",
            "    result = self.adapter.get_json(url, timeout=timeout, headers=req_headers)\n",
            "             ^^^^^^^^^^^^^^^^^^^^^^^^^^^^^^^^^^^^^^^^^^^^^^^^^^^^^^^^^^^^^^^^\n",
            "  File \"/usr/local/lib/python3.12/dist-packages/geopy/adapters.py\", line 472, in get_json\n",
            "    resp = self._request(url, timeout=timeout, headers=headers)\n",
            "           ^^^^^^^^^^^^^^^^^^^^^^^^^^^^^^^^^^^^^^^^^^^^^^^^^^^^\n",
            "  File \"/usr/local/lib/python3.12/dist-packages/geopy/adapters.py\", line 500, in _request\n",
            "    raise AdapterHTTPError(\n",
            "geopy.adapters.AdapterHTTPError: Non-successful status code 503\n",
            "\n",
            "The above exception was the direct cause of the following exception:\n",
            "\n",
            "Traceback (most recent call last):\n",
            "  File \"/usr/lib/python3.12/threading.py\", line 1075, in _bootstrap_inner\n",
            "    self.run()\n",
            "  File \"/usr/local/lib/python3.12/dist-packages/ipykernel/ipkernel.py\", line 772, in run_closure\n",
            "    _threading_Thread_run(self)\n",
            "  File \"/usr/lib/python3.12/threading.py\", line 1012, in run\n",
            "    self._target(*self._args, **self._kwargs)\n",
            "  File \"/tmp/ipython-input-3655363106.py\", line 7, in get_loc\n",
            "  File \"/usr/local/lib/python3.12/dist-packages/geopy/geocoders/nominatim.py\", line 297, in geocode\n",
            "Exception in thread Thread-21 (get_loc):\n",
            "Traceback (most recent call last):\n",
            "  File \"/usr/local/lib/python3.12/dist-packages/geopy/geocoders/base.py\", line 368, in _call_geocoder\n",
            "    result = self.adapter.get_json(url, timeout=timeout, headers=req_headers)\n",
            "             ^^^^^^^^^^^^^^^^^^^^^^^^^^^^^^^^^^^^^^^^^^^^^^^^^^^^^^^^^^^^^^^^\n",
            "  File \"/usr/local/lib/python3.12/dist-packages/geopy/adapters.py\", line 472, in get_json\n",
            "    resp = self._request(url, timeout=timeout, headers=headers)\n",
            "           ^^^^^^^^^^^^^^^^^^^^^^^^^^^^^^^^^^^^^^^^^^^^^^^^^^^^\n",
            "  File \"/usr/local/lib/python3.12/dist-packages/geopy/adapters.py\", line 500, in _request\n",
            "    raise AdapterHTTPError(\n",
            "geopy.adapters.AdapterHTTPError: Non-successful status code 503\n",
            "\n",
            "The above exception was the direct cause of the following exception:\n",
            "\n",
            "Traceback (most recent call last):\n",
            "  File \"/usr/lib/python3.12/threading.py\", line 1075, in _bootstrap_inner\n",
            "    self.run()\n",
            "  File \"/usr/local/lib/python3.12/dist-packages/ipykernel/ipkernel.py\", line 772, in run_closure\n",
            "    _threading_Thread_run(self)\n",
            "  File \"/usr/lib/python3.12/threading.py\", line 1012, in run\n",
            "    self._target(*self._args, **self._kwargs)\n",
            "  File \"/tmp/ipython-input-3655363106.py\", line 7, in get_loc\n",
            "  File \"/usr/local/lib/python3.12/dist-packages/geopy/geocoders/nominatim.py\", line 297, in geocode\n",
            "    return self._call_geocoder(url, callback, timeout=timeout)\n",
            "           ^^^^^^^^^^^^^^^^^^^^^^^^^^^^^^^^^^^^^^^^^^^^^^^^^^^\n",
            "  File \"/usr/local/lib/python3.12/dist-packages/geopy/geocoders/base.py\", line 388, in _call_geocoder\n",
            "    res = self._adapter_error_handler(error)\n",
            "          ^^^^^^^^^^^^^^^^^^^^^^^^^^^^^^^^^^\n",
            "  File \"/usr/local/lib/python3.12/dist-packages/geopy/geocoders/base.py\", line 411, in _adapter_error_handler\n",
            "    raise exc_cls(str(error)) from error\n",
            "geopy.exc.GeocoderTimedOut: Non-successful status code 503\n",
            "    return self._call_geocoder(url, callback, timeout=timeout)\n",
            "           ^^^^^^^^^^^^^^^^^^^^^^^^^^^^^^^^^^^^^^^^^^^^^^^^^^^\n",
            "  File \"/usr/local/lib/python3.12/dist-packages/geopy/geocoders/base.py\", line 388, in _call_geocoder\n",
            "    res = self._adapter_error_handler(error)\n",
            "          ^^^^^^^^^^^^^^^^^^^^^^^^^^^^^^^^^^\n",
            "  File \"/usr/local/lib/python3.12/dist-packages/geopy/geocoders/base.py\", line 411, in _adapter_error_handler\n",
            "    raise exc_cls(str(error)) from error\n",
            "geopy.exc.GeocoderTimedOut: Non-successful status code 503\n",
            "  File \"/usr/local/lib/python3.12/dist-packages/geopy/geocoders/nominatim.py\", line 297, in geocode\n",
            "    return self._call_geocoder(url, callback, timeout=timeout)\n",
            "           ^^^^^^^^^^^^^^^^^^^^^^^^^^^^^^^^^^^^^^^^^^^^^^^^^^^\n",
            "  File \"/usr/local/lib/python3.12/dist-packages/geopy/geocoders/base.py\", line 388, in _call_geocoder\n",
            "    res = self._adapter_error_handler(error)\n",
            "          ^^^^^^^^^^^^^^^^^^^^^^^^^^^^^^^^^^\n",
            "  File \"/usr/local/lib/python3.12/dist-packages/geopy/geocoders/base.py\", line 411, in _adapter_error_handler\n",
            "    raise exc_cls(str(error)) from error\n",
            "geopy.exc.GeocoderTimedOut: Non-successful status code 503\n",
            "Exception in thread Thread-14 (get_loc):\n",
            "Traceback (most recent call last):\n",
            "  File \"/usr/local/lib/python3.12/dist-packages/geopy/geocoders/base.py\", line 368, in _call_geocoder\n",
            "    result = self.adapter.get_json(url, timeout=timeout, headers=req_headers)\n",
            "             ^^^^^^^^^^^^^^^^^^^^^^^^^^^^^^^^^^^^^^^^^^^^^^^^^^^^^^^^^^^^^^^^\n",
            "  File \"/usr/local/lib/python3.12/dist-packages/geopy/adapters.py\", line 472, in get_json\n",
            "    resp = self._request(url, timeout=timeout, headers=headers)\n",
            "           ^^^^^^^^^^^^^^^^^^^^^^^^^^^^^^^^^^^^^^^^^^^^^^^^^^^^\n",
            "  File \"/usr/local/lib/python3.12/dist-packages/geopy/adapters.py\", line 500, in _request\n",
            "    raise AdapterHTTPError(\n",
            "geopy.adapters.AdapterHTTPError: Non-successful status code 503\n",
            "\n",
            "The above exception was the direct cause of the following exception:\n",
            "\n",
            "Traceback (most recent call last):\n",
            "  File \"/usr/lib/python3.12/threading.py\", line 1075, in _bootstrap_inner\n",
            "    self.run()\n",
            "  File \"/usr/local/lib/python3.12/dist-packages/ipykernel/ipkernel.py\", line 772, in run_closure\n",
            "Exception in thread Thread-16 (get_loc):\n",
            "Traceback (most recent call last):\n",
            "  File \"/usr/local/lib/python3.12/dist-packages/geopy/geocoders/base.py\", line 368, in _call_geocoder\n",
            "    result = self.adapter.get_json(url, timeout=timeout, headers=req_headers)\n",
            "             ^^^^^^^^^^^^^^^^^^^^^^^^^^^^^^^^^^^^^^^^^^^^^^^^^^^^^^^^^^^^^^^^\n",
            "  File \"/usr/local/lib/python3.12/dist-packages/geopy/adapters.py\", line 472, in get_json\n",
            "    resp = self._request(url, timeout=timeout, headers=headers)\n",
            "           ^^^^^^^^^^^^^^^^^^^^^^^^^^^^^^^^^^^^^^^^^^^^^^^^^^^^\n",
            "  File \"/usr/local/lib/python3.12/dist-packages/geopy/adapters.py\", line 500, in _request\n",
            "Exception in thread Thread-13 (get_loc):\n",
            "Traceback (most recent call last):\n",
            "  File \"/usr/local/lib/python3.12/dist-packages/geopy/geocoders/base.py\", line 368, in _call_geocoder\n",
            "    result = self.adapter.get_json(url, timeout=timeout, headers=req_headers)\n",
            "             ^^^^^^^^^^^^^^^^^^^^^^^^^^^^^^^^^^^^^^^^^^^^^^^^^^^^^^^^^^^^^^^^\n",
            "  File \"/usr/local/lib/python3.12/dist-packages/geopy/adapters.py\", line 472, in get_json\n",
            "    resp = self._request(url, timeout=timeout, headers=headers)\n",
            "           ^^^^^^^^^^^^^^^^^^^^^^^^^^^^^^^^^^^^^^^^^^^^^^^^^^^^\n",
            "  File \"/usr/local/lib/python3.12/dist-packages/geopy/adapters.py\", line 500, in _request\n",
            "    raise AdapterHTTPError(\n",
            "geopy.adapters.AdapterHTTPError: Non-successful status code 503\n",
            "\n",
            "The above exception was the direct cause of the following exception:\n",
            "\n",
            "Traceback (most recent call last):\n",
            "  File \"/usr/lib/python3.12/threading.py\", line 1075, in _bootstrap_inner\n",
            "    self.run()\n",
            "  File \"/usr/local/lib/python3.12/dist-packages/ipykernel/ipkernel.py\", line 772, in run_closure\n",
            "Exception in thread Thread-19 (get_loc):\n",
            "Traceback (most recent call last):\n",
            "  File \"/usr/local/lib/python3.12/dist-packages/geopy/geocoders/base.py\", line 368, in _call_geocoder\n",
            "    result = self.adapter.get_json(url, timeout=timeout, headers=req_headers)\n",
            "             ^^^^^^^^^^^^^^^^^^^^^^^^^^^^^^^^^^^^^^^^^^^^^^^^^^^^^^^^^^^^^^^^\n",
            "  File \"/usr/local/lib/python3.12/dist-packages/geopy/adapters.py\", line 472, in get_json\n",
            "    resp = self._request(url, timeout=timeout, headers=headers)\n",
            "           ^^^^^^^^^^^^^^^^^^^^^^^^^^^^^^^^^^^^^^^^^^^^^^^^^^^^\n",
            "  File \"/usr/local/lib/python3.12/dist-packages/geopy/adapters.py\", line 500, in _request\n",
            "    raise AdapterHTTPError(\n",
            "geopy.adapters.AdapterHTTPError: Non-successful status code 503\n",
            "\n",
            "The above exception was the direct cause of the following exception:\n",
            "\n",
            "Traceback (most recent call last):\n",
            "  File \"/usr/lib/python3.12/threading.py\", line 1075, in _bootstrap_inner\n",
            "    self.run()\n",
            "  File \"/usr/local/lib/python3.12/dist-packages/ipykernel/ipkernel.py\", line 772, in run_closure\n",
            "    _threading_Thread_run(self)\n",
            "  File \"/usr/lib/python3.12/threading.py\", line 1012, in run\n",
            "    self._target(*self._args, **self._kwargs)\n",
            "  File \"/tmp/ipython-input-3655363106.py\", line 7, in get_loc\n",
            "  File \"/usr/local/lib/python3.12/dist-packages/geopy/geocoders/nominatim.py\", line 297, in geocode\n",
            "    return self._call_geocoder(url, callback, timeout=timeout)\n",
            "           ^^^^^^^^^^^^^^^^^^^^^^^^^^^^^^^^^^^^^^^^^^^^^^^^^^^\n",
            "  File \"/usr/local/lib/python3.12/dist-packages/geopy/geocoders/base.py\", line 388, in _call_geocoder\n",
            "    res = self._adapter_error_handler(error)\n",
            "          ^^^^^^^^^^^^^^^^^^^^^^^^^^^^^^^^^^\n",
            "  File \"/usr/local/lib/python3.12/dist-packages/geopy/geocoders/base.py\", line 411, in _adapter_error_handler\n",
            "    raise AdapterHTTPError(\n",
            "geopy.adapters.AdapterHTTPError: Non-successful status code 503\n",
            "\n",
            "The above exception was the direct cause of the following exception:\n",
            "\n",
            "Traceback (most recent call last):\n",
            "  File \"/usr/lib/python3.12/threading.py\", line 1075, in _bootstrap_inner\n",
            "    self.run()\n",
            "  File \"/usr/local/lib/python3.12/dist-packages/ipykernel/ipkernel.py\", line 772, in run_closure\n",
            "    _threading_Thread_run(self)\n",
            "  File \"/usr/lib/python3.12/threading.py\", line 1012, in run\n",
            "    self._target(*self._args, **self._kwargs)\n",
            "  File \"/tmp/ipython-input-3655363106.py\", line 7, in get_loc\n",
            "  File \"/usr/local/lib/python3.12/dist-packages/geopy/geocoders/nominatim.py\", line 297, in geocode\n",
            "    return self._call_geocoder(url, callback, timeout=timeout)\n",
            "           ^^^^^^^^^^^^^^^^^^^^^^^^^^^^^^^^^^^^^^^^^^^^^^^^^^^\n",
            "  File \"/usr/local/lib/python3.12/dist-packages/geopy/geocoders/base.py\", line 388, in _call_geocoder\n",
            "    res = self._adapter_error_handler(error)\n",
            "          ^^^^^^^^^^^^^^^^^^^^^^^^^^^^^^^^^^\n",
            "  File \"/usr/local/lib/python3.12/dist-packages/geopy/geocoders/base.py\", line 411, in _adapter_error_handler\n",
            "    raise exc_cls(str(error)) from error\n",
            "geopy.exc.GeocoderTimedOut: Non-successful status code 503\n",
            "    _threading_Thread_run(self)\n",
            "  File \"/usr/lib/python3.12/threading.py\", line 1012, in run\n",
            "    self._target(*self._args, **self._kwargs)\n",
            "  File \"/tmp/ipython-input-3655363106.py\", line 7, in get_loc\n",
            "  File \"/usr/local/lib/python3.12/dist-packages/geopy/geocoders/nominatim.py\", line 297, in geocode\n",
            "    return self._call_geocoder(url, callback, timeout=timeout)\n",
            "           ^^^^^^^^^^^^^^^^^^^^^^^^^^^^^^^^^^^^^^^^^^^^^^^^^^^\n",
            "  File \"/usr/local/lib/python3.12/dist-packages/geopy/geocoders/base.py\", line 388, in _call_geocoder\n",
            "    res = self._adapter_error_handler(error)\n",
            "          ^^^^^^^^^^^^^^^^^^^^^^^^^^^^^^^^^^\n",
            "  File \"/usr/local/lib/python3.12/dist-packages/geopy/geocoders/base.py\", line 411, in _adapter_error_handler\n",
            "    raise exc_cls(str(error)) from error\n",
            "geopy.exc.GeocoderTimedOut: Non-successful status code 503\n",
            "Exception in thread Thread-20 (get_loc):\n",
            "Traceback (most recent call last):\n",
            "  File \"/usr/local/lib/python3.12/dist-packages/geopy/geocoders/base.py\", line 368, in _call_geocoder\n",
            "    result = self.adapter.get_json(url, timeout=timeout, headers=req_headers)\n",
            "             ^^^^^^^^^^^^^^^^^^^^^^^^^^^^^^^^^^^^^^^^^^^^^^^^^^^^^^^^^^^^^^^^\n",
            "  File \"/usr/local/lib/python3.12/dist-packages/geopy/adapters.py\", line 472, in get_json\n",
            "    resp = self._request(url, timeout=timeout, headers=headers)\n",
            "           ^^^^^^^^^^^^^^^^^^^^^^^^^^^^^^^^^^^^^^^^^^^^^^^^^^^^\n",
            "  File \"/usr/local/lib/python3.12/dist-packages/geopy/adapters.py\", line 500, in _request\n",
            "    raise AdapterHTTPError(\n",
            "geopy.adapters.AdapterHTTPError: Non-successful status code 503\n",
            "\n",
            "The above exception was the direct cause of the following exception:\n",
            "\n",
            "Traceback (most recent call last):\n",
            "  File \"/usr/lib/python3.12/threading.py\", line 1075, in _bootstrap_inner\n",
            "    self.run()\n",
            "  File \"/usr/local/lib/python3.12/dist-packages/ipykernel/ipkernel.py\", line 772, in run_closure\n",
            "    _threading_Thread_run(self)\n",
            "  File \"/usr/lib/python3.12/threading.py\", line 1012, in run\n",
            "    _threading_Thread_run(self)\n",
            "  File \"/usr/lib/python3.12/threading.py\", line 1012, in run\n",
            "    self._target(*self._args, **self._kwargs)\n",
            "  File \"/tmp/ipython-input-3655363106.py\", line 7, in get_loc\n",
            "Exception in thread Thread-17 (get_loc):\n",
            "Traceback (most recent call last):\n",
            "  File \"/usr/local/lib/python3.12/dist-packages/geopy/geocoders/base.py\", line 368, in _call_geocoder\n",
            "    raise exc_cls(str(error)) from error\n",
            "geopy.exc.GeocoderTimedOut: Non-successful status code 503\n",
            "  File \"/usr/local/lib/python3.12/dist-packages/geopy/geocoders/nominatim.py\", line 297, in geocode\n",
            "    return self._call_geocoder(url, callback, timeout=timeout)\n",
            "           ^^^^^^^^^^^^^^^^^^^^^^^^^^^^^^^^^^^^^^^^^^^^^^^^^^^\n",
            "  File \"/usr/local/lib/python3.12/dist-packages/geopy/geocoders/base.py\", line 388, in _call_geocoder\n",
            "    res = self._adapter_error_handler(error)\n",
            "          ^^^^^^^^^^^^^^^^^^^^^^^^^^^^^^^^^^\n",
            "  File \"/usr/local/lib/python3.12/dist-packages/geopy/geocoders/base.py\", line 411, in _adapter_error_handler\n",
            "    raise exc_cls(str(error)) from error\n",
            "geopy.exc.GeocoderTimedOut: Non-successful status code 503\n",
            "    result = self.adapter.get_json(url, timeout=timeout, headers=req_headers)\n",
            "             ^^^^^^^^^^^^^^^^^^^^^^^^^^^^^^^^^^^^^^^^^^^^^^^^^^^^^^^^^^^^^^^^\n",
            "  File \"/usr/local/lib/python3.12/dist-packages/geopy/adapters.py\", line 472, in get_json\n",
            "    self._target(*self._args, **self._kwargs)\n",
            "  File \"/tmp/ipython-input-3655363106.py\", line 7, in get_loc\n",
            "  File \"/usr/local/lib/python3.12/dist-packages/geopy/geocoders/nominatim.py\", line 297, in geocode\n",
            "    return self._call_geocoder(url, callback, timeout=timeout)\n",
            "           ^^^^^^^^^^^^^^^^^^^^^^^^^^^^^^^^^^^^^^^^^^^^^^^^^^^\n",
            "  File \"/usr/local/lib/python3.12/dist-packages/geopy/geocoders/base.py\", line 388, in _call_geocoder\n",
            "    res = self._adapter_error_handler(error)\n",
            "          ^^^^^^^^^^^^^^^^^^^^^^^^^^^^^^^^^^\n",
            "  File \"/usr/local/lib/python3.12/dist-packages/geopy/geocoders/base.py\", line 411, in _adapter_error_handler\n",
            "    raise exc_cls(str(error)) from error\n",
            "geopy.exc.GeocoderTimedOut: Non-successful status code 503\n",
            "    resp = self._request(url, timeout=timeout, headers=headers)\n",
            "           ^^^^^^^^^^^^^^^^^^^^^^^^^^^^^^^^^^^^^^^^^^^^^^^^^^^^\n",
            "  File \"/usr/local/lib/python3.12/dist-packages/geopy/adapters.py\", line 500, in _request\n",
            "    raise AdapterHTTPError(\n",
            "geopy.adapters.AdapterHTTPError: Non-successful status code 503\n",
            "\n",
            "The above exception was the direct cause of the following exception:\n",
            "\n",
            "Traceback (most recent call last):\n",
            "  File \"/usr/lib/python3.12/threading.py\", line 1075, in _bootstrap_inner\n",
            "    self.run()\n",
            "  File \"/usr/local/lib/python3.12/dist-packages/ipykernel/ipkernel.py\", line 772, in run_closure\n",
            "    _threading_Thread_run(self)\n",
            "  File \"/usr/lib/python3.12/threading.py\", line 1012, in run\n",
            "    self._target(*self._args, **self._kwargs)\n",
            "  File \"/tmp/ipython-input-3655363106.py\", line 7, in get_loc\n",
            "  File \"/usr/local/lib/python3.12/dist-packages/geopy/geocoders/nominatim.py\", line 297, in geocode\n",
            "    return self._call_geocoder(url, callback, timeout=timeout)\n",
            "           ^^^^^^^^^^^^^^^^^^^^^^^^^^^^^^^^^^^^^^^^^^^^^^^^^^^\n",
            "  File \"/usr/local/lib/python3.12/dist-packages/geopy/geocoders/base.py\", line 388, in _call_geocoder\n",
            "    res = self._adapter_error_handler(error)\n",
            "          ^^^^^^^^^^^^^^^^^^^^^^^^^^^^^^^^^^\n",
            "  File \"/usr/local/lib/python3.12/dist-packages/geopy/geocoders/base.py\", line 411, in _adapter_error_handler\n",
            "    raise exc_cls(str(error)) from error\n",
            "geopy.exc.GeocoderTimedOut: Non-successful status code 503\n",
            "Exception in thread Thread-104 (get_loc):\n",
            "Traceback (most recent call last):\n",
            "  File \"/usr/local/lib/python3.12/dist-packages/geopy/geocoders/base.py\", line 368, in _call_geocoder\n",
            "    result = self.adapter.get_json(url, timeout=timeout, headers=req_headers)\n",
            "             ^^^^^^^^^^^^^^^^^^^^^^^^^^^^^^^^^^^^^^^^^^^^^^^^^^^^^^^^^^^^^^^^\n",
            "  File \"/usr/local/lib/python3.12/dist-packages/geopy/adapters.py\", line 472, in get_json\n",
            "    resp = self._request(url, timeout=timeout, headers=headers)\n",
            "           ^^^^^^^^^^^^^^^^^^^^^^^^^^^^^^^^^^^^^^^^^^^^^^^^^^^^\n",
            "  File \"/usr/local/lib/python3.12/dist-packages/geopy/adapters.py\", line 500, in _request\n",
            "    raise AdapterHTTPError(\n",
            "geopy.adapters.AdapterHTTPError: Non-successful status code 503\n",
            "\n",
            "The above exception was the direct cause of the following exception:\n",
            "\n",
            "Traceback (most recent call last):\n",
            "  File \"/usr/lib/python3.12/threading.py\", line 1075, in _bootstrap_inner\n",
            "    self.run()\n",
            "  File \"/usr/local/lib/python3.12/dist-packages/ipykernel/ipkernel.py\", line 772, in run_closure\n",
            "    _threading_Thread_run(self)\n",
            "  File \"/usr/lib/python3.12/threading.py\", line 1012, in run\n",
            "    self._target(*self._args, **self._kwargs)\n",
            "  File \"/tmp/ipython-input-3655363106.py\", line 7, in get_loc\n",
            "  File \"/usr/local/lib/python3.12/dist-packages/geopy/geocoders/nominatim.py\", line 297, in geocode\n",
            "    return self._call_geocoder(url, callback, timeout=timeout)\n",
            "           ^^^^^^^^^^^^^^^^^^^^^^^^^^^^^^^^^^^^^^^^^^^^^^^^^^^\n",
            "  File \"/usr/local/lib/python3.12/dist-packages/geopy/geocoders/base.py\", line 388, in _call_geocoder\n",
            "    res = self._adapter_error_handler(error)\n",
            "          ^^^^^^^^^^^^^^^^^^^^^^^^^^^^^^^^^^\n",
            "  File \"/usr/local/lib/python3.12/dist-packages/geopy/geocoders/base.py\", line 411, in _adapter_error_handler\n",
            "    raise exc_cls(str(error)) from error\n",
            "geopy.exc.GeocoderTimedOut: Non-successful status code 503\n"
          ]
        }
      ]
    },
    {
      "cell_type": "code",
      "source": [
        "import time\n",
        "\n",
        "enderecos = []\n",
        "\n",
        "for _, row in om_info.iterrows():\n",
        "  enderecos.append(geolocator.geocode(row.ENDERECO))\n",
        "  print(_)"
      ],
      "metadata": {
        "colab": {
          "base_uri": "https://localhost:8080/",
          "height": 1000
        },
        "id": "vjPKX3PO1tQz",
        "outputId": "b876a13a-5ba0-4365-bc1d-25d99ae641e4"
      },
      "id": "vjPKX3PO1tQz",
      "execution_count": 208,
      "outputs": [
        {
          "output_type": "stream",
          "name": "stdout",
          "text": [
            "0\n",
            "1\n",
            "2\n",
            "3\n",
            "4\n",
            "5\n"
          ]
        },
        {
          "output_type": "stream",
          "name": "stderr",
          "text": [
            "WARNING:urllib3.connectionpool:Retrying (Retry(total=1, connect=None, read=None, redirect=None, status=None)) after connection broken by 'ReadTimeoutError(\"HTTPSConnectionPool(host='nominatim.openstreetmap.org', port=443): Read timed out. (read timeout=5)\")': /search?q=AV.+PASTEUR%2C+480&format=json&limit=1\n"
          ]
        },
        {
          "output_type": "stream",
          "name": "stdout",
          "text": [
            "6\n",
            "7\n",
            "8\n",
            "9\n",
            "10\n",
            "11\n",
            "12\n",
            "13\n",
            "14\n",
            "15\n",
            "16\n",
            "17\n",
            "18\n",
            "19\n",
            "20\n",
            "21\n",
            "22\n",
            "23\n",
            "24\n",
            "25\n",
            "26\n",
            "27\n",
            "28\n",
            "29\n",
            "30\n",
            "31\n",
            "32\n",
            "33\n",
            "34\n",
            "35\n",
            "36\n",
            "37\n",
            "38\n",
            "39\n",
            "40\n",
            "41\n",
            "42\n",
            "43\n",
            "44\n",
            "45\n",
            "46\n",
            "47\n",
            "48\n",
            "49\n",
            "50\n",
            "51\n",
            "52\n",
            "53\n",
            "54\n",
            "55\n",
            "56\n",
            "57\n",
            "58\n",
            "59\n",
            "60\n",
            "61\n",
            "62\n",
            "63\n",
            "64\n",
            "65\n",
            "66\n",
            "67\n",
            "68\n",
            "69\n",
            "70\n"
          ]
        },
        {
          "output_type": "stream",
          "name": "stderr",
          "text": [
            "WARNING:urllib3.connectionpool:Retrying (Retry(total=1, connect=None, read=None, redirect=None, status=None)) after connection broken by 'ReadTimeoutError(\"HTTPSConnectionPool(host='nominatim.openstreetmap.org', port=443): Read timed out. (read timeout=5)\")': /search?q=AV.+BRASIL+10.500&format=json&limit=1\n"
          ]
        },
        {
          "output_type": "stream",
          "name": "stdout",
          "text": [
            "71\n",
            "72\n",
            "73\n",
            "74\n",
            "75\n",
            "76\n",
            "77\n",
            "78\n",
            "79\n",
            "80\n",
            "81\n",
            "82\n",
            "83\n",
            "84\n",
            "85\n",
            "86\n",
            "87\n",
            "88\n",
            "89\n",
            "90\n",
            "91\n",
            "92\n",
            "93\n",
            "94\n",
            "95\n",
            "96\n",
            "97\n",
            "98\n",
            "99\n",
            "100\n",
            "101\n",
            "102\n",
            "103\n"
          ]
        },
        {
          "output_type": "stream",
          "name": "stderr",
          "text": [
            "WARNING:urllib3.connectionpool:Retrying (Retry(total=1, connect=None, read=None, redirect=None, status=None)) after connection broken by 'ReadTimeoutError(\"HTTPSConnectionPool(host='nominatim.openstreetmap.org', port=443): Read timed out. (read timeout=5)\")': /search?q=QD+913+SUL&format=json&limit=1\n",
            "WARNING:urllib3.connectionpool:Retrying (Retry(total=0, connect=None, read=None, redirect=None, status=None)) after connection broken by 'ReadTimeoutError(\"HTTPSConnectionPool(host='nominatim.openstreetmap.org', port=443): Read timed out. (read timeout=5)\")': /search?q=QD+913+SUL&format=json&limit=1\n"
          ]
        },
        {
          "output_type": "stream",
          "name": "stdout",
          "text": [
            "104\n"
          ]
        },
        {
          "output_type": "stream",
          "name": "stderr",
          "text": [
            "WARNING:urllib3.connectionpool:Retrying (Retry(total=1, connect=None, read=None, redirect=None, status=None)) after connection broken by 'ReadTimeoutError(\"HTTPSConnectionPool(host='nominatim.openstreetmap.org', port=443): Read timed out. (read timeout=5)\")': /search?q=RUA+BENJAMIN+CONSTANT%2C+N%C2%BA+707&format=json&limit=1\n"
          ]
        },
        {
          "output_type": "stream",
          "name": "stdout",
          "text": [
            "105\n",
            "106\n",
            "107\n",
            "108\n",
            "109\n",
            "110\n",
            "111\n"
          ]
        },
        {
          "output_type": "stream",
          "name": "stderr",
          "text": [
            "WARNING:urllib3.connectionpool:Retrying (Retry(total=1, connect=None, read=None, redirect=None, status=None)) after connection broken by 'ReadTimeoutError(\"HTTPSConnectionPool(host='nominatim.openstreetmap.org', port=443): Read timed out. (read timeout=5)\")': /search?q=RUA+DUQUE+DE+CAXIAS+No+287&format=json&limit=1\n"
          ]
        },
        {
          "output_type": "stream",
          "name": "stdout",
          "text": [
            "112\n",
            "113\n",
            "114\n",
            "115\n",
            "116\n",
            "117\n",
            "118\n",
            "119\n",
            "120\n",
            "121\n",
            "122\n",
            "123\n",
            "124\n"
          ]
        },
        {
          "output_type": "stream",
          "name": "stderr",
          "text": [
            "WARNING:urllib3.connectionpool:Retrying (Retry(total=1, connect=None, read=None, redirect=None, status=None)) after connection broken by 'ReadTimeoutError(\"HTTPSConnectionPool(host='nominatim.openstreetmap.org', port=443): Read timed out. (read timeout=5)\")': /search?q=AV.+BRASIL%2C+10.500&format=json&limit=1\n"
          ]
        },
        {
          "output_type": "stream",
          "name": "stdout",
          "text": [
            "125\n",
            "126\n",
            "127\n",
            "128\n",
            "129\n",
            "130\n",
            "131\n",
            "132\n",
            "133\n",
            "134\n",
            "135\n",
            "136\n",
            "137\n",
            "138\n",
            "139\n",
            "140\n",
            "141\n",
            "142\n",
            "143\n",
            "144\n",
            "145\n",
            "146\n",
            "147\n",
            "148\n",
            "149\n",
            "150\n"
          ]
        },
        {
          "output_type": "stream",
          "name": "stderr",
          "text": [
            "WARNING:urllib3.connectionpool:Retrying (Retry(total=1, connect=None, read=None, redirect=None, status=None)) after connection broken by 'ReadTimeoutError(\"HTTPSConnectionPool(host='nominatim.openstreetmap.org', port=443): Read timed out. (read timeout=5)\")': /search?q=RUA+CONDE+DE+BONFIM%2C+N%C2%BA+54&format=json&limit=1\n"
          ]
        },
        {
          "output_type": "stream",
          "name": "stdout",
          "text": [
            "151\n",
            "152\n"
          ]
        },
        {
          "output_type": "stream",
          "name": "stderr",
          "text": [
            "WARNING:urllib3.connectionpool:Retrying (Retry(total=1, connect=None, read=None, redirect=None, status=None)) after connection broken by 'ReadTimeoutError(\"HTTPSConnectionPool(host='nominatim.openstreetmap.org', port=443): Read timed out. (read timeout=5)\")': /search?q=AVENIDA+VICENTE+DE+CASTRO%2C+4719&format=json&limit=1\n"
          ]
        },
        {
          "output_type": "stream",
          "name": "stdout",
          "text": [
            "153\n",
            "154\n",
            "155\n",
            "156\n",
            "157\n"
          ]
        },
        {
          "output_type": "stream",
          "name": "stderr",
          "text": [
            "WARNING:urllib3.connectionpool:Retrying (Retry(total=1, connect=None, read=None, redirect=None, status=None)) after connection broken by 'ReadTimeoutError(\"HTTPSConnectionPool(host='nominatim.openstreetmap.org', port=443): Read timed out. (read timeout=5)\")': /search?q=RUA+JO%C3%83O+FELIX%2C+15&format=json&limit=1\n"
          ]
        },
        {
          "output_type": "stream",
          "name": "stdout",
          "text": [
            "158\n"
          ]
        },
        {
          "output_type": "stream",
          "name": "stderr",
          "text": [
            "WARNING:urllib3.connectionpool:Retrying (Retry(total=1, connect=None, read=None, redirect=None, status=None)) after connection broken by 'ReadTimeoutError(\"HTTPSConnectionPool(host='nominatim.openstreetmap.org', port=443): Read timed out. (read timeout=5)\")': /search?q=Rua+Dom+Helder+C%C3%A2mara%2C+315&format=json&limit=1\n"
          ]
        },
        {
          "output_type": "stream",
          "name": "stdout",
          "text": [
            "159\n",
            "160\n",
            "161\n",
            "162\n",
            "163\n",
            "164\n",
            "165\n",
            "166\n",
            "167\n",
            "168\n",
            "169\n",
            "170\n",
            "171\n",
            "172\n",
            "173\n",
            "174\n",
            "175\n",
            "176\n",
            "177\n",
            "178\n",
            "179\n",
            "180\n",
            "181\n",
            "182\n",
            "183\n",
            "184\n",
            "185\n",
            "186\n",
            "187\n",
            "188\n",
            "189\n",
            "190\n"
          ]
        },
        {
          "output_type": "stream",
          "name": "stderr",
          "text": [
            "WARNING:urllib3.connectionpool:Retrying (Retry(total=1, connect=None, read=None, redirect=None, status=None)) after connection broken by 'ReadTimeoutError(\"HTTPSConnectionPool(host='nominatim.openstreetmap.org', port=443): Read timed out. (read timeout=5)\")': /search?q=RUA+TE%C3%93FILO+OTONI%2C+4&format=json&limit=1\n"
          ]
        },
        {
          "output_type": "stream",
          "name": "stdout",
          "text": [
            "191\n",
            "192\n",
            "193\n",
            "194\n",
            "195\n",
            "196\n",
            "197\n",
            "198\n",
            "199\n",
            "200\n",
            "201\n",
            "202\n",
            "203\n",
            "204\n",
            "205\n",
            "206\n",
            "207\n",
            "208\n",
            "209\n",
            "210\n",
            "211\n",
            "212\n",
            "213\n",
            "214\n",
            "215\n",
            "216\n",
            "217\n",
            "218\n",
            "219\n",
            "220\n",
            "221\n",
            "222\n",
            "223\n",
            "224\n",
            "225\n",
            "226\n",
            "227\n",
            "228\n",
            "229\n",
            "230\n",
            "231\n",
            "232\n",
            "233\n",
            "234\n",
            "235\n",
            "236\n",
            "237\n",
            "238\n",
            "239\n",
            "240\n",
            "241\n",
            "242\n",
            "243\n",
            "244\n",
            "245\n",
            "246\n",
            "247\n",
            "248\n",
            "249\n",
            "250\n",
            "251\n",
            "252\n",
            "253\n",
            "254\n",
            "255\n",
            "256\n",
            "257\n",
            "258\n",
            "259\n",
            "260\n",
            "261\n",
            "262\n",
            "263\n",
            "264\n",
            "265\n",
            "266\n",
            "267\n",
            "268\n",
            "269\n",
            "270\n",
            "271\n",
            "272\n",
            "273\n",
            "274\n",
            "275\n",
            "276\n",
            "277\n",
            "278\n",
            "279\n",
            "280\n",
            "281\n",
            "282\n",
            "283\n",
            "284\n",
            "285\n",
            "286\n",
            "287\n",
            "288\n",
            "289\n",
            "290\n",
            "291\n",
            "292\n",
            "293\n",
            "294\n",
            "295\n",
            "296\n",
            "297\n",
            "298\n",
            "299\n",
            "300\n",
            "301\n",
            "302\n",
            "303\n",
            "304\n",
            "305\n",
            "306\n"
          ]
        },
        {
          "output_type": "stream",
          "name": "stderr",
          "text": [
            "WARNING:urllib3.connectionpool:Retrying (Retry(total=1, connect=None, read=None, redirect=None, status=None)) after connection broken by 'ReadTimeoutError(\"HTTPSConnectionPool(host='nominatim.openstreetmap.org', port=443): Read timed out. (read timeout=5)\")': /search?q=AVENIDA+PARQUE%2C+262&format=json&limit=1\n"
          ]
        },
        {
          "output_type": "stream",
          "name": "stdout",
          "text": [
            "307\n",
            "308\n",
            "309\n",
            "310\n",
            "311\n",
            "312\n",
            "313\n",
            "314\n",
            "315\n",
            "316\n",
            "317\n",
            "318\n",
            "319\n",
            "320\n",
            "321\n",
            "322\n",
            "323\n",
            "324\n",
            "325\n",
            "326\n",
            "327\n",
            "328\n",
            "329\n",
            "330\n",
            "331\n",
            "332\n",
            "333\n",
            "334\n",
            "335\n",
            "336\n",
            "337\n",
            "338\n",
            "339\n",
            "340\n",
            "341\n",
            "342\n",
            "343\n",
            "344\n",
            "345\n",
            "346\n",
            "347\n",
            "348\n",
            "349\n",
            "350\n",
            "351\n",
            "352\n",
            "353\n",
            "354\n",
            "355\n",
            "356\n",
            "357\n",
            "358\n",
            "359\n",
            "360\n",
            "361\n",
            "362\n",
            "363\n",
            "364\n",
            "365\n",
            "366\n",
            "367\n",
            "368\n",
            "369\n",
            "370\n",
            "371\n",
            "372\n",
            "373\n",
            "374\n",
            "375\n",
            "376\n",
            "377\n",
            "378\n",
            "379\n",
            "380\n",
            "381\n",
            "382\n",
            "383\n",
            "384\n",
            "385\n",
            "386\n",
            "387\n",
            "388\n",
            "389\n",
            "390\n",
            "391\n",
            "392\n",
            "393\n",
            "394\n",
            "395\n",
            "396\n",
            "397\n",
            "398\n",
            "399\n",
            "400\n",
            "401\n",
            "402\n",
            "403\n",
            "404\n",
            "405\n",
            "406\n",
            "407\n",
            "408\n",
            "409\n",
            "410\n",
            "411\n",
            "412\n",
            "413\n",
            "414\n",
            "415\n",
            "416\n",
            "417\n",
            "418\n",
            "419\n",
            "420\n",
            "421\n",
            "422\n",
            "423\n"
          ]
        },
        {
          "output_type": "stream",
          "name": "stderr",
          "text": [
            "WARNING:urllib3.connectionpool:Retrying (Retry(total=1, connect=None, read=None, redirect=None, status=None)) after connection broken by 'ReadTimeoutError(\"HTTPSConnectionPool(host='nominatim.openstreetmap.org', port=443): Read timed out. (read timeout=5)\")': /search?q=Rua+Lavras+288&format=json&limit=1\n"
          ]
        },
        {
          "output_type": "stream",
          "name": "stdout",
          "text": [
            "424\n",
            "425\n",
            "426\n",
            "427\n",
            "428\n",
            "429\n",
            "430\n",
            "431\n",
            "432\n",
            "433\n",
            "434\n",
            "435\n",
            "436\n",
            "437\n",
            "438\n",
            "439\n",
            "440\n"
          ]
        },
        {
          "output_type": "stream",
          "name": "stderr",
          "text": [
            "WARNING:urllib3.connectionpool:Retrying (Retry(total=1, connect=None, read=None, redirect=None, status=None)) after connection broken by 'ReadTimeoutError(\"HTTPSConnectionPool(host='nominatim.openstreetmap.org', port=443): Read timed out. (read timeout=5)\")': /search?q=1%C2%B0+DN&format=json&limit=1\n",
            "WARNING:urllib3.connectionpool:Retrying (Retry(total=0, connect=None, read=None, redirect=None, status=None)) after connection broken by 'ReadTimeoutError(\"HTTPSConnectionPool(host='nominatim.openstreetmap.org', port=443): Read timed out. (read timeout=5)\")': /search?q=1%C2%B0+DN&format=json&limit=1\n"
          ]
        },
        {
          "output_type": "error",
          "ename": "GeocoderUnavailable",
          "evalue": "HTTPSConnectionPool(host='nominatim.openstreetmap.org', port=443): Max retries exceeded with url: /search?q=1%C2%B0+DN&format=json&limit=1 (Caused by ReadTimeoutError(\"HTTPSConnectionPool(host='nominatim.openstreetmap.org', port=443): Read timed out. (read timeout=5)\"))",
          "traceback": [
            "\u001b[0;31m---------------------------------------------------------------------------\u001b[0m",
            "\u001b[0;31mTimeoutError\u001b[0m                              Traceback (most recent call last)",
            "\u001b[0;32m/usr/local/lib/python3.12/dist-packages/urllib3/connectionpool.py\u001b[0m in \u001b[0;36m_make_request\u001b[0;34m(self, conn, method, url, body, headers, retries, timeout, chunked, response_conn, preload_content, decode_content, enforce_content_length)\u001b[0m\n\u001b[1;32m    533\u001b[0m         \u001b[0;32mtry\u001b[0m\u001b[0;34m:\u001b[0m\u001b[0;34m\u001b[0m\u001b[0;34m\u001b[0m\u001b[0m\n\u001b[0;32m--> 534\u001b[0;31m             \u001b[0mresponse\u001b[0m \u001b[0;34m=\u001b[0m \u001b[0mconn\u001b[0m\u001b[0;34m.\u001b[0m\u001b[0mgetresponse\u001b[0m\u001b[0;34m(\u001b[0m\u001b[0;34m)\u001b[0m\u001b[0;34m\u001b[0m\u001b[0;34m\u001b[0m\u001b[0m\n\u001b[0m\u001b[1;32m    535\u001b[0m         \u001b[0;32mexcept\u001b[0m \u001b[0;34m(\u001b[0m\u001b[0mBaseSSLError\u001b[0m\u001b[0;34m,\u001b[0m \u001b[0mOSError\u001b[0m\u001b[0;34m)\u001b[0m \u001b[0;32mas\u001b[0m \u001b[0me\u001b[0m\u001b[0;34m:\u001b[0m\u001b[0;34m\u001b[0m\u001b[0;34m\u001b[0m\u001b[0m\n",
            "\u001b[0;32m/usr/local/lib/python3.12/dist-packages/urllib3/connection.py\u001b[0m in \u001b[0;36mgetresponse\u001b[0;34m(self)\u001b[0m\n\u001b[1;32m    564\u001b[0m         \u001b[0;31m# Get the response from http.client.HTTPConnection\u001b[0m\u001b[0;34m\u001b[0m\u001b[0;34m\u001b[0m\u001b[0m\n\u001b[0;32m--> 565\u001b[0;31m         \u001b[0mhttplib_response\u001b[0m \u001b[0;34m=\u001b[0m \u001b[0msuper\u001b[0m\u001b[0;34m(\u001b[0m\u001b[0;34m)\u001b[0m\u001b[0;34m.\u001b[0m\u001b[0mgetresponse\u001b[0m\u001b[0;34m(\u001b[0m\u001b[0;34m)\u001b[0m\u001b[0;34m\u001b[0m\u001b[0;34m\u001b[0m\u001b[0m\n\u001b[0m\u001b[1;32m    566\u001b[0m \u001b[0;34m\u001b[0m\u001b[0m\n",
            "\u001b[0;32m/usr/lib/python3.12/http/client.py\u001b[0m in \u001b[0;36mgetresponse\u001b[0;34m(self)\u001b[0m\n\u001b[1;32m   1429\u001b[0m             \u001b[0;32mtry\u001b[0m\u001b[0;34m:\u001b[0m\u001b[0;34m\u001b[0m\u001b[0;34m\u001b[0m\u001b[0m\n\u001b[0;32m-> 1430\u001b[0;31m                 \u001b[0mresponse\u001b[0m\u001b[0;34m.\u001b[0m\u001b[0mbegin\u001b[0m\u001b[0;34m(\u001b[0m\u001b[0;34m)\u001b[0m\u001b[0;34m\u001b[0m\u001b[0;34m\u001b[0m\u001b[0m\n\u001b[0m\u001b[1;32m   1431\u001b[0m             \u001b[0;32mexcept\u001b[0m \u001b[0mConnectionError\u001b[0m\u001b[0;34m:\u001b[0m\u001b[0;34m\u001b[0m\u001b[0;34m\u001b[0m\u001b[0m\n",
            "\u001b[0;32m/usr/lib/python3.12/http/client.py\u001b[0m in \u001b[0;36mbegin\u001b[0;34m(self)\u001b[0m\n\u001b[1;32m    330\u001b[0m         \u001b[0;32mwhile\u001b[0m \u001b[0;32mTrue\u001b[0m\u001b[0;34m:\u001b[0m\u001b[0;34m\u001b[0m\u001b[0;34m\u001b[0m\u001b[0m\n\u001b[0;32m--> 331\u001b[0;31m             \u001b[0mversion\u001b[0m\u001b[0;34m,\u001b[0m \u001b[0mstatus\u001b[0m\u001b[0;34m,\u001b[0m \u001b[0mreason\u001b[0m \u001b[0;34m=\u001b[0m \u001b[0mself\u001b[0m\u001b[0;34m.\u001b[0m\u001b[0m_read_status\u001b[0m\u001b[0;34m(\u001b[0m\u001b[0;34m)\u001b[0m\u001b[0;34m\u001b[0m\u001b[0;34m\u001b[0m\u001b[0m\n\u001b[0m\u001b[1;32m    332\u001b[0m             \u001b[0;32mif\u001b[0m \u001b[0mstatus\u001b[0m \u001b[0;34m!=\u001b[0m \u001b[0mCONTINUE\u001b[0m\u001b[0;34m:\u001b[0m\u001b[0;34m\u001b[0m\u001b[0;34m\u001b[0m\u001b[0m\n",
            "\u001b[0;32m/usr/lib/python3.12/http/client.py\u001b[0m in \u001b[0;36m_read_status\u001b[0;34m(self)\u001b[0m\n\u001b[1;32m    291\u001b[0m     \u001b[0;32mdef\u001b[0m \u001b[0m_read_status\u001b[0m\u001b[0;34m(\u001b[0m\u001b[0mself\u001b[0m\u001b[0;34m)\u001b[0m\u001b[0;34m:\u001b[0m\u001b[0;34m\u001b[0m\u001b[0;34m\u001b[0m\u001b[0m\n\u001b[0;32m--> 292\u001b[0;31m         \u001b[0mline\u001b[0m \u001b[0;34m=\u001b[0m \u001b[0mstr\u001b[0m\u001b[0;34m(\u001b[0m\u001b[0mself\u001b[0m\u001b[0;34m.\u001b[0m\u001b[0mfp\u001b[0m\u001b[0;34m.\u001b[0m\u001b[0mreadline\u001b[0m\u001b[0;34m(\u001b[0m\u001b[0m_MAXLINE\u001b[0m \u001b[0;34m+\u001b[0m \u001b[0;36m1\u001b[0m\u001b[0;34m)\u001b[0m\u001b[0;34m,\u001b[0m \u001b[0;34m\"iso-8859-1\"\u001b[0m\u001b[0;34m)\u001b[0m\u001b[0;34m\u001b[0m\u001b[0;34m\u001b[0m\u001b[0m\n\u001b[0m\u001b[1;32m    293\u001b[0m         \u001b[0;32mif\u001b[0m \u001b[0mlen\u001b[0m\u001b[0;34m(\u001b[0m\u001b[0mline\u001b[0m\u001b[0;34m)\u001b[0m \u001b[0;34m>\u001b[0m \u001b[0m_MAXLINE\u001b[0m\u001b[0;34m:\u001b[0m\u001b[0;34m\u001b[0m\u001b[0;34m\u001b[0m\u001b[0m\n",
            "\u001b[0;32m/usr/lib/python3.12/socket.py\u001b[0m in \u001b[0;36mreadinto\u001b[0;34m(self, b)\u001b[0m\n\u001b[1;32m    719\u001b[0m             \u001b[0;32mtry\u001b[0m\u001b[0;34m:\u001b[0m\u001b[0;34m\u001b[0m\u001b[0;34m\u001b[0m\u001b[0m\n\u001b[0;32m--> 720\u001b[0;31m                 \u001b[0;32mreturn\u001b[0m \u001b[0mself\u001b[0m\u001b[0;34m.\u001b[0m\u001b[0m_sock\u001b[0m\u001b[0;34m.\u001b[0m\u001b[0mrecv_into\u001b[0m\u001b[0;34m(\u001b[0m\u001b[0mb\u001b[0m\u001b[0;34m)\u001b[0m\u001b[0;34m\u001b[0m\u001b[0;34m\u001b[0m\u001b[0m\n\u001b[0m\u001b[1;32m    721\u001b[0m             \u001b[0;32mexcept\u001b[0m \u001b[0mtimeout\u001b[0m\u001b[0;34m:\u001b[0m\u001b[0;34m\u001b[0m\u001b[0;34m\u001b[0m\u001b[0m\n",
            "\u001b[0;32m/usr/lib/python3.12/ssl.py\u001b[0m in \u001b[0;36mrecv_into\u001b[0;34m(self, buffer, nbytes, flags)\u001b[0m\n\u001b[1;32m   1250\u001b[0m                   self.__class__)\n\u001b[0;32m-> 1251\u001b[0;31m             \u001b[0;32mreturn\u001b[0m \u001b[0mself\u001b[0m\u001b[0;34m.\u001b[0m\u001b[0mread\u001b[0m\u001b[0;34m(\u001b[0m\u001b[0mnbytes\u001b[0m\u001b[0;34m,\u001b[0m \u001b[0mbuffer\u001b[0m\u001b[0;34m)\u001b[0m\u001b[0;34m\u001b[0m\u001b[0;34m\u001b[0m\u001b[0m\n\u001b[0m\u001b[1;32m   1252\u001b[0m         \u001b[0;32melse\u001b[0m\u001b[0;34m:\u001b[0m\u001b[0;34m\u001b[0m\u001b[0;34m\u001b[0m\u001b[0m\n",
            "\u001b[0;32m/usr/lib/python3.12/ssl.py\u001b[0m in \u001b[0;36mread\u001b[0;34m(self, len, buffer)\u001b[0m\n\u001b[1;32m   1102\u001b[0m             \u001b[0;32mif\u001b[0m \u001b[0mbuffer\u001b[0m \u001b[0;32mis\u001b[0m \u001b[0;32mnot\u001b[0m \u001b[0;32mNone\u001b[0m\u001b[0;34m:\u001b[0m\u001b[0;34m\u001b[0m\u001b[0;34m\u001b[0m\u001b[0m\n\u001b[0;32m-> 1103\u001b[0;31m                 \u001b[0;32mreturn\u001b[0m \u001b[0mself\u001b[0m\u001b[0;34m.\u001b[0m\u001b[0m_sslobj\u001b[0m\u001b[0;34m.\u001b[0m\u001b[0mread\u001b[0m\u001b[0;34m(\u001b[0m\u001b[0mlen\u001b[0m\u001b[0;34m,\u001b[0m \u001b[0mbuffer\u001b[0m\u001b[0;34m)\u001b[0m\u001b[0;34m\u001b[0m\u001b[0;34m\u001b[0m\u001b[0m\n\u001b[0m\u001b[1;32m   1104\u001b[0m             \u001b[0;32melse\u001b[0m\u001b[0;34m:\u001b[0m\u001b[0;34m\u001b[0m\u001b[0;34m\u001b[0m\u001b[0m\n",
            "\u001b[0;31mTimeoutError\u001b[0m: The read operation timed out",
            "\nThe above exception was the direct cause of the following exception:\n",
            "\u001b[0;31mReadTimeoutError\u001b[0m                          Traceback (most recent call last)",
            "\u001b[0;32m/usr/local/lib/python3.12/dist-packages/urllib3/connectionpool.py\u001b[0m in \u001b[0;36murlopen\u001b[0;34m(self, method, url, body, headers, retries, redirect, assert_same_host, timeout, pool_timeout, release_conn, chunked, body_pos, preload_content, decode_content, **response_kw)\u001b[0m\n\u001b[1;32m    786\u001b[0m             \u001b[0;31m# Make the request on the HTTPConnection object\u001b[0m\u001b[0;34m\u001b[0m\u001b[0;34m\u001b[0m\u001b[0m\n\u001b[0;32m--> 787\u001b[0;31m             response = self._make_request(\n\u001b[0m\u001b[1;32m    788\u001b[0m                 \u001b[0mconn\u001b[0m\u001b[0;34m,\u001b[0m\u001b[0;34m\u001b[0m\u001b[0;34m\u001b[0m\u001b[0m\n",
            "\u001b[0;32m/usr/local/lib/python3.12/dist-packages/urllib3/connectionpool.py\u001b[0m in \u001b[0;36m_make_request\u001b[0;34m(self, conn, method, url, body, headers, retries, timeout, chunked, response_conn, preload_content, decode_content, enforce_content_length)\u001b[0m\n\u001b[1;32m    535\u001b[0m         \u001b[0;32mexcept\u001b[0m \u001b[0;34m(\u001b[0m\u001b[0mBaseSSLError\u001b[0m\u001b[0;34m,\u001b[0m \u001b[0mOSError\u001b[0m\u001b[0;34m)\u001b[0m \u001b[0;32mas\u001b[0m \u001b[0me\u001b[0m\u001b[0;34m:\u001b[0m\u001b[0;34m\u001b[0m\u001b[0;34m\u001b[0m\u001b[0m\n\u001b[0;32m--> 536\u001b[0;31m             \u001b[0mself\u001b[0m\u001b[0;34m.\u001b[0m\u001b[0m_raise_timeout\u001b[0m\u001b[0;34m(\u001b[0m\u001b[0merr\u001b[0m\u001b[0;34m=\u001b[0m\u001b[0me\u001b[0m\u001b[0;34m,\u001b[0m \u001b[0murl\u001b[0m\u001b[0;34m=\u001b[0m\u001b[0murl\u001b[0m\u001b[0;34m,\u001b[0m \u001b[0mtimeout_value\u001b[0m\u001b[0;34m=\u001b[0m\u001b[0mread_timeout\u001b[0m\u001b[0;34m)\u001b[0m\u001b[0;34m\u001b[0m\u001b[0;34m\u001b[0m\u001b[0m\n\u001b[0m\u001b[1;32m    537\u001b[0m             \u001b[0;32mraise\u001b[0m\u001b[0;34m\u001b[0m\u001b[0;34m\u001b[0m\u001b[0m\n",
            "\u001b[0;32m/usr/local/lib/python3.12/dist-packages/urllib3/connectionpool.py\u001b[0m in \u001b[0;36m_raise_timeout\u001b[0;34m(self, err, url, timeout_value)\u001b[0m\n\u001b[1;32m    366\u001b[0m         \u001b[0;32mif\u001b[0m \u001b[0misinstance\u001b[0m\u001b[0;34m(\u001b[0m\u001b[0merr\u001b[0m\u001b[0;34m,\u001b[0m \u001b[0mSocketTimeout\u001b[0m\u001b[0;34m)\u001b[0m\u001b[0;34m:\u001b[0m\u001b[0;34m\u001b[0m\u001b[0;34m\u001b[0m\u001b[0m\n\u001b[0;32m--> 367\u001b[0;31m             raise ReadTimeoutError(\n\u001b[0m\u001b[1;32m    368\u001b[0m                 \u001b[0mself\u001b[0m\u001b[0;34m,\u001b[0m \u001b[0murl\u001b[0m\u001b[0;34m,\u001b[0m \u001b[0;34mf\"Read timed out. (read timeout={timeout_value})\"\u001b[0m\u001b[0;34m\u001b[0m\u001b[0;34m\u001b[0m\u001b[0m\n",
            "\u001b[0;31mReadTimeoutError\u001b[0m: HTTPSConnectionPool(host='nominatim.openstreetmap.org', port=443): Read timed out. (read timeout=5)",
            "\nThe above exception was the direct cause of the following exception:\n",
            "\u001b[0;31mMaxRetryError\u001b[0m                             Traceback (most recent call last)",
            "\u001b[0;32m/usr/local/lib/python3.12/dist-packages/requests/adapters.py\u001b[0m in \u001b[0;36msend\u001b[0;34m(self, request, stream, timeout, verify, cert, proxies)\u001b[0m\n\u001b[1;32m    666\u001b[0m         \u001b[0;32mtry\u001b[0m\u001b[0;34m:\u001b[0m\u001b[0;34m\u001b[0m\u001b[0;34m\u001b[0m\u001b[0m\n\u001b[0;32m--> 667\u001b[0;31m             resp = conn.urlopen(\n\u001b[0m\u001b[1;32m    668\u001b[0m                 \u001b[0mmethod\u001b[0m\u001b[0;34m=\u001b[0m\u001b[0mrequest\u001b[0m\u001b[0;34m.\u001b[0m\u001b[0mmethod\u001b[0m\u001b[0;34m,\u001b[0m\u001b[0;34m\u001b[0m\u001b[0;34m\u001b[0m\u001b[0m\n",
            "\u001b[0;32m/usr/local/lib/python3.12/dist-packages/urllib3/connectionpool.py\u001b[0m in \u001b[0;36murlopen\u001b[0;34m(self, method, url, body, headers, retries, redirect, assert_same_host, timeout, pool_timeout, release_conn, chunked, body_pos, preload_content, decode_content, **response_kw)\u001b[0m\n\u001b[1;32m    870\u001b[0m             )\n\u001b[0;32m--> 871\u001b[0;31m             return self.urlopen(\n\u001b[0m\u001b[1;32m    872\u001b[0m                 \u001b[0mmethod\u001b[0m\u001b[0;34m,\u001b[0m\u001b[0;34m\u001b[0m\u001b[0;34m\u001b[0m\u001b[0m\n",
            "\u001b[0;32m/usr/local/lib/python3.12/dist-packages/urllib3/connectionpool.py\u001b[0m in \u001b[0;36murlopen\u001b[0;34m(self, method, url, body, headers, retries, redirect, assert_same_host, timeout, pool_timeout, release_conn, chunked, body_pos, preload_content, decode_content, **response_kw)\u001b[0m\n\u001b[1;32m    870\u001b[0m             )\n\u001b[0;32m--> 871\u001b[0;31m             return self.urlopen(\n\u001b[0m\u001b[1;32m    872\u001b[0m                 \u001b[0mmethod\u001b[0m\u001b[0;34m,\u001b[0m\u001b[0;34m\u001b[0m\u001b[0;34m\u001b[0m\u001b[0m\n",
            "\u001b[0;32m/usr/local/lib/python3.12/dist-packages/urllib3/connectionpool.py\u001b[0m in \u001b[0;36murlopen\u001b[0;34m(self, method, url, body, headers, retries, redirect, assert_same_host, timeout, pool_timeout, release_conn, chunked, body_pos, preload_content, decode_content, **response_kw)\u001b[0m\n\u001b[1;32m    840\u001b[0m \u001b[0;34m\u001b[0m\u001b[0m\n\u001b[0;32m--> 841\u001b[0;31m             retries = retries.increment(\n\u001b[0m\u001b[1;32m    842\u001b[0m                 \u001b[0mmethod\u001b[0m\u001b[0;34m,\u001b[0m \u001b[0murl\u001b[0m\u001b[0;34m,\u001b[0m \u001b[0merror\u001b[0m\u001b[0;34m=\u001b[0m\u001b[0mnew_e\u001b[0m\u001b[0;34m,\u001b[0m \u001b[0m_pool\u001b[0m\u001b[0;34m=\u001b[0m\u001b[0mself\u001b[0m\u001b[0;34m,\u001b[0m \u001b[0m_stacktrace\u001b[0m\u001b[0;34m=\u001b[0m\u001b[0msys\u001b[0m\u001b[0;34m.\u001b[0m\u001b[0mexc_info\u001b[0m\u001b[0;34m(\u001b[0m\u001b[0;34m)\u001b[0m\u001b[0;34m[\u001b[0m\u001b[0;36m2\u001b[0m\u001b[0;34m]\u001b[0m\u001b[0;34m\u001b[0m\u001b[0;34m\u001b[0m\u001b[0m\n",
            "\u001b[0;32m/usr/local/lib/python3.12/dist-packages/urllib3/util/retry.py\u001b[0m in \u001b[0;36mincrement\u001b[0;34m(self, method, url, response, error, _pool, _stacktrace)\u001b[0m\n\u001b[1;32m    518\u001b[0m             \u001b[0mreason\u001b[0m \u001b[0;34m=\u001b[0m \u001b[0merror\u001b[0m \u001b[0;32mor\u001b[0m \u001b[0mResponseError\u001b[0m\u001b[0;34m(\u001b[0m\u001b[0mcause\u001b[0m\u001b[0;34m)\u001b[0m\u001b[0;34m\u001b[0m\u001b[0;34m\u001b[0m\u001b[0m\n\u001b[0;32m--> 519\u001b[0;31m             \u001b[0;32mraise\u001b[0m \u001b[0mMaxRetryError\u001b[0m\u001b[0;34m(\u001b[0m\u001b[0m_pool\u001b[0m\u001b[0;34m,\u001b[0m \u001b[0murl\u001b[0m\u001b[0;34m,\u001b[0m \u001b[0mreason\u001b[0m\u001b[0;34m)\u001b[0m \u001b[0;32mfrom\u001b[0m \u001b[0mreason\u001b[0m  \u001b[0;31m# type: ignore[arg-type]\u001b[0m\u001b[0;34m\u001b[0m\u001b[0;34m\u001b[0m\u001b[0m\n\u001b[0m\u001b[1;32m    520\u001b[0m \u001b[0;34m\u001b[0m\u001b[0m\n",
            "\u001b[0;31mMaxRetryError\u001b[0m: HTTPSConnectionPool(host='nominatim.openstreetmap.org', port=443): Max retries exceeded with url: /search?q=1%C2%B0+DN&format=json&limit=1 (Caused by ReadTimeoutError(\"HTTPSConnectionPool(host='nominatim.openstreetmap.org', port=443): Read timed out. (read timeout=5)\"))",
            "\nDuring handling of the above exception, another exception occurred:\n",
            "\u001b[0;31mConnectionError\u001b[0m                           Traceback (most recent call last)",
            "\u001b[0;32m/usr/local/lib/python3.12/dist-packages/geopy/adapters.py\u001b[0m in \u001b[0;36m_request\u001b[0;34m(self, url, timeout, headers)\u001b[0m\n\u001b[1;32m    481\u001b[0m         \u001b[0;32mtry\u001b[0m\u001b[0;34m:\u001b[0m\u001b[0;34m\u001b[0m\u001b[0;34m\u001b[0m\u001b[0m\n\u001b[0;32m--> 482\u001b[0;31m             \u001b[0mresp\u001b[0m \u001b[0;34m=\u001b[0m \u001b[0mself\u001b[0m\u001b[0;34m.\u001b[0m\u001b[0msession\u001b[0m\u001b[0;34m.\u001b[0m\u001b[0mget\u001b[0m\u001b[0;34m(\u001b[0m\u001b[0murl\u001b[0m\u001b[0;34m,\u001b[0m \u001b[0mtimeout\u001b[0m\u001b[0;34m=\u001b[0m\u001b[0mtimeout\u001b[0m\u001b[0;34m,\u001b[0m \u001b[0mheaders\u001b[0m\u001b[0;34m=\u001b[0m\u001b[0mheaders\u001b[0m\u001b[0;34m)\u001b[0m\u001b[0;34m\u001b[0m\u001b[0;34m\u001b[0m\u001b[0m\n\u001b[0m\u001b[1;32m    483\u001b[0m         \u001b[0;32mexcept\u001b[0m \u001b[0mException\u001b[0m \u001b[0;32mas\u001b[0m \u001b[0merror\u001b[0m\u001b[0;34m:\u001b[0m\u001b[0;34m\u001b[0m\u001b[0;34m\u001b[0m\u001b[0m\n",
            "\u001b[0;32m/usr/local/lib/python3.12/dist-packages/requests/sessions.py\u001b[0m in \u001b[0;36mget\u001b[0;34m(self, url, **kwargs)\u001b[0m\n\u001b[1;32m    601\u001b[0m         \u001b[0mkwargs\u001b[0m\u001b[0;34m.\u001b[0m\u001b[0msetdefault\u001b[0m\u001b[0;34m(\u001b[0m\u001b[0;34m\"allow_redirects\"\u001b[0m\u001b[0;34m,\u001b[0m \u001b[0;32mTrue\u001b[0m\u001b[0;34m)\u001b[0m\u001b[0;34m\u001b[0m\u001b[0;34m\u001b[0m\u001b[0m\n\u001b[0;32m--> 602\u001b[0;31m         \u001b[0;32mreturn\u001b[0m \u001b[0mself\u001b[0m\u001b[0;34m.\u001b[0m\u001b[0mrequest\u001b[0m\u001b[0;34m(\u001b[0m\u001b[0;34m\"GET\"\u001b[0m\u001b[0;34m,\u001b[0m \u001b[0murl\u001b[0m\u001b[0;34m,\u001b[0m \u001b[0;34m**\u001b[0m\u001b[0mkwargs\u001b[0m\u001b[0;34m)\u001b[0m\u001b[0;34m\u001b[0m\u001b[0;34m\u001b[0m\u001b[0m\n\u001b[0m\u001b[1;32m    603\u001b[0m \u001b[0;34m\u001b[0m\u001b[0m\n",
            "\u001b[0;32m/usr/local/lib/python3.12/dist-packages/requests/sessions.py\u001b[0m in \u001b[0;36mrequest\u001b[0;34m(self, method, url, params, data, headers, cookies, files, auth, timeout, allow_redirects, proxies, hooks, stream, verify, cert, json)\u001b[0m\n\u001b[1;32m    588\u001b[0m         \u001b[0msend_kwargs\u001b[0m\u001b[0;34m.\u001b[0m\u001b[0mupdate\u001b[0m\u001b[0;34m(\u001b[0m\u001b[0msettings\u001b[0m\u001b[0;34m)\u001b[0m\u001b[0;34m\u001b[0m\u001b[0;34m\u001b[0m\u001b[0m\n\u001b[0;32m--> 589\u001b[0;31m         \u001b[0mresp\u001b[0m \u001b[0;34m=\u001b[0m \u001b[0mself\u001b[0m\u001b[0;34m.\u001b[0m\u001b[0msend\u001b[0m\u001b[0;34m(\u001b[0m\u001b[0mprep\u001b[0m\u001b[0;34m,\u001b[0m \u001b[0;34m**\u001b[0m\u001b[0msend_kwargs\u001b[0m\u001b[0;34m)\u001b[0m\u001b[0;34m\u001b[0m\u001b[0;34m\u001b[0m\u001b[0m\n\u001b[0m\u001b[1;32m    590\u001b[0m \u001b[0;34m\u001b[0m\u001b[0m\n",
            "\u001b[0;32m/usr/local/lib/python3.12/dist-packages/requests/sessions.py\u001b[0m in \u001b[0;36msend\u001b[0;34m(self, request, **kwargs)\u001b[0m\n\u001b[1;32m    702\u001b[0m         \u001b[0;31m# Send the request\u001b[0m\u001b[0;34m\u001b[0m\u001b[0;34m\u001b[0m\u001b[0m\n\u001b[0;32m--> 703\u001b[0;31m         \u001b[0mr\u001b[0m \u001b[0;34m=\u001b[0m \u001b[0madapter\u001b[0m\u001b[0;34m.\u001b[0m\u001b[0msend\u001b[0m\u001b[0;34m(\u001b[0m\u001b[0mrequest\u001b[0m\u001b[0;34m,\u001b[0m \u001b[0;34m**\u001b[0m\u001b[0mkwargs\u001b[0m\u001b[0;34m)\u001b[0m\u001b[0;34m\u001b[0m\u001b[0;34m\u001b[0m\u001b[0m\n\u001b[0m\u001b[1;32m    704\u001b[0m \u001b[0;34m\u001b[0m\u001b[0m\n",
            "\u001b[0;32m/usr/local/lib/python3.12/dist-packages/requests/adapters.py\u001b[0m in \u001b[0;36msend\u001b[0;34m(self, request, stream, timeout, verify, cert, proxies)\u001b[0m\n\u001b[1;32m    699\u001b[0m \u001b[0;34m\u001b[0m\u001b[0m\n\u001b[0;32m--> 700\u001b[0;31m             \u001b[0;32mraise\u001b[0m \u001b[0mConnectionError\u001b[0m\u001b[0;34m(\u001b[0m\u001b[0me\u001b[0m\u001b[0;34m,\u001b[0m \u001b[0mrequest\u001b[0m\u001b[0;34m=\u001b[0m\u001b[0mrequest\u001b[0m\u001b[0;34m)\u001b[0m\u001b[0;34m\u001b[0m\u001b[0;34m\u001b[0m\u001b[0m\n\u001b[0m\u001b[1;32m    701\u001b[0m \u001b[0;34m\u001b[0m\u001b[0m\n",
            "\u001b[0;31mConnectionError\u001b[0m: HTTPSConnectionPool(host='nominatim.openstreetmap.org', port=443): Max retries exceeded with url: /search?q=1%C2%B0+DN&format=json&limit=1 (Caused by ReadTimeoutError(\"HTTPSConnectionPool(host='nominatim.openstreetmap.org', port=443): Read timed out. (read timeout=5)\"))",
            "\nDuring handling of the above exception, another exception occurred:\n",
            "\u001b[0;31mGeocoderUnavailable\u001b[0m                       Traceback (most recent call last)",
            "\u001b[0;32m/tmp/ipython-input-2706044649.py\u001b[0m in \u001b[0;36m<cell line: 0>\u001b[0;34m()\u001b[0m\n\u001b[1;32m      4\u001b[0m \u001b[0;34m\u001b[0m\u001b[0m\n\u001b[1;32m      5\u001b[0m \u001b[0;32mfor\u001b[0m \u001b[0m_\u001b[0m\u001b[0;34m,\u001b[0m \u001b[0mrow\u001b[0m \u001b[0;32min\u001b[0m \u001b[0mom_info\u001b[0m\u001b[0;34m.\u001b[0m\u001b[0miterrows\u001b[0m\u001b[0;34m(\u001b[0m\u001b[0;34m)\u001b[0m\u001b[0;34m:\u001b[0m\u001b[0;34m\u001b[0m\u001b[0;34m\u001b[0m\u001b[0m\n\u001b[0;32m----> 6\u001b[0;31m   \u001b[0menderecos\u001b[0m\u001b[0;34m.\u001b[0m\u001b[0mappend\u001b[0m\u001b[0;34m(\u001b[0m\u001b[0mgeolocator\u001b[0m\u001b[0;34m.\u001b[0m\u001b[0mgeocode\u001b[0m\u001b[0;34m(\u001b[0m\u001b[0mrow\u001b[0m\u001b[0;34m.\u001b[0m\u001b[0mENDERECO\u001b[0m\u001b[0;34m)\u001b[0m\u001b[0;34m)\u001b[0m\u001b[0;34m\u001b[0m\u001b[0;34m\u001b[0m\u001b[0m\n\u001b[0m\u001b[1;32m      7\u001b[0m   \u001b[0mprint\u001b[0m\u001b[0;34m(\u001b[0m\u001b[0m_\u001b[0m\u001b[0;34m)\u001b[0m\u001b[0;34m\u001b[0m\u001b[0;34m\u001b[0m\u001b[0m\n",
            "\u001b[0;32m/usr/local/lib/python3.12/dist-packages/geopy/geocoders/nominatim.py\u001b[0m in \u001b[0;36mgeocode\u001b[0;34m(self, query, exactly_one, timeout, limit, addressdetails, language, geometry, extratags, country_codes, viewbox, bounded, featuretype, namedetails)\u001b[0m\n\u001b[1;32m    295\u001b[0m         \u001b[0mlogger\u001b[0m\u001b[0;34m.\u001b[0m\u001b[0mdebug\u001b[0m\u001b[0;34m(\u001b[0m\u001b[0;34m\"%s.geocode: %s\"\u001b[0m\u001b[0;34m,\u001b[0m \u001b[0mself\u001b[0m\u001b[0;34m.\u001b[0m\u001b[0m__class__\u001b[0m\u001b[0;34m.\u001b[0m\u001b[0m__name__\u001b[0m\u001b[0;34m,\u001b[0m \u001b[0murl\u001b[0m\u001b[0;34m)\u001b[0m\u001b[0;34m\u001b[0m\u001b[0;34m\u001b[0m\u001b[0m\n\u001b[1;32m    296\u001b[0m         \u001b[0mcallback\u001b[0m \u001b[0;34m=\u001b[0m \u001b[0mpartial\u001b[0m\u001b[0;34m(\u001b[0m\u001b[0mself\u001b[0m\u001b[0;34m.\u001b[0m\u001b[0m_parse_json\u001b[0m\u001b[0;34m,\u001b[0m \u001b[0mexactly_one\u001b[0m\u001b[0;34m=\u001b[0m\u001b[0mexactly_one\u001b[0m\u001b[0;34m)\u001b[0m\u001b[0;34m\u001b[0m\u001b[0;34m\u001b[0m\u001b[0m\n\u001b[0;32m--> 297\u001b[0;31m         \u001b[0;32mreturn\u001b[0m \u001b[0mself\u001b[0m\u001b[0;34m.\u001b[0m\u001b[0m_call_geocoder\u001b[0m\u001b[0;34m(\u001b[0m\u001b[0murl\u001b[0m\u001b[0;34m,\u001b[0m \u001b[0mcallback\u001b[0m\u001b[0;34m,\u001b[0m \u001b[0mtimeout\u001b[0m\u001b[0;34m=\u001b[0m\u001b[0mtimeout\u001b[0m\u001b[0;34m)\u001b[0m\u001b[0;34m\u001b[0m\u001b[0;34m\u001b[0m\u001b[0m\n\u001b[0m\u001b[1;32m    298\u001b[0m \u001b[0;34m\u001b[0m\u001b[0m\n\u001b[1;32m    299\u001b[0m     def reverse(\n",
            "\u001b[0;32m/usr/local/lib/python3.12/dist-packages/geopy/geocoders/base.py\u001b[0m in \u001b[0;36m_call_geocoder\u001b[0;34m(self, url, callback, timeout, is_json, headers)\u001b[0m\n\u001b[1;32m    366\u001b[0m         \u001b[0;32mtry\u001b[0m\u001b[0;34m:\u001b[0m\u001b[0;34m\u001b[0m\u001b[0;34m\u001b[0m\u001b[0m\n\u001b[1;32m    367\u001b[0m             \u001b[0;32mif\u001b[0m \u001b[0mis_json\u001b[0m\u001b[0;34m:\u001b[0m\u001b[0;34m\u001b[0m\u001b[0;34m\u001b[0m\u001b[0m\n\u001b[0;32m--> 368\u001b[0;31m                 \u001b[0mresult\u001b[0m \u001b[0;34m=\u001b[0m \u001b[0mself\u001b[0m\u001b[0;34m.\u001b[0m\u001b[0madapter\u001b[0m\u001b[0;34m.\u001b[0m\u001b[0mget_json\u001b[0m\u001b[0;34m(\u001b[0m\u001b[0murl\u001b[0m\u001b[0;34m,\u001b[0m \u001b[0mtimeout\u001b[0m\u001b[0;34m=\u001b[0m\u001b[0mtimeout\u001b[0m\u001b[0;34m,\u001b[0m \u001b[0mheaders\u001b[0m\u001b[0;34m=\u001b[0m\u001b[0mreq_headers\u001b[0m\u001b[0;34m)\u001b[0m\u001b[0;34m\u001b[0m\u001b[0;34m\u001b[0m\u001b[0m\n\u001b[0m\u001b[1;32m    369\u001b[0m             \u001b[0;32melse\u001b[0m\u001b[0;34m:\u001b[0m\u001b[0;34m\u001b[0m\u001b[0;34m\u001b[0m\u001b[0m\n\u001b[1;32m    370\u001b[0m                 \u001b[0mresult\u001b[0m \u001b[0;34m=\u001b[0m \u001b[0mself\u001b[0m\u001b[0;34m.\u001b[0m\u001b[0madapter\u001b[0m\u001b[0;34m.\u001b[0m\u001b[0mget_text\u001b[0m\u001b[0;34m(\u001b[0m\u001b[0murl\u001b[0m\u001b[0;34m,\u001b[0m \u001b[0mtimeout\u001b[0m\u001b[0;34m=\u001b[0m\u001b[0mtimeout\u001b[0m\u001b[0;34m,\u001b[0m \u001b[0mheaders\u001b[0m\u001b[0;34m=\u001b[0m\u001b[0mreq_headers\u001b[0m\u001b[0;34m)\u001b[0m\u001b[0;34m\u001b[0m\u001b[0;34m\u001b[0m\u001b[0m\n",
            "\u001b[0;32m/usr/local/lib/python3.12/dist-packages/geopy/adapters.py\u001b[0m in \u001b[0;36mget_json\u001b[0;34m(self, url, timeout, headers)\u001b[0m\n\u001b[1;32m    470\u001b[0m \u001b[0;34m\u001b[0m\u001b[0m\n\u001b[1;32m    471\u001b[0m     \u001b[0;32mdef\u001b[0m \u001b[0mget_json\u001b[0m\u001b[0;34m(\u001b[0m\u001b[0mself\u001b[0m\u001b[0;34m,\u001b[0m \u001b[0murl\u001b[0m\u001b[0;34m,\u001b[0m \u001b[0;34m*\u001b[0m\u001b[0;34m,\u001b[0m \u001b[0mtimeout\u001b[0m\u001b[0;34m,\u001b[0m \u001b[0mheaders\u001b[0m\u001b[0;34m)\u001b[0m\u001b[0;34m:\u001b[0m\u001b[0;34m\u001b[0m\u001b[0;34m\u001b[0m\u001b[0m\n\u001b[0;32m--> 472\u001b[0;31m         \u001b[0mresp\u001b[0m \u001b[0;34m=\u001b[0m \u001b[0mself\u001b[0m\u001b[0;34m.\u001b[0m\u001b[0m_request\u001b[0m\u001b[0;34m(\u001b[0m\u001b[0murl\u001b[0m\u001b[0;34m,\u001b[0m \u001b[0mtimeout\u001b[0m\u001b[0;34m=\u001b[0m\u001b[0mtimeout\u001b[0m\u001b[0;34m,\u001b[0m \u001b[0mheaders\u001b[0m\u001b[0;34m=\u001b[0m\u001b[0mheaders\u001b[0m\u001b[0;34m)\u001b[0m\u001b[0;34m\u001b[0m\u001b[0;34m\u001b[0m\u001b[0m\n\u001b[0m\u001b[1;32m    473\u001b[0m         \u001b[0;32mtry\u001b[0m\u001b[0;34m:\u001b[0m\u001b[0;34m\u001b[0m\u001b[0;34m\u001b[0m\u001b[0m\n\u001b[1;32m    474\u001b[0m             \u001b[0;32mreturn\u001b[0m \u001b[0mresp\u001b[0m\u001b[0;34m.\u001b[0m\u001b[0mjson\u001b[0m\u001b[0;34m(\u001b[0m\u001b[0;34m)\u001b[0m\u001b[0;34m\u001b[0m\u001b[0;34m\u001b[0m\u001b[0m\n",
            "\u001b[0;32m/usr/local/lib/python3.12/dist-packages/geopy/adapters.py\u001b[0m in \u001b[0;36m_request\u001b[0;34m(self, url, timeout, headers)\u001b[0m\n\u001b[1;32m    492\u001b[0m                     \u001b[0;32mraise\u001b[0m \u001b[0mGeocoderServiceError\u001b[0m\u001b[0;34m(\u001b[0m\u001b[0mmessage\u001b[0m\u001b[0;34m)\u001b[0m\u001b[0;34m\u001b[0m\u001b[0;34m\u001b[0m\u001b[0m\n\u001b[1;32m    493\u001b[0m                 \u001b[0;32melse\u001b[0m\u001b[0;34m:\u001b[0m\u001b[0;34m\u001b[0m\u001b[0;34m\u001b[0m\u001b[0m\n\u001b[0;32m--> 494\u001b[0;31m                     \u001b[0;32mraise\u001b[0m \u001b[0mGeocoderUnavailable\u001b[0m\u001b[0;34m(\u001b[0m\u001b[0mmessage\u001b[0m\u001b[0;34m)\u001b[0m\u001b[0;34m\u001b[0m\u001b[0;34m\u001b[0m\u001b[0m\n\u001b[0m\u001b[1;32m    495\u001b[0m             \u001b[0;32melif\u001b[0m \u001b[0misinstance\u001b[0m\u001b[0;34m(\u001b[0m\u001b[0merror\u001b[0m\u001b[0;34m,\u001b[0m \u001b[0mrequests\u001b[0m\u001b[0;34m.\u001b[0m\u001b[0mTimeout\u001b[0m\u001b[0;34m)\u001b[0m\u001b[0;34m:\u001b[0m\u001b[0;34m\u001b[0m\u001b[0;34m\u001b[0m\u001b[0m\n\u001b[1;32m    496\u001b[0m                 \u001b[0;32mraise\u001b[0m \u001b[0mGeocoderTimedOut\u001b[0m\u001b[0;34m(\u001b[0m\u001b[0;34m\"Service timed out\"\u001b[0m\u001b[0;34m)\u001b[0m\u001b[0;34m\u001b[0m\u001b[0;34m\u001b[0m\u001b[0m\n",
            "\u001b[0;31mGeocoderUnavailable\u001b[0m: HTTPSConnectionPool(host='nominatim.openstreetmap.org', port=443): Max retries exceeded with url: /search?q=1%C2%B0+DN&format=json&limit=1 (Caused by ReadTimeoutError(\"HTTPSConnectionPool(host='nominatim.openstreetmap.org', port=443): Read timed out. (read timeout=5)\"))"
          ]
        }
      ]
    },
    {
      "cell_type": "code",
      "source": [
        "enderecos"
      ],
      "metadata": {
        "id": "uy6ZQSf24Gt7"
      },
      "id": "uy6ZQSf24Gt7",
      "execution_count": null,
      "outputs": []
    },
    {
      "cell_type": "code",
      "source": [
        "centralizadas.TIPO_CENTRALIZACAO_ID.value_counts()"
      ],
      "metadata": {
        "id": "Ld0P-0kAisHu"
      },
      "id": "Ld0P-0kAisHu",
      "execution_count": null,
      "outputs": []
    },
    {
      "cell_type": "code",
      "source": [
        "# Dicionário para converter do código interno para número da uasg\n",
        "tradutor_id_codigo = {row.ID: row.CODIGO for _, row in om_info.iterrows()}\n",
        "\n",
        "centralizadas[['OM_CENTRALIZADA_ID', 'OM_CENTRALIZADORA_ID']] = centralizadas[['OM_CENTRALIZADA_ID', 'OM_CENTRALIZADORA_ID']].replace(tradutor_id_codigo)"
      ],
      "metadata": {
        "id": "IieOclPIPLmL"
      },
      "id": "IieOclPIPLmL",
      "execution_count": null,
      "outputs": []
    },
    {
      "cell_type": "code",
      "source": [
        "# Filtrando apenas as OM que possuem dados de todo o período observado (80 meses)\n",
        "mmm = mmm[(mmm.codigo.isin((mmm.codigo.value_counts()==80).index)) & ~(mmm.nome.str.contains('TREINA'))]"
      ],
      "metadata": {
        "id": "lGe5f0nPYikw"
      },
      "id": "lGe5f0nPYikw",
      "execution_count": null,
      "outputs": []
    },
    {
      "cell_type": "code",
      "source": [
        "etapas[etapas.codigo.isin(mmm.codigo.unique())]"
      ],
      "metadata": {
        "id": "TS9EEdf1b3_o"
      },
      "id": "TS9EEdf1b3_o",
      "execution_count": null,
      "outputs": []
    },
    {
      "cell_type": "code",
      "source": [
        "centralizadas[centralizadas.OM_CENTRALIZADA_ID==14000]"
      ],
      "metadata": {
        "id": "GvBgL7QgcEYq"
      },
      "id": "GvBgL7QgcEYq",
      "execution_count": null,
      "outputs": []
    },
    {
      "cell_type": "code",
      "source": [
        "# etapas['centralizadoras'] = [centralizadas[(centralizadas.DATA_INICIO<=row.ano_mes) & (centralizadas.DATA_FIM>row.ano_mes) & (centralizadas.OM_CENTRALIZADA_ID==row.codigo)].OM_CENTRALIZADORA_ID.values for _, row in etapas.iterrows()]\n",
        "\n",
        "merged = pd.merge(etapas, centralizadas, how='left',\n",
        "                  left_on='codigo', right_on='OM_CENTRALIZADA_ID')\n",
        "\n",
        "# Filtrando as linhas onde as datas atendem as condições (usando a máscara booleana)\n",
        "merged = merged[(merged['DATA_INICIO'] <= merged['ano_mes']) &\n",
        "                (merged['DATA_FIM'] > merged['ano_mes'])]\n",
        "\n",
        "# Agora, podemos simplesmente atribuir a coluna 'OM_CENTRALIZADORA_ID'\n",
        "etapas['centralizadoras'] = merged.groupby('codigo')['OM_CENTRALIZADORA_ID'].first().values\n",
        "\n",
        "del merged\n"
      ],
      "metadata": {
        "id": "QrhWTDDzQjM7"
      },
      "id": "QrhWTDDzQjM7",
      "execution_count": null,
      "outputs": []
    },
    {
      "cell_type": "code",
      "source": [
        "etapas"
      ],
      "metadata": {
        "id": "SupNHzr4SobU"
      },
      "id": "SupNHzr4SobU",
      "execution_count": null,
      "outputs": []
    },
    {
      "cell_type": "code",
      "source": [
        "centralizadas[centralizadas.OM_CENTRALIZADA_ID==11100]"
      ],
      "metadata": {
        "id": "CdtbygVQTu2O"
      },
      "id": "CdtbygVQTu2O",
      "execution_count": null,
      "outputs": []
    },
    {
      "cell_type": "code",
      "source": [
        "tradutor_id_codigo"
      ],
      "metadata": {
        "id": "rk7PVFNMURYR"
      },
      "id": "rk7PVFNMURYR",
      "execution_count": null,
      "outputs": []
    },
    {
      "cell_type": "code",
      "source": [
        "centralizadas"
      ],
      "metadata": {
        "id": "E9zFAJt3NY6a"
      },
      "id": "E9zFAJt3NY6a",
      "execution_count": null,
      "outputs": []
    },
    {
      "cell_type": "code",
      "source": [
        "etapas"
      ],
      "metadata": {
        "id": "yvKXSA5DEE4B"
      },
      "id": "yvKXSA5DEE4B",
      "execution_count": null,
      "outputs": []
    },
    {
      "cell_type": "code",
      "source": [],
      "metadata": {
        "id": "fcyHr0wZFQ2q"
      },
      "id": "fcyHr0wZFQ2q",
      "execution_count": null,
      "outputs": []
    },
    {
      "cell_type": "code",
      "source": [
        "mmm_custo_unitario = pd.merge(left=mmm, right=etapas.groupby(['ano', 'mes', 'codigo']).quantidade.sum().reset_index(), how='inner', on=['codigo', 'ano', 'mes'])[['ano', 'mes', 'codigo', 'nome', 'totais_balanco_paiol_despesa', 'quantidade']]"
      ],
      "metadata": {
        "id": "gfA5SBM6RIlD"
      },
      "id": "gfA5SBM6RIlD",
      "execution_count": null,
      "outputs": []
    },
    {
      "cell_type": "code",
      "source": [
        "mmm_custo_unitario['custo_unitario'] = mmm_custo_unitario.totais_balanco_paiol_despesa / mmm_custo_unitario.quantidade"
      ],
      "metadata": {
        "id": "4z3560NZRxCz"
      },
      "id": "4z3560NZRxCz",
      "execution_count": null,
      "outputs": []
    },
    {
      "cell_type": "code",
      "source": [
        "mmm_custo_unitario.sort_values(by='custo_unitario').tail(50)"
      ],
      "metadata": {
        "id": "TwAAL0fUR79_"
      },
      "id": "TwAAL0fUR79_",
      "execution_count": null,
      "outputs": []
    },
    {
      "cell_type": "code",
      "source": [
        "mmm_custo_unitario.custo_unitario.describe()"
      ],
      "metadata": {
        "id": "FSGknt9LTAaP"
      },
      "id": "FSGknt9LTAaP",
      "execution_count": null,
      "outputs": []
    },
    {
      "cell_type": "code",
      "source": [
        "etapas[etapas.codigo_etapa < 600].groupby(['ano', 'mes', 'codigo']).quantidade.sum().reset_index()"
      ],
      "metadata": {
        "id": "11v-tbNfPAx-"
      },
      "id": "11v-tbNfPAx-",
      "execution_count": null,
      "outputs": []
    },
    {
      "cell_type": "code",
      "execution_count": null,
      "id": "d23b319b",
      "metadata": {
        "id": "d23b319b"
      },
      "outputs": [],
      "source": [
        "mmm_marinha = mmm.groupby(['ano', 'mes'])[[col for col in mmm.columns if col not in ['ano', 'mes', 'codigo', 'nome']]].sum().reset_index()"
      ]
    },
    {
      "cell_type": "code",
      "execution_count": null,
      "id": "81640c41",
      "metadata": {
        "id": "81640c41"
      },
      "outputs": [],
      "source": [
        "mmm_marinha['mes'] = [''.join([str(i[0]), '_', str(i[1])]) for i in zip(mmm_marinha.mes.values, mmm_marinha.ano.values)]\n",
        "mmm_marinha.drop(columns=['ano'], inplace=True)\n",
        "mmm_marinha = mmm_marinha.iloc[:-2]"
      ]
    },
    {
      "cell_type": "code",
      "execution_count": null,
      "id": "0f51d785",
      "metadata": {
        "id": "0f51d785"
      },
      "outputs": [],
      "source": [
        "mmm_etapas = pd.merge(left=mmm, right=etapas, how='inner', on=['ano', 'mes', 'codigo'])"
      ]
    },
    {
      "cell_type": "code",
      "execution_count": null,
      "id": "4fe04974",
      "metadata": {
        "id": "4fe04974"
      },
      "outputs": [],
      "source": [
        "mmm_etapas[mmm_etapas.codigo_etapa.isin([103, 105])][['ano', 'mes', 'nome', 'codigo_etapa', 'quantidade']]"
      ]
    },
    {
      "cell_type": "code",
      "execution_count": null,
      "id": "f752e514",
      "metadata": {
        "id": "f752e514"
      },
      "outputs": [],
      "source": [
        "pd.DataFrame({\n",
        "    'diferenca': mmm_receita_despesa.despesa_autorizada_global - (mmm_receita_despesa.generos_consumidos + mmm_receita_despesa.vale_extra),\n",
        "    'sobra_licita': mmm_receita_despesa.sobra_licita\n",
        "})"
      ]
    },
    {
      "cell_type": "code",
      "execution_count": null,
      "id": "41d994ae",
      "metadata": {
        "id": "41d994ae"
      },
      "outputs": [],
      "source": [
        "da_marinha = da.groupby(['mes', 'ano']).despesa_autorizada_global.sum().reset_index()\n",
        "da_marinha['mes'] = ['_'.join(['{:02d}'.format(i[0]), str(i[1])]) for i in zip(da_marinha.mes.values, da_marinha.ano.values)]\n",
        "da_marinha = da_marinha.sort_values(by=['ano', 'mes']).iloc[:-2]\n",
        "fig = px.line(\n",
        "    da_marinha,\n",
        "    x = 'mes',\n",
        "    y = 'despesa_autorizada_global',\n",
        "    title='Despesa Autorizada global'\n",
        ")\n",
        "\n",
        "fig.show()"
      ]
    },
    {
      "cell_type": "code",
      "execution_count": null,
      "id": "066e46ec",
      "metadata": {
        "id": "066e46ec"
      },
      "outputs": [],
      "source": [
        "def grafico_base(titulo):\n",
        "    return px.line(\n",
        "        mmm_marinha,\n",
        "        x = 'mes',\n",
        "        y = 'totais_balanco_paiol_despesa',\n",
        "        labels = {\n",
        "            'mes': 'Mês e ano',\n",
        "            'totais_balanco_paiol_despesa': 'Totais das despesas'\n",
        "        },\n",
        "        title = titulo\n",
        "    )\n",
        "\n",
        "fig = grafico_base('Gastos com alimentação dos últimos cinco anos')\n",
        "\n",
        "fig.update_traces(mode='lines+markers', line=dict(width=2))\n",
        "fig.update_xaxes(tickangle=45)\n",
        "fig.update_layout(\n",
        "    template='plotly_white',\n",
        "    hovermode='x unified'\n",
        "    )\n",
        "\n",
        "fig.show()"
      ]
    },
    {
      "cell_type": "code",
      "execution_count": null,
      "id": "fc3e4dff",
      "metadata": {
        "id": "fc3e4dff"
      },
      "outputs": [],
      "source": [
        "# Teste de estacionariedade\n",
        "\n",
        "result = adfuller(mmm_marinha.totais_balanco_paiol_despesa)\n",
        "print(f'ADF: {result[0]}, p-valor: {result[1]}')"
      ]
    },
    {
      "cell_type": "code",
      "execution_count": null,
      "id": "80c6cb01",
      "metadata": {
        "id": "80c6cb01"
      },
      "outputs": [],
      "source": [
        "naive_forecast = mmm_marinha.totais_balanco_paiol_despesa.shift(1)\n",
        "mae_naive = mean_absolute_error(mmm_marinha.totais_balanco_paiol_despesa.iloc[1:], naive_forecast.iloc[1:])\n",
        "print('Baseline Naïve MAE:', mae_naive)"
      ]
    },
    {
      "cell_type": "code",
      "execution_count": null,
      "id": "3cbd40b6",
      "metadata": {
        "id": "3cbd40b6"
      },
      "outputs": [],
      "source": [
        "# SARIMA\n",
        "\n",
        "train = mmm_marinha.iloc[:-12, :]\n",
        "test = mmm_marinha.iloc[-12:, :]\n",
        "\n",
        "model_auto = pm.auto_arima(train.totais_balanco_paiol_despesa, seasonal=True, m=12, stepwise=True, trace=True)\n",
        "print(model_auto.summary())"
      ]
    },
    {
      "cell_type": "code",
      "execution_count": null,
      "id": "26635981",
      "metadata": {
        "id": "26635981"
      },
      "outputs": [],
      "source": [
        "mmm"
      ]
    },
    {
      "cell_type": "code",
      "execution_count": null,
      "id": "7d0c5db5",
      "metadata": {
        "id": "7d0c5db5"
      },
      "outputs": [],
      "source": [
        "sarima_model = SARIMAX(train.totais_balanco_paiol_despesa,\n",
        "                       order=model_auto.order,\n",
        "                       seasonal_order=model_auto.seasonal_order)\n",
        "\n",
        "sarima_fit = sarima_model.fit(disp=False)\n",
        "\n",
        "forecast_sarima = sarima_fit.get_forecast(steps=12)\n",
        "pred_sarima = forecast_sarima.predicted_mean\n",
        "\n",
        "mae_sarima = mean_absolute_error(test.totais_balanco_paiol_despesa, pred_sarima)\n",
        "print('SARIMA MAE:', mae_sarima)\n",
        "\n"
      ]
    },
    {
      "cell_type": "code",
      "execution_count": null,
      "id": "fc5d37b2",
      "metadata": {
        "id": "fc5d37b2"
      },
      "outputs": [],
      "source": [
        "fig = grafico_base('Previsão temporal com o algoritmo SARIMA')\n",
        "\n",
        "fig.add_trace(\n",
        "    go.Scatter(\n",
        "        x = test.mes,\n",
        "        y = pred_sarima\n",
        "    )\n",
        ")\n",
        "\n",
        "fig.update_traces(mode='lines+markers', line=dict(width=2))\n",
        "fig.update_xaxes(tickangle=45)\n",
        "fig.update_layout(\n",
        "    template='plotly_white',\n",
        "    hovermode='x unified'\n",
        "    )\n",
        "\n",
        "fig.show()"
      ]
    },
    {
      "cell_type": "code",
      "execution_count": null,
      "id": "678e5898",
      "metadata": {
        "id": "678e5898"
      },
      "outputs": [],
      "source": [
        "# Previsão com o Prophet\n",
        "\n",
        "prophet_df = mmm_marinha[['mes', 'totais_balanco_paiol_despesa']]\n",
        "prophet_df.columns = ['ds', 'y']\n",
        "prophet_df['ds'] = pd.to_datetime(prophet_df['ds'], format='%m_%Y')\n",
        "\n",
        "model_prophet = Prophet(yearly_seasonality=True, weekly_seasonality=False, daily_seasonality=False)\n",
        "model_prophet.fit(prophet_df)\n",
        "\n",
        "future = model_prophet.make_future_dataframe(periods=12, freq='M')\n",
        "forecast = model_prophet.predict(future)\n",
        "\n",
        "forecast_test = forecast.set_index('ds').loc[pd.to_datetime(test.mes, format='%m_%Y')]\n",
        "mae_prophet = mean_absolute_error(test['totais_balanco_paiol_despesa'], forecast_test['yhat'])\n",
        "print('Prophet MAE', mae_prophet)"
      ]
    },
    {
      "cell_type": "code",
      "execution_count": null,
      "id": "2f7c19f3",
      "metadata": {
        "id": "2f7c19f3"
      },
      "outputs": [],
      "source": [
        "fig = grafico_base('Previsão temporal com o algoritmo Prophet')\n",
        "\n",
        "fig.add_trace(\n",
        "    go.Scatter(\n",
        "        x = test.mes,\n",
        "        y = forecast_test.yhat\n",
        "    )\n",
        ")\n",
        "\n",
        "fig.update_traces(mode='lines+markers', line=dict(width=2))\n",
        "fig.update_xaxes(tickangle=45)\n",
        "fig.update_layout(\n",
        "    template='plotly_white',\n",
        "    hovermode='x unified'\n",
        "    )\n",
        "\n",
        "fig.show()"
      ]
    },
    {
      "cell_type": "code",
      "execution_count": null,
      "id": "b2a4064f",
      "metadata": {
        "id": "b2a4064f"
      },
      "outputs": [],
      "source": [
        "# Regressão com XGBoost para séries temporais\n",
        "\n",
        "xg_df = mmm_marinha[['mes', 'totais_balanco_paiol_despesa']]\n",
        "xg_df['ano'] = xg_df['mes'].apply(lambda x: x.split('_')[-1]).astype(int)\n",
        "xg_df['mes'] = xg_df['mes'].apply(lambda x: x.split('_')[0]).astype(int)\n",
        "xg_df['lag1'] = xg_df['totais_balanco_paiol_despesa'].shift(1)\n",
        "xg_df['lag3'] = xg_df['totais_balanco_paiol_despesa'].shift(3)\n",
        "xg_df['lag6'] = xg_df['totais_balanco_paiol_despesa'].shift(6)\n",
        "xg_df['rolling3'] = xg_df['totais_balanco_paiol_despesa'].rolling(3).mean()\n",
        "xg_df['rolling6'] = xg_df['totais_balanco_paiol_despesa'].rolling(6).mean()\n",
        "\n",
        "xg_df = xg_df.dropna().reset_index(drop=True)"
      ]
    },
    {
      "cell_type": "code",
      "execution_count": null,
      "id": "0b9e0724",
      "metadata": {
        "id": "0b9e0724"
      },
      "outputs": [],
      "source": [
        "train_xg = xg_df.iloc[:-12]\n",
        "test_xg = xg_df.iloc[-12:]\n",
        "\n",
        "X_train = train_xg.drop(columns=['totais_balanco_paiol_despesa'])\n",
        "y_train = train_xg['totais_balanco_paiol_despesa']\n",
        "X_test = test_xg.drop(columns=['totais_balanco_paiol_despesa'])\n",
        "y_test = test_xg['totais_balanco_paiol_despesa']\n",
        "\n",
        "xgb = XGBRegressor(\n",
        "    n_estimators = 300,\n",
        "    learning_rate = 0.05,\n",
        "    max_depth = 5,\n",
        "    subsample = 0.8,\n",
        "    colsample_bytree = 0.8,\n",
        "    random_state = 42\n",
        ")\n",
        "\n",
        "xgb.fit(X_train, y_train)\n",
        "\n",
        "pred_xgb = xgb.predict(X_test)\n",
        "\n",
        "mae_xgb = mean_absolute_error(y_test, pred_xgb)\n",
        "\n",
        "print(\"XGBoost MAE:\", mae_xgb)\n"
      ]
    },
    {
      "cell_type": "code",
      "execution_count": null,
      "id": "610a55a9",
      "metadata": {
        "id": "610a55a9"
      },
      "outputs": [],
      "source": [
        "fig = grafico_base('Previsão temporal com o algoritmo XGBoost')\n",
        "\n",
        "fig.add_trace(\n",
        "    go.Scatter(\n",
        "        x = test.mes,\n",
        "        y = pred_xgb\n",
        "    )\n",
        ")\n",
        "\n",
        "fig.update_traces(mode='lines+markers', line=dict(width=2))\n",
        "fig.update_xaxes(tickangle=45)\n",
        "fig.update_layout(\n",
        "    template='plotly_white',\n",
        "    hovermode='x unified'\n",
        "    )\n",
        "\n",
        "fig.show()"
      ]
    },
    {
      "cell_type": "code",
      "execution_count": null,
      "id": "4aec5d4b",
      "metadata": {
        "id": "4aec5d4b"
      },
      "outputs": [],
      "source": [
        "hw_model = ExponentialSmoothing(\n",
        "    train['totais_balanco_paiol_despesa'],\n",
        "    trend='add',\n",
        "    seasonal='add',\n",
        "    seasonal_periods=12\n",
        ").fit()\n",
        "\n",
        "pred_hw = hw_model.forecast(12)"
      ]
    },
    {
      "cell_type": "code",
      "execution_count": null,
      "id": "8d782840",
      "metadata": {
        "id": "8d782840"
      },
      "outputs": [],
      "source": [
        "fig = grafico_base('Previsão temporal com o algoritmo ExponentialSmoothing')\n",
        "\n",
        "fig.add_trace(\n",
        "    go.Scatter(\n",
        "        x = test.mes,\n",
        "        y = pred_hw\n",
        "    )\n",
        ")\n",
        "\n",
        "fig.update_traces(mode='lines+markers', line=dict(width=2))\n",
        "fig.update_xaxes(tickangle=45)\n",
        "fig.update_layout(\n",
        "    template='plotly_white',\n",
        "    hovermode='x unified'\n",
        "    )\n",
        "\n",
        "fig.show()"
      ]
    },
    {
      "cell_type": "code",
      "execution_count": null,
      "id": "1a3bfe4c",
      "metadata": {
        "id": "1a3bfe4c"
      },
      "outputs": [],
      "source": [
        "scaler = MinMaxScaler(feature_range=(0, 1))\n",
        "despesas_scaled = scaler.fit_transform(mmm_marinha.totais_balanco_paiol_despesa.values.reshape(-1, 1))\n",
        "\n",
        "def create_sequences(data, window=12):\n",
        "    X, y = [], []\n",
        "    for i in range(len(data)- window):\n",
        "        X.append(data[i:i+window])\n",
        "        y.append(data[i+window])\n",
        "    return np.array(X), np.array(y)\n",
        "\n",
        "X, y = create_sequences(despesas_scaled)\n",
        "\n",
        "\n",
        "split = len(X) - 12\n",
        "X_train, X_test = X[:split], X[split:]\n",
        "y_train, y_test = y[:split], y[split:]\n",
        "print('Shape treino:', X_train.shape, y_train.shape)"
      ]
    },
    {
      "cell_type": "code",
      "execution_count": null,
      "id": "dd4973a6",
      "metadata": {
        "id": "dd4973a6"
      },
      "outputs": [],
      "source": [
        "model = Sequential()\n",
        "model.add(LSTM(64, activation='tanh', return_sequences=True, input_shape=(12, 1)))\n",
        "model.add(Dropout(0.2))\n",
        "model.add(LSTM(32, activation='tanh'))\n",
        "model.add(Dense(1))\n",
        "\n",
        "model.compile(optimizer='adam', loss='mae')\n",
        "\n",
        "history = model.fit(\n",
        "    X_train, y_train,\n",
        "    epochs = 200,\n",
        "    batch_size = 4,\n",
        "    validation_split = 0.1,\n",
        "    verbose = 1\n",
        ")"
      ]
    },
    {
      "cell_type": "code",
      "execution_count": null,
      "id": "8ab14322",
      "metadata": {
        "id": "8ab14322"
      },
      "outputs": [],
      "source": [
        "y_pred = model.predict(X_test)\n",
        "\n",
        "y_test_inv = scaler.inverse_transform(y_test.reshape(-1, 1))\n",
        "y_pred_inv = scaler.inverse_transform(y_pred)\n",
        "\n",
        "mae_lstm = mean_absolute_error(y_test_inv, y_pred_inv)\n",
        "print('LSTM MAE:', mae_lstm)"
      ]
    },
    {
      "cell_type": "code",
      "execution_count": null,
      "id": "bfc0090f",
      "metadata": {
        "id": "bfc0090f"
      },
      "outputs": [],
      "source": [
        "fig = grafico_base('Previsão temporal com o algoritmo LSTM')\n",
        "\n",
        "fig.add_trace(\n",
        "    go.Scatter(\n",
        "        x = test.mes,\n",
        "        y = y_pred_inv.reshape(1, -1)[0]\n",
        "    )\n",
        ")\n",
        "\n",
        "fig.update_traces(mode='lines+markers', line=dict(width=2))\n",
        "fig.update_xaxes(tickangle=45)\n",
        "fig.update_layout(\n",
        "    template='plotly_white',\n",
        "    hovermode='x unified'\n",
        "    )\n",
        "\n",
        "fig.show()"
      ]
    },
    {
      "cell_type": "code",
      "execution_count": null,
      "id": "bdf8a44c",
      "metadata": {
        "id": "bdf8a44c"
      },
      "outputs": [],
      "source": [
        "def create_sequences_multistep(data, window=12, horizon=12):\n",
        "    X, y = [], []\n",
        "    for i in range(len(data) - window - horizon + 1):\n",
        "        X.append(data[i:i+window])\n",
        "        y.append(data[i+window:i+window+horizon].flatten())\n",
        "    return np.array(X), np.array(y)\n",
        "\n",
        "window = 12\n",
        "horizon = 12\n",
        "X, y = create_sequences_multistep(despesas_scaled, window, horizon)\n",
        "\n",
        "split = int(len(X) * 0.8)\n",
        "X_train, X_test = X[:split], X[split:]\n",
        "y_train, y_test = y[:split], y[split:]\n",
        "print('X_train shape:', X_train.shape)\n",
        "print('y_train, shape:', y_train.shape)"
      ]
    },
    {
      "cell_type": "code",
      "execution_count": null,
      "id": "0d401850",
      "metadata": {
        "id": "0d401850"
      },
      "outputs": [],
      "source": [
        "model = Sequential()\n",
        "model.add(LSTM(64, activation=\"tanh\", return_sequences=True, input_shape=(window, 1)))\n",
        "model.add(Dropout(0.2))\n",
        "model.add(LSTM(32, activation=\"tanh\"))\n",
        "model.add(Dense(horizon))  # saída com 12 valores (multi-step)\n",
        "\n",
        "model.compile(optimizer=\"adam\", loss=\"mse\")\n",
        "\n",
        "history = model.fit(\n",
        "    X_train, y_train,\n",
        "    epochs=300,\n",
        "    batch_size=4,\n",
        "    validation_split=0.1,\n",
        "    verbose=1\n",
        ")"
      ]
    },
    {
      "cell_type": "code",
      "execution_count": null,
      "id": "07ef65ad",
      "metadata": {
        "id": "07ef65ad"
      },
      "outputs": [],
      "source": [
        "y_pred = model.predict(X_test)\n",
        "\n",
        "y_test_inv = scaler.inverse_transform(y_test)\n",
        "y_pred_inv = scaler.inverse_transform(y_pred)\n",
        "\n",
        "mae_lstm_multi = mean_absolute_error(y_test_inv.flatten(), y_pred_inv.flatten())\n",
        "print('LSTM Multi-step MAE:', mae_lstm_multi)"
      ]
    },
    {
      "cell_type": "code",
      "execution_count": null,
      "id": "e8cc75f2",
      "metadata": {
        "id": "e8cc75f2"
      },
      "outputs": [],
      "source": [
        "last_input_dates = pd.to_datetime(mmm_marinha.mes, format='%m_%Y').iloc[-(window + horizon):-horizon]\n",
        "future_dates = pd.date_range(start = pd.to_datetime(mmm_marinha.mes, format='%m_%Y').iloc[-horizon], periods=horizon, freq='M')"
      ]
    },
    {
      "cell_type": "code",
      "execution_count": null,
      "id": "5a3ae83a",
      "metadata": {
        "id": "5a3ae83a"
      },
      "outputs": [],
      "source": [
        "fig = grafico_base('Previsão temporal com o algoritmo LSTM Multi-step')\n",
        "\n",
        "fig.add_trace(\n",
        "    go.Scatter(\n",
        "        x = test.mes,\n",
        "        y = y_pred_inv.flatten()\n",
        "    )\n",
        ")\n",
        "\n",
        "fig.update_traces(mode='lines+markers', line=dict(width=2))\n",
        "fig.update_xaxes(tickangle=45)\n",
        "fig.update_layout(\n",
        "    template='plotly_white',\n",
        "    hovermode='x unified'\n",
        "    )\n",
        "\n",
        "fig.show()"
      ]
    },
    {
      "cell_type": "code",
      "source": [
        "teste = ['A', 'B', 'C']"
      ],
      "metadata": {
        "id": "EQR7bVNC8Kd9"
      },
      "id": "EQR7bVNC8Kd9",
      "execution_count": null,
      "outputs": []
    },
    {
      "cell_type": "code",
      "execution_count": null,
      "id": "0b707537",
      "metadata": {
        "id": "0b707537"
      },
      "outputs": [],
      "source": [
        "model = 'LSTM' #@param [\"SARIMAX\", \"prophet\", \"XGBoost\", \"ExponentialSmothing\", \"LSTM\"]\n",
        "test = 'A' #@param\n",
        "\n",
        "print(f\"Selected model: {modelo}\")\n",
        "print(f'Selected test : {test}')"
      ]
    },
    {
      "cell_type": "code",
      "source": [
        "mmm['mes_ano'] = mmm.mes.astype(str) + '_' + mmm.ano.astype(str)"
      ],
      "metadata": {
        "id": "URYpemAFF6vY"
      },
      "id": "URYpemAFF6vY",
      "execution_count": null,
      "outputs": []
    },
    {
      "cell_type": "code",
      "source": [
        "!playwright install chromium"
      ],
      "metadata": {
        "id": "FZtznRiJp8hX",
        "outputId": "5d3b88e6-14f7-4bba-8e99-d24bc1d81802",
        "colab": {
          "base_uri": "https://localhost:8080/"
        }
      },
      "id": "FZtznRiJp8hX",
      "execution_count": 265,
      "outputs": [
        {
          "output_type": "stream",
          "name": "stdout",
          "text": [
            "Downloading Chromium 140.0.7339.16 (playwright build v1187)\u001b[2m from https://cdn.playwright.dev/dbazure/download/playwright/builds/chromium/1187/chromium-linux.zip\u001b[22m\n",
            "\u001b[1G173.7 MiB [] 0% 132.2s\u001b[0K\u001b[1G173.7 MiB [] 0% 53.5s\u001b[0K\u001b[1G173.7 MiB [] 0% 37.1s\u001b[0K\u001b[1G173.7 MiB [] 0% 23.8s\u001b[0K\u001b[1G173.7 MiB [] 0% 13.6s\u001b[0K\u001b[1G173.7 MiB [] 0% 10.4s\u001b[0K\u001b[1G173.7 MiB [] 1% 8.6s\u001b[0K\u001b[1G173.7 MiB [] 1% 7.8s\u001b[0K\u001b[1G173.7 MiB [] 1% 7.1s\u001b[0K\u001b[1G173.7 MiB [] 2% 6.8s\u001b[0K\u001b[1G173.7 MiB [] 2% 6.1s\u001b[0K\u001b[1G173.7 MiB [] 3% 6.2s\u001b[0K\u001b[1G173.7 MiB [] 3% 6.4s\u001b[0K\u001b[1G173.7 MiB [] 3% 6.6s\u001b[0K\u001b[1G173.7 MiB [] 4% 6.9s\u001b[0K\u001b[1G173.7 MiB [] 4% 7.1s\u001b[0K\u001b[1G173.7 MiB [] 4% 7.3s\u001b[0K\u001b[1G173.7 MiB [] 4% 7.5s\u001b[0K\u001b[1G173.7 MiB [] 4% 7.6s\u001b[0K\u001b[1G173.7 MiB [] 4% 7.8s\u001b[0K\u001b[1G173.7 MiB [] 4% 8.0s\u001b[0K\u001b[1G173.7 MiB [] 4% 8.3s\u001b[0K\u001b[1G173.7 MiB [] 5% 8.3s\u001b[0K\u001b[1G173.7 MiB [] 5% 8.2s\u001b[0K\u001b[1G173.7 MiB [] 5% 8.3s\u001b[0K\u001b[1G173.7 MiB [] 6% 8.3s\u001b[0K\u001b[1G173.7 MiB [] 6% 8.2s\u001b[0K\u001b[1G173.7 MiB [] 6% 8.1s\u001b[0K\u001b[1G173.7 MiB [] 6% 8.0s\u001b[0K\u001b[1G173.7 MiB [] 7% 7.7s\u001b[0K\u001b[1G173.7 MiB [] 7% 7.5s\u001b[0K\u001b[1G173.7 MiB [] 8% 7.2s\u001b[0K\u001b[1G173.7 MiB [] 8% 7.4s\u001b[0K\u001b[1G173.7 MiB [] 8% 7.2s\u001b[0K\u001b[1G173.7 MiB [] 8% 7.3s\u001b[0K\u001b[1G173.7 MiB [] 9% 7.1s\u001b[0K\u001b[1G173.7 MiB [] 10% 6.8s\u001b[0K\u001b[1G173.7 MiB [] 10% 6.6s\u001b[0K\u001b[1G173.7 MiB [] 11% 6.3s\u001b[0K\u001b[1G173.7 MiB [] 11% 6.0s\u001b[0K\u001b[1G173.7 MiB [] 12% 5.8s\u001b[0K\u001b[1G173.7 MiB [] 13% 5.7s\u001b[0K\u001b[1G173.7 MiB [] 13% 7.7s\u001b[0K\u001b[1G173.7 MiB [] 14% 7.6s\u001b[0K\u001b[1G173.7 MiB [] 14% 7.4s\u001b[0K\u001b[1G173.7 MiB [] 15% 7.3s\u001b[0K\u001b[1G173.7 MiB [] 15% 7.4s\u001b[0K\u001b[1G173.7 MiB [] 15% 7.3s\u001b[0K\u001b[1G173.7 MiB [] 15% 7.4s\u001b[0K\u001b[1G173.7 MiB [] 16% 7.3s\u001b[0K\u001b[1G173.7 MiB [] 16% 7.4s\u001b[0K\u001b[1G173.7 MiB [] 16% 7.3s\u001b[0K\u001b[1G173.7 MiB [] 17% 7.2s\u001b[0K\u001b[1G173.7 MiB [] 17% 7.1s\u001b[0K\u001b[1G173.7 MiB [] 18% 7.0s\u001b[0K\u001b[1G173.7 MiB [] 18% 7.1s\u001b[0K\u001b[1G173.7 MiB [] 18% 6.9s\u001b[0K\u001b[1G173.7 MiB [] 18% 6.8s\u001b[0K\u001b[1G173.7 MiB [] 19% 6.7s\u001b[0K\u001b[1G173.7 MiB [] 19% 6.6s\u001b[0K\u001b[1G173.7 MiB [] 20% 6.5s\u001b[0K\u001b[1G173.7 MiB [] 20% 6.4s\u001b[0K\u001b[1G173.7 MiB [] 21% 6.4s\u001b[0K\u001b[1G173.7 MiB [] 21% 6.2s\u001b[0K\u001b[1G173.7 MiB [] 22% 6.1s\u001b[0K\u001b[1G173.7 MiB [] 22% 6.0s\u001b[0K\u001b[1G173.7 MiB [] 23% 6.0s\u001b[0K\u001b[1G173.7 MiB [] 23% 5.9s\u001b[0K\u001b[1G173.7 MiB [] 24% 5.8s\u001b[0K\u001b[1G173.7 MiB [] 25% 5.8s\u001b[0K\u001b[1G173.7 MiB [] 25% 5.7s\u001b[0K\u001b[1G173.7 MiB [] 26% 5.7s\u001b[0K\u001b[1G173.7 MiB [] 26% 5.6s\u001b[0K\u001b[1G173.7 MiB [] 27% 5.6s\u001b[0K\u001b[1G173.7 MiB [] 27% 5.5s\u001b[0K\u001b[1G173.7 MiB [] 28% 5.5s\u001b[0K\u001b[1G173.7 MiB [] 28% 5.4s\u001b[0K\u001b[1G173.7 MiB [] 29% 5.3s\u001b[0K\u001b[1G173.7 MiB [] 30% 5.1s\u001b[0K\u001b[1G173.7 MiB [] 30% 5.0s\u001b[0K\u001b[1G173.7 MiB [] 31% 4.9s\u001b[0K\u001b[1G173.7 MiB [] 31% 4.8s\u001b[0K\u001b[1G173.7 MiB [] 32% 4.8s\u001b[0K\u001b[1G173.7 MiB [] 33% 4.6s\u001b[0K\u001b[1G173.7 MiB [] 33% 4.7s\u001b[0K\u001b[1G173.7 MiB [] 33% 4.6s\u001b[0K\u001b[1G173.7 MiB [] 34% 4.5s\u001b[0K\u001b[1G173.7 MiB [] 35% 4.3s\u001b[0K\u001b[1G173.7 MiB [] 36% 4.3s\u001b[0K\u001b[1G173.7 MiB [] 36% 4.2s\u001b[0K\u001b[1G173.7 MiB [] 37% 4.2s\u001b[0K\u001b[1G173.7 MiB [] 38% 4.0s\u001b[0K\u001b[1G173.7 MiB [] 39% 3.9s\u001b[0K\u001b[1G173.7 MiB [] 40% 3.9s\u001b[0K\u001b[1G173.7 MiB [] 40% 3.8s\u001b[0K\u001b[1G173.7 MiB [] 41% 3.8s\u001b[0K\u001b[1G173.7 MiB [] 41% 3.7s\u001b[0K\u001b[1G173.7 MiB [] 42% 3.7s\u001b[0K\u001b[1G173.7 MiB [] 42% 3.6s\u001b[0K\u001b[1G173.7 MiB [] 43% 3.6s\u001b[0K\u001b[1G173.7 MiB [] 44% 3.5s\u001b[0K\u001b[1G173.7 MiB [] 44% 3.4s\u001b[0K\u001b[1G173.7 MiB [] 45% 3.3s\u001b[0K\u001b[1G173.7 MiB [] 46% 3.3s\u001b[0K\u001b[1G173.7 MiB [] 46% 3.2s\u001b[0K\u001b[1G173.7 MiB [] 47% 3.2s\u001b[0K\u001b[1G173.7 MiB [] 48% 3.1s\u001b[0K\u001b[1G173.7 MiB [] 48% 3.0s\u001b[0K\u001b[1G173.7 MiB [] 49% 3.0s\u001b[0K\u001b[1G173.7 MiB [] 49% 2.9s\u001b[0K\u001b[1G173.7 MiB [] 50% 2.9s\u001b[0K\u001b[1G173.7 MiB [] 51% 2.8s\u001b[0K\u001b[1G173.7 MiB [] 52% 2.8s\u001b[0K\u001b[1G173.7 MiB [] 52% 2.7s\u001b[0K\u001b[1G173.7 MiB [] 53% 2.7s\u001b[0K\u001b[1G173.7 MiB [] 54% 2.6s\u001b[0K\u001b[1G173.7 MiB [] 55% 2.6s\u001b[0K\u001b[1G173.7 MiB [] 55% 2.5s\u001b[0K\u001b[1G173.7 MiB [] 56% 2.4s\u001b[0K\u001b[1G173.7 MiB [] 57% 2.4s\u001b[0K\u001b[1G173.7 MiB [] 57% 2.3s\u001b[0K\u001b[1G173.7 MiB [] 58% 2.3s\u001b[0K\u001b[1G173.7 MiB [] 59% 2.2s\u001b[0K\u001b[1G173.7 MiB [] 60% 2.2s\u001b[0K\u001b[1G173.7 MiB [] 61% 2.1s\u001b[0K\u001b[1G173.7 MiB [] 62% 2.0s\u001b[0K\u001b[1G173.7 MiB [] 63% 2.0s\u001b[0K\u001b[1G173.7 MiB [] 63% 1.9s\u001b[0K\u001b[1G173.7 MiB [] 64% 1.9s\u001b[0K\u001b[1G173.7 MiB [] 65% 1.8s\u001b[0K\u001b[1G173.7 MiB [] 66% 1.8s\u001b[0K\u001b[1G173.7 MiB [] 67% 1.7s\u001b[0K\u001b[1G173.7 MiB [] 68% 1.6s\u001b[0K\u001b[1G173.7 MiB [] 69% 1.6s\u001b[0K\u001b[1G173.7 MiB [] 70% 1.5s\u001b[0K\u001b[1G173.7 MiB [] 71% 1.5s\u001b[0K\u001b[1G173.7 MiB [] 71% 1.4s\u001b[0K\u001b[1G173.7 MiB [] 72% 1.4s\u001b[0K\u001b[1G173.7 MiB [] 73% 1.4s\u001b[0K\u001b[1G173.7 MiB [] 73% 1.3s\u001b[0K\u001b[1G173.7 MiB [] 74% 1.3s\u001b[0K\u001b[1G173.7 MiB [] 75% 1.3s\u001b[0K\u001b[1G173.7 MiB [] 75% 1.2s\u001b[0K\u001b[1G173.7 MiB [] 76% 1.2s\u001b[0K\u001b[1G173.7 MiB [] 77% 1.1s\u001b[0K\u001b[1G173.7 MiB [] 78% 1.1s\u001b[0K\u001b[1G173.7 MiB [] 79% 1.0s\u001b[0K\u001b[1G173.7 MiB [] 80% 1.0s\u001b[0K\u001b[1G173.7 MiB [] 81% 0.9s\u001b[0K\u001b[1G173.7 MiB [] 82% 0.9s\u001b[0K\u001b[1G173.7 MiB [] 83% 0.8s\u001b[0K\u001b[1G173.7 MiB [] 84% 0.8s\u001b[0K\u001b[1G173.7 MiB [] 85% 0.7s\u001b[0K\u001b[1G173.7 MiB [] 86% 0.7s\u001b[0K\u001b[1G173.7 MiB [] 87% 0.6s\u001b[0K\u001b[1G173.7 MiB [] 88% 0.6s\u001b[0K\u001b[1G173.7 MiB [] 89% 0.5s\u001b[0K\u001b[1G173.7 MiB [] 90% 0.5s\u001b[0K\u001b[1G173.7 MiB [] 91% 0.4s\u001b[0K\u001b[1G173.7 MiB [] 92% 0.4s\u001b[0K\u001b[1G173.7 MiB [] 92% 0.3s\u001b[0K\u001b[1G173.7 MiB [] 93% 0.3s\u001b[0K\u001b[1G173.7 MiB [] 94% 0.3s\u001b[0K\u001b[1G173.7 MiB [] 95% 0.2s\u001b[0K\u001b[1G173.7 MiB [] 96% 0.2s\u001b[0K\u001b[1G173.7 MiB [] 97% 0.1s\u001b[0K\u001b[1G173.7 MiB [] 98% 0.1s\u001b[0K\u001b[1G173.7 MiB [] 99% 0.0s\u001b[0K\u001b[1G173.7 MiB [] 100% 0.0s\u001b[0K\n",
            "Chromium 140.0.7339.16 (playwright build v1187) downloaded to /root/.cache/ms-playwright/chromium-1187\n",
            "Downloading FFMPEG playwright build v1011\u001b[2m from https://cdn.playwright.dev/dbazure/download/playwright/builds/ffmpeg/1011/ffmpeg-linux.zip\u001b[22m\n",
            "\u001b[1G2.3 MiB [] 0% 0.0s\u001b[0K\u001b[1G2.3 MiB [] 0% 4.2s\u001b[0K\u001b[1G2.3 MiB [] 4% 1.0s\u001b[0K\u001b[1G2.3 MiB [] 9% 0.6s\u001b[0K\u001b[1G2.3 MiB [] 24% 0.2s\u001b[0K\u001b[1G2.3 MiB [] 28% 0.2s\u001b[0K\u001b[1G2.3 MiB [] 41% 0.1s\u001b[0K\u001b[1G2.3 MiB [] 59% 0.1s\u001b[0K\u001b[1G2.3 MiB [] 79% 0.0s\u001b[0K\u001b[1G2.3 MiB [] 96% 0.0s\u001b[0K\u001b[1G2.3 MiB [] 100% 0.0s\u001b[0K\n",
            "FFMPEG playwright build v1011 downloaded to /root/.cache/ms-playwright/ffmpeg-1011\n",
            "Downloading Chromium Headless Shell 140.0.7339.16 (playwright build v1187)\u001b[2m from https://cdn.playwright.dev/dbazure/download/playwright/builds/chromium/1187/chromium-headless-shell-linux.zip\u001b[22m\n",
            "\u001b[1G104.3 MiB [] 0% 0.0s\u001b[0K\u001b[1G104.3 MiB [] 0% 44.1s\u001b[0K\u001b[1G104.3 MiB [] 0% 14.5s\u001b[0K\u001b[1G104.3 MiB [] 0% 7.4s\u001b[0K\u001b[1G104.3 MiB [] 1% 4.5s\u001b[0K\u001b[1G104.3 MiB [] 2% 3.6s\u001b[0K\u001b[1G104.3 MiB [] 3% 2.9s\u001b[0K\u001b[1G104.3 MiB [] 4% 2.7s\u001b[0K\u001b[1G104.3 MiB [] 5% 2.5s\u001b[0K\u001b[1G104.3 MiB [] 7% 2.0s\u001b[0K\u001b[1G104.3 MiB [] 8% 1.9s\u001b[0K\u001b[1G104.3 MiB [] 9% 2.1s\u001b[0K\u001b[1G104.3 MiB [] 9% 2.2s\u001b[0K\u001b[1G104.3 MiB [] 9% 2.3s\u001b[0K\u001b[1G104.3 MiB [] 10% 2.3s\u001b[0K\u001b[1G104.3 MiB [] 10% 2.4s\u001b[0K\u001b[1G104.3 MiB [] 11% 2.4s\u001b[0K\u001b[1G104.3 MiB [] 12% 2.2s\u001b[0K\u001b[1G104.3 MiB [] 13% 2.1s\u001b[0K\u001b[1G104.3 MiB [] 14% 2.0s\u001b[0K\u001b[1G104.3 MiB [] 15% 2.0s\u001b[0K\u001b[1G104.3 MiB [] 16% 1.9s\u001b[0K\u001b[1G104.3 MiB [] 16% 2.0s\u001b[0K\u001b[1G104.3 MiB [] 16% 2.1s\u001b[0K\u001b[1G104.3 MiB [] 17% 2.1s\u001b[0K\u001b[1G104.3 MiB [] 18% 2.0s\u001b[0K\u001b[1G104.3 MiB [] 20% 1.8s\u001b[0K\u001b[1G104.3 MiB [] 21% 1.8s\u001b[0K\u001b[1G104.3 MiB [] 22% 1.7s\u001b[0K\u001b[1G104.3 MiB [] 24% 1.6s\u001b[0K\u001b[1G104.3 MiB [] 25% 1.5s\u001b[0K\u001b[1G104.3 MiB [] 26% 1.5s\u001b[0K\u001b[1G104.3 MiB [] 28% 1.5s\u001b[0K\u001b[1G104.3 MiB [] 28% 1.6s\u001b[0K\u001b[1G104.3 MiB [] 28% 1.7s\u001b[0K\u001b[1G104.3 MiB [] 29% 1.6s\u001b[0K\u001b[1G104.3 MiB [] 30% 1.6s\u001b[0K\u001b[1G104.3 MiB [] 31% 1.6s\u001b[0K\u001b[1G104.3 MiB [] 33% 1.5s\u001b[0K\u001b[1G104.3 MiB [] 34% 1.5s\u001b[0K\u001b[1G104.3 MiB [] 35% 1.4s\u001b[0K\u001b[1G104.3 MiB [] 36% 1.4s\u001b[0K\u001b[1G104.3 MiB [] 38% 1.3s\u001b[0K\u001b[1G104.3 MiB [] 39% 1.3s\u001b[0K\u001b[1G104.3 MiB [] 40% 1.3s\u001b[0K\u001b[1G104.3 MiB [] 42% 1.2s\u001b[0K\u001b[1G104.3 MiB [] 43% 1.2s\u001b[0K\u001b[1G104.3 MiB [] 45% 1.1s\u001b[0K\u001b[1G104.3 MiB [] 47% 1.1s\u001b[0K\u001b[1G104.3 MiB [] 49% 1.0s\u001b[0K\u001b[1G104.3 MiB [] 50% 1.0s\u001b[0K\u001b[1G104.3 MiB [] 53% 0.9s\u001b[0K\u001b[1G104.3 MiB [] 55% 0.8s\u001b[0K\u001b[1G104.3 MiB [] 57% 0.8s\u001b[0K\u001b[1G104.3 MiB [] 59% 0.7s\u001b[0K\u001b[1G104.3 MiB [] 60% 0.7s\u001b[0K\u001b[1G104.3 MiB [] 62% 0.6s\u001b[0K\u001b[1G104.3 MiB [] 64% 0.6s\u001b[0K\u001b[1G104.3 MiB [] 66% 0.6s\u001b[0K\u001b[1G104.3 MiB [] 68% 0.5s\u001b[0K\u001b[1G104.3 MiB [] 69% 0.5s\u001b[0K\u001b[1G104.3 MiB [] 71% 0.5s\u001b[0K\u001b[1G104.3 MiB [] 73% 0.4s\u001b[0K\u001b[1G104.3 MiB [] 75% 0.4s\u001b[0K\u001b[1G104.3 MiB [] 77% 0.4s\u001b[0K\u001b[1G104.3 MiB [] 78% 0.3s\u001b[0K\u001b[1G104.3 MiB [] 79% 0.3s\u001b[0K\u001b[1G104.3 MiB [] 80% 0.3s\u001b[0K\u001b[1G104.3 MiB [] 81% 0.3s\u001b[0K\u001b[1G104.3 MiB [] 82% 0.3s\u001b[0K\u001b[1G104.3 MiB [] 83% 0.3s\u001b[0K\u001b[1G104.3 MiB [] 85% 0.2s\u001b[0K\u001b[1G104.3 MiB [] 86% 0.2s\u001b[0K\u001b[1G104.3 MiB [] 87% 0.2s\u001b[0K\u001b[1G104.3 MiB [] 89% 0.2s\u001b[0K\u001b[1G104.3 MiB [] 90% 0.2s\u001b[0K\u001b[1G104.3 MiB [] 91% 0.1s\u001b[0K\u001b[1G104.3 MiB [] 92% 0.1s\u001b[0K\u001b[1G104.3 MiB [] 93% 0.1s\u001b[0K\u001b[1G104.3 MiB [] 95% 0.1s\u001b[0K\u001b[1G104.3 MiB [] 96% 0.1s\u001b[0K\u001b[1G104.3 MiB [] 97% 0.0s\u001b[0K\u001b[1G104.3 MiB [] 98% 0.0s\u001b[0K\u001b[1G104.3 MiB [] 99% 0.0s\u001b[0K\u001b[1G104.3 MiB [] 100% 0.0s\u001b[0K\n",
            "Chromium Headless Shell 140.0.7339.16 (playwright build v1187) downloaded to /root/.cache/ms-playwright/chromium_headless_shell-1187\n"
          ]
        }
      ]
    },
    {
      "cell_type": "code",
      "source": [
        "from playwright.async_api import async_playwright\n",
        "import time"
      ],
      "metadata": {
        "id": "1rHdcvRhp1ke"
      },
      "id": "1rHdcvRhp1ke",
      "execution_count": 268,
      "outputs": []
    },
    {
      "cell_type": "code",
      "source": [
        "with async_playwright() as p:\n",
        "    browser = p.chromium.launch(headless=False)\n",
        "    page = browser.new_page()\n",
        "\n",
        "    page.goto('https://www.maps.google.com')\n",
        "\n",
        "    page.locator('xpath=/html/body/div[1]/div[3]/div[9]/div[3]/div[1]/div[1]/div/div[2]/form/input').fill('Avenida Rio Branco 1, Rio de Janeiro')\n",
        "    page.keyboard.press('Enter')\n",
        "    time.sleep(1)\n",
        "    print(page.url())"
      ],
      "metadata": {
        "id": "wxtf-inHqCdg",
        "outputId": "595a70f7-784a-450d-aa74-9338e20c696c",
        "colab": {
          "base_uri": "https://localhost:8080/",
          "height": 211
        }
      },
      "id": "wxtf-inHqCdg",
      "execution_count": 269,
      "outputs": [
        {
          "output_type": "error",
          "ename": "TypeError",
          "evalue": "'PlaywrightContextManager' object does not support the context manager protocol",
          "traceback": [
            "\u001b[0;31m---------------------------------------------------------------------------\u001b[0m",
            "\u001b[0;31mTypeError\u001b[0m                                 Traceback (most recent call last)",
            "\u001b[0;32m/tmp/ipython-input-2792007504.py\u001b[0m in \u001b[0;36m<cell line: 0>\u001b[0;34m()\u001b[0m\n\u001b[0;32m----> 1\u001b[0;31m \u001b[0;32mwith\u001b[0m \u001b[0masync_playwright\u001b[0m\u001b[0;34m(\u001b[0m\u001b[0;34m)\u001b[0m \u001b[0;32mas\u001b[0m \u001b[0mp\u001b[0m\u001b[0;34m:\u001b[0m\u001b[0;34m\u001b[0m\u001b[0;34m\u001b[0m\u001b[0m\n\u001b[0m\u001b[1;32m      2\u001b[0m     \u001b[0mbrowser\u001b[0m \u001b[0;34m=\u001b[0m \u001b[0mp\u001b[0m\u001b[0;34m.\u001b[0m\u001b[0mchromium\u001b[0m\u001b[0;34m.\u001b[0m\u001b[0mlaunch\u001b[0m\u001b[0;34m(\u001b[0m\u001b[0mheadless\u001b[0m\u001b[0;34m=\u001b[0m\u001b[0;32mFalse\u001b[0m\u001b[0;34m)\u001b[0m\u001b[0;34m\u001b[0m\u001b[0;34m\u001b[0m\u001b[0m\n\u001b[1;32m      3\u001b[0m     \u001b[0mpage\u001b[0m \u001b[0;34m=\u001b[0m \u001b[0mbrowser\u001b[0m\u001b[0;34m.\u001b[0m\u001b[0mnew_page\u001b[0m\u001b[0;34m(\u001b[0m\u001b[0;34m)\u001b[0m\u001b[0;34m\u001b[0m\u001b[0;34m\u001b[0m\u001b[0m\n\u001b[1;32m      4\u001b[0m \u001b[0;34m\u001b[0m\u001b[0m\n\u001b[1;32m      5\u001b[0m     \u001b[0mpage\u001b[0m\u001b[0;34m.\u001b[0m\u001b[0mgoto\u001b[0m\u001b[0;34m(\u001b[0m\u001b[0;34m'https://www.maps.google.com'\u001b[0m\u001b[0;34m)\u001b[0m\u001b[0;34m\u001b[0m\u001b[0;34m\u001b[0m\u001b[0m\n",
            "\u001b[0;31mTypeError\u001b[0m: 'PlaywrightContextManager' object does not support the context manager protocol"
          ]
        }
      ]
    },
    {
      "cell_type": "code",
      "source": [
        "from playwright.async_api import async_playwright\n",
        "import asyncio\n",
        "\n",
        "async def get_latlong(endereco):\n",
        "  async with async_playwright() as p:\n",
        "    browser = await p.chromium.launch()\n",
        "    page = await browser.new_page()\n",
        "    await page.goto('https://www.google.com/maps')\n",
        "\n",
        "    await page.locator('#searchboxinput').fill('Avenida Rio Branco 1, Rio de Janeiro')\n",
        "    await page.keyboard.press('Enter')\n",
        "    await page.wait_for_timeout(5000)\n",
        "    time.sleep(1)\n",
        "    return page.url.split('@')[1].split(',')[:2]"
      ],
      "metadata": {
        "id": "KWhXPmg5q9Mp"
      },
      "id": "KWhXPmg5q9Mp",
      "execution_count": 286,
      "outputs": []
    },
    {
      "cell_type": "code",
      "source": [
        "enderecos = {}\n",
        "\n",
        "for endereco in om_info.ENDERECO.unique():\n",
        "  enderecos[endereco] = await get_latlong(endereco)"
      ],
      "metadata": {
        "id": "89NmXOr0uipJ",
        "outputId": "3c985d27-832a-4f84-e5ac-cb5ff01a3936",
        "colab": {
          "base_uri": "https://localhost:8080/",
          "height": 263
        }
      },
      "id": "89NmXOr0uipJ",
      "execution_count": 289,
      "outputs": [
        {
          "output_type": "error",
          "ename": "IndexError",
          "evalue": "list index out of range",
          "traceback": [
            "\u001b[0;31m---------------------------------------------------------------------------\u001b[0m",
            "\u001b[0;31mIndexError\u001b[0m                                Traceback (most recent call last)",
            "\u001b[0;32m/tmp/ipython-input-3849029214.py\u001b[0m in \u001b[0;36m<cell line: 1>\u001b[0;34m()\u001b[0m\n\u001b[1;32m      2\u001b[0m \u001b[0;34m\u001b[0m\u001b[0m\n\u001b[1;32m      3\u001b[0m \u001b[0;32mfor\u001b[0m \u001b[0mendereco\u001b[0m \u001b[0;32min\u001b[0m \u001b[0mom_info\u001b[0m\u001b[0;34m.\u001b[0m\u001b[0mENDERECO\u001b[0m\u001b[0;34m.\u001b[0m\u001b[0munique\u001b[0m\u001b[0;34m(\u001b[0m\u001b[0;34m)\u001b[0m\u001b[0;34m:\u001b[0m\u001b[0;34m\u001b[0m\u001b[0;34m\u001b[0m\u001b[0m\n\u001b[0;32m----> 4\u001b[0;31m   \u001b[0menderecos\u001b[0m\u001b[0;34m[\u001b[0m\u001b[0mendereco\u001b[0m\u001b[0;34m]\u001b[0m \u001b[0;34m=\u001b[0m \u001b[0;32mawait\u001b[0m \u001b[0mget_latlong\u001b[0m\u001b[0;34m(\u001b[0m\u001b[0mendereco\u001b[0m\u001b[0;34m)\u001b[0m\u001b[0;34m\u001b[0m\u001b[0;34m\u001b[0m\u001b[0m\n\u001b[0m",
            "\u001b[0;32m/tmp/ipython-input-258977039.py\u001b[0m in \u001b[0;36mget_latlong\u001b[0;34m(endereco)\u001b[0m\n\u001b[1;32m     12\u001b[0m     \u001b[0;32mawait\u001b[0m \u001b[0mpage\u001b[0m\u001b[0;34m.\u001b[0m\u001b[0mwait_for_timeout\u001b[0m\u001b[0;34m(\u001b[0m\u001b[0;36m5000\u001b[0m\u001b[0;34m)\u001b[0m\u001b[0;34m\u001b[0m\u001b[0;34m\u001b[0m\u001b[0m\n\u001b[1;32m     13\u001b[0m     \u001b[0mtime\u001b[0m\u001b[0;34m.\u001b[0m\u001b[0msleep\u001b[0m\u001b[0;34m(\u001b[0m\u001b[0;36m1\u001b[0m\u001b[0;34m)\u001b[0m\u001b[0;34m\u001b[0m\u001b[0;34m\u001b[0m\u001b[0m\n\u001b[0;32m---> 14\u001b[0;31m     \u001b[0;32mreturn\u001b[0m \u001b[0mpage\u001b[0m\u001b[0;34m.\u001b[0m\u001b[0murl\u001b[0m\u001b[0;34m.\u001b[0m\u001b[0msplit\u001b[0m\u001b[0;34m(\u001b[0m\u001b[0;34m'@'\u001b[0m\u001b[0;34m)\u001b[0m\u001b[0;34m[\u001b[0m\u001b[0;36m1\u001b[0m\u001b[0;34m]\u001b[0m\u001b[0;34m.\u001b[0m\u001b[0msplit\u001b[0m\u001b[0;34m(\u001b[0m\u001b[0;34m','\u001b[0m\u001b[0;34m)\u001b[0m\u001b[0;34m[\u001b[0m\u001b[0;34m:\u001b[0m\u001b[0;36m2\u001b[0m\u001b[0;34m]\u001b[0m\u001b[0;34m\u001b[0m\u001b[0;34m\u001b[0m\u001b[0m\n\u001b[0m",
            "\u001b[0;31mIndexError\u001b[0m: list index out of range"
          ]
        }
      ]
    },
    {
      "cell_type": "code",
      "source": [
        "enderecos"
      ],
      "metadata": {
        "id": "RrnbvulauyGU"
      },
      "id": "RrnbvulauyGU",
      "execution_count": null,
      "outputs": []
    }
  ],
  "metadata": {
    "kernelspec": {
      "display_name": "mvp",
      "language": "python",
      "name": "python3"
    },
    "language_info": {
      "codemirror_mode": {
        "name": "ipython",
        "version": 3
      },
      "file_extension": ".py",
      "mimetype": "text/x-python",
      "name": "python",
      "nbconvert_exporter": "python",
      "pygments_lexer": "ipython3",
      "version": "3.12.11"
    },
    "colab": {
      "provenance": []
    }
  },
  "nbformat": 4,
  "nbformat_minor": 5
}